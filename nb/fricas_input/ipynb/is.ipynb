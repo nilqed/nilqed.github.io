{
 "cells": [
{
"cell_type" : "markdown",
"metadata" : {},
"source" : ["Copyright The Numerical Algorithms Group Limited 1991."]
}
,
{
"cell_type" : "markdown",
"metadata" : {},
"source" : ["  This is the 3n + 1 function:   f(n) = n/2    if n is even,"]
}
,
{
"cell_type" : "markdown",
"metadata" : {},
"source" : ["                                        3n + 1 otherwise"]
}
,
{
"cell_type" : "markdown",
"metadata" : {},
"source" : [""]
}
,
{
"cell_type" : "markdown",
"metadata" : {},
"source" : [" It can obviously be coded as"]
}
,
{
"cell_type" : "markdown",
"metadata" : {},
"source" : ["  f n =="]
}
,
{
"cell_type" : "markdown",
"metadata" : {},
"source" : ["    even? n => n quo 2"]
}
,
{
"cell_type" : "markdown",
"metadata" : {},
"source" : ["    3 * n + 1"]
}
,
{
"cell_type" : "markdown",
"metadata" : {},
"source" : [" but we code using the pattern matching syntax:"]
}
,
{
"cell_type" : "markdown",
"metadata" : {},
"source" : [" f n =="]
}
,
{
"cell_type" : "markdown",
"metadata" : {},
"source" : ["    n is 2*m% => m%"]
}
,
{
"cell_type" : "markdown",
"metadata" : {},
"source" : ["    3 * n + 1"]
}
,
{
"cell_type" : "markdown",
"metadata" : {},
"source" : [" The 'integer' is to return an integer instead of a polynomial"]
}
,
{
"cell_type" : "code",
"execution_count": null,
"metadata" : {
    "collapsed" : false
},
"source" : ["f n =="],
"outputs": []
}
,
{
"cell_type" : "code",
"execution_count": null,
"metadata" : {
    "collapsed" : false
},
"source" : ["   not empty?(u := Is(n, 2*m%)) => integer eval(m%, u)"],
"outputs": []
}
,
{
"cell_type" : "code",
"execution_count": null,
"metadata" : {
    "collapsed" : false
},
"source" : ["   3 * n + 1"],
"outputs": []
}
,
{
"cell_type" : "code",
"execution_count": null,
"metadata" : {
    "collapsed" : false
},
"source" : [")set stream showall on"],
"outputs": []
}
,
{
"cell_type" : "markdown",
"metadata" : {},
"source" : [" The function g generates the stream of the repeated applications of f"]
}
,
{
"cell_type" : "code",
"execution_count": null,
"metadata" : {
    "collapsed" : false
},
"source" : ["g(n:INT):STREAM(INT) == stream(f, n)"],
"outputs": []
}
,
{
"cell_type" : "markdown",
"metadata" : {},
"source" : [" There is a conjecture that g(n) gets into the cycle (1 4 2)"]
}
,
{
"cell_type" : "markdown",
"metadata" : {},
"source" : [" for every n"]
}
,
{
"cell_type" : "code",
"execution_count": null,
"metadata" : {
    "collapsed" : false
},
"source" : ["s := g 27"],
"outputs": []
}
,
{
"cell_type" : "code",
"execution_count": null,
"metadata" : {
    "collapsed" : false
},
"source" : ["extend(s, 150)"],
"outputs": []
}
,
{
"cell_type" : "code",
"execution_count": null,
"metadata" : {
    "collapsed" : false
},
"source" : [""],
"outputs": []
}
 ],
"metadata": {
 "kernelspec": {
  "display_name": "FriCAS",
  "language": "spad",
  "name": "ifricas"
 },
 "language_info": {
  "codemirror_mode": "spad",
  "mimetype": "text/x-spad",
  "name": "SPAD",
  "pygments_lexer": "spad",
  "version": "1.2.6"
 },
 "name": "is.ipynb"
},
"nbformat": 4,
"nbformat_minor": 0
}
