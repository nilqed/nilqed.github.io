{
 "cells": [
{
"cell_type" : "markdown",
"metadata" : {},
"source" : ["Copyright The Numerical Algorithms Group Limited 1994."]
}
,
{
"cell_type" : "markdown",
"metadata" : {},
"source" : [" Color gallery page 8"]
}
,
{
"cell_type" : "markdown",
"metadata" : {},
"source" : [" Sierpinsky's Tetrahedron"]
}
,
{
"cell_type" : "code",
"execution_count": null,
"metadata" : {
    "collapsed" : false
},
"source" : [")read tetra"],
"outputs": []
}
,
{
"cell_type" : "code",
"execution_count": null,
"metadata" : {
    "collapsed" : false
},
"source" : ["drawPyramid 4"],
"outputs": []
}
,
{
"cell_type" : "markdown",
"metadata" : {},
"source" : [" Antoine's Rings"]
}
,
{
"cell_type" : "code",
"execution_count": null,
"metadata" : {
    "collapsed" : false
},
"source" : [")read antoine"],
"outputs": []
}
,
{
"cell_type" : "code",
"execution_count": null,
"metadata" : {
    "collapsed" : false
},
"source" : ["drawRings 2"],
"outputs": []
}
,
{
"cell_type" : "markdown",
"metadata" : {},
"source" : [" Scherk's Minimal surface"]
}
,
{
"cell_type" : "code",
"execution_count": null,
"metadata" : {
    "collapsed" : false
},
"source" : [")read scherk"],
"outputs": []
}
,
{
"cell_type" : "code",
"execution_count": null,
"metadata" : {
    "collapsed" : false
},
"source" : ["drawScherk(3,3)"],
"outputs": []
}
,
{
"cell_type" : "markdown",
"metadata" : {},
"source" : [" Ribbon Plot of [x^i for i in 1..5]"]
}
,
{
"cell_type" : "code",
"execution_count": null,
"metadata" : {
    "collapsed" : false
},
"source" : [")read ribbons"],
"outputs": []
}
,
{
"cell_type" : "code",
"execution_count": null,
"metadata" : {
    "collapsed" : false
},
"source" : [")set message test off"],
"outputs": []
}
,
{
"cell_type" : "code",
"execution_count": null,
"metadata" : {
    "collapsed" : false
},
"source" : ["drawRibbons([x^i for i in 1..5], x=-1..1, y=0..2)"],
"outputs": []
}
,
{
"cell_type" : "code",
"execution_count": null,
"metadata" : {
    "collapsed" : false
},
"source" : [")set message test on"],
"outputs": []
}
,
{
"cell_type" : "code",
"execution_count": null,
"metadata" : {
    "collapsed" : false
},
"source" : [""],
"outputs": []
}
 ],
"metadata": {
 "kernelspec": {
  "display_name": "FriCAS",
  "language": "spad",
  "name": "ifricas"
 },
 "language_info": {
  "codemirror_mode": "spad",
  "mimetype": "text/x-spad",
  "name": "SPAD",
  "pygments_lexer": "spad",
  "version": "1.2.6"
 },
 "name": "images8.ipynb"
},
"nbformat": 4,
"nbformat_minor": 0
}
