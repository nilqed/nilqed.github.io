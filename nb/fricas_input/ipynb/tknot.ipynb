{
 "cells": [
{
"cell_type" : "markdown",
"metadata" : {},
"source" : ["Copyright The Numerical Algorithms Group Limited 1994."]
}
,
{
"cell_type" : "markdown",
"metadata" : {},
"source" : [" Create a (p,q) torus-knot with radius r around the curve."]
}
,
{
"cell_type" : "markdown",
"metadata" : {},
"source" : [" The formula was derived by Larry Lambe."]
}
,
{
"cell_type" : "markdown",
"metadata" : {},
"source" : [" To produce a trefoil knot:"]
}
,
{
"cell_type" : "markdown",
"metadata" : {},
"source" : ["   torusKnot(2, 3, 0.5, 10, 200)"]
}
,
{
"cell_type" : "markdown",
"metadata" : {},
"source" : [" compile, don't interpret functions"]
}
,
{
"cell_type" : "code",
"execution_count": null,
"metadata" : {
    "collapsed" : false
},
"source" : [")set function  compile on"],
"outputs": []
}
,
{
"cell_type" : "markdown",
"metadata" : {},
"source" : [" read in the numeric generalized tube program"]
}
,
{
"cell_type" : "code",
"execution_count": null,
"metadata" : {
    "collapsed" : false
},
"source" : [")read ntube"],
"outputs": []
}
,
{
"cell_type" : "markdown",
"metadata" : {},
"source" : [" Create a (p,q) torus-knot with radius r around the curve."]
}
,
{
"cell_type" : "markdown",
"metadata" : {},
"source" : [" The formula was derived by Larry Lambe."]
}
,
{
"cell_type" : "markdown",
"metadata" : {},
"source" : [" To produce a trefoil knot:"]
}
,
{
"cell_type" : "markdown",
"metadata" : {},
"source" : ["   torusKnot(2, 3, 0.5)"]
}
,
{
"cell_type" : "code",
"execution_count": null,
"metadata" : {
    "collapsed" : false
},
"source" : ["torusKnot(p:DFLOAT, q:DFLOAT, r:DFLOAT, uSteps:PI, tSteps:PI):VIEW3D =="],
"outputs": []
}
,
{
"cell_type" : "code",
"execution_count": null,
"metadata" : {
    "collapsed" : false
},
"source" : ["  -- equation for the torus knot"],
"outputs": []
}
,
{
"cell_type" : "code",
"execution_count": null,
"metadata" : {
    "collapsed" : false
},
"source" : ["  knot := (t:DFLOAT):Point DFLOAT +->"],
"outputs": []
}
,
{
"cell_type" : "code",
"execution_count": null,
"metadata" : {
    "collapsed" : false
},
"source" : ["    fac := 4/(2.2@DFLOAT-sin(q*t))"],
"outputs": []
}
,
{
"cell_type" : "code",
"execution_count": null,
"metadata" : {
    "collapsed" : false
},
"source" : ["    fac * point [cos(p*t), sin(p*t), cos(q*t)]"],
"outputs": []
}
,
{
"cell_type" : "code",
"execution_count": null,
"metadata" : {
    "collapsed" : false
},
"source" : ["  -- equation for the cross section of the tube"],
"outputs": []
}
,
{
"cell_type" : "code",
"execution_count": null,
"metadata" : {
    "collapsed" : false
},
"source" : ["  circle := (u:DFLOAT, t:DFLOAT):Point DFLOAT +->"],
"outputs": []
}
,
{
"cell_type" : "code",
"execution_count": null,
"metadata" : {
    "collapsed" : false
},
"source" : ["    r * point [cos u, sin u]"],
"outputs": []
}
,
{
"cell_type" : "code",
"execution_count": null,
"metadata" : {
    "collapsed" : false
},
"source" : ["  -- draw the tube around the knot"],
"outputs": []
}
,
{
"cell_type" : "code",
"execution_count": null,
"metadata" : {
    "collapsed" : false
},
"source" : ["  ntubeDrawOpt(knot, circle, 0..2*%pi, 0..2*%pi, var1Steps == uSteps,"],
"outputs": []
}
,
{
"cell_type" : "code",
"execution_count": null,
"metadata" : {
    "collapsed" : false
},
"source" : ["               var2Steps == tSteps)"],
"outputs": []
}
,
{
"cell_type" : "code",
"execution_count": null,
"metadata" : {
    "collapsed" : false
},
"source" : [""],
"outputs": []
}
 ],
"metadata": {
 "kernelspec": {
  "display_name": "FriCAS",
  "language": "spad",
  "name": "ifricas"
 },
 "language_info": {
  "codemirror_mode": "spad",
  "mimetype": "text/x-spad",
  "name": "SPAD",
  "pygments_lexer": "spad",
  "version": "1.2.6"
 },
 "name": "tknot.ipynb"
},
"nbformat": 4,
"nbformat_minor": 0
}
