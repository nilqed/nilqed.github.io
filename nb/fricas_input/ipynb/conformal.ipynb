{
 "cells": [
{
"cell_type" : "markdown",
"metadata" : {},
"source" : ["Copyright The Numerical Algorithms Group Limited 1994."]
}
,
{
"cell_type" : "markdown",
"metadata" : {},
"source" : [" Drawing conformal maps."]
}
,
{
"cell_type" : "markdown",
"metadata" : {},
"source" : [" The functions in this file draw conformal maps both on the"]
}
,
{
"cell_type" : "markdown",
"metadata" : {},
"source" : [" complex plane and on the Riemann sphere."]
}
,
{
"cell_type" : "markdown",
"metadata" : {},
"source" : [" Compile, don't interpret functions."]
}
,
{
"cell_type" : "code",
"execution_count": null,
"metadata" : {
    "collapsed" : false
},
"source" : [")set fun comp on"],
"outputs": []
}
,
{
"cell_type" : "code",
"execution_count": null,
"metadata" : {
    "collapsed" : false
},
"source" : ["C := Complex DoubleFloat                -- Complex Numbers"],
"outputs": []
}
,
{
"cell_type" : "code",
"execution_count": null,
"metadata" : {
    "collapsed" : false
},
"source" : ["S := Segment DoubleFloat                -- Draw ranges"],
"outputs": []
}
,
{
"cell_type" : "code",
"execution_count": null,
"metadata" : {
    "collapsed" : false
},
"source" : ["R3 := POINT DoubleFloat                         -- points in 3-space"],
"outputs": []
}
,
{
"cell_type" : "markdown",
"metadata" : {},
"source" : [" conformalDraw(f, rRange, tRange, rSteps, tSteps, coord)"]
}
,
{
"cell_type" : "markdown",
"metadata" : {},
"source" : [" draws the image of the coordinate grid under f in the complex plane."]
}
,
{
"cell_type" : "markdown",
"metadata" : {},
"source" : [" The grid may be given in either polar or cartesian coordinates."]
}
,
{
"cell_type" : "markdown",
"metadata" : {},
"source" : [" parameter descriptions:"]
}
,
{
"cell_type" : "markdown",
"metadata" : {},
"source" : ["   f:  the function to draw"]
}
,
{
"cell_type" : "markdown",
"metadata" : {},
"source" : ["   rRange: the range of the radius (in polar) or real (in cartesian)"]
}
,
{
"cell_type" : "markdown",
"metadata" : {},
"source" : ["   tRange: the range of theta (in polar) or imaginary (in cartesian)"]
}
,
{
"cell_type" : "markdown",
"metadata" : {},
"source" : ["   tSteps, rSteps: the number of intervals in each direction"]
}
,
{
"cell_type" : "markdown",
"metadata" : {},
"source" : ["   coord: the coordinate system to use.  Either \"polar\" or \"cartesian\""]
}
,
{
"cell_type" : "code",
"execution_count": null,
"metadata" : {
    "collapsed" : false
},
"source" : ["conformalDraw: (C -> C, S, S, PI, PI, String) -> VIEW3D"],
"outputs": []
}
,
{
"cell_type" : "code",
"execution_count": null,
"metadata" : {
    "collapsed" : false
},
"source" : ["conformalDraw(f, rRange, tRange, rSteps, tSteps, coord) =="],
"outputs": []
}
,
{
"cell_type" : "code",
"execution_count": null,
"metadata" : {
    "collapsed" : false
},
"source" : ["  transformC :="],
"outputs": []
}
,
{
"cell_type" : "code",
"execution_count": null,
"metadata" : {
    "collapsed" : false
},
"source" : ["    coord = \"polar\" => polar2Complex"],
"outputs": []
}
,
{
"cell_type" : "code",
"execution_count": null,
"metadata" : {
    "collapsed" : false
},
"source" : ["    cartesian2Complex"],
"outputs": []
}
,
{
"cell_type" : "code",
"execution_count": null,
"metadata" : {
    "collapsed" : false
},
"source" : ["  cm := makeConformalMap(f, transformC)"],
"outputs": []
}
,
{
"cell_type" : "code",
"execution_count": null,
"metadata" : {
    "collapsed" : false
},
"source" : ["  sp := createThreeSpace()"],
"outputs": []
}
,
{
"cell_type" : "code",
"execution_count": null,
"metadata" : {
    "collapsed" : false
},
"source" : ["  adaptGrid(sp, cm, rRange, tRange, rSteps, tSteps)"],
"outputs": []
}
,
{
"cell_type" : "code",
"execution_count": null,
"metadata" : {
    "collapsed" : false
},
"source" : ["  makeViewport3D(sp, \"Conformal Map\")"],
"outputs": []
}
,
{
"cell_type" : "markdown",
"metadata" : {},
"source" : [" riemannConformalDraw(f, rRange, tRange, rSteps, tSteps, coord)"]
}
,
{
"cell_type" : "markdown",
"metadata" : {},
"source" : [" draws the image of the coordinate grid under f on the Riemann sphere."]
}
,
{
"cell_type" : "markdown",
"metadata" : {},
"source" : [" The grid may given in either polar or cartesian coordinates."]
}
,
{
"cell_type" : "markdown",
"metadata" : {},
"source" : [" parameter descriptions:"]
}
,
{
"cell_type" : "markdown",
"metadata" : {},
"source" : ["   f:  the function to draw"]
}
,
{
"cell_type" : "markdown",
"metadata" : {},
"source" : ["   rRange: the range of the radius(in polar) or real (in cartesian)"]
}
,
{
"cell_type" : "markdown",
"metadata" : {},
"source" : ["   tRange: the range of theta (in polar) or imaginary (in cartesian)"]
}
,
{
"cell_type" : "markdown",
"metadata" : {},
"source" : ["   tSteps, rSteps: the number of intervals in each direction"]
}
,
{
"cell_type" : "markdown",
"metadata" : {},
"source" : ["   coord: the coordinate system to use. either \"polar\" or \"cartesian\""]
}
,
{
"cell_type" : "code",
"execution_count": null,
"metadata" : {
    "collapsed" : false
},
"source" : ["riemannConformalDraw: (C -> C, S, S, PI, PI, String) -> VIEW3D"],
"outputs": []
}
,
{
"cell_type" : "code",
"execution_count": null,
"metadata" : {
    "collapsed" : false
},
"source" : ["riemannConformalDraw(f, rRange, tRange, rSteps, tSteps, coord) =="],
"outputs": []
}
,
{
"cell_type" : "code",
"execution_count": null,
"metadata" : {
    "collapsed" : false
},
"source" : ["  transformC :="],
"outputs": []
}
,
{
"cell_type" : "code",
"execution_count": null,
"metadata" : {
    "collapsed" : false
},
"source" : ["    coord = \"polar\" => polar2Complex"],
"outputs": []
}
,
{
"cell_type" : "code",
"execution_count": null,
"metadata" : {
    "collapsed" : false
},
"source" : ["    cartesian2Complex"],
"outputs": []
}
,
{
"cell_type" : "code",
"execution_count": null,
"metadata" : {
    "collapsed" : false
},
"source" : ["  sp := createThreeSpace()"],
"outputs": []
}
,
{
"cell_type" : "code",
"execution_count": null,
"metadata" : {
    "collapsed" : false
},
"source" : ["  cm := makeRiemannConformalMap(f, transformC)"],
"outputs": []
}
,
{
"cell_type" : "code",
"execution_count": null,
"metadata" : {
    "collapsed" : false
},
"source" : ["  adaptGrid(sp, cm, rRange, tRange, rSteps, tSteps)"],
"outputs": []
}
,
{
"cell_type" : "code",
"execution_count": null,
"metadata" : {
    "collapsed" : false
},
"source" : ["  -- add an invisible point at the north pole for scaling"],
"outputs": []
}
,
{
"cell_type" : "code",
"execution_count": null,
"metadata" : {
    "collapsed" : false
},
"source" : ["  curve(sp, [point [0,0,2.0@DoubleFloat,0], point [0,0, 2.0@DoubleFloat,0]])"],
"outputs": []
}
,
{
"cell_type" : "code",
"execution_count": null,
"metadata" : {
    "collapsed" : false
},
"source" : ["  makeViewport3D(sp, \"Conformal Map on the Riemann Sphere\")"],
"outputs": []
}
,
{
"cell_type" : "markdown",
"metadata" : {},
"source" : [" Plot the coordinate grid using adaptive plotting for the coordinate"]
}
,
{
"cell_type" : "markdown",
"metadata" : {},
"source" : [" lines, and drawing tubes around the lines."]
}
,
{
"cell_type" : "code",
"execution_count": null,
"metadata" : {
    "collapsed" : false
},
"source" : ["adaptGrid(sp, f, uRange, vRange,  uSteps, vSteps) =="],
"outputs": []
}
,
{
"cell_type" : "code",
"execution_count": null,
"metadata" : {
    "collapsed" : false
},
"source" : ["  delU := (hi(uRange) - lo(uRange))/uSteps"],
"outputs": []
}
,
{
"cell_type" : "code",
"execution_count": null,
"metadata" : {
    "collapsed" : false
},
"source" : ["  delV := (hi(vRange) - lo(vRange))/vSteps"],
"outputs": []
}
,
{
"cell_type" : "code",
"execution_count": null,
"metadata" : {
    "collapsed" : false
},
"source" : ["  uSteps := uSteps + 1; vSteps := vSteps + 1"],
"outputs": []
}
,
{
"cell_type" : "code",
"execution_count": null,
"metadata" : {
    "collapsed" : false
},
"source" : ["  u := lo uRange"],
"outputs": []
}
,
{
"cell_type" : "code",
"execution_count": null,
"metadata" : {
    "collapsed" : false
},
"source" : ["  -- draw the coodinate lines in the v direction"],
"outputs": []
}
,
{
"cell_type" : "code",
"execution_count": null,
"metadata" : {
    "collapsed" : false
},
"source" : ["  for i in 1..uSteps repeat"],
"outputs": []
}
,
{
"cell_type" : "code",
"execution_count": null,
"metadata" : {
    "collapsed" : false
},
"source" : ["    -- create a curve 'c' which fixes the current value of 'u'"],
"outputs": []
}
,
{
"cell_type" : "code",
"execution_count": null,
"metadata" : {
    "collapsed" : false
},
"source" : ["    c := curryLeft(f,u)"],
"outputs": []
}
,
{
"cell_type" : "code",
"execution_count": null,
"metadata" : {
    "collapsed" : false
},
"source" : ["    cf := (t:DoubleFloat):DoubleFloat +-> 0"],
"outputs": []
}
,
{
"cell_type" : "code",
"execution_count": null,
"metadata" : {
    "collapsed" : false
},
"source" : ["    -- draw the 'v' coordinate line"],
"outputs": []
}
,
{
"cell_type" : "code",
"execution_count": null,
"metadata" : {
    "collapsed" : false
},
"source" : ["    makeObject(c, vRange::Segment Float, colorFunction == cf, space == sp, _\n               tubeRadius == 0.02,  tubePoints == 6)\n"],
"outputs": []
}
,
{
"cell_type" : "code",
"execution_count": null,
"metadata" : {
    "collapsed" : false
},
"source" : ["    u := u + delU"],
"outputs": []
}
,
{
"cell_type" : "code",
"execution_count": null,
"metadata" : {
    "collapsed" : false
},
"source" : ["  v := lo vRange"],
"outputs": []
}
,
{
"cell_type" : "code",
"execution_count": null,
"metadata" : {
    "collapsed" : false
},
"source" : ["  -- draw the coodinate lines in the u direction"],
"outputs": []
}
,
{
"cell_type" : "code",
"execution_count": null,
"metadata" : {
    "collapsed" : false
},
"source" : ["  for i in 1..vSteps repeat"],
"outputs": []
}
,
{
"cell_type" : "code",
"execution_count": null,
"metadata" : {
    "collapsed" : false
},
"source" : ["    -- create a curve 'c' which fixes the current value of 'v'"],
"outputs": []
}
,
{
"cell_type" : "code",
"execution_count": null,
"metadata" : {
    "collapsed" : false
},
"source" : ["    c := curryRight(f,v)"],
"outputs": []
}
,
{
"cell_type" : "code",
"execution_count": null,
"metadata" : {
    "collapsed" : false
},
"source" : ["    cf := (t:DoubleFloat):DoubleFloat +-> 1"],
"outputs": []
}
,
{
"cell_type" : "code",
"execution_count": null,
"metadata" : {
    "collapsed" : false
},
"source" : ["    -- draw the 'u' coordinate line"],
"outputs": []
}
,
{
"cell_type" : "code",
"execution_count": null,
"metadata" : {
    "collapsed" : false
},
"source" : ["    makeObject(c, uRange::Segment Float, colorFunction == cf, space == sp, _\n               tubeRadius == 0.02,  tubePoints == 6)\n"],
"outputs": []
}
,
{
"cell_type" : "code",
"execution_count": null,
"metadata" : {
    "collapsed" : false
},
"source" : ["    v := v + delV"],
"outputs": []
}
,
{
"cell_type" : "code",
"execution_count": null,
"metadata" : {
    "collapsed" : false
},
"source" : ["  void()"],
"outputs": []
}
,
{
"cell_type" : "markdown",
"metadata" : {},
"source" : [" map a point in the complex plane to the Riemann sphere."]
}
,
{
"cell_type" : "code",
"execution_count": null,
"metadata" : {
    "collapsed" : false
},
"source" : ["riemannTransform(z) =="],
"outputs": []
}
,
{
"cell_type" : "code",
"execution_count": null,
"metadata" : {
    "collapsed" : false
},
"source" : ["  r := sqrt norm z"],
"outputs": []
}
,
{
"cell_type" : "code",
"execution_count": null,
"metadata" : {
    "collapsed" : false
},
"source" : ["  cosTheta := (real z)/r"],
"outputs": []
}
,
{
"cell_type" : "code",
"execution_count": null,
"metadata" : {
    "collapsed" : false
},
"source" : ["  sinTheta := (imag z)/r"],
"outputs": []
}
,
{
"cell_type" : "code",
"execution_count": null,
"metadata" : {
    "collapsed" : false
},
"source" : ["  cp := 4*r/(4+r^2)"],
"outputs": []
}
,
{
"cell_type" : "code",
"execution_count": null,
"metadata" : {
    "collapsed" : false
},
"source" : ["  sp := sqrt(1-cp*cp)"],
"outputs": []
}
,
{
"cell_type" : "code",
"execution_count": null,
"metadata" : {
    "collapsed" : false
},
"source" : ["  if r>2 then sp := -sp"],
"outputs": []
}
,
{
"cell_type" : "code",
"execution_count": null,
"metadata" : {
    "collapsed" : false
},
"source" : ["  point [cosTheta*cp, sinTheta*cp, -sp + 1]"],
"outputs": []
}
,
{
"cell_type" : "markdown",
"metadata" : {},
"source" : [" convert cartesian coordinates to cartesian form complex"]
}
,
{
"cell_type" : "code",
"execution_count": null,
"metadata" : {
    "collapsed" : false
},
"source" : ["cartesian2Complex(r:DoubleFloat, i:DoubleFloat):C == complex(r, i)"],
"outputs": []
}
,
{
"cell_type" : "markdown",
"metadata" : {},
"source" : [" convert polar coordinates to cartesian form complex"]
}
,
{
"cell_type" : "code",
"execution_count": null,
"metadata" : {
    "collapsed" : false
},
"source" : ["polar2Complex(r:DoubleFloat, th:DoubleFloat):C == complex(r*cos(th), r*sin(th))"],
"outputs": []
}
,
{
"cell_type" : "markdown",
"metadata" : {},
"source" : [" convert a complex function into a mapping from (DoubleFloat,DoubleFloat) to R3 in the"]
}
,
{
"cell_type" : "markdown",
"metadata" : {},
"source" : [" complex plane."]
}
,
{
"cell_type" : "code",
"execution_count": null,
"metadata" : {
    "collapsed" : false
},
"source" : ["makeConformalMap(f, transformC) =="],
"outputs": []
}
,
{
"cell_type" : "code",
"execution_count": null,
"metadata" : {
    "collapsed" : false
},
"source" : ["  (u:DoubleFloat,v:DoubleFloat):R3 +->"],
"outputs": []
}
,
{
"cell_type" : "code",
"execution_count": null,
"metadata" : {
    "collapsed" : false
},
"source" : ["    z := f transformC(u, v)"],
"outputs": []
}
,
{
"cell_type" : "code",
"execution_count": null,
"metadata" : {
    "collapsed" : false
},
"source" : ["    point [real z, imag z, 0.0@DoubleFloat]"],
"outputs": []
}
,
{
"cell_type" : "markdown",
"metadata" : {},
"source" : [" convert a complex function into a mapping from (DoubleFloat,DoubleFloat) to R3 on the"]
}
,
{
"cell_type" : "markdown",
"metadata" : {},
"source" : [" Riemann sphere."]
}
,
{
"cell_type" : "code",
"execution_count": null,
"metadata" : {
    "collapsed" : false
},
"source" : ["makeRiemannConformalMap(f, transformC) =="],
"outputs": []
}
,
{
"cell_type" : "code",
"execution_count": null,
"metadata" : {
    "collapsed" : false
},
"source" : ["  (u:DoubleFloat, v:DoubleFloat):R3 +-> riemannTransform f transformC(u, v)"],
"outputs": []
}
,
{
"cell_type" : "markdown",
"metadata" : {},
"source" : [" draw a picture of the mapping of the complex plane to the Riemann sphere."]
}
,
{
"cell_type" : "code",
"execution_count": null,
"metadata" : {
    "collapsed" : false
},
"source" : ["riemannSphereDraw: (S, S, PI, PI, String) -> VIEW3D"],
"outputs": []
}
,
{
"cell_type" : "code",
"execution_count": null,
"metadata" : {
    "collapsed" : false
},
"source" : ["riemannSphereDraw(rRange, tRange, rSteps, tSteps, coord) =="],
"outputs": []
}
,
{
"cell_type" : "code",
"execution_count": null,
"metadata" : {
    "collapsed" : false
},
"source" : ["  transformC :="],
"outputs": []
}
,
{
"cell_type" : "code",
"execution_count": null,
"metadata" : {
    "collapsed" : false
},
"source" : ["    coord = \"polar\" => polar2Complex"],
"outputs": []
}
,
{
"cell_type" : "code",
"execution_count": null,
"metadata" : {
    "collapsed" : false
},
"source" : ["    cartesian2Complex"],
"outputs": []
}
,
{
"cell_type" : "code",
"execution_count": null,
"metadata" : {
    "collapsed" : false
},
"source" : ["  grid := (u:DoubleFloat , v:DoubleFloat): R3 +->"],
"outputs": []
}
,
{
"cell_type" : "code",
"execution_count": null,
"metadata" : {
    "collapsed" : false
},
"source" : ["    z1 := transformC(u, v)"],
"outputs": []
}
,
{
"cell_type" : "code",
"execution_count": null,
"metadata" : {
    "collapsed" : false
},
"source" : ["    point [real z1, imag z1, 0]"],
"outputs": []
}
,
{
"cell_type" : "code",
"execution_count": null,
"metadata" : {
    "collapsed" : false
},
"source" : ["  sp := createThreeSpace()"],
"outputs": []
}
,
{
"cell_type" : "code",
"execution_count": null,
"metadata" : {
    "collapsed" : false
},
"source" : ["  adaptGrid(sp, grid, rRange, tRange, rSteps, tSteps)"],
"outputs": []
}
,
{
"cell_type" : "code",
"execution_count": null,
"metadata" : {
    "collapsed" : false
},
"source" : ["  connectingLines(sp, grid, rRange, tRange, rSteps, tSteps)"],
"outputs": []
}
,
{
"cell_type" : "code",
"execution_count": null,
"metadata" : {
    "collapsed" : false
},
"source" : ["  makeObject(riemannSphere, 0..2*%pi, 0..%pi, space == sp)"],
"outputs": []
}
,
{
"cell_type" : "code",
"execution_count": null,
"metadata" : {
    "collapsed" : false
},
"source" : ["  f := (z:C):C +-> z"],
"outputs": []
}
,
{
"cell_type" : "code",
"execution_count": null,
"metadata" : {
    "collapsed" : false
},
"source" : ["  cm := makeRiemannConformalMap(f, transformC)"],
"outputs": []
}
,
{
"cell_type" : "code",
"execution_count": null,
"metadata" : {
    "collapsed" : false
},
"source" : ["  adaptGrid(sp, cm, rRange, tRange, rSteps, tSteps)"],
"outputs": []
}
,
{
"cell_type" : "code",
"execution_count": null,
"metadata" : {
    "collapsed" : false
},
"source" : ["  makeViewport3D(sp, \"Riemann Sphere\")"],
"outputs": []
}
,
{
"cell_type" : "markdown",
"metadata" : {},
"source" : [" draw the lines which connect the points in the complex plane to"]
}
,
{
"cell_type" : "markdown",
"metadata" : {},
"source" : [" the north pole of the Riemann sphere."]
}
,
{
"cell_type" : "code",
"execution_count": null,
"metadata" : {
    "collapsed" : false
},
"source" : ["connectingLines(sp, f, uRange, vRange, uSteps, vSteps) =="],
"outputs": []
}
,
{
"cell_type" : "code",
"execution_count": null,
"metadata" : {
    "collapsed" : false
},
"source" : ["  delU := (hi(uRange) - lo(uRange))/uSteps"],
"outputs": []
}
,
{
"cell_type" : "code",
"execution_count": null,
"metadata" : {
    "collapsed" : false
},
"source" : ["  delV := (hi(vRange) - lo(vRange))/vSteps"],
"outputs": []
}
,
{
"cell_type" : "code",
"execution_count": null,
"metadata" : {
    "collapsed" : false
},
"source" : ["  uSteps := uSteps + 1; vSteps := vSteps + 1"],
"outputs": []
}
,
{
"cell_type" : "code",
"execution_count": null,
"metadata" : {
    "collapsed" : false
},
"source" : ["  u := lo uRange"],
"outputs": []
}
,
{
"cell_type" : "code",
"execution_count": null,
"metadata" : {
    "collapsed" : false
},
"source" : ["  -- for each grid point"],
"outputs": []
}
,
{
"cell_type" : "code",
"execution_count": null,
"metadata" : {
    "collapsed" : false
},
"source" : ["  for i in 1..uSteps repeat"],
"outputs": []
}
,
{
"cell_type" : "code",
"execution_count": null,
"metadata" : {
    "collapsed" : false
},
"source" : ["    v := lo vRange"],
"outputs": []
}
,
{
"cell_type" : "code",
"execution_count": null,
"metadata" : {
    "collapsed" : false
},
"source" : ["    for j in 1..vSteps repeat"],
"outputs": []
}
,
{
"cell_type" : "code",
"execution_count": null,
"metadata" : {
    "collapsed" : false
},
"source" : ["      p1 := f(u,v)"],
"outputs": []
}
,
{
"cell_type" : "code",
"execution_count": null,
"metadata" : {
    "collapsed" : false
},
"source" : ["      p2 := riemannTransform complex(p1.1, p1.2)"],
"outputs": []
}
,
{
"cell_type" : "code",
"execution_count": null,
"metadata" : {
    "collapsed" : false
},
"source" : ["      fun := lineFromTo(p1,p2)"],
"outputs": []
}
,
{
"cell_type" : "code",
"execution_count": null,
"metadata" : {
    "collapsed" : false
},
"source" : ["      cf := (t:DoubleFloat):DoubleFloat +-> 3"],
"outputs": []
}
,
{
"cell_type" : "code",
"execution_count": null,
"metadata" : {
    "collapsed" : false
},
"source" : ["      makeObject(fun, 0..1, space == sp, tubePoints == 4, tubeRadius == 0.01,"],
"outputs": []
}
,
{
"cell_type" : "code",
"execution_count": null,
"metadata" : {
    "collapsed" : false
},
"source" : ["                 colorFunction == cf)"],
"outputs": []
}
,
{
"cell_type" : "code",
"execution_count": null,
"metadata" : {
    "collapsed" : false
},
"source" : ["      v := v + delV"],
"outputs": []
}
,
{
"cell_type" : "code",
"execution_count": null,
"metadata" : {
    "collapsed" : false
},
"source" : ["    u := u + delU"],
"outputs": []
}
,
{
"cell_type" : "code",
"execution_count": null,
"metadata" : {
    "collapsed" : false
},
"source" : ["  void()"],
"outputs": []
}
,
{
"cell_type" : "code",
"execution_count": null,
"metadata" : {
    "collapsed" : false
},
"source" : ["riemannSphere(u,v) =="],
"outputs": []
}
,
{
"cell_type" : "code",
"execution_count": null,
"metadata" : {
    "collapsed" : false
},
"source" : ["  sv := sin(v)"],
"outputs": []
}
,
{
"cell_type" : "code",
"execution_count": null,
"metadata" : {
    "collapsed" : false
},
"source" : ["  0.99@DoubleFloat*(point [cos(u)*sv, sin(u)*sv, cos(v),0.0@DoubleFloat]) +"],
"outputs": []
}
,
{
"cell_type" : "code",
"execution_count": null,
"metadata" : {
    "collapsed" : false
},
"source" : ["    point [0.0@DoubleFloat, 0.0@DoubleFloat, 1.0@DoubleFloat, 4.0@DoubleFloat]"],
"outputs": []
}
,
{
"cell_type" : "markdown",
"metadata" : {},
"source" : [" create a line functions which goeas from p1 to p2 as its paramter"]
}
,
{
"cell_type" : "markdown",
"metadata" : {},
"source" : [" goes from 0 to 1."]
}
,
{
"cell_type" : "code",
"execution_count": null,
"metadata" : {
    "collapsed" : false
},
"source" : ["lineFromTo(p1, p2) =="],
"outputs": []
}
,
{
"cell_type" : "code",
"execution_count": null,
"metadata" : {
    "collapsed" : false
},
"source" : ["  d := p2 - p1"],
"outputs": []
}
,
{
"cell_type" : "code",
"execution_count": null,
"metadata" : {
    "collapsed" : false
},
"source" : ["  (t:DoubleFloat):Point DoubleFloat +-> p1 + t*d"],
"outputs": []
}
,
{
"cell_type" : "code",
"execution_count": null,
"metadata" : {
    "collapsed" : false
},
"source" : [""],
"outputs": []
}
 ],
"metadata": {
 "kernelspec": {
  "display_name": "FriCAS",
  "language": "spad",
  "name": "ifricas"
 },
 "language_info": {
  "codemirror_mode": "spad",
  "mimetype": "text/x-spad",
  "name": "SPAD",
  "pygments_lexer": "spad",
  "version": "1.2.6"
 },
 "name": "conformal.ipynb"
},
"nbformat": 4,
"nbformat_minor": 0
}
