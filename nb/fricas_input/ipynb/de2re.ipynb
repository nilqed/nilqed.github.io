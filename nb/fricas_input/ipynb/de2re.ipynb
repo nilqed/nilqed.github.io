{
 "cells": [
{
"cell_type" : "markdown",
"metadata" : {},
"source" : ["Copyright The Numerical Algorithms Group Limited 1994."]
}
,
{
"cell_type" : "markdown",
"metadata" : {},
"source" : ["-------------------------------- de2re.input -----------------------------"]
}
,
{
"cell_type" : "code",
"execution_count": null,
"metadata" : {
    "collapsed" : false
},
"source" : [")cl all"],
"outputs": []
}
,
{
"cell_type" : "code",
"execution_count": null,
"metadata" : {
    "collapsed" : false
},
"source" : ["P := UP(n, INT)"],
"outputs": []
}
,
{
"cell_type" : "code",
"execution_count": null,
"metadata" : {
    "collapsed" : false
},
"source" : ["n := n::P"],
"outputs": []
}
,
{
"cell_type" : "code",
"execution_count": null,
"metadata" : {
    "collapsed" : false
},
"source" : ["L := LODO1 P"],
"outputs": []
}
,
{
"cell_type" : "code",
"execution_count": null,
"metadata" : {
    "collapsed" : false
},
"source" : ["dn := D()$L"],
"outputs": []
}
,
{
"cell_type" : "markdown",
"metadata" : {},
"source" : [" 4 well known differential operators"]
}
,
{
"cell_type" : "code",
"execution_count": null,
"metadata" : {
    "collapsed" : false
},
"source" : ["exp:= dn - 1"],
"outputs": []
}
,
{
"cell_type" : "code",
"execution_count": null,
"metadata" : {
    "collapsed" : false
},
"source" : ["sincos := dn^2 + 1"],
"outputs": []
}
,
{
"cell_type" : "code",
"execution_count": null,
"metadata" : {
    "collapsed" : false
},
"source" : ["airy := dn^2 - n"],
"outputs": []
}
,
{
"cell_type" : "code",
"execution_count": null,
"metadata" : {
    "collapsed" : false
},
"source" : ["hermite := dn^2 - 2*n*dn + 1"],
"outputs": []
}
,
{
"cell_type" : "markdown",
"metadata" : {},
"source" : [" the recurrences satisfied by the coefficients of their series solutions"]
}
,
{
"cell_type" : "markdown",
"metadata" : {},
"source" : ["recurrence(exp, 0)"]
}
,
{
"cell_type" : "markdown",
"metadata" : {},
"source" : ["recurrence(sincos, 0)"]
}
,
{
"cell_type" : "markdown",
"metadata" : {},
"source" : ["recurrence(airy, 0)"]
}
,
{
"cell_type" : "markdown",
"metadata" : {},
"source" : ["recurrence(airy, 1)"]
}
,
{
"cell_type" : "markdown",
"metadata" : {},
"source" : ["recurrence(hermite, 0)"]
}
,
{
"cell_type" : "markdown",
"metadata" : {},
"source" : [" a non-trivial example from the GFUN tech. rep (Salvy & Zimmermann)"]
}
,
{
"cell_type" : "code",
"execution_count": null,
"metadata" : {
    "collapsed" : false
},
"source" : ["op := (335 * n^2 + 1290) * dn^2 + 1540 * n * dn + 468720"],
"outputs": []
}
,
{
"cell_type" : "markdown",
"metadata" : {},
"source" : ["recurrence(op, 0)"]
}
,
{
"cell_type" : "code",
"execution_count": null,
"metadata" : {
    "collapsed" : false
},
"source" : [""],
"outputs": []
}
 ],
"metadata": {
 "kernelspec": {
  "display_name": "FriCAS",
  "language": "spad",
  "name": "ifricas"
 },
 "language_info": {
  "codemirror_mode": "spad",
  "mimetype": "text/x-spad",
  "name": "SPAD",
  "pygments_lexer": "spad",
  "version": "1.2.6"
 },
 "name": "de2re.ipynb"
},
"nbformat": 4,
"nbformat_minor": 0
}
