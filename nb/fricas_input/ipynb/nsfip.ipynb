{
 "cells": [
{
"cell_type" : "markdown",
"metadata" : {},
"source" : ["Copyright The Numerical Algorithms Group Limited 1994."]
}
,
{
"cell_type" : "markdown",
"metadata" : {},
"source" : [" Note that the conversions of Results from DoubleFloat to Float"]
}
,
{
"cell_type" : "markdown",
"metadata" : {},
"source" : [" will become unnecessary if outputGeneral is extended to apply to"]
}
,
{
"cell_type" : "markdown",
"metadata" : {},
"source" : [" DoubleFloat quantities."]
}
,
{
"cell_type" : "code",
"execution_count": null,
"metadata" : {
    "collapsed" : false
},
"source" : ["outputGeneral 4"],
"outputs": []
}
,
{
"cell_type" : "markdown",
"metadata" : {},
"source" : [" DF here means DoubleFloat."]
}
,
{
"cell_type" : "markdown",
"metadata" : {},
"source" : [" Results converted to Float as outputGeneral not working on DF."]
}
,
{
"cell_type" : "markdown",
"metadata" : {},
"source" : [" nagExpInt : DF -> DF ;"]
}
,
{
"cell_type" : "code",
"execution_count": null,
"metadata" : {
    "collapsed" : false
},
"source" : ["nagExpInt(2) :: Float"],
"outputs": []
}
,
{
"cell_type" : "markdown",
"metadata" : {},
"source" : ["       0.0489"]
}
,
{
"cell_type" : "code",
"execution_count": null,
"metadata" : {
    "collapsed" : false
},
"source" : ["nagExpInt(-1) :: Float"],
"outputs": []
}
,
{
"cell_type" : "markdown",
"metadata" : {},
"source" : [" ^ ABNORMAL EXIT from NAG Library routine S13AAF: IFAIL =     1"]
}
,
{
"cell_type" : "markdown",
"metadata" : {},
"source" : [" ^ NAG soft failure - control returned"]
}
,
{
"cell_type" : "markdown",
"metadata" : {},
"source" : [""]
}
,
{
"cell_type" : "markdown",
"metadata" : {},
"source" : ["   Error signalled from user code:"]
}
,
{
"cell_type" : "markdown",
"metadata" : {},
"source" : ["      An error was detected when calling the NAG Library routine"]
}
,
{
"cell_type" : "markdown",
"metadata" : {},
"source" : ["      S13AAF. The error number (IFAIL value) is 1, please consult the"]
}
,
{
"cell_type" : "markdown",
"metadata" : {},
"source" : ["      NAG manual via the Browser for diagnostic information."]
}
,
{
"cell_type" : "markdown",
"metadata" : {},
"source" : [" nagSinInt : DF -> DF ;"]
}
,
{
"cell_type" : "code",
"execution_count": null,
"metadata" : {
    "collapsed" : false
},
"source" : ["nagSinInt(0) :: Float"],
"outputs": []
}
,
{
"cell_type" : "markdown",
"metadata" : {},
"source" : ["       0.0"]
}
,
{
"cell_type" : "code",
"execution_count": null,
"metadata" : {
    "collapsed" : false
},
"source" : ["nagSinInt(0.2) :: Float"],
"outputs": []
}
,
{
"cell_type" : "markdown",
"metadata" : {},
"source" : ["       0.1996"]
}
,
{
"cell_type" : "code",
"execution_count": null,
"metadata" : {
    "collapsed" : false
},
"source" : ["nagSinInt(0.4) :: Float"],
"outputs": []
}
,
{
"cell_type" : "markdown",
"metadata" : {},
"source" : ["       0.3965"]
}
,
{
"cell_type" : "code",
"execution_count": null,
"metadata" : {
    "collapsed" : false
},
"source" : ["nagSinInt(0.6) :: Float"],
"outputs": []
}
,
{
"cell_type" : "markdown",
"metadata" : {},
"source" : ["       0.5881"]
}
,
{
"cell_type" : "code",
"execution_count": null,
"metadata" : {
    "collapsed" : false
},
"source" : ["nagSinInt(0.8) :: Float"],
"outputs": []
}
,
{
"cell_type" : "markdown",
"metadata" : {},
"source" : ["       0.7721"]
}
,
{
"cell_type" : "code",
"execution_count": null,
"metadata" : {
    "collapsed" : false
},
"source" : ["nagSinInt(1) :: Float"],
"outputs": []
}
,
{
"cell_type" : "markdown",
"metadata" : {},
"source" : ["       0.9461"]
}
,
{
"cell_type" : "markdown",
"metadata" : {},
"source" : [" nagCosInt : DF -> DF ;"]
}
,
{
"cell_type" : "code",
"execution_count": null,
"metadata" : {
    "collapsed" : false
},
"source" : ["nagCosInt(0.2) :: Float"],
"outputs": []
}
,
{
"cell_type" : "markdown",
"metadata" : {},
"source" : ["       - 1.042"]
}
,
{
"cell_type" : "code",
"execution_count": null,
"metadata" : {
    "collapsed" : false
},
"source" : ["nagCosInt(0.4) :: Float"],
"outputs": []
}
,
{
"cell_type" : "markdown",
"metadata" : {},
"source" : ["       - 0.3788"]
}
,
{
"cell_type" : "code",
"execution_count": null,
"metadata" : {
    "collapsed" : false
},
"source" : ["nagCosInt(0.6) :: Float"],
"outputs": []
}
,
{
"cell_type" : "markdown",
"metadata" : {},
"source" : ["       - 0.02227"]
}
,
{
"cell_type" : "code",
"execution_count": null,
"metadata" : {
    "collapsed" : false
},
"source" : ["nagCosInt(0.8) :: Float"],
"outputs": []
}
,
{
"cell_type" : "markdown",
"metadata" : {},
"source" : ["       0.1983"]
}
,
{
"cell_type" : "code",
"execution_count": null,
"metadata" : {
    "collapsed" : false
},
"source" : ["nagCosInt(1) :: Float"],
"outputs": []
}
,
{
"cell_type" : "markdown",
"metadata" : {},
"source" : ["       0.3374"]
}
,
{
"cell_type" : "markdown",
"metadata" : {},
"source" : [" nagIncompleteGammaP : (DF, DF) -> DF ; (to machine precision)"]
}
,
{
"cell_type" : "code",
"execution_count": null,
"metadata" : {
    "collapsed" : false
},
"source" : ["nagIncompleteGammaP(2,3) :: Float"],
"outputs": []
}
,
{
"cell_type" : "markdown",
"metadata" : {},
"source" : ["       0.8009"]
}
,
{
"cell_type" : "code",
"execution_count": null,
"metadata" : {
    "collapsed" : false
},
"source" : ["nagIncompleteGammaP(7,1) :: Float"],
"outputs": []
}
,
{
"cell_type" : "markdown",
"metadata" : {},
"source" : ["       0.00008324"]
}
,
{
"cell_type" : "code",
"execution_count": null,
"metadata" : {
    "collapsed" : false
},
"source" : ["nagIncompleteGammaP(0.5,99) :: Float"],
"outputs": []
}
,
{
"cell_type" : "markdown",
"metadata" : {},
"source" : ["       1.0"]
}
,
{
"cell_type" : "code",
"execution_count": null,
"metadata" : {
    "collapsed" : false
},
"source" : ["nagIncompleteGammaP(20,21) :: Float"],
"outputs": []
}
,
{
"cell_type" : "markdown",
"metadata" : {},
"source" : ["       0.6157"]
}
,
{
"cell_type" : "code",
"execution_count": null,
"metadata" : {
    "collapsed" : false
},
"source" : ["nagIncompleteGammaP(21,20) :: Float"],
"outputs": []
}
,
{
"cell_type" : "markdown",
"metadata" : {},
"source" : ["       0.4409"]
}
,
{
"cell_type" : "markdown",
"metadata" : {},
"source" : [" nagIncompleteGammaP : (DF, DF, DF) -> DF ; (to specified precision)"]
}
,
{
"cell_type" : "code",
"execution_count": null,
"metadata" : {
    "collapsed" : false
},
"source" : ["nagIncompleteGammaP(7,1,0.1) :: Float"],
"outputs": []
}
,
{
"cell_type" : "markdown",
"metadata" : {},
"source" : ["       0.00008313"]
}
,
{
"cell_type" : "markdown",
"metadata" : {},
"source" : [" nagIncompleteGammaQ : (DF, DF) -> DF ; (to machine precision)"]
}
,
{
"cell_type" : "code",
"execution_count": null,
"metadata" : {
    "collapsed" : false
},
"source" : ["nagIncompleteGammaQ(2,3) :: Float"],
"outputs": []
}
,
{
"cell_type" : "markdown",
"metadata" : {},
"source" : ["       0.1991"]
}
,
{
"cell_type" : "code",
"execution_count": null,
"metadata" : {
    "collapsed" : false
},
"source" : ["nagIncompleteGammaQ(7,1) :: Float"],
"outputs": []
}
,
{
"cell_type" : "markdown",
"metadata" : {},
"source" : ["       0.9999"]
}
,
{
"cell_type" : "code",
"execution_count": null,
"metadata" : {
    "collapsed" : false
},
"source" : ["nagIncompleteGammaQ(0.5,99) :: Float"],
"outputs": []
}
,
{
"cell_type" : "markdown",
"metadata" : {},
"source" : ["       0.5705 E -44"]
}
,
{
"cell_type" : "code",
"execution_count": null,
"metadata" : {
    "collapsed" : false
},
"source" : ["nagIncompleteGammaQ(20,21) :: Float"],
"outputs": []
}
,
{
"cell_type" : "markdown",
"metadata" : {},
"source" : ["       0.3843"]
}
,
{
"cell_type" : "code",
"execution_count": null,
"metadata" : {
    "collapsed" : false
},
"source" : ["nagIncompleteGammaQ(21,20) :: Float"],
"outputs": []
}
,
{
"cell_type" : "markdown",
"metadata" : {},
"source" : ["       0.5591"]
}
,
{
"cell_type" : "code",
"execution_count": null,
"metadata" : {
    "collapsed" : false
},
"source" : ["nagIncompleteGammaQ(25,14) :: Float"],
"outputs": []
}
,
{
"cell_type" : "markdown",
"metadata" : {},
"source" : ["       0.995"]
}
,
{
"cell_type" : "markdown",
"metadata" : {},
"source" : [" nagIncompleteGammaQ : (DF, DF, DF) -> DF ; (to specified precision)"]
}
,
{
"cell_type" : "code",
"execution_count": null,
"metadata" : {
    "collapsed" : false
},
"source" : ["nagIncompleteGammaQ(25,14,0.1) :: Float"],
"outputs": []
}
,
{
"cell_type" : "markdown",
"metadata" : {},
"source" : ["       0.9953"]
}
,
{
"cell_type" : "markdown",
"metadata" : {},
"source" : [" nagErf : DF -> DF ;"]
}
,
{
"cell_type" : "code",
"execution_count": null,
"metadata" : {
    "collapsed" : false
},
"source" : ["nagErf(-6) :: Float"],
"outputs": []
}
,
{
"cell_type" : "markdown",
"metadata" : {},
"source" : ["       - 1.0"]
}
,
{
"cell_type" : "code",
"execution_count": null,
"metadata" : {
    "collapsed" : false
},
"source" : ["nagErf(-4.5) :: Float"],
"outputs": []
}
,
{
"cell_type" : "markdown",
"metadata" : {},
"source" : ["       - 1.0"]
}
,
{
"cell_type" : "code",
"execution_count": null,
"metadata" : {
    "collapsed" : false
},
"source" : ["nagErf(-1) :: Float"],
"outputs": []
}
,
{
"cell_type" : "markdown",
"metadata" : {},
"source" : ["       - 0.8427"]
}
,
{
"cell_type" : "code",
"execution_count": null,
"metadata" : {
    "collapsed" : false
},
"source" : ["nagErf(1) :: Float"],
"outputs": []
}
,
{
"cell_type" : "markdown",
"metadata" : {},
"source" : ["       0.8427"]
}
,
{
"cell_type" : "code",
"execution_count": null,
"metadata" : {
    "collapsed" : false
},
"source" : ["nagErf(4.5) :: Float"],
"outputs": []
}
,
{
"cell_type" : "markdown",
"metadata" : {},
"source" : ["       1.0"]
}
,
{
"cell_type" : "code",
"execution_count": null,
"metadata" : {
    "collapsed" : false
},
"source" : ["nagErf(6) :: Float"],
"outputs": []
}
,
{
"cell_type" : "markdown",
"metadata" : {},
"source" : ["       1.0"]
}
,
{
"cell_type" : "markdown",
"metadata" : {},
"source" : [" nagErfC : DF -> DF ;"]
}
,
{
"cell_type" : "code",
"execution_count": null,
"metadata" : {
    "collapsed" : false
},
"source" : ["nagErfC(-10) :: Float"],
"outputs": []
}
,
{
"cell_type" : "markdown",
"metadata" : {},
"source" : ["       2.0"]
}
,
{
"cell_type" : "code",
"execution_count": null,
"metadata" : {
    "collapsed" : false
},
"source" : ["nagErfC(-1) :: Float"],
"outputs": []
}
,
{
"cell_type" : "markdown",
"metadata" : {},
"source" : ["       1.843"]
}
,
{
"cell_type" : "code",
"execution_count": null,
"metadata" : {
    "collapsed" : false
},
"source" : ["nagErfC(0) :: Float"],
"outputs": []
}
,
{
"cell_type" : "markdown",
"metadata" : {},
"source" : ["       1.0"]
}
,
{
"cell_type" : "code",
"execution_count": null,
"metadata" : {
    "collapsed" : false
},
"source" : ["nagErfC(1) :: Float"],
"outputs": []
}
,
{
"cell_type" : "markdown",
"metadata" : {},
"source" : ["       0.1573"]
}
,
{
"cell_type" : "code",
"execution_count": null,
"metadata" : {
    "collapsed" : false
},
"source" : ["nagErfC(15) :: Float"],
"outputs": []
}
,
{
"cell_type" : "markdown",
"metadata" : {},
"source" : ["       0.7213 E -99"]
}
,
{
"cell_type" : "markdown",
"metadata" : {},
"source" : [" nagDAiryAi : DF -> DF ;"]
}
,
{
"cell_type" : "code",
"execution_count": null,
"metadata" : {
    "collapsed" : false
},
"source" : ["nagDAiryAi(-10) :: Float"],
"outputs": []
}
,
{
"cell_type" : "markdown",
"metadata" : {},
"source" : ["       0.9963"]
}
,
{
"cell_type" : "code",
"execution_count": null,
"metadata" : {
    "collapsed" : false
},
"source" : ["nagDAiryAi(-1) :: Float"],
"outputs": []
}
,
{
"cell_type" : "markdown",
"metadata" : {},
"source" : ["       - 0.01016"]
}
,
{
"cell_type" : "code",
"execution_count": null,
"metadata" : {
    "collapsed" : false
},
"source" : ["nagDAiryAi(0) :: Float"],
"outputs": []
}
,
{
"cell_type" : "markdown",
"metadata" : {},
"source" : ["       - 0.2588"]
}
,
{
"cell_type" : "code",
"execution_count": null,
"metadata" : {
    "collapsed" : false
},
"source" : ["nagDAiryAi(1) :: Float"],
"outputs": []
}
,
{
"cell_type" : "markdown",
"metadata" : {},
"source" : ["       - 0.1591"]
}
,
{
"cell_type" : "code",
"execution_count": null,
"metadata" : {
    "collapsed" : false
},
"source" : ["nagDAiryAi(5) :: Float"],
"outputs": []
}
,
{
"cell_type" : "markdown",
"metadata" : {},
"source" : ["       - 0.0002474"]
}
,
{
"cell_type" : "code",
"execution_count": null,
"metadata" : {
    "collapsed" : false
},
"source" : ["nagDAiryAi(10) :: Float"],
"outputs": []
}
,
{
"cell_type" : "markdown",
"metadata" : {},
"source" : ["       - 0.3521 E -9"]
}
,
{
"cell_type" : "code",
"execution_count": null,
"metadata" : {
    "collapsed" : false
},
"source" : ["nagDAiryAi(20) :: Float"],
"outputs": []
}
,
{
"cell_type" : "markdown",
"metadata" : {},
"source" : ["       - 0.7586 E -26"]
}
,
{
"cell_type" : "markdown",
"metadata" : {},
"source" : [" nagDAiryAi : CDF -> CDF ;"]
}
,
{
"cell_type" : "code",
"execution_count": null,
"metadata" : {
    "collapsed" : false
},
"source" : ["nagDAiryAi(0.3+0.4*%i) :: Complex Float"],
"outputs": []
}
,
{
"cell_type" : "markdown",
"metadata" : {},
"source" : ["       - 0.2612 + 0.03848 %i"]
}
,
{
"cell_type" : "markdown",
"metadata" : {},
"source" : [" nagDAiryBi : DF -> DF ;"]
}
,
{
"cell_type" : "code",
"execution_count": null,
"metadata" : {
    "collapsed" : false
},
"source" : ["nagDAiryBi(-10) :: Float"],
"outputs": []
}
,
{
"cell_type" : "markdown",
"metadata" : {},
"source" : ["       0.1194"]
}
,
{
"cell_type" : "code",
"execution_count": null,
"metadata" : {
    "collapsed" : false
},
"source" : ["nagDAiryBi(-1) :: Float"],
"outputs": []
}
,
{
"cell_type" : "markdown",
"metadata" : {},
"source" : ["       0.5924"]
}
,
{
"cell_type" : "code",
"execution_count": null,
"metadata" : {
    "collapsed" : false
},
"source" : ["nagDAiryBi(0) :: Float"],
"outputs": []
}
,
{
"cell_type" : "markdown",
"metadata" : {},
"source" : ["       0.4483"]
}
,
{
"cell_type" : "code",
"execution_count": null,
"metadata" : {
    "collapsed" : false
},
"source" : ["nagDAiryBi(1) :: Float"],
"outputs": []
}
,
{
"cell_type" : "markdown",
"metadata" : {},
"source" : ["       0.9324"]
}
,
{
"cell_type" : "code",
"execution_count": null,
"metadata" : {
    "collapsed" : false
},
"source" : ["nagDAiryBi(5) :: Float"],
"outputs": []
}
,
{
"cell_type" : "markdown",
"metadata" : {},
"source" : ["       1436.0"]
}
,
{
"cell_type" : "code",
"execution_count": null,
"metadata" : {
    "collapsed" : false
},
"source" : ["nagDAiryBi(10) :: Float"],
"outputs": []
}
,
{
"cell_type" : "markdown",
"metadata" : {},
"source" : ["       0.1429 E 10"]
}
,
{
"cell_type" : "code",
"execution_count": null,
"metadata" : {
    "collapsed" : false
},
"source" : ["nagDAiryBi(20) :: Float"],
"outputs": []
}
,
{
"cell_type" : "markdown",
"metadata" : {},
"source" : ["       0.9382 E 26"]
}
,
{
"cell_type" : "markdown",
"metadata" : {},
"source" : [" nagDAiryBi : CDF -> CDF ;"]
}
,
{
"cell_type" : "code",
"execution_count": null,
"metadata" : {
    "collapsed" : false
},
"source" : ["nagDAiryBi(0.3+0.4*%i) :: Complex Float"],
"outputs": []
}
,
{
"cell_type" : "markdown",
"metadata" : {},
"source" : ["       0.4093 + 0.07966 %i"]
}
,
{
"cell_type" : "markdown",
"metadata" : {},
"source" : [" nagScaledDAiryAi : CDF -> CDF ;"]
}
,
{
"cell_type" : "code",
"execution_count": null,
"metadata" : {
    "collapsed" : false
},
"source" : ["nagScaledDAiryAi(0.3+0.4*%i) :: Complex Float"],
"outputs": []
}
,
{
"cell_type" : "markdown",
"metadata" : {},
"source" : ["       - 0.2744 - 0.02356 %i"]
}
,
{
"cell_type" : "markdown",
"metadata" : {},
"source" : [" nagScaledDAiryBi : CDF -> CDF ;"]
}
,
{
"cell_type" : "code",
"execution_count": null,
"metadata" : {
    "collapsed" : false
},
"source" : ["nagScaledDAiryBi(0.3+0.4*%i) :: Complex Float"],
"outputs": []
}
,
{
"cell_type" : "markdown",
"metadata" : {},
"source" : ["       0.3924 + 0.07638 %i"]
}
,
{
"cell_type" : "markdown",
"metadata" : {},
"source" : [" nagHankelH1 : (DF, CDF, Int) -> List CDF ;"]
}
,
{
"cell_type" : "code",
"execution_count": null,
"metadata" : {
    "collapsed" : false
},
"source" : ["nagHankelH1(0,0.3+0.4*%i,2) :: Matrix Complex Float"],
"outputs": []
}
,
{
"cell_type" : "markdown",
"metadata" : {},
"source" : ["       [0.3466 - 0.5588 %i  - 0.7912 - 0.8178 %i]"]
}
,
{
"cell_type" : "code",
"execution_count": null,
"metadata" : {
    "collapsed" : false
},
"source" : ["nagHankelH1(2.3,2,2) :: Matrix Complex Float"],
"outputs": []
}
,
{
"cell_type" : "markdown",
"metadata" : {},
"source" : ["       [0.2721 - 0.7398 %i  0.08902 - 1.412 %i]"]
}
,
{
"cell_type" : "code",
"execution_count": null,
"metadata" : {
    "collapsed" : false
},
"source" : ["nagHankelH1(2.12,-1,2) :: Matrix Complex Float"],
"outputs": []
}
,
{
"cell_type" : "markdown",
"metadata" : {},
"source" : ["       [- 0.7722 - 1.693 %i  2.601 + 6.527 %i]"]
}
,
{
"cell_type" : "markdown",
"metadata" : {},
"source" : [" nagHankelH2 : (DF, CDF, Int) -> List CDF ;"]
}
,
{
"cell_type" : "code",
"execution_count": null,
"metadata" : {
    "collapsed" : false
},
"source" : ["nagHankelH2(6,3.1-1.6*%i,2) :: Matrix Complex Float"],
"outputs": []
}
,
{
"cell_type" : "markdown",
"metadata" : {},
"source" : ["       [- 1.371 - 1.28 %i  - 1.491 - 5.993 %i]"]
}
,
{
"cell_type" : "markdown",
"metadata" : {},
"source" : [" nagScaledHankelH1 : (DF, CDF, Int) -> List CDF ;"]
}
,
{
"cell_type" : "code",
"execution_count": null,
"metadata" : {
    "collapsed" : false
},
"source" : ["nagScaledHankelH1(0,0.3+0.4*%i,2) :: Matrix Complex Float"],
"outputs": []
}
,
{
"cell_type" : "markdown",
"metadata" : {},
"source" : ["       [0.2477 - 0.9492 %i  - 1.488 - 0.8166 %i]"]
}
,
{
"cell_type" : "markdown",
"metadata" : {},
"source" : [" nagScaledHankelH2 : (DF, CDF, Int) -> List CDF ;"]
}
,
{
"cell_type" : "code",
"execution_count": null,
"metadata" : {
    "collapsed" : false
},
"source" : ["nagScaledHankelH2(6,3.1-1.6*%i,2) :: Matrix Complex Float"],
"outputs": []
}
,
{
"cell_type" : "markdown",
"metadata" : {},
"source" : ["       [7.05 + 6.052 %i  8.614 + 29.35 %i]"]
}
,
{
"cell_type" : "markdown",
"metadata" : {},
"source" : [" nagKelvinBer : DF -> DF ;"]
}
,
{
"cell_type" : "code",
"execution_count": null,
"metadata" : {
    "collapsed" : false
},
"source" : ["nagKelvinBer(0.1) :: Float"],
"outputs": []
}
,
{
"cell_type" : "markdown",
"metadata" : {},
"source" : ["       1.0"]
}
,
{
"cell_type" : "code",
"execution_count": null,
"metadata" : {
    "collapsed" : false
},
"source" : ["nagKelvinBer(1) :: Float"],
"outputs": []
}
,
{
"cell_type" : "markdown",
"metadata" : {},
"source" : ["       0.9844"]
}
,
{
"cell_type" : "code",
"execution_count": null,
"metadata" : {
    "collapsed" : false
},
"source" : ["nagKelvinBer(2.5) :: Float"],
"outputs": []
}
,
{
"cell_type" : "markdown",
"metadata" : {},
"source" : ["       0.4"]
}
,
{
"cell_type" : "code",
"execution_count": null,
"metadata" : {
    "collapsed" : false
},
"source" : ["nagKelvinBer(5) :: Float"],
"outputs": []
}
,
{
"cell_type" : "markdown",
"metadata" : {},
"source" : ["       - 6.23"]
}
,
{
"cell_type" : "code",
"execution_count": null,
"metadata" : {
    "collapsed" : false
},
"source" : ["nagKelvinBer(10) :: Float"],
"outputs": []
}
,
{
"cell_type" : "markdown",
"metadata" : {},
"source" : ["       138.8"]
}
,
{
"cell_type" : "code",
"execution_count": null,
"metadata" : {
    "collapsed" : false
},
"source" : ["nagKelvinBer(15) :: Float"],
"outputs": []
}
,
{
"cell_type" : "markdown",
"metadata" : {},
"source" : ["       - 2967.0"]
}
,
{
"cell_type" : "code",
"execution_count": null,
"metadata" : {
    "collapsed" : false
},
"source" : ["nagKelvinBer(60) :: Float"],
"outputs": []
}
,
{
"cell_type" : "markdown",
"metadata" : {},
"source" : [" ^ ABNORMAL EXIT from NAG Library routine S19AAF: IFAIL =     1"]
}
,
{
"cell_type" : "markdown",
"metadata" : {},
"source" : [" ^ NAG soft failure - control returned"]
}
,
{
"cell_type" : "markdown",
"metadata" : {},
"source" : [""]
}
,
{
"cell_type" : "markdown",
"metadata" : {},
"source" : ["   Error signalled from user code:"]
}
,
{
"cell_type" : "markdown",
"metadata" : {},
"source" : ["      An error was detected when calling the NAG Library routine"]
}
,
{
"cell_type" : "markdown",
"metadata" : {},
"source" : ["      S19AAF. The error number (IFAIL value) is 1, please consult the"]
}
,
{
"cell_type" : "markdown",
"metadata" : {},
"source" : ["      NAG manual via the Browser for diagnostic information."]
}
,
{
"cell_type" : "code",
"execution_count": null,
"metadata" : {
    "collapsed" : false
},
"source" : ["nagKelvinBer(-1) :: Float"],
"outputs": []
}
,
{
"cell_type" : "markdown",
"metadata" : {},
"source" : ["       0.9844"]
}
,
{
"cell_type" : "markdown",
"metadata" : {},
"source" : [" nagKelvinBei : DF -> DF ;"]
}
,
{
"cell_type" : "code",
"execution_count": null,
"metadata" : {
    "collapsed" : false
},
"source" : ["nagKelvinBei(0.1) :: Float"],
"outputs": []
}
,
{
"cell_type" : "markdown",
"metadata" : {},
"source" : ["       0.0025"]
}
,
{
"cell_type" : "code",
"execution_count": null,
"metadata" : {
    "collapsed" : false
},
"source" : ["nagKelvinBei(1) :: Float"],
"outputs": []
}
,
{
"cell_type" : "markdown",
"metadata" : {},
"source" : ["       0.2496"]
}
,
{
"cell_type" : "code",
"execution_count": null,
"metadata" : {
    "collapsed" : false
},
"source" : ["nagKelvinBei(2.5) :: Float"],
"outputs": []
}
,
{
"cell_type" : "markdown",
"metadata" : {},
"source" : ["       1.457"]
}
,
{
"cell_type" : "code",
"execution_count": null,
"metadata" : {
    "collapsed" : false
},
"source" : ["nagKelvinBei(5) :: Float"],
"outputs": []
}
,
{
"cell_type" : "markdown",
"metadata" : {},
"source" : ["       0.116"]
}
,
{
"cell_type" : "code",
"execution_count": null,
"metadata" : {
    "collapsed" : false
},
"source" : ["nagKelvinBei(10) :: Float"],
"outputs": []
}
,
{
"cell_type" : "markdown",
"metadata" : {},
"source" : ["       56.37"]
}
,
{
"cell_type" : "code",
"execution_count": null,
"metadata" : {
    "collapsed" : false
},
"source" : ["nagKelvinBei(15) :: Float"],
"outputs": []
}
,
{
"cell_type" : "markdown",
"metadata" : {},
"source" : ["       - 2953.0"]
}
,
{
"cell_type" : "code",
"execution_count": null,
"metadata" : {
    "collapsed" : false
},
"source" : ["nagKelvinBei(60) :: Float"],
"outputs": []
}
,
{
"cell_type" : "markdown",
"metadata" : {},
"source" : [" ^ ABNORMAL EXIT from NAG Library routine S19ABF: IFAIL =     1"]
}
,
{
"cell_type" : "markdown",
"metadata" : {},
"source" : [" ^ NAG soft failure - control returned"]
}
,
{
"cell_type" : "markdown",
"metadata" : {},
"source" : [""]
}
,
{
"cell_type" : "markdown",
"metadata" : {},
"source" : ["   Error signalled from user code:"]
}
,
{
"cell_type" : "markdown",
"metadata" : {},
"source" : ["      An error was detected when calling the NAG Library routine"]
}
,
{
"cell_type" : "markdown",
"metadata" : {},
"source" : ["      S19ABF. The error number (IFAIL value) is 1, please consult the"]
}
,
{
"cell_type" : "markdown",
"metadata" : {},
"source" : ["      NAG manual via the Browser for diagnostic information."]
}
,
{
"cell_type" : "code",
"execution_count": null,
"metadata" : {
    "collapsed" : false
},
"source" : ["nagKelvinBei(-1) :: Float"],
"outputs": []
}
,
{
"cell_type" : "markdown",
"metadata" : {},
"source" : ["       0.2496"]
}
,
{
"cell_type" : "markdown",
"metadata" : {},
"source" : [" nagKelvinKer : DF -> DF ;"]
}
,
{
"cell_type" : "code",
"execution_count": null,
"metadata" : {
    "collapsed" : false
},
"source" : ["nagKelvinKer(0) :: Float"],
"outputs": []
}
,
{
"cell_type" : "markdown",
"metadata" : {},
"source" : [" ^ ABNORMAL EXIT from NAG Library routine S19ACF: IFAIL =     2"]
}
,
{
"cell_type" : "markdown",
"metadata" : {},
"source" : [" ^ NAG soft failure - control returned"]
}
,
{
"cell_type" : "markdown",
"metadata" : {},
"source" : [""]
}
,
{
"cell_type" : "markdown",
"metadata" : {},
"source" : ["   Error signalled from user code:"]
}
,
{
"cell_type" : "markdown",
"metadata" : {},
"source" : ["      An error was detected when calling the NAG Library routine"]
}
,
{
"cell_type" : "markdown",
"metadata" : {},
"source" : ["      S19ACF. The error number (IFAIL value) is 2, please consult the"]
}
,
{
"cell_type" : "markdown",
"metadata" : {},
"source" : ["      NAG manual via the Browser for diagnostic information."]
}
,
{
"cell_type" : "code",
"execution_count": null,
"metadata" : {
    "collapsed" : false
},
"source" : ["nagKelvinKer(0.1) :: Float"],
"outputs": []
}
,
{
"cell_type" : "markdown",
"metadata" : {},
"source" : ["       2.42"]
}
,
{
"cell_type" : "code",
"execution_count": null,
"metadata" : {
    "collapsed" : false
},
"source" : ["nagKelvinKer(1) :: Float"],
"outputs": []
}
,
{
"cell_type" : "markdown",
"metadata" : {},
"source" : ["       0.2867"]
}
,
{
"cell_type" : "code",
"execution_count": null,
"metadata" : {
    "collapsed" : false
},
"source" : ["nagKelvinKer(2.5) :: Float"],
"outputs": []
}
,
{
"cell_type" : "markdown",
"metadata" : {},
"source" : ["       - 0.06969"]
}
,
{
"cell_type" : "code",
"execution_count": null,
"metadata" : {
    "collapsed" : false
},
"source" : ["nagKelvinKer(5) :: Float"],
"outputs": []
}
,
{
"cell_type" : "markdown",
"metadata" : {},
"source" : ["       - 0.01151"]
}
,
{
"cell_type" : "code",
"execution_count": null,
"metadata" : {
    "collapsed" : false
},
"source" : ["nagKelvinKer(10) :: Float"],
"outputs": []
}
,
{
"cell_type" : "markdown",
"metadata" : {},
"source" : ["       0.0001295"]
}
,
{
"cell_type" : "code",
"execution_count": null,
"metadata" : {
    "collapsed" : false
},
"source" : ["nagKelvinKer(15) :: Float"],
"outputs": []
}
,
{
"cell_type" : "markdown",
"metadata" : {},
"source" : ["       - 0.1514 E -7"]
}
,
{
"cell_type" : "code",
"execution_count": null,
"metadata" : {
    "collapsed" : false
},
"source" : ["nagKelvinKer(1100) :: Float"],
"outputs": []
}
,
{
"cell_type" : "markdown",
"metadata" : {},
"source" : [" ^ ABNORMAL EXIT from NAG Library routine S19ACF: IFAIL =     1"]
}
,
{
"cell_type" : "markdown",
"metadata" : {},
"source" : [" ^ NAG soft failure - control returned"]
}
,
{
"cell_type" : "markdown",
"metadata" : {},
"source" : [""]
}
,
{
"cell_type" : "markdown",
"metadata" : {},
"source" : ["   Error signalled from user code:"]
}
,
{
"cell_type" : "markdown",
"metadata" : {},
"source" : ["      An error was detected when calling the NAG Library routine"]
}
,
{
"cell_type" : "markdown",
"metadata" : {},
"source" : ["      S19ACF. The error number (IFAIL value) is 1, please consult the"]
}
,
{
"cell_type" : "markdown",
"metadata" : {},
"source" : ["      NAG manual via the Browser for diagnostic information."]
}
,
{
"cell_type" : "code",
"execution_count": null,
"metadata" : {
    "collapsed" : false
},
"source" : ["nagKelvinKer(-1) :: Float"],
"outputs": []
}
,
{
"cell_type" : "markdown",
"metadata" : {},
"source" : [" ^ ABNORMAL EXIT from NAG Library routine S19ACF: IFAIL =     2"]
}
,
{
"cell_type" : "markdown",
"metadata" : {},
"source" : [" ^ NAG soft failure - control returned"]
}
,
{
"cell_type" : "markdown",
"metadata" : {},
"source" : [""]
}
,
{
"cell_type" : "markdown",
"metadata" : {},
"source" : ["   Error signalled from user code:"]
}
,
{
"cell_type" : "markdown",
"metadata" : {},
"source" : ["      An error was detected when calling the NAG Library routine"]
}
,
{
"cell_type" : "markdown",
"metadata" : {},
"source" : ["      S19ACF. The error number (IFAIL value) is 2, please consult the"]
}
,
{
"cell_type" : "markdown",
"metadata" : {},
"source" : ["      NAG manual via the Browser for diagnostic information."]
}
,
{
"cell_type" : "markdown",
"metadata" : {},
"source" : [" nagKelvinKei : DF -> DF ;"]
}
,
{
"cell_type" : "code",
"execution_count": null,
"metadata" : {
    "collapsed" : false
},
"source" : ["nagKelvinKei(0) :: Float"],
"outputs": []
}
,
{
"cell_type" : "markdown",
"metadata" : {},
"source" : ["       - 0.7854"]
}
,
{
"cell_type" : "code",
"execution_count": null,
"metadata" : {
    "collapsed" : false
},
"source" : ["nagKelvinKei(0.1) :: Float"],
"outputs": []
}
,
{
"cell_type" : "markdown",
"metadata" : {},
"source" : ["       - 0.7769"]
}
,
{
"cell_type" : "code",
"execution_count": null,
"metadata" : {
    "collapsed" : false
},
"source" : ["nagKelvinKei(1) :: Float"],
"outputs": []
}
,
{
"cell_type" : "markdown",
"metadata" : {},
"source" : ["       - 0.495"]
}
,
{
"cell_type" : "code",
"execution_count": null,
"metadata" : {
    "collapsed" : false
},
"source" : ["nagKelvinKei(2.5) :: Float"],
"outputs": []
}
,
{
"cell_type" : "markdown",
"metadata" : {},
"source" : ["       - 0.1107"]
}
,
{
"cell_type" : "code",
"execution_count": null,
"metadata" : {
    "collapsed" : false
},
"source" : ["nagKelvinKei(5) :: Float"],
"outputs": []
}
,
{
"cell_type" : "markdown",
"metadata" : {},
"source" : ["       0.01119"]
}
,
{
"cell_type" : "code",
"execution_count": null,
"metadata" : {
    "collapsed" : false
},
"source" : ["nagKelvinKei(10) :: Float"],
"outputs": []
}
,
{
"cell_type" : "markdown",
"metadata" : {},
"source" : ["       - 0.0003075"]
}
,
{
"cell_type" : "code",
"execution_count": null,
"metadata" : {
    "collapsed" : false
},
"source" : ["nagKelvinKei(15) :: Float"],
"outputs": []
}
,
{
"cell_type" : "markdown",
"metadata" : {},
"source" : ["       0.000007963"]
}
,
{
"cell_type" : "code",
"execution_count": null,
"metadata" : {
    "collapsed" : false
},
"source" : ["nagKelvinKei(1100) :: Float"],
"outputs": []
}
,
{
"cell_type" : "markdown",
"metadata" : {},
"source" : [" ^ ABNORMAL EXIT from NAG Library routine S19ADF: IFAIL =     1"]
}
,
{
"cell_type" : "markdown",
"metadata" : {},
"source" : [" ^ NAG soft failure - control returned"]
}
,
{
"cell_type" : "markdown",
"metadata" : {},
"source" : [""]
}
,
{
"cell_type" : "markdown",
"metadata" : {},
"source" : ["   Error signalled from user code:"]
}
,
{
"cell_type" : "markdown",
"metadata" : {},
"source" : ["      An error was detected when calling the NAG Library routine"]
}
,
{
"cell_type" : "markdown",
"metadata" : {},
"source" : ["      S19ADF. The error number (IFAIL value) is 1, please consult the"]
}
,
{
"cell_type" : "markdown",
"metadata" : {},
"source" : ["      NAG manual via the Browser for diagnostic information."]
}
,
{
"cell_type" : "code",
"execution_count": null,
"metadata" : {
    "collapsed" : false
},
"source" : ["nagKelvinKei(-1) :: Float"],
"outputs": []
}
,
{
"cell_type" : "markdown",
"metadata" : {},
"source" : [" ^ ABNORMAL EXIT from NAG Library routine S19ADF: IFAIL =     2"]
}
,
{
"cell_type" : "markdown",
"metadata" : {},
"source" : [" ^ NAG soft failure - control returned"]
}
,
{
"cell_type" : "markdown",
"metadata" : {},
"source" : [""]
}
,
{
"cell_type" : "markdown",
"metadata" : {},
"source" : ["   Error signalled from user code:"]
}
,
{
"cell_type" : "markdown",
"metadata" : {},
"source" : ["      An error was detected when calling the NAG Library routine"]
}
,
{
"cell_type" : "markdown",
"metadata" : {},
"source" : ["      S19ADF. The error number (IFAIL value) is 2, please consult the"]
}
,
{
"cell_type" : "markdown",
"metadata" : {},
"source" : ["      NAG manual via the Browser for diagnostic information."]
}
,
{
"cell_type" : "markdown",
"metadata" : {},
"source" : [" nagFresnelS : DF -> DF ;"]
}
,
{
"cell_type" : "code",
"execution_count": null,
"metadata" : {
    "collapsed" : false
},
"source" : ["nagFresnelS(0) :: Float"],
"outputs": []
}
,
{
"cell_type" : "markdown",
"metadata" : {},
"source" : ["       0.0"]
}
,
{
"cell_type" : "code",
"execution_count": null,
"metadata" : {
    "collapsed" : false
},
"source" : ["nagFresnelS(0.5) :: Float"],
"outputs": []
}
,
{
"cell_type" : "markdown",
"metadata" : {},
"source" : ["       0.06473"]
}
,
{
"cell_type" : "code",
"execution_count": null,
"metadata" : {
    "collapsed" : false
},
"source" : ["nagFresnelS(1) :: Float"],
"outputs": []
}
,
{
"cell_type" : "markdown",
"metadata" : {},
"source" : ["       0.4383"]
}
,
{
"cell_type" : "code",
"execution_count": null,
"metadata" : {
    "collapsed" : false
},
"source" : ["nagFresnelS(2) :: Float"],
"outputs": []
}
,
{
"cell_type" : "markdown",
"metadata" : {},
"source" : ["       0.3434"]
}
,
{
"cell_type" : "code",
"execution_count": null,
"metadata" : {
    "collapsed" : false
},
"source" : ["nagFresnelS(4) :: Float"],
"outputs": []
}
,
{
"cell_type" : "markdown",
"metadata" : {},
"source" : ["       0.4205"]
}
,
{
"cell_type" : "code",
"execution_count": null,
"metadata" : {
    "collapsed" : false
},
"source" : ["nagFresnelS(5) :: Float"],
"outputs": []
}
,
{
"cell_type" : "markdown",
"metadata" : {},
"source" : ["       0.4992"]
}
,
{
"cell_type" : "code",
"execution_count": null,
"metadata" : {
    "collapsed" : false
},
"source" : ["nagFresnelS(6) :: Float"],
"outputs": []
}
,
{
"cell_type" : "markdown",
"metadata" : {},
"source" : ["       0.447"]
}
,
{
"cell_type" : "code",
"execution_count": null,
"metadata" : {
    "collapsed" : false
},
"source" : ["nagFresnelS(8) :: Float"],
"outputs": []
}
,
{
"cell_type" : "markdown",
"metadata" : {},
"source" : ["       0.4602"]
}
,
{
"cell_type" : "code",
"execution_count": null,
"metadata" : {
    "collapsed" : false
},
"source" : ["nagFresnelS(10) :: Float"],
"outputs": []
}
,
{
"cell_type" : "markdown",
"metadata" : {},
"source" : ["       0.4682"]
}
,
{
"cell_type" : "code",
"execution_count": null,
"metadata" : {
    "collapsed" : false
},
"source" : ["nagFresnelS(-1) :: Float"],
"outputs": []
}
,
{
"cell_type" : "markdown",
"metadata" : {},
"source" : ["       - 0.4383"]
}
,
{
"cell_type" : "code",
"execution_count": null,
"metadata" : {
    "collapsed" : false
},
"source" : ["nagFresnelS(1000) :: Float"],
"outputs": []
}
,
{
"cell_type" : "markdown",
"metadata" : {},
"source" : ["       0.4997"]
}
,
{
"cell_type" : "markdown",
"metadata" : {},
"source" : [" nagFresnelC : DF -> DF ;"]
}
,
{
"cell_type" : "code",
"execution_count": null,
"metadata" : {
    "collapsed" : false
},
"source" : ["nagFresnelC(0) :: Float"],
"outputs": []
}
,
{
"cell_type" : "markdown",
"metadata" : {},
"source" : ["       0.0"]
}
,
{
"cell_type" : "code",
"execution_count": null,
"metadata" : {
    "collapsed" : false
},
"source" : ["nagFresnelC(0.5) :: Float"],
"outputs": []
}
,
{
"cell_type" : "markdown",
"metadata" : {},
"source" : ["       0.4923"]
}
,
{
"cell_type" : "code",
"execution_count": null,
"metadata" : {
    "collapsed" : false
},
"source" : ["nagFresnelC(1) :: Float"],
"outputs": []
}
,
{
"cell_type" : "markdown",
"metadata" : {},
"source" : ["       0.7799"]
}
,
{
"cell_type" : "code",
"execution_count": null,
"metadata" : {
    "collapsed" : false
},
"source" : ["nagFresnelC(2) :: Float"],
"outputs": []
}
,
{
"cell_type" : "markdown",
"metadata" : {},
"source" : ["       0.4883"]
}
,
{
"cell_type" : "code",
"execution_count": null,
"metadata" : {
    "collapsed" : false
},
"source" : ["nagFresnelC(4) :: Float"],
"outputs": []
}
,
{
"cell_type" : "markdown",
"metadata" : {},
"source" : ["       0.4984"]
}
,
{
"cell_type" : "code",
"execution_count": null,
"metadata" : {
    "collapsed" : false
},
"source" : ["nagFresnelC(5) :: Float"],
"outputs": []
}
,
{
"cell_type" : "markdown",
"metadata" : {},
"source" : ["       0.5636"]
}
,
{
"cell_type" : "code",
"execution_count": null,
"metadata" : {
    "collapsed" : false
},
"source" : ["nagFresnelC(6) :: Float"],
"outputs": []
}
,
{
"cell_type" : "markdown",
"metadata" : {},
"source" : ["       0.4995"]
}
,
{
"cell_type" : "code",
"execution_count": null,
"metadata" : {
    "collapsed" : false
},
"source" : ["nagFresnelC(8) :: Float"],
"outputs": []
}
,
{
"cell_type" : "markdown",
"metadata" : {},
"source" : ["       0.4998"]
}
,
{
"cell_type" : "code",
"execution_count": null,
"metadata" : {
    "collapsed" : false
},
"source" : ["nagFresnelC(10) :: Float"],
"outputs": []
}
,
{
"cell_type" : "markdown",
"metadata" : {},
"source" : ["       0.4999"]
}
,
{
"cell_type" : "code",
"execution_count": null,
"metadata" : {
    "collapsed" : false
},
"source" : ["nagFresnelC(-1) :: Float"],
"outputs": []
}
,
{
"cell_type" : "markdown",
"metadata" : {},
"source" : ["       - 0.7799"]
}
,
{
"cell_type" : "code",
"execution_count": null,
"metadata" : {
    "collapsed" : false
},
"source" : ["nagFresnelC(1000) :: Float"],
"outputs": []
}
,
{
"cell_type" : "markdown",
"metadata" : {},
"source" : ["       0.5"]
}
,
{
"cell_type" : "markdown",
"metadata" : {},
"source" : [" nagEllipticIntegralRC : (DF, DF) -> DF ;"]
}
,
{
"cell_type" : "code",
"execution_count": null,
"metadata" : {
    "collapsed" : false
},
"source" : ["nagEllipticIntegralRC(0.5,1) :: Float"],
"outputs": []
}
,
{
"cell_type" : "markdown",
"metadata" : {},
"source" : ["       1.111"]
}
,
{
"cell_type" : "code",
"execution_count": null,
"metadata" : {
    "collapsed" : false
},
"source" : ["nagEllipticIntegralRC(1,1) :: Float"],
"outputs": []
}
,
{
"cell_type" : "markdown",
"metadata" : {},
"source" : ["       1.0"]
}
,
{
"cell_type" : "code",
"execution_count": null,
"metadata" : {
    "collapsed" : false
},
"source" : ["nagEllipticIntegralRC(1.5,1) :: Float"],
"outputs": []
}
,
{
"cell_type" : "markdown",
"metadata" : {},
"source" : ["       0.9312"]
}
,
{
"cell_type" : "markdown",
"metadata" : {},
"source" : [" nagEllipticIntegralRD : (DF, DF, DF) -> DF ;"]
}
,
{
"cell_type" : "code",
"execution_count": null,
"metadata" : {
    "collapsed" : false
},
"source" : ["nagEllipticIntegralRD(0.5,0.5,1) :: Float"],
"outputs": []
}
,
{
"cell_type" : "markdown",
"metadata" : {},
"source" : ["       1.479"]
}
,
{
"cell_type" : "code",
"execution_count": null,
"metadata" : {
    "collapsed" : false
},
"source" : ["nagEllipticIntegralRD(0.5,1,1) :: Float"],
"outputs": []
}
,
{
"cell_type" : "markdown",
"metadata" : {},
"source" : ["       1.211"]
}
,
{
"cell_type" : "code",
"execution_count": null,
"metadata" : {
    "collapsed" : false
},
"source" : ["nagEllipticIntegralRD(0.5,1.5,1) :: Float"],
"outputs": []
}
,
{
"cell_type" : "markdown",
"metadata" : {},
"source" : ["       1.061"]
}
,
{
"cell_type" : "code",
"execution_count": null,
"metadata" : {
    "collapsed" : false
},
"source" : ["nagEllipticIntegralRD(1,1,1) :: Float"],
"outputs": []
}
,
{
"cell_type" : "markdown",
"metadata" : {},
"source" : ["       1.0"]
}
,
{
"cell_type" : "code",
"execution_count": null,
"metadata" : {
    "collapsed" : false
},
"source" : ["nagEllipticIntegralRD(1,1.5,1) :: Float"],
"outputs": []
}
,
{
"cell_type" : "markdown",
"metadata" : {},
"source" : ["       0.8805"]
}
,
{
"cell_type" : "code",
"execution_count": null,
"metadata" : {
    "collapsed" : false
},
"source" : ["nagEllipticIntegralRD(1.5,1.5,1) :: Float"],
"outputs": []
}
,
{
"cell_type" : "markdown",
"metadata" : {},
"source" : ["       0.7775"]
}
,
{
"cell_type" : "markdown",
"metadata" : {},
"source" : [" nagEllipticIntegralRF : (DF, DF, DF) -> DF ;"]
}
,
{
"cell_type" : "code",
"execution_count": null,
"metadata" : {
    "collapsed" : false
},
"source" : ["nagEllipticIntegralRF(0.5,1,1.5) :: Float"],
"outputs": []
}
,
{
"cell_type" : "markdown",
"metadata" : {},
"source" : ["       1.028"]
}
,
{
"cell_type" : "code",
"execution_count": null,
"metadata" : {
    "collapsed" : false
},
"source" : ["nagEllipticIntegralRF(1,1.5,2) :: Float"],
"outputs": []
}
,
{
"cell_type" : "markdown",
"metadata" : {},
"source" : ["       0.826"]
}
,
{
"cell_type" : "code",
"execution_count": null,
"metadata" : {
    "collapsed" : false
},
"source" : ["nagEllipticIntegralRF(1.5,2,2.5) :: Float"],
"outputs": []
}
,
{
"cell_type" : "markdown",
"metadata" : {},
"source" : ["       0.7116"]
}
,
{
"cell_type" : "markdown",
"metadata" : {},
"source" : [" nagEllipticIntegralRJ : (DF, DF, DF, DF) -> DF ;"]
}
,
{
"cell_type" : "code",
"execution_count": null,
"metadata" : {
    "collapsed" : false
},
"source" : ["nagEllipticIntegralRJ(0.5,0.5,0.5,2) :: Float"],
"outputs": []
}
,
{
"cell_type" : "markdown",
"metadata" : {},
"source" : ["       1.118"]
}
,
{
"cell_type" : "code",
"execution_count": null,
"metadata" : {
    "collapsed" : false
},
"source" : ["nagEllipticIntegralRJ(0.5,0.5,1,2) :: Float"],
"outputs": []
}
,
{
"cell_type" : "markdown",
"metadata" : {},
"source" : ["       0.9221"]
}
,
{
"cell_type" : "code",
"execution_count": null,
"metadata" : {
    "collapsed" : false
},
"source" : ["nagEllipticIntegralRJ(0.5,0.5,1.5,2) :: Float"],
"outputs": []
}
,
{
"cell_type" : "markdown",
"metadata" : {},
"source" : ["       0.8115"]
}
,
{
"cell_type" : "code",
"execution_count": null,
"metadata" : {
    "collapsed" : false
},
"source" : ["nagEllipticIntegralRJ(0.5,1,1,2) :: Float"],
"outputs": []
}
,
{
"cell_type" : "markdown",
"metadata" : {},
"source" : ["       0.7671"]
}
,
{
"cell_type" : "code",
"execution_count": null,
"metadata" : {
    "collapsed" : false
},
"source" : ["nagEllipticIntegralRJ(0.5,1,1.5,2) :: Float"],
"outputs": []
}
,
{
"cell_type" : "markdown",
"metadata" : {},
"source" : ["       0.6784"]
}
,
{
"cell_type" : "code",
"execution_count": null,
"metadata" : {
    "collapsed" : false
},
"source" : ["nagEllipticIntegralRJ(0.5,1.5,1.5,2) :: Float"],
"outputs": []
}
,
{
"cell_type" : "markdown",
"metadata" : {},
"source" : ["       0.6017"]
}
,
{
"cell_type" : "code",
"execution_count": null,
"metadata" : {
    "collapsed" : false
},
"source" : ["nagEllipticIntegralRJ(1,1,1,2) :: Float"],
"outputs": []
}
,
{
"cell_type" : "markdown",
"metadata" : {},
"source" : ["       0.6438"]
}
,
{
"cell_type" : "code",
"execution_count": null,
"metadata" : {
    "collapsed" : false
},
"source" : ["nagEllipticIntegralRJ(1,1,1.5,2) :: Float"],
"outputs": []
}
,
{
"cell_type" : "markdown",
"metadata" : {},
"source" : ["       0.5722"]
}
,
{
"cell_type" : "code",
"execution_count": null,
"metadata" : {
    "collapsed" : false
},
"source" : ["nagEllipticIntegralRJ(1,1.5,1.5,2) :: Float"],
"outputs": []
}
,
{
"cell_type" : "markdown",
"metadata" : {},
"source" : ["       0.5101"]
}
,
{
"cell_type" : "code",
"execution_count": null,
"metadata" : {
    "collapsed" : false
},
"source" : ["nagEllipticIntegralRJ(1.5,1.5,1.5,2) :: Float"],
"outputs": []
}
,
{
"cell_type" : "markdown",
"metadata" : {},
"source" : ["       0.4561"]
}
,
{
"cell_type" : "code",
"execution_count": null,
"metadata" : {
    "collapsed" : false
},
"source" : ["outputGeneral()"],
"outputs": []
}
,
{
"cell_type" : "code",
"execution_count": null,
"metadata" : {
    "collapsed" : false
},
"source" : ["output \"End of tests\""],
"outputs": []
}
,
{
"cell_type" : "code",
"execution_count": null,
"metadata" : {
    "collapsed" : false
},
"source" : ["@"],
"outputs": []
}
,
{
"cell_type" : "code",
"execution_count": null,
"metadata" : {
    "collapsed" : false
},
"source" : ["\eject"],
"outputs": []
}
,
{
"cell_type" : "code",
"execution_count": null,
"metadata" : {
    "collapsed" : false
},
"source" : ["\begin{thebibliography}{99}"],
"outputs": []
}
,
{
"cell_type" : "code",
"execution_count": null,
"metadata" : {
    "collapsed" : false
},
"source" : ["\bibitem{1} nothing"],
"outputs": []
}
,
{
"cell_type" : "code",
"execution_count": null,
"metadata" : {
    "collapsed" : false
},
"source" : ["\end{thebibliography}"],
"outputs": []
}
,
{
"cell_type" : "code",
"execution_count": null,
"metadata" : {
    "collapsed" : false
},
"source" : ["\end{document}"],
"outputs": []
}
,
{
"cell_type" : "code",
"execution_count": null,
"metadata" : {
    "collapsed" : false
},
"source" : [""],
"outputs": []
}
 ],
"metadata": {
 "kernelspec": {
  "display_name": "FriCAS",
  "language": "spad",
  "name": "ifricas"
 },
 "language_info": {
  "codemirror_mode": "spad",
  "mimetype": "text/x-spad",
  "name": "SPAD",
  "pygments_lexer": "spad",
  "version": "1.2.6"
 },
 "name": "nsfip.ipynb"
},
"nbformat": 4,
"nbformat_minor": 0
}
