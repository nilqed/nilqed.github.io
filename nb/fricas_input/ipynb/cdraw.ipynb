{
 "cells": [
{
"cell_type" : "markdown",
"metadata" : {},
"source" : ["Copyright The Numerical Algorithms Group Limited 1994."]
}
,
{
"cell_type" : "markdown",
"metadata" : {},
"source" : [" complex surface and vector field drawing by SCM"]
}
,
{
"cell_type" : "markdown",
"metadata" : {},
"source" : [" complex surface vector field drawing"]
}
,
{
"cell_type" : "code",
"execution_count": null,
"metadata" : {
    "collapsed" : false
},
"source" : ["C := Complex DoubleFloat"],
"outputs": []
}
,
{
"cell_type" : "code",
"execution_count": null,
"metadata" : {
    "collapsed" : false
},
"source" : ["S := Segment DoubleFloat"],
"outputs": []
}
,
{
"cell_type" : "code",
"execution_count": null,
"metadata" : {
    "collapsed" : false
},
"source" : ["PC := Record(rr:DoubleFloat, th:DoubleFloat)"],
"outputs": []
}
,
{
"cell_type" : "code",
"execution_count": null,
"metadata" : {
    "collapsed" : false
},
"source" : ["realSteps: PI := 25    -- the number of steps in the real direction"],
"outputs": []
}
,
{
"cell_type" : "code",
"execution_count": null,
"metadata" : {
    "collapsed" : false
},
"source" : ["imagSteps: PI := 25    -- the number of steps in the imaginary direction"],
"outputs": []
}
,
{
"cell_type" : "code",
"execution_count": null,
"metadata" : {
    "collapsed" : false
},
"source" : ["clipValue: DoubleFloat := 10    -- the maximum length of a vector to draw"],
"outputs": []
}
,
{
"cell_type" : "markdown",
"metadata" : {},
"source" : [" Draw a complex function as a height field"]
}
,
{
"cell_type" : "markdown",
"metadata" : {},
"source" : [" uses the complex norm as the height and the complex argument as the color"]
}
,
{
"cell_type" : "markdown",
"metadata" : {},
"source" : [" optionally it will draw arrows on the surface indicating the direction"]
}
,
{
"cell_type" : "markdown",
"metadata" : {},
"source" : [" of the complex argument"]
}
,
{
"cell_type" : "markdown",
"metadata" : {},
"source" : [" sample call:"]
}
,
{
"cell_type" : "markdown",
"metadata" : {},
"source" : ["   f: C -> C"]
}
,
{
"cell_type" : "markdown",
"metadata" : {},
"source" : ["   f z == exp(1/z)"]
}
,
{
"cell_type" : "markdown",
"metadata" : {},
"source" : ["   drawComplex(f, 0.3..3, 0..2*%pi, false)"]
}
,
{
"cell_type" : "markdown",
"metadata" : {},
"source" : [" parameter descriptions:"]
}
,
{
"cell_type" : "markdown",
"metadata" : {},
"source" : ["   f:  the function to draw"]
}
,
{
"cell_type" : "markdown",
"metadata" : {},
"source" : ["   rRange: the range of the real values"]
}
,
{
"cell_type" : "markdown",
"metadata" : {},
"source" : ["   imagRange: the range of imaginary values"]
}
,
{
"cell_type" : "code",
"execution_count": null,
"metadata" : {
    "collapsed" : false
},
"source" : ["drawComplex(f: C -> C, realRange: S, imagRange: S): VIEW3D =="],
"outputs": []
}
,
{
"cell_type" : "code",
"execution_count": null,
"metadata" : {
    "collapsed" : false
},
"source" : ["  free realSteps, imagSteps"],
"outputs": []
}
,
{
"cell_type" : "code",
"execution_count": null,
"metadata" : {
    "collapsed" : false
},
"source" : ["  delReal := (hi(realRange) - lo(realRange))/realSteps"],
"outputs": []
}
,
{
"cell_type" : "code",
"execution_count": null,
"metadata" : {
    "collapsed" : false
},
"source" : ["  delImag := (hi(imagRange) - lo(imagRange))/imagSteps"],
"outputs": []
}
,
{
"cell_type" : "code",
"execution_count": null,
"metadata" : {
    "collapsed" : false
},
"source" : ["  funTable: ARRAY2(PC) := new(realSteps+1, imagSteps+1, [0,0]$PC)"],
"outputs": []
}
,
{
"cell_type" : "code",
"execution_count": null,
"metadata" : {
    "collapsed" : false
},
"source" : ["  real := lo(realRange)"],
"outputs": []
}
,
{
"cell_type" : "code",
"execution_count": null,
"metadata" : {
    "collapsed" : false
},
"source" : ["  for i in 1..realSteps+1 repeat"],
"outputs": []
}
,
{
"cell_type" : "code",
"execution_count": null,
"metadata" : {
    "collapsed" : false
},
"source" : ["    imag := lo(imagRange)"],
"outputs": []
}
,
{
"cell_type" : "code",
"execution_count": null,
"metadata" : {
    "collapsed" : false
},
"source" : ["    for j in 1..imagSteps+1 repeat"],
"outputs": []
}
,
{
"cell_type" : "code",
"execution_count": null,
"metadata" : {
    "collapsed" : false
},
"source" : ["      z := f complex(real, imag)"],
"outputs": []
}
,
{
"cell_type" : "code",
"execution_count": null,
"metadata" : {
    "collapsed" : false
},
"source" : ["      funTable(i,j) := [clipFun(sqrt norm z), argument(z)]$PC"],
"outputs": []
}
,
{
"cell_type" : "code",
"execution_count": null,
"metadata" : {
    "collapsed" : false
},
"source" : ["      imag := imag + delImag"],
"outputs": []
}
,
{
"cell_type" : "code",
"execution_count": null,
"metadata" : {
    "collapsed" : false
},
"source" : ["    real := real + delReal"],
"outputs": []
}
,
{
"cell_type" : "code",
"execution_count": null,
"metadata" : {
    "collapsed" : false
},
"source" : ["  llp:List List Point DoubleFloat := []"],
"outputs": []
}
,
{
"cell_type" : "code",
"execution_count": null,
"metadata" : {
    "collapsed" : false
},
"source" : ["  real := lo(realRange)"],
"outputs": []
}
,
{
"cell_type" : "code",
"execution_count": null,
"metadata" : {
    "collapsed" : false
},
"source" : ["  for i in 1..realSteps+1 repeat"],
"outputs": []
}
,
{
"cell_type" : "code",
"execution_count": null,
"metadata" : {
    "collapsed" : false
},
"source" : ["    imag := lo(imagRange)"],
"outputs": []
}
,
{
"cell_type" : "code",
"execution_count": null,
"metadata" : {
    "collapsed" : false
},
"source" : ["    lp:List Point DoubleFloat := []"],
"outputs": []
}
,
{
"cell_type" : "code",
"execution_count": null,
"metadata" : {
    "collapsed" : false
},
"source" : ["    for j in 1..imagSteps+1 repeat"],
"outputs": []
}
,
{
"cell_type" : "code",
"execution_count": null,
"metadata" : {
    "collapsed" : false
},
"source" : ["      lp := cons(point [real,imag, funTable(i,j).rr,"],
"outputs": []
}
,
{
"cell_type" : "code",
"execution_count": null,
"metadata" : {
    "collapsed" : false
},
"source" : ["                                    funTable(i,j).th] ,lp)"],
"outputs": []
}
,
{
"cell_type" : "code",
"execution_count": null,
"metadata" : {
    "collapsed" : false
},
"source" : ["      imag := imag + delImag"],
"outputs": []
}
,
{
"cell_type" : "code",
"execution_count": null,
"metadata" : {
    "collapsed" : false
},
"source" : ["    real := real + delReal"],
"outputs": []
}
,
{
"cell_type" : "code",
"execution_count": null,
"metadata" : {
    "collapsed" : false
},
"source" : ["    llp := cons(reverse! lp, llp)"],
"outputs": []
}
,
{
"cell_type" : "code",
"execution_count": null,
"metadata" : {
    "collapsed" : false
},
"source" : ["  llp := reverse! llp"],
"outputs": []
}
,
{
"cell_type" : "code",
"execution_count": null,
"metadata" : {
    "collapsed" : false
},
"source" : ["  space := mesh(llp)$ThreeSpace(DoubleFloat)"],
"outputs": []
}
,
{
"cell_type" : "code",
"execution_count": null,
"metadata" : {
    "collapsed" : false
},
"source" : ["  makeViewport3D(space, \"Complex Function\")$VIEW3D"],
"outputs": []
}
,
{
"cell_type" : "markdown",
"metadata" : {},
"source" : [" draw a complex vector field"]
}
,
{
"cell_type" : "markdown",
"metadata" : {},
"source" : [" these vector fields should be viewed from the top by pressing the"]
}
,
{
"cell_type" : "markdown",
"metadata" : {},
"source" : [" \"XY\" translate button on the VIEW3D control panel"]
}
,
{
"cell_type" : "markdown",
"metadata" : {},
"source" : [" parameters:"]
}
,
{
"cell_type" : "markdown",
"metadata" : {},
"source" : ["   f: the mapping from C to C which we will draw"]
}
,
{
"cell_type" : "markdown",
"metadata" : {},
"source" : ["   realRange: the range of the reals"]
}
,
{
"cell_type" : "markdown",
"metadata" : {},
"source" : ["   tRange: the range of the imaginaries"]
}
,
{
"cell_type" : "markdown",
"metadata" : {},
"source" : [" sample call:"]
}
,
{
"cell_type" : "markdown",
"metadata" : {},
"source" : ["    f z == sin z"]
}
,
{
"cell_type" : "markdown",
"metadata" : {},
"source" : ["    drawComplexVectorField(f, -2..2, -2..2)"]
}
,
{
"cell_type" : "markdown",
"metadata" : {},
"source" : [" call the functions 'setRealSteps' and 'setImagSteps' to change the"]
}
,
{
"cell_type" : "markdown",
"metadata" : {},
"source" : [" number of arrows drawn in each direction."]
}
,
{
"cell_type" : "code",
"execution_count": null,
"metadata" : {
    "collapsed" : false
},
"source" : ["drawComplexVectorField(f: C -> C, realRange: S, imagRange: S): VIEW3D =="],
"outputs": []
}
,
{
"cell_type" : "code",
"execution_count": null,
"metadata" : {
    "collapsed" : false
},
"source" : ["  -- compute the steps size of the grid"],
"outputs": []
}
,
{
"cell_type" : "code",
"execution_count": null,
"metadata" : {
    "collapsed" : false
},
"source" : ["  delReal := (hi(realRange) - lo(realRange))/realSteps"],
"outputs": []
}
,
{
"cell_type" : "code",
"execution_count": null,
"metadata" : {
    "collapsed" : false
},
"source" : ["  delImag := (hi(imagRange) - lo(imagRange))/imagSteps"],
"outputs": []
}
,
{
"cell_type" : "code",
"execution_count": null,
"metadata" : {
    "collapsed" : false
},
"source" : ["  -- create the space to hold the arrows"],
"outputs": []
}
,
{
"cell_type" : "code",
"execution_count": null,
"metadata" : {
    "collapsed" : false
},
"source" : ["  space := create3Space()$ThreeSpace DoubleFloat"],
"outputs": []
}
,
{
"cell_type" : "code",
"execution_count": null,
"metadata" : {
    "collapsed" : false
},
"source" : ["  real := lo(realRange)"],
"outputs": []
}
,
{
"cell_type" : "code",
"execution_count": null,
"metadata" : {
    "collapsed" : false
},
"source" : ["  for i in 1..realSteps+1 repeat"],
"outputs": []
}
,
{
"cell_type" : "code",
"execution_count": null,
"metadata" : {
    "collapsed" : false
},
"source" : ["    imag := lo(imagRange)"],
"outputs": []
}
,
{
"cell_type" : "code",
"execution_count": null,
"metadata" : {
    "collapsed" : false
},
"source" : ["    for j in 1..imagSteps+1 repeat"],
"outputs": []
}
,
{
"cell_type" : "code",
"execution_count": null,
"metadata" : {
    "collapsed" : false
},
"source" : ["      -- compute the function"],
"outputs": []
}
,
{
"cell_type" : "code",
"execution_count": null,
"metadata" : {
    "collapsed" : false
},
"source" : ["      z := f complex(real, imag)"],
"outputs": []
}
,
{
"cell_type" : "code",
"execution_count": null,
"metadata" : {
    "collapsed" : false
},
"source" : ["      -- get the direction of the arrow"],
"outputs": []
}
,
{
"cell_type" : "code",
"execution_count": null,
"metadata" : {
    "collapsed" : false
},
"source" : ["      arg := argument z"],
"outputs": []
}
,
{
"cell_type" : "code",
"execution_count": null,
"metadata" : {
    "collapsed" : false
},
"source" : ["      -- get the length of the arrow"],
"outputs": []
}
,
{
"cell_type" : "code",
"execution_count": null,
"metadata" : {
    "collapsed" : false
},
"source" : ["      len := clipFun(sqrt norm z)"],
"outputs": []
}
,
{
"cell_type" : "code",
"execution_count": null,
"metadata" : {
    "collapsed" : false
},
"source" : ["      -- create point at the base of the arrow"],
"outputs": []
}
,
{
"cell_type" : "code",
"execution_count": null,
"metadata" : {
    "collapsed" : false
},
"source" : ["      p1 :=  point [real, imag, 0.0@DoubleFloat, arg]"],
"outputs": []
}
,
{
"cell_type" : "code",
"execution_count": null,
"metadata" : {
    "collapsed" : false
},
"source" : ["      -- scale the arrow length so it isn't too long"],
"outputs": []
}
,
{
"cell_type" : "code",
"execution_count": null,
"metadata" : {
    "collapsed" : false
},
"source" : ["      scaleLen := delReal * len"],
"outputs": []
}
,
{
"cell_type" : "code",
"execution_count": null,
"metadata" : {
    "collapsed" : false
},
"source" : ["      -- create the point at the top of the arrow"],
"outputs": []
}
,
{
"cell_type" : "code",
"execution_count": null,
"metadata" : {
    "collapsed" : false
},
"source" : ["      p2 := point [p1.1 + scaleLen*cos(arg), p1.2 + scaleLen*sin(arg),"],
"outputs": []
}
,
{
"cell_type" : "code",
"execution_count": null,
"metadata" : {
    "collapsed" : false
},
"source" : ["                   0.0@DoubleFloat, arg]"],
"outputs": []
}
,
{
"cell_type" : "code",
"execution_count": null,
"metadata" : {
    "collapsed" : false
},
"source" : ["      -- make the pointer at the top of the arrow"],
"outputs": []
}
,
{
"cell_type" : "code",
"execution_count": null,
"metadata" : {
    "collapsed" : false
},
"source" : ["      arrow := makeArrow(p1, p2, scaleLen, arg)"],
"outputs": []
}
,
{
"cell_type" : "code",
"execution_count": null,
"metadata" : {
    "collapsed" : false
},
"source" : ["      -- add the line segments in the arrow to the space"],
"outputs": []
}
,
{
"cell_type" : "code",
"execution_count": null,
"metadata" : {
    "collapsed" : false
},
"source" : ["      for a in arrow repeat curve(space, a)$ThreeSpace DoubleFloat"],
"outputs": []
}
,
{
"cell_type" : "code",
"execution_count": null,
"metadata" : {
    "collapsed" : false
},
"source" : ["      imag := imag + delImag"],
"outputs": []
}
,
{
"cell_type" : "code",
"execution_count": null,
"metadata" : {
    "collapsed" : false
},
"source" : ["    real := real + delReal"],
"outputs": []
}
,
{
"cell_type" : "code",
"execution_count": null,
"metadata" : {
    "collapsed" : false
},
"source" : ["  -- draw the vector feild"],
"outputs": []
}
,
{
"cell_type" : "code",
"execution_count": null,
"metadata" : {
    "collapsed" : false
},
"source" : ["  makeViewport3D(space, \"Complex Vector Field\")$VIEW3D"],
"outputs": []
}
,
{
"cell_type" : "markdown",
"metadata" : {},
"source" : [" relative size of the arrow head compared to the length of the arrow"]
}
,
{
"cell_type" : "code",
"execution_count": null,
"metadata" : {
    "collapsed" : false
},
"source" : ["arrowScale := 0.25@DoubleFloat"],
"outputs": []
}
,
{
"cell_type" : "markdown",
"metadata" : {},
"source" : [" angle of the arrow head"]
}
,
{
"cell_type" : "code",
"execution_count": null,
"metadata" : {
    "collapsed" : false
},
"source" : ["arrowAngle := %pi-%pi/10.0@DoubleFloat"],
"outputs": []
}
,
{
"cell_type" : "markdown",
"metadata" : {},
"source" : [" Add an arrow head to a line segment, which starts at 'p1', ends at 'p2',"]
}
,
{
"cell_type" : "markdown",
"metadata" : {},
"source" : [" has length 'len', and and angle 'arg'.  We pass 'len' and 'arg' as"]
}
,
{
"cell_type" : "markdown",
"metadata" : {},
"source" : [" arguments since thet were already computed by the calling program"]
}
,
{
"cell_type" : "code",
"execution_count": null,
"metadata" : {
    "collapsed" : false
},
"source" : ["makeArrow(p1, p2, len, arg) =="],
"outputs": []
}
,
{
"cell_type" : "code",
"execution_count": null,
"metadata" : {
    "collapsed" : false
},
"source" : ["  c1 := cos(arg + arrowAngle)"],
"outputs": []
}
,
{
"cell_type" : "code",
"execution_count": null,
"metadata" : {
    "collapsed" : false
},
"source" : ["  s1 := sin(arg + arrowAngle)"],
"outputs": []
}
,
{
"cell_type" : "code",
"execution_count": null,
"metadata" : {
    "collapsed" : false
},
"source" : ["  c2 := cos(arg - arrowAngle)"],
"outputs": []
}
,
{
"cell_type" : "code",
"execution_count": null,
"metadata" : {
    "collapsed" : false
},
"source" : ["  s2 := sin(arg - arrowAngle)"],
"outputs": []
}
,
{
"cell_type" : "code",
"execution_count": null,
"metadata" : {
    "collapsed" : false
},
"source" : ["  p3 := point [p2.1 + c1*arrowScale*len, p2.2 + s1*arrowScale*len,"],
"outputs": []
}
,
{
"cell_type" : "code",
"execution_count": null,
"metadata" : {
    "collapsed" : false
},
"source" : ["               p2.3, p2.4]"],
"outputs": []
}
,
{
"cell_type" : "code",
"execution_count": null,
"metadata" : {
    "collapsed" : false
},
"source" : ["  p4 := point [p2.1 + c2*arrowScale*len, p2.2 + s2*arrowScale*len,"],
"outputs": []
}
,
{
"cell_type" : "code",
"execution_count": null,
"metadata" : {
    "collapsed" : false
},
"source" : ["               p2.3, p2.4]"],
"outputs": []
}
,
{
"cell_type" : "code",
"execution_count": null,
"metadata" : {
    "collapsed" : false
},
"source" : ["  [[p1, p2, p3], [p2, p4]]"],
"outputs": []
}
,
{
"cell_type" : "markdown",
"metadata" : {},
"source" : [" set the number of steps to use in the real direction"]
}
,
{
"cell_type" : "code",
"execution_count": null,
"metadata" : {
    "collapsed" : false
},
"source" : ["setRealSteps(n) =="],
"outputs": []
}
,
{
"cell_type" : "code",
"execution_count": null,
"metadata" : {
    "collapsed" : false
},
"source" : ["  free realSteps"],
"outputs": []
}
,
{
"cell_type" : "code",
"execution_count": null,
"metadata" : {
    "collapsed" : false
},
"source" : ["  realSteps := n"],
"outputs": []
}
,
{
"cell_type" : "markdown",
"metadata" : {},
"source" : [" set the number of steps to use in the imaginary direction"]
}
,
{
"cell_type" : "code",
"execution_count": null,
"metadata" : {
    "collapsed" : false
},
"source" : ["setImagSteps(n) =="],
"outputs": []
}
,
{
"cell_type" : "code",
"execution_count": null,
"metadata" : {
    "collapsed" : false
},
"source" : ["  free imagSteps"],
"outputs": []
}
,
{
"cell_type" : "code",
"execution_count": null,
"metadata" : {
    "collapsed" : false
},
"source" : ["  imagSteps := n"],
"outputs": []
}
,
{
"cell_type" : "markdown",
"metadata" : {},
"source" : [" set the maximum length of a vector"]
}
,
{
"cell_type" : "code",
"execution_count": null,
"metadata" : {
    "collapsed" : false
},
"source" : ["setClipValue clip =="],
"outputs": []
}
,
{
"cell_type" : "code",
"execution_count": null,
"metadata" : {
    "collapsed" : false
},
"source" : ["  free clipValue"],
"outputs": []
}
,
{
"cell_type" : "code",
"execution_count": null,
"metadata" : {
    "collapsed" : false
},
"source" : ["  clipValue := clip"],
"outputs": []
}
,
{
"cell_type" : "markdown",
"metadata" : {},
"source" : [" clip a value in the interval (-clip...clip)"]
}
,
{
"cell_type" : "code",
"execution_count": null,
"metadata" : {
    "collapsed" : false
},
"source" : ["clipFun(x:DoubleFloat):DoubleFloat =="],
"outputs": []
}
,
{
"cell_type" : "code",
"execution_count": null,
"metadata" : {
    "collapsed" : false
},
"source" : ["  min(max(x, -clipValue), clipValue)"],
"outputs": []
}
,
{
"cell_type" : "code",
"execution_count": null,
"metadata" : {
    "collapsed" : false
},
"source" : [""],
"outputs": []
}
 ],
"metadata": {
 "kernelspec": {
  "display_name": "FriCAS",
  "language": "spad",
  "name": "ifricas"
 },
 "language_info": {
  "codemirror_mode": "spad",
  "mimetype": "text/x-spad",
  "name": "SPAD",
  "pygments_lexer": "spad",
  "version": "1.2.6"
 },
 "name": "cdraw.ipynb"
},
"nbformat": 4,
"nbformat_minor": 0
}
