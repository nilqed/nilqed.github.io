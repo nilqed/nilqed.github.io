{
 "cells": [
{
"cell_type" : "code",
"execution_count": null,
"metadata" : {
    "collapsed" : false
},
"source" : [")clear all"],
"outputs": []
}
,
{
"cell_type" : "markdown",
"metadata" : {},
"source" : [" see how long this all takes"]
}
,
{
"cell_type" : "code",
"execution_count": null,
"metadata" : {
    "collapsed" : false
},
"source" : [")set messages time on"],
"outputs": []
}
,
{
"cell_type" : "markdown",
"metadata" : {},
"source" : [" this is the color function, nothing elaborate for now"]
}
,
{
"cell_type" : "markdown",
"metadata" : {},
"source" : [" f(x:SF):SF == x"]
}
,
{
"cell_type" : "markdown",
"metadata" : {},
"source" : ["------------------------------------------------------------"]
}
,
{
"cell_type" : "markdown",
"metadata" : {},
"source" : ["         Creation of the knot!!!                          --"]
}
,
{
"cell_type" : "markdown",
"metadata" : {},
"source" : [" only p/q is really used, but p and q correspond to       --"]
}
,
{
"cell_type" : "markdown",
"metadata" : {},
"source" : [" the factors in the notes deriving these knotty things    --"]
}
,
{
"cell_type" : "markdown",
"metadata" : {},
"source" : [" see the notes for detail...too involved to explain here  --"]
}
,
{
"cell_type" : "markdown",
"metadata" : {},
"source" : ["------------------------------------------------------------"]
}
,
{
"cell_type" : "code",
"execution_count": null,
"metadata" : {
    "collapsed" : false
},
"source" : ["[p,q] := [3,5]"],
"outputs": []
}
,
{
"cell_type" : "code",
"execution_count": null,
"metadata" : {
    "collapsed" : false
},
"source" : ["PQ    := p/q"],
"outputs": []
}
,
{
"cell_type" : "code",
"execution_count": null,
"metadata" : {
    "collapsed" : false
},
"source" : ["l := lcm(p, q) quo p"],
"outputs": []
}
,
{
"cell_type" : "code",
"execution_count": null,
"metadata" : {
    "collapsed" : false
},
"source" : ["maxRange := (odd? l => l * %pi; 2 * l * %pi)"],
"outputs": []
}
,
{
"cell_type" : "code",
"execution_count": null,
"metadata" : {
    "collapsed" : false
},
"source" : ["theRange := 0..maxRange"],
"outputs": []
}
,
{
"cell_type" : "code",
"execution_count": null,
"metadata" : {
    "collapsed" : false
},
"source" : ["draw(curve(sin t * cos(PQ*t),cos t * cos(PQ*t),cos t * sin(PQ*t)),"],
"outputs": []
}
,
{
"cell_type" : "code",
"execution_count": null,
"metadata" : {
    "collapsed" : false
},
"source" : ["     t=theRange, tubeRadius==0.1)"],
"outputs": []
}
,
{
"cell_type" : "markdown",
"metadata" : {},
"source" : [" create the knot"]
}
,
{
"cell_type" : "markdown",
"metadata" : {},
"source" : [" knot:TUBE Plot3D := tubePlot(sin t * cos(PQ*t),cos t * cos(PQ*t),cos t * sin(PQ*t),"]
}
,
{
"cell_type" : "markdown",
"metadata" : {},
"source" : ["                      f, theRange, 0.1::SF, 6, \"open\" )$ExpressionTubePlot"]
}
,
{
"cell_type" : "markdown",
"metadata" : {},
"source" : [" make a viewport out of it"]
}
,
{
"cell_type" : "markdown",
"metadata" : {},
"source" : ["makeViewport3D(knot, concat [\"knot\",p::String,q::String])$VIEW3D"]
}
,
{
"cell_type" : "code",
"execution_count": null,
"metadata" : {
    "collapsed" : false
},
"source" : [""],
"outputs": []
}
 ],
"metadata": {
 "kernelspec": {
  "display_name": "FriCAS",
  "language": "spad",
  "name": "ifricas"
 },
 "language_info": {
  "codemirror_mode": "spad",
  "mimetype": "text/x-spad",
  "name": "SPAD",
  "pygments_lexer": "spad",
  "version": "1.2.6"
 },
 "name": "knot2.ipynb"
},
"nbformat": 4,
"nbformat_minor": 0
}
