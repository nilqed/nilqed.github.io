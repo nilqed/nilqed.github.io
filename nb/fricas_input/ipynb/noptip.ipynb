{
 "cells": [
{
"cell_type" : "markdown",
"metadata" : {},
"source" : ["Copyright The Numerical Algorithms Group Limited 1994."]
}
,
{
"cell_type" : "markdown",
"metadata" : {},
"source" : [" Note that the conversions of results from DoubleFloat to Float"]
}
,
{
"cell_type" : "markdown",
"metadata" : {},
"source" : [" will become unnecessary if outputGeneral is extended to apply to"]
}
,
{
"cell_type" : "markdown",
"metadata" : {},
"source" : [" DoubleFloat quantities."]
}
,
{
"cell_type" : "code",
"execution_count": null,
"metadata" : {
    "collapsed" : false
},
"source" : ["outputGeneral 5"],
"outputs": []
}
,
{
"cell_type" : "code",
"execution_count": null,
"metadata" : {
    "collapsed" : false
},
"source" : ["f := %e^x*(4*x^2 + 2*y^2 + 4*x*y + 2*y + 1);"],
"outputs": []
}
,
{
"cell_type" : "code",
"execution_count": null,
"metadata" : {
    "collapsed" : false
},
"source" : ["start := [x=-1.0, y=1.0];"],
"outputs": []
}
,
{
"cell_type" : "code",
"execution_count": null,
"metadata" : {
    "collapsed" : false
},
"source" : ["nagMin(f,start) :: List Equation Polynomial Float"],
"outputs": []
}
,
{
"cell_type" : "markdown",
"metadata" : {},
"source" : ["       [x= 0.5,y= - 1.0]"]
}
,
{
"cell_type" : "code",
"execution_count": null,
"metadata" : {
    "collapsed" : false
},
"source" : ["outputGeneral()"],
"outputs": []
}
,
{
"cell_type" : "code",
"execution_count": null,
"metadata" : {
    "collapsed" : false
},
"source" : ["output \"End of tests\""],
"outputs": []
}
,
{
"cell_type" : "code",
"execution_count": null,
"metadata" : {
    "collapsed" : false
},
"source" : [""],
"outputs": []
}
 ],
"metadata": {
 "kernelspec": {
  "display_name": "FriCAS",
  "language": "spad",
  "name": "ifricas"
 },
 "language_info": {
  "codemirror_mode": "spad",
  "mimetype": "text/x-spad",
  "name": "SPAD",
  "pygments_lexer": "spad",
  "version": "1.2.6"
 },
 "name": "noptip.ipynb"
},
"nbformat": 4,
"nbformat_minor": 0
}
