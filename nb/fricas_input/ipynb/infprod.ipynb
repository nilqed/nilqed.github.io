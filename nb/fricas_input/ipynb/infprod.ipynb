{
 "cells": [
{
"cell_type" : "markdown",
"metadata" : {},
"source" : ["Copyright The Numerical Algorithms Group Limited 1991."]
}
,
{
"cell_type" : "markdown",
"metadata" : {},
"source" : ["% Infinite products of Taylor series"]
}
,
{
"cell_type" : "markdown",
"metadata" : {},
"source" : [" We compute series expansions of various infinite products using INFPROD0"]
}
,
{
"cell_type" : "markdown",
"metadata" : {},
"source" : [" Author: Clifton J. Williamson"]
}
,
{
"cell_type" : "markdown",
"metadata" : {},
"source" : [" Date Created: 20 August 1992"]
}
,
{
"cell_type" : "markdown",
"metadata" : {},
"source" : [" Date Last Updated: 20 August 1992"]
}
,
{
"cell_type" : "markdown",
"metadata" : {},
"source" : [" Keywords: Taylor series, infinite product"]
}
,
{
"cell_type" : "markdown",
"metadata" : {},
"source" : [" References:"]
}
,
{
"cell_type" : "code",
"execution_count": null,
"metadata" : {
    "collapsed" : false
},
"source" : [")clear all"],
"outputs": []
}
,
{
"cell_type" : "markdown",
"metadata" : {},
"source" : [" the partition function"]
}
,
{
"cell_type" : "code",
"execution_count": null,
"metadata" : {
    "collapsed" : false
},
"source" : ["f : UTS(INT,x,0) := 1 - x"],
"outputs": []
}
,
{
"cell_type" : "code",
"execution_count": null,
"metadata" : {
    "collapsed" : false
},
"source" : ["g : UTS(INT,x,0) := recip f"],
"outputs": []
}
,
{
"cell_type" : "markdown",
"metadata" : {},
"source" : [" the coefficient of x ^ n in the following series is the number of ways"]
}
,
{
"cell_type" : "markdown",
"metadata" : {},
"source" : [" that n can be partitioned as a sum of positive integers:"]
}
,
{
"cell_type" : "code",
"execution_count": null,
"metadata" : {
    "collapsed" : false
},
"source" : ["infiniteProduct g"],
"outputs": []
}
,
{
"cell_type" : "markdown",
"metadata" : {},
"source" : [" Ramanujan's tau function"]
}
,
{
"cell_type" : "code",
"execution_count": null,
"metadata" : {
    "collapsed" : false
},
"source" : ["h := infiniteProduct(f ^ 24)"],
"outputs": []
}
,
{
"cell_type" : "markdown",
"metadata" : {},
"source" : [" the coefficient of x ^ n in the following series is Ramanujan's"]
}
,
{
"cell_type" : "markdown",
"metadata" : {},
"source" : [" function tau(n)"]
}
,
{
"cell_type" : "code",
"execution_count": null,
"metadata" : {
    "collapsed" : false
},
"source" : ["delta := x * h"],
"outputs": []
}
,
{
"cell_type" : "markdown",
"metadata" : {},
"source" : [" the function tau(n) is multiplicative, i.e. if gcd(m,n) = 1, then"]
}
,
{
"cell_type" : "markdown",
"metadata" : {},
"source" : [" tau(m * n) = tau(m) * tau(n)"]
}
,
{
"cell_type" : "code",
"execution_count": null,
"metadata" : {
    "collapsed" : false
},
"source" : ["coefficient(delta,21)"],
"outputs": []
}
,
{
"cell_type" : "code",
"execution_count": null,
"metadata" : {
    "collapsed" : false
},
"source" : ["coefficient(delta,3) * coefficient(delta,7)"],
"outputs": []
}
,
{
"cell_type" : "code",
"execution_count": null,
"metadata" : {
    "collapsed" : false
},
"source" : ["coefficient(delta,20)"],
"outputs": []
}
,
{
"cell_type" : "code",
"execution_count": null,
"metadata" : {
    "collapsed" : false
},
"source" : ["coefficient(delta,4) * coefficient(delta,5)"],
"outputs": []
}
,
{
"cell_type" : "code",
"execution_count": null,
"metadata" : {
    "collapsed" : false
},
"source" : ["coefficient(delta,65)"],
"outputs": []
}
,
{
"cell_type" : "code",
"execution_count": null,
"metadata" : {
    "collapsed" : false
},
"source" : ["coefficient(delta,13) * coefficient(delta,5)"],
"outputs": []
}
,
{
"cell_type" : "code",
"execution_count": null,
"metadata" : {
    "collapsed" : false
},
"source" : [""],
"outputs": []
}
 ],
"metadata": {
 "kernelspec": {
  "display_name": "FriCAS",
  "language": "spad",
  "name": "ifricas"
 },
 "language_info": {
  "codemirror_mode": "spad",
  "mimetype": "text/x-spad",
  "name": "SPAD",
  "pygments_lexer": "spad",
  "version": "1.2.6"
 },
 "name": "infprod.ipynb"
},
"nbformat": 4,
"nbformat_minor": 0
}
