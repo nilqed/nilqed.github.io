{
 "cells": [
{
"cell_type" : "markdown",
"metadata" : {},
"source" : ["Copyright The Numerical Algorithms Group Limited 1996."]
}
,
{
"cell_type" : "markdown",
"metadata" : {},
"source" : ["A bug when one one uses a diff.eq. with a free variable other than x."]
}
,
{
"cell_type" : "code",
"execution_count": null,
"metadata" : {
    "collapsed" : false
},
"source" : [")set break resume"],
"outputs": []
}
,
{
"cell_type" : "code",
"execution_count": null,
"metadata" : {
    "collapsed" : false
},
"source" : ["y:=operator 'y"],
"outputs": []
}
,
{
"cell_type" : "code",
"execution_count": null,
"metadata" : {
    "collapsed" : false
},
"source" : ["deqx:= differentiate(y x,x,2)+differentiate(y x,x) +y x"],
"outputs": []
}
,
{
"cell_type" : "code",
"execution_count": null,
"metadata" : {
    "collapsed" : false
},
"source" : ["solve(deqx,y,x) --OK"],
"outputs": []
}
,
{
"cell_type" : "code",
"execution_count": null,
"metadata" : {
    "collapsed" : false
},
"source" : ["solve(deqx,y,x=0,[1]) --OK"],
"outputs": []
}
,
{
"cell_type" : "code",
"execution_count": null,
"metadata" : {
    "collapsed" : false
},
"source" : ["deqt:= differentiate(y t,t,2)+differentiate(y t,t) +y t"],
"outputs": []
}
,
{
"cell_type" : "code",
"execution_count": null,
"metadata" : {
    "collapsed" : false
},
"source" : ["solve(deqt,y,t) --OK"],
"outputs": []
}
,
{
"cell_type" : "code",
"execution_count": null,
"metadata" : {
    "collapsed" : false
},
"source" : ["solve(deqt,y,t=0,[1]) -- BUG!"],
"outputs": []
}
,
{
"cell_type" : "code",
"execution_count": null,
"metadata" : {
    "collapsed" : false
},
"source" : ["deqz:= differentiate(y z,z,2)+differentiate(y z,z) +y z"],
"outputs": []
}
,
{
"cell_type" : "code",
"execution_count": null,
"metadata" : {
    "collapsed" : false
},
"source" : ["solve(deqz,y,z) --OK"],
"outputs": []
}
,
{
"cell_type" : "code",
"execution_count": null,
"metadata" : {
    "collapsed" : false
},
"source" : ["solve(deqz,y,z=0,[1]) -- BUG!"],
"outputs": []
}
,
{
"cell_type" : "markdown",
"metadata" : {},
"source" : ["I think the bug is in"]
}
,
{
"cell_type" : "markdown",
"metadata" : {},
"source" : ["   file odeef.spad"]
}
,
{
"cell_type" : "markdown",
"metadata" : {},
"source" : ["   constructor ODEEF"]
}
,
{
"cell_type" : "markdown",
"metadata" : {},
"source" : ["   function solve(diffeq:F,y:OP,center:EQ,y0:List F)"]
}
,
{
"cell_type" : "markdown",
"metadata" : {},
"source" : ["the second line of the body was"]
}
,
{
"cell_type" : "markdown",
"metadata" : {},
"source" : ["   kx:K:=kernel x"]
}
,
{
"cell_type" : "markdown",
"metadata" : {},
"source" : ["which uses uninitialised x. I think it should be"]
}
,
{
"cell_type" : "markdown",
"metadata" : {},
"source" : ["   kx:K:=kernel(retract(lhs(center))@SY)"]
}
,
{
"cell_type" : "markdown",
"metadata" : {},
"source" : ["as the line immediately below it. That change certainly fixes THIS bug!"]
}
,
{
"cell_type" : "markdown",
"metadata" : {},
"source" : ["Also, maybe a check should be made that this kx is indeed to be found"]
}
,
{
"cell_type" : "markdown",
"metadata" : {},
"source" : ["in the diffeq -- my system reports segmenttion violation if I do"]
}
,
{
"cell_type" : "code",
"execution_count": null,
"metadata" : {
    "collapsed" : false
},
"source" : ["solve(deqt,y,x=0,[1])"],
"outputs": []
}
,
{
"cell_type" : "code",
"execution_count": null,
"metadata" : {
    "collapsed" : false
},
"source" : [""],
"outputs": []
}
 ],
"metadata": {
 "kernelspec": {
  "display_name": "FriCAS",
  "language": "spad",
  "name": "ifricas"
 },
 "language_info": {
  "codemirror_mode": "spad",
  "mimetype": "text/x-spad",
  "name": "SPAD",
  "pygments_lexer": "spad",
  "version": "1.2.6"
 },
 "name": "ode.ipynb"
},
"nbformat": 4,
"nbformat_minor": 0
}
