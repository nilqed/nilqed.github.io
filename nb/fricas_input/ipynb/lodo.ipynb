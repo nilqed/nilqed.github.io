{
 "cells": [
{
"cell_type" : "markdown",
"metadata" : {},
"source" : ["Copyright The Numerical Algorithms Group Limited 1991."]
}
,
{
"cell_type" : "markdown",
"metadata" : {},
"source" : ["-------------------------------- lodo.input -----------------------------"]
}
,
{
"cell_type" : "markdown",
"metadata" : {},
"source" : [" LODO2(A, M) is the domain of linear ordinary differential operators over"]
}
,
{
"cell_type" : "markdown",
"metadata" : {},
"source" : [" an A-module M, where A is a differential ring.  This includes the"]
}
,
{
"cell_type" : "markdown",
"metadata" : {},
"source" : [" cases of operators which are polynomials in D acting upon scalars or"]
}
,
{
"cell_type" : "markdown",
"metadata" : {},
"source" : [" vectors depending on a single variable.  The coefficients of the"]
}
,
{
"cell_type" : "markdown",
"metadata" : {},
"source" : [" operator polynomials can be integers, rational functions, matrices"]
}
,
{
"cell_type" : "markdown",
"metadata" : {},
"source" : [" or elements of other domains."]
}
,
{
"cell_type" : "markdown",
"metadata" : {},
"source" : ["----------------------------------------------------------------------"]
}
,
{
"cell_type" : "markdown",
"metadata" : {},
"source" : [" Differential operators with constant coefficients"]
}
,
{
"cell_type" : "markdown",
"metadata" : {},
"source" : ["----------------------------------------------------------------------"]
}
,
{
"cell_type" : "code",
"execution_count": null,
"metadata" : {
    "collapsed" : false
},
"source" : [")clear all"],
"outputs": []
}
,
{
"cell_type" : "code",
"execution_count": null,
"metadata" : {
    "collapsed" : false
},
"source" : ["RN:=FRAC INT"],
"outputs": []
}
,
{
"cell_type" : "code",
"execution_count": null,
"metadata" : {
    "collapsed" : false
},
"source" : ["Dx: LODO2(RN, UP(x,RN))"],
"outputs": []
}
,
{
"cell_type" : "code",
"execution_count": null,
"metadata" : {
    "collapsed" : false
},
"source" : ["Dx := D()                  -- definition of an operator"],
"outputs": []
}
,
{
"cell_type" : "code",
"execution_count": null,
"metadata" : {
    "collapsed" : false
},
"source" : ["a  := Dx  + 1"],
"outputs": []
}
,
{
"cell_type" : "code",
"execution_count": null,
"metadata" : {
    "collapsed" : false
},
"source" : ["b  := a + 1/2*Dx^2 - 1/2"],
"outputs": []
}
,
{
"cell_type" : "code",
"execution_count": null,
"metadata" : {
    "collapsed" : false
},
"source" : ["p: UP(x,RN) := 4*x^2 + 2/3      -- something to work on"],
"outputs": []
}
,
{
"cell_type" : "code",
"execution_count": null,
"metadata" : {
    "collapsed" : false
},
"source" : ["a p                        -- application of an operator to a polynomial"],
"outputs": []
}
,
{
"cell_type" : "code",
"execution_count": null,
"metadata" : {
    "collapsed" : false
},
"source" : ["(a*b) p = a b p            -- multiplication is defined by this identity"],
"outputs": []
}
,
{
"cell_type" : "code",
"execution_count": null,
"metadata" : {
    "collapsed" : false
},
"source" : ["c := (1/9)*b*(a + b)^2    -- exponentiation follows from multiplication"],
"outputs": []
}
,
{
"cell_type" : "code",
"execution_count": null,
"metadata" : {
    "collapsed" : false
},
"source" : ["(a^2 - 3/4*b + c) (p + 1) -- general application of operator expressions"],
"outputs": []
}
,
{
"cell_type" : "markdown",
"metadata" : {},
"source" : ["----------------------------------------------------------------------"]
}
,
{
"cell_type" : "markdown",
"metadata" : {},
"source" : [" Differential operators with rational function coefficients"]
}
,
{
"cell_type" : "markdown",
"metadata" : {},
"source" : ["----------------------------------------------------------------------"]
}
,
{
"cell_type" : "code",
"execution_count": null,
"metadata" : {
    "collapsed" : false
},
"source" : [")clear all"],
"outputs": []
}
,
{
"cell_type" : "code",
"execution_count": null,
"metadata" : {
    "collapsed" : false
},
"source" : ["RFZ := FRAC UP(x,INT)"],
"outputs": []
}
,
{
"cell_type" : "code",
"execution_count": null,
"metadata" : {
    "collapsed" : false
},
"source" : ["(Dx, a, b): LODO1 RFZ"],
"outputs": []
}
,
{
"cell_type" : "code",
"execution_count": null,
"metadata" : {
    "collapsed" : false
},
"source" : ["Dx := D()"],
"outputs": []
}
,
{
"cell_type" : "code",
"execution_count": null,
"metadata" : {
    "collapsed" : false
},
"source" : ["b := 3*x^2*Dx^2 + 2*Dx + 1/x"],
"outputs": []
}
,
{
"cell_type" : "code",
"execution_count": null,
"metadata" : {
    "collapsed" : false
},
"source" : ["a := b*(5*x*Dx + 7)"],
"outputs": []
}
,
{
"cell_type" : "code",
"execution_count": null,
"metadata" : {
    "collapsed" : false
},
"source" : ["p: RFZ := x^2 + 1/x^2"],
"outputs": []
}
,
{
"cell_type" : "code",
"execution_count": null,
"metadata" : {
    "collapsed" : false
},
"source" : ["(a*b - b*a) p  -- operator multiplication is not commutative"],
"outputs": []
}
,
{
"cell_type" : "markdown",
"metadata" : {},
"source" : [" When the coefficients of the operator polynomials come from a field"]
}
,
{
"cell_type" : "markdown",
"metadata" : {},
"source" : [" it is possible to define left and right division of the operators."]
}
,
{
"cell_type" : "markdown",
"metadata" : {},
"source" : [" This allows the computation of left and right gcd's via remainder"]
}
,
{
"cell_type" : "markdown",
"metadata" : {},
"source" : [" sequences, and also the computation of left and right lcm's."]
}
,
{
"cell_type" : "code",
"execution_count": null,
"metadata" : {
    "collapsed" : false
},
"source" : ["leftDivide(a,b)      -- result is the quotient/remainder pair"],
"outputs": []
}
,
{
"cell_type" : "code",
"execution_count": null,
"metadata" : {
    "collapsed" : false
},
"source" : ["a - (b * %.quotient + %.remainder)"],
"outputs": []
}
,
{
"cell_type" : "code",
"execution_count": null,
"metadata" : {
    "collapsed" : false
},
"source" : ["rightDivide(a,b)"],
"outputs": []
}
,
{
"cell_type" : "code",
"execution_count": null,
"metadata" : {
    "collapsed" : false
},
"source" : ["a - (%.quotient * b + %.remainder)"],
"outputs": []
}
,
{
"cell_type" : "markdown",
"metadata" : {},
"source" : [" A GCD doesn't necessarily divide a and b on both sides."]
}
,
{
"cell_type" : "code",
"execution_count": null,
"metadata" : {
    "collapsed" : false
},
"source" : ["e := leftGcd(a,b)"],
"outputs": []
}
,
{
"cell_type" : "code",
"execution_count": null,
"metadata" : {
    "collapsed" : false
},
"source" : ["leftRemainder(a, e)    -- remainder from left division"],
"outputs": []
}
,
{
"cell_type" : "code",
"execution_count": null,
"metadata" : {
    "collapsed" : false
},
"source" : ["rightRemainder(a, e)    -- remainder from right division"],
"outputs": []
}
,
{
"cell_type" : "markdown",
"metadata" : {},
"source" : [" An LCM is not necessarily divisible from both sides."]
}
,
{
"cell_type" : "code",
"execution_count": null,
"metadata" : {
    "collapsed" : false
},
"source" : ["f := rightLcm(a,b)"],
"outputs": []
}
,
{
"cell_type" : "code",
"execution_count": null,
"metadata" : {
    "collapsed" : false
},
"source" : ["leftRemainder(f, b)"],
"outputs": []
}
,
{
"cell_type" : "code",
"execution_count": null,
"metadata" : {
    "collapsed" : false
},
"source" : ["rightRemainder(f, b)  -- the remainder is non-zero"],
"outputs": []
}
,
{
"cell_type" : "markdown",
"metadata" : {},
"source" : ["----------------------------------------------------------------------"]
}
,
{
"cell_type" : "markdown",
"metadata" : {},
"source" : [""]
}
,
{
"cell_type" : "markdown",
"metadata" : {},
"source" : [" Problem: find the first few coefficients of exp(x)/x^i in"]
}
,
{
"cell_type" : "markdown",
"metadata" : {},
"source" : ["       Dop phi"]
}
,
{
"cell_type" : "markdown",
"metadata" : {},
"source" : [" where"]
}
,
{
"cell_type" : "markdown",
"metadata" : {},
"source" : ["       Dop := D^3 + G/x^2 * D + H/x^3 - 1"]
}
,
{
"cell_type" : "markdown",
"metadata" : {},
"source" : ["       phi := sum(s[i]*exp(x)/x^i, i = 0..)"]
}
,
{
"cell_type" : "markdown",
"metadata" : {},
"source" : ["----------------------------------------------------------------------"]
}
,
{
"cell_type" : "code",
"execution_count": null,
"metadata" : {
    "collapsed" : false
},
"source" : [")clear all"],
"outputs": []
}
,
{
"cell_type" : "code",
"execution_count": null,
"metadata" : {
    "collapsed" : false
},
"source" : ["Dx: LODO(EXPR INT, f +-> D(f, x))"],
"outputs": []
}
,
{
"cell_type" : "code",
"execution_count": null,
"metadata" : {
    "collapsed" : false
},
"source" : ["Dx := D()"],
"outputs": []
}
,
{
"cell_type" : "code",
"execution_count": null,
"metadata" : {
    "collapsed" : false
},
"source" : ["Dop:= Dx^3 + G/x^2*Dx + H/x^3 - 1"],
"outputs": []
}
,
{
"cell_type" : "code",
"execution_count": null,
"metadata" : {
    "collapsed" : false
},
"source" : ["n == 3"],
"outputs": []
}
,
{
"cell_type" : "code",
"execution_count": null,
"metadata" : {
    "collapsed" : false
},
"source" : ["phi == reduce(+,[subscript(s,[i])*exp(x)/x^i for i in 0..n])"],
"outputs": []
}
,
{
"cell_type" : "code",
"execution_count": null,
"metadata" : {
    "collapsed" : false
},
"source" : ["phi1 ==  Dop(phi) / exp x"],
"outputs": []
}
,
{
"cell_type" : "code",
"execution_count": null,
"metadata" : {
    "collapsed" : false
},
"source" : ["phi2 == phi1 *x^(n+3)"],
"outputs": []
}
,
{
"cell_type" : "code",
"execution_count": null,
"metadata" : {
    "collapsed" : false
},
"source" : ["phi3 == retract(phi2)@(POLY INT)"],
"outputs": []
}
,
{
"cell_type" : "code",
"execution_count": null,
"metadata" : {
    "collapsed" : false
},
"source" : ["pans == phi3 ::UP(x,POLY INT)"],
"outputs": []
}
,
{
"cell_type" : "code",
"execution_count": null,
"metadata" : {
    "collapsed" : false
},
"source" : ["pans1 == [coefficient(pans, (n+3-i) :: NNI) for i in 2..n+1]"],
"outputs": []
}
,
{
"cell_type" : "code",
"execution_count": null,
"metadata" : {
    "collapsed" : false
},
"source" : ["leq == solve(pans1,[subscript(s,[i]) for i in 1..n])"],
"outputs": []
}
,
{
"cell_type" : "code",
"execution_count": null,
"metadata" : {
    "collapsed" : false
},
"source" : ["leq"],
"outputs": []
}
,
{
"cell_type" : "code",
"execution_count": null,
"metadata" : {
    "collapsed" : false
},
"source" : ["n==4"],
"outputs": []
}
,
{
"cell_type" : "code",
"execution_count": null,
"metadata" : {
    "collapsed" : false
},
"source" : ["leq"],
"outputs": []
}
,
{
"cell_type" : "code",
"execution_count": null,
"metadata" : {
    "collapsed" : false
},
"source" : ["n==7"],
"outputs": []
}
,
{
"cell_type" : "code",
"execution_count": null,
"metadata" : {
    "collapsed" : false
},
"source" : ["leq"],
"outputs": []
}
,
{
"cell_type" : "markdown",
"metadata" : {},
"source" : ["----------------------------------------------------------------------"]
}
,
{
"cell_type" : "markdown",
"metadata" : {},
"source" : [" Differential operators with matrix coefficients acting on vectors."]
}
,
{
"cell_type" : "markdown",
"metadata" : {},
"source" : ["----------------------------------------------------------------------"]
}
,
{
"cell_type" : "code",
"execution_count": null,
"metadata" : {
    "collapsed" : false
},
"source" : [")clear all"],
"outputs": []
}
,
{
"cell_type" : "code",
"execution_count": null,
"metadata" : {
    "collapsed" : false
},
"source" : ["PZ := UP(x,INT); Vect := DPMM(3, PZ, SQMATRIX(3,PZ), PZ);"],
"outputs": []
}
,
{
"cell_type" : "code",
"execution_count": null,
"metadata" : {
    "collapsed" : false
},
"source" : ["Modo := LODO2(SQMATRIX(3,PZ), Vect);"],
"outputs": []
}
,
{
"cell_type" : "code",
"execution_count": null,
"metadata" : {
    "collapsed" : false
},
"source" : ["p := directProduct([3*x^2 + 1, 2*x, 7*x^3 + 2*x]::(VECTOR(PZ)))@Vect"],
"outputs": []
}
,
{
"cell_type" : "code",
"execution_count": null,
"metadata" : {
    "collapsed" : false
},
"source" : ["m := [[x^2, 1, 0], [1, x^4, 0], [0, 0, 4*x^2]]::(SQMATRIX(3,PZ))"],
"outputs": []
}
,
{
"cell_type" : "markdown",
"metadata" : {},
"source" : [" Vect is a left SM(3,PZ)-module"]
}
,
{
"cell_type" : "code",
"execution_count": null,
"metadata" : {
    "collapsed" : false
},
"source" : ["q: Vect := m * p"],
"outputs": []
}
,
{
"cell_type" : "markdown",
"metadata" : {},
"source" : [" Operator combination and application"]
}
,
{
"cell_type" : "code",
"execution_count": null,
"metadata" : {
    "collapsed" : false
},
"source" : ["Dx:  Modo := D()"],
"outputs": []
}
,
{
"cell_type" : "code",
"execution_count": null,
"metadata" : {
    "collapsed" : false
},
"source" : ["a:   Modo := 1*Dx  + m"],
"outputs": []
}
,
{
"cell_type" : "code",
"execution_count": null,
"metadata" : {
    "collapsed" : false
},
"source" : ["b:   Modo := m*Dx  + 1"],
"outputs": []
}
,
{
"cell_type" : "code",
"execution_count": null,
"metadata" : {
    "collapsed" : false
},
"source" : ["a*b"],
"outputs": []
}
,
{
"cell_type" : "code",
"execution_count": null,
"metadata" : {
    "collapsed" : false
},
"source" : ["a p"],
"outputs": []
}
,
{
"cell_type" : "code",
"execution_count": null,
"metadata" : {
    "collapsed" : false
},
"source" : ["b p"],
"outputs": []
}
,
{
"cell_type" : "code",
"execution_count": null,
"metadata" : {
    "collapsed" : false
},
"source" : ["(a+b) (p + q)"],
"outputs": []
}
,
{
"cell_type" : "code",
"execution_count": null,
"metadata" : {
    "collapsed" : false
},
"source" : [""],
"outputs": []
}
 ],
"metadata": {
 "kernelspec": {
  "display_name": "FriCAS",
  "language": "spad",
  "name": "ifricas"
 },
 "language_info": {
  "codemirror_mode": "spad",
  "mimetype": "text/x-spad",
  "name": "SPAD",
  "pygments_lexer": "spad",
  "version": "1.2.6"
 },
 "name": "lodo.ipynb"
},
"nbformat": 4,
"nbformat_minor": 0
}
