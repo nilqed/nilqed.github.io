{
 "cells": [
{
"cell_type" : "code",
"execution_count": null,
"metadata" : {
    "collapsed" : false
},
"source" : [")set break resume"],
"outputs": []
}
,
{
"cell_type" : "code",
"execution_count": null,
"metadata" : {
    "collapsed" : false
},
"source" : [")expose UnittestCount UnittestAux Unittest"],
"outputs": []
}
,
{
"cell_type" : "markdown",
"metadata" : {},
"source" : ["-"]
}
,
{
"cell_type" : "markdown",
"metadata" : {},
"source" : ["- april 2008"]
}
,
{
"cell_type" : "markdown",
"metadata" : {},
"source" : ["-"]
}
,
{
"cell_type" : "code",
"execution_count": null,
"metadata" : {
    "collapsed" : false
},
"source" : [")expose VSBASIS"],
"outputs": []
}
,
{
"cell_type" : "code",
"execution_count": null,
"metadata" : {
    "collapsed" : false
},
"source" : ["testsuite \"vsbasis\""],
"outputs": []
}
,
{
"cell_type" : "code",
"execution_count": null,
"metadata" : {
    "collapsed" : false
},
"source" : ["testcase \"basic properties\""],
"outputs": []
}
,
{
"cell_type" : "code",
"execution_count": null,
"metadata" : {
    "collapsed" : false
},
"source" : ["VFI ==> Vector Fraction Integer"],
"outputs": []
}
,
{
"cell_type" : "code",
"execution_count": null,
"metadata" : {
    "collapsed" : false
},
"source" : ["MFI ==> Matrix Fraction Integer"],
"outputs": []
}
,
{
"cell_type" : "code",
"execution_count": null,
"metadata" : {
    "collapsed" : false
},
"source" : ["VSB ==> VectorSpaceBasis Fraction Integer"],
"outputs": []
}
,
{
"cell_type" : "code",
"execution_count": null,
"metadata" : {
    "collapsed" : false
},
"source" : ["bc3 := canonicalBasis 3 :: List VFI"],
"outputs": []
}
,
{
"cell_type" : "code",
"execution_count": null,
"metadata" : {
    "collapsed" : false
},
"source" : ["u : VFI := vector [1,0,-1]"],
"outputs": []
}
,
{
"cell_type" : "code",
"execution_count": null,
"metadata" : {
    "collapsed" : false
},
"source" : ["v : VFI := vector [2,1,2]"],
"outputs": []
}
,
{
"cell_type" : "code",
"execution_count": null,
"metadata" : {
    "collapsed" : false
},
"source" : ["w : VFI := vector [1,2,1]"],
"outputs": []
}
,
{
"cell_type" : "markdown",
"metadata" : {},
"source" : [" F = {(x,y,z)|x+y+z=x-y+z=0}"]
}
,
{
"cell_type" : "code",
"execution_count": null,
"metadata" : {
    "collapsed" : false
},
"source" : ["MF : MFI := matrix [[1,1,1],[1,-1,1]]"],
"outputs": []
}
,
{
"cell_type" : "code",
"execution_count": null,
"metadata" : {
    "collapsed" : false
},
"source" : ["F := (nullSpace MF)$VSB                            -- a basis is (-1,0,1)"],
"outputs": []
}
,
{
"cell_type" : "code",
"execution_count": null,
"metadata" : {
    "collapsed" : false
},
"source" : ["solve (matrix [[2,1,2],[1,2,1]]$MFI, vector [0,0,0])"],
"outputs": []
}
,
{
"cell_type" : "markdown",
"metadata" : {},
"source" : [" G = vect(v,w)"]
}
,
{
"cell_type" : "code",
"execution_count": null,
"metadata" : {
    "collapsed" : false
},
"source" : ["G := basis [v, w]                               -- this family is a basis"],
"outputs": []
}
,
{
"cell_type" : "code",
"execution_count": null,
"metadata" : {
    "collapsed" : false
},
"source" : ["testTrue(\"isBasis?([v,w])\")"],
"outputs": []
}
,
{
"cell_type" : "markdown",
"metadata" : {},
"source" : [" search (a,b,c) | F = R(a,b,c)"]
}
,
{
"cell_type" : "markdown",
"metadata" : {},
"source" : [" (a,b,c) matchs for v and w,"]
}
,
{
"cell_type" : "markdown",
"metadata" : {},
"source" : [" so (a,b,c) in the nullSpace of the matrix of lines (2,1,2) and (1,2,1)"]
}
,
{
"cell_type" : "code",
"execution_count": null,
"metadata" : {
    "collapsed" : false
},
"source" : ["RES := nullSpace (transpose horizConcat (v::MFI,w::MFI)) $ VSB"],
"outputs": []
}
,
{
"cell_type" : "code",
"execution_count": null,
"metadata" : {
    "collapsed" : false
},
"source" : ["testTrue(\"(F = RES)$VSB\")"],
"outputs": []
}
,
{
"cell_type" : "markdown",
"metadata" : {},
"source" : [" H = {(x,y,z)|x+2y+z=0}"]
}
,
{
"cell_type" : "code",
"execution_count": null,
"metadata" : {
    "collapsed" : false
},
"source" : ["MH : MFI := matrix [[1,2,1]]"],
"outputs": []
}
,
{
"cell_type" : "markdown",
"metadata" : {},
"source" : [" a basis of the intersection of G and H"]
}
,
{
"cell_type" : "code",
"execution_count": null,
"metadata" : {
    "collapsed" : false
},
"source" : ["GH := intBasis ([v,w], nullSpace MH)              -- a basis is (-1,1,-1)"],
"outputs": []
}
,
{
"cell_type" : "code",
"execution_count": null,
"metadata" : {
    "collapsed" : false
},
"source" : ["GH := intBasis ([[v,w], nullSpace MH])"],
"outputs": []
}
,
{
"cell_type" : "code",
"execution_count": null,
"metadata" : {
    "collapsed" : false
},
"source" : ["GH := basis[v,w] * (nullSpace MH)$VSB"],
"outputs": []
}
,
{
"cell_type" : "markdown",
"metadata" : {},
"source" : [" is u in F"]
}
,
{
"cell_type" : "markdown",
"metadata" : {},
"source" : [" transforms the canonical basis in linear expression of vectors u, v and w."]
}
,
{
"cell_type" : "markdown",
"metadata" : {},
"source" : [" this is a decomposition over F+G : F = Ru and G = Rv+Rw"]
}
,
{
"cell_type" : "code",
"execution_count": null,
"metadata" : {
    "collapsed" : false
},
"source" : ["testTrue(\"member?(u, F)\")"],
"outputs": []
}
,
{
"cell_type" : "code",
"execution_count": null,
"metadata" : {
    "collapsed" : false
},
"source" : ["testTrue(\"(F = basis [u])$VSB\")"],
"outputs": []
}
,
{
"cell_type" : "code",
"execution_count": null,
"metadata" : {
    "collapsed" : false
},
"source" : ["BE := basis [u,v,w]"],
"outputs": []
}
,
{
"cell_type" : "code",
"execution_count": null,
"metadata" : {
    "collapsed" : false
},
"source" : ["coordinates (bc3.1, BE)"],
"outputs": []
}
,
{
"cell_type" : "code",
"execution_count": null,
"metadata" : {
    "collapsed" : false
},
"source" : ["coordinates (bc3.2, BE)"],
"outputs": []
}
,
{
"cell_type" : "code",
"execution_count": null,
"metadata" : {
    "collapsed" : false
},
"source" : ["coordinates (bc3.3, BE)"],
"outputs": []
}
,
{
"cell_type" : "markdown",
"metadata" : {},
"source" : [" are F and G complement space :"]
}
,
{
"cell_type" : "markdown",
"metadata" : {},
"source" : [" F intersect G = {(0,0,0)} and F + G = R^3"]
}
,
{
"cell_type" : "code",
"execution_count": null,
"metadata" : {
    "collapsed" : false
},
"source" : ["intBasis (F, G)"],
"outputs": []
}
,
{
"cell_type" : "code",
"execution_count": null,
"metadata" : {
    "collapsed" : false
},
"source" : ["intBasis [F, G]"],
"outputs": []
}
,
{
"cell_type" : "code",
"execution_count": null,
"metadata" : {
    "collapsed" : false
},
"source" : ["F * G"],
"outputs": []
}
,
{
"cell_type" : "code",
"execution_count": null,
"metadata" : {
    "collapsed" : false
},
"source" : ["testTrue(\"((basis [])$VSB = F*G)$VSB\")"],
"outputs": []
}
,
{
"cell_type" : "code",
"execution_count": null,
"metadata" : {
    "collapsed" : false
},
"source" : ["sumBasis (F, G)"],
"outputs": []
}
,
{
"cell_type" : "code",
"execution_count": null,
"metadata" : {
    "collapsed" : false
},
"source" : ["sumBasis ([F, G])"],
"outputs": []
}
,
{
"cell_type" : "code",
"execution_count": null,
"metadata" : {
    "collapsed" : false
},
"source" : ["F + G"],
"outputs": []
}
,
{
"cell_type" : "code",
"execution_count": null,
"metadata" : {
    "collapsed" : false
},
"source" : ["testTrue(\"(basis bc3 = BE)$VSB\")"],
"outputs": []
}
,
{
"cell_type" : "markdown",
"metadata" : {},
"source" : [" f(u)=v, f(v)=w and f(w)=u. The matrix of f in basis (u,v,w) is obvious."]
}
,
{
"cell_type" : "markdown",
"metadata" : {},
"source" : [" Changing the basis in order to find the canonical basis of f."]
}
,
{
"cell_type" : "code",
"execution_count": null,
"metadata" : {
    "collapsed" : false
},
"source" : ["MfBE : MFI := matrix [[0,0,1],[1,0,0],[0,1,0]]"],
"outputs": []
}
,
{
"cell_type" : "code",
"execution_count": null,
"metadata" : {
    "collapsed" : false
},
"source" : ["PbcBE := reduce (horizConcat, [u,v,w]::List MFI)"],
"outputs": []
}
,
{
"cell_type" : "code",
"execution_count": null,
"metadata" : {
    "collapsed" : false
},
"source" : ["PBEbc := PbcBE^-1"],
"outputs": []
}
,
{
"cell_type" : "code",
"execution_count": null,
"metadata" : {
    "collapsed" : false
},
"source" : ["Mfbc := PbcBE * MfBE * PBEbc"],
"outputs": []
}
,
{
"cell_type" : "markdown",
"metadata" : {},
"source" : [" theses 3 matrices are equal."]
}
,
{
"cell_type" : "code",
"execution_count": null,
"metadata" : {
    "collapsed" : false
},
"source" : ["reduce (horizConcat, map (v +-> (coordinates(v,BE))::MFI, bc3))"],
"outputs": []
}
,
{
"cell_type" : "code",
"execution_count": null,
"metadata" : {
    "collapsed" : false
},
"source" : ["PBEbc"],
"outputs": []
}
,
{
"cell_type" : "code",
"execution_count": null,
"metadata" : {
    "collapsed" : false
},
"source" : ["LRES := map (s +-> s.particular::MFI, solve (PbcBE, diagonalMatrix [1,1,1]))"],
"outputs": []
}
,
{
"cell_type" : "code",
"execution_count": null,
"metadata" : {
    "collapsed" : false
},
"source" : ["reduce (horizConcat, LRES)"],
"outputs": []
}
,
{
"cell_type" : "markdown",
"metadata" : {},
"source" : [" f o f o f = id and f^(-1)=f^2"]
}
,
{
"cell_type" : "code",
"execution_count": null,
"metadata" : {
    "collapsed" : false
},
"source" : ["Mfbc^2"],
"outputs": []
}
,
{
"cell_type" : "code",
"execution_count": null,
"metadata" : {
    "collapsed" : false
},
"source" : ["Mfbc^3"],
"outputs": []
}
,
{
"cell_type" : "code",
"execution_count": null,
"metadata" : {
    "collapsed" : false
},
"source" : ["Mfbc^-1"],
"outputs": []
}
,
{
"cell_type" : "code",
"execution_count": null,
"metadata" : {
    "collapsed" : false
},
"source" : ["testTrue(\"(Mfbc^-1 = Mfbc^2)@Boolean\")"],
"outputs": []
}
,
{
"cell_type" : "code",
"execution_count": null,
"metadata" : {
    "collapsed" : false
},
"source" : ["testTrue(\"(Mfbc * u = v)@Boolean\")"],
"outputs": []
}
,
{
"cell_type" : "code",
"execution_count": null,
"metadata" : {
    "collapsed" : false
},
"source" : ["testTrue(\"(Mfbc * v = w)@Boolean\")"],
"outputs": []
}
,
{
"cell_type" : "code",
"execution_count": null,
"metadata" : {
    "collapsed" : false
},
"source" : ["testTrue(\"(Mfbc * w = u)@Boolean\")"],
"outputs": []
}
,
{
"cell_type" : "markdown",
"metadata" : {},
"source" : [""]
}
,
{
"cell_type" : "markdown",
"metadata" : {},
"source" : [" verify some subspaces"]
}
,
{
"cell_type" : "markdown",
"metadata" : {},
"source" : [""]
}
,
{
"cell_type" : "code",
"execution_count": null,
"metadata" : {
    "collapsed" : false
},
"source" : ["testcaseNoClear \"subspaces\""],
"outputs": []
}
,
{
"cell_type" : "code",
"execution_count": null,
"metadata" : {
    "collapsed" : false
},
"source" : ["H := nullSpace MH"],
"outputs": []
}
,
{
"cell_type" : "code",
"execution_count": null,
"metadata" : {
    "collapsed" : false
},
"source" : ["lb1 := [subspace?(BE, F), subspace?(basis bc3, F), subspace?(GH, 0$VSB),"],
"outputs": []
}
,
{
"cell_type" : "code",
"execution_count": null,
"metadata" : {
    "collapsed" : false
},
"source" : ["   subspace?(GH, F), subspace?(GH, G), subspace?(GH, basis H),"],
"outputs": []
}
,
{
"cell_type" : "code",
"execution_count": null,
"metadata" : {
    "collapsed" : false
},
"source" : ["     subspace?(0$VSB, GH), subspace?(F, basis bc3)]"],
"outputs": []
}
,
{
"cell_type" : "code",
"execution_count": null,
"metadata" : {
    "collapsed" : false
},
"source" : ["testEquals(\"lb1\", \"[false, false, false, false, true, true, true, true]\")"],
"outputs": []
}
,
{
"cell_type" : "markdown",
"metadata" : {},
"source" : [""]
}
,
{
"cell_type" : "markdown",
"metadata" : {},
"source" : [" find some complement spaces."]
}
,
{
"cell_type" : "markdown",
"metadata" : {},
"source" : [""]
}
,
{
"cell_type" : "code",
"execution_count": null,
"metadata" : {
    "collapsed" : false
},
"source" : ["testcaseNoClear \"complement spaces\""],
"outputs": []
}
,
{
"cell_type" : "code",
"execution_count": null,
"metadata" : {
    "collapsed" : false
},
"source" : ["C0 := complementSpace (0$VSB, 3)"],
"outputs": []
}
,
{
"cell_type" : "code",
"execution_count": null,
"metadata" : {
    "collapsed" : false
},
"source" : ["CGH := complementSpace GH"],
"outputs": []
}
,
{
"cell_type" : "code",
"execution_count": null,
"metadata" : {
    "collapsed" : false
},
"source" : ["CF:= complementSpace F"],
"outputs": []
}
,
{
"cell_type" : "code",
"execution_count": null,
"metadata" : {
    "collapsed" : false
},
"source" : ["CG := complementSpace G"],
"outputs": []
}
,
{
"cell_type" : "code",
"execution_count": null,
"metadata" : {
    "collapsed" : false
},
"source" : ["CH := complementSpace H"],
"outputs": []
}
,
{
"cell_type" : "code",
"execution_count": null,
"metadata" : {
    "collapsed" : false
},
"source" : ["CE1 := complementSpace BE"],
"outputs": []
}
,
{
"cell_type" : "code",
"execution_count": null,
"metadata" : {
    "collapsed" : false
},
"source" : ["CE2 := complementSpace concat ([u,v,w], bc3)"],
"outputs": []
}
,
{
"cell_type" : "code",
"execution_count": null,
"metadata" : {
    "collapsed" : false
},
"source" : ["complementSpace? (B1, B2) =="],
"outputs": []
}
,
{
"cell_type" : "code",
"execution_count": null,
"metadata" : {
    "collapsed" : false
},
"source" : ["  rank intBasis (B1, B2) = 0"],
"outputs": []
}
,
{
"cell_type" : "code",
"execution_count": null,
"metadata" : {
    "collapsed" : false
},
"source" : ["    and rank sumBasis (B1, B2) = #concat (B1::List VFI, B2::List VFI).1"],
"outputs": []
}
,
{
"cell_type" : "markdown",
"metadata" : {},
"source" : [" all the reponses are true."]
}
,
{
"cell_type" : "code",
"execution_count": null,
"metadata" : {
    "collapsed" : false
},
"source" : ["testTrue(\"complementSpace?(C0, 0$VSB)\")"],
"outputs": []
}
,
{
"cell_type" : "code",
"execution_count": null,
"metadata" : {
    "collapsed" : false
},
"source" : ["testTrue(\"complementSpace?(0$VSB, C0)\")"],
"outputs": []
}
,
{
"cell_type" : "code",
"execution_count": null,
"metadata" : {
    "collapsed" : false
},
"source" : ["testTrue(\"complementSpace?(CGH, GH)\")"],
"outputs": []
}
,
{
"cell_type" : "code",
"execution_count": null,
"metadata" : {
    "collapsed" : false
},
"source" : ["testTrue(\"complementSpace?(GH, CGH)\")"],
"outputs": []
}
,
{
"cell_type" : "code",
"execution_count": null,
"metadata" : {
    "collapsed" : false
},
"source" : ["testTrue(\"complementSpace?(CF, F)\")"],
"outputs": []
}
,
{
"cell_type" : "code",
"execution_count": null,
"metadata" : {
    "collapsed" : false
},
"source" : ["testTrue(\"complementSpace?(F, G)\")"],
"outputs": []
}
,
{
"cell_type" : "code",
"execution_count": null,
"metadata" : {
    "collapsed" : false
},
"source" : ["testTrue(\"complementSpace?(CG, G)\")"],
"outputs": []
}
,
{
"cell_type" : "code",
"execution_count": null,
"metadata" : {
    "collapsed" : false
},
"source" : ["testTrue(\"complementSpace?(CH, basis H)\")"],
"outputs": []
}
,
{
"cell_type" : "code",
"execution_count": null,
"metadata" : {
    "collapsed" : false
},
"source" : ["testTrue(\"complementSpace?(CE1, BE)\")"],
"outputs": []
}
,
{
"cell_type" : "code",
"execution_count": null,
"metadata" : {
    "collapsed" : false
},
"source" : ["testTrue(\"complementSpace?(CE2, BE)\")"],
"outputs": []
}
,
{
"cell_type" : "code",
"execution_count": null,
"metadata" : {
    "collapsed" : false
},
"source" : ["testTrue(\"not complementSpace?(F, basis H)\")"],
"outputs": []
}
,
{
"cell_type" : "code",
"execution_count": null,
"metadata" : {
    "collapsed" : false
},
"source" : ["statistics()"],
"outputs": []
}
,
{
"cell_type" : "code",
"execution_count": null,
"metadata" : {
    "collapsed" : false
},
"source" : [""],
"outputs": []
}
 ],
"metadata": {
 "kernelspec": {
  "display_name": "FriCAS",
  "language": "spad",
  "name": "ifricas"
 },
 "language_info": {
  "codemirror_mode": "spad",
  "mimetype": "text/x-spad",
  "name": "SPAD",
  "pygments_lexer": "spad",
  "version": "1.2.6"
 },
 "name": "vsbasis.ipynb"
},
"nbformat": 4,
"nbformat_minor": 0
}
