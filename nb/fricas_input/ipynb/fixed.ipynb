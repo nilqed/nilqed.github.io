{
 "cells": [
{
"cell_type" : "markdown",
"metadata" : {},
"source" : ["Copyright The Numerical Algorithms Group Limited 1996."]
}
,
{
"cell_type" : "markdown",
"metadata" : {},
"source" : ["fixed.input"]
}
,
{
"cell_type" : "code",
"execution_count": null,
"metadata" : {
    "collapsed" : false
},
"source" : [")set break resume"],
"outputs": []
}
,
{
"cell_type" : "markdown",
"metadata" : {},
"source" : ["-----------------------------------------------------------------"]
}
,
{
"cell_type" : "markdown",
"metadata" : {},
"source" : [" daly/10/06/92"]
}
,
{
"cell_type" : "markdown",
"metadata" : {},
"source" : ["-----------------------------------------------------------------"]
}
,
{
"cell_type" : "code",
"execution_count": null,
"metadata" : {
    "collapsed" : false
},
"source" : [")clear all"],
"outputs": []
}
,
{
"cell_type" : "markdown",
"metadata" : {},
"source" : [" something is wrong with the integration of serices, when the"]
}
,
{
"cell_type" : "markdown",
"metadata" : {},
"source" : [" coeffiennts are not constants. while the series is mathematically"]
}
,
{
"cell_type" : "markdown",
"metadata" : {},
"source" : [" correct, this is not what one expects as the taylor series, which"]
}
,
{
"cell_type" : "markdown",
"metadata" : {},
"source" : [" does not exist."]
}
,
{
"cell_type" : "code",
"execution_count": null,
"metadata" : {
    "collapsed" : false
},
"source" : ["series(x/(x+log(x)))"],
"outputs": []
}
,
{
"cell_type" : "markdown",
"metadata" : {},
"source" : [" here integrate is treating log(x) as a constant, which is incorrect."]
}
,
{
"cell_type" : "code",
"execution_count": null,
"metadata" : {
    "collapsed" : false
},
"source" : ["integrate(%)"],
"outputs": []
}
,
{
"cell_type" : "markdown",
"metadata" : {},
"source" : ["-----------------------------------------------------------------"]
}
,
{
"cell_type" : "markdown",
"metadata" : {},
"source" : [" bmt/10/19/92 integrate problem -- serious, wrong answer"]
}
,
{
"cell_type" : "markdown",
"metadata" : {},
"source" : ["-----------------------------------------------------------------"]
}
,
{
"cell_type" : "code",
"execution_count": null,
"metadata" : {
    "collapsed" : false
},
"source" : [")clear all"],
"outputs": []
}
,
{
"cell_type" : "code",
"execution_count": null,
"metadata" : {
    "collapsed" : false
},
"source" : ["2*sin(t)*sqrt(1+cos(t))"],
"outputs": []
}
,
{
"cell_type" : "markdown",
"metadata" : {},
"source" : ["correct answer is 4*(1+cos(t))^(3/2)/3"]
}
,
{
"cell_type" : "code",
"execution_count": null,
"metadata" : {
    "collapsed" : false
},
"source" : ["integrate(%,t)"],
"outputs": []
}
,
{
"cell_type" : "markdown",
"metadata" : {},
"source" : ["-----------------------------------------------------------------"]
}
,
{
"cell_type" : "markdown",
"metadata" : {},
"source" : [" bmt/10/20/92 multiple complex in type tower"]
}
,
{
"cell_type" : "markdown",
"metadata" : {},
"source" : ["-----------------------------------------------------------------"]
}
,
{
"cell_type" : "code",
"execution_count": null,
"metadata" : {
    "collapsed" : false
},
"source" : [")clear all"],
"outputs": []
}
,
{
"cell_type" : "code",
"execution_count": null,
"metadata" : {
    "collapsed" : false
},
"source" : ["n:Complex ?"],
"outputs": []
}
,
{
"cell_type" : "markdown",
"metadata" : {},
"source" : [" an invalid type. can't have 2 complex constructors in a tower"]
}
,
{
"cell_type" : "code",
"execution_count": null,
"metadata" : {
    "collapsed" : false
},
"source" : ["n:=x/y+%i"],
"outputs": []
}
,
{
"cell_type" : "markdown",
"metadata" : {},
"source" : ["-----------------------------------------------------------------------"]
}
,
{
"cell_type" : "markdown",
"metadata" : {},
"source" : [" grabm/09/28/92 coercion bug"]
}
,
{
"cell_type" : "markdown",
"metadata" : {},
"source" : [" comment: this coercion must carefully check whether there is a symbol"]
}
,
{
"cell_type" : "markdown",
"metadata" : {},
"source" : ["          among the kernels which is equal to an indeterminate of the"]
}
,
{
"cell_type" : "markdown",
"metadata" : {},
"source" : ["          polynomial ring, and not simply considering every expression"]
}
,
{
"cell_type" : "markdown",
"metadata" : {},
"source" : ["          as a constant"]
}
,
{
"cell_type" : "markdown",
"metadata" : {},
"source" : ["-----------------------------------------------------------------------"]
}
,
{
"cell_type" : "code",
"execution_count": null,
"metadata" : {
    "collapsed" : false
},
"source" : [")clear all"],
"outputs": []
}
,
{
"cell_type" : "code",
"execution_count": null,
"metadata" : {
    "collapsed" : false
},
"source" : ["f:=(a-b-c-d)^2::EXPR INT"],
"outputs": []
}
,
{
"cell_type" : "code",
"execution_count": null,
"metadata" : {
    "collapsed" : false
},
"source" : ["f::DMP(['a,'b],EXPR INT)"],
"outputs": []
}
,
{
"cell_type" : "code",
"execution_count": null,
"metadata" : {
    "collapsed" : false
},
"source" : ["degree %"],
"outputs": []
}
,
{
"cell_type" : "markdown",
"metadata" : {},
"source" : ["-----------------------------------------------------------------"]
}
,
{
"cell_type" : "markdown",
"metadata" : {},
"source" : [" bmt/10/26/92 wrong answer"]
}
,
{
"cell_type" : "markdown",
"metadata" : {},
"source" : [" comment:I believe this problem simplifies to"]
}
,
{
"cell_type" : "markdown",
"metadata" : {},
"source" : [" lfintegrate(sqrt(u^3+u^2),u) which returns the"]
}
,
{
"cell_type" : "markdown",
"metadata" : {},
"source" : [" wrong answer due to some confusion in prootintegrate in INTPAF."]
}
,
{
"cell_type" : "markdown",
"metadata" : {},
"source" : [" I think the confusion happens with the use of radPoly and rootPoly."]
}
,
{
"cell_type" : "markdown",
"metadata" : {},
"source" : [" The answer is computed with respect to the result returned by rootPoly"]
}
,
{
"cell_type" : "markdown",
"metadata" : {},
"source" : [" but the kernel which is substituted for \"y\" corresponds to radPoly."]
}
,
{
"cell_type" : "markdown",
"metadata" : {},
"source" : ["-----------------------------------------------------------------"]
}
,
{
"cell_type" : "code",
"execution_count": null,
"metadata" : {
    "collapsed" : false
},
"source" : [")clear all"],
"outputs": []
}
,
{
"cell_type" : "markdown",
"metadata" : {},
"source" : [" should be 2*sin(t)/sqrt(1+cos(t))"]
}
,
{
"cell_type" : "code",
"execution_count": null,
"metadata" : {
    "collapsed" : false
},
"source" : ["integrate(sqrt(1+cos(x)),x)"],
"outputs": []
}
,
{
"cell_type" : "code",
"execution_count": null,
"metadata" : {
    "collapsed" : false
},
"source" : [")clear all"],
"outputs": []
}
,
{
"cell_type" : "code",
"execution_count": null,
"metadata" : {
    "collapsed" : false
},
"source" : ["f:=log(1-(b*x/(a+c*x^2)))/x"],
"outputs": []
}
,
{
"cell_type" : "markdown",
"metadata" : {},
"source" : ["               2"]
}
,
{
"cell_type" : "markdown",
"metadata" : {},
"source" : ["            c x  - b x + a"]
}
,
{
"cell_type" : "markdown",
"metadata" : {},
"source" : ["        log(--------------)"]
}
,
{
"cell_type" : "markdown",
"metadata" : {},
"source" : ["                  2"]
}
,
{
"cell_type" : "markdown",
"metadata" : {},
"source" : ["               c x  + a"]
}
,
{
"cell_type" : "markdown",
"metadata" : {},
"source" : ["   (1)  -------------------"]
}
,
{
"cell_type" : "markdown",
"metadata" : {},
"source" : ["                 x"]
}
,
{
"cell_type" : "code",
"execution_count": null,
"metadata" : {
    "collapsed" : false
},
"source" : ["integrate(%,x)"],
"outputs": []
}
,
{
"cell_type" : "markdown",
"metadata" : {},
"source" : ["                   2"]
}
,
{
"cell_type" : "markdown",
"metadata" : {},
"source" : ["                 %J c - %J b + a"]
}
,
{
"cell_type" : "markdown",
"metadata" : {},
"source" : ["             log(---------------)"]
}
,
{
"cell_type" : "markdown",
"metadata" : {},
"source" : ["           x          2"]
}
,
{
"cell_type" : "markdown",
"metadata" : {},
"source" : ["         ++         %J c + a"]
}
,
{
"cell_type" : "markdown",
"metadata" : {},
"source" : ["   (2)   |   -------------------- d%J"]
}
,
{
"cell_type" : "markdown",
"metadata" : {},
"source" : ["        ++            %J"]
}
,
{
"cell_type" : "code",
"execution_count": null,
"metadata" : {
    "collapsed" : false
},
"source" : ["expand f"],
"outputs": []
}
,
{
"cell_type" : "markdown",
"metadata" : {},
"source" : ["                 2               2"]
}
,
{
"cell_type" : "markdown",
"metadata" : {},
"source" : ["        - log(c x  + a) + log(c x  - b x + a)"]
}
,
{
"cell_type" : "markdown",
"metadata" : {},
"source" : ["   (3)  -------------------------------------"]
}
,
{
"cell_type" : "markdown",
"metadata" : {},
"source" : ["                          x"]
}
,
{
"cell_type" : "code",
"execution_count": null,
"metadata" : {
    "collapsed" : false
},
"source" : ["integrate(%,x)"],
"outputs": []
}
,
{
"cell_type" : "markdown",
"metadata" : {},
"source" : ["   >> Error detected within library code:"]
}
,
{
"cell_type" : "markdown",
"metadata" : {},
"source" : ["   No identity element for reduce of empty list using operation"]
}
,
{
"cell_type" : "markdown",
"metadata" : {},
"source" : ["   max"]
}
,
{
"cell_type" : "markdown",
"metadata" : {},
"source" : ["-----------------------------------------------------------------"]
}
,
{
"cell_type" : "markdown",
"metadata" : {},
"source" : [" bmt/11/17/92 interpreter resolve problem"]
}
,
{
"cell_type" : "markdown",
"metadata" : {},
"source" : ["-----------------------------------------------------------------"]
}
,
{
"cell_type" : "markdown",
"metadata" : {},
"source" : [" says cannot find an appropriate *"]
}
,
{
"cell_type" : "code",
"execution_count": null,
"metadata" : {
    "collapsed" : false
},
"source" : [")clear all"],
"outputs": []
}
,
{
"cell_type" : "code",
"execution_count": null,
"metadata" : {
    "collapsed" : false
},
"source" : ["%i/m*sqrt(m)"],
"outputs": []
}
,
{
"cell_type" : "markdown",
"metadata" : {},
"source" : ["-----------------------------------------------------------------------"]
}
,
{
"cell_type" : "markdown",
"metadata" : {},
"source" : [" tpd/09/22/92 this generates extra brackets"]
}
,
{
"cell_type" : "markdown",
"metadata" : {},
"source" : ["-----------------------------------------------------------------------"]
}
,
{
"cell_type" : "code",
"execution_count": null,
"metadata" : {
    "collapsed" : false
},
"source" : [")clear all"],
"outputs": []
}
,
{
"cell_type" : "code",
"execution_count": null,
"metadata" : {
    "collapsed" : false
},
"source" : ["foo n == matrix[[i for i in 1..n] for j in 1..n]"],
"outputs": []
}
,
{
"cell_type" : "code",
"execution_count": null,
"metadata" : {
    "collapsed" : false
},
"source" : ["foo"],
"outputs": []
}
,
{
"cell_type" : "markdown",
"metadata" : {},
"source" : ["-----------------------------------------------------------------------"]
}
,
{
"cell_type" : "markdown",
"metadata" : {},
"source" : ["- tpd/09/24/92 matrix multiplication appears broken in the product."]
}
,
{
"cell_type" : "markdown",
"metadata" : {},
"source" : [" fails with"]
}
,
{
"cell_type" : "markdown",
"metadata" : {},
"source" : ["   >> System error:"]
}
,
{
"cell_type" : "markdown",
"metadata" : {},
"source" : ["   The function |deleteAssoc| is undefined."]
}
,
{
"cell_type" : "markdown",
"metadata" : {},
"source" : ["   You are being returned to the top level of the interpreter."]
}
,
{
"cell_type" : "markdown",
"metadata" : {},
"source" : [" comment: (barry)"]
}
,
{
"cell_type" : "markdown",
"metadata" : {},
"source" : [" This bug is due to the new autoloading scheme for the compiler, the"]
}
,
{
"cell_type" : "markdown",
"metadata" : {},
"source" : [" function deleteAssoc needs to be moved into the in core system."]
}
,
{
"cell_type" : "markdown",
"metadata" : {},
"source" : [" As a work around,"]
}
,
{
"cell_type" : "markdown",
"metadata" : {},
"source" : [" if you compile a non existent file, the apropriate files will be loaded,"]
}
,
{
"cell_type" : "markdown",
"metadata" : {},
"source" : [" e.g.:"]
}
,
{
"cell_type" : "markdown",
"metadata" : {},
"source" : [" )co foo"]
}
,
{
"cell_type" : "markdown",
"metadata" : {},
"source" : ["  comment: this works in version 2"]
}
,
{
"cell_type" : "markdown",
"metadata" : {},
"source" : ["-----------------------------------------------------------------------"]
}
,
{
"cell_type" : "code",
"execution_count": null,
"metadata" : {
    "collapsed" : false
},
"source" : ["msq := Matrix SquareMatrix(2,POLY INT)"],
"outputs": []
}
,
{
"cell_type" : "code",
"execution_count": null,
"metadata" : {
    "collapsed" : false
},
"source" : ["m : msq := zero(2,2)"],
"outputs": []
}
,
{
"cell_type" : "code",
"execution_count": null,
"metadata" : {
    "collapsed" : false
},
"source" : ["m(1,1) := matrix([[1,2],[a,b]])"],
"outputs": []
}
,
{
"cell_type" : "code",
"execution_count": null,
"metadata" : {
    "collapsed" : false
},
"source" : ["m(1,2) := matrix([[a,b],[2,b]])"],
"outputs": []
}
,
{
"cell_type" : "code",
"execution_count": null,
"metadata" : {
    "collapsed" : false
},
"source" : ["m(2,2) := matrix([[1,2],[2,b]])"],
"outputs": []
}
,
{
"cell_type" : "code",
"execution_count": null,
"metadata" : {
    "collapsed" : false
},
"source" : ["m"],
"outputs": []
}
,
{
"cell_type" : "code",
"execution_count": null,
"metadata" : {
    "collapsed" : false
},
"source" : ["m*m"],
"outputs": []
}
,
{
"cell_type" : "code",
"execution_count": null,
"metadata" : {
    "collapsed" : false
},
"source" : ["m^2"],
"outputs": []
}
,
{
"cell_type" : "code",
"execution_count": null,
"metadata" : {
    "collapsed" : false
},
"source" : ["m^3"],
"outputs": []
}
,
{
"cell_type" : "code",
"execution_count": null,
"metadata" : {
    "collapsed" : false
},
"source" : ["(m*m)*m"],
"outputs": []
}
,
{
"cell_type" : "code",
"execution_count": null,
"metadata" : {
    "collapsed" : false
},
"source" : ["mm:=m*m"],
"outputs": []
}
,
{
"cell_type" : "code",
"execution_count": null,
"metadata" : {
    "collapsed" : false
},
"source" : ["mm*m"],
"outputs": []
}
,
{
"cell_type" : "markdown",
"metadata" : {},
"source" : ["-----------------------------------------------------------------------"]
}
,
{
"cell_type" : "markdown",
"metadata" : {},
"source" : [" tpd/09/25/92 new equation.spad from johannes grabmeier"]
}
,
{
"cell_type" : "markdown",
"metadata" : {},
"source" : ["-----------------------------------------------------------------------"]
}
,
{
"cell_type" : "markdown",
"metadata" : {},
"source" : ["Furthermore, we have function to put 0 or 1 on one side"]
}
,
{
"cell_type" : "markdown",
"metadata" : {},
"source" : ["and factor the left hand side, after the right hand side"]
}
,
{
"cell_type" : "markdown",
"metadata" : {},
"source" : ["is 0 and we have an IntegralDomain."]
}
,
{
"cell_type" : "markdown",
"metadata" : {},
"source" : ["Johannes"]
}
,
{
"cell_type" : "code",
"execution_count": null,
"metadata" : {
    "collapsed" : false
},
"source" : ["eq1 := (-6*x^3+13*x^2+4)=(-x^4+12*x)"],
"outputs": []
}
,
{
"cell_type" : "markdown",
"metadata" : {},
"source" : [""]
}
,
{
"cell_type" : "markdown",
"metadata" : {},
"source" : [""]
}
,
{
"cell_type" : "markdown",
"metadata" : {},
"source" : ["            3      2         4"]
}
,
{
"cell_type" : "markdown",
"metadata" : {},
"source" : ["   (1)  - 6x  + 13x  + 4= - x  + 12x"]
}
,
{
"cell_type" : "markdown",
"metadata" : {},
"source" : ["                                            Type: Equation Polynomial Integer"]
}
,
{
"cell_type" : "markdown",
"metadata" : {},
"source" : ["                                       Time: 1.61 (IN) + 1.47 (OT) = 3.08 sec"]
}
,
{
"cell_type" : "code",
"execution_count": null,
"metadata" : {
    "collapsed" : false
},
"source" : ["eq2 := x^4+13*x^2-12*x = 6*x^3-4"],
"outputs": []
}
,
{
"cell_type" : "markdown",
"metadata" : {},
"source" : [""]
}
,
{
"cell_type" : "markdown",
"metadata" : {},
"source" : [""]
}
,
{
"cell_type" : "markdown",
"metadata" : {},
"source" : ["         4      2          3"]
}
,
{
"cell_type" : "markdown",
"metadata" : {},
"source" : ["   (2)  x  + 13x  - 12x= 6x  - 4"]
}
,
{
"cell_type" : "markdown",
"metadata" : {},
"source" : ["                                            Type: Equation Polynomial Integer"]
}
,
{
"cell_type" : "markdown",
"metadata" : {},
"source" : ["                                       Time: 0.16 (IN) + 0.11 (OT) = 0.27 sec"]
}
,
{
"cell_type" : "code",
"execution_count": null,
"metadata" : {
    "collapsed" : false
},
"source" : ["eq := eq1*y^2+eq2"],
"outputs": []
}
,
{
"cell_type" : "markdown",
"metadata" : {},
"source" : [""]
}
,
{
"cell_type" : "markdown",
"metadata" : {},
"source" : [""]
}
,
{
"cell_type" : "markdown",
"metadata" : {},
"source" : ["             3      2      2    4      2            4        2     3"]
}
,
{
"cell_type" : "markdown",
"metadata" : {},
"source" : ["   (3)  (- 6x  + 13x  + 4)y  + x  + 13x  - 12x= (- x  + 12x)y  + 6x  - 4"]
}
,
{
"cell_type" : "markdown",
"metadata" : {},
"source" : ["                                            Type: Equation Polynomial Integer"]
}
,
{
"cell_type" : "markdown",
"metadata" : {},
"source" : ["               Time: 0.26 (IN) + 0.01 (EV) + 0.01 (OT) + 1.54 (GC) = 1.82 sec"]
}
,
{
"cell_type" : "code",
"execution_count": null,
"metadata" : {
    "collapsed" : false
},
"source" : ["swap %"],
"outputs": []
}
,
{
"cell_type" : "markdown",
"metadata" : {},
"source" : [""]
}
,
{
"cell_type" : "markdown",
"metadata" : {},
"source" : [""]
}
,
{
"cell_type" : "markdown",
"metadata" : {},
"source" : ["            4        2     3           3      2      2    4      2"]
}
,
{
"cell_type" : "markdown",
"metadata" : {},
"source" : ["   (4)  (- x  + 12x)y  + 6x  - 4= (- 6x  + 13x  + 4)y  + x  + 13x  - 12x"]
}
,
{
"cell_type" : "markdown",
"metadata" : {},
"source" : ["                                            Type: Equation Polynomial Integer"]
}
,
{
"cell_type" : "markdown",
"metadata" : {},
"source" : ["                                                   Time: 0.07 (OT) = 0.07 sec"]
}
,
{
"cell_type" : "code",
"execution_count": null,
"metadata" : {
    "collapsed" : false
},
"source" : ["% + 4"],
"outputs": []
}
,
{
"cell_type" : "markdown",
"metadata" : {},
"source" : [""]
}
,
{
"cell_type" : "markdown",
"metadata" : {},
"source" : [""]
}
,
{
"cell_type" : "markdown",
"metadata" : {},
"source" : ["            4        2     3       3      2      2    4      2"]
}
,
{
"cell_type" : "markdown",
"metadata" : {},
"source" : ["   (5)  (- x  + 12x)y  + 6x = (- 6x  + 13x  + 4)y  + x  + 13x  - 12x + 4"]
}
,
{
"cell_type" : "markdown",
"metadata" : {},
"source" : ["                                            Type: Equation Polynomial Integer"]
}
,
{
"cell_type" : "markdown",
"metadata" : {},
"source" : ["                                       Time: 0.69 (IN) + 0.01 (OT) = 0.70 sec"]
}
,
{
"cell_type" : "code",
"execution_count": null,
"metadata" : {
    "collapsed" : false
},
"source" : ["%-6*x^3"],
"outputs": []
}
,
{
"cell_type" : "markdown",
"metadata" : {},
"source" : [""]
}
,
{
"cell_type" : "markdown",
"metadata" : {},
"source" : [""]
}
,
{
"cell_type" : "markdown",
"metadata" : {},
"source" : ["            4        2       3      2      2    4     3      2"]
}
,
{
"cell_type" : "markdown",
"metadata" : {},
"source" : ["   (6)  (- x  + 12x)y = (- 6x  + 13x  + 4)y  + x  - 6x  + 13x  - 12x + 4"]
}
,
{
"cell_type" : "markdown",
"metadata" : {},
"source" : ["                                            Type: Equation Polynomial Integer"]
}
,
{
"cell_type" : "markdown",
"metadata" : {},
"source" : ["                                       Time: 0.19 (IN) + 0.01 (OT) = 0.20 sec"]
}
,
{
"cell_type" : "code",
"execution_count": null,
"metadata" : {
    "collapsed" : false
},
"source" : ["leftZero %"],
"outputs": []
}
,
{
"cell_type" : "markdown",
"metadata" : {},
"source" : [""]
}
,
{
"cell_type" : "markdown",
"metadata" : {},
"source" : [""]
}
,
{
"cell_type" : "markdown",
"metadata" : {},
"source" : ["             4     3      2            2    4     3      2"]
}
,
{
"cell_type" : "markdown",
"metadata" : {},
"source" : ["   (7)  0= (x  - 6x  + 13x  - 12x + 4)y  + x  - 6x  + 13x  - 12x + 4"]
}
,
{
"cell_type" : "markdown",
"metadata" : {},
"source" : ["                                            Type: Equation Polynomial Integer"]
}
,
{
"cell_type" : "markdown",
"metadata" : {},
"source" : ["                                       Time: 0.01 (IN) + 0.05 (OT) = 0.06 sec"]
}
,
{
"cell_type" : "code",
"execution_count": null,
"metadata" : {
    "collapsed" : false
},
"source" : ["swap %"],
"outputs": []
}
,
{
"cell_type" : "markdown",
"metadata" : {},
"source" : [""]
}
,
{
"cell_type" : "markdown",
"metadata" : {},
"source" : [""]
}
,
{
"cell_type" : "markdown",
"metadata" : {},
"source" : ["          4     3      2            2    4     3      2"]
}
,
{
"cell_type" : "markdown",
"metadata" : {},
"source" : ["   (8)  (x  - 6x  + 13x  - 12x + 4)y  + x  - 6x  + 13x  - 12x + 4= 0"]
}
,
{
"cell_type" : "markdown",
"metadata" : {},
"source" : ["                                            Type: Equation Polynomial Integer"]
}
,
{
"cell_type" : "markdown",
"metadata" : {},
"source" : ["                                                   Time: 0.01 (IN) = 0.01 sec"]
}
,
{
"cell_type" : "code",
"execution_count": null,
"metadata" : {
    "collapsed" : false
},
"source" : ["factor lhs %"],
"outputs": []
}
,
{
"cell_type" : "markdown",
"metadata" : {},
"source" : [""]
}
,
{
"cell_type" : "markdown",
"metadata" : {},
"source" : [""]
}
,
{
"cell_type" : "markdown",
"metadata" : {},
"source" : ["               2       2  2"]
}
,
{
"cell_type" : "markdown",
"metadata" : {},
"source" : ["   (9)  (x - 2) (x - 1) (y  + 1)"]
}
,
{
"cell_type" : "markdown",
"metadata" : {},
"source" : ["                                            Type: Factored Polynomial Integer"]
}
,
{
"cell_type" : "markdown",
"metadata" : {},
"source" : ["                           Time: 0.50 (IN) + 0.09 (EV) + 0.30 (OT) = 0.89 sec"]
}
,
{
"cell_type" : "code",
"execution_count": null,
"metadata" : {
    "collapsed" : false
},
"source" : ["factorAndSplit eq"],
"outputs": []
}
,
{
"cell_type" : "markdown",
"metadata" : {},
"source" : [""]
}
,
{
"cell_type" : "markdown",
"metadata" : {},
"source" : [""]
}
,
{
"cell_type" : "markdown",
"metadata" : {},
"source" : ["                             2"]
}
,
{
"cell_type" : "markdown",
"metadata" : {},
"source" : ["   (10)  [x - 2= 0,x - 1= 0,y  + 1= 0]"]
}
,
{
"cell_type" : "markdown",
"metadata" : {},
"source" : ["                                       Type: List Equation Polynomial Integer"]
}
,
{
"cell_type" : "markdown",
"metadata" : {},
"source" : ["                                       Time: 0.09 (EV) + 0.21 (OT) = 0.30 sec"]
}
,
{
"cell_type" : "code",
"execution_count": null,
"metadata" : {
    "collapsed" : false
},
"source" : ["inv (eq :: EQ FRAC POLY INT)"],
"outputs": []
}
,
{
"cell_type" : "markdown",
"metadata" : {},
"source" : [""]
}
,
{
"cell_type" : "markdown",
"metadata" : {},
"source" : [""]
}
,
{
"cell_type" : "markdown",
"metadata" : {},
"source" : ["                            1                                1"]
}
,
{
"cell_type" : "markdown",
"metadata" : {},
"source" : ["   (11)  - ------------------------------------= - ----------------------"]
}
,
{
"cell_type" : "markdown",
"metadata" : {},
"source" : ["              3      2      2    4      2            4        2     3"]
}
,
{
"cell_type" : "markdown",
"metadata" : {},
"source" : ["           (6x  - 13x  - 4)y  - x  - 13x  + 12x    (x  - 12x)y  - 6x  + 4"]
}
,
{
"cell_type" : "markdown",
"metadata" : {},
"source" : ["                                   Type: Equation Fraction Polynomial Integer"]
}
,
{
"cell_type" : "markdown",
"metadata" : {},
"source" : ["                                                   Time: 0.03 (IN) = 0.03 sec"]
}
,
{
"cell_type" : "code",
"execution_count": null,
"metadata" : {
    "collapsed" : false
},
"source" : ["- %"],
"outputs": []
}
,
{
"cell_type" : "markdown",
"metadata" : {},
"source" : [""]
}
,
{
"cell_type" : "markdown",
"metadata" : {},
"source" : [""]
}
,
{
"cell_type" : "markdown",
"metadata" : {},
"source" : ["                          1                              1"]
}
,
{
"cell_type" : "markdown",
"metadata" : {},
"source" : ["   (12)  ------------------------------------= ----------------------"]
}
,
{
"cell_type" : "markdown",
"metadata" : {},
"source" : ["            3      2      2    4      2          4        2     3"]
}
,
{
"cell_type" : "markdown",
"metadata" : {},
"source" : ["         (6x  - 13x  - 4)y  - x  - 13x  + 12x  (x  - 12x)y  - 6x  + 4"]
}
,
{
"cell_type" : "markdown",
"metadata" : {},
"source" : ["                                   Type: Equation Fraction Polynomial Integer"]
}
,
{
"cell_type" : "markdown",
"metadata" : {},
"source" : ["                                       Time: 0.01 (IN) + 0.01 (OT) = 0.02 sec"]
}
,
{
"cell_type" : "markdown",
"metadata" : {},
"source" : ["-----------------------------------------------------------------"]
}
,
{
"cell_type" : "markdown",
"metadata" : {},
"source" : [" bmt/09/29/92 coercion bug"]
}
,
{
"cell_type" : "markdown",
"metadata" : {},
"source" : [" fails with:"]
}
,
{
"cell_type" : "markdown",
"metadata" : {},
"source" : [" failed cannot be coerced to mode"]
}
,
{
"cell_type" : "markdown",
"metadata" : {},
"source" : [" (Record (: coef1 (Integer)) (: coef2 (Integer)))"]
}
,
{
"cell_type" : "markdown",
"metadata" : {},
"source" : [" fixed on 09/29/92"]
}
,
{
"cell_type" : "markdown",
"metadata" : {},
"source" : ["-----------------------------------------------------------------"]
}
,
{
"cell_type" : "code",
"execution_count": null,
"metadata" : {
    "collapsed" : false
},
"source" : [")clear all"],
"outputs": []
}
,
{
"cell_type" : "code",
"execution_count": null,
"metadata" : {
    "collapsed" : false
},
"source" : ["(p,q):UP(x,INT)"],
"outputs": []
}
,
{
"cell_type" : "code",
"execution_count": null,
"metadata" : {
    "collapsed" : false
},
"source" : ["p:=3*x^4+11*x^2-4"],
"outputs": []
}
,
{
"cell_type" : "code",
"execution_count": null,
"metadata" : {
    "collapsed" : false
},
"source" : ["q:=9*x^4+9*x^2-4"],
"outputs": []
}
,
{
"cell_type" : "code",
"execution_count": null,
"metadata" : {
    "collapsed" : false
},
"source" : ["myNextPrime: (INT,NNI) -> INT"],
"outputs": []
}
,
{
"cell_type" : "code",
"execution_count": null,
"metadata" : {
    "collapsed" : false
},
"source" : ["myNextPrime(x,n)==nextPrime(x)$PRIMES(INT)"],
"outputs": []
}
,
{
"cell_type" : "markdown",
"metadata" : {},
"source" : ["  runs forever due to algebra bug in handling leading coefficients"]
}
,
{
"cell_type" : "code",
"execution_count": null,
"metadata" : {
    "collapsed" : false
},
"source" : ["modularGcd([p,q])$InnerModularGcd(INT,UP(x,INT),67108859,myNextPrime)"],
"outputs": []
}
,
{
"cell_type" : "markdown",
"metadata" : {},
"source" : ["-----------------------------------------------------------------"]
}
,
{
"cell_type" : "markdown",
"metadata" : {},
"source" : [" dewar/10/02/92"]
}
,
{
"cell_type" : "markdown",
"metadata" : {},
"source" : [" actually, this was never wrong"]
}
,
{
"cell_type" : "markdown",
"metadata" : {},
"source" : ["-----------------------------------------------------------------"]
}
,
{
"cell_type" : "code",
"execution_count": null,
"metadata" : {
    "collapsed" : false
},
"source" : ["numeric(%e ^ %pi)"],
"outputs": []
}
,
{
"cell_type" : "markdown",
"metadata" : {},
"source" : ["gives"]
}
,
{
"cell_type" : "markdown",
"metadata" : {},
"source" : ["  23.1406926327 7926900563 5493084578 4861294789 0532254433 2912200665"]
}
,
{
"cell_type" : "markdown",
"metadata" : {},
"source" : [" 6744971913 2534837468 7163222983 2730035"]
}
,
{
"cell_type" : "markdown",
"metadata" : {},
"source" : ["-----------------------------------------------------------------"]
}
,
{
"cell_type" : "markdown",
"metadata" : {},
"source" : [" themos/10/07/92"]
}
,
{
"cell_type" : "markdown",
"metadata" : {},
"source" : ["-----------------------------------------------------------------"]
}
,
{
"cell_type" : "code",
"execution_count": null,
"metadata" : {
    "collapsed" : false
},
"source" : [")clear all"],
"outputs": []
}
,
{
"cell_type" : "code",
"execution_count": null,
"metadata" : {
    "collapsed" : false
},
"source" : ["y:=operator 'y"],
"outputs": []
}
,
{
"cell_type" : "code",
"execution_count": null,
"metadata" : {
    "collapsed" : false
},
"source" : ["deqx:=differentiate(y(x),x,2)+differentiate(y(x),x)+y(x)"],
"outputs": []
}
,
{
"cell_type" : "code",
"execution_count": null,
"metadata" : {
    "collapsed" : false
},
"source" : ["solve(deqx,y,x)"],
"outputs": []
}
,
{
"cell_type" : "code",
"execution_count": null,
"metadata" : {
    "collapsed" : false
},
"source" : ["solve(deqx,y,x=0,[1])"],
"outputs": []
}
,
{
"cell_type" : "code",
"execution_count": null,
"metadata" : {
    "collapsed" : false
},
"source" : ["deqt:=differentiate(y(t),t,2)+differentiate(y(t),t)+y(t)"],
"outputs": []
}
,
{
"cell_type" : "code",
"execution_count": null,
"metadata" : {
    "collapsed" : false
},
"source" : ["solve(deqt,y,t)"],
"outputs": []
}
,
{
"cell_type" : "code",
"execution_count": null,
"metadata" : {
    "collapsed" : false
},
"source" : ["solve(deqt,y,t=0,[1]) -- bug"],
"outputs": []
}
,
{
"cell_type" : "code",
"execution_count": null,
"metadata" : {
    "collapsed" : false
},
"source" : ["deqz:=differentiate(y(z),z,2)+differentiate(y(z),z)+y(z)"],
"outputs": []
}
,
{
"cell_type" : "code",
"execution_count": null,
"metadata" : {
    "collapsed" : false
},
"source" : ["solve(deqz,y,z)"],
"outputs": []
}
,
{
"cell_type" : "code",
"execution_count": null,
"metadata" : {
    "collapsed" : false
},
"source" : ["solve(deqz,y,z=0,[1]) --bug"],
"outputs": []
}
,
{
"cell_type" : "markdown",
"metadata" : {},
"source" : ["-----------------------------------------------------------------"]
}
,
{
"cell_type" : "markdown",
"metadata" : {},
"source" : [" themos/10/07/92 equation"]
}
,
{
"cell_type" : "markdown",
"metadata" : {},
"source" : ["-----------------------------------------------------------------"]
}
,
{
"cell_type" : "code",
"execution_count": null,
"metadata" : {
    "collapsed" : false
},
"source" : [")clear all"],
"outputs": []
}
,
{
"cell_type" : "code",
"execution_count": null,
"metadata" : {
    "collapsed" : false
},
"source" : ["y:=operator 'y"],
"outputs": []
}
,
{
"cell_type" : "code",
"execution_count": null,
"metadata" : {
    "collapsed" : false
},
"source" : ["deq:=D(y(x),x)+x^2=(y x)/x-(y x)^2"],
"outputs": []
}
,
{
"cell_type" : "markdown",
"metadata" : {},
"source" : ["-----------------------------------------------------------------"]
}
,
{
"cell_type" : "markdown",
"metadata" : {},
"source" : [" bmt/10/08/92 laplace"]
}
,
{
"cell_type" : "markdown",
"metadata" : {},
"source" : ["-----------------------------------------------------------------"]
}
,
{
"cell_type" : "code",
"execution_count": null,
"metadata" : {
    "collapsed" : false
},
"source" : [")clear all"],
"outputs": []
}
,
{
"cell_type" : "code",
"execution_count": null,
"metadata" : {
    "collapsed" : false
},
"source" : ["laplace(exp(-x^3)*x^7,x,s)"],
"outputs": []
}
,
{
"cell_type" : "markdown",
"metadata" : {},
"source" : ["-----------------------------------------------------------------"]
}
,
{
"cell_type" : "markdown",
"metadata" : {},
"source" : [" bmt/09/30/92 nonlinear ODE"]
}
,
{
"cell_type" : "markdown",
"metadata" : {},
"source" : ["-----------------------------------------------------------------"]
}
,
{
"cell_type" : "markdown",
"metadata" : {},
"source" : [" Any hope of solving the following which appeared in Barry"]
}
,
{
"cell_type" : "markdown",
"metadata" : {},
"source" : [" Simon's computer algebra test suite:"]
}
,
{
"cell_type" : "markdown",
"metadata" : {},
"source" : [" (Apparently it has Bernoulli form)"]
}
,
{
"cell_type" : "code",
"execution_count": null,
"metadata" : {
    "collapsed" : false
},
"source" : ["y:=operator 'y"],
"outputs": []
}
,
{
"cell_type" : "code",
"execution_count": null,
"metadata" : {
    "collapsed" : false
},
"source" : ["x^2 * D(y x, x) + 2*x*(y x) - (y x)^3 = 0"],
"outputs": []
}
,
{
"cell_type" : "code",
"execution_count": null,
"metadata" : {
    "collapsed" : false
},
"source" : ["solve(%,y,x)"],
"outputs": []
}
,
{
"cell_type" : "markdown",
"metadata" : {},
"source" : ["-----------------------------------------------------------------"]
}
,
{
"cell_type" : "markdown",
"metadata" : {},
"source" : [" sit/10/08/92 factor bug"]
}
,
{
"cell_type" : "markdown",
"metadata" : {},
"source" : ["-----------------------------------------------------------------"]
}
,
{
"cell_type" : "code",
"execution_count": null,
"metadata" : {
    "collapsed" : false
},
"source" : ["p:POLY FRAC INT := 3*(x+1)"],
"outputs": []
}
,
{
"cell_type" : "markdown",
"metadata" : {},
"source" : [" is wrong (missing factor of 3)."]
}
,
{
"cell_type" : "code",
"execution_count": null,
"metadata" : {
    "collapsed" : false
},
"source" : ["factor(p)^2"],
"outputs": []
}
,
{
"cell_type" : "markdown",
"metadata" : {},
"source" : ["-----------------------------------------------------------------"]
}
,
{
"cell_type" : "markdown",
"metadata" : {},
"source" : [" henderson/10/08/92"]
}
,
{
"cell_type" : "markdown",
"metadata" : {},
"source" : ["-----------------------------------------------------------------"]
}
,
{
"cell_type" : "code",
"execution_count": null,
"metadata" : {
    "collapsed" : false
},
"source" : [")clear all"],
"outputs": []
}
,
{
"cell_type" : "markdown",
"metadata" : {},
"source" : ["TextFile cliams that the operator readLineIfCan! returns \"failed\" when"]
}
,
{
"cell_type" : "markdown",
"metadata" : {},
"source" : ["the end of the file is reached.  In fact, I get a system error, which is"]
}
,
{
"cell_type" : "markdown",
"metadata" : {},
"source" : ["not very useful:"]
}
,
{
"cell_type" : "markdown",
"metadata" : {},
"source" : ["(16) ->readLineIfCan!(fp)"]
}
,
{
"cell_type" : "markdown",
"metadata" : {},
"source" : ["   >> System error:"]
}
,
{
"cell_type" : "markdown",
"metadata" : {},
"source" : ["   Unexpected end of #<input stream \"/home/mcd/work/work\">."]
}
,
{
"cell_type" : "markdown",
"metadata" : {},
"source" : ["   You are being returned to the top level of the interpreter."]
}
,
{
"cell_type" : "code",
"execution_count": null,
"metadata" : {
    "collapsed" : false
},
"source" : ["fout:TextFile:=open(\"./foo\",\"output\")"],
"outputs": []
}
,
{
"cell_type" : "code",
"execution_count": null,
"metadata" : {
    "collapsed" : false
},
"source" : ["write!(fout,\"foo\")"],
"outputs": []
}
,
{
"cell_type" : "code",
"execution_count": null,
"metadata" : {
    "collapsed" : false
},
"source" : ["close!(fout)"],
"outputs": []
}
,
{
"cell_type" : "code",
"execution_count": null,
"metadata" : {
    "collapsed" : false
},
"source" : ["fin:TextFile:=open(\"./foo\",\"input\")"],
"outputs": []
}
,
{
"cell_type" : "code",
"execution_count": null,
"metadata" : {
    "collapsed" : false
},
"source" : ["readLineIfCan!(fin)"],
"outputs": []
}
,
{
"cell_type" : "code",
"execution_count": null,
"metadata" : {
    "collapsed" : false
},
"source" : ["readLineIfCan!(fin)"],
"outputs": []
}
,
{
"cell_type" : "code",
"execution_count": null,
"metadata" : {
    "collapsed" : false
},
"source" : ["close!(fin)"],
"outputs": []
}
,
{
"cell_type" : "code",
"execution_count": null,
"metadata" : {
    "collapsed" : false
},
"source" : [")system rm ./foo"],
"outputs": []
}
,
{
"cell_type" : "markdown",
"metadata" : {},
"source" : ["-----------------------------------------------------------------"]
}
,
{
"cell_type" : "markdown",
"metadata" : {},
"source" : [" bmt/10/08/92 factoring over SAEs"]
}
,
{
"cell_type" : "markdown",
"metadata" : {},
"source" : ["-----------------------------------------------------------------"]
}
,
{
"cell_type" : "code",
"execution_count": null,
"metadata" : {
    "collapsed" : false
},
"source" : [")clear all"],
"outputs": []
}
,
{
"cell_type" : "code",
"execution_count": null,
"metadata" : {
    "collapsed" : false
},
"source" : ["a | a^2+1"],
"outputs": []
}
,
{
"cell_type" : "code",
"execution_count": null,
"metadata" : {
    "collapsed" : false
},
"source" : ["(x+a)*(x+a+1)"],
"outputs": []
}
,
{
"cell_type" : "code",
"execution_count": null,
"metadata" : {
    "collapsed" : false
},
"source" : ["factor %"],
"outputs": []
}
,
{
"cell_type" : "markdown",
"metadata" : {},
"source" : ["-----------------------------------------------------------------"]
}
,
{
"cell_type" : "markdown",
"metadata" : {},
"source" : [" miller/10/09/92 local vars in types"]
}
,
{
"cell_type" : "markdown",
"metadata" : {},
"source" : ["-----------------------------------------------------------------"]
}
,
{
"cell_type" : "code",
"execution_count": null,
"metadata" : {
    "collapsed" : false
},
"source" : [")clear all"],
"outputs": []
}
,
{
"cell_type" : "markdown",
"metadata" : {},
"source" : ["Fixed (Victor's) bug with using local variables in type expressions"]
}
,
{
"cell_type" : "markdown",
"metadata" : {},
"source" : ["assigned to local variables.  It now gives a message and correctly uses"]
}
,
{
"cell_type" : "markdown",
"metadata" : {},
"source" : ["interpret-only mode."]
}
,
{
"cell_type" : "markdown",
"metadata" : {},
"source" : ["The function changed was getAndEvalConstructorArgument from i-spec1.boot."]
}
,
{
"cell_type" : "markdown",
"metadata" : {},
"source" : ["-----------------------------------------------------------------"]
}
,
{
"cell_type" : "markdown",
"metadata" : {},
"source" : [" themos/10/19/92"]
}
,
{
"cell_type" : "markdown",
"metadata" : {},
"source" : ["-----------------------------------------------------------------"]
}
,
{
"cell_type" : "code",
"execution_count": null,
"metadata" : {
    "collapsed" : false
},
"source" : [")clear all"],
"outputs": []
}
,
{
"cell_type" : "markdown",
"metadata" : {},
"source" : [" Do this in a virgin system"]
}
,
{
"cell_type" : "code",
"execution_count": null,
"metadata" : {
    "collapsed" : false
},
"source" : [")set expose add constructor SquareMatrix"],
"outputs": []
}
,
{
"cell_type" : "code",
"execution_count": null,
"metadata" : {
    "collapsed" : false
},
"source" : ["S2:= SquareMatrix(2,FRAC POLY INT);"],
"outputs": []
}
,
{
"cell_type" : "code",
"execution_count": null,
"metadata" : {
    "collapsed" : false
},
"source" : ["V2: S2 := matrix([[v,-v],[-v,v]]);"],
"outputs": []
}
,
{
"cell_type" : "code",
"execution_count": null,
"metadata" : {
    "collapsed" : false
},
"source" : ["I2: S2 := 1;"],
"outputs": []
}
,
{
"cell_type" : "code",
"execution_count": null,
"metadata" : {
    "collapsed" : false
},
"source" : ["m:=5;"],
"outputs": []
}
,
{
"cell_type" : "code",
"execution_count": null,
"metadata" : {
    "collapsed" : false
},
"source" : ["l: List(S2) := append(cons(V2+h*I2,_\n            [(V2+2*h*I2) for i in 2 .. (m-1)]),_\n             [V2+h*I2])\n"],
"outputs": []
}
,
{
"cell_type" : "code",
"execution_count": null,
"metadata" : {
    "collapsed" : false
},
"source" : ["A: SquareMatrix(m, S2) := diagonalMatrix(l)"],
"outputs": []
}
,
{
"cell_type" : "markdown",
"metadata" : {},
"source" : [" did you get an error of deleteAssoc not defined ??"]
}
,
{
"cell_type" : "markdown",
"metadata" : {},
"source" : [" load definition of deleteAssoc"]
}
,
{
"cell_type" : "markdown",
"metadata" : {},
"source" : [" )li (load \"/spad/obj/rios/interp/c-util\")"]
}
,
{
"cell_type" : "markdown",
"metadata" : {},
"source" : [" A: SquareMatrix(m, S2) := diagonalMatrix(l)"]
}
,
{
"cell_type" : "markdown",
"metadata" : {},
"source" : ["now , can print."]
}
,
{
"cell_type" : "markdown",
"metadata" : {},
"source" : ["-----------------------------------------------------------------"]
}
,
{
"cell_type" : "markdown",
"metadata" : {},
"source" : [" bmt/10/19/92 squareFree bug"]
}
,
{
"cell_type" : "markdown",
"metadata" : {},
"source" : ["-----------------------------------------------------------------"]
}
,
{
"cell_type" : "markdown",
"metadata" : {},
"source" : [" has an extra factor of 2."]
}
,
{
"cell_type" : "code",
"execution_count": null,
"metadata" : {
    "collapsed" : false
},
"source" : ["squareFree((2*x*y+1)*(x*y+1)^2)"],
"outputs": []
}
,
{
"cell_type" : "markdown",
"metadata" : {},
"source" : ["-----------------------------------------------------------------"]
}
,
{
"cell_type" : "markdown",
"metadata" : {},
"source" : [" bmt/10/19/92 division by zero error"]
}
,
{
"cell_type" : "markdown",
"metadata" : {},
"source" : ["-----------------------------------------------------------------"]
}
,
{
"cell_type" : "code",
"execution_count": null,
"metadata" : {
    "collapsed" : false
},
"source" : ["limit(atan(1/sin(x)),x=0)"],
"outputs": []
}
,
{
"cell_type" : "markdown",
"metadata" : {},
"source" : ["-----------------------------------------------------------------"]
}
,
{
"cell_type" : "markdown",
"metadata" : {},
"source" : [" bmt/10/19/92 limit problem"]
}
,
{
"cell_type" : "markdown",
"metadata" : {},
"source" : ["-----------------------------------------------------------------"]
}
,
{
"cell_type" : "code",
"execution_count": null,
"metadata" : {
    "collapsed" : false
},
"source" : [")clear all"],
"outputs": []
}
,
{
"cell_type" : "markdown",
"metadata" : {},
"source" : [" the left and right hand limits don't agree"]
}
,
{
"cell_type" : "code",
"execution_count": null,
"metadata" : {
    "collapsed" : false
},
"source" : ["limit(atan(-sin(x)/(cos(x)+e)),x=acos(-e))"],
"outputs": []
}
,
{
"cell_type" : "markdown",
"metadata" : {},
"source" : [" the left and right hand limits don't agree"]
}
,
{
"cell_type" : "code",
"execution_count": null,
"metadata" : {
    "collapsed" : false
},
"source" : ["limit(atan(1/(cos(x)+e)),x=acos(-e))"],
"outputs": []
}
,
{
"cell_type" : "markdown",
"metadata" : {},
"source" : ["-----------------------------------------------------------------"]
}
,
{
"cell_type" : "markdown",
"metadata" : {},
"source" : [" grabmeier/10/19/92 unable to compute the determinant of an 8x8"]
}
,
{
"cell_type" : "markdown",
"metadata" : {},
"source" : ["-----------------------------------------------------------------"]
}
,
{
"cell_type" : "code",
"execution_count": null,
"metadata" : {
    "collapsed" : false
},
"source" : [")clear all"],
"outputs": []
}
,
{
"cell_type" : "code",
"execution_count": null,
"metadata" : {
    "collapsed" : false
},
"source" : ["D := MATRIX FRAC(POLY INT)"],
"outputs": []
}
,
{
"cell_type" : "code",
"execution_count": null,
"metadata" : {
    "collapsed" : false
},
"source" : ["d : (INT, Boolean) -> POLY INT"],
"outputs": []
}
,
{
"cell_type" : "code",
"execution_count": null,
"metadata" : {
    "collapsed" : false
},
"source" : ["d(i,ss)  =="],
"outputs": []
}
,
{
"cell_type" : "code",
"execution_count": null,
"metadata" : {
    "collapsed" : false
},
"source" : ["  ex := i rem 4"],
"outputs": []
}
,
{
"cell_type" : "code",
"execution_count": null,
"metadata" : {
    "collapsed" : false
},
"source" : ["  if ex < 0 then ex := ex+4"],
"outputs": []
}
,
{
"cell_type" : "code",
"execution_count": null,
"metadata" : {
    "collapsed" : false
},
"source" : ["  ss =>"],
"outputs": []
}
,
{
"cell_type" : "code",
"execution_count": null,
"metadata" : {
    "collapsed" : false
},
"source" : ["    ex = 0 => 's"],
"outputs": []
}
,
{
"cell_type" : "code",
"execution_count": null,
"metadata" : {
    "collapsed" : false
},
"source" : ["    ex = 1 => 'sd"],
"outputs": []
}
,
{
"cell_type" : "code",
"execution_count": null,
"metadata" : {
    "collapsed" : false
},
"source" : ["    ex = 2 => 'sdd"],
"outputs": []
}
,
{
"cell_type" : "code",
"execution_count": null,
"metadata" : {
    "collapsed" : false
},
"source" : ["    'sddd"],
"outputs": []
}
,
{
"cell_type" : "code",
"execution_count": null,
"metadata" : {
    "collapsed" : false
},
"source" : ["  ex = 0 => 1"],
"outputs": []
}
,
{
"cell_type" : "code",
"execution_count": null,
"metadata" : {
    "collapsed" : false
},
"source" : ["  ex = 1 => 'd"],
"outputs": []
}
,
{
"cell_type" : "code",
"execution_count": null,
"metadata" : {
    "collapsed" : false
},
"source" : ["  ex = 2 => 'dd"],
"outputs": []
}
,
{
"cell_type" : "code",
"execution_count": null,
"metadata" : {
    "collapsed" : false
},
"source" : ["  'ddd"],
"outputs": []
}
,
{
"cell_type" : "markdown",
"metadata" : {},
"source" : [" 1,d,dd,ddd,s,sd,sdd,sddd"]
}
,
{
"cell_type" : "code",
"execution_count": null,
"metadata" : {
    "collapsed" : false
},
"source" : ["mTV4 : D := new(8,8,0)"],
"outputs": []
}
,
{
"cell_type" : "code",
"execution_count": null,
"metadata" : {
    "collapsed" : false
},
"source" : ["for i in 1..8 repeat"],
"outputs": []
}
,
{
"cell_type" : "code",
"execution_count": null,
"metadata" : {
    "collapsed" : false
},
"source" : ["  for j in 1..8 repeat"],
"outputs": []
}
,
{
"cell_type" : "code",
"execution_count": null,
"metadata" : {
    "collapsed" : false
},
"source" : ["    mTV4(i,j) :="],
"outputs": []
}
,
{
"cell_type" : "code",
"execution_count": null,
"metadata" : {
    "collapsed" : false
},
"source" : ["      i <= 4 =>"],
"outputs": []
}
,
{
"cell_type" : "code",
"execution_count": null,
"metadata" : {
    "collapsed" : false
},
"source" : ["        j <= 4 => d(i+j-2, false)"],
"outputs": []
}
,
{
"cell_type" : "code",
"execution_count": null,
"metadata" : {
    "collapsed" : false
},
"source" : ["        d(-i+j,true)"],
"outputs": []
}
,
{
"cell_type" : "code",
"execution_count": null,
"metadata" : {
    "collapsed" : false
},
"source" : ["      j <= 4 => d(i+j-2,true)"],
"outputs": []
}
,
{
"cell_type" : "code",
"execution_count": null,
"metadata" : {
    "collapsed" : false
},
"source" : ["      d(-i+j,false)"],
"outputs": []
}
,
{
"cell_type" : "code",
"execution_count": null,
"metadata" : {
    "collapsed" : false
},
"source" : ["mTV4"],
"outputs": []
}
,
{
"cell_type" : "code",
"execution_count": null,
"metadata" : {
    "collapsed" : false
},
"source" : ["gdd4 := determinant mTV4"],
"outputs": []
}
,
{
"cell_type" : "markdown",
"metadata" : {},
"source" : ["-----------------------------------------------------------------"]
}
,
{
"cell_type" : "markdown",
"metadata" : {},
"source" : [" sutor/09/28/92 operator bug?"]
}
,
{
"cell_type" : "markdown",
"metadata" : {},
"source" : ["-----------------------------------------------------------------"]
}
,
{
"cell_type" : "code",
"execution_count": null,
"metadata" : {
    "collapsed" : false
},
"source" : [")clear all"],
"outputs": []
}
,
{
"cell_type" : "code",
"execution_count": null,
"metadata" : {
    "collapsed" : false
},
"source" : ["L n =="],
"outputs": []
}
,
{
"cell_type" : "code",
"execution_count": null,
"metadata" : {
    "collapsed" : false
},
"source" : ["  n = 0 => 1"],
"outputs": []
}
,
{
"cell_type" : "code",
"execution_count": null,
"metadata" : {
    "collapsed" : false
},
"source" : ["  n = 1 => x"],
"outputs": []
}
,
{
"cell_type" : "code",
"execution_count": null,
"metadata" : {
    "collapsed" : false
},
"source" : ["  (2*n-1)/n * x * L(n-1) - (n-1)/n * L(n-2)"],
"outputs": []
}
,
{
"cell_type" : "code",
"execution_count": null,
"metadata" : {
    "collapsed" : false
},
"source" : ["R := POLY FRAC INT"],
"outputs": []
}
,
{
"cell_type" : "code",
"execution_count": null,
"metadata" : {
    "collapsed" : false
},
"source" : ["dx := operator(\"D\")::OP(R)"],
"outputs": []
}
,
{
"cell_type" : "code",
"execution_count": null,
"metadata" : {
    "collapsed" : false
},
"source" : ["evaluate(dx, (p+-> differentiate(p,'x))@(R -> R))"],
"outputs": []
}
,
{
"cell_type" : "code",
"execution_count": null,
"metadata" : {
    "collapsed" : false
},
"source" : ["E n == (1-x^2)*dx^2-2*x*dx+n*(n+1)"],
"outputs": []
}
,
{
"cell_type" : "code",
"execution_count": null,
"metadata" : {
    "collapsed" : false
},
"source" : ["L 15"],
"outputs": []
}
,
{
"cell_type" : "markdown",
"metadata" : {},
"source" : [" used to fail on this line"]
}
,
{
"cell_type" : "code",
"execution_count": null,
"metadata" : {
    "collapsed" : false
},
"source" : ["E 15"],
"outputs": []
}
,
{
"cell_type" : "markdown",
"metadata" : {},
"source" : ["-----------------------------------------------------------------"]
}
,
{
"cell_type" : "markdown",
"metadata" : {},
"source" : [" james/10/28/92 coerce bug"]
}
,
{
"cell_type" : "markdown",
"metadata" : {},
"source" : ["-----------------------------------------------------------------"]
}
,
{
"cell_type" : "code",
"execution_count": null,
"metadata" : {
    "collapsed" : false
},
"source" : [")clear all"],
"outputs": []
}
,
{
"cell_type" : "markdown",
"metadata" : {},
"source" : [" improper character in Roman numeral: G"]
}
,
{
"cell_type" : "code",
"execution_count": null,
"metadata" : {
    "collapsed" : false
},
"source" : ["g::ROMAN"],
"outputs": []
}
,
{
"cell_type" : "markdown",
"metadata" : {},
"source" : ["-----------------------------------------------------------------"]
}
,
{
"cell_type" : "markdown",
"metadata" : {},
"source" : [" grabm/10/28/92 runs forever"]
}
,
{
"cell_type" : "markdown",
"metadata" : {},
"source" : ["-----------------------------------------------------------------"]
}
,
{
"cell_type" : "code",
"execution_count": null,
"metadata" : {
    "collapsed" : false
},
"source" : [")clear all"],
"outputs": []
}
,
{
"cell_type" : "markdown",
"metadata" : {},
"source" : [" this is quick"]
}
,
{
"cell_type" : "code",
"execution_count": null,
"metadata" : {
    "collapsed" : false
},
"source" : ["factor 1068303355883998767544567663620885466990173600"],
"outputs": []
}
,
{
"cell_type" : "markdown",
"metadata" : {},
"source" : [" but this runs forever"]
}
,
{
"cell_type" : "code",
"execution_count": null,
"metadata" : {
    "collapsed" : false
},
"source" : ["sqrt 1068303355883998767544567663620885466990173600"],
"outputs": []
}
,
{
"cell_type" : "markdown",
"metadata" : {},
"source" : ["-----------------------------------------------------------------"]
}
,
{
"cell_type" : "markdown",
"metadata" : {},
"source" : [" themos/11/05/92 fortran output bug"]
}
,
{
"cell_type" : "markdown",
"metadata" : {},
"source" : ["-----------------------------------------------------------------"]
}
,
{
"cell_type" : "code",
"execution_count": null,
"metadata" : {
    "collapsed" : false
},
"source" : [")clear all"],
"outputs": []
}
,
{
"cell_type" : "markdown",
"metadata" : {},
"source" : ["      REAL T7,T6,T5,T4,T3,T2,T1"]
}
,
{
"cell_type" : "markdown",
"metadata" : {},
"source" : ["      T1=x*x"]
}
,
{
"cell_type" : "markdown",
"metadata" : {},
"source" : ["      T2=2.*y^5"]
}
,
{
"cell_type" : "markdown",
"metadata" : {},
"source" : ["      T3=4.*T1"]
}
,
{
"cell_type" : "markdown",
"metadata" : {},
"source" : ["      T4=y^3"]
}
,
{
"cell_type" : "markdown",
"metadata" : {},
"source" : ["      T5=2.*T7"]
}
,
{
"cell_type" : "markdown",
"metadata" : {},
"source" : ["      T6=x^3"]
}
,
{
"cell_type" : "markdown",
"metadata" : {},
"source" : ["      T7=x^4"]
}
,
{
"cell_type" : "markdown",
"metadata" : {},
"source" : ["      R46=((T2+(T3+8.*x+8.)*T4+(T5+8.*T6+(-40.*T1))*y)*SIN(x)+(-T2+(-T3+"]
}
,
{
"cell_type" : "markdown",
"metadata" : {},
"source" : ["     &16.*x)*T4+(-T5+16.*T6)*y)*COS(x))/(y^8+4.*T1*y^6+6.*T7*y^4+4.*x"]
}
,
{
"cell_type" : "markdown",
"metadata" : {},
"source" : ["     &^6*y*y+x^8)"]
}
,
{
"cell_type" : "markdown",
"metadata" : {},
"source" : [" T7 is referenced before it is defined"]
}
,
{
"cell_type" : "code",
"execution_count": null,
"metadata" : {
    "collapsed" : false
},
"source" : ["a1:=sin(x)/(x^2+y^2);a2:=D(a1,[x,y]);a2+D(a2,x)"],
"outputs": []
}
,
{
"cell_type" : "markdown",
"metadata" : {},
"source" : ["-----------------------------------------------------------------"]
}
,
{
"cell_type" : "markdown",
"metadata" : {},
"source" : [" grabm/11/05/92"]
}
,
{
"cell_type" : "markdown",
"metadata" : {},
"source" : [" comment:"]
}
,
{
"cell_type" : "markdown",
"metadata" : {},
"source" : ["I believe the \"bug\" is that the interpreter is converting gb which is"]
}
,
{
"cell_type" : "markdown",
"metadata" : {},
"source" : ["a list of dmp style polynomials to a list of POLY type polynomials."]
}
,
{
"cell_type" : "markdown",
"metadata" : {},
"source" : ["Unfortunately the result of such a conversion is no longer a groebner basis."]
}
,
{
"cell_type" : "markdown",
"metadata" : {},
"source" : ["I don't see any reasonable way to prevent this, and would therefore have to"]
}
,
{
"cell_type" : "markdown",
"metadata" : {},
"source" : ["classify this as \"user error\", when working with grobner bases, the user"]
}
,
{
"cell_type" : "markdown",
"metadata" : {},
"source" : ["needs to force all his polynomials to be the appropriate type (thus having"]
}
,
{
"cell_type" : "markdown",
"metadata" : {},
"source" : ["the correct ordering)."]
}
,
{
"cell_type" : "markdown",
"metadata" : {},
"source" : ["-----------------------------------------------------------------"]
}
,
{
"cell_type" : "markdown",
"metadata" : {},
"source" : [" expressing a symmetric functions in terms of elementary symm. functions"]
}
,
{
"cell_type" : "markdown",
"metadata" : {},
"source" : [" working in POLY INT is o.k."]
}
,
{
"cell_type" : "code",
"execution_count": null,
"metadata" : {
    "collapsed" : false
},
"source" : ["R := FRAC INT"],
"outputs": []
}
,
{
"cell_type" : "markdown",
"metadata" : {},
"source" : ["   (1)  Fraction Integer"]
}
,
{
"cell_type" : "code",
"execution_count": null,
"metadata" : {
    "collapsed" : false
},
"source" : ["lpx : List POLY R := [x1+x2+x3, x1*x2+x1*x3+x2*x3,x1*x2*x3]"],
"outputs": []
}
,
{
"cell_type" : "markdown",
"metadata" : {},
"source" : ["   (2)  [x3 + x2 + x1,(x2 + x1)x3 + x1 x2,x1 x2 x3]"]
}
,
{
"cell_type" : "code",
"execution_count": null,
"metadata" : {
    "collapsed" : false
},
"source" : ["lip := [lpx.1-e3, lpx.2-e2, lpx.3-e1]"],
"outputs": []
}
,
{
"cell_type" : "markdown",
"metadata" : {},
"source" : ["   (3)  [x3 + x2 + x1 - e3,(x2 + x1)x3 + x1 x2 - e2,x1 x2 x3 - e1]"]
}
,
{
"cell_type" : "code",
"execution_count": null,
"metadata" : {
    "collapsed" : false
},
"source" : ["gbp := groebner lip"],
"outputs": []
}
,
{
"cell_type" : "markdown",
"metadata" : {},
"source" : ["   (4)"]
}
,
{
"cell_type" : "markdown",
"metadata" : {},
"source" : ["                         2                   2"]
}
,
{
"cell_type" : "markdown",
"metadata" : {},
"source" : ["   [x3 + x2 + x1 - e3, x2  + (x1 - e3)x2 + x1  - e3 x1 + e2,"]
}
,
{
"cell_type" : "markdown",
"metadata" : {},
"source" : ["      3        2"]
}
,
{
"cell_type" : "markdown",
"metadata" : {},
"source" : ["    x1  - e3 x1  + e2 x1 - e1]"]
}
,
{
"cell_type" : "code",
"execution_count": null,
"metadata" : {
    "collapsed" : false
},
"source" : ["normalForm(x1^2+x2^2+x3^2,gbp)"],
"outputs": []
}
,
{
"cell_type" : "markdown",
"metadata" : {},
"source" : ["          2"]
}
,
{
"cell_type" : "markdown",
"metadata" : {},
"source" : ["   (5)  e3  - 2e2"]
}
,
{
"cell_type" : "markdown",
"metadata" : {},
"source" : [" working in DMP is o.k."]
}
,
{
"cell_type" : "code",
"execution_count": null,
"metadata" : {
    "collapsed" : false
},
"source" : ["dmp := DMP([x1,x2,x3,e1,e2,e3],INT)"],
"outputs": []
}
,
{
"cell_type" : "markdown",
"metadata" : {},
"source" : ["   (6)  DistributedMultivariatePolynomial([x1,x2,x3,e1,e2,e3],Integer)"]
}
,
{
"cell_type" : "code",
"execution_count": null,
"metadata" : {
    "collapsed" : false
},
"source" : ["li : List dmp := [lpx.1-e1, lpx.2-e2, lpx.3-e3]"],
"outputs": []
}
,
{
"cell_type" : "markdown",
"metadata" : {},
"source" : ["   (7)  [x1 + x2 + x3 - e1,x1 x2 + x1 x3 + x2 x3 - e2,x1 x2 x3 - e3]"]
}
,
{
"cell_type" : "code",
"execution_count": null,
"metadata" : {
    "collapsed" : false
},
"source" : ["gb := groebner li"],
"outputs": []
}
,
{
"cell_type" : "markdown",
"metadata" : {},
"source" : ["   (8)"]
}
,
{
"cell_type" : "markdown",
"metadata" : {},
"source" : ["                         2                     2"]
}
,
{
"cell_type" : "markdown",
"metadata" : {},
"source" : ["   [x1 + x2 + x3 - e1, x2  + x2 x3 - x2 e1 + x3  - x3 e1 + e2,"]
}
,
{
"cell_type" : "markdown",
"metadata" : {},
"source" : ["      3     2"]
}
,
{
"cell_type" : "markdown",
"metadata" : {},
"source" : ["    x3  - x3 e1 + x3 e2 - e3]"]
}
,
{
"cell_type" : "code",
"execution_count": null,
"metadata" : {
    "collapsed" : false
},
"source" : ["p:dmp:=(x1^2+x2^2+x3^2)"],
"outputs": []
}
,
{
"cell_type" : "markdown",
"metadata" : {},
"source" : ["          2     2     2"]
}
,
{
"cell_type" : "markdown",
"metadata" : {},
"source" : ["   (9)  x1  + x2  + x3"]
}
,
{
"cell_type" : "code",
"execution_count": null,
"metadata" : {
    "collapsed" : false
},
"source" : ["normalForm(p,gb)"],
"outputs": []
}
,
{
"cell_type" : "markdown",
"metadata" : {},
"source" : ["           2"]
}
,
{
"cell_type" : "markdown",
"metadata" : {},
"source" : ["   (10)  e1  - 2e2"]
}
,
{
"cell_type" : "markdown",
"metadata" : {},
"source" : [" but we have some problems (coercion? ordering?) here:"]
}
,
{
"cell_type" : "code",
"execution_count": null,
"metadata" : {
    "collapsed" : false
},
"source" : ["normalForm(x1^2+x2^2+x3^2,gb)"],
"outputs": []
}
,
{
"cell_type" : "markdown",
"metadata" : {},
"source" : ["            2                      2              2"]
}
,
{
"cell_type" : "markdown",
"metadata" : {},
"source" : ["   (11)  2x2  + (2x1 - 2e1)x2 + 2x1  - 2e1 x1 + e1"]
}
,
{
"cell_type" : "markdown",
"metadata" : {},
"source" : ["-----------------------------------------------------------------"]
}
,
{
"cell_type" : "markdown",
"metadata" : {},
"source" : [" bmt/11/17/92 Ifintegrate"]
}
,
{
"cell_type" : "markdown",
"metadata" : {},
"source" : ["-----------------------------------------------------------------"]
}
,
{
"cell_type" : "markdown",
"metadata" : {},
"source" : ["It seems that one cannot simply parametrize reducible curves."]
}
,
{
"cell_type" : "markdown",
"metadata" : {},
"source" : ["Any attempt at parametrization can only follow one branch."]
}
,
{
"cell_type" : "markdown",
"metadata" : {},
"source" : ["For curves of the form y^2=a^2*x^2+b*x+c, these are only reducible"]
}
,
{
"cell_type" : "markdown",
"metadata" : {},
"source" : ["if a^2*x^2+b*x+c is a perfect square. Basically I think we need to"]
}
,
{
"cell_type" : "markdown",
"metadata" : {},
"source" : ["choose 1 branch in this case. Under some circumstances we could"]
}
,
{
"cell_type" : "markdown",
"metadata" : {},
"source" : ["try to proceed down both branches and then unify the result, but for"]
}
,
{
"cell_type" : "markdown",
"metadata" : {},
"source" : ["the time being, perhaps we should just perform the substitution"]
}
,
{
"cell_type" : "markdown",
"metadata" : {},
"source" : ["y=sqrt(a^2*x^2+b*x+c) whenever that is a perfect square."]
}
,
{
"cell_type" : "markdown",
"metadata" : {},
"source" : ["(then we don't even need to do any back subsitution or change to dx)."]
}
,
{
"cell_type" : "markdown",
"metadata" : {},
"source" : [""]
}
,
{
"cell_type" : "markdown",
"metadata" : {},
"source" : ["For another example, perhaps due to the same essential difficulty try"]
}
,
{
"cell_type" : "code",
"execution_count": null,
"metadata" : {
    "collapsed" : false
},
"source" : ["integrate(normalize(sqrt(1+cos(x)),x),x)"],
"outputs": []
}
,
{
"cell_type" : "markdown",
"metadata" : {},
"source" : [" this gets a non-invertible error"]
}
,
{
"cell_type" : "markdown",
"metadata" : {},
"source" : ["I have fixed integrate(sqrt(1+cos(x)),x) and"]
}
,
{
"cell_type" : "markdown",
"metadata" : {},
"source" : ["integrate(normalize(sqrt(1+cos(x)),x),x)"]
}
,
{
"cell_type" : "markdown",
"metadata" : {},
"source" : ["fix was to function prootintegrate in INTPAF in intaf.spad"]
}
,
{
"cell_type" : "markdown",
"metadata" : {},
"source" : ["-----------------------------------------------------------------"]
}
,
{
"cell_type" : "markdown",
"metadata" : {},
"source" : [" dewar/02/15/93"]
}
,
{
"cell_type" : "markdown",
"metadata" : {},
"source" : ["-----------------------------------------------------------------"]
}
,
{
"cell_type" : "code",
"execution_count": null,
"metadata" : {
    "collapsed" : false
},
"source" : [")clear all"],
"outputs": []
}
,
{
"cell_type" : "markdown",
"metadata" : {},
"source" : ["i::Polynomial(Integer)"]
}
,
{
"cell_type" : "markdown",
"metadata" : {},
"source" : ["%::Union(Symbol,Polynomial Integer)"]
}
,
{
"cell_type" : "markdown",
"metadata" : {},
"source" : ["list %"]
}
,
{
"cell_type" : "markdown",
"metadata" : {},
"source" : [""]
}
,
{
"cell_type" : "markdown",
"metadata" : {},
"source" : ["this is a bug in old style union handling, this style of unions"]
}
,
{
"cell_type" : "markdown",
"metadata" : {},
"source" : ["will become obsolete, so the suggested fix is to use tagged unions instead:"]
}
,
{
"cell_type" : "code",
"execution_count": null,
"metadata" : {
    "collapsed" : false
},
"source" : ["i::POLY INT"],
"outputs": []
}
,
{
"cell_type" : "code",
"execution_count": null,
"metadata" : {
    "collapsed" : false
},
"source" : ["%::Union(s:Symbol, p:POLY INT)"],
"outputs": []
}
,
{
"cell_type" : "code",
"execution_count": null,
"metadata" : {
    "collapsed" : false
},
"source" : ["list % -- works"],
"outputs": []
}
,
{
"cell_type" : "markdown",
"metadata" : {},
"source" : ["-----------------------------------------------------------------"]
}
,
{
"cell_type" : "markdown",
"metadata" : {},
"source" : [" grabm/03/04/93"]
}
,
{
"cell_type" : "markdown",
"metadata" : {},
"source" : [" parser bug? not for system commands"]
}
,
{
"cell_type" : "markdown",
"metadata" : {},
"source" : ["-----------------------------------------------------------------"]
}
,
{
"cell_type" : "markdown",
"metadata" : {},
"source" : [" )clear all"]
}
,
{
"cell_type" : "markdown",
"metadata" : {},
"source" : [" gives error: Sorry, but no option begins with upd;"]
}
,
{
"cell_type" : "markdown",
"metadata" : {},
"source" : [" )load /spad/mnt/rios/algebra/EQ )upd; a:=1"]
}
,
{
"cell_type" : "markdown",
"metadata" : {},
"source" : [" works"]
}
,
{
"cell_type" : "markdown",
"metadata" : {},
"source" : [" )load /spad/mnt/rios/algebra/EQ )upd ; a:=1"]
}
,
{
"cell_type" : "markdown",
"metadata" : {},
"source" : ["-----------------------------------------------------------------"]
}
,
{
"cell_type" : "markdown",
"metadata" : {},
"source" : [" bronstein/03/08/93"]
}
,
{
"cell_type" : "markdown",
"metadata" : {},
"source" : ["-----------------------------------------------------------------"]
}
,
{
"cell_type" : "code",
"execution_count": null,
"metadata" : {
    "collapsed" : false
},
"source" : [")clear all"],
"outputs": []
}
,
{
"cell_type" : "code",
"execution_count": null,
"metadata" : {
    "collapsed" : false
},
"source" : ["I:=operator 'I"],
"outputs": []
}
,
{
"cell_type" : "code",
"execution_count": null,
"metadata" : {
    "collapsed" : false
},
"source" : ["J:=operator 'J"],
"outputs": []
}
,
{
"cell_type" : "code",
"execution_count": null,
"metadata" : {
    "collapsed" : false
},
"source" : ["eq := mu * D(I x,x) = - (K + S) * I(x) + S*J(x)"],
"outputs": []
}
,
{
"cell_type" : "code",
"execution_count": null,
"metadata" : {
    "collapsed" : false
},
"source" : ["solve(eq,I,x)"],
"outputs": []
}
,
{
"cell_type" : "markdown",
"metadata" : {},
"source" : ["> wrong particular solution"]
}
,
{
"cell_type" : "markdown",
"metadata" : {},
"source" : ["-----------------------------------------------------------------"]
}
,
{
"cell_type" : "markdown",
"metadata" : {},
"source" : [" dewar/03/16/93"]
}
,
{
"cell_type" : "markdown",
"metadata" : {},
"source" : [" bug writing backslash to files"]
}
,
{
"cell_type" : "markdown",
"metadata" : {},
"source" : ["comment:"]
}
,
{
"cell_type" : "markdown",
"metadata" : {},
"source" : ["This is not a bug, what is written to the file is the lisp representation"]
}
,
{
"cell_type" : "markdown",
"metadata" : {},
"source" : ["of the string \"\\test\" (since '\' is lisp escape character)."]
}
,
{
"cell_type" : "markdown",
"metadata" : {},
"source" : ["The file is read and written using lisp primitives and thus the escape"]
}
,
{
"cell_type" : "markdown",
"metadata" : {},
"source" : ["characters need to be doubled. This is consistent, since if you read the"]
}
,
{
"cell_type" : "markdown",
"metadata" : {},
"source" : ["item back in from the file, the correct string is reconstituted."]
}
,
{
"cell_type" : "markdown",
"metadata" : {},
"source" : [""]
}
,
{
"cell_type" : "markdown",
"metadata" : {},
"source" : ["If you want to create a text file which simply contains lines of text"]
}
,
{
"cell_type" : "markdown",
"metadata" : {},
"source" : ["instead of lines of lisp strings, use:"]
}
,
{
"cell_type" : "markdown",
"metadata" : {},
"source" : ["ofile : TextFile := open(\"test\",\"output\")  ..."]
}
,
{
"cell_type" : "markdown",
"metadata" : {},
"source" : ["then you will get a file of literal strings with no string delimiters and"]
}
,
{
"cell_type" : "markdown",
"metadata" : {},
"source" : ["no escape characters."]
}
,
{
"cell_type" : "markdown",
"metadata" : {},
"source" : ["-----------------------------------------------------------------"]
}
,
{
"cell_type" : "markdown",
"metadata" : {},
"source" : [" )clear all"]
}
,
{
"cell_type" : "markdown",
"metadata" : {},
"source" : [" ofile: File String := open(\"/tmp/test\",\"output\")"]
}
,
{
"cell_type" : "markdown",
"metadata" : {},
"source" : [" -- this writes \"\\\\test\" but should write \"\\test\""]
}
,
{
"cell_type" : "markdown",
"metadata" : {},
"source" : [" write!(ofile,\"\\test\"::String)"]
}
,
{
"cell_type" : "markdown",
"metadata" : {},
"source" : [" close! ofile"]
}
,
{
"cell_type" : "markdown",
"metadata" : {},
"source" : ["-----------------------------------------------------------------"]
}
,
{
"cell_type" : "markdown",
"metadata" : {},
"source" : [" themos/04/07/93"]
}
,
{
"cell_type" : "markdown",
"metadata" : {},
"source" : [" this sometimes fails"]
}
,
{
"cell_type" : "markdown",
"metadata" : {},
"source" : [" comment:"]
}
,
{
"cell_type" : "markdown",
"metadata" : {},
"source" : ["thanks for tracing down the problem. Basically the lines for monicizing"]
}
,
{
"cell_type" : "markdown",
"metadata" : {},
"source" : ["the result need to be done before we try to"]
}
,
{
"cell_type" : "markdown",
"metadata" : {},
"source" : ["retract back from the algebraic extension."]
}
,
{
"cell_type" : "markdown",
"metadata" : {},
"source" : ["-----------------------------------------------------------------"]
}
,
{
"cell_type" : "code",
"execution_count": null,
"metadata" : {
    "collapsed" : false
},
"source" : [")clear all"],
"outputs": []
}
,
{
"cell_type" : "code",
"execution_count": null,
"metadata" : {
    "collapsed" : false
},
"source" : ["pol:DMP([x,y,z],PF(2)):=x^2*y^2+x^2*y*z+x^2*z^2+x*y*z^2+y^3*z+y*z^3"],
"outputs": []
}
,
{
"cell_type" : "code",
"execution_count": null,
"metadata" : {
    "collapsed" : false
},
"source" : ["factor pol"],
"outputs": []
}
,
{
"cell_type" : "markdown",
"metadata" : {},
"source" : ["-----------------------------------------------------------------"]
}
,
{
"cell_type" : "markdown",
"metadata" : {},
"source" : [" williamson/04/21/93"]
}
,
{
"cell_type" : "markdown",
"metadata" : {},
"source" : [" comment:"]
}
,
{
"cell_type" : "markdown",
"metadata" : {},
"source" : ["I ran into some problems when factoring polynomials over number fields."]
}
,
{
"cell_type" : "markdown",
"metadata" : {},
"source" : ["Evidently the interpretor doesn't choose the correct function 'factor'."]
}
,
{
"cell_type" : "markdown",
"metadata" : {},
"source" : ["It uses a function from MULTFACT, when it should be using a function from"]
}
,
{
"cell_type" : "markdown",
"metadata" : {},
"source" : ["SAEFACT."]
}
,
{
"cell_type" : "markdown",
"metadata" : {},
"source" : ["-----------------------------------------------------------------"]
}
,
{
"cell_type" : "code",
"execution_count": null,
"metadata" : {
    "collapsed" : false
},
"source" : [")clear all"],
"outputs": []
}
,
{
"cell_type" : "code",
"execution_count": null,
"metadata" : {
    "collapsed" : false
},
"source" : ["up := UP('w,FRAC INT)"],
"outputs": []
}
,
{
"cell_type" : "code",
"execution_count": null,
"metadata" : {
    "collapsed" : false
},
"source" : ["p : up := w^4 + w^3 + w^2 + w + 1"],
"outputs": []
}
,
{
"cell_type" : "code",
"execution_count": null,
"metadata" : {
    "collapsed" : false
},
"source" : ["sae := SAE(FRAC INT,up,p)"],
"outputs": []
}
,
{
"cell_type" : "code",
"execution_count": null,
"metadata" : {
    "collapsed" : false
},
"source" : ["q : UP('x,sae) := x^5 - 1"],
"outputs": []
}
,
{
"cell_type" : "code",
"execution_count": null,
"metadata" : {
    "collapsed" : false
},
"source" : ["factor q -- used to report: x^5-1"],
"outputs": []
}
,
{
"cell_type" : "markdown",
"metadata" : {},
"source" : ["-----------------------------------------------------------------"]
}
,
{
"cell_type" : "markdown",
"metadata" : {},
"source" : [" grabm/04/30/93"]
}
,
{
"cell_type" : "markdown",
"metadata" : {},
"source" : [" comment:"]
}
,
{
"cell_type" : "markdown",
"metadata" : {},
"source" : ["This bug has been fixed at yorktown, in radix.spad, change line 163, the"]
}
,
{
"cell_type" : "markdown",
"metadata" : {},
"source" : ["third line of intgroup to be:"]
}
,
{
"cell_type" : "markdown",
"metadata" : {},
"source" : ["      empty? rest li => intToExpr first(li)"]
}
,
{
"cell_type" : "markdown",
"metadata" : {},
"source" : ["and then recompile RADIX"]
}
,
{
"cell_type" : "markdown",
"metadata" : {},
"source" : ["-----------------------------------------------------------------"]
}
,
{
"cell_type" : "code",
"execution_count": null,
"metadata" : {
    "collapsed" : false
},
"source" : [")clear all"],
"outputs": []
}
,
{
"cell_type" : "markdown",
"metadata" : {},
"source" : [" results in 10 and not A"]
}
,
{
"cell_type" : "code",
"execution_count": null,
"metadata" : {
    "collapsed" : false
},
"source" : ["10::RadixExpansion(16)"],
"outputs": []
}
,
{
"cell_type" : "markdown",
"metadata" : {},
"source" : ["-----------------------------------------------------------------"]
}
,
{
"cell_type" : "markdown",
"metadata" : {},
"source" : [" bronstei@inf.ethz.ch (manuel bronstein)"]
}
,
{
"cell_type" : "markdown",
"metadata" : {},
"source" : ["-----------------------------------------------------------------"]
}
,
{
"cell_type" : "code",
"execution_count": null,
"metadata" : {
    "collapsed" : false
},
"source" : [")clear all"],
"outputs": []
}
,
{
"cell_type" : "code",
"execution_count": null,
"metadata" : {
    "collapsed" : false
},
"source" : ["r:=rule 'x == 1"],
"outputs": []
}
,
{
"cell_type" : "markdown",
"metadata" : {},
"source" : [" used to return x, now returns 1"]
}
,
{
"cell_type" : "code",
"execution_count": null,
"metadata" : {
    "collapsed" : false
},
"source" : ["r x"],
"outputs": []
}
,
{
"cell_type" : "markdown",
"metadata" : {},
"source" : ["-----------------------------------------------------------------"]
}
,
{
"cell_type" : "markdown",
"metadata" : {},
"source" : [" ADK@scri.fsu.edu (tony kennedy)"]
}
,
{
"cell_type" : "markdown",
"metadata" : {},
"source" : ["-----------------------------------------------------------------"]
}
,
{
"cell_type" : "code",
"execution_count": null,
"metadata" : {
    "collapsed" : false
},
"source" : [")clear all"],
"outputs": []
}
,
{
"cell_type" : "code",
"execution_count": null,
"metadata" : {
    "collapsed" : false
},
"source" : ["factor(-12)"],
"outputs": []
}
,
{
"cell_type" : "code",
"execution_count": null,
"metadata" : {
    "collapsed" : false
},
"source" : ["%^2"],
"outputs": []
}
,
{
"cell_type" : "markdown",
"metadata" : {},
"source" : ["-----------------------------------------------------------------"]
}
,
{
"cell_type" : "markdown",
"metadata" : {},
"source" : [" bronstei@inf.ethz.ch (manuel bronstein)"]
}
,
{
"cell_type" : "markdown",
"metadata" : {},
"source" : [" >> Error: cannot retract nonconstant polynomial"]
}
,
{
"cell_type" : "markdown",
"metadata" : {},
"source" : ["-----------------------------------------------------------------"]
}
,
{
"cell_type" : "code",
"execution_count": null,
"metadata" : {
    "collapsed" : false
},
"source" : [")clear all"],
"outputs": []
}
,
{
"cell_type" : "code",
"execution_count": null,
"metadata" : {
    "collapsed" : false
},
"source" : ["complexNumeric(log(sqrt(-3)))"],
"outputs": []
}
,
{
"cell_type" : "markdown",
"metadata" : {},
"source" : ["-----------------------------------------------------------------"]
}
,
{
"cell_type" : "markdown",
"metadata" : {},
"source" : [" quitte@knuth.univ-poitiers.fr/8/15/93 (Claude Quitte)"]
}
,
{
"cell_type" : "markdown",
"metadata" : {},
"source" : ["-----------------------------------------------------------------"]
}
,
{
"cell_type" : "code",
"execution_count": null,
"metadata" : {
    "collapsed" : false
},
"source" : [")clear all"],
"outputs": []
}
,
{
"cell_type" : "markdown",
"metadata" : {},
"source" : [")abbreviation package TEST Test"]
}
,
{
"cell_type" : "markdown",
"metadata" : {},
"source" : [""]
}
,
{
"cell_type" : "markdown",
"metadata" : {},
"source" : ["Test() : with"]
}
,
{
"cell_type" : "markdown",
"metadata" : {},
"source" : [""]
}
,
{
"cell_type" : "markdown",
"metadata" : {},
"source" : ["   leftProductBy : Integer -> (Integer -> Integer)"]
}
,
{
"cell_type" : "markdown",
"metadata" : {},
"source" : ["   rightProductBy : Integer -> Mapping(Integer, Integer)"]
}
,
{
"cell_type" : "markdown",
"metadata" : {},
"source" : [""]
}
,
{
"cell_type" : "markdown",
"metadata" : {},
"source" : [" == add"]
}
,
{
"cell_type" : "markdown",
"metadata" : {},
"source" : [""]
}
,
{
"cell_type" : "markdown",
"metadata" : {},
"source" : ["   leftProductBy(n) == n * #1"]
}
,
{
"cell_type" : "markdown",
"metadata" : {},
"source" : [""]
}
,
{
"cell_type" : "markdown",
"metadata" : {},
"source" : ["   rightProductBy(n : Integer) : Mapping(Integer, Integer) == #1 * n"]
}
,
{
"cell_type" : "markdown",
"metadata" : {},
"source" : ["------------------------------------------------------------------------"]
}
,
{
"cell_type" : "markdown",
"metadata" : {},
"source" : [""]
}
,
{
"cell_type" : "markdown",
"metadata" : {},
"source" : ["Why is it impossible to specify the target/cible types for the"]
}
,
{
"cell_type" : "markdown",
"metadata" : {},
"source" : ["functions leftProductBy and rightProductBy in the body of the package ???"]
}
,
{
"cell_type" : "markdown",
"metadata" : {},
"source" : [""]
}
,
{
"cell_type" : "markdown",
"metadata" : {},
"source" : ["The code for leftProductBy is correct but the code for rightProductBy"]
}
,
{
"cell_type" : "markdown",
"metadata" : {},
"source" : ["troubles the compiler !!!! It seems to compile a LOCAL function with"]
}
,
{
"cell_type" : "markdown",
"metadata" : {},
"source" : ["ANOTHER signature."]
}
,
{
"cell_type" : "markdown",
"metadata" : {},
"source" : [""]
}
,
{
"cell_type" : "markdown",
"metadata" : {},
"source" : ["------------------------------------------------------------------------"]
}
,
{
"cell_type" : "markdown",
"metadata" : {},
"source" : ["   initializing NRLIB TEST for Test"]
}
,
{
"cell_type" : "markdown",
"metadata" : {},
"source" : ["   compiling into NRLIB TEST"]
}
,
{
"cell_type" : "markdown",
"metadata" : {},
"source" : ["   compiling exported leftProductBy : Integer -> Integer -> Integer"]
}
,
{
"cell_type" : "markdown",
"metadata" : {},
"source" : ["Time: 0.35 SEC."]
}
,
{
"cell_type" : "markdown",
"metadata" : {},
"source" : [""]
}
,
{
"cell_type" : "markdown",
"metadata" : {},
"source" : ["   compiling local rightProductBy : Integer -> Integer"]
}
,
{
"cell_type" : "markdown",
"metadata" : {},
"source" : ["^^^ comp fails at level 2 with expression: ^^^"]
}
,
{
"cell_type" : "markdown",
"metadata" : {},
"source" : ["error in function rightProductBy"]
}
,
{
"cell_type" : "markdown",
"metadata" : {},
"source" : [""]
}
,
{
"cell_type" : "markdown",
"metadata" : {},
"source" : ["^^^ level 2  ^^^"]
}
,
{
"cell_type" : "markdown",
"metadata" : {},
"source" : ["$x:= #1"]
}
,
{
"cell_type" : "markdown",
"metadata" : {},
"source" : ["$m:= $EmptyMode"]
}
,
{
"cell_type" : "markdown",
"metadata" : {},
"source" : ["$f:="]
}
,
{
"cell_type" : "markdown",
"metadata" : {},
"source" : ["((((|n| # #) (|rightProductBy| # # #) (|n| #) (|rightProductBy| # # #) ...)))"]
}
,
{
"cell_type" : "markdown",
"metadata" : {},
"source" : [""]
}
,
{
"cell_type" : "markdown",
"metadata" : {},
"source" : ["   >> Apparent user error:"]
}
,
{
"cell_type" : "markdown",
"metadata" : {},
"source" : ["   no mode found for"]
}
,
{
"cell_type" : "markdown",
"metadata" : {},
"source" : ["   #1"]
}
,
{
"cell_type" : "markdown",
"metadata" : {},
"source" : ["   You are being returned to the top level of the interpreter."]
}
,
{
"cell_type" : "markdown",
"metadata" : {},
"source" : ["----------------------------------------------------------------------"]
}
,
{
"cell_type" : "markdown",
"metadata" : {},
"source" : [" answer (barry):"]
}
,
{
"cell_type" : "markdown",
"metadata" : {},
"source" : [""]
}
,
{
"cell_type" : "markdown",
"metadata" : {},
"source" : ["Your problem in TEST about specifying target types which are Mapping's"]
}
,
{
"cell_type" : "markdown",
"metadata" : {},
"source" : ["was a bug in the compiler and has been fixed for Axiom release 2.0."]
}
,
{
"cell_type" : "markdown",
"metadata" : {},
"source" : [""]
}
,
{
"cell_type" : "markdown",
"metadata" : {},
"source" : ["-----------------------------------------------------------------"]
}
,
{
"cell_type" : "markdown",
"metadata" : {},
"source" : [" bronstei@inf.ethz.ch/10/6/93 (Manuel Bronstein)"]
}
,
{
"cell_type" : "markdown",
"metadata" : {},
"source" : ["-----------------------------------------------------------------"]
}
,
{
"cell_type" : "code",
"execution_count": null,
"metadata" : {
    "collapsed" : false
},
"source" : [")clear all"],
"outputs": []
}
,
{
"cell_type" : "markdown",
"metadata" : {},
"source" : ["Here is an updated efstruc.spad where ker2trigs now knows about abs."]
}
,
{
"cell_type" : "code",
"execution_count": null,
"metadata" : {
    "collapsed" : false
},
"source" : ["real abs(4 + %i * 5) -- does the right thing."],
"outputs": []
}
,
{
"cell_type" : "markdown",
"metadata" : {},
"source" : ["-----------------------------------------------------------------"]
}
,
{
"cell_type" : "markdown",
"metadata" : {},
"source" : [" bronstei@inf.ethz.ch/10/5/93 (Manuel Bronstein)"]
}
,
{
"cell_type" : "markdown",
"metadata" : {},
"source" : ["-----------------------------------------------------------------"]
}
,
{
"cell_type" : "code",
"execution_count": null,
"metadata" : {
    "collapsed" : false
},
"source" : [")clear all"],
"outputs": []
}
,
{
"cell_type" : "markdown",
"metadata" : {},
"source" : ["Here is again an enhanced elemntry.spad. What happens now is that"]
}
,
{
"cell_type" : "code",
"execution_count": null,
"metadata" : {
    "collapsed" : false
},
"source" : ["exp(q * %i * %pi)"],
"outputs": []
}
,
{
"cell_type" : "markdown",
"metadata" : {},
"source" : ["gets automatically simplifed whenever q is a rational number whose"]
}
,
{
"cell_type" : "markdown",
"metadata" : {},
"source" : ["denominator is one of  {1,2,3,4,6}."]
}
,
{
"cell_type" : "code",
"execution_count": null,
"metadata" : {
    "collapsed" : false
},
"source" : ["exp(5/3*%i*%pi)"],
"outputs": []
}
,
{
"cell_type" : "markdown",
"metadata" : {},
"source" : ["-----------------------------------------------------------------"]
}
,
{
"cell_type" : "markdown",
"metadata" : {},
"source" : [" bronstei@inf.ethz.ch/10/4/93 (Manuel Bronstein)"]
}
,
{
"cell_type" : "markdown",
"metadata" : {},
"source" : [" luczak@nag.com (Richard Luczak)"]
}
,
{
"cell_type" : "markdown",
"metadata" : {},
"source" : ["-----------------------------------------------------------------"]
}
,
{
"cell_type" : "code",
"execution_count": null,
"metadata" : {
    "collapsed" : false
},
"source" : [")clear all"],
"outputs": []
}
,
{
"cell_type" : "code",
"execution_count": null,
"metadata" : {
    "collapsed" : false
},
"source" : ["exp(log(-1))"],
"outputs": []
}
,
{
"cell_type" : "code",
"execution_count": null,
"metadata" : {
    "collapsed" : false
},
"source" : ["sum((-1)^k * (k+m),k=0..n)"],
"outputs": []
}
,
{
"cell_type" : "markdown",
"metadata" : {},
"source" : ["-----------------------------------------------------------------"]
}
,
{
"cell_type" : "markdown",
"metadata" : {},
"source" : [" bronstei@inf.ethz.ch/10/4/93 (Manuel Bronstein)"]
}
,
{
"cell_type" : "markdown",
"metadata" : {},
"source" : ["-----------------------------------------------------------------"]
}
,
{
"cell_type" : "code",
"execution_count": null,
"metadata" : {
    "collapsed" : false
},
"source" : [")clear all"],
"outputs": []
}
,
{
"cell_type" : "markdown",
"metadata" : {},
"source" : ["simplifies (abs now checks quotients instead of just retraction to R)."]
}
,
{
"cell_type" : "code",
"execution_count": null,
"metadata" : {
    "collapsed" : false
},
"source" : ["abs((1/2)::EXPR(INT))"],
"outputs": []
}
,
{
"cell_type" : "markdown",
"metadata" : {},
"source" : ["-----------------------------------------------------------------"]
}
,
{
"cell_type" : "markdown",
"metadata" : {},
"source" : [" bronstei@inf.ethz.ch/10/4/93 (Manuel Bronstein)"]
}
,
{
"cell_type" : "markdown",
"metadata" : {},
"source" : ["-----------------------------------------------------------------"]
}
,
{
"cell_type" : "code",
"execution_count": null,
"metadata" : {
    "collapsed" : false
},
"source" : [")clear all"],
"outputs": []
}
,
{
"cell_type" : "code",
"execution_count": null,
"metadata" : {
    "collapsed" : false
},
"source" : ["integrate(1/(x^2 + %i*a),x)"],
"outputs": []
}
,
{
"cell_type" : "markdown",
"metadata" : {},
"source" : ["-----------------------------------------------------------------"]
}
,
{
"cell_type" : "markdown",
"metadata" : {},
"source" : [" bmt@spadserv.watson.ibm.com/9/28/93 (Barry Trager)"]
}
,
{
"cell_type" : "markdown",
"metadata" : {},
"source" : ["-----------------------------------------------------------------"]
}
,
{
"cell_type" : "code",
"execution_count": null,
"metadata" : {
    "collapsed" : false
},
"source" : [")clear all"],
"outputs": []
}
,
{
"cell_type" : "code",
"execution_count": null,
"metadata" : {
    "collapsed" : false
},
"source" : ["limit(1/2^n,n=%plusInfinity)"],
"outputs": []
}
,
{
"cell_type" : "markdown",
"metadata" : {},
"source" : ["-----------------------------------------------------------------"]
}
,
{
"cell_type" : "markdown",
"metadata" : {},
"source" : [" bronstei@inf.ethz.ch/9/22/93 (Manuel Bronstein)"]
}
,
{
"cell_type" : "markdown",
"metadata" : {},
"source" : ["-----------------------------------------------------------------"]
}
,
{
"cell_type" : "markdown",
"metadata" : {},
"source" : [" ')clear all' messes kernel cache which leads to wrong result"]
}
,
{
"cell_type" : "markdown",
"metadata" : {},
"source" : [" since we are testing different thing here we use"]
}
,
{
"cell_type" : "markdown",
"metadata" : {},
"source" : [" ')clear completely' to avoid the problem"]
}
,
{
"cell_type" : "code",
"execution_count": null,
"metadata" : {
    "collapsed" : false
},
"source" : [")clear completely"],
"outputs": []
}
,
{
"cell_type" : "markdown",
"metadata" : {},
"source" : ["Here is an update to efstruc.spad that handles complex constants much better."]
}
,
{
"cell_type" : "markdown",
"metadata" : {},
"source" : ["Negative square roots and negative logs are now recognized as complex and"]
}
,
{
"cell_type" : "markdown",
"metadata" : {},
"source" : ["treated properly by real?, real, imag, and complexForm:"]
}
,
{
"cell_type" : "code",
"execution_count": null,
"metadata" : {
    "collapsed" : false
},
"source" : ["x := sqrt(-3) + sqrt 2 + sqrt(- exp a) + log(-a^2-1)"],
"outputs": []
}
,
{
"cell_type" : "code",
"execution_count": null,
"metadata" : {
    "collapsed" : false
},
"source" : ["real? x"],
"outputs": []
}
,
{
"cell_type" : "code",
"execution_count": null,
"metadata" : {
    "collapsed" : false
},
"source" : ["real x"],
"outputs": []
}
,
{
"cell_type" : "code",
"execution_count": null,
"metadata" : {
    "collapsed" : false
},
"source" : ["imag x"],
"outputs": []
}
,
{
"cell_type" : "markdown",
"metadata" : {},
"source" : ["As a result, integrals involving sqrt(-2) etc... are now treated correctly"]
}
,
{
"cell_type" : "markdown",
"metadata" : {},
"source" : ["(this was the case only for sqrt(-1) with the older version)."]
}
,
{
"cell_type" : "markdown",
"metadata" : {},
"source" : ["-----------------------------------------------------------------"]
}
,
{
"cell_type" : "markdown",
"metadata" : {},
"source" : [" bronstei@inf.ethz.ch/9/22/93 (Manuel Bronstein)"]
}
,
{
"cell_type" : "markdown",
"metadata" : {},
"source" : ["-----------------------------------------------------------------"]
}
,
{
"cell_type" : "code",
"execution_count": null,
"metadata" : {
    "collapsed" : false
},
"source" : [")clear all"],
"outputs": []
}
,
{
"cell_type" : "markdown",
"metadata" : {},
"source" : [">> haha := rule x*x == z"]
}
,
{
"cell_type" : "markdown",
"metadata" : {},
"source" : [">> haha(a*a + b*b + c^2)        -->  3z"]
}
,
{
"cell_type" : "markdown",
"metadata" : {},
"source" : [">> haha(a*a + b*b + c^2 + d*d)  -->  z"]
}
,
{
"cell_type" : "markdown",
"metadata" : {},
"source" : [">>"]
}
,
{
"cell_type" : "markdown",
"metadata" : {},
"source" : [">> the bug is that the last line returns z instead of 4z."]
}
,
{
"cell_type" : "markdown",
"metadata" : {},
"source" : [""]
}
,
{
"cell_type" : "markdown",
"metadata" : {},
"source" : ["Sorry guys, this is not a bug: haha is so general a rule that it matches"]
}
,
{
"cell_type" : "markdown",
"metadata" : {},
"source" : ["the integer 4 (as 2 squared), so the rewrite chain for the last example is:"]
}
,
{
"cell_type" : "markdown",
"metadata" : {},
"source" : [""]
}
,
{
"cell_type" : "markdown",
"metadata" : {},
"source" : ["a*a + b*b + c^2 + d*d  --->  z + z + z + z  = 4 * z ---> z * z ---> z"]
}
,
{
"cell_type" : "markdown",
"metadata" : {},
"source" : [""]
}
,
{
"cell_type" : "markdown",
"metadata" : {},
"source" : ["Here is a console showing what exactly happens:"]
}
,
{
"cell_type" : "code",
"execution_count": null,
"metadata" : {
    "collapsed" : false
},
"source" : ["haha := rule x*x == z"],
"outputs": []
}
,
{
"cell_type" : "code",
"execution_count": null,
"metadata" : {
    "collapsed" : false
},
"source" : ["haha 4"],
"outputs": []
}
,
{
"cell_type" : "code",
"execution_count": null,
"metadata" : {
    "collapsed" : false
},
"source" : ["haha 3"],
"outputs": []
}
,
{
"cell_type" : "code",
"execution_count": null,
"metadata" : {
    "collapsed" : false
},
"source" : ["haha(4*z)"],
"outputs": []
}
,
{
"cell_type" : "code",
"execution_count": null,
"metadata" : {
    "collapsed" : false
},
"source" : ["haha(3*z)"],
"outputs": []
}
,
{
"cell_type" : "markdown",
"metadata" : {},
"source" : ["To see the whole rewrite chain:"]
}
,
{
"cell_type" : "code",
"execution_count": null,
"metadata" : {
    "collapsed" : false
},
"source" : ["a*a + b*b + c^2 + d*d"],
"outputs": []
}
,
{
"cell_type" : "code",
"execution_count": null,
"metadata" : {
    "collapsed" : false
},
"source" : ["applyRules([haha], %, 1)$APPRULE(INT,INT,EXPR INT)"],
"outputs": []
}
,
{
"cell_type" : "code",
"execution_count": null,
"metadata" : {
    "collapsed" : false
},
"source" : ["applyRules([haha], %, 1)$APPRULE(INT,INT,EXPR INT)"],
"outputs": []
}
,
{
"cell_type" : "code",
"execution_count": null,
"metadata" : {
    "collapsed" : false
},
"source" : ["applyRules([haha], %, 1)$APPRULE(INT,INT,EXPR INT)"],
"outputs": []
}
,
{
"cell_type" : "markdown",
"metadata" : {},
"source" : ["I think it's actually the proper behavior for the pattern matcher. This"]
}
,
{
"cell_type" : "markdown",
"metadata" : {},
"source" : ["example shows that rules can bite, something Mma users are quite aware about!"]
}
,
{
"cell_type" : "markdown",
"metadata" : {},
"source" : ["-----------------------------------------------------------------"]
}
,
{
"cell_type" : "markdown",
"metadata" : {},
"source" : [" dewar/9/16/93 (mike dewar)"]
}
,
{
"cell_type" : "markdown",
"metadata" : {},
"source" : ["-----------------------------------------------------------------"]
}
,
{
"cell_type" : "markdown",
"metadata" : {},
"source" : ["There's an odd discontinuity about the behaviour of the following"]
}
,
{
"cell_type" : "markdown",
"metadata" : {},
"source" : ["function:"]
}
,
{
"cell_type" : "code",
"execution_count": null,
"metadata" : {
    "collapsed" : false
},
"source" : ["harm(1) == 1"],
"outputs": []
}
,
{
"cell_type" : "code",
"execution_count": null,
"metadata" : {
    "collapsed" : false
},
"source" : ["harm(n) == harm(n-1) + 1/n"],
"outputs": []
}
,
{
"cell_type" : "code",
"execution_count": null,
"metadata" : {
    "collapsed" : false
},
"source" : ["harm : Integer -> Fraction Integer"],
"outputs": []
}
,
{
"cell_type" : "code",
"execution_count": null,
"metadata" : {
    "collapsed" : false
},
"source" : ["harm(1023) -- takes a little while, as expected"],
"outputs": []
}
,
{
"cell_type" : "code",
"execution_count": null,
"metadata" : {
    "collapsed" : false
},
"source" : ["harm(1024) -- takes forever?"],
"outputs": []
}
,
{
"cell_type" : "markdown",
"metadata" : {},
"source" : ["-----------------------------------------------------------------"]
}
,
{
"cell_type" : "markdown",
"metadata" : {},
"source" : [" williams@inf.ethz.ch/9/1/93 (Clifton Williamson)"]
}
,
{
"cell_type" : "markdown",
"metadata" : {},
"source" : ["-----------------------------------------------------------------"]
}
,
{
"cell_type" : "markdown",
"metadata" : {},
"source" : ["> we should probably support integrate(%,x) on series types."]
}
,
{
"cell_type" : "markdown",
"metadata" : {},
"source" : ["> x could be either the variable of expansion or a parameter variable."]
}
,
{
"cell_type" : "markdown",
"metadata" : {},
"source" : [""]
}
,
{
"cell_type" : "markdown",
"metadata" : {},
"source" : ["We've discussed this before with regard to the function 'differentiate'."]
}
,
{
"cell_type" : "markdown",
"metadata" : {},
"source" : ["The technical problem is that \"generalized\" power series may have"]
}
,
{
"cell_type" : "markdown",
"metadata" : {},
"source" : ["\"coefficients\" involving the series variable:"]
}
,
{
"cell_type" : "code",
"execution_count": null,
"metadata" : {
    "collapsed" : false
},
"source" : [")clear all"],
"outputs": []
}
,
{
"cell_type" : "code",
"execution_count": null,
"metadata" : {
    "collapsed" : false
},
"source" : ["series(x^x,x=0)"],
"outputs": []
}
,
{
"cell_type" : "markdown",
"metadata" : {},
"source" : ["In this case, as currently implemented, 'differentiate' returns incorrect"]
}
,
{
"cell_type" : "markdown",
"metadata" : {},
"source" : ["answers:"]
}
,
{
"cell_type" : "code",
"execution_count": null,
"metadata" : {
    "collapsed" : false
},
"source" : [")set mess test off"],
"outputs": []
}
,
{
"cell_type" : "code",
"execution_count": null,
"metadata" : {
    "collapsed" : false
},
"source" : ["differentiate %"],
"outputs": []
}
,
{
"cell_type" : "code",
"execution_count": null,
"metadata" : {
    "collapsed" : false
},
"source" : [")set mess test on"],
"outputs": []
}
,
{
"cell_type" : "markdown",
"metadata" : {},
"source" : ["The solution we discussed (perhaps \"resolution\" is a better word) was to"]
}
,
{
"cell_type" : "markdown",
"metadata" : {},
"source" : ["create a separate series type for generalized series.  This would be a"]
}
,
{
"cell_type" : "markdown",
"metadata" : {},
"source" : ["carbon copy of UPXS, except that differentiate(series,variable(series)) and"]
}
,
{
"cell_type" : "markdown",
"metadata" : {},
"source" : ["integrate(series,variable(series)) would return an error message.  The"]
}
,
{
"cell_type" : "markdown",
"metadata" : {},
"source" : ["error message could also suggest that the user first apply 'approximate',"]
}
,
{
"cell_type" : "markdown",
"metadata" : {},
"source" : ["then compute a derivative or integral.  We would also have a coercion from"]
}
,
{
"cell_type" : "markdown",
"metadata" : {},
"source" : ["UPXS to this type.  The function 'series' would return a UPXS, when the"]
}
,
{
"cell_type" : "markdown",
"metadata" : {},
"source" : ["coefficients do not involve the series variable, and a \"generalized series\","]
}
,
{
"cell_type" : "markdown",
"metadata" : {},
"source" : ["when the coefficients involve the series variable."]
}
,
{
"cell_type" : "markdown",
"metadata" : {},
"source" : [""]
}
,
{
"cell_type" : "markdown",
"metadata" : {},
"source" : ["If this sounds cool to you, I'll go ahead with it when I have time.  (I'm"]
}
,
{
"cell_type" : "markdown",
"metadata" : {},
"source" : ["trying to meet a 16 September deadline for a MEGA '94 submission.  I'm still"]
}
,
{
"cell_type" : "markdown",
"metadata" : {},
"source" : ["getting my results together, so time is tight.  Let me know if there is a"]
}
,
{
"cell_type" : "markdown",
"metadata" : {},
"source" : ["time deadline for the AXIOM code!)"]
}
,
{
"cell_type" : "markdown",
"metadata" : {},
"source" : [""]
}
,
{
"cell_type" : "markdown",
"metadata" : {},
"source" : ["> Also we need better tools for taking finite truncations of series objects."]
}
,
{
"cell_type" : "markdown",
"metadata" : {},
"source" : ["> In particular since we now mostly use series(expr,var) to create a series,"]
}
,
{
"cell_type" : "markdown",
"metadata" : {},
"source" : ["> UPXS if over a coefficient domain which supports the symbol of expansion,"]
}
,
{
"cell_type" : "markdown",
"metadata" : {},
"source" : ["> should be able to truncate a series to an EXPR."]
}
,
{
"cell_type" : "markdown",
"metadata" : {},
"source" : [""]
}
,
{
"cell_type" : "markdown",
"metadata" : {},
"source" : ["I thought I had you on this one!  The signature is there (in pscat.spad):"]
}
,
{
"cell_type" : "markdown",
"metadata" : {},
"source" : [""]
}
,
{
"cell_type" : "markdown",
"metadata" : {},
"source" : ["    if Coef has coerce: Symbol -> Coef then"]
}
,
{
"cell_type" : "markdown",
"metadata" : {},
"source" : ["      if Coef has \"^\":(Coef,Expon) -> Coef then"]
}
,
{
"cell_type" : "markdown",
"metadata" : {},
"source" : ["        approximate: ($,Expon) -> Coef"]
}
,
{
"cell_type" : "markdown",
"metadata" : {},
"source" : ["          ++ \spad{approximate(f)} returns a truncated power series with the"]
}
,
{
"cell_type" : "markdown",
"metadata" : {},
"source" : ["          ++ series variable viewed as an element of the coefficient domain."]
}
,
{
"cell_type" : "markdown",
"metadata" : {},
"source" : [""]
}
,
{
"cell_type" : "markdown",
"metadata" : {},
"source" : ["It certainly works for Laurent series:"]
}
,
{
"cell_type" : "code",
"execution_count": null,
"metadata" : {
    "collapsed" : false
},
"source" : ["laurent(cos(a+x)/x,x=0)"],
"outputs": []
}
,
{
"cell_type" : "code",
"execution_count": null,
"metadata" : {
    "collapsed" : false
},
"source" : ["approximate(%,3)"],
"outputs": []
}
,
{
"cell_type" : "markdown",
"metadata" : {},
"source" : ["But, unfortunately, I never implemented it for Puiseux series:"]
}
,
{
"cell_type" : "code",
"execution_count": null,
"metadata" : {
    "collapsed" : false
},
"source" : ["puiseux(cos(a+x)/x,x=0)"],
"outputs": []
}
,
{
"cell_type" : "code",
"execution_count": null,
"metadata" : {
    "collapsed" : false
},
"source" : ["approximate(%,3)"],
"outputs": []
}
,
{
"cell_type" : "code",
"execution_count": null,
"metadata" : {
    "collapsed" : false
},
"source" : ["series(cos(x^(2/3) + a),x=0)"],
"outputs": []
}
,
{
"cell_type" : "code",
"execution_count": null,
"metadata" : {
    "collapsed" : false
},
"source" : ["approximate(%,2)"],
"outputs": []
}
,
{
"cell_type" : "code",
"execution_count": null,
"metadata" : {
    "collapsed" : false
},
"source" : ["approximate(%% 1,7/5)"],
"outputs": []
}
,
{
"cell_type" : "markdown",
"metadata" : {},
"source" : ["-----------------------------------------------------------------"]
}
,
{
"cell_type" : "markdown",
"metadata" : {},
"source" : [" bronstei@inf.ethz.ch/10/6/93 (manuel bronstein)"]
}
,
{
"cell_type" : "markdown",
"metadata" : {},
"source" : ["-----------------------------------------------------------------"]
}
,
{
"cell_type" : "code",
"execution_count": null,
"metadata" : {
    "collapsed" : false
},
"source" : [")clear all"],
"outputs": []
}
,
{
"cell_type" : "code",
"execution_count": null,
"metadata" : {
    "collapsed" : false
},
"source" : [")set message type off"],
"outputs": []
}
,
{
"cell_type" : "markdown",
"metadata" : {},
"source" : [" Here is algfunc.spad with an old bug fixed: eventh-roots of negative floats"]
}
,
{
"cell_type" : "markdown",
"metadata" : {},
"source" : [" coerced to EXPR FLOAT (e.g. sqrt(-1::EXPR FLOAT)) used to produced an error"]
}
,
{
"cell_type" : "markdown",
"metadata" : {},
"source" : [" message since the sqrt from FLOAT was called."]
}
,
{
"cell_type" : "markdown",
"metadata" : {},
"source" : [" I have now fixed iroot from AF(R,)"]
}
,
{
"cell_type" : "markdown",
"metadata" : {},
"source" : [" to call the sqrt from R only if either R is algebraically closed, or the"]
}
,
{
"cell_type" : "markdown",
"metadata" : {},
"source" : [" root is odd, or the argument is positive. Here's the new behaviour:"]
}
,
{
"cell_type" : "code",
"execution_count": null,
"metadata" : {
    "collapsed" : false
},
"source" : ["sqrt(-1::EXPR FLOAT)"],
"outputs": []
}
,
{
"cell_type" : "code",
"execution_count": null,
"metadata" : {
    "collapsed" : false
},
"source" : ["sqrt(2::EXPR FLOAT)"],
"outputs": []
}
,
{
"cell_type" : "code",
"execution_count": null,
"metadata" : {
    "collapsed" : false
},
"source" : ["nthRoot(-2::EXPR FLOAT, 3)"],
"outputs": []
}
,
{
"cell_type" : "code",
"execution_count": null,
"metadata" : {
    "collapsed" : false
},
"source" : ["nthRoot(-2::EXPR FLOAT, 4)"],
"outputs": []
}
,
{
"cell_type" : "markdown",
"metadata" : {},
"source" : ["As a side-effect, this fixes the problem with numeric"]
}
,
{
"cell_type" : "markdown",
"metadata" : {},
"source" : [" (which was instantiating sqrt(-1)$EXPR(FLOAT))."]
}
,
{
"cell_type" : "markdown",
"metadata" : {},
"source" : ["-----------------------------------------------------------------"]
}
,
{
"cell_type" : "markdown",
"metadata" : {},
"source" : [" jhd@maths.bath.ac.uk/8/15/93 James Davenport"]
}
,
{
"cell_type" : "markdown",
"metadata" : {},
"source" : ["-----------------------------------------------------------------"]
}
,
{
"cell_type" : "code",
"execution_count": null,
"metadata" : {
    "collapsed" : false
},
"source" : [")clear all"],
"outputs": []
}
,
{
"cell_type" : "code",
"execution_count": null,
"metadata" : {
    "collapsed" : false
},
"source" : ["integrate(1/(x*(log(x)^2+a^2-1)),x)"],
"outputs": []
}
,
{
"cell_type" : "markdown",
"metadata" : {},
"source" : ["   (1)"]
}
,
{
"cell_type" : "markdown",
"metadata" : {},
"source" : ["   VCONCAT"]
}
,
{
"cell_type" : "markdown",
"metadata" : {},
"source" : ["                             log(x)"]
}
,
{
"cell_type" : "markdown",
"metadata" : {},
"source" : ["                       atan(---------)"]
}
,
{
"cell_type" : "markdown",
"metadata" : {},
"source" : ["                             +------+"]
}
,
{
"cell_type" : "markdown",
"metadata" : {},
"source" : ["                             | 2"]
}
,
{
"cell_type" : "markdown",
"metadata" : {},
"source" : ["           2                \|a  - 1"]
}
,
{
"cell_type" : "markdown",
"metadata" : {},
"source" : ["      ((- a  + 1<0) -> ---------------)"]
}
,
{
"cell_type" : "markdown",
"metadata" : {},
"source" : ["                           +------+"]
}
,
{
"cell_type" : "markdown",
"metadata" : {},
"source" : ["                           | 2"]
}
,
{
"cell_type" : "markdown",
"metadata" : {},
"source" : ["                          \|a  - 1"]
}
,
{
"cell_type" : "markdown",
"metadata" : {},
"source" : ["  ,"]
}
,
{
"cell_type" : "markdown",
"metadata" : {},
"source" : ["      PAREN"]
}
,
{
"cell_type" : "markdown",
"metadata" : {},
"source" : ["               2"]
}
,
{
"cell_type" : "markdown",
"metadata" : {},
"source" : ["           (- a  + 1>0)"]
}
,
{
"cell_type" : "markdown",
"metadata" : {},
"source" : ["         ->"]
}
,
{
"cell_type" : "markdown",
"metadata" : {},
"source" : ["                                      +--------+"]
}
,
{
"cell_type" : "markdown",
"metadata" : {},
"source" : ["                          2    2      |   2           2"]
}
,
{
"cell_type" : "markdown",
"metadata" : {},
"source" : ["               log((log(x)  - a  + 1)\|- a  + 1  + (2a  - 2)log(x))"]
}
,
{
"cell_type" : "markdown",
"metadata" : {},
"source" : ["             +"]
}
,
{
"cell_type" : "markdown",
"metadata" : {},
"source" : ["                           2    2"]
}
,
{
"cell_type" : "markdown",
"metadata" : {},
"source" : ["               - log(log(x)  + a  - 1)"]
}
,
{
"cell_type" : "markdown",
"metadata" : {},
"source" : ["          /"]
}
,
{
"cell_type" : "markdown",
"metadata" : {},
"source" : ["               +--------+"]
}
,
{
"cell_type" : "markdown",
"metadata" : {},
"source" : ["               |   2"]
}
,
{
"cell_type" : "markdown",
"metadata" : {},
"source" : ["             2\|- a  + 1"]
}
,
{
"cell_type" : "markdown",
"metadata" : {},
"source" : ["  ,"]
}
,
{
"cell_type" : "markdown",
"metadata" : {},
"source" : ["                            1"]
}
,
{
"cell_type" : "markdown",
"metadata" : {},
"source" : ["      ( Or (a - 1=0) -> - ------)"]
}
,
{
"cell_type" : "markdown",
"metadata" : {},
"source" : ["           (a + 1=0)      log(x)"]
}
,
{
"cell_type" : "markdown",
"metadata" : {},
"source" : ["                                          Type: ConditionalExpression Integer"]
}
,
{
"cell_type" : "markdown",
"metadata" : {},
"source" : [""]
}
,
{
"cell_type" : "markdown",
"metadata" : {},
"source" : ["is still fairly ugly."]
}
,
{
"cell_type" : "markdown",
"metadata" : {},
"source" : ["-----------------------------------------------------------------"]
}
,
{
"cell_type" : "markdown",
"metadata" : {},
"source" : [" bronstei@inf.ethz.ch/8/9/93 (manuel bronstein)"]
}
,
{
"cell_type" : "markdown",
"metadata" : {},
"source" : ["-----------------------------------------------------------------"]
}
,
{
"cell_type" : "code",
"execution_count": null,
"metadata" : {
    "collapsed" : false
},
"source" : [")clear all"],
"outputs": []
}
,
{
"cell_type" : "markdown",
"metadata" : {},
"source" : ["Here is efstruc.spad with a change to normalize so that"]
}
,
{
"cell_type" : "code",
"execution_count": null,
"metadata" : {
    "collapsed" : false
},
"source" : ["normalize(2^(1/2) + 2^(1/4)) -- now returns  2^(1/4) ^ 2 + 2^(1/4)."],
"outputs": []
}
,
{
"cell_type" : "markdown",
"metadata" : {},
"source" : ["-----------------------------------------------------------------"]
}
,
{
"cell_type" : "markdown",
"metadata" : {},
"source" : [" satoshi@yktvmv.vnet.ibm.com/8/7/93 satoshi hamaguchi"]
}
,
{
"cell_type" : "markdown",
"metadata" : {},
"source" : ["-----------------------------------------------------------------"]
}
,
{
"cell_type" : "code",
"execution_count": null,
"metadata" : {
    "collapsed" : false
},
"source" : [")clear all"],
"outputs": []
}
,
{
"cell_type" : "markdown",
"metadata" : {},
"source" : [" In axiom, both"]
}
,
{
"cell_type" : "code",
"execution_count": null,
"metadata" : {
    "collapsed" : false
},
"source" : ["integrate(%e^x,x=0..1)"],
"outputs": []
}
,
{
"cell_type" : "markdown",
"metadata" : {},
"source" : ["and"]
}
,
{
"cell_type" : "code",
"execution_count": null,
"metadata" : {
    "collapsed" : false
},
"source" : ["integrate(log(x),x=1..2)"],
"outputs": []
}
,
{
"cell_type" : "markdown",
"metadata" : {},
"source" : ["yield a warning  potentialPole    ."]
}
,
{
"cell_type" : "markdown",
"metadata" : {},
"source" : ["If I use \"noPole\", they give right answers. Isn't this a bug?"]
}
,
{
"cell_type" : "markdown",
"metadata" : {},
"source" : ["... Satoshi"]
}
,
{
"cell_type" : "markdown",
"metadata" : {},
"source" : ["-----------------------------------------------------------------"]
}
,
{
"cell_type" : "markdown",
"metadata" : {},
"source" : [" bronstei@inf.ethz.ch/8/5/93 (manuel bronstein)"]
}
,
{
"cell_type" : "markdown",
"metadata" : {},
"source" : ["-----------------------------------------------------------------"]
}
,
{
"cell_type" : "code",
"execution_count": null,
"metadata" : {
    "collapsed" : false
},
"source" : [")clear all"],
"outputs": []
}
,
{
"cell_type" : "code",
"execution_count": null,
"metadata" : {
    "collapsed" : false
},
"source" : ["simplify(2^(1/3)*2^(1/2)) -- will return 2^(5/6)."],
"outputs": []
}
,
{
"cell_type" : "markdown",
"metadata" : {},
"source" : ["-----------------------------------------------------------------"]
}
,
{
"cell_type" : "markdown",
"metadata" : {},
"source" : [" bronstei@inf.ethz.ch/8/4/93 (manuel bronstein)"]
}
,
{
"cell_type" : "markdown",
"metadata" : {},
"source" : ["-----------------------------------------------------------------"]
}
,
{
"cell_type" : "code",
"execution_count": null,
"metadata" : {
    "collapsed" : false
},
"source" : [")clear all"],
"outputs": []
}
,
{
"cell_type" : "code",
"execution_count": null,
"metadata" : {
    "collapsed" : false
},
"source" : ["integrate(1/sqrt(1+cos(x)), x)"],
"outputs": []
}
,
{
"cell_type" : "markdown",
"metadata" : {},
"source" : ["-----------------------------------------------------------------"]
}
,
{
"cell_type" : "markdown",
"metadata" : {},
"source" : [" bronstei@inf.ethz.ch/8/4/93 (manuel bronstein)"]
}
,
{
"cell_type" : "markdown",
"metadata" : {},
"source" : ["-----------------------------------------------------------------"]
}
,
{
"cell_type" : "code",
"execution_count": null,
"metadata" : {
    "collapsed" : false
},
"source" : [")clear all"],
"outputs": []
}
,
{
"cell_type" : "code",
"execution_count": null,
"metadata" : {
    "collapsed" : false
},
"source" : ["normalize atan(cos(x)/sin(x))  -- used to be division by 0 error"],
"outputs": []
}
,
{
"cell_type" : "markdown",
"metadata" : {},
"source" : ["-----------------------------------------------------------------"]
}
,
{
"cell_type" : "markdown",
"metadata" : {},
"source" : [" bronstei@inf.ethz.ch/8/4/93 (manuel bronstein)"]
}
,
{
"cell_type" : "markdown",
"metadata" : {},
"source" : ["-----------------------------------------------------------------"]
}
,
{
"cell_type" : "code",
"execution_count": null,
"metadata" : {
    "collapsed" : false
},
"source" : [")clear all"],
"outputs": []
}
,
{
"cell_type" : "code",
"execution_count": null,
"metadata" : {
    "collapsed" : false
},
"source" : ["a := 2^(1/6)"],
"outputs": []
}
,
{
"cell_type" : "code",
"execution_count": null,
"metadata" : {
    "collapsed" : false
},
"source" : ["[a^n for n in 2..13]"],
"outputs": []
}
,
{
"cell_type" : "markdown",
"metadata" : {},
"source" : ["-----------------------------------------------------------------"]
}
,
{
"cell_type" : "markdown",
"metadata" : {},
"source" : [" bronstei@inf.ethz.ch/8/4/93 (manuel bronstein)"]
}
,
{
"cell_type" : "markdown",
"metadata" : {},
"source" : ["-----------------------------------------------------------------"]
}
,
{
"cell_type" : "code",
"execution_count": null,
"metadata" : {
    "collapsed" : false
},
"source" : [")clear all"],
"outputs": []
}
,
{
"cell_type" : "code",
"execution_count": null,
"metadata" : {
    "collapsed" : false
},
"source" : ["int:=sqrt(a*(1-u^2)/(1+u^2))/u"],
"outputs": []
}
,
{
"cell_type" : "code",
"execution_count": null,
"metadata" : {
    "collapsed" : false
},
"source" : ["integrate(eval(int,a=1),u) -- works"],
"outputs": []
}
,
{
"cell_type" : "code",
"execution_count": null,
"metadata" : {
    "collapsed" : false
},
"source" : ["integrate(eval(int,a=sqrt(-1)),u) -- seems to run forever"],
"outputs": []
}
,
{
"cell_type" : "code",
"execution_count": null,
"metadata" : {
    "collapsed" : false
},
"source" : ["integrate(eval(int,a=1)*(-1)^(1/4),u) -- dies after a long time"],
"outputs": []
}
,
{
"cell_type" : "code",
"execution_count": null,
"metadata" : {
    "collapsed" : false
},
"source" : [" -- with an elt index error."],
"outputs": []
}
,
{
"cell_type" : "markdown",
"metadata" : {},
"source" : ["-----------------------------------------------------------------"]
}
,
{
"cell_type" : "markdown",
"metadata" : {},
"source" : [" bronstei@inf.ethz.ch/7/26/93 (manuel bronstein)"]
}
,
{
"cell_type" : "markdown",
"metadata" : {},
"source" : ["-----------------------------------------------------------------"]
}
,
{
"cell_type" : "code",
"execution_count": null,
"metadata" : {
    "collapsed" : false
},
"source" : [")clear all"],
"outputs": []
}
,
{
"cell_type" : "code",
"execution_count": null,
"metadata" : {
    "collapsed" : false
},
"source" : ["rad:=last zerosOf((2+y)^8-3,y)"],
"outputs": []
}
,
{
"cell_type" : "code",
"execution_count": null,
"metadata" : {
    "collapsed" : false
},
"source" : ["k:=first kernels %"],
"outputs": []
}
,
{
"cell_type" : "code",
"execution_count": null,
"metadata" : {
    "collapsed" : false
},
"source" : ["eval(rad,k,rad)"],
"outputs": []
}
,
{
"cell_type" : "markdown",
"metadata" : {},
"source" : ["-----------------------------------------------------------------"]
}
,
{
"cell_type" : "markdown",
"metadata" : {},
"source" : [" nagttt@vax.ox.ac.uk/7/15/93 themos tsikas"]
}
,
{
"cell_type" : "markdown",
"metadata" : {},
"source" : ["-----------------------------------------------------------------"]
}
,
{
"cell_type" : "code",
"execution_count": null,
"metadata" : {
    "collapsed" : false
},
"source" : [")clear all"],
"outputs": []
}
,
{
"cell_type" : "code",
"execution_count": null,
"metadata" : {
    "collapsed" : false
},
"source" : ["f := (x - y) / (x + y)"],
"outputs": []
}
,
{
"cell_type" : "code",
"execution_count": null,
"metadata" : {
    "collapsed" : false
},
"source" : ["eval(f,x=1/x)"],
"outputs": []
}
,
{
"cell_type" : "markdown",
"metadata" : {},
"source" : ["-----------------------------------------------------------------"]
}
,
{
"cell_type" : "markdown",
"metadata" : {},
"source" : [" nagttt@vax.ox.ac.uk/7/15/93 themos tsikas"]
}
,
{
"cell_type" : "markdown",
"metadata" : {},
"source" : ["-----------------------------------------------------------------"]
}
,
{
"cell_type" : "code",
"execution_count": null,
"metadata" : {
    "collapsed" : false
},
"source" : [")clear all"],
"outputs": []
}
,
{
"cell_type" : "code",
"execution_count": null,
"metadata" : {
    "collapsed" : false
},
"source" : ["digits 200"],
"outputs": []
}
,
{
"cell_type" : "markdown",
"metadata" : {},
"source" : ["I claim that these two should give the same result (they do in Reduce):"]
}
,
{
"cell_type" : "markdown",
"metadata" : {},
"source" : ["(precision was 200)"]
}
,
{
"cell_type" : "code",
"execution_count": null,
"metadata" : {
    "collapsed" : false
},
"source" : ["a:=4*sin(2*%pi/9)*sin(5*%pi/9)/sqrt(3)"],
"outputs": []
}
,
{
"cell_type" : "code",
"execution_count": null,
"metadata" : {
    "collapsed" : false
},
"source" : ["b:=1/(2*sin(%pi/9))"],
"outputs": []
}
,
{
"cell_type" : "code",
"execution_count": null,
"metadata" : {
    "collapsed" : false
},
"source" : ["a::EXPR FLOAT"],
"outputs": []
}
,
{
"cell_type" : "code",
"execution_count": null,
"metadata" : {
    "collapsed" : false
},
"source" : ["b::EXPR FLOAT"],
"outputs": []
}
,
{
"cell_type" : "markdown",
"metadata" : {},
"source" : ["-----------------------------------------------------------------"]
}
,
{
"cell_type" : "markdown",
"metadata" : {},
"source" : [" bmt@spadserv.watson.ibm.com/9/15/93 (Barry Trager)"]
}
,
{
"cell_type" : "markdown",
"metadata" : {},
"source" : ["-----------------------------------------------------------------"]
}
,
{
"cell_type" : "code",
"execution_count": null,
"metadata" : {
    "collapsed" : false
},
"source" : [")clear all"],
"outputs": []
}
,
{
"cell_type" : "code",
"execution_count": null,
"metadata" : {
    "collapsed" : false
},
"source" : ["limit(tanh(x),x=%plusInfinity)"],
"outputs": []
}
,
{
"cell_type" : "markdown",
"metadata" : {},
"source" : ["-----------------------------------------------------------------"]
}
,
{
"cell_type" : "markdown",
"metadata" : {},
"source" : [" bronstei@inf.ethz.ch/6/14/93 (manuel bronstein)"]
}
,
{
"cell_type" : "markdown",
"metadata" : {},
"source" : ["-----------------------------------------------------------------"]
}
,
{
"cell_type" : "code",
"execution_count": null,
"metadata" : {
    "collapsed" : false
},
"source" : [")clear all"],
"outputs": []
}
,
{
"cell_type" : "code",
"execution_count": null,
"metadata" : {
    "collapsed" : false
},
"source" : ["a := x::EXPR INT"],
"outputs": []
}
,
{
"cell_type" : "code",
"execution_count": null,
"metadata" : {
    "collapsed" : false
},
"source" : ["b := x::EXPR COMPLEX INT"],
"outputs": []
}
,
{
"cell_type" : "code",
"execution_count": null,
"metadata" : {
    "collapsed" : false
},
"source" : ["zeroOf(a^4+1,x)"],
"outputs": []
}
,
{
"cell_type" : "code",
"execution_count": null,
"metadata" : {
    "collapsed" : false
},
"source" : ["zeroOf(b^4+1,x)"],
"outputs": []
}
,
{
"cell_type" : "markdown",
"metadata" : {},
"source" : ["-----------------------------------------------------------------"]
}
,
{
"cell_type" : "markdown",
"metadata" : {},
"source" : [" bronstei@inf.ethz.ch/6/11/93 (manuel bronstein)"]
}
,
{
"cell_type" : "markdown",
"metadata" : {},
"source" : ["-----------------------------------------------------------------"]
}
,
{
"cell_type" : "code",
"execution_count": null,
"metadata" : {
    "collapsed" : false
},
"source" : [")clear all"],
"outputs": []
}
,
{
"cell_type" : "code",
"execution_count": null,
"metadata" : {
    "collapsed" : false
},
"source" : ["normalize(0^a) -- now returns 0  (was crashing before)"],
"outputs": []
}
,
{
"cell_type" : "markdown",
"metadata" : {},
"source" : ["-----------------------------------------------------------------"]
}
,
{
"cell_type" : "markdown",
"metadata" : {},
"source" : [" bronstei@inf.ethz.ch/6/11/93 (manuel bronstein)"]
}
,
{
"cell_type" : "markdown",
"metadata" : {},
"source" : ["-----------------------------------------------------------------"]
}
,
{
"cell_type" : "code",
"execution_count": null,
"metadata" : {
    "collapsed" : false
},
"source" : [")clear all"],
"outputs": []
}
,
{
"cell_type" : "markdown",
"metadata" : {},
"source" : [" new export  complexForm(f)  which returns the rectangular complex form of f:"]
}
,
{
"cell_type" : "code",
"execution_count": null,
"metadata" : {
    "collapsed" : false
},
"source" : ["log(a+%i * b)"],
"outputs": []
}
,
{
"cell_type" : "code",
"execution_count": null,
"metadata" : {
    "collapsed" : false
},
"source" : ["complexForm %"],
"outputs": []
}
,
{
"cell_type" : "code",
"execution_count": null,
"metadata" : {
    "collapsed" : false
},
"source" : ["complexIntegrate(1/(x-%i),x)"],
"outputs": []
}
,
{
"cell_type" : "code",
"execution_count": null,
"metadata" : {
    "collapsed" : false
},
"source" : ["complexForm %"],
"outputs": []
}
,
{
"cell_type" : "markdown",
"metadata" : {},
"source" : ["-----------------------------------------------------------------"]
}
,
{
"cell_type" : "markdown",
"metadata" : {},
"source" : [" jcf@posso.ibp.fr"]
}
,
{
"cell_type" : "markdown",
"metadata" : {},
"source" : ["-----------------------------------------------------------------"]
}
,
{
"cell_type" : "markdown",
"metadata" : {},
"source" : ["  normalForm est faux pour les polynomes a coef dans un anneau:"]
}
,
{
"cell_type" : "code",
"execution_count": null,
"metadata" : {
    "collapsed" : false
},
"source" : ["D:=DMP([a,b],INT)"],
"outputs": []
}
,
{
"cell_type" : "code",
"execution_count": null,
"metadata" : {
    "collapsed" : false
},
"source" : ["l:List D:=[2*a-1,b-a]"],
"outputs": []
}
,
{
"cell_type" : "code",
"execution_count": null,
"metadata" : {
    "collapsed" : false
},
"source" : ["g:=groebner l"],
"outputs": []
}
,
{
"cell_type" : "code",
"execution_count": null,
"metadata" : {
    "collapsed" : false
},
"source" : ["p:D:=a"],
"outputs": []
}
,
{
"cell_type" : "code",
"execution_count": null,
"metadata" : {
    "collapsed" : false
},
"source" : ["normalForm(p,g)"],
"outputs": []
}
,
{
"cell_type" : "markdown",
"metadata" : {},
"source" : [" was  1"]
}
,
{
"cell_type" : "markdown",
"metadata" : {},
"source" : ["   au lieu de 1/2 !!"]
}
,
{
"cell_type" : "markdown",
"metadata" : {},
"source" : ["-----------------------------------------------------------------"]
}
,
{
"cell_type" : "markdown",
"metadata" : {},
"source" : [" nagttt@vax.ox.ac.uk/6/9/93 themos tsikas"]
}
,
{
"cell_type" : "markdown",
"metadata" : {},
"source" : ["-----------------------------------------------------------------"]
}
,
{
"cell_type" : "code",
"execution_count": null,
"metadata" : {
    "collapsed" : false
},
"source" : [")clear all"],
"outputs": []
}
,
{
"cell_type" : "code",
"execution_count": null,
"metadata" : {
    "collapsed" : false
},
"source" : ["squareFreePart(50)"],
"outputs": []
}
,
{
"cell_type" : "markdown",
"metadata" : {},
"source" : ["-----------------------------------------------------------------"]
}
,
{
"cell_type" : "markdown",
"metadata" : {},
"source" : [" mcd@maths.bath.ac.uk/6/4/92 mike dewar"]
}
,
{
"cell_type" : "markdown",
"metadata" : {},
"source" : ["-----------------------------------------------------------------"]
}
,
{
"cell_type" : "code",
"execution_count": null,
"metadata" : {
    "collapsed" : false
},
"source" : [")clear all"],
"outputs": []
}
,
{
"cell_type" : "code",
"execution_count": null,
"metadata" : {
    "collapsed" : false
},
"source" : ["f:=complexIntegrate(1/((x-%i)*(x-2*%i)),x)"],
"outputs": []
}
,
{
"cell_type" : "code",
"execution_count": null,
"metadata" : {
    "collapsed" : false
},
"source" : ["g:=subst(f,x=1)"],
"outputs": []
}
,
{
"cell_type" : "code",
"execution_count": null,
"metadata" : {
    "collapsed" : false
},
"source" : ["imag g"],
"outputs": []
}
,
{
"cell_type" : "markdown",
"metadata" : {},
"source" : ["-----------------------------------------------------------------"]
}
,
{
"cell_type" : "markdown",
"metadata" : {},
"source" : [" daly"]
}
,
{
"cell_type" : "markdown",
"metadata" : {},
"source" : ["-----------------------------------------------------------------"]
}
,
{
"cell_type" : "code",
"execution_count": null,
"metadata" : {
    "collapsed" : false
},
"source" : [")clear all"],
"outputs": []
}
,
{
"cell_type" : "markdown",
"metadata" : {},
"source" : [" not wrong but the order is obscure..."]
}
,
{
"cell_type" : "code",
"execution_count": null,
"metadata" : {
    "collapsed" : false
},
"source" : ["primes(1,10)"],
"outputs": []
}
,
{
"cell_type" : "markdown",
"metadata" : {},
"source" : ["-----------------------------------------------------------------"]
}
,
{
"cell_type" : "markdown",
"metadata" : {},
"source" : [" nagttt@vax.ox.ac.uk/1/11/93 themos tsikas"]
}
,
{
"cell_type" : "markdown",
"metadata" : {},
"source" : ["-----------------------------------------------------------------"]
}
,
{
"cell_type" : "code",
"execution_count": null,
"metadata" : {
    "collapsed" : false
},
"source" : [")clear all"],
"outputs": []
}
,
{
"cell_type" : "code",
"execution_count": null,
"metadata" : {
    "collapsed" : false
},
"source" : ["m:=matrix[[1,a,0],[b,0,a],[0,b,c]]"],
"outputs": []
}
,
{
"cell_type" : "code",
"execution_count": null,
"metadata" : {
    "collapsed" : false
},
"source" : ["ll:=radicalEigenvectors m"],
"outputs": []
}
,
{
"cell_type" : "markdown",
"metadata" : {},
"source" : [" ends in error:"]
}
,
{
"cell_type" : "markdown",
"metadata" : {},
"source" : [" Internal system problem in function appInfix : fewer than 2 arguments to"]
}
,
{
"cell_type" : "markdown",
"metadata" : {},
"source" : [" an infix function"]
}
,
{
"cell_type" : "markdown",
"metadata" : {},
"source" : [""]
}
,
{
"cell_type" : "markdown",
"metadata" : {},
"source" : [" but this works"]
}
,
{
"cell_type" : "code",
"execution_count": null,
"metadata" : {
    "collapsed" : false
},
"source" : ["ll 1"],
"outputs": []
}
,
{
"cell_type" : "code",
"execution_count": null,
"metadata" : {
    "collapsed" : false
},
"source" : ["ll 2"],
"outputs": []
}
,
{
"cell_type" : "code",
"execution_count": null,
"metadata" : {
    "collapsed" : false
},
"source" : ["ll 3"],
"outputs": []
}
,
{
"cell_type" : "markdown",
"metadata" : {},
"source" : ["-----------------------------------------------------------------"]
}
,
{
"cell_type" : "markdown",
"metadata" : {},
"source" : [" copper@yktvmv/12/1/93 Don Coppersmith"]
}
,
{
"cell_type" : "markdown",
"metadata" : {},
"source" : ["-----------------------------------------------------------------"]
}
,
{
"cell_type" : "code",
"execution_count": null,
"metadata" : {
    "collapsed" : false
},
"source" : [")clear all"],
"outputs": []
}
,
{
"cell_type" : "markdown",
"metadata" : {},
"source" : ["Attached is the list of integers n such that 2^512-n is prime"]
}
,
{
"cell_type" : "markdown",
"metadata" : {},
"source" : ["and n is between 0 and 5000:"]
}
,
{
"cell_type" : "markdown",
"metadata" : {},
"source" : [""]
}
,
{
"cell_type" : "markdown",
"metadata" : {},
"source" : ["   4893,4653,4475,4005,3893,3669,3459,3143,2967,"]
}
,
{
"cell_type" : "markdown",
"metadata" : {},
"source" : ["   2807,2529,1827,1695,975,875,629,569"]
}
,
{
"cell_type" : "markdown",
"metadata" : {},
"source" : ["It was gotten from Axiom by issuing the commands"]
}
,
{
"cell_type" : "code",
"execution_count": null,
"metadata" : {
    "collapsed" : false
},
"source" : ["qrimes : Stream Integer := stream(nextPrime, 2^512-5000)"],
"outputs": []
}
,
{
"cell_type" : "code",
"execution_count": null,
"metadata" : {
    "collapsed" : false
},
"source" : ["rrimes := [ 2^512-p for p in qrimes while p < 2^512 ]"],
"outputs": []
}
,
{
"cell_type" : "code",
"execution_count": null,
"metadata" : {
    "collapsed" : false
},
"source" : ["srimes := complete rrimes"],
"outputs": []
}
,
{
"cell_type" : "code",
"execution_count": null,
"metadata" : {
    "collapsed" : false
},
"source" : ["[srimes.i for i in [1..18]]"],
"outputs": []
}
,
{
"cell_type" : "code",
"execution_count": null,
"metadata" : {
    "collapsed" : false
},
"source" : ["[srimes.i for i in [10..18]]"],
"outputs": []
}
,
{
"cell_type" : "markdown",
"metadata" : {},
"source" : ["-----------------------------------------------------------------"]
}
,
{
"cell_type" : "markdown",
"metadata" : {},
"source" : [" miker@num-alg-grp.co.uk/12/13/93 (Mike Richardson)"]
}
,
{
"cell_type" : "markdown",
"metadata" : {},
"source" : ["-----------------------------------------------------------------"]
}
,
{
"cell_type" : "code",
"execution_count": null,
"metadata" : {
    "collapsed" : false
},
"source" : [")clear all"],
"outputs": []
}
,
{
"cell_type" : "markdown",
"metadata" : {},
"source" : [""]
}
,
{
"cell_type" : "markdown",
"metadata" : {},
"source" : ["This is fixed now. You get an Expression Float."]
}
,
{
"cell_type" : "markdown",
"metadata" : {},
"source" : [""]
}
,
{
"cell_type" : "markdown",
"metadata" : {},
"source" : [">"]
}
,
{
"cell_type" : "markdown",
"metadata" : {},
"source" : ["> I suspect that this is an example of the same thing - but it looks"]
}
,
{
"cell_type" : "markdown",
"metadata" : {},
"source" : ["> worse:"]
}
,
{
"cell_type" : "markdown",
"metadata" : {},
"source" : [">"]
}
,
{
"cell_type" : "code",
"execution_count": null,
"metadata" : {
    "collapsed" : false
},
"source" : ["X := log(0.7*%i*x)"],
"outputs": []
}
,
{
"cell_type" : "markdown",
"metadata" : {},
"source" : [">"]
}
,
{
"cell_type" : "markdown",
"metadata" : {},
"source" : [">    >> Error detected within library code:"]
}
,
{
"cell_type" : "markdown",
"metadata" : {},
"source" : [">    negative root"]
}
,
{
"cell_type" : "markdown",
"metadata" : {},
"source" : [">"]
}
,
{
"cell_type" : "markdown",
"metadata" : {},
"source" : ["> Mike"]
}
,
{
"cell_type" : "markdown",
"metadata" : {},
"source" : [">"]
}
,
{
"cell_type" : "markdown",
"metadata" : {},
"source" : ["-----------------------------------------------------------------"]
}
,
{
"cell_type" : "markdown",
"metadata" : {},
"source" : ["  sutor@yktpub.watson.ibm.com/12/15/93 (Robert S. Sutor)"]
}
,
{
"cell_type" : "markdown",
"metadata" : {},
"source" : ["-----------------------------------------------------------------"]
}
,
{
"cell_type" : "code",
"execution_count": null,
"metadata" : {
    "collapsed" : false
},
"source" : [")clear all"],
"outputs": []
}
,
{
"cell_type" : "markdown",
"metadata" : {},
"source" : ["enter Integer in input box"]
}
,
{
"cell_type" : "markdown",
"metadata" : {},
"source" : ["choose domains"]
}
,
{
"cell_type" : "markdown",
"metadata" : {},
"source" : ["choose Description"]
}
,
{
"cell_type" : "markdown",
"metadata" : {},
"source" : ["click on Convertible(String)"]
}
,
{
"cell_type" : "markdown",
"metadata" : {},
"source" : [""]
}
,
{
"cell_type" : "markdown",
"metadata" : {},
"source" : ["page cannot be formatted"]
}
,
{
"cell_type" : "markdown",
"metadata" : {},
"source" : ["-----------------------------------------------------------------"]
}
,
{
"cell_type" : "markdown",
"metadata" : {},
"source" : [" bmt@posso.dm.unipi.it12/15/93 (barry trager)"]
}
,
{
"cell_type" : "markdown",
"metadata" : {},
"source" : ["-----------------------------------------------------------------"]
}
,
{
"cell_type" : "code",
"execution_count": null,
"metadata" : {
    "collapsed" : false
},
"source" : [")clear all"],
"outputs": []
}
,
{
"cell_type" : "code",
"execution_count": null,
"metadata" : {
    "collapsed" : false
},
"source" : ["log2() --> Float"],
"outputs": []
}
,
{
"cell_type" : "code",
"execution_count": null,
"metadata" : {
    "collapsed" : false
},
"source" : ["exp1() --> DoubleFLoat ???"],
"outputs": []
}
,
{
"cell_type" : "markdown",
"metadata" : {},
"source" : ["-----------------------------------------------------------------"]
}
,
{
"cell_type" : "markdown",
"metadata" : {},
"source" : ["  quitte@knuth.univ-poitiers.fr/12/14/93 Claude Quitte"]
}
,
{
"cell_type" : "markdown",
"metadata" : {},
"source" : ["-----------------------------------------------------------------"]
}
,
{
"cell_type" : "code",
"execution_count": null,
"metadata" : {
    "collapsed" : false
},
"source" : [")clear all"],
"outputs": []
}
,
{
"cell_type" : "markdown",
"metadata" : {},
"source" : ["There is a bug in the function delete_! for the type List ; this function,"]
}
,
{
"cell_type" : "markdown",
"metadata" : {},
"source" : ["has two arguments, a list L and an integer n : delete_!(L, n) returns"]
}
,
{
"cell_type" : "markdown",
"metadata" : {},
"source" : ["a list L with the n nth-item deleted, MODIFYING its argument L."]
}
,
{
"cell_type" : "markdown",
"metadata" : {},
"source" : [""]
}
,
{
"cell_type" : "markdown",
"metadata" : {},
"source" : ["But for n = 1, the argument L is not MODIFIED !!! (exactly for n ="]
}
,
{
"cell_type" : "markdown",
"metadata" : {},
"source" : ["minIndex(L)). An extract of the package ListAggregate (abbreviation LSAGG,"]
}
,
{
"cell_type" : "markdown",
"metadata" : {},
"source" : ["file aggcat.spad)."]
}
,
{
"cell_type" : "markdown",
"metadata" : {},
"source" : [""]
}
,
{
"cell_type" : "markdown",
"metadata" : {},
"source" : [""]
}
,
{
"cell_type" : "markdown",
"metadata" : {},
"source" : ["--------------------------------------------------------------------"]
}
,
{
"cell_type" : "markdown",
"metadata" : {},
"source" : ["ListAggregate(S:Object): Category == Join(StreamAggregate S,"]
}
,
{
"cell_type" : "markdown",
"metadata" : {},
"source" : ["   FiniteLinearAggregate S, ExtensibleLinearAggregate S) with"]
}
,
{
"cell_type" : "markdown",
"metadata" : {},
"source" : ["      list: S -> $"]
}
,
{
"cell_type" : "markdown",
"metadata" : {},
"source" : ["      ++ list(x) returns the list of one element x."]
}
,
{
"cell_type" : "markdown",
"metadata" : {},
"source" : [" add"]
}
,
{
"cell_type" : "markdown",
"metadata" : {},
"source" : ["   .........."]
}
,
{
"cell_type" : "markdown",
"metadata" : {},
"source" : [""]
}
,
{
"cell_type" : "markdown",
"metadata" : {},
"source" : ["   delete_!(x:$, i:I) =="]
}
,
{
"cell_type" : "markdown",
"metadata" : {},
"source" : ["     i < (m := minIndex x) => error \"index out of range\""]
}
,
{
"cell_type" : "markdown",
"metadata" : {},
"source" : ["     i = m => rest x                          ^^^ <- here is the error"]
}
,
{
"cell_type" : "markdown",
"metadata" : {},
"source" : ["     y := rest(x, (i - 1 - m)::N)"]
}
,
{
"cell_type" : "markdown",
"metadata" : {},
"source" : ["     setrest_!(y, rest(y, 2))"]
}
,
{
"cell_type" : "markdown",
"metadata" : {},
"source" : ["     x"]
}
,
{
"cell_type" : "markdown",
"metadata" : {},
"source" : [""]
}
,
{
"cell_type" : "markdown",
"metadata" : {},
"source" : ["A little session :"]
}
,
{
"cell_type" : "markdown",
"metadata" : {},
"source" : [""]
}
,
{
"cell_type" : "code",
"execution_count": null,
"metadata" : {
    "collapsed" : false
},
"source" : ["L : List(String) := [\"There is\", \"it seems\", \"a real bug\", \"here\"]"],
"outputs": []
}
,
{
"cell_type" : "markdown",
"metadata" : {},
"source" : ["   (1)  [\"There is\",\"it seems\",\"a real bug\",\"here\"]"]
}
,
{
"cell_type" : "markdown",
"metadata" : {},
"source" : ["                                                            Type: List String"]
}
,
{
"cell_type" : "markdown",
"metadata" : {},
"source" : [""]
}
,
{
"cell_type" : "code",
"execution_count": null,
"metadata" : {
    "collapsed" : false
},
"source" : ["L1 := delete!(L, 1)"],
"outputs": []
}
,
{
"cell_type" : "markdown",
"metadata" : {},
"source" : ["   (2)  [\"it seems\",\"a real bug\",\"here\"]"]
}
,
{
"cell_type" : "markdown",
"metadata" : {},
"source" : ["                                                            Type: List String"]
}
,
{
"cell_type" : "code",
"execution_count": null,
"metadata" : {
    "collapsed" : false
},
"source" : ["L"],
"outputs": []
}
,
{
"cell_type" : "markdown",
"metadata" : {},
"source" : ["   (3)  [\"There is\",\"it seems\",\"a real bug\",\"here\"]"]
}
,
{
"cell_type" : "markdown",
"metadata" : {},
"source" : ["                                                            Type: List String"]
}
,
{
"cell_type" : "markdown",
"metadata" : {},
"source" : [""]
}
,
{
"cell_type" : "code",
"execution_count": null,
"metadata" : {
    "collapsed" : false
},
"source" : ["L2 := delete!(L, 2)"],
"outputs": []
}
,
{
"cell_type" : "markdown",
"metadata" : {},
"source" : ["   (4)  [\"There is\",\"a real bug\",\"here\"]"]
}
,
{
"cell_type" : "markdown",
"metadata" : {},
"source" : ["                                                            Type: List String"]
}
,
{
"cell_type" : "code",
"execution_count": null,
"metadata" : {
    "collapsed" : false
},
"source" : ["L"],
"outputs": []
}
,
{
"cell_type" : "markdown",
"metadata" : {},
"source" : ["   (5)  [\"There is\",\"a real bug\",\"here\"]"]
}
,
{
"cell_type" : "markdown",
"metadata" : {},
"source" : [""]
}
,
{
"cell_type" : "markdown",
"metadata" : {},
"source" : ["Is there a way to fix this bug quickly ?? (I am ready to modify the source"]
}
,
{
"cell_type" : "markdown",
"metadata" : {},
"source" : ["Axiom aggcat.spad)."]
}
,
{
"cell_type" : "markdown",
"metadata" : {},
"source" : ["The problem with ! functions lies in the documentation not in the code. We"]
}
,
{
"cell_type" : "markdown",
"metadata" : {},
"source" : ["need to explain more clearly that ! functions are ALLOWED to update their"]
}
,
{
"cell_type" : "markdown",
"metadata" : {},
"source" : ["arguments, not REQUIRED to do so."]
}
,
{
"cell_type" : "markdown",
"metadata" : {},
"source" : ["Whenever using ! functions you should always"]
}
,
{
"cell_type" : "markdown",
"metadata" : {},
"source" : ["use the returned result, not try to use the updated argument. This is how"]
}
,
{
"cell_type" : "markdown",
"metadata" : {},
"source" : ["the code is designed."]
}
,
{
"cell_type" : "markdown",
"metadata" : {},
"source" : ["For example if you try to do insert! into an empty list,"]
}
,
{
"cell_type" : "markdown",
"metadata" : {},
"source" : ["the argument is not updatable and thus a new list is created. The reason for"]
}
,
{
"cell_type" : "markdown",
"metadata" : {},
"source" : ["having ! operations is for efficiency to do less copying, not to guarantee"]
}
,
{
"cell_type" : "markdown",
"metadata" : {},
"source" : ["that given arguments will always be updated. So the correct use is to only"]
}
,
{
"cell_type" : "markdown",
"metadata" : {},
"source" : ["depend on the results returned by updating functions."]
}
,
{
"cell_type" : "markdown",
"metadata" : {},
"source" : ["-----------------------------------------------------------------"]
}
,
{
"cell_type" : "markdown",
"metadata" : {},
"source" : ["  quitte@knuth.univ-poitiers.fr/1/13/94 Claude Quitte"]
}
,
{
"cell_type" : "markdown",
"metadata" : {},
"source" : ["-----------------------------------------------------------------"]
}
,
{
"cell_type" : "code",
"execution_count": null,
"metadata" : {
    "collapsed" : false
},
"source" : [")clear all"],
"outputs": []
}
,
{
"cell_type" : "code",
"execution_count": null,
"metadata" : {
    "collapsed" : false
},
"source" : ["K := Fraction(Integer)"],
"outputs": []
}
,
{
"cell_type" : "code",
"execution_count": null,
"metadata" : {
    "collapsed" : false
},
"source" : ["PolK := UP('X, K)"],
"outputs": []
}
,
{
"cell_type" : "code",
"execution_count": null,
"metadata" : {
    "collapsed" : false
},
"source" : ["X : PolK := monomial(1, 1)"],
"outputs": []
}
,
{
"cell_type" : "code",
"execution_count": null,
"metadata" : {
    "collapsed" : false
},
"source" : ["n : PositiveInteger := 15"],
"outputs": []
}
,
{
"cell_type" : "code",
"execution_count": null,
"metadata" : {
    "collapsed" : false
},
"source" : ["E := SimpleAlgebraicExtension(K, PolK, X^n + X^(n-3) -1)"],
"outputs": []
}
,
{
"cell_type" : "code",
"execution_count": null,
"metadata" : {
    "collapsed" : false
},
"source" : ["y : E := X::E"],
"outputs": []
}
,
{
"cell_type" : "code",
"execution_count": null,
"metadata" : {
    "collapsed" : false
},
"source" : ["minimalPolynomial(y)$E"],
"outputs": []
}
,
{
"cell_type" : "markdown",
"metadata" : {},
"source" : [""]
}
,
{
"cell_type" : "markdown",
"metadata" : {},
"source" : ["Internal Error"]
}
,
{
"cell_type" : "markdown",
"metadata" : {},
"source" : ["The function minimalPolynomial with signature SimpleAlgebraicExtension("]
}
,
{
"cell_type" : "markdown",
"metadata" : {},
"source" : ["Fraction Integer,UnivariatePolynomial(X,Fraction Integer),X^15+X^12-1)"]
}
,
{
"cell_type" : "markdown",
"metadata" : {},
"source" : ["-> UnivariatePolynomial(X,Fraction Integer) is missing from domain"]
}
,
{
"cell_type" : "markdown",
"metadata" : {},
"source" : ["SimpleAlgebraicExtension(Fraction (Integer))"]
}
,
{
"cell_type" : "markdown",
"metadata" : {},
"source" : ["(UnivariatePolynomial X (Fraction (Integer)))((15 1 . 1) (12 1 . 1) (0 -1 . 1))"]
}
,
{
"cell_type" : "markdown",
"metadata" : {},
"source" : ["-----------------------------------------------------------------"]
}
,
{
"cell_type" : "markdown",
"metadata" : {},
"source" : [" luczak@nag.com/02/20/94 (Richard Luczak)"]
}
,
{
"cell_type" : "markdown",
"metadata" : {},
"source" : ["-----------------------------------------------------------------"]
}
,
{
"cell_type" : "code",
"execution_count": null,
"metadata" : {
    "collapsed" : false
},
"source" : [")clear all"],
"outputs": []
}
,
{
"cell_type" : "markdown",
"metadata" : {},
"source" : [""]
}
,
{
"cell_type" : "markdown",
"metadata" : {},
"source" : ["I'm trying to define the following rule"]
}
,
{
"cell_type" : "markdown",
"metadata" : {},
"source" : [""]
}
,
{
"cell_type" : "code",
"execution_count": null,
"metadata" : {
    "collapsed" : false
},
"source" : ["tr := rule cos(x)^(n | integer? n and even? n)==(1-sin(x)^2)^(n/2)"],
"outputs": []
}
,
{
"cell_type" : "markdown",
"metadata" : {},
"source" : [""]
}
,
{
"cell_type" : "markdown",
"metadata" : {},
"source" : ["Axiom returns"]
}
,
{
"cell_type" : "markdown",
"metadata" : {},
"source" : [""]
}
,
{
"cell_type" : "markdown",
"metadata" : {},
"source" : ["   Cannot find a definition or library operation named even? with argument"]
}
,
{
"cell_type" : "markdown",
"metadata" : {},
"source" : ["   types"]
}
,
{
"cell_type" : "markdown",
"metadata" : {},
"source" : ["                             Expression Integer"]
}
,
{
"cell_type" : "markdown",
"metadata" : {},
"source" : [""]
}
,
{
"cell_type" : "markdown",
"metadata" : {},
"source" : ["   We will attempt to step through and interpret the code."]
}
,
{
"cell_type" : "markdown",
"metadata" : {},
"source" : [""]
}
,
{
"cell_type" : "markdown",
"metadata" : {},
"source" : ["                                  n"]
}
,
{
"cell_type" : "markdown",
"metadata" : {},
"source" : ["                                  -"]
}
,
{
"cell_type" : "markdown",
"metadata" : {},
"source" : ["              n             2     2"]
}
,
{
"cell_type" : "markdown",
"metadata" : {},
"source" : ["   (2)  cos(x)  == (- sin(x)  + 1)"]
}
,
{
"cell_type" : "markdown",
"metadata" : {},
"source" : ["                        Type: RewriteRule(Integer,Integer,Expression Integer)"]
}
,
{
"cell_type" : "markdown",
"metadata" : {},
"source" : [""]
}
,
{
"cell_type" : "markdown",
"metadata" : {},
"source" : [""]
}
,
{
"cell_type" : "markdown",
"metadata" : {},
"source" : ["and henceforth the rule does not work as desired. Variations on the same bug"]
}
,
{
"cell_type" : "markdown",
"metadata" : {},
"source" : ["occur involving positive?. Of course, I get what I want using integer?(n/2)"]
}
,
{
"cell_type" : "markdown",
"metadata" : {},
"source" : ["but ... Is this a bug?"]
}
,
{
"cell_type" : "markdown",
"metadata" : {},
"source" : [""]
}
,
{
"cell_type" : "markdown",
"metadata" : {},
"source" : [" from barry:"]
}
,
{
"cell_type" : "markdown",
"metadata" : {},
"source" : [""]
}
,
{
"cell_type" : "markdown",
"metadata" : {},
"source" : ["Should use integer? n and even? integer n  instead."]
}
,
{
"cell_type" : "markdown",
"metadata" : {},
"source" : [""]
}
,
{
"cell_type" : "markdown",
"metadata" : {},
"source" : ["I toyed with the idea of implementing:"]
}
,
{
"cell_type" : "markdown",
"metadata" : {},
"source" : ["    even? x == integer? x and even? integer x"]
}
,
{
"cell_type" : "markdown",
"metadata" : {},
"source" : ["    odd? x == integer? x and odd? integer x"]
}
,
{
"cell_type" : "markdown",
"metadata" : {},
"source" : ["in EXPR, but this would mean that   (x +-> even? x or odd? x)  is not always"]
}
,
{
"cell_type" : "markdown",
"metadata" : {},
"source" : ["true anymore and I'm not sure it's a good idea. If you guys don't think it's"]
}
,
{
"cell_type" : "markdown",
"metadata" : {},
"source" : ["a problem, it takes 2 minutes to add it to EXPR R when R has RETRACT INT"]
}
,
{
"cell_type" : "markdown",
"metadata" : {},
"source" : ["(don't use integer? but retractIfCan@Union(Integer, \"failed\"))."]
}
,
{
"cell_type" : "markdown",
"metadata" : {},
"source" : ["-----------------------------------------------------------------"]
}
,
{
"cell_type" : "markdown",
"metadata" : {},
"source" : [" copper@yktvmv.vnet.ibm.com/02/22/94 don coppersmith"]
}
,
{
"cell_type" : "markdown",
"metadata" : {},
"source" : ["-----------------------------------------------------------------"]
}
,
{
"cell_type" : "code",
"execution_count": null,
"metadata" : {
    "collapsed" : false
},
"source" : [")clear all"],
"outputs": []
}
,
{
"cell_type" : "markdown",
"metadata" : {},
"source" : ["Questions that came up using Axiom on Aixproj:"]
}
,
{
"cell_type" : "markdown",
"metadata" : {},
"source" : [""]
}
,
{
"cell_type" : "markdown",
"metadata" : {},
"source" : ["How does one find a Pade approximation?  I tried  pade(2,2,y)"]
}
,
{
"cell_type" : "markdown",
"metadata" : {},
"source" : ["pade(y,2,2)  Pade(2,2,y)  PadeApproximation(2,2,y)"]
}
,
{
"cell_type" : "markdown",
"metadata" : {},
"source" : ["(where y is a series in x) to no avail."]
}
,
{
"cell_type" : "markdown",
"metadata" : {},
"source" : [""]
}
,
{
"cell_type" : "markdown",
"metadata" : {},
"source" : ["Complaint: The error message"]
}
,
{
"cell_type" : "markdown",
"metadata" : {},
"source" : [""]
}
,
{
"cell_type" : "markdown",
"metadata" : {},
"source" : ["    Could not find library function \"pade\" with arguments"]
}
,
{
"cell_type" : "markdown",
"metadata" : {},
"source" : ["         (integer, integer, series)."]
}
,
{
"cell_type" : "markdown",
"metadata" : {},
"source" : [""]
}
,
{
"cell_type" : "markdown",
"metadata" : {},
"source" : ["is misleading.  If it can't find any \"pade\", then say"]
}
,
{
"cell_type" : "markdown",
"metadata" : {},
"source" : [""]
}
,
{
"cell_type" : "markdown",
"metadata" : {},
"source" : ["    Could not find library function \"pade\"."]
}
,
{
"cell_type" : "markdown",
"metadata" : {},
"source" : [""]
}
,
{
"cell_type" : "markdown",
"metadata" : {},
"source" : ["If there is such a function, but I've got the arguments wrong,"]
}
,
{
"cell_type" : "markdown",
"metadata" : {},
"source" : ["why not say"]
}
,
{
"cell_type" : "markdown",
"metadata" : {},
"source" : [""]
}
,
{
"cell_type" : "markdown",
"metadata" : {},
"source" : ["    The library function \"pade\" takes arguments"]
}
,
{
"cell_type" : "markdown",
"metadata" : {},
"source" : ["          (series, integer, integer)"]
}
,
{
"cell_type" : "markdown",
"metadata" : {},
"source" : [""]
}
,
{
"cell_type" : "markdown",
"metadata" : {},
"source" : ["or at least make that information available somehow."]
}
,
{
"cell_type" : "markdown",
"metadata" : {},
"source" : [""]
}
,
{
"cell_type" : "markdown",
"metadata" : {},
"source" : [" from bob sutor:"]
}
,
{
"cell_type" : "markdown",
"metadata" : {},
"source" : [""]
}
,
{
"cell_type" : "markdown",
"metadata" : {},
"source" : ["Don,"]
}
,
{
"cell_type" : "markdown",
"metadata" : {},
"source" : ["  Try using )what op pade  to see what is available. This will give"]
}
,
{
"cell_type" : "markdown",
"metadata" : {},
"source" : ["you all operations with \"pade\" in their names. You can also search for"]
}
,
{
"cell_type" : "markdown",
"metadata" : {},
"source" : ["*pade* via the HyperDoc Browse utility. If you don't use Browse, following"]
}
,
{
"cell_type" : "markdown",
"metadata" : {},
"source" : ["up with, say, )display op pade, will give you a more information, though"]
}
,
{
"cell_type" : "markdown",
"metadata" : {},
"source" : ["it is badly formatted (I will look at that)."]
}
,
{
"cell_type" : "markdown",
"metadata" : {},
"source" : [""]
}
,
{
"cell_type" : "markdown",
"metadata" : {},
"source" : ["Aixproj is back-level, so I'm not sure exactly what is up their"]
}
,
{
"cell_type" : "markdown",
"metadata" : {},
"source" : ["relative to the current system."]
}
,
{
"cell_type" : "markdown",
"metadata" : {},
"source" : [""]
}
,
{
"cell_type" : "markdown",
"metadata" : {},
"source" : ["I agree we could use better messages regarding unknown functions"]
}
,
{
"cell_type" : "markdown",
"metadata" : {},
"source" : ["and I will look at that."]
}
,
{
"cell_type" : "markdown",
"metadata" : {},
"source" : ["  Bob"]
}
,
{
"cell_type" : "markdown",
"metadata" : {},
"source" : [""]
}
,
{
"cell_type" : "markdown",
"metadata" : {},
"source" : [" from bob sutor:"]
}
,
{
"cell_type" : "markdown",
"metadata" : {},
"source" : [""]
}
,
{
"cell_type" : "markdown",
"metadata" : {},
"source" : ["The pade operation requires a taylor series as its third object while"]
}
,
{
"cell_type" : "markdown",
"metadata" : {},
"source" : ["\"series\" returns a UnivariatePuiseuxSeries. If you set"]
}
,
{
"cell_type" : "markdown",
"metadata" : {},
"source" : ["  y := taylor(1+x)^(1/5)"]
}
,
{
"cell_type" : "markdown",
"metadata" : {},
"source" : ["then things work. You can also do"]
}
,
{
"cell_type" : "markdown",
"metadata" : {},
"source" : ["  pade(1,1,y :: UTS(EXPR INT, x, 0) )"]
}
,
{
"cell_type" : "markdown",
"metadata" : {},
"source" : ["but this is more work if you really have a Taylor series."]
}
,
{
"cell_type" : "markdown",
"metadata" : {},
"source" : [""]
}
,
{
"cell_type" : "markdown",
"metadata" : {},
"source" : ["This is unintuitive and there should be a \"pade\" for Puiseux series that"]
}
,
{
"cell_type" : "markdown",
"metadata" : {},
"source" : ["fails if the series is not appropriate. Barry? I will now look at adding"]
}
,
{
"cell_type" : "markdown",
"metadata" : {},
"source" : ["a bit more coercion support to the interpreter to allow Puiseux series"]
}
,
{
"cell_type" : "markdown",
"metadata" : {},
"source" : ["to possibly retract to Laurent series and then possibly to Taylor series."]
}
,
{
"cell_type" : "markdown",
"metadata" : {},
"source" : [""]
}
,
{
"cell_type" : "markdown",
"metadata" : {},
"source" : ["Don,"]
}
,
{
"cell_type" : "markdown",
"metadata" : {},
"source" : ["  I added the retractions I mentioned before to the development system."]
}
,
{
"cell_type" : "markdown",
"metadata" : {},
"source" : ["When the system is unsuccessful in matching a UnivariatePuiseuxSeries"]
}
,
{
"cell_type" : "markdown",
"metadata" : {},
"source" : ["to an operation, it will first try to retract it to a"]
}
,
{
"cell_type" : "markdown",
"metadata" : {},
"source" : ["UnivariateLaurentSeries. If that fails still, it will try to retract to"]
}
,
{
"cell_type" : "markdown",
"metadata" : {},
"source" : ["a UnivariateTaylorSeries."]
}
,
{
"cell_type" : "markdown",
"metadata" : {},
"source" : [""]
}
,
{
"cell_type" : "markdown",
"metadata" : {},
"source" : ["  Be aware that this sort of thing happens when you are evaluating"]
}
,
{
"cell_type" : "markdown",
"metadata" : {},
"source" : ["an expression. If you are defining a function, you should add"]
}
,
{
"cell_type" : "markdown",
"metadata" : {},
"source" : ["explicit coercions or create objects of the correct type for"]
}
,
{
"cell_type" : "markdown",
"metadata" : {},
"source" : ["efficiency. You function may still work, but it may not run in"]
}
,
{
"cell_type" : "markdown",
"metadata" : {},
"source" : ["a compiled form."]
}
,
{
"cell_type" : "markdown",
"metadata" : {},
"source" : ["-----------------------------------------------------------------"]
}
,
{
"cell_type" : "markdown",
"metadata" : {},
"source" : [" barry@num-alg-grp.co.uk/02/24/94 Barry Trager"]
}
,
{
"cell_type" : "markdown",
"metadata" : {},
"source" : ["-----------------------------------------------------------------"]
}
,
{
"cell_type" : "code",
"execution_count": null,
"metadata" : {
    "collapsed" : false
},
"source" : [")clear all"],
"outputs": []
}
,
{
"cell_type" : "code",
"execution_count": null,
"metadata" : {
    "collapsed" : false
},
"source" : ["sqrt(2)*2.0 -- fails"],
"outputs": []
}
,
{
"cell_type" : "code",
"execution_count": null,
"metadata" : {
    "collapsed" : false
},
"source" : ["sqrt(2)::EXPR INT * 2.0 -- works"],
"outputs": []
}
,
{
"cell_type" : "markdown",
"metadata" : {},
"source" : [" tpd: this now fails with sample : () -> Reference Integer is missing"]
}
,
{
"cell_type" : "markdown",
"metadata" : {},
"source" : [" from domain: Integer"]
}
,
{
"cell_type" : "markdown",
"metadata" : {},
"source" : [" Internal Error"]
}
,
{
"cell_type" : "markdown",
"metadata" : {},
"source" : ["-----------------------------------------------------------------"]
}
,
{
"cell_type" : "markdown",
"metadata" : {},
"source" : [" bronstei@inf.ethz.ch/02/28/94 Manuel Bronstein"]
}
,
{
"cell_type" : "markdown",
"metadata" : {},
"source" : ["-----------------------------------------------------------------"]
}
,
{
"cell_type" : "code",
"execution_count": null,
"metadata" : {
    "collapsed" : false
},
"source" : [")clear all"],
"outputs": []
}
,
{
"cell_type" : "code",
"execution_count": null,
"metadata" : {
    "collapsed" : false
},
"source" : ["f := exp(exp(x)*exp(1/exp(x))) / exp exp x"],
"outputs": []
}
,
{
"cell_type" : "markdown",
"metadata" : {},
"source" : [")tr LIMITPS )math"]
}
,
{
"cell_type" : "markdown",
"metadata" : {},
"source" : [")tr DFINTTLS )math"]
}
,
{
"cell_type" : "markdown",
"metadata" : {},
"source" : [")tr DFINTTLS_;findLimit"]
}
,
{
"cell_type" : "markdown",
"metadata" : {},
"source" : [" the following exits back to the shell after limit returns \"failed\":"]
}
,
{
"cell_type" : "code",
"execution_count": null,
"metadata" : {
    "collapsed" : false
},
"source" : ["computeInt(first tower f, f, 0, %plusInfinity, false)$DFINTTLS(INT, EXPR INT)"],
"outputs": []
}
,
{
"cell_type" : "markdown",
"metadata" : {},
"source" : ["-----------------------------------------------------------------"]
}
,
{
"cell_type" : "markdown",
"metadata" : {},
"source" : [" jhd@maths.bath.ac.uk/03/02/94 James Davenport"]
}
,
{
"cell_type" : "markdown",
"metadata" : {},
"source" : ["-----------------------------------------------------------------"]
}
,
{
"cell_type" : "code",
"execution_count": null,
"metadata" : {
    "collapsed" : false
},
"source" : [")clear all"],
"outputs": []
}
,
{
"cell_type" : "markdown",
"metadata" : {},
"source" : ["I've fixed coercions of List and Vector to DirectProduct."]
}
,
{
"cell_type" : "markdown",
"metadata" : {},
"source" : ["You can now do things like"]
}
,
{
"cell_type" : "code",
"execution_count": null,
"metadata" : {
    "collapsed" : false
},
"source" : ["[1,2,3] :: DirectProduct(3, Fraction Integer)"],
"outputs": []
}
,
{
"cell_type" : "markdown",
"metadata" : {},
"source" : [""]
}
,
{
"cell_type" : "markdown",
"metadata" : {},
"source" : ["I also fixed coercions from Vector to List, which seems to have"]
}
,
{
"cell_type" : "markdown",
"metadata" : {},
"source" : ["been removed via a library change."]
}
,
{
"cell_type" : "markdown",
"metadata" : {},
"source" : ["-----------------------------------------------------------------"]
}
,
{
"cell_type" : "markdown",
"metadata" : {},
"source" : [" jhd@maths.bath.ac.uk/03/09/94 James Davenport"]
}
,
{
"cell_type" : "markdown",
"metadata" : {},
"source" : ["-----------------------------------------------------------------"]
}
,
{
"cell_type" : "code",
"execution_count": null,
"metadata" : {
    "collapsed" : false
},
"source" : [")clear all"],
"outputs": []
}
,
{
"cell_type" : "markdown",
"metadata" : {},
"source" : [" used to give a lisp error"]
}
,
{
"cell_type" : "code",
"execution_count": null,
"metadata" : {
    "collapsed" : false
},
"source" : ["x^10+1::Polynomial PrimeField 2"],
"outputs": []
}
,
{
"cell_type" : "markdown",
"metadata" : {},
"source" : ["-----------------------------------------------------------------"]
}
,
{
"cell_type" : "markdown",
"metadata" : {},
"source" : [" themos@num-alg-grp.co.uk/03/11/94 Themos Tsikas"]
}
,
{
"cell_type" : "markdown",
"metadata" : {},
"source" : ["-----------------------------------------------------------------"]
}
,
{
"cell_type" : "code",
"execution_count": null,
"metadata" : {
    "collapsed" : false
},
"source" : [")clear all"],
"outputs": []
}
,
{
"cell_type" : "code",
"execution_count": null,
"metadata" : {
    "collapsed" : false
},
"source" : ["f(x)==x^2"],
"outputs": []
}
,
{
"cell_type" : "code",
"execution_count": null,
"metadata" : {
    "collapsed" : false
},
"source" : ["draw(f,-1..1)"],
"outputs": []
}
,
{
"cell_type" : "markdown",
"metadata" : {},
"source" : ["-----------------------------------------------------------------"]
}
,
{
"cell_type" : "markdown",
"metadata" : {},
"source" : [" themos@num-alg-grp.co.uk/03/16/94 Themos Tsikas"]
}
,
{
"cell_type" : "markdown",
"metadata" : {},
"source" : ["-----------------------------------------------------------------"]
}
,
{
"cell_type" : "code",
"execution_count": null,
"metadata" : {
    "collapsed" : false
},
"source" : [")clear all"],
"outputs": []
}
,
{
"cell_type" : "markdown",
"metadata" : {},
"source" : ["The problem was that nobody was around to catch the coerceOrCroaker."]
}
,
{
"cell_type" : "markdown",
"metadata" : {},
"source" : ["Just comment out the first line of intCodeGenCoerce1 in i-code.boot"]
}
,
{
"cell_type" : "markdown",
"metadata" : {},
"source" : ["(the one with the explicit THROW). Bothe the riemannSphereDraw and JHD's"]
}
,
{
"cell_type" : "markdown",
"metadata" : {},
"source" : ["original example will then work. -- bob sutor"]
}
,
{
"cell_type" : "code",
"execution_count": null,
"metadata" : {
    "collapsed" : false
},
"source" : [")read conformal"],
"outputs": []
}
,
{
"cell_type" : "code",
"execution_count": null,
"metadata" : {
    "collapsed" : false
},
"source" : ["riemannSphereDraw(1..2,0..%pi,4,4,\"polar\")"],
"outputs": []
}
,
{
"cell_type" : "code",
"execution_count": null,
"metadata" : {
    "collapsed" : false
},
"source" : [""],
"outputs": []
}
 ],
"metadata": {
 "kernelspec": {
  "display_name": "FriCAS",
  "language": "spad",
  "name": "ifricas"
 },
 "language_info": {
  "codemirror_mode": "spad",
  "mimetype": "text/x-spad",
  "name": "SPAD",
  "pygments_lexer": "spad",
  "version": "1.2.6"
 },
 "name": "fixed.ipynb"
},
"nbformat": 4,
"nbformat_minor": 0
}
