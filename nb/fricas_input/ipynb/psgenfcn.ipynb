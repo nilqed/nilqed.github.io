{
 "cells": [
{
"cell_type" : "markdown",
"metadata" : {},
"source" : ["Copyright The Numerical Algorithms Group Limited 1991."]
}
,
{
"cell_type" : "markdown",
"metadata" : {},
"source" : ["% Power Series Generating Functions"]
}
,
{
"cell_type" : "markdown",
"metadata" : {},
"source" : [" We obtain Fibonacci numbers, Bernoulli numbers and polynomials, and"]
}
,
{
"cell_type" : "markdown",
"metadata" : {},
"source" : [" Euler numbers and polynomials as power series coefficients"]
}
,
{
"cell_type" : "markdown",
"metadata" : {},
"source" : [" Author: Clifton J. Williamson"]
}
,
{
"cell_type" : "markdown",
"metadata" : {},
"source" : [" Date Created: 1 June 1990"]
}
,
{
"cell_type" : "markdown",
"metadata" : {},
"source" : [" Date Last Updated: 1 June 1990"]
}
,
{
"cell_type" : "markdown",
"metadata" : {},
"source" : [" Keywords: Fibonacci, Bernoulli, Euler"]
}
,
{
"cell_type" : "markdown",
"metadata" : {},
"source" : [" References:"]
}
,
{
"cell_type" : "markdown",
"metadata" : {},
"source" : [" We will compute power series in two different ways, then test equality"]
}
,
{
"cell_type" : "markdown",
"metadata" : {},
"source" : [" of coefficients up to a specified order.  The function that tests"]
}
,
{
"cell_type" : "markdown",
"metadata" : {},
"source" : [" 'approximate equality' will return an error message if the test fails."]
}
,
{
"cell_type" : "code",
"execution_count": null,
"metadata" : {
    "collapsed" : false
},
"source" : [")cl all"],
"outputs": []
}
,
{
"cell_type" : "code",
"execution_count": null,
"metadata" : {
    "collapsed" : false
},
"source" : ["ORD := 20"],
"outputs": []
}
,
{
"cell_type" : "code",
"execution_count": null,
"metadata" : {
    "collapsed" : false
},
"source" : ["approximateEquality(series1,series2) =="],
"outputs": []
}
,
{
"cell_type" : "code",
"execution_count": null,
"metadata" : {
    "collapsed" : false
},
"source" : ["  -- tests that 2 series are equal to order ORD"],
"outputs": []
}
,
{
"cell_type" : "code",
"execution_count": null,
"metadata" : {
    "collapsed" : false
},
"source" : ["  uts1 := series1 :: UTS(EXPR INT,'t,0)"],
"outputs": []
}
,
{
"cell_type" : "code",
"execution_count": null,
"metadata" : {
    "collapsed" : false
},
"source" : ["  uts2 := series2 :: UTS(EXPR INT,'t,0)"],
"outputs": []
}
,
{
"cell_type" : "code",
"execution_count": null,
"metadata" : {
    "collapsed" : false
},
"source" : ["  flag := (order(uts1 - uts2,ORD) = ORD) :: Boolean"],
"outputs": []
}
,
{
"cell_type" : "code",
"execution_count": null,
"metadata" : {
    "collapsed" : false
},
"source" : ["  flag => true"],
"outputs": []
}
,
{
"cell_type" : "code",
"execution_count": null,
"metadata" : {
    "collapsed" : false
},
"source" : ["  error \"series do not agree to specified order\""],
"outputs": []
}
,
{
"cell_type" : "code",
"execution_count": null,
"metadata" : {
    "collapsed" : false
},
"source" : ["bernoulliPolynomial(n) =="],
"outputs": []
}
,
{
"cell_type" : "code",
"execution_count": null,
"metadata" : {
    "collapsed" : false
},
"source" : ["  -- returns the nth Bernoulli polynomial as an EXPR INT"],
"outputs": []
}
,
{
"cell_type" : "code",
"execution_count": null,
"metadata" : {
    "collapsed" : false
},
"source" : ["  sup := bernoulli(n)$(PNTHEORY)"],
"outputs": []
}
,
{
"cell_type" : "code",
"execution_count": null,
"metadata" : {
    "collapsed" : false
},
"source" : ["  p : POLY FRAC INT := multivariate(sup,'x)"],
"outputs": []
}
,
{
"cell_type" : "code",
"execution_count": null,
"metadata" : {
    "collapsed" : false
},
"source" : ["  p :: (EXPR INT)"],
"outputs": []
}
,
{
"cell_type" : "code",
"execution_count": null,
"metadata" : {
    "collapsed" : false
},
"source" : ["eulerPolynomial(n) =="],
"outputs": []
}
,
{
"cell_type" : "code",
"execution_count": null,
"metadata" : {
    "collapsed" : false
},
"source" : ["  -- returns the nth Euler polynomial as an EXPR INT"],
"outputs": []
}
,
{
"cell_type" : "code",
"execution_count": null,
"metadata" : {
    "collapsed" : false
},
"source" : ["  sup := euler(n)$(PNTHEORY)"],
"outputs": []
}
,
{
"cell_type" : "code",
"execution_count": null,
"metadata" : {
    "collapsed" : false
},
"source" : ["  p : POLY FRAC INT := multivariate(sup,'x)"],
"outputs": []
}
,
{
"cell_type" : "code",
"execution_count": null,
"metadata" : {
    "collapsed" : false
},
"source" : ["  p :: (EXPR INT)"],
"outputs": []
}
,
{
"cell_type" : "code",
"execution_count": null,
"metadata" : {
    "collapsed" : false
},
"source" : ["f1 := taylor(t/(1 - t - t^2))"],
"outputs": []
}
,
{
"cell_type" : "code",
"execution_count": null,
"metadata" : {
    "collapsed" : false
},
"source" : ["f2 := taylor(n +-> fibonacci(n),t = 0)"],
"outputs": []
}
,
{
"cell_type" : "code",
"execution_count": null,
"metadata" : {
    "collapsed" : false
},
"source" : ["approximateEquality(f1,f2)"],
"outputs": []
}
,
{
"cell_type" : "code",
"execution_count": null,
"metadata" : {
    "collapsed" : false
},
"source" : ["g1 := taylor(t/(exp(t) - 1))"],
"outputs": []
}
,
{
"cell_type" : "code",
"execution_count": null,
"metadata" : {
    "collapsed" : false
},
"source" : ["g2 := taylor(n +-> bernoulli(n)/factorial(n),t = 0)"],
"outputs": []
}
,
{
"cell_type" : "code",
"execution_count": null,
"metadata" : {
    "collapsed" : false
},
"source" : ["approximateEquality(g1,g2)"],
"outputs": []
}
,
{
"cell_type" : "code",
"execution_count": null,
"metadata" : {
    "collapsed" : false
},
"source" : ["gg1 := taylor(t*exp(t*x)/(exp(t) - 1),t = 0)"],
"outputs": []
}
,
{
"cell_type" : "code",
"execution_count": null,
"metadata" : {
    "collapsed" : false
},
"source" : ["gg2 := taylor(n +-> bernoulliPolynomial(n)/factorial(n),t = 0)"],
"outputs": []
}
,
{
"cell_type" : "code",
"execution_count": null,
"metadata" : {
    "collapsed" : false
},
"source" : ["approximateEquality(gg1,gg2)"],
"outputs": []
}
,
{
"cell_type" : "code",
"execution_count": null,
"metadata" : {
    "collapsed" : false
},
"source" : ["h1 := taylor(2*exp(t/2)/(exp(t) + 1))"],
"outputs": []
}
,
{
"cell_type" : "code",
"execution_count": null,
"metadata" : {
    "collapsed" : false
},
"source" : ["h2 := taylor(n +-> euler(n)/(2^n * factorial(n)),t = 0)"],
"outputs": []
}
,
{
"cell_type" : "code",
"execution_count": null,
"metadata" : {
    "collapsed" : false
},
"source" : ["approximateEquality(h1,h2)"],
"outputs": []
}
,
{
"cell_type" : "code",
"execution_count": null,
"metadata" : {
    "collapsed" : false
},
"source" : ["hh1 := taylor(2*exp(t*x)/(exp(t) + 1),t = 0)"],
"outputs": []
}
,
{
"cell_type" : "code",
"execution_count": null,
"metadata" : {
    "collapsed" : false
},
"source" : ["hh2 := taylor(n +-> eulerPolynomial(n)/factorial(n),t = 0)"],
"outputs": []
}
,
{
"cell_type" : "code",
"execution_count": null,
"metadata" : {
    "collapsed" : false
},
"source" : ["approximateEquality(hh1,hh2)"],
"outputs": []
}
,
{
"cell_type" : "code",
"execution_count": null,
"metadata" : {
    "collapsed" : false
},
"source" : [""],
"outputs": []
}
 ],
"metadata": {
 "kernelspec": {
  "display_name": "FriCAS",
  "language": "spad",
  "name": "ifricas"
 },
 "language_info": {
  "codemirror_mode": "spad",
  "mimetype": "text/x-spad",
  "name": "SPAD",
  "pygments_lexer": "spad",
  "version": "1.2.6"
 },
 "name": "psgenfcn.ipynb"
},
"nbformat": 4,
"nbformat_minor": 0
}
