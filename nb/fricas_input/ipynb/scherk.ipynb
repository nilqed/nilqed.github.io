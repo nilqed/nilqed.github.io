{
 "cells": [
{
"cell_type" : "markdown",
"metadata" : {},
"source" : ["Copyright The Numerical Algorithms Group Limited 1994."]
}
,
{
"cell_type" : "markdown",
"metadata" : {},
"source" : [" Scherk's minimal surface."]
}
,
{
"cell_type" : "markdown",
"metadata" : {},
"source" : [" Defined by:"]
}
,
{
"cell_type" : "markdown",
"metadata" : {},
"source" : ["    exp(z) * cos(x) = cos(y)"]
}
,
{
"cell_type" : "markdown",
"metadata" : {},
"source" : [" See: A comprehensive Introduction to Differential Geometry, Vol. 3,"]
}
,
{
"cell_type" : "markdown",
"metadata" : {},
"source" : ["  by Michael Spivak, Publish Or Persih, Berkeley, 1979, pp 249-252."]
}
,
{
"cell_type" : "markdown",
"metadata" : {},
"source" : [" Off set for a single piece of Scherk's minimal surface"]
}
,
{
"cell_type" : "code",
"execution_count": null,
"metadata" : {
    "collapsed" : false
},
"source" : ["(xOffset, yOffset):DoubleFloat"],
"outputs": []
}
,
{
"cell_type" : "markdown",
"metadata" : {},
"source" : [" DrawScherk's minimal surface on an m by n patch."]
}
,
{
"cell_type" : "code",
"execution_count": null,
"metadata" : {
    "collapsed" : false
},
"source" : ["drawScherk(m,n) =="],
"outputs": []
}
,
{
"cell_type" : "code",
"execution_count": null,
"metadata" : {
    "collapsed" : false
},
"source" : ["  free xOffset, yOffset"],
"outputs": []
}
,
{
"cell_type" : "code",
"execution_count": null,
"metadata" : {
    "collapsed" : false
},
"source" : ["  space := create3Space()$ThreeSpace(DoubleFloat)"],
"outputs": []
}
,
{
"cell_type" : "code",
"execution_count": null,
"metadata" : {
    "collapsed" : false
},
"source" : ["  for i in 0..m-1 repeat"],
"outputs": []
}
,
{
"cell_type" : "code",
"execution_count": null,
"metadata" : {
    "collapsed" : false
},
"source" : ["    xOffset := i*%pi"],
"outputs": []
}
,
{
"cell_type" : "code",
"execution_count": null,
"metadata" : {
    "collapsed" : false
},
"source" : ["    for j in 0 .. n-1 repeat"],
"outputs": []
}
,
{
"cell_type" : "code",
"execution_count": null,
"metadata" : {
    "collapsed" : false
},
"source" : ["      rem(i+j, 2) = 0 => 'iter"],
"outputs": []
}
,
{
"cell_type" : "code",
"execution_count": null,
"metadata" : {
    "collapsed" : false
},
"source" : ["      yOffset := j*%pi"],
"outputs": []
}
,
{
"cell_type" : "code",
"execution_count": null,
"metadata" : {
    "collapsed" : false
},
"source" : ["      drawOneScherk(space)"],
"outputs": []
}
,
{
"cell_type" : "code",
"execution_count": null,
"metadata" : {
    "collapsed" : false
},
"source" : ["  makeViewport3D(space, \"Scherk's Minimal Surface\")"],
"outputs": []
}
,
{
"cell_type" : "markdown",
"metadata" : {},
"source" : [" The four patches which make up a single piece of Scherk's minimal surface."]
}
,
{
"cell_type" : "code",
"execution_count": null,
"metadata" : {
    "collapsed" : false
},
"source" : ["scherk1(u,v) =="],
"outputs": []
}
,
{
"cell_type" : "code",
"execution_count": null,
"metadata" : {
    "collapsed" : false
},
"source" : ["  x := cos(u)/exp(v)"],
"outputs": []
}
,
{
"cell_type" : "code",
"execution_count": null,
"metadata" : {
    "collapsed" : false
},
"source" : ["  point [xOffset + acos(x), yOffset + u, v, abs(v)]"],
"outputs": []
}
,
{
"cell_type" : "code",
"execution_count": null,
"metadata" : {
    "collapsed" : false
},
"source" : ["scherk2(u,v) =="],
"outputs": []
}
,
{
"cell_type" : "code",
"execution_count": null,
"metadata" : {
    "collapsed" : false
},
"source" : ["  x := cos(u)/exp(v)"],
"outputs": []
}
,
{
"cell_type" : "code",
"execution_count": null,
"metadata" : {
    "collapsed" : false
},
"source" : ["  point [xOffset - acos(x), yOffset + u, v, abs(v)]"],
"outputs": []
}
,
{
"cell_type" : "code",
"execution_count": null,
"metadata" : {
    "collapsed" : false
},
"source" : ["scherk3(u,v) =="],
"outputs": []
}
,
{
"cell_type" : "code",
"execution_count": null,
"metadata" : {
    "collapsed" : false
},
"source" : ["  x := exp(v) * cos(u)"],
"outputs": []
}
,
{
"cell_type" : "code",
"execution_count": null,
"metadata" : {
    "collapsed" : false
},
"source" : ["  point [xOffset + u, yOffset + acos(x), v, abs(v)]"],
"outputs": []
}
,
{
"cell_type" : "code",
"execution_count": null,
"metadata" : {
    "collapsed" : false
},
"source" : ["scherk4(u,v) =="],
"outputs": []
}
,
{
"cell_type" : "code",
"execution_count": null,
"metadata" : {
    "collapsed" : false
},
"source" : ["  x := exp(v) * cos(u)"],
"outputs": []
}
,
{
"cell_type" : "code",
"execution_count": null,
"metadata" : {
    "collapsed" : false
},
"source" : ["  point [xOffset + u, yOffset - acos(x), v, abs(v)]"],
"outputs": []
}
,
{
"cell_type" : "markdown",
"metadata" : {},
"source" : [" We draw the surface by breaking it into 4 patches, and drawing them"]
}
,
{
"cell_type" : "markdown",
"metadata" : {},
"source" : [" into a single space."]
}
,
{
"cell_type" : "code",
"execution_count": null,
"metadata" : {
    "collapsed" : false
},
"source" : ["drawOneScherk(s) =="],
"outputs": []
}
,
{
"cell_type" : "code",
"execution_count": null,
"metadata" : {
    "collapsed" : false
},
"source" : ["  makeObject(scherk1, -%pi/2..%pi/2, 0..%pi/2,  space == s, _\n             var1Steps == 28, var2Steps == 28)\n"],
"outputs": []
}
,
{
"cell_type" : "code",
"execution_count": null,
"metadata" : {
    "collapsed" : false
},
"source" : ["  makeObject(scherk2, -%pi/2..%pi/2, 0..%pi/2,  space == s, _\n             var1Steps == 28, var2Steps == 28)\n"],
"outputs": []
}
,
{
"cell_type" : "code",
"execution_count": null,
"metadata" : {
    "collapsed" : false
},
"source" : ["  makeObject(scherk3, -%pi/2..%pi/2, -%pi/2..0, space == s, _\n             var1Steps == 28, var2Steps == 28)\n"],
"outputs": []
}
,
{
"cell_type" : "code",
"execution_count": null,
"metadata" : {
    "collapsed" : false
},
"source" : ["  makeObject(scherk4, -%pi/2..%pi/2, -%pi/2..0, space == s, _\n             var1Steps == 28, var2Steps == 28)\n"],
"outputs": []
}
,
{
"cell_type" : "code",
"execution_count": null,
"metadata" : {
    "collapsed" : false
},
"source" : ["  void()"],
"outputs": []
}
,
{
"cell_type" : "code",
"execution_count": null,
"metadata" : {
    "collapsed" : false
},
"source" : [""],
"outputs": []
}
 ],
"metadata": {
 "kernelspec": {
  "display_name": "FriCAS",
  "language": "spad",
  "name": "ifricas"
 },
 "language_info": {
  "codemirror_mode": "spad",
  "mimetype": "text/x-spad",
  "name": "SPAD",
  "pygments_lexer": "spad",
  "version": "1.2.6"
 },
 "name": "scherk.ipynb"
},
"nbformat": 4,
"nbformat_minor": 0
}
