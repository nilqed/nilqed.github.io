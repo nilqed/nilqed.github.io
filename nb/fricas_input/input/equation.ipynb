{
 "cells": [
{
"cell_type" : "markdown",
"metadata" : {},
"source" : ["Copyright The Numerical Algorithms Group Limited 1996."]
}
,
{
"cell_type" : "markdown",
"metadata" : {},
"source" : [""]
}
,
{
"cell_type" : "markdown",
"metadata" : {},
"source" : ["To ease the use of equation (more user friendly applications)"]
}
,
{
"cell_type" : "markdown",
"metadata" : {},
"source" : ["I have enhanced the datatype Equation to have more"]
}
,
{
"cell_type" : "markdown",
"metadata" : {},
"source" : ["mathematical richness."]
}
,
{
"cell_type" : "markdown",
"metadata" : {},
"source" : [""]
}
,
{
"cell_type" : "markdown",
"metadata" : {},
"source" : ["First of all now you can embed s from S to Equation S"]
}
,
{
"cell_type" : "markdown",
"metadata" : {},
"source" : ["as s = s."]
}
,
{
"cell_type" : "markdown",
"metadata" : {},
"source" : ["This allows to easily manipulate equations bring terms"]
}
,
{
"cell_type" : "markdown",
"metadata" : {},
"source" : ["from one side to the other by simply adding or multiplying"]
}
,
{
"cell_type" : "markdown",
"metadata" : {},
"source" : ["or ... provided, that the equation domain inherits the"]
}
,
{
"cell_type" : "markdown",
"metadata" : {},
"source" : ["structure of the underlying S."]
}
,
{
"cell_type" : "markdown",
"metadata" : {},
"source" : [""]
}
,
{
"cell_type" : "markdown",
"metadata" : {},
"source" : ["So I went through the code saying"]
}
,
{
"cell_type" : "markdown",
"metadata" : {},
"source" : [""]
}
,
{
"cell_type" : "markdown",
"metadata" : {},
"source" : ["If S has BlaBla then BlaBla"]
}
,
{
"cell_type" : "markdown",
"metadata" : {},
"source" : [""]
}
,
{
"cell_type" : "markdown",
"metadata" : {},
"source" : ["for the most important structures, please suggest others"]
}
,
{
"cell_type" : "markdown",
"metadata" : {},
"source" : ["if necessary, Steve, do we have a more general method in"]
}
,
{
"cell_type" : "markdown",
"metadata" : {},
"source" : ["the new compiler rather than repeating all these"]
}
,
{
"cell_type" : "markdown",
"metadata" : {},
"source" : ["definitions as"]
}
,
{
"cell_type" : "markdown",
"metadata" : {},
"source" : [""]
}
,
{
"cell_type" : "markdown",
"metadata" : {},
"source" : ["inv(eq) == inv lhs eq = inv rhs eq"]
}
,
{
"cell_type" : "markdown",
"metadata" : {},
"source" : [""]
}
,
{
"cell_type" : "markdown",
"metadata" : {},
"source" : ["??"]
}
,
{
"cell_type" : "markdown",
"metadata" : {},
"source" : [""]
}
,
{
"cell_type" : "markdown",
"metadata" : {},
"source" : [""]
}
,
{
"cell_type" : "markdown",
"metadata" : {},
"source" : ["Furthermore, we have function to put 0 or 1 on one side"]
}
,
{
"cell_type" : "markdown",
"metadata" : {},
"source" : ["and factor the left hand side, after the right hand side"]
}
,
{
"cell_type" : "markdown",
"metadata" : {},
"source" : ["is 0 and we have an IntegralDomain."]
}
,
{
"cell_type" : "markdown",
"metadata" : {},
"source" : [""]
}
,
{
"cell_type" : "markdown",
"metadata" : {},
"source" : ["Please comment and test."]
}
,
{
"cell_type" : "markdown",
"metadata" : {},
"source" : [""]
}
,
{
"cell_type" : "markdown",
"metadata" : {},
"source" : ["Johannes"]
}
,
{
"cell_type" : "code",
"execution_count": null,
"metadata" : {
    "collapsed" : false
},
"source" : ["eq1 := (-6*x^3+13*x^2+4)=(-x^4+12*x)"],
"outputs": []
}
,
{
"cell_type" : "markdown",
"metadata" : {},
"source" : [""]
}
,
{
"cell_type" : "markdown",
"metadata" : {},
"source" : [""]
}
,
{
"cell_type" : "markdown",
"metadata" : {},
"source" : ["            3      2         4"]
}
,
{
"cell_type" : "markdown",
"metadata" : {},
"source" : ["   (1)  - 6x  + 13x  + 4= - x  + 12x"]
}
,
{
"cell_type" : "markdown",
"metadata" : {},
"source" : ["                                            Type: Equation Polynomial Integer"]
}
,
{
"cell_type" : "markdown",
"metadata" : {},
"source" : ["                                       Time: 1.61 (IN) + 1.47 (OT) = 3.08 sec"]
}
,
{
"cell_type" : "code",
"execution_count": null,
"metadata" : {
    "collapsed" : false
},
"source" : ["eq2 := x^4+13*x^2-12*x = 6*x^3-4"],
"outputs": []
}
,
{
"cell_type" : "markdown",
"metadata" : {},
"source" : [""]
}
,
{
"cell_type" : "markdown",
"metadata" : {},
"source" : [""]
}
,
{
"cell_type" : "markdown",
"metadata" : {},
"source" : ["         4      2          3"]
}
,
{
"cell_type" : "markdown",
"metadata" : {},
"source" : ["   (2)  x  + 13x  - 12x= 6x  - 4"]
}
,
{
"cell_type" : "markdown",
"metadata" : {},
"source" : ["                                            Type: Equation Polynomial Integer"]
}
,
{
"cell_type" : "markdown",
"metadata" : {},
"source" : ["                                       Time: 0.16 (IN) + 0.11 (OT) = 0.27 sec"]
}
,
{
"cell_type" : "code",
"execution_count": null,
"metadata" : {
    "collapsed" : false
},
"source" : ["eq := eq1*y^2+eq2"],
"outputs": []
}
,
{
"cell_type" : "markdown",
"metadata" : {},
"source" : [""]
}
,
{
"cell_type" : "markdown",
"metadata" : {},
"source" : [""]
}
,
{
"cell_type" : "markdown",
"metadata" : {},
"source" : ["             3      2      2    4      2            4        2     3"]
}
,
{
"cell_type" : "markdown",
"metadata" : {},
"source" : ["   (3)  (- 6x  + 13x  + 4)y  + x  + 13x  - 12x= (- x  + 12x)y  + 6x  - 4"]
}
,
{
"cell_type" : "markdown",
"metadata" : {},
"source" : ["                                            Type: Equation Polynomial Integer"]
}
,
{
"cell_type" : "markdown",
"metadata" : {},
"source" : ["               Time: 0.26 (IN) + 0.01 (EV) + 0.01 (OT) + 1.54 (GC) = 1.82 sec"]
}
,
{
"cell_type" : "code",
"execution_count": null,
"metadata" : {
    "collapsed" : false
},
"source" : ["swap %"],
"outputs": []
}
,
{
"cell_type" : "markdown",
"metadata" : {},
"source" : [""]
}
,
{
"cell_type" : "markdown",
"metadata" : {},
"source" : [""]
}
,
{
"cell_type" : "markdown",
"metadata" : {},
"source" : ["            4        2     3           3      2      2    4      2"]
}
,
{
"cell_type" : "markdown",
"metadata" : {},
"source" : ["   (4)  (- x  + 12x)y  + 6x  - 4= (- 6x  + 13x  + 4)y  + x  + 13x  - 12x"]
}
,
{
"cell_type" : "markdown",
"metadata" : {},
"source" : ["                                            Type: Equation Polynomial Integer"]
}
,
{
"cell_type" : "markdown",
"metadata" : {},
"source" : ["                                                   Time: 0.07 (OT) = 0.07 sec"]
}
,
{
"cell_type" : "code",
"execution_count": null,
"metadata" : {
    "collapsed" : false
},
"source" : ["% + 4"],
"outputs": []
}
,
{
"cell_type" : "markdown",
"metadata" : {},
"source" : [""]
}
,
{
"cell_type" : "markdown",
"metadata" : {},
"source" : [""]
}
,
{
"cell_type" : "markdown",
"metadata" : {},
"source" : ["            4        2     3       3      2      2    4      2"]
}
,
{
"cell_type" : "markdown",
"metadata" : {},
"source" : ["   (5)  (- x  + 12x)y  + 6x = (- 6x  + 13x  + 4)y  + x  + 13x  - 12x + 4"]
}
,
{
"cell_type" : "markdown",
"metadata" : {},
"source" : ["                                            Type: Equation Polynomial Integer"]
}
,
{
"cell_type" : "markdown",
"metadata" : {},
"source" : ["                                       Time: 0.69 (IN) + 0.01 (OT) = 0.70 sec"]
}
,
{
"cell_type" : "code",
"execution_count": null,
"metadata" : {
    "collapsed" : false
},
"source" : ["%-6*x^3"],
"outputs": []
}
,
{
"cell_type" : "markdown",
"metadata" : {},
"source" : [""]
}
,
{
"cell_type" : "markdown",
"metadata" : {},
"source" : [""]
}
,
{
"cell_type" : "markdown",
"metadata" : {},
"source" : ["            4        2       3      2      2    4     3      2"]
}
,
{
"cell_type" : "markdown",
"metadata" : {},
"source" : ["   (6)  (- x  + 12x)y = (- 6x  + 13x  + 4)y  + x  - 6x  + 13x  - 12x + 4"]
}
,
{
"cell_type" : "markdown",
"metadata" : {},
"source" : ["                                            Type: Equation Polynomial Integer"]
}
,
{
"cell_type" : "markdown",
"metadata" : {},
"source" : ["                                       Time: 0.19 (IN) + 0.01 (OT) = 0.20 sec"]
}
,
{
"cell_type" : "code",
"execution_count": null,
"metadata" : {
    "collapsed" : false
},
"source" : ["leftZero %"],
"outputs": []
}
,
{
"cell_type" : "markdown",
"metadata" : {},
"source" : [""]
}
,
{
"cell_type" : "markdown",
"metadata" : {},
"source" : [""]
}
,
{
"cell_type" : "markdown",
"metadata" : {},
"source" : ["             4     3      2            2    4     3      2"]
}
,
{
"cell_type" : "markdown",
"metadata" : {},
"source" : ["   (7)  0= (x  - 6x  + 13x  - 12x + 4)y  + x  - 6x  + 13x  - 12x + 4"]
}
,
{
"cell_type" : "markdown",
"metadata" : {},
"source" : ["                                            Type: Equation Polynomial Integer"]
}
,
{
"cell_type" : "markdown",
"metadata" : {},
"source" : ["                                       Time: 0.01 (IN) + 0.05 (OT) = 0.06 sec"]
}
,
{
"cell_type" : "code",
"execution_count": null,
"metadata" : {
    "collapsed" : false
},
"source" : ["swap %"],
"outputs": []
}
,
{
"cell_type" : "markdown",
"metadata" : {},
"source" : [""]
}
,
{
"cell_type" : "markdown",
"metadata" : {},
"source" : [""]
}
,
{
"cell_type" : "markdown",
"metadata" : {},
"source" : ["          4     3      2            2    4     3      2"]
}
,
{
"cell_type" : "markdown",
"metadata" : {},
"source" : ["   (8)  (x  - 6x  + 13x  - 12x + 4)y  + x  - 6x  + 13x  - 12x + 4= 0"]
}
,
{
"cell_type" : "markdown",
"metadata" : {},
"source" : ["                                            Type: Equation Polynomial Integer"]
}
,
{
"cell_type" : "markdown",
"metadata" : {},
"source" : ["                                                   Time: 0.01 (IN) = 0.01 sec"]
}
,
{
"cell_type" : "code",
"execution_count": null,
"metadata" : {
    "collapsed" : false
},
"source" : ["factor lhs %"],
"outputs": []
}
,
{
"cell_type" : "markdown",
"metadata" : {},
"source" : [""]
}
,
{
"cell_type" : "markdown",
"metadata" : {},
"source" : [""]
}
,
{
"cell_type" : "markdown",
"metadata" : {},
"source" : ["               2       2  2"]
}
,
{
"cell_type" : "markdown",
"metadata" : {},
"source" : ["   (9)  (x - 2) (x - 1) (y  + 1)"]
}
,
{
"cell_type" : "markdown",
"metadata" : {},
"source" : ["                                            Type: Factored Polynomial Integer"]
}
,
{
"cell_type" : "markdown",
"metadata" : {},
"source" : ["                           Time: 0.50 (IN) + 0.09 (EV) + 0.30 (OT) = 0.89 sec"]
}
,
{
"cell_type" : "code",
"execution_count": null,
"metadata" : {
    "collapsed" : false
},
"source" : ["factorAndSplit eq"],
"outputs": []
}
,
{
"cell_type" : "markdown",
"metadata" : {},
"source" : [""]
}
,
{
"cell_type" : "markdown",
"metadata" : {},
"source" : [""]
}
,
{
"cell_type" : "markdown",
"metadata" : {},
"source" : ["                             2"]
}
,
{
"cell_type" : "markdown",
"metadata" : {},
"source" : ["   (10)  [x - 2= 0,x - 1= 0,y  + 1= 0]"]
}
,
{
"cell_type" : "markdown",
"metadata" : {},
"source" : ["                                       Type: List Equation Polynomial Integer"]
}
,
{
"cell_type" : "markdown",
"metadata" : {},
"source" : ["                                       Time: 0.09 (EV) + 0.21 (OT) = 0.30 sec"]
}
,
{
"cell_type" : "code",
"execution_count": null,
"metadata" : {
    "collapsed" : false
},
"source" : ["inv (eq :: EQ FRAC POLY INT)"],
"outputs": []
}
,
{
"cell_type" : "markdown",
"metadata" : {},
"source" : [""]
}
,
{
"cell_type" : "markdown",
"metadata" : {},
"source" : [""]
}
,
{
"cell_type" : "markdown",
"metadata" : {},
"source" : ["                            1                                1"]
}
,
{
"cell_type" : "markdown",
"metadata" : {},
"source" : ["   (11)  - ------------------------------------= - ----------------------"]
}
,
{
"cell_type" : "markdown",
"metadata" : {},
"source" : ["              3      2      2    4      2            4        2     3"]
}
,
{
"cell_type" : "markdown",
"metadata" : {},
"source" : ["           (6x  - 13x  - 4)y  - x  - 13x  + 12x    (x  - 12x)y  - 6x  + 4"]
}
,
{
"cell_type" : "markdown",
"metadata" : {},
"source" : ["                                   Type: Equation Fraction Polynomial Integer"]
}
,
{
"cell_type" : "markdown",
"metadata" : {},
"source" : ["                                                   Time: 0.03 (IN) = 0.03 sec"]
}
,
{
"cell_type" : "code",
"execution_count": null,
"metadata" : {
    "collapsed" : false
},
"source" : ["- %"],
"outputs": []
}
,
{
"cell_type" : "markdown",
"metadata" : {},
"source" : [""]
}
,
{
"cell_type" : "markdown",
"metadata" : {},
"source" : [""]
}
,
{
"cell_type" : "markdown",
"metadata" : {},
"source" : ["                          1                              1"]
}
,
{
"cell_type" : "markdown",
"metadata" : {},
"source" : ["   (12)  ------------------------------------= ----------------------"]
}
,
{
"cell_type" : "markdown",
"metadata" : {},
"source" : ["            3      2      2    4      2          4        2     3"]
}
,
{
"cell_type" : "markdown",
"metadata" : {},
"source" : ["         (6x  - 13x  - 4)y  - x  - 13x  + 12x  (x  - 12x)y  - 6x  + 4"]
}
,
{
"cell_type" : "markdown",
"metadata" : {},
"source" : ["                                   Type: Equation Fraction Polynomial Integer"]
}
,
{
"cell_type" : "markdown",
"metadata" : {},
"source" : ["                                       Time: 0.01 (IN) + 0.01 (OT) = 0.02 sec"]
}
,
{
"cell_type" : "markdown",
"metadata" : {},
"source" : [""]
}
,
{
"cell_type" : "markdown",
"metadata" : {},
"source" : [""]
}
,
{
"cell_type" : "code",
"execution_count": null,
"metadata" : {
    "collapsed" : false
},
"source" : [""],
"outputs": []
}
 ],
"metadata": {
 "kernelspec": {
  "display_name": "FriCAS",
  "language": "spad",
  "name": "ifricas"
 },
 "language_info": {
  "codemirror_mode": "spad",
  "mimetype": "text/x-spad",
  "name": "SPAD",
  "pygments_lexer": "spad",
  "version": "1.2.6"
 },
 "name": "equation.ipynb"
},
"nbformat": 4,
"nbformat_minor": 0
}
