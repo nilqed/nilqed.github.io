{
 "cells": [
{
"cell_type" : "markdown",
"metadata" : {},
"source" : ["Copyright The Numerical Algorithms Group Limited 1991-94."]
}
,
{
"cell_type" : "markdown",
"metadata" : {},
"source" : [" This file contains the standard system defined system command"]
}
,
{
"cell_type" : "markdown",
"metadata" : {},
"source" : [" synonyms for the Axiom system. It is normally read into"]
}
,
{
"cell_type" : "markdown",
"metadata" : {},
"source" : [" the system by adding the line"]
}
,
{
"cell_type" : "markdown",
"metadata" : {},
"source" : ["         )read synonym input )ifthere )quiet"]
}
,
{
"cell_type" : "markdown",
"metadata" : {},
"source" : [" to the start-up profile axiom.input."]
}
,
{
"cell_type" : "markdown",
"metadata" : {},
"source" : [" If you wish to have a private list of synonyms, it is suggested"]
}
,
{
"cell_type" : "markdown",
"metadata" : {},
"source" : [" that you create a file mysyns.input."]
}
,
{
"cell_type" : "markdown",
"metadata" : {},
"source" : [" This will also automatically be read into the system by the start-up"]
}
,
{
"cell_type" : "markdown",
"metadata" : {},
"source" : [" profile by the line"]
}
,
{
"cell_type" : "markdown",
"metadata" : {},
"source" : ["         )read mysyns input )ifthere )quiet"]
}
,
{
"cell_type" : "markdown",
"metadata" : {},
"source" : [" The following synonyms are redefined in the system"]
}
,
{
"cell_type" : "markdown",
"metadata" : {},
"source" : [" )synonym  ?            what commands"]
}
,
{
"cell_type" : "markdown",
"metadata" : {},
"source" : [" )synonym  ap           what things"]
}
,
{
"cell_type" : "markdown",
"metadata" : {},
"source" : [" )synonym  apr          what things"]
}
,
{
"cell_type" : "markdown",
"metadata" : {},
"source" : [" )synonym  apropos      what things"]
}
,
{
"cell_type" : "markdown",
"metadata" : {},
"source" : [" )synonym  cache        set functions cache"]
}
,
{
"cell_type" : "markdown",
"metadata" : {},
"source" : [" )synonym  cl           clear"]
}
,
{
"cell_type" : "markdown",
"metadata" : {},
"source" : [" )synonym  cls          zsystemdevelopment )cls"]
}
,
{
"cell_type" : "markdown",
"metadata" : {},
"source" : [" )synonym  cms          system"]
}
,
{
"cell_type" : "markdown",
"metadata" : {},
"source" : [" )synonym  co           compiler"]
}
,
{
"cell_type" : "markdown",
"metadata" : {},
"source" : [" )synonym  d            display"]
}
,
{
"cell_type" : "markdown",
"metadata" : {},
"source" : [" )synonym  dep          display dependents"]
}
,
{
"cell_type" : "markdown",
"metadata" : {},
"source" : [" )synonym  dependents   display dependents"]
}
,
{
"cell_type" : "markdown",
"metadata" : {},
"source" : [" )synonym  disc         system cp disc"]
}
,
{
"cell_type" : "markdown",
"metadata" : {},
"source" : [" )synonym  e            edit"]
}
,
{
"cell_type" : "markdown",
"metadata" : {},
"source" : [" )synonym  expose       set expose add constructor"]
}
,
{
"cell_type" : "markdown",
"metadata" : {},
"source" : [" )synonym  fc           zsystemdevelopment )c"]
}
,
{
"cell_type" : "markdown",
"metadata" : {},
"source" : [" )synonym  fd           zsystemdevelopment )d"]
}
,
{
"cell_type" : "markdown",
"metadata" : {},
"source" : [" )synonym  fct          zsystemdevelopment )ct"]
}
,
{
"cell_type" : "markdown",
"metadata" : {},
"source" : [" )synonym  fctl         zsystemdevelopment )ctl"]
}
,
{
"cell_type" : "markdown",
"metadata" : {},
"source" : [" )synonym  fe           zsystemdevelopment )e"]
}
,
{
"cell_type" : "markdown",
"metadata" : {},
"source" : [" )synonym  fec          zsystemdevelopment )ec"]
}
,
{
"cell_type" : "markdown",
"metadata" : {},
"source" : [" )synonym  fect         zsystemdevelopment )ect"]
}
,
{
"cell_type" : "markdown",
"metadata" : {},
"source" : [" )synonym  fns          exec spadfn"]
}
,
{
"cell_type" : "markdown",
"metadata" : {},
"source" : [" )synonym  fortran      set output fortran"]
}
,
{
"cell_type" : "markdown",
"metadata" : {},
"source" : [" )synonym  h            help"]
}
,
{
"cell_type" : "markdown",
"metadata" : {},
"source" : [" )synonym  hd           system hypertex &"]
}
,
{
"cell_type" : "markdown",
"metadata" : {},
"source" : [" )synonym  kclam        boot clearClams ( )"]
}
,
{
"cell_type" : "markdown",
"metadata" : {},
"source" : [" )synonym  killcaches   boot clearConstructorAndLisplibCaches ( )"]
}
,
{
"cell_type" : "markdown",
"metadata" : {},
"source" : [" )synonym  patch        zsystemdevelopment )patch"]
}
,
{
"cell_type" : "markdown",
"metadata" : {},
"source" : [" )synonym  pause        zsystemdevelopment )pause"]
}
,
{
"cell_type" : "markdown",
"metadata" : {},
"source" : [" )synonym  prompt       set message prompt"]
}
,
{
"cell_type" : "markdown",
"metadata" : {},
"source" : [" )synonym  recurrence   set functions recurrence"]
}
,
{
"cell_type" : "markdown",
"metadata" : {},
"source" : [" )synonym  restore      history )restore"]
}
,
{
"cell_type" : "markdown",
"metadata" : {},
"source" : [" )synonym  save         history )save"]
}
,
{
"cell_type" : "markdown",
"metadata" : {},
"source" : [" )synonym  time         set message time"]
}
,
{
"cell_type" : "markdown",
"metadata" : {},
"source" : [" )synonym  type         set message type"]
}
,
{
"cell_type" : "markdown",
"metadata" : {},
"source" : [" )synonym  unexpose     set expose drop constructor"]
}
,
{
"cell_type" : "markdown",
"metadata" : {},
"source" : [" )synonym  up           zsystemdevelopment )update"]
}
,
{
"cell_type" : "markdown",
"metadata" : {},
"source" : [" )synonym  version      lisp *yearweek*"]
}
,
{
"cell_type" : "markdown",
"metadata" : {},
"source" : [" )synonym  w            what"]
}
,
{
"cell_type" : "markdown",
"metadata" : {},
"source" : [" )synonym  wc           what categories"]
}
,
{
"cell_type" : "markdown",
"metadata" : {},
"source" : [" )synonym  wd           what domains"]
}
,
{
"cell_type" : "markdown",
"metadata" : {},
"source" : [" )synonym  wp           what packages"]
}
,
{
"cell_type" : "markdown",
"metadata" : {},
"source" : [" )synonym  ws           what synonyms"]
}
,
{
"cell_type" : "code",
"execution_count": null,
"metadata" : {
    "collapsed" : false
},
"source" : [""],
"outputs": []
}
 ],
"metadata": {
 "kernelspec": {
  "display_name": "FriCAS",
  "language": "spad",
  "name": "ifricas"
 },
 "language_info": {
  "codemirror_mode": "spad",
  "mimetype": "text/x-spad",
  "name": "SPAD",
  "pygments_lexer": "spad",
  "version": "1.2.6"
 },
 "name": "synonym.ipynb"
},
"nbformat": 4,
"nbformat_minor": 0
}
