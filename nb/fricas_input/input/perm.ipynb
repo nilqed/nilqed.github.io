{
 "cells": [
{
"cell_type" : "markdown",
"metadata" : {},
"source" : ["Copyright The Numerical Algorithms Group Limited 1991."]
}
,
{
"cell_type" : "code",
"execution_count": null,
"metadata" : {
    "collapsed" : false
},
"source" : [")clear all"],
"outputs": []
}
,
{
"cell_type" : "markdown",
"metadata" : {},
"source" : [" This file demonstrates some of the new routines for permutations"]
}
,
{
"cell_type" : "markdown",
"metadata" : {},
"source" : [" in AXIOM.        ( Last change: 05/16/89   by   HWG )"]
}
,
{
"cell_type" : "markdown",
"metadata" : {},
"source" : ["                  (J. Grabmeier: adjusted to new concept: 08/07/89)"]
}
,
{
"cell_type" : "markdown",
"metadata" : {},
"source" : ["                  (M. Weller   : adjusted to 1..: 03/29/90)"]
}
,
{
"cell_type" : "markdown",
"metadata" : {},
"source" : ["                  (J. Grabmeier : adjusted to new algebra 05/14/90)"]
}
,
{
"cell_type" : "markdown",
"metadata" : {},
"source" : [" Permutations can act on every set, finite or infinite."]
}
,
{
"cell_type" : "markdown",
"metadata" : {},
"source" : [" Usually permutations are given as a product of cycles,"]
}
,
{
"cell_type" : "markdown",
"metadata" : {},
"source" : [" so the following generates a permutation acting on some"]
}
,
{
"cell_type" : "markdown",
"metadata" : {},
"source" : [" elements of GF(29):"]
}
,
{
"cell_type" : "code",
"execution_count": null,
"metadata" : {
    "collapsed" : false
},
"source" : ["x : List List PrimeField 29 :="],
"outputs": []
}
,
{
"cell_type" : "code",
"execution_count": null,
"metadata" : {
    "collapsed" : false
},
"source" : [" [[23,19,7,9,12,11,15],[22,4,14,18,2,5,8],[21,20,10,16,13,6,17]]"],
"outputs": []
}
,
{
"cell_type" : "code",
"execution_count": null,
"metadata" : {
    "collapsed" : false
},
"source" : ["px : PERM PrimeField 29 := x"],
"outputs": []
}
,
{
"cell_type" : "markdown",
"metadata" : {},
"source" : [" If the permutation consists of just one cycle, you can use the"]
}
,
{
"cell_type" : "markdown",
"metadata" : {},
"source" : [" function \"cycle\" instead of \"coerce\":"]
}
,
{
"cell_type" : "code",
"execution_count": null,
"metadata" : {
    "collapsed" : false
},
"source" : ["w : List PrimeField 29 :="],
"outputs": []
}
,
{
"cell_type" : "code",
"execution_count": null,
"metadata" : {
    "collapsed" : false
},
"source" : [" [1,2,3,4,5,6,7,8,9,10,11,12,13,14,15,16,17,18,19,20,21,22,23]"],
"outputs": []
}
,
{
"cell_type" : "code",
"execution_count": null,
"metadata" : {
    "collapsed" : false
},
"source" : ["pw : PERM PrimeField 29 := cycle w"],
"outputs": []
}
,
{
"cell_type" : "markdown",
"metadata" : {},
"source" : [" For a product of cycles there is also the function \"cycles\":"]
}
,
{
"cell_type" : "code",
"execution_count": null,
"metadata" : {
    "collapsed" : false
},
"source" : ["k : List List PrimeField 29 :="],
"outputs": []
}
,
{
"cell_type" : "code",
"execution_count": null,
"metadata" : {
    "collapsed" : false
},
"source" : [" [[23,24],[22,16],[21,9],[20,19],[18,12],[17,14],[15,7],[10,6]]"],
"outputs": []
}
,
{
"cell_type" : "code",
"execution_count": null,
"metadata" : {
    "collapsed" : false
},
"source" : ["pk : PERM PrimeField 29 := cycles k"],
"outputs": []
}
,
{
"cell_type" : "markdown",
"metadata" : {},
"source" : [" Since these permutations generate a group, you can"]
}
,
{
"cell_type" : "markdown",
"metadata" : {},
"source" : [" perform various operations on px, pw and pk."]
}
,
{
"cell_type" : "markdown",
"metadata" : {},
"source" : [" You may have to be careful, because permutations are viewed"]
}
,
{
"cell_type" : "markdown",
"metadata" : {},
"source" : [" as mappings acting on the left, so   (pw*pk)(7) = pw(pk(7))."]
}
,
{
"cell_type" : "markdown",
"metadata" : {},
"source" : [" Here are some examples:"]
}
,
{
"cell_type" : "code",
"execution_count": null,
"metadata" : {
    "collapsed" : false
},
"source" : ["pw*pk"],
"outputs": []
}
,
{
"cell_type" : "code",
"execution_count": null,
"metadata" : {
    "collapsed" : false
},
"source" : ["px^3"],
"outputs": []
}
,
{
"cell_type" : "markdown",
"metadata" : {},
"source" : [" You can ask for inverses:"]
}
,
{
"cell_type" : "code",
"execution_count": null,
"metadata" : {
    "collapsed" : false
},
"source" : ["inv px"],
"outputs": []
}
,
{
"cell_type" : "markdown",
"metadata" : {},
"source" : [" or for the image of some element under a special permutation:"]
}
,
{
"cell_type" : "code",
"execution_count": null,
"metadata" : {
    "collapsed" : false
},
"source" : ["eval(px,17::PrimeField(29))"],
"outputs": []
}
,
{
"cell_type" : "markdown",
"metadata" : {},
"source" : [" you may try to build commutators:"]
}
,
{
"cell_type" : "code",
"execution_count": null,
"metadata" : {
    "collapsed" : false
},
"source" : ["commutator(pk,pw)"],
"outputs": []
}
,
{
"cell_type" : "markdown",
"metadata" : {},
"source" : [" which is the same as inv(pk) * inv(pw) * pk * pw"]
}
,
{
"cell_type" : "markdown",
"metadata" : {},
"source" : [" You can also ask for the orbit of some element under a permutation:"]
}
,
{
"cell_type" : "code",
"execution_count": null,
"metadata" : {
    "collapsed" : false
},
"source" : ["orbit(px,11::PrimeField(29))"],
"outputs": []
}
,
{
"cell_type" : "markdown",
"metadata" : {},
"source" : [" or for the elements of the underlying set, which are permuted"]
}
,
{
"cell_type" : "markdown",
"metadata" : {},
"source" : [" by a given permutation:"]
}
,
{
"cell_type" : "code",
"execution_count": null,
"metadata" : {
    "collapsed" : false
},
"source" : ["movedPoints(pk)"],
"outputs": []
}
,
{
"cell_type" : "markdown",
"metadata" : {},
"source" : [" Now we take a short look on permutation groups."]
}
,
{
"cell_type" : "markdown",
"metadata" : {},
"source" : [" They are represented as a list of generating permutations:"]
}
,
{
"cell_type" : "code",
"execution_count": null,
"metadata" : {
    "collapsed" : false
},
"source" : ["gp1 : PERMGRP PrimeField 29 := [ px , pk ]"],
"outputs": []
}
,
{
"cell_type" : "code",
"execution_count": null,
"metadata" : {
    "collapsed" : false
},
"source" : ["gp2 : PERMGRP PrimeField 29 := [ pw , px ]"],
"outputs": []
}
,
{
"cell_type" : "code",
"execution_count": null,
"metadata" : {
    "collapsed" : false
},
"source" : ["gp3 : PERMGRP PrimeField 29 := [ pw , pk ]"],
"outputs": []
}
,
{
"cell_type" : "markdown",
"metadata" : {},
"source" : [" and we can ask for their orders:"]
}
,
{
"cell_type" : "code",
"execution_count": null,
"metadata" : {
    "collapsed" : false
},
"source" : ["order gp1"],
"outputs": []
}
,
{
"cell_type" : "code",
"execution_count": null,
"metadata" : {
    "collapsed" : false
},
"source" : ["order gp2"],
"outputs": []
}
,
{
"cell_type" : "code",
"execution_count": null,
"metadata" : {
    "collapsed" : false
},
"source" : ["order gp3"],
"outputs": []
}
,
{
"cell_type" : "markdown",
"metadata" : {},
"source" : [" In fact these are the Mathieu-groups M_22, M_23 and M_24."]
}
,
{
"cell_type" : "markdown",
"metadata" : {},
"source" : [" now a more sophisticated example"]
}
,
{
"cell_type" : "markdown",
"metadata" : {},
"source" : [" The following matrices generate the general linear group GL(3,2):"]
}
,
{
"cell_type" : "code",
"execution_count": null,
"metadata" : {
    "collapsed" : false
},
"source" : ["(m1,m2,m3,m4): Matrix PrimeField 2"],
"outputs": []
}
,
{
"cell_type" : "code",
"execution_count": null,
"metadata" : {
    "collapsed" : false
},
"source" : ["m1 := [[1,1,0],[0,1,0],[0,0,1]]"],
"outputs": []
}
,
{
"cell_type" : "code",
"execution_count": null,
"metadata" : {
    "collapsed" : false
},
"source" : ["m2 := [[1,0,0],[0,1,1],[0,0,1]]"],
"outputs": []
}
,
{
"cell_type" : "code",
"execution_count": null,
"metadata" : {
    "collapsed" : false
},
"source" : ["m3 := [[1,0,0],[1,1,0],[0,0,1]]"],
"outputs": []
}
,
{
"cell_type" : "code",
"execution_count": null,
"metadata" : {
    "collapsed" : false
},
"source" : ["m4 := [[1,0,0],[0,1,0],[0,1,1]]"],
"outputs": []
}
,
{
"cell_type" : "markdown",
"metadata" : {},
"source" : [" and these matrices act on the non-zero vectors of the"]
}
,
{
"cell_type" : "markdown",
"metadata" : {},
"source" : [" corresponding vector space"]
}
,
{
"cell_type" : "code",
"execution_count": null,
"metadata" : {
    "collapsed" : false
},
"source" : ["vl : List Vector PrimeField 2"],
"outputs": []
}
,
{
"cell_type" : "code",
"execution_count": null,
"metadata" : {
    "collapsed" : false
},
"source" : ["vl := [[0,0,1],[0,1,0],[0,1,1],[1,0,0],[1,0,1],[1,1,0],[1,1,1]]"],
"outputs": []
}
,
{
"cell_type" : "markdown",
"metadata" : {},
"source" : [" Now we can write down the action of our matrices on this list vl"]
}
,
{
"cell_type" : "markdown",
"metadata" : {},
"source" : [" as a list of pairs"]
}
,
{
"cell_type" : "code",
"execution_count": null,
"metadata" : {
    "collapsed" : false
},
"source" : ["ll1 : List List Vector PrimeField 2 :="],
"outputs": []
}
,
{
"cell_type" : "code",
"execution_count": null,
"metadata" : {
    "collapsed" : false
},
"source" : ["   [ [ vl.i , m1*(vl.i) ] for i in 1..7 ]"],
"outputs": []
}
,
{
"cell_type" : "code",
"execution_count": null,
"metadata" : {
    "collapsed" : false
},
"source" : ["ll2 : List List Vector PrimeField 2 :="],
"outputs": []
}
,
{
"cell_type" : "code",
"execution_count": null,
"metadata" : {
    "collapsed" : false
},
"source" : ["   [ [ vl.i , m2*(vl.i) ] for i in 1..7 ]"],
"outputs": []
}
,
{
"cell_type" : "code",
"execution_count": null,
"metadata" : {
    "collapsed" : false
},
"source" : ["ll3 : List List Vector PrimeField 2 :="],
"outputs": []
}
,
{
"cell_type" : "code",
"execution_count": null,
"metadata" : {
    "collapsed" : false
},
"source" : ["   [ [ vl.i , m3*(vl.i) ] for i in 1..7 ]"],
"outputs": []
}
,
{
"cell_type" : "code",
"execution_count": null,
"metadata" : {
    "collapsed" : false
},
"source" : ["ll4 : List List Vector PrimeField 2 :="],
"outputs": []
}
,
{
"cell_type" : "code",
"execution_count": null,
"metadata" : {
    "collapsed" : false
},
"source" : ["   [ [ vl.i , m4*(vl.i) ] for i in 1..7 ]"],
"outputs": []
}
,
{
"cell_type" : "markdown",
"metadata" : {},
"source" : [" and we can coerce these lists to permutations"]
}
,
{
"cell_type" : "code",
"execution_count": null,
"metadata" : {
    "collapsed" : false
},
"source" : ["el1 : PERM Vector PrimeField 2 := coerceListOfPairs ll1"],
"outputs": []
}
,
{
"cell_type" : "code",
"execution_count": null,
"metadata" : {
    "collapsed" : false
},
"source" : ["el2 : PERM Vector PrimeField 2 := coerceListOfPairs ll2"],
"outputs": []
}
,
{
"cell_type" : "code",
"execution_count": null,
"metadata" : {
    "collapsed" : false
},
"source" : ["el3 : PERM Vector PrimeField 2 := coerceListOfPairs ll3"],
"outputs": []
}
,
{
"cell_type" : "code",
"execution_count": null,
"metadata" : {
    "collapsed" : false
},
"source" : ["el4 : PERM Vector PrimeField 2 := coerceListOfPairs ll4"],
"outputs": []
}
,
{
"cell_type" : "markdown",
"metadata" : {},
"source" : [" Now we can do the same operations as before, e.g."]
}
,
{
"cell_type" : "code",
"execution_count": null,
"metadata" : {
    "collapsed" : false
},
"source" : ["eval ( el3 , vl.5 )"],
"outputs": []
}
,
{
"cell_type" : "code",
"execution_count": null,
"metadata" : {
    "collapsed" : false
},
"source" : ["el2 * el1"],
"outputs": []
}
,
{
"cell_type" : "code",
"execution_count": null,
"metadata" : {
    "collapsed" : false
},
"source" : ["movedPoints el4"],
"outputs": []
}
,
{
"cell_type" : "markdown",
"metadata" : {},
"source" : [" Let's built the general linear group now"]
}
,
{
"cell_type" : "code",
"execution_count": null,
"metadata" : {
    "collapsed" : false
},
"source" : ["gl : PERMGRP Vector PrimeField 2 := [ el1 , el2 , el3 , el4 ]"],
"outputs": []
}
,
{
"cell_type" : "markdown",
"metadata" : {},
"source" : [" and ask for its order"]
}
,
{
"cell_type" : "code",
"execution_count": null,
"metadata" : {
    "collapsed" : false
},
"source" : ["order gl"],
"outputs": []
}
,
{
"cell_type" : "markdown",
"metadata" : {},
"source" : [" We can also ask for the orbit of the unordered set of vectors"]
}
,
{
"cell_type" : "code",
"execution_count": null,
"metadata" : {
    "collapsed" : false
},
"source" : ["setOfVectors : Set Vector PrimeField 2 := brace [ vl.2 , vl.4 , vl.6 ]"],
"outputs": []
}
,
{
"cell_type" : "markdown",
"metadata" : {},
"source" : [" under gl"]
}
,
{
"cell_type" : "code",
"execution_count": null,
"metadata" : {
    "collapsed" : false
},
"source" : ["orbit ( gl, setOfVectors )"],
"outputs": []
}
,
{
"cell_type" : "markdown",
"metadata" : {},
"source" : [" and also for the orbit of the ordered list"]
}
,
{
"cell_type" : "code",
"execution_count": null,
"metadata" : {
    "collapsed" : false
},
"source" : ["listOfVectors : List Vector PrimeField 2 := parts setOfVectors"],
"outputs": []
}
,
{
"cell_type" : "code",
"execution_count": null,
"metadata" : {
    "collapsed" : false
},
"source" : ["orbit ( gl, listOfVectors )"],
"outputs": []
}
,
{
"cell_type" : "markdown",
"metadata" : {},
"source" : [" Now Rubik's cube."]
}
,
{
"cell_type" : "code",
"execution_count": null,
"metadata" : {
    "collapsed" : false
},
"source" : ["f : PERM INT := cycles [[11,13,15,17],[12,14,16,18],[51,31,21,41],[53,33,23,43],_\n             [52,32,22,42]]\n"],
"outputs": []
}
,
{
"cell_type" : "code",
"execution_count": null,
"metadata" : {
    "collapsed" : false
},
"source" : ["r : PERM INT := cycles [[21,23,25,27],[22,24,26,28],[13,37,67,43],[15,31,61,45],_\n             [14,38,68,44]]\n"],
"outputs": []
}
,
{
"cell_type" : "markdown",
"metadata" : {},
"source" : [" Some calculation in Rubik's group:"]
}
,
{
"cell_type" : "code",
"execution_count": null,
"metadata" : {
    "collapsed" : false
},
"source" : ["(f^2*r^2)^3"],
"outputs": []
}
,
{
"cell_type" : "code",
"execution_count": null,
"metadata" : {
    "collapsed" : false
},
"source" : ["rc := rubiksGroup()"],
"outputs": []
}
,
{
"cell_type" : "code",
"execution_count": null,
"metadata" : {
    "collapsed" : false
},
"source" : ["order rc"],
"outputs": []
}
,
{
"cell_type" : "code",
"execution_count": null,
"metadata" : {
    "collapsed" : false
},
"source" : ["orbits rc"],
"outputs": []
}
,
{
"cell_type" : "markdown",
"metadata" : {},
"source" : [" Can we interchange just two pieces with two visible faces on the cube"]
}
,
{
"cell_type" : "markdown",
"metadata" : {},
"source" : [" and leave everything else fixed?"]
}
,
{
"cell_type" : "code",
"execution_count": null,
"metadata" : {
    "collapsed" : false
},
"source" : ["member? (cycles([[12,14],[32,22]])$(PERM INT),rc)"],
"outputs": []
}
,
{
"cell_type" : "code",
"execution_count": null,
"metadata" : {
    "collapsed" : false
},
"source" : ["p := coercePreimagesImages([[1, 2, 3], [1, 2, 3]])"],
"outputs": []
}
,
{
"cell_type" : "code",
"execution_count": null,
"metadata" : {
    "collapsed" : false
},
"source" : ["movedPoints p    -- should return {}"],
"outputs": []
}
,
{
"cell_type" : "code",
"execution_count": null,
"metadata" : {
    "collapsed" : false
},
"source" : ["even? p          -- should return true"],
"outputs": []
}
,
{
"cell_type" : "code",
"execution_count": null,
"metadata" : {
    "collapsed" : false
},
"source" : ["p := coercePreimagesImages([[0, 1, 2, 3], [3, 0, 2, 1]])$PERM ZMOD 4"],
"outputs": []
}
,
{
"cell_type" : "code",
"execution_count": null,
"metadata" : {
    "collapsed" : false
},
"source" : ["fixedPoints p    -- should return {2}"],
"outputs": []
}
,
{
"cell_type" : "code",
"execution_count": null,
"metadata" : {
    "collapsed" : false
},
"source" : ["q := coercePreimagesImages([[0, 1, 2, 3], [1, 0]])$PERM ZMOD 4"],
"outputs": []
}
,
{
"cell_type" : "code",
"execution_count": null,
"metadata" : {
    "collapsed" : false
},
"source" : ["fixedPoints(p*q) -- should return {2, 0}"],
"outputs": []
}
,
{
"cell_type" : "code",
"execution_count": null,
"metadata" : {
    "collapsed" : false
},
"source" : ["even?(p*q)       -- should return false"],
"outputs": []
}
,
{
"cell_type" : "code",
"execution_count": null,
"metadata" : {
    "collapsed" : false
},
"source" : [""],
"outputs": []
}
 ],
"metadata": {
 "kernelspec": {
  "display_name": "FriCAS",
  "language": "spad",
  "name": "ifricas"
 },
 "language_info": {
  "codemirror_mode": "spad",
  "mimetype": "text/x-spad",
  "name": "SPAD",
  "pygments_lexer": "spad",
  "version": "1.2.6"
 },
 "name": "perm.ipynb"
},
"nbformat": 4,
"nbformat_minor": 0
}
