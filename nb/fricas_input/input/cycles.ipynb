{
 "cells": [
{
"cell_type" : "markdown",
"metadata" : {},
"source" : ["Copyright The Numerical Algorithms Group Limited 1994."]
}
,
{
"cell_type" : "markdown",
"metadata" : {},
"source" : ["Examples of Polya-Redfield enumeration methods."]
}
,
{
"cell_type" : "markdown",
"metadata" : {},
"source" : [""]
}
,
{
"cell_type" : "markdown",
"metadata" : {},
"source" : ["This file is based upon the paper"]
}
,
{
"cell_type" : "markdown",
"metadata" : {},
"source" : ["J.H.Redfield 'The Theory of Group-Reduced Distributions'"]
}
,
{
"cell_type" : "markdown",
"metadata" : {},
"source" : ["American J. Math.,49 (1927) 433-455,"]
}
,
{
"cell_type" : "markdown",
"metadata" : {},
"source" : ["and is an application of group theory to enumeration problems."]
}
,
{
"cell_type" : "markdown",
"metadata" : {},
"source" : ["It is a development of the work by P.A.MacMahon on the"]
}
,
{
"cell_type" : "markdown",
"metadata" : {},
"source" : ["application of symmetric functions and Hammond operators to"]
}
,
{
"cell_type" : "markdown",
"metadata" : {},
"source" : ["combinatorial theory."]
}
,
{
"cell_type" : "markdown",
"metadata" : {},
"source" : [""]
}
,
{
"cell_type" : "markdown",
"metadata" : {},
"source" : ["The theory is based upon the symmetric functions s   which are the"]
}
,
{
"cell_type" : "markdown",
"metadata" : {},
"source" : ["                                                   i"]
}
,
{
"cell_type" : "markdown",
"metadata" : {},
"source" : ["sum of the i th powers of the variables."]
}
,
{
"cell_type" : "markdown",
"metadata" : {},
"source" : ["The cycle index of a permutation may be represented as a partition."]
}
,
{
"cell_type" : "markdown",
"metadata" : {},
"source" : [" For example, the partition"]
}
,
{
"cell_type" : "markdown",
"metadata" : {},
"source" : ["   2     2                                2      2"]
}
,
{
"cell_type" : "markdown",
"metadata" : {},
"source" : [" (3  2 1  )  will be used to represent  s   s  s   and"]
}
,
{
"cell_type" : "markdown",
"metadata" : {},
"source" : ["                                          3  2  1"]
}
,
{
"cell_type" : "markdown",
"metadata" : {},
"source" : [" will indicate that the permutation has two cycles of length 3,"]
}
,
{
"cell_type" : "markdown",
"metadata" : {},
"source" : [" one of length 2 and two of length 1."]
}
,
{
"cell_type" : "markdown",
"metadata" : {},
"source" : ["The cycle index of a permutation group is the sum of the cycle indices"]
}
,
{
"cell_type" : "markdown",
"metadata" : {},
"source" : ["of its permutations divided by the number of permutations."]
}
,
{
"cell_type" : "markdown",
"metadata" : {},
"source" : [""]
}
,
{
"cell_type" : "markdown",
"metadata" : {},
"source" : ["The cycle indices of certain groups are provided."]
}
,
{
"cell_type" : "markdown",
"metadata" : {},
"source" : ["complete n is the cycle index of the symmetric group of order n"]
}
,
{
"cell_type" : "code",
"execution_count": null,
"metadata" : {
    "collapsed" : false
},
"source" : [")clear all"],
"outputs": []
}
,
{
"cell_type" : "code",
"execution_count": null,
"metadata" : {
    "collapsed" : false
},
"source" : [")expose EVALCYC"],
"outputs": []
}
,
{
"cell_type" : "code",
"execution_count": null,
"metadata" : {
    "collapsed" : false
},
"source" : ["complete 1"],
"outputs": []
}
,
{
"cell_type" : "markdown",
"metadata" : {},
"source" : [""]
}
,
{
"cell_type" : "markdown",
"metadata" : {},
"source" : ["   (1)  (1)"]
}
,
{
"cell_type" : "markdown",
"metadata" : {},
"source" : [""]
}
,
{
"cell_type" : "code",
"execution_count": null,
"metadata" : {
    "collapsed" : false
},
"source" : ["complete 2"],
"outputs": []
}
,
{
"cell_type" : "markdown",
"metadata" : {},
"source" : [""]
}
,
{
"cell_type" : "markdown",
"metadata" : {},
"source" : ["        1       1   2"]
}
,
{
"cell_type" : "markdown",
"metadata" : {},
"source" : ["   (2)  - (2) + - (1 )"]
}
,
{
"cell_type" : "markdown",
"metadata" : {},
"source" : ["        2       2"]
}
,
{
"cell_type" : "markdown",
"metadata" : {},
"source" : [""]
}
,
{
"cell_type" : "code",
"execution_count": null,
"metadata" : {
    "collapsed" : false
},
"source" : ["complete 3"],
"outputs": []
}
,
{
"cell_type" : "markdown",
"metadata" : {},
"source" : [""]
}
,
{
"cell_type" : "markdown",
"metadata" : {},
"source" : ["        1       1         1   3"]
}
,
{
"cell_type" : "markdown",
"metadata" : {},
"source" : ["   (3)  - (3) + - (2 1) + - (1 )"]
}
,
{
"cell_type" : "markdown",
"metadata" : {},
"source" : ["        3       2         6"]
}
,
{
"cell_type" : "markdown",
"metadata" : {},
"source" : [""]
}
,
{
"cell_type" : "markdown",
"metadata" : {},
"source" : [""]
}
,
{
"cell_type" : "code",
"execution_count": null,
"metadata" : {
    "collapsed" : false
},
"source" : ["complete 7"],
"outputs": []
}
,
{
"cell_type" : "markdown",
"metadata" : {},
"source" : [""]
}
,
{
"cell_type" : "markdown",
"metadata" : {},
"source" : ["   (7)"]
}
,
{
"cell_type" : "markdown",
"metadata" : {},
"source" : ["     1       1         1          1      2    1          1           1      3"]
}
,
{
"cell_type" : "markdown",
"metadata" : {},
"source" : ["     - (7) + - (6 1) + -- (5 2) + -- (5 1 ) + -- (4 3) + - (4 2 1) + -- (4 1 )"]
}
,
{
"cell_type" : "markdown",
"metadata" : {},
"source" : ["     7       6         10         10          12         8           24"]
}
,
{
"cell_type" : "markdown",
"metadata" : {},
"source" : ["   +"]
}
,
{
"cell_type" : "markdown",
"metadata" : {},
"source" : ["     1    2     1      2    1        2    1      4    1    3     1    2 3"]
}
,
{
"cell_type" : "markdown",
"metadata" : {},
"source" : ["     -- (3 1) + -- (3 2 ) + -- (3 2 1 ) + -- (3 1 ) + -- (2 1) + -- (2 1 )"]
}
,
{
"cell_type" : "markdown",
"metadata" : {},
"source" : ["     18         24          12            72          48         48"]
}
,
{
"cell_type" : "markdown",
"metadata" : {},
"source" : ["   +"]
}
,
{
"cell_type" : "markdown",
"metadata" : {},
"source" : ["      1      5     1     7"]
}
,
{
"cell_type" : "markdown",
"metadata" : {},
"source" : ["     --- (2 1 ) + ---- (1 )"]
}
,
{
"cell_type" : "markdown",
"metadata" : {},
"source" : ["     240          5040"]
}
,
{
"cell_type" : "markdown",
"metadata" : {},
"source" : [""]
}
,
{
"cell_type" : "markdown",
"metadata" : {},
"source" : ["elementary n is the nth elementary symmetric function."]
}
,
{
"cell_type" : "markdown",
"metadata" : {},
"source" : [""]
}
,
{
"cell_type" : "code",
"execution_count": null,
"metadata" : {
    "collapsed" : false
},
"source" : ["elementary 7"],
"outputs": []
}
,
{
"cell_type" : "markdown",
"metadata" : {},
"source" : [""]
}
,
{
"cell_type" : "markdown",
"metadata" : {},
"source" : ["   (8)"]
}
,
{
"cell_type" : "markdown",
"metadata" : {},
"source" : ["     1       1         1          1      2    1          1           1      3"]
}
,
{
"cell_type" : "markdown",
"metadata" : {},
"source" : ["     - (7) - - (6 1) - -- (5 2) + -- (5 1 ) - -- (4 3) + - (4 2 1) - -- (4 1 )"]
}
,
{
"cell_type" : "markdown",
"metadata" : {},
"source" : ["     7       6         10         10          12         8           24"]
}
,
{
"cell_type" : "markdown",
"metadata" : {},
"source" : ["   +"]
}
,
{
"cell_type" : "markdown",
"metadata" : {},
"source" : ["     1    2     1      2    1        2    1      4    1    3     1    2 3"]
}
,
{
"cell_type" : "markdown",
"metadata" : {},
"source" : ["     -- (3 1) + -- (3 2 ) - -- (3 2 1 ) + -- (3 1 ) - -- (2 1) + -- (2 1 )"]
}
,
{
"cell_type" : "markdown",
"metadata" : {},
"source" : ["     18         24          12            72          48         48"]
}
,
{
"cell_type" : "markdown",
"metadata" : {},
"source" : ["   +"]
}
,
{
"cell_type" : "markdown",
"metadata" : {},
"source" : ["        1      5     1     7"]
}
,
{
"cell_type" : "markdown",
"metadata" : {},
"source" : ["     - --- (2 1 ) + ---- (1 )"]
}
,
{
"cell_type" : "markdown",
"metadata" : {},
"source" : ["       240          5040"]
}
,
{
"cell_type" : "markdown",
"metadata" : {},
"source" : [""]
}
,
{
"cell_type" : "markdown",
"metadata" : {},
"source" : ["alternating n is the cycle index of the alternating group"]
}
,
{
"cell_type" : "markdown",
"metadata" : {},
"source" : ["having an even number of even parts in each cycle partition."]
}
,
{
"cell_type" : "markdown",
"metadata" : {},
"source" : [""]
}
,
{
"cell_type" : "code",
"execution_count": null,
"metadata" : {
    "collapsed" : false
},
"source" : ["alternating 7"],
"outputs": []
}
,
{
"cell_type" : "markdown",
"metadata" : {},
"source" : [""]
}
,
{
"cell_type" : "markdown",
"metadata" : {},
"source" : ["   (9)"]
}
,
{
"cell_type" : "markdown",
"metadata" : {},
"source" : ["     2       1     2    1           1   2     1      2    1      4    1    2 3"]
}
,
{
"cell_type" : "markdown",
"metadata" : {},
"source" : ["     - (7) + - (5 1 ) + - (4 2 1) + - (3 1) + -- (3 2 ) + -- (3 1 ) + -- (2 1 )"]
}
,
{
"cell_type" : "markdown",
"metadata" : {},
"source" : ["     7       5          4           9         12          36          24"]
}
,
{
"cell_type" : "markdown",
"metadata" : {},
"source" : ["   +"]
}
,
{
"cell_type" : "markdown",
"metadata" : {},
"source" : ["      1     7"]
}
,
{
"cell_type" : "markdown",
"metadata" : {},
"source" : ["     ---- (1 )"]
}
,
{
"cell_type" : "markdown",
"metadata" : {},
"source" : ["     2520"]
}
,
{
"cell_type" : "markdown",
"metadata" : {},
"source" : [""]
}
,
{
"cell_type" : "markdown",
"metadata" : {},
"source" : [""]
}
,
{
"cell_type" : "markdown",
"metadata" : {},
"source" : ["cyclic n is the cycle index of the cyclic group"]
}
,
{
"cell_type" : "code",
"execution_count": null,
"metadata" : {
    "collapsed" : false
},
"source" : ["cyclic 7"],
"outputs": []
}
,
{
"cell_type" : "markdown",
"metadata" : {},
"source" : [""]
}
,
{
"cell_type" : "markdown",
"metadata" : {},
"source" : ["         6       1   7"]
}
,
{
"cell_type" : "markdown",
"metadata" : {},
"source" : ["   (10)  - (7) + - (1 )"]
}
,
{
"cell_type" : "markdown",
"metadata" : {},
"source" : ["         7       7"]
}
,
{
"cell_type" : "markdown",
"metadata" : {},
"source" : [""]
}
,
{
"cell_type" : "markdown",
"metadata" : {},
"source" : ["dihedral n is the cycle index of the dihedral group"]
}
,
{
"cell_type" : "markdown",
"metadata" : {},
"source" : [""]
}
,
{
"cell_type" : "code",
"execution_count": null,
"metadata" : {
    "collapsed" : false
},
"source" : ["dihedral 7"],
"outputs": []
}
,
{
"cell_type" : "markdown",
"metadata" : {},
"source" : [""]
}
,
{
"cell_type" : "markdown",
"metadata" : {},
"source" : ["         3       1   3     1    7"]
}
,
{
"cell_type" : "markdown",
"metadata" : {},
"source" : ["   (11)  - (7) + - (2 1) + -- (1 )"]
}
,
{
"cell_type" : "markdown",
"metadata" : {},
"source" : ["         7       2         14"]
}
,
{
"cell_type" : "markdown",
"metadata" : {},
"source" : [""]
}
,
{
"cell_type" : "markdown",
"metadata" : {},
"source" : ["graphs n is the cycle index of the group of permutations on"]
}
,
{
"cell_type" : "markdown",
"metadata" : {},
"source" : ["the edges of the complete graph with n nodes induced by"]
}
,
{
"cell_type" : "markdown",
"metadata" : {},
"source" : ["applying the symmetric group to the nodes."]
}
,
{
"cell_type" : "code",
"execution_count": null,
"metadata" : {
    "collapsed" : false
},
"source" : ["graphs 5"],
"outputs": []
}
,
{
"cell_type" : "markdown",
"metadata" : {},
"source" : [""]
}
,
{
"cell_type" : "markdown",
"metadata" : {},
"source" : ["   (12)"]
}
,
{
"cell_type" : "markdown",
"metadata" : {},
"source" : ["   1           1   2    1   2     1   3     1   4 2    1    3 4     1    10"]
}
,
{
"cell_type" : "markdown",
"metadata" : {},
"source" : ["   - (6 3 1) + - (5 ) + - (4 2) + - (3 1) + - (2 1 ) + -- (2 1 ) + --- (1  )"]
}
,
{
"cell_type" : "markdown",
"metadata" : {},
"source" : ["   6           5        4         6         8          12          120"]
}
,
{
"cell_type" : "markdown",
"metadata" : {},
"source" : [""]
}
,
{
"cell_type" : "markdown",
"metadata" : {},
"source" : ["The cycle index of a direct product of two groups is the product of the"]
}
,
{
"cell_type" : "markdown",
"metadata" : {},
"source" : ["cycle indices of the groups."]
}
,
{
"cell_type" : "markdown",
"metadata" : {},
"source" : ["Redfield provided two operations on two cycle indices which"]
}
,
{
"cell_type" : "markdown",
"metadata" : {},
"source" : ["will be called cup and cap here."]
}
,
{
"cell_type" : "markdown",
"metadata" : {},
"source" : ["The cup of two cycle indices is a kind of scalar product that"]
}
,
{
"cell_type" : "markdown",
"metadata" : {},
"source" : ["combines monomials for permutations with the same cycles."]
}
,
{
"cell_type" : "markdown",
"metadata" : {},
"source" : [""]
}
,
{
"cell_type" : "markdown",
"metadata" : {},
"source" : ["The cap operation provides the sum of the coefficients of the result"]
}
,
{
"cell_type" : "markdown",
"metadata" : {},
"source" : ["of the cup operation which will be an integer that enumerates"]
}
,
{
"cell_type" : "markdown",
"metadata" : {},
"source" : ["group-reduced distributions."]
}
,
{
"cell_type" : "markdown",
"metadata" : {},
"source" : [""]
}
,
{
"cell_type" : "markdown",
"metadata" : {},
"source" : ["We can for example represent  complete 2 * complete 2"]
}
,
{
"cell_type" : "markdown",
"metadata" : {},
"source" : ["as the set of objects a a b b and"]
}
,
{
"cell_type" : "markdown",
"metadata" : {},
"source" : ["complete 2 * complete 1 * complete 1 as c c d e."]
}
,
{
"cell_type" : "markdown",
"metadata" : {},
"source" : [""]
}
,
{
"cell_type" : "markdown",
"metadata" : {},
"source" : ["The integer cap(complete 2^2,complete 2*complete 1^2)"]
}
,
{
"cell_type" : "markdown",
"metadata" : {},
"source" : ["is the number of different sets of four pairs."]
}
,
{
"cell_type" : "markdown",
"metadata" : {},
"source" : [""]
}
,
{
"cell_type" : "markdown",
"metadata" : {},
"source" : ["a a b b     a a b b    a a b b   a a b b"]
}
,
{
"cell_type" : "markdown",
"metadata" : {},
"source" : ["c c d e     c d c e    c e c d   d e c c"]
}
,
{
"cell_type" : "markdown",
"metadata" : {},
"source" : [""]
}
,
{
"cell_type" : "code",
"execution_count": null,
"metadata" : {
    "collapsed" : false
},
"source" : ["cap(complete 2^2,complete 2*complete 1^2)"],
"outputs": []
}
,
{
"cell_type" : "markdown",
"metadata" : {},
"source" : [""]
}
,
{
"cell_type" : "markdown",
"metadata" : {},
"source" : ["   (13)  4"]
}
,
{
"cell_type" : "markdown",
"metadata" : {},
"source" : [""]
}
,
{
"cell_type" : "markdown",
"metadata" : {},
"source" : ["The integer cap(elementary 2^2,complete 2*complete 1^2)"]
}
,
{
"cell_type" : "markdown",
"metadata" : {},
"source" : ["is the number of different sets of four pairs no two pairs being equal."]
}
,
{
"cell_type" : "markdown",
"metadata" : {},
"source" : [""]
}
,
{
"cell_type" : "markdown",
"metadata" : {},
"source" : ["    a a b b    a a b b"]
}
,
{
"cell_type" : "markdown",
"metadata" : {},
"source" : ["    c d c e    c e c d"]
}
,
{
"cell_type" : "markdown",
"metadata" : {},
"source" : [""]
}
,
{
"cell_type" : "code",
"execution_count": null,
"metadata" : {
    "collapsed" : false
},
"source" : ["cap(elementary 2^2,complete 2*complete 1^2)"],
"outputs": []
}
,
{
"cell_type" : "markdown",
"metadata" : {},
"source" : [""]
}
,
{
"cell_type" : "markdown",
"metadata" : {},
"source" : ["   (14)  2"]
}
,
{
"cell_type" : "markdown",
"metadata" : {},
"source" : [""]
}
,
{
"cell_type" : "markdown",
"metadata" : {},
"source" : ["In this case the configurations enumerated are easily constructed,"]
}
,
{
"cell_type" : "markdown",
"metadata" : {},
"source" : ["however the theory merely enumerates them providing little help in"]
}
,
{
"cell_type" : "markdown",
"metadata" : {},
"source" : ["actually constructing them. Similarly"]
}
,
{
"cell_type" : "markdown",
"metadata" : {},
"source" : [""]
}
,
{
"cell_type" : "markdown",
"metadata" : {},
"source" : ["The number of 6-pairs, first from a a a b b c, second from d d e e f g."]
}
,
{
"cell_type" : "markdown",
"metadata" : {},
"source" : [""]
}
,
{
"cell_type" : "code",
"execution_count": null,
"metadata" : {
    "collapsed" : false
},
"source" : ["cap(complete 3*complete 2*complete 1,complete 2^2*complete 1^2)"],
"outputs": []
}
,
{
"cell_type" : "markdown",
"metadata" : {},
"source" : [""]
}
,
{
"cell_type" : "markdown",
"metadata" : {},
"source" : ["   (15)  24"]
}
,
{
"cell_type" : "markdown",
"metadata" : {},
"source" : [""]
}
,
{
"cell_type" : "markdown",
"metadata" : {},
"source" : ["Same again, but with no equal pairs"]
}
,
{
"cell_type" : "markdown",
"metadata" : {},
"source" : [""]
}
,
{
"cell_type" : "code",
"execution_count": null,
"metadata" : {
    "collapsed" : false
},
"source" : ["cap(elementary 3*elementary 2*elementary 1,complete 2^2*complete 1^2)"],
"outputs": []
}
,
{
"cell_type" : "markdown",
"metadata" : {},
"source" : [""]
}
,
{
"cell_type" : "markdown",
"metadata" : {},
"source" : ["   (16)  8"]
}
,
{
"cell_type" : "markdown",
"metadata" : {},
"source" : [""]
}
,
{
"cell_type" : "code",
"execution_count": null,
"metadata" : {
    "collapsed" : false
},
"source" : ["cap(complete 3*complete 2*complete 1,elementary 2^2*elementary 1^2)"],
"outputs": []
}
,
{
"cell_type" : "markdown",
"metadata" : {},
"source" : [""]
}
,
{
"cell_type" : "markdown",
"metadata" : {},
"source" : ["   (17)  8"]
}
,
{
"cell_type" : "markdown",
"metadata" : {},
"source" : [""]
}
,
{
"cell_type" : "markdown",
"metadata" : {},
"source" : ["The number of 6-triples, first from a a a b b c, second from"]
}
,
{
"cell_type" : "markdown",
"metadata" : {},
"source" : ["d d e e f g, third from h h i i j j"]
}
,
{
"cell_type" : "markdown",
"metadata" : {},
"source" : [""]
}
,
{
"cell_type" : "code",
"execution_count": null,
"metadata" : {
    "collapsed" : false
},
"source" : ["eval(cup(complete 3*complete 2*complete 1, cup(complete 2^2*complete 1^2,complete 2^3)))"],
"outputs": []
}
,
{
"cell_type" : "markdown",
"metadata" : {},
"source" : [""]
}
,
{
"cell_type" : "markdown",
"metadata" : {},
"source" : ["   (18)  1500"]
}
,
{
"cell_type" : "markdown",
"metadata" : {},
"source" : [""]
}
,
{
"cell_type" : "markdown",
"metadata" : {},
"source" : ["The cycle index of vertices of a square is dihedral 4"]
}
,
{
"cell_type" : "markdown",
"metadata" : {},
"source" : [""]
}
,
{
"cell_type" : "code",
"execution_count": null,
"metadata" : {
    "collapsed" : false
},
"source" : ["square:=dihedral 4"],
"outputs": []
}
,
{
"cell_type" : "markdown",
"metadata" : {},
"source" : [""]
}
,
{
"cell_type" : "markdown",
"metadata" : {},
"source" : ["         1       3   2    1     2    1   4"]
}
,
{
"cell_type" : "markdown",
"metadata" : {},
"source" : ["   (19)  - (4) + - (2 ) + - (2 1 ) + - (1 )"]
}
,
{
"cell_type" : "markdown",
"metadata" : {},
"source" : ["         4       8        4          8"]
}
,
{
"cell_type" : "markdown",
"metadata" : {},
"source" : [""]
}
,
{
"cell_type" : "markdown",
"metadata" : {},
"source" : ["The number of different squares with 2 red vertices and 2 blue vertices"]
}
,
{
"cell_type" : "markdown",
"metadata" : {},
"source" : [""]
}
,
{
"cell_type" : "code",
"execution_count": null,
"metadata" : {
    "collapsed" : false
},
"source" : ["cap(complete 2^2,square)"],
"outputs": []
}
,
{
"cell_type" : "markdown",
"metadata" : {},
"source" : [""]
}
,
{
"cell_type" : "markdown",
"metadata" : {},
"source" : ["   (20)  2"]
}
,
{
"cell_type" : "markdown",
"metadata" : {},
"source" : [""]
}
,
{
"cell_type" : "markdown",
"metadata" : {},
"source" : ["The number of necklaces with 3 red beads,2 blue beads and 2 green beads"]
}
,
{
"cell_type" : "markdown",
"metadata" : {},
"source" : [""]
}
,
{
"cell_type" : "code",
"execution_count": null,
"metadata" : {
    "collapsed" : false
},
"source" : ["cap(complete 3*complete 2^2,dihedral 7)"],
"outputs": []
}
,
{
"cell_type" : "markdown",
"metadata" : {},
"source" : [""]
}
,
{
"cell_type" : "markdown",
"metadata" : {},
"source" : ["   (21)  18"]
}
,
{
"cell_type" : "markdown",
"metadata" : {},
"source" : [""]
}
,
{
"cell_type" : "markdown",
"metadata" : {},
"source" : ["The number of graphs with 5 nodes and 7 edges"]
}
,
{
"cell_type" : "markdown",
"metadata" : {},
"source" : [""]
}
,
{
"cell_type" : "code",
"execution_count": null,
"metadata" : {
    "collapsed" : false
},
"source" : ["cap(graphs 5,complete 7*complete 3)"],
"outputs": []
}
,
{
"cell_type" : "markdown",
"metadata" : {},
"source" : [""]
}
,
{
"cell_type" : "markdown",
"metadata" : {},
"source" : ["   (22)  4"]
}
,
{
"cell_type" : "markdown",
"metadata" : {},
"source" : ["The cycle index of rotations of vertices of a cube"]
}
,
{
"cell_type" : "markdown",
"metadata" : {},
"source" : [""]
}
,
{
"cell_type" : "code",
"execution_count": null,
"metadata" : {
    "collapsed" : false
},
"source" : ["macro s == powerSum"],
"outputs": []
}
,
{
"cell_type" : "code",
"execution_count": null,
"metadata" : {
    "collapsed" : false
},
"source" : ["cube:=(1/24)*(s 1^8+9*s 2^4 + 8*s 3^2*s 1^2+6*s 4^2)"],
"outputs": []
}
,
{
"cell_type" : "markdown",
"metadata" : {},
"source" : [""]
}
,
{
"cell_type" : "markdown",
"metadata" : {},
"source" : ["         1   2    1   2 2    3   4    1    8"]
}
,
{
"cell_type" : "markdown",
"metadata" : {},
"source" : ["   (23)  - (4 ) + - (3 1 ) + - (2 ) + -- (1 )"]
}
,
{
"cell_type" : "markdown",
"metadata" : {},
"source" : ["         4        3          8        24"]
}
,
{
"cell_type" : "markdown",
"metadata" : {},
"source" : [""]
}
,
{
"cell_type" : "markdown",
"metadata" : {},
"source" : ["The number of cubes with 4 red vertices and 4 blue vertices"]
}
,
{
"cell_type" : "code",
"execution_count": null,
"metadata" : {
    "collapsed" : false
},
"source" : ["cap(complete 4^2,cube)"],
"outputs": []
}
,
{
"cell_type" : "markdown",
"metadata" : {},
"source" : [""]
}
,
{
"cell_type" : "markdown",
"metadata" : {},
"source" : ["   (24)  7"]
}
,
{
"cell_type" : "markdown",
"metadata" : {},
"source" : [""]
}
,
{
"cell_type" : "markdown",
"metadata" : {},
"source" : ["The number of labeled graphs with degree sequence 2 2 2 1 1"]
}
,
{
"cell_type" : "markdown",
"metadata" : {},
"source" : ["with no loops or multiple edges"]
}
,
{
"cell_type" : "code",
"execution_count": null,
"metadata" : {
    "collapsed" : false
},
"source" : ["cap(complete 2^3*complete 1^2,wreath(elementary 4,elementary 2))"],
"outputs": []
}
,
{
"cell_type" : "markdown",
"metadata" : {},
"source" : ["with loops allowed but not multiple edges"]
}
,
{
"cell_type" : "code",
"execution_count": null,
"metadata" : {
    "collapsed" : false
},
"source" : ["cap(complete 2^3*complete 1^2,wreath(elementary 4,complete 2))"],
"outputs": []
}
,
{
"cell_type" : "markdown",
"metadata" : {},
"source" : [" with multiple edges allowed, but not loops"]
}
,
{
"cell_type" : "code",
"execution_count": null,
"metadata" : {
    "collapsed" : false
},
"source" : ["cap(complete 2^3*complete 1^2,wreath(complete 4,elementary 2))"],
"outputs": []
}
,
{
"cell_type" : "markdown",
"metadata" : {},
"source" : [" with both multiple edges and loops allowed"]
}
,
{
"cell_type" : "code",
"execution_count": null,
"metadata" : {
    "collapsed" : false
},
"source" : ["cap(complete 2^3*complete 1^2,wreath(complete 4,complete 2))"],
"outputs": []
}
,
{
"cell_type" : "markdown",
"metadata" : {},
"source" : ["Having constructed a cycle index for a configuration"]
}
,
{
"cell_type" : "markdown",
"metadata" : {},
"source" : ["we are at liberty to evaluate the s i components any way we please."]
}
,
{
"cell_type" : "markdown",
"metadata" : {},
"source" : ["For example we can produce enumerating generating functions."]
}
,
{
"cell_type" : "markdown",
"metadata" : {},
"source" : ["This is done by providing a function f from an integer i to the"]
}
,
{
"cell_type" : "markdown",
"metadata" : {},
"source" : ["value required of s  , and then evaluating eval(f,cycleindex)"]
}
,
{
"cell_type" : "markdown",
"metadata" : {},
"source" : ["                   i"]
}
,
{
"cell_type" : "code",
"execution_count": null,
"metadata" : {
    "collapsed" : false
},
"source" : ["x:ULS(FRAC INT,'x,0):=x"],
"outputs": []
}
,
{
"cell_type" : "code",
"execution_count": null,
"metadata" : {
    "collapsed" : false
},
"source" : ["ZeroOrOne:INT->ULS(FRAC INT,'x,0)"],
"outputs": []
}
,
{
"cell_type" : "code",
"execution_count": null,
"metadata" : {
    "collapsed" : false
},
"source" : ["Integers:INT->ULS(FRAC INT,'x,0)"],
"outputs": []
}
,
{
"cell_type" : "markdown",
"metadata" : {},
"source" : ["For the integers 0 1 , or two colors"]
}
,
{
"cell_type" : "code",
"execution_count": null,
"metadata" : {
    "collapsed" : false
},
"source" : ["ZeroOrOne n == 1+x^n"],
"outputs": []
}
,
{
"cell_type" : "code",
"execution_count": null,
"metadata" : {
    "collapsed" : false
},
"source" : ["ZeroOrOne 5"],
"outputs": []
}
,
{
"cell_type" : "markdown",
"metadata" : {},
"source" : ["For the integers 0,1,2,..."]
}
,
{
"cell_type" : "code",
"execution_count": null,
"metadata" : {
    "collapsed" : false
},
"source" : ["Integers n == 1/(1-x^n)"],
"outputs": []
}
,
{
"cell_type" : "code",
"execution_count": null,
"metadata" : {
    "collapsed" : false
},
"source" : ["Integers 5"],
"outputs": []
}
,
{
"cell_type" : "markdown",
"metadata" : {},
"source" : [""]
}
,
{
"cell_type" : "markdown",
"metadata" : {},
"source" : ["The coefficient of x^n below is the number of graphs with 5 nodes"]
}
,
{
"cell_type" : "markdown",
"metadata" : {},
"source" : ["and n edges."]
}
,
{
"cell_type" : "markdown",
"metadata" : {},
"source" : [""]
}
,
{
"cell_type" : "code",
"execution_count": null,
"metadata" : {
    "collapsed" : false
},
"source" : ["eval(ZeroOrOne,graphs 5)"],
"outputs": []
}
,
{
"cell_type" : "markdown",
"metadata" : {},
"source" : [""]
}
,
{
"cell_type" : "markdown",
"metadata" : {},
"source" : ["                   2     3     4     5     6     7     8    9    10      11"]
}
,
{
"cell_type" : "markdown",
"metadata" : {},
"source" : ["   (30)  1 + x + 2x  + 4x  + 6x  + 6x  + 6x  + 4x  + 2x  + x  + x   + O(x  )"]
}
,
{
"cell_type" : "markdown",
"metadata" : {},
"source" : [""]
}
,
{
"cell_type" : "markdown",
"metadata" : {},
"source" : ["The coefficient of x^n is the number of necklaces with"]
}
,
{
"cell_type" : "markdown",
"metadata" : {},
"source" : [" n red beads and n-8 green beads."]
}
,
{
"cell_type" : "code",
"execution_count": null,
"metadata" : {
    "collapsed" : false
},
"source" : ["eval(ZeroOrOne,dihedral 8)"],
"outputs": []
}
,
{
"cell_type" : "markdown",
"metadata" : {},
"source" : ["The coefficient of x^n is the number of partitions of n"]
}
,
{
"cell_type" : "markdown",
"metadata" : {},
"source" : ["into 4 or fewer parts"]
}
,
{
"cell_type" : "code",
"execution_count": null,
"metadata" : {
    "collapsed" : false
},
"source" : ["eval(Integers,complete 4)"],
"outputs": []
}
,
{
"cell_type" : "markdown",
"metadata" : {},
"source" : [""]
}
,
{
"cell_type" : "markdown",
"metadata" : {},
"source" : ["   (32)"]
}
,
{
"cell_type" : "markdown",
"metadata" : {},
"source" : ["             2     3     4     5     6      7      8      9      10      11"]
}
,
{
"cell_type" : "markdown",
"metadata" : {},
"source" : ["   1 + x + 2x  + 3x  + 5x  + 6x  + 9x  + 11x  + 15x  + 18x  + 23x   + O(x  )"]
}
,
{
"cell_type" : "markdown",
"metadata" : {},
"source" : [""]
}
,
{
"cell_type" : "markdown",
"metadata" : {},
"source" : ["The coefficient of x^n is the number of partitions of n into 4"]
}
,
{
"cell_type" : "markdown",
"metadata" : {},
"source" : [" boxes containing ordered distinct parts."]
}
,
{
"cell_type" : "code",
"execution_count": null,
"metadata" : {
    "collapsed" : false
},
"source" : ["eval(Integers,elementary 4)"],
"outputs": []
}
,
{
"cell_type" : "markdown",
"metadata" : {},
"source" : [""]
}
,
{
"cell_type" : "markdown",
"metadata" : {},
"source" : ["          6    7     8     9     10      11"]
}
,
{
"cell_type" : "markdown",
"metadata" : {},
"source" : ["   (33)  x  + x  + 2x  + 3x  + 5x   + O(x  )"]
}
,
{
"cell_type" : "markdown",
"metadata" : {},
"source" : [""]
}
,
{
"cell_type" : "markdown",
"metadata" : {},
"source" : ["the coefficient of x^n is the number of partitions of n"]
}
,
{
"cell_type" : "markdown",
"metadata" : {},
"source" : ["into exactly 4 parts"]
}
,
{
"cell_type" : "markdown",
"metadata" : {},
"source" : [""]
}
,
{
"cell_type" : "markdown",
"metadata" : {},
"source" : ["The coefficient of x^n is the number of different cubes with n"]
}
,
{
"cell_type" : "markdown",
"metadata" : {},
"source" : [" red vertices and 8-n green ones."]
}
,
{
"cell_type" : "markdown",
"metadata" : {},
"source" : [""]
}
,
{
"cell_type" : "code",
"execution_count": null,
"metadata" : {
    "collapsed" : false
},
"source" : ["eval(ZeroOrOne,cube)"],
"outputs": []
}
,
{
"cell_type" : "markdown",
"metadata" : {},
"source" : [""]
}
,
{
"cell_type" : "markdown",
"metadata" : {},
"source" : ["                   2     3     4     5     6    7    8"]
}
,
{
"cell_type" : "markdown",
"metadata" : {},
"source" : ["   (36)  1 + x + 3x  + 3x  + 7x  + 3x  + 3x  + x  + x"]
}
,
{
"cell_type" : "markdown",
"metadata" : {},
"source" : [""]
}
,
{
"cell_type" : "markdown",
"metadata" : {},
"source" : ["The  coefficient of x^n is the number of different cubes with integers"]
}
,
{
"cell_type" : "markdown",
"metadata" : {},
"source" : [" on the vertices whose sum is n."]
}
,
{
"cell_type" : "markdown",
"metadata" : {},
"source" : [""]
}
,
{
"cell_type" : "code",
"execution_count": null,
"metadata" : {
    "collapsed" : false
},
"source" : ["eval(Integers,cube)"],
"outputs": []
}
,
{
"cell_type" : "markdown",
"metadata" : {},
"source" : [""]
}
,
{
"cell_type" : "markdown",
"metadata" : {},
"source" : ["   (37)"]
}
,
{
"cell_type" : "markdown",
"metadata" : {},
"source" : ["               2     3      4      5      6       7       8       9       10"]
}
,
{
"cell_type" : "markdown",
"metadata" : {},
"source" : ["     1 + x + 4x  + 7x  + 21x  + 37x  + 85x  + 151x  + 292x  + 490x  + 848x"]
}
,
{
"cell_type" : "markdown",
"metadata" : {},
"source" : ["   +"]
}
,
{
"cell_type" : "markdown",
"metadata" : {},
"source" : ["        11"]
}
,
{
"cell_type" : "markdown",
"metadata" : {},
"source" : ["     O(x  )"]
}
,
{
"cell_type" : "markdown",
"metadata" : {},
"source" : [""]
}
,
{
"cell_type" : "markdown",
"metadata" : {},
"source" : [" the coefficient of x^n is the number of graphs with 5 nodes and"]
}
,
{
"cell_type" : "markdown",
"metadata" : {},
"source" : [" with integers on the edges whose sum is n."]
}
,
{
"cell_type" : "markdown",
"metadata" : {},
"source" : [" In other words the enumeration is of multigraphs with 5 nodes and n"]
}
,
{
"cell_type" : "markdown",
"metadata" : {},
"source" : [" edges."]
}
,
{
"cell_type" : "code",
"execution_count": null,
"metadata" : {
    "collapsed" : false
},
"source" : ["eval(Integers,graphs 5)"],
"outputs": []
}
,
{
"cell_type" : "markdown",
"metadata" : {},
"source" : [""]
}
,
{
"cell_type" : "markdown",
"metadata" : {},
"source" : ["   (38)"]
}
,
{
"cell_type" : "markdown",
"metadata" : {},
"source" : ["               2     3      4      5      6       7       8       9       10"]
}
,
{
"cell_type" : "markdown",
"metadata" : {},
"source" : ["     1 + x + 3x  + 7x  + 17x  + 35x  + 76x  + 149x  + 291x  + 539x  + 974x"]
}
,
{
"cell_type" : "markdown",
"metadata" : {},
"source" : ["   +"]
}
,
{
"cell_type" : "markdown",
"metadata" : {},
"source" : ["        11"]
}
,
{
"cell_type" : "markdown",
"metadata" : {},
"source" : ["     O(x  )"]
}
,
{
"cell_type" : "markdown",
"metadata" : {},
"source" : [""]
}
,
{
"cell_type" : "markdown",
"metadata" : {},
"source" : ["Graphs with 15 nodes enumerated with respect to number of edges"]
}
,
{
"cell_type" : "markdown",
"metadata" : {},
"source" : [""]
}
,
{
"cell_type" : "code",
"execution_count": null,
"metadata" : {
    "collapsed" : false
},
"source" : ["eval(ZeroOrOne ,graphs 15)"],
"outputs": []
}
,
{
"cell_type" : "markdown",
"metadata" : {},
"source" : [""]
}
,
{
"cell_type" : "markdown",
"metadata" : {},
"source" : ["   (39)"]
}
,
{
"cell_type" : "markdown",
"metadata" : {},
"source" : ["               2     3      4      5      6       7       8        9        10"]
}
,
{
"cell_type" : "markdown",
"metadata" : {},
"source" : ["     1 + x + 2x  + 5x  + 11x  + 26x  + 68x  + 177x  + 496x  + 1471x  + 4583x"]
}
,
{
"cell_type" : "markdown",
"metadata" : {},
"source" : ["   +"]
}
,
{
"cell_type" : "markdown",
"metadata" : {},
"source" : ["           11         12          13          14           15            16"]
}
,
{
"cell_type" : "markdown",
"metadata" : {},
"source" : ["     15036x   + 51814x   + 185987x   + 691001x   + 2632420x   + 10176660x"]
}
,
{
"cell_type" : "markdown",
"metadata" : {},
"source" : ["   +"]
}
,
{
"cell_type" : "markdown",
"metadata" : {},
"source" : ["              17             18             19              20      21"]
}
,
{
"cell_type" : "markdown",
"metadata" : {},
"source" : ["     39500169x   + 152374465x   + 578891716x   + 2149523582x   + O(x  )"]
}
,
{
"cell_type" : "markdown",
"metadata" : {},
"source" : [""]
}
,
{
"cell_type" : "markdown",
"metadata" : {},
"source" : [""]
}
,
{
"cell_type" : "markdown",
"metadata" : {},
"source" : ["Necklaces with 7 green beads, 8 white beads, 5 yellow beads and 10"]
}
,
{
"cell_type" : "markdown",
"metadata" : {},
"source" : ["red beads."]
}
,
{
"cell_type" : "markdown",
"metadata" : {},
"source" : [""]
}
,
{
"cell_type" : "code",
"execution_count": null,
"metadata" : {
    "collapsed" : false
},
"source" : ["cap(dihedral 30,complete 7*complete 8*complete 5*complete 10)"],
"outputs": []
}
,
{
"cell_type" : "markdown",
"metadata" : {},
"source" : [""]
}
,
{
"cell_type" : "markdown",
"metadata" : {},
"source" : ["   (40)  49958972383320"]
}
,
{
"cell_type" : "markdown",
"metadata" : {},
"source" : [" The function SFunction is the S-function of a partition written"]
}
,
{
"cell_type" : "markdown",
"metadata" : {},
"source" : [" as a descending list of integers expressed in terms of power sum"]
}
,
{
"cell_type" : "markdown",
"metadata" : {},
"source" : [" symmetric functions."]
}
,
{
"cell_type" : "code",
"execution_count": null,
"metadata" : {
    "collapsed" : false
},
"source" : ["sf3221:= SFunction [3,2,2,1]"],
"outputs": []
}
,
{
"cell_type" : "markdown",
"metadata" : {},
"source" : [" It counts the number of different tableaux of shape 3,2,2,1 filled"]
}
,
{
"cell_type" : "markdown",
"metadata" : {},
"source" : [" with objects with an ascending order in the columns and a"]
}
,
{
"cell_type" : "markdown",
"metadata" : {},
"source" : [" non-descending order in the rows."]
}
,
{
"cell_type" : "markdown",
"metadata" : {},
"source" : [" cap(sf3221,complete 4^2) is the number filled"]
}
,
{
"cell_type" : "markdown",
"metadata" : {},
"source" : [" with a a b b c c d d."]
}
,
{
"cell_type" : "code",
"execution_count": null,
"metadata" : {
    "collapsed" : false
},
"source" : ["cap(sf3221,complete 2^4)"],
"outputs": []
}
,
{
"cell_type" : "markdown",
"metadata" : {},
"source" : [" the configurations enumerated are"]
}
,
{
"cell_type" : "markdown",
"metadata" : {},
"source" : ["  a a b    a a c    a a d"]
}
,
{
"cell_type" : "markdown",
"metadata" : {},
"source" : ["  b c      b b      b b"]
}
,
{
"cell_type" : "markdown",
"metadata" : {},
"source" : ["  c d      c d      c c"]
}
,
{
"cell_type" : "markdown",
"metadata" : {},
"source" : ["  d        d        d"]
}
,
{
"cell_type" : "markdown",
"metadata" : {},
"source" : [" cap(sf3221,powerSum 1^8) is the number of tableaux filled with 1..8."]
}
,
{
"cell_type" : "code",
"execution_count": null,
"metadata" : {
    "collapsed" : false
},
"source" : ["cap(sf3221,powerSum 1^8)"],
"outputs": []
}
,
{
"cell_type" : "markdown",
"metadata" : {},
"source" : ["The coefficient of x^n below is the number of column strict"]
}
,
{
"cell_type" : "markdown",
"metadata" : {},
"source" : [" reverse plane partitions of n of shape 3 2 2 1."]
}
,
{
"cell_type" : "markdown",
"metadata" : {},
"source" : [" The smallest is"]
}
,
{
"cell_type" : "markdown",
"metadata" : {},
"source" : ["  0 0 0"]
}
,
{
"cell_type" : "markdown",
"metadata" : {},
"source" : ["  1 1"]
}
,
{
"cell_type" : "markdown",
"metadata" : {},
"source" : ["  2 2"]
}
,
{
"cell_type" : "markdown",
"metadata" : {},
"source" : ["  3"]
}
,
{
"cell_type" : "code",
"execution_count": null,
"metadata" : {
    "collapsed" : false
},
"source" : ["eval(Integers,sf3221)"],
"outputs": []
}
,
{
"cell_type" : "code",
"execution_count": null,
"metadata" : {
    "collapsed" : false
},
"source" : [""],
"outputs": []
}
 ],
"metadata": {
 "kernelspec": {
  "display_name": "FriCAS",
  "language": "spad",
  "name": "ifricas"
 },
 "language_info": {
  "codemirror_mode": "spad",
  "mimetype": "text/x-spad",
  "name": "SPAD",
  "pygments_lexer": "spad",
  "version": "1.2.6"
 },
 "name": "cycles.ipynb"
},
"nbformat": 4,
"nbformat_minor": 0
}
