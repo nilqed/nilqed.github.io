{
 "cells": [
{
"cell_type" : "markdown",
"metadata" : {},
"source" : ["Copyright The Numerical Algorithms Group Limited 1996."]
}
,
{
"cell_type" : "code",
"execution_count": null,
"metadata" : {
    "collapsed" : false
},
"source" : [")lib $TEST_AXIOMXL/herm"],
"outputs": []
}
,
{
"cell_type" : "code",
"execution_count": null,
"metadata" : {
    "collapsed" : false
},
"source" : ["h0 := pHS([] :: List INT)"],
"outputs": []
}
,
{
"cell_type" : "markdown",
"metadata" : {},
"source" : ["       []"]
}
,
{
"cell_type" : "code",
"execution_count": null,
"metadata" : {
    "collapsed" : false
},
"source" : ["h1 := pHS [1]"],
"outputs": []
}
,
{
"cell_type" : "markdown",
"metadata" : {},
"source" : ["       [1]"]
}
,
{
"cell_type" : "code",
"execution_count": null,
"metadata" : {
    "collapsed" : false
},
"source" : ["h2 := pHS [1,2]"],
"outputs": []
}
,
{
"cell_type" : "markdown",
"metadata" : {},
"source" : ["       [1,2]"]
}
,
{
"cell_type" : "code",
"execution_count": null,
"metadata" : {
    "collapsed" : false
},
"source" : ["h3 := pHS [1,2,3]"],
"outputs": []
}
,
{
"cell_type" : "markdown",
"metadata" : {},
"source" : ["       [1,2,3]"]
}
,
{
"cell_type" : "code",
"execution_count": null,
"metadata" : {
    "collapsed" : false
},
"source" : ["h4 := pHS [1,2,3,4]"],
"outputs": []
}
,
{
"cell_type" : "markdown",
"metadata" : {},
"source" : ["       [1,2,3,4]"]
}
,
{
"cell_type" : "code",
"execution_count": null,
"metadata" : {
    "collapsed" : false
},
"source" : ["h5 := pHS [1,2,3,4,5]"],
"outputs": []
}
,
{
"cell_type" : "markdown",
"metadata" : {},
"source" : ["       [1,2,3,4,5]"]
}
,
{
"cell_type" : "code",
"execution_count": null,
"metadata" : {
    "collapsed" : false
},
"source" : ["f0 := expand h0"],
"outputs": []
}
,
{
"cell_type" : "markdown",
"metadata" : {},
"source" : ["       []"]
}
,
{
"cell_type" : "code",
"execution_count": null,
"metadata" : {
    "collapsed" : false
},
"source" : ["f1 := expand h1"],
"outputs": []
}
,
{
"cell_type" : "markdown",
"metadata" : {},
"source" : ["       [1]"]
}
,
{
"cell_type" : "code",
"execution_count": null,
"metadata" : {
    "collapsed" : false
},
"source" : ["f2 := expand h2"],
"outputs": []
}
,
{
"cell_type" : "markdown",
"metadata" : {},
"source" : ["       [1,2]"]
}
,
{
"cell_type" : "code",
"execution_count": null,
"metadata" : {
    "collapsed" : false
},
"source" : ["f3 := expand h3"],
"outputs": []
}
,
{
"cell_type" : "markdown",
"metadata" : {},
"source" : ["       [1,2 + 3%i,2 - 3%i]"]
}
,
{
"cell_type" : "code",
"execution_count": null,
"metadata" : {
    "collapsed" : false
},
"source" : ["f4 := expand h4"],
"outputs": []
}
,
{
"cell_type" : "markdown",
"metadata" : {},
"source" : ["       [1,2 + 4%i,3,2 - 4%i]"]
}
,
{
"cell_type" : "code",
"execution_count": null,
"metadata" : {
    "collapsed" : false
},
"source" : ["f5 := expand h5"],
"outputs": []
}
,
{
"cell_type" : "markdown",
"metadata" : {},
"source" : ["       [1,2 + 5%i,3 + 4%i,3 - 4%i,2 - 5%i]"]
}
,
{
"cell_type" : "code",
"execution_count": null,
"metadata" : {
    "collapsed" : false
},
"source" : ["packHS f0"],
"outputs": []
}
,
{
"cell_type" : "markdown",
"metadata" : {},
"source" : ["       []"]
}
,
{
"cell_type" : "code",
"execution_count": null,
"metadata" : {
    "collapsed" : false
},
"source" : ["packHS f1"],
"outputs": []
}
,
{
"cell_type" : "markdown",
"metadata" : {},
"source" : ["       [1]"]
}
,
{
"cell_type" : "code",
"execution_count": null,
"metadata" : {
    "collapsed" : false
},
"source" : ["packHS f2"],
"outputs": []
}
,
{
"cell_type" : "markdown",
"metadata" : {},
"source" : ["       [1,2]"]
}
,
{
"cell_type" : "code",
"execution_count": null,
"metadata" : {
    "collapsed" : false
},
"source" : ["packHS f3"],
"outputs": []
}
,
{
"cell_type" : "markdown",
"metadata" : {},
"source" : ["       [1,2,3]"]
}
,
{
"cell_type" : "code",
"execution_count": null,
"metadata" : {
    "collapsed" : false
},
"source" : ["packHS f4"],
"outputs": []
}
,
{
"cell_type" : "markdown",
"metadata" : {},
"source" : ["       [1,2,3,4]"]
}
,
{
"cell_type" : "code",
"execution_count": null,
"metadata" : {
    "collapsed" : false
},
"source" : ["packHS f5"],
"outputs": []
}
,
{
"cell_type" : "markdown",
"metadata" : {},
"source" : ["       [1,2,3,4,5]"]
}
,
{
"cell_type" : "code",
"execution_count": null,
"metadata" : {
    "collapsed" : false
},
"source" : ["packHS vector[%i,3,3,3]"],
"outputs": []
}
,
{
"cell_type" : "markdown",
"metadata" : {},
"source" : [" Error signalled from user code:"]
}
,
{
"cell_type" : "markdown",
"metadata" : {},
"source" : ["    The argument of packHS is not Hermitian - the first element must"]
}
,
{
"cell_type" : "markdown",
"metadata" : {},
"source" : ["    be real."]
}
,
{
"cell_type" : "code",
"execution_count": null,
"metadata" : {
    "collapsed" : false
},
"source" : ["packHS vector [1, 3, 5, 7]"],
"outputs": []
}
,
{
"cell_type" : "markdown",
"metadata" : {},
"source" : [" Error signalled from user code:"]
}
,
{
"cell_type" : "markdown",
"metadata" : {},
"source" : ["    The argument of packHS is not Hermitian - elements 2 and 4 are"]
}
,
{
"cell_type" : "markdown",
"metadata" : {},
"source" : ["    not conjugate."]
}
,
{
"cell_type" : "code",
"execution_count": null,
"metadata" : {
    "collapsed" : false
},
"source" : ["packHS [1, 3, %i, 3]"],
"outputs": []
}
,
{
"cell_type" : "markdown",
"metadata" : {},
"source" : [" Error signalled from user code:"]
}
,
{
"cell_type" : "markdown",
"metadata" : {},
"source" : ["    The argument of packHS is not Hermitian - element 3 must be real"]
}
,
{
"cell_type" : "markdown",
"metadata" : {},
"source" : ["    to be self-conjugate."]
}
,
{
"cell_type" : "code",
"execution_count": null,
"metadata" : {
    "collapsed" : false
},
"source" : ["conjHerm h0"],
"outputs": []
}
,
{
"cell_type" : "markdown",
"metadata" : {},
"source" : ["       []"]
}
,
{
"cell_type" : "code",
"execution_count": null,
"metadata" : {
    "collapsed" : false
},
"source" : ["conjHerm h1"],
"outputs": []
}
,
{
"cell_type" : "markdown",
"metadata" : {},
"source" : ["       [1]"]
}
,
{
"cell_type" : "code",
"execution_count": null,
"metadata" : {
    "collapsed" : false
},
"source" : ["conjHerm h2"],
"outputs": []
}
,
{
"cell_type" : "markdown",
"metadata" : {},
"source" : ["       [1,2]"]
}
,
{
"cell_type" : "code",
"execution_count": null,
"metadata" : {
    "collapsed" : false
},
"source" : ["conjHerm h3"],
"outputs": []
}
,
{
"cell_type" : "markdown",
"metadata" : {},
"source" : ["       [1,2,- 3]"]
}
,
{
"cell_type" : "code",
"execution_count": null,
"metadata" : {
    "collapsed" : false
},
"source" : ["conjHerm h4"],
"outputs": []
}
,
{
"cell_type" : "markdown",
"metadata" : {},
"source" : ["       [1,2,3,- 4]"]
}
,
{
"cell_type" : "code",
"execution_count": null,
"metadata" : {
    "collapsed" : false
},
"source" : ["conjHerm h5"],
"outputs": []
}
,
{
"cell_type" : "markdown",
"metadata" : {},
"source" : ["       [1,2,3,- 4,- 5]"]
}
,
{
"cell_type" : "code",
"execution_count": null,
"metadata" : {
    "collapsed" : false
},
"source" : ["output \"End of tests\""],
"outputs": []
}
,
{
"cell_type" : "code",
"execution_count": null,
"metadata" : {
    "collapsed" : false
},
"source" : [""],
"outputs": []
}
 ],
"metadata": {
 "kernelspec": {
  "display_name": "FriCAS",
  "language": "spad",
  "name": "ifricas"
 },
 "language_info": {
  "codemirror_mode": "spad",
  "mimetype": "text/x-spad",
  "name": "SPAD",
  "pygments_lexer": "spad",
  "version": "1.2.6"
 },
 "name": "herm.ipynb"
},
"nbformat": 4,
"nbformat_minor": 0
}
