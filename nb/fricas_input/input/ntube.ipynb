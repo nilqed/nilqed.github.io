{
 "cells": [
{
"cell_type" : "markdown",
"metadata" : {},
"source" : ["Copyright The Numerical Algorithms Group Limited 1994."]
}
,
{
"cell_type" : "markdown",
"metadata" : {},
"source" : [" ntube.input"]
}
,
{
"cell_type" : "markdown",
"metadata" : {},
"source" : [" Generalized tubes."]
}
,
{
"cell_type" : "markdown",
"metadata" : {},
"source" : [" The functions in this file draw a 2-d curve in the normal"]
}
,
{
"cell_type" : "markdown",
"metadata" : {},
"source" : [" planes around a 3-d curve.  The computations are all done"]
}
,
{
"cell_type" : "markdown",
"metadata" : {},
"source" : [" numerically in machine-precision floating point for efficiency."]
}
,
{
"cell_type" : "code",
"execution_count": null,
"metadata" : {
    "collapsed" : false
},
"source" : ["R3 := Point DoubleFloat                  -- Points in 3-Space"],
"outputs": []
}
,
{
"cell_type" : "code",
"execution_count": null,
"metadata" : {
    "collapsed" : false
},
"source" : ["R2 := Point DoubleFloat                  -- Points in 2-Space"],
"outputs": []
}
,
{
"cell_type" : "code",
"execution_count": null,
"metadata" : {
    "collapsed" : false
},
"source" : ["S := Segment Float              -- Draw ranges"],
"outputs": []
}
,
{
"cell_type" : "code",
"execution_count": null,
"metadata" : {
    "collapsed" : false
},
"source" : ["ThreeCurve := DoubleFloat -> R3          -- type of a space curve function"],
"outputs": []
}
,
{
"cell_type" : "code",
"execution_count": null,
"metadata" : {
    "collapsed" : false
},
"source" : ["TwoCurve := (DoubleFloat, DoubleFloat) -> R2      -- type of a plane curve function"],
"outputs": []
}
,
{
"cell_type" : "code",
"execution_count": null,
"metadata" : {
    "collapsed" : false
},
"source" : ["Surface := (DoubleFloat, DoubleFloat) -> R3   -- type of a parameterized surface function"],
"outputs": []
}
,
{
"cell_type" : "markdown",
"metadata" : {},
"source" : [" Frenet frames define a coordinate system around a point on a space curve"]
}
,
{
"cell_type" : "code",
"execution_count": null,
"metadata" : {
    "collapsed" : false
},
"source" : ["FrenetFrame := Record(value: R3, tagent: R3, normal: R3, binormal: R3)"],
"outputs": []
}
,
{
"cell_type" : "markdown",
"metadata" : {},
"source" : [" Holds current Frenet frame for a point on a curve"]
}
,
{
"cell_type" : "code",
"execution_count": null,
"metadata" : {
    "collapsed" : false
},
"source" : ["frame: FrenetFrame"],
"outputs": []
}
,
{
"cell_type" : "markdown",
"metadata" : {},
"source" : [" compile, don't interpret functions"]
}
,
{
"cell_type" : "code",
"execution_count": null,
"metadata" : {
    "collapsed" : false
},
"source" : [")set fun compile on"],
"outputs": []
}
,
{
"cell_type" : "markdown",
"metadata" : {},
"source" : [" Draw a generalized tube."]
}
,
{
"cell_type" : "markdown",
"metadata" : {},
"source" : [" ntubeDraw(spaceCurve, planeCurve, u0..u1, t0..t1)"]
}
,
{
"cell_type" : "markdown",
"metadata" : {},
"source" : [" draws planeCurve int the normal planes of spaceCurve.  u0..u1 specifies"]
}
,
{
"cell_type" : "markdown",
"metadata" : {},
"source" : [" the paramter range of the planeCurve and t0..t1 specifies the parameter"]
}
,
{
"cell_type" : "markdown",
"metadata" : {},
"source" : [" range of the spaceCurve.  Additionally the plane curve function takes"]
}
,
{
"cell_type" : "markdown",
"metadata" : {},
"source" : [" as a second parameter the current parameter of the spaceCurve.  This"]
}
,
{
"cell_type" : "markdown",
"metadata" : {},
"source" : [" allows the plane curve to evolve as it goes around the space curve."]
}
,
{
"cell_type" : "markdown",
"metadata" : {},
"source" : [" see \"page5.input\" for an example of this."]
}
,
{
"cell_type" : "code",
"execution_count": null,
"metadata" : {
    "collapsed" : false
},
"source" : ["ntubeDraw: (ThreeCurve, TwoCurve, S, S) -> VIEW3D"],
"outputs": []
}
,
{
"cell_type" : "code",
"execution_count": null,
"metadata" : {
    "collapsed" : false
},
"source" : ["ntubeDraw(spaceCurve, planeCurve, uRange, tRange) =="],
"outputs": []
}
,
{
"cell_type" : "code",
"execution_count": null,
"metadata" : {
    "collapsed" : false
},
"source" : ["  ntubeDrawOpt(spaceCurve, planeCurve, uRange, tRange, []$List DROPT)"],
"outputs": []
}
,
{
"cell_type" : "markdown",
"metadata" : {},
"source" : [" ntuberDrawOpt is the same as ntuberDraw, but takes optional"]
}
,
{
"cell_type" : "markdown",
"metadata" : {},
"source" : [" parameters which it passes to the draw command."]
}
,
{
"cell_type" : "code",
"execution_count": null,
"metadata" : {
    "collapsed" : false
},
"source" : ["ntubeDrawOpt: (ThreeCurve, TwoCurve, S, S, List DROPT) -> VIEW3D"],
"outputs": []
}
,
{
"cell_type" : "code",
"execution_count": null,
"metadata" : {
    "collapsed" : false
},
"source" : ["ntubeDrawOpt(spaceCurve, planeCurve, uRange,  tRange, l) =="],
"outputs": []
}
,
{
"cell_type" : "code",
"execution_count": null,
"metadata" : {
    "collapsed" : false
},
"source" : ["  delT:DoubleFloat := (hi(tRange) - lo(tRange))/10000"],
"outputs": []
}
,
{
"cell_type" : "code",
"execution_count": null,
"metadata" : {
    "collapsed" : false
},
"source" : ["  oldT:DoubleFloat := lo(tRange) - 1"],
"outputs": []
}
,
{
"cell_type" : "code",
"execution_count": null,
"metadata" : {
    "collapsed" : false
},
"source" : ["  fun := ngeneralTube(spaceCurve, planeCurve, delT, oldT)"],
"outputs": []
}
,
{
"cell_type" : "code",
"execution_count": null,
"metadata" : {
    "collapsed" : false
},
"source" : ["  draw(fun, uRange, tRange, l)"],
"outputs": []
}
,
{
"cell_type" : "markdown",
"metadata" : {},
"source" : [" nfrenetFrame(c, t, delT) numerically computes the Frenet Frame"]
}
,
{
"cell_type" : "markdown",
"metadata" : {},
"source" : [" about the curve c at t.  delT is a small number used to"]
}
,
{
"cell_type" : "markdown",
"metadata" : {},
"source" : [" compute derivatives."]
}
,
{
"cell_type" : "code",
"execution_count": null,
"metadata" : {
    "collapsed" : false
},
"source" : ["nfrenetFrame(c, t, delT) =="],
"outputs": []
}
,
{
"cell_type" : "code",
"execution_count": null,
"metadata" : {
    "collapsed" : false
},
"source" : ["  f0 := c(t)"],
"outputs": []
}
,
{
"cell_type" : "code",
"execution_count": null,
"metadata" : {
    "collapsed" : false
},
"source" : ["  f1 := c(t+delT)"],
"outputs": []
}
,
{
"cell_type" : "code",
"execution_count": null,
"metadata" : {
    "collapsed" : false
},
"source" : ["  t0 := f1 - f0                -- the tangent"],
"outputs": []
}
,
{
"cell_type" : "code",
"execution_count": null,
"metadata" : {
    "collapsed" : false
},
"source" : ["  n0 := f1 + f0"],
"outputs": []
}
,
{
"cell_type" : "code",
"execution_count": null,
"metadata" : {
    "collapsed" : false
},
"source" : ["  b := cross(t0, n0)           -- the binormal"],
"outputs": []
}
,
{
"cell_type" : "code",
"execution_count": null,
"metadata" : {
    "collapsed" : false
},
"source" : ["  n := cross(b,t0)             -- the normal"],
"outputs": []
}
,
{
"cell_type" : "code",
"execution_count": null,
"metadata" : {
    "collapsed" : false
},
"source" : ["  ln := length n"],
"outputs": []
}
,
{
"cell_type" : "code",
"execution_count": null,
"metadata" : {
    "collapsed" : false
},
"source" : ["  lb := length b"],
"outputs": []
}
,
{
"cell_type" : "code",
"execution_count": null,
"metadata" : {
    "collapsed" : false
},
"source" : ["  ln = 0 or lb = 0 => error \"Frenet Frame not well defined\""],
"outputs": []
}
,
{
"cell_type" : "code",
"execution_count": null,
"metadata" : {
    "collapsed" : false
},
"source" : ["  n := (1/ln)*n                -- make into unit length vectors"],
"outputs": []
}
,
{
"cell_type" : "code",
"execution_count": null,
"metadata" : {
    "collapsed" : false
},
"source" : ["  b := (1/lb)*b"],
"outputs": []
}
,
{
"cell_type" : "code",
"execution_count": null,
"metadata" : {
    "collapsed" : false
},
"source" : ["  [f0, t0, n, b]$FrenetFrame"],
"outputs": []
}
,
{
"cell_type" : "markdown",
"metadata" : {},
"source" : [" nGeneralTube(spaceCurve, planeCurve, delT, oltT)"]
}
,
{
"cell_type" : "markdown",
"metadata" : {},
"source" : [" creates a function which can be passed to the system draw command."]
}
,
{
"cell_type" : "markdown",
"metadata" : {},
"source" : [" The function is a parameterized surface for the general tube"]
}
,
{
"cell_type" : "markdown",
"metadata" : {},
"source" : [" around the spaceCurve.  delT is a small number used to compute"]
}
,
{
"cell_type" : "markdown",
"metadata" : {},
"source" : [" derivatives, and oldT is used to hold the current value of the"]
}
,
{
"cell_type" : "markdown",
"metadata" : {},
"source" : [" t parameter for the spaceCurve.  This is an efficiency measure"]
}
,
{
"cell_type" : "markdown",
"metadata" : {},
"source" : [" to ensure that frames are only computed once for every value of t."]
}
,
{
"cell_type" : "code",
"execution_count": null,
"metadata" : {
    "collapsed" : false
},
"source" : ["ngeneralTube: (ThreeCurve, TwoCurve, DoubleFloat, DoubleFloat) -> Surface"],
"outputs": []
}
,
{
"cell_type" : "code",
"execution_count": null,
"metadata" : {
    "collapsed" : false
},
"source" : ["ngeneralTube(spaceCurve, planeCurve, delT, oldT) =="],
"outputs": []
}
,
{
"cell_type" : "code",
"execution_count": null,
"metadata" : {
    "collapsed" : false
},
"source" : ["  free frame"],
"outputs": []
}
,
{
"cell_type" : "code",
"execution_count": null,
"metadata" : {
    "collapsed" : false
},
"source" : ["  (v:DoubleFloat, t: DoubleFloat): R3 +->"],
"outputs": []
}
,
{
"cell_type" : "code",
"execution_count": null,
"metadata" : {
    "collapsed" : false
},
"source" : ["    if (t ~= oldT) then"],
"outputs": []
}
,
{
"cell_type" : "code",
"execution_count": null,
"metadata" : {
    "collapsed" : false
},
"source" : ["      frame := nfrenetFrame(spaceCurve, t, delT)"],
"outputs": []
}
,
{
"cell_type" : "code",
"execution_count": null,
"metadata" : {
    "collapsed" : false
},
"source" : ["      oldT := t"],
"outputs": []
}
,
{
"cell_type" : "code",
"execution_count": null,
"metadata" : {
    "collapsed" : false
},
"source" : ["    p := planeCurve(v, t)"],
"outputs": []
}
,
{
"cell_type" : "code",
"execution_count": null,
"metadata" : {
    "collapsed" : false
},
"source" : ["    frame.value + p.1*frame.normal + p.2*frame.binormal"],
"outputs": []
}
,
{
"cell_type" : "code",
"execution_count": null,
"metadata" : {
    "collapsed" : false
},
"source" : [""],
"outputs": []
}
 ],
"metadata": {
 "kernelspec": {
  "display_name": "FriCAS",
  "language": "spad",
  "name": "ifricas"
 },
 "language_info": {
  "codemirror_mode": "spad",
  "mimetype": "text/x-spad",
  "name": "SPAD",
  "pygments_lexer": "spad",
  "version": "1.2.6"
 },
 "name": "ntube.ipynb"
},
"nbformat": 4,
"nbformat_minor": 0
}
