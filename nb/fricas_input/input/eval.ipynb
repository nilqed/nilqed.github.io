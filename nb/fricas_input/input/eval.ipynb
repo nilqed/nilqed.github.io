{
 "cells": [
{
"cell_type" : "markdown",
"metadata" : {},
"source" : ["Copyright The Numerical Algorithms Group Limited 1991."]
}
,
{
"cell_type" : "markdown",
"metadata" : {},
"source" : [" This file demonstrate the various eval's available on EXPR, and the"]
}
,
{
"cell_type" : "markdown",
"metadata" : {},
"source" : [" handling of formal derivatives."]
}
,
{
"cell_type" : "markdown",
"metadata" : {},
"source" : [" Lines starting with --^ are comments indicating that the final syntax"]
}
,
{
"cell_type" : "markdown",
"metadata" : {},
"source" : [" will be different."]
}
,
{
"cell_type" : "code",
"execution_count": null,
"metadata" : {
    "collapsed" : false
},
"source" : [")cl all"],
"outputs": []
}
,
{
"cell_type" : "markdown",
"metadata" : {},
"source" : ["^ This line will be optional interactively, since the a := f(x^2)"]
}
,
{
"cell_type" : "markdown",
"metadata" : {},
"source" : ["^ will prompt you if you don't declare f this way."]
}
,
{
"cell_type" : "code",
"execution_count": null,
"metadata" : {
    "collapsed" : false
},
"source" : ["f := operator 'f"],
"outputs": []
}
,
{
"cell_type" : "code",
"execution_count": null,
"metadata" : {
    "collapsed" : false
},
"source" : ["a := f(x^2)"],
"outputs": []
}
,
{
"cell_type" : "code",
"execution_count": null,
"metadata" : {
    "collapsed" : false
},
"source" : ["b := differentiate(a,x,2) + f 5"],
"outputs": []
}
,
{
"cell_type" : "markdown",
"metadata" : {},
"source" : [" This is the 'variable' evaluation, similar to what's available on"]
}
,
{
"cell_type" : "markdown",
"metadata" : {},
"source" : [" polynomials:"]
}
,
{
"cell_type" : "code",
"execution_count": null,
"metadata" : {
    "collapsed" : false
},
"source" : ["eval(b, x = x + y)"],
"outputs": []
}
,
{
"cell_type" : "markdown",
"metadata" : {},
"source" : [" This is the 'kernel' evaluation, allowing you to specify special"]
}
,
{
"cell_type" : "markdown",
"metadata" : {},
"source" : [" values. Only the specified value f 5 is affected, not the others:"]
}
,
{
"cell_type" : "code",
"execution_count": null,
"metadata" : {
    "collapsed" : false
},
"source" : ["eval(b, f 5 = 1)"],
"outputs": []
}
,
{
"cell_type" : "markdown",
"metadata" : {},
"source" : [" This is the 'operator' evaluation, allowing you to specify an actual"]
}
,
{
"cell_type" : "markdown",
"metadata" : {},
"source" : [" function for a formal one. ALL the values of f are affected."]
}
,
{
"cell_type" : "markdown",
"metadata" : {},
"source" : ["^ will eventually use the +-> notation in the eval statement"]
}
,
{
"cell_type" : "code",
"execution_count": null,
"metadata" : {
    "collapsed" : false
},
"source" : ["foo(u:EXPR INT):EXPR INT == exp u"],
"outputs": []
}
,
{
"cell_type" : "markdown",
"metadata" : {},
"source" : [" So what is b if f were the exponential function?"]
}
,
{
"cell_type" : "markdown",
"metadata" : {},
"source" : [" Notice that the formal derivatives will be computed properly now:"]
}
,
{
"cell_type" : "code",
"execution_count": null,
"metadata" : {
    "collapsed" : false
},
"source" : ["c := eval(b, 'f, foo)"],
"outputs": []
}
,
{
"cell_type" : "markdown",
"metadata" : {},
"source" : [" We can also use that evaluation on 'system' operators, which allows"]
}
,
{
"cell_type" : "markdown",
"metadata" : {},
"source" : [" us to replace an actual function by a formal one:"]
}
,
{
"cell_type" : "code",
"execution_count": null,
"metadata" : {
    "collapsed" : false
},
"source" : ["oof(u:EXPR INT):EXPR INT == f u"],
"outputs": []
}
,
{
"cell_type" : "code",
"execution_count": null,
"metadata" : {
    "collapsed" : false
},
"source" : ["eval(c, 'exp, oof)"],
"outputs": []
}
,
{
"cell_type" : "markdown",
"metadata" : {},
"source" : [" It is also possible to give f a derivative without replacing it by"]
}
,
{
"cell_type" : "markdown",
"metadata" : {},
"source" : [" a 'concrete' function:"]
}
,
{
"cell_type" : "code",
"execution_count": null,
"metadata" : {
    "collapsed" : false
},
"source" : ["f'(u:EXPR INT):EXPR INT == f u"],
"outputs": []
}
,
{
"cell_type" : "markdown",
"metadata" : {},
"source" : [" this will make f differentiate like an exponential:"]
}
,
{
"cell_type" : "code",
"execution_count": null,
"metadata" : {
    "collapsed" : false
},
"source" : ["derivative(f,f')"],
"outputs": []
}
,
{
"cell_type" : "code",
"execution_count": null,
"metadata" : {
    "collapsed" : false
},
"source" : ["b"],
"outputs": []
}
,
{
"cell_type" : "markdown",
"metadata" : {},
"source" : ["^ The coercion is needed to avoid an interpreter bug."]
}
,
{
"cell_type" : "markdown",
"metadata" : {},
"source" : ["^ This will just be eval(b) eventually:"]
}
,
{
"cell_type" : "code",
"execution_count": null,
"metadata" : {
    "collapsed" : false
},
"source" : ["eval(b, x = x::(EXPR INT))"],
"outputs": []
}
,
{
"cell_type" : "code",
"execution_count": null,
"metadata" : {
    "collapsed" : false
},
"source" : ["differentiate(%, x)"],
"outputs": []
}
,
{
"cell_type" : "markdown",
"metadata" : {},
"source" : [" This is the 'operator/power' evaluation: suppose that we know that"]
}
,
{
"cell_type" : "markdown",
"metadata" : {},
"source" : [" f squared is the exponential, but we do not want to replace f(u) by"]
}
,
{
"cell_type" : "markdown",
"metadata" : {},
"source" : [" sqrt(exp u). It is still possible to eliminate higher powers of f"]
}
,
{
"cell_type" : "markdown",
"metadata" : {},
"source" : [" in the following way:"]
}
,
{
"cell_type" : "code",
"execution_count": null,
"metadata" : {
    "collapsed" : false
},
"source" : ["a3 := a * a * a"],
"outputs": []
}
,
{
"cell_type" : "code",
"execution_count": null,
"metadata" : {
    "collapsed" : false
},
"source" : ["foo"],
"outputs": []
}
,
{
"cell_type" : "code",
"execution_count": null,
"metadata" : {
    "collapsed" : false
},
"source" : ["eval(a3,'f,2,foo)"],
"outputs": []
}
,
{
"cell_type" : "markdown",
"metadata" : {},
"source" : [" Several 'operator' evaluations can be carried out simultaneously:"]
}
,
{
"cell_type" : "code",
"execution_count": null,
"metadata" : {
    "collapsed" : false
},
"source" : ["g := operator 'g"],
"outputs": []
}
,
{
"cell_type" : "code",
"execution_count": null,
"metadata" : {
    "collapsed" : false
},
"source" : ["bar(u:EXPR INT):EXPR INT == sin(u) + cos(2*u)"],
"outputs": []
}
,
{
"cell_type" : "code",
"execution_count": null,
"metadata" : {
    "collapsed" : false
},
"source" : ["a + g a"],
"outputs": []
}
,
{
"cell_type" : "code",
"execution_count": null,
"metadata" : {
    "collapsed" : false
},
"source" : ["eval(%,['f,'g],[foo,bar])"],
"outputs": []
}
,
{
"cell_type" : "code",
"execution_count": null,
"metadata" : {
    "collapsed" : false
},
"source" : ["a3 + g a"],
"outputs": []
}
,
{
"cell_type" : "markdown",
"metadata" : {},
"source" : [" The grand finale: by now the effect of the following should be clear:"]
}
,
{
"cell_type" : "code",
"execution_count": null,
"metadata" : {
    "collapsed" : false
},
"source" : ["eval(%,['f,'g],[2,1],[foo,bar])"],
"outputs": []
}
,
{
"cell_type" : "code",
"execution_count": null,
"metadata" : {
    "collapsed" : false
},
"source" : [""],
"outputs": []
}
 ],
"metadata": {
 "kernelspec": {
  "display_name": "FriCAS",
  "language": "spad",
  "name": "ifricas"
 },
 "language_info": {
  "codemirror_mode": "spad",
  "mimetype": "text/x-spad",
  "name": "SPAD",
  "pygments_lexer": "spad",
  "version": "1.2.6"
 },
 "name": "eval.ipynb"
},
"nbformat": 4,
"nbformat_minor": 0
}
