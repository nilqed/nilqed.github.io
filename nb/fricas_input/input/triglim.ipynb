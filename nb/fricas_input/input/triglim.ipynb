{
 "cells": [
{
"cell_type" : "markdown",
"metadata" : {},
"source" : ["Copyright The Numerical Algorithms Group Limited MCMXCII."]
}
,
{
"cell_type" : "markdown",
"metadata" : {},
"source" : ["% Limits involving trig and inverse trig functions"]
}
,
{
"cell_type" : "markdown",
"metadata" : {},
"source" : [" Some of these limits were taken from bug reports submitted before"]
}
,
{
"cell_type" : "markdown",
"metadata" : {},
"source" : [" changes were made to limit and related series packages."]
}
,
{
"cell_type" : "markdown",
"metadata" : {},
"source" : [" Author: Clifton J. Williamson"]
}
,
{
"cell_type" : "markdown",
"metadata" : {},
"source" : [" Date Created: 27 August 1992"]
}
,
{
"cell_type" : "markdown",
"metadata" : {},
"source" : [" Date Last Updated: 27 August 1992"]
}
,
{
"cell_type" : "markdown",
"metadata" : {},
"source" : [" Keywords: limit, trigonometric function, inverse trigonometric function"]
}
,
{
"cell_type" : "markdown",
"metadata" : {},
"source" : [" References:"]
}
,
{
"cell_type" : "code",
"execution_count": null,
"metadata" : {
    "collapsed" : false
},
"source" : [")clear all"],
"outputs": []
}
,
{
"cell_type" : "markdown",
"metadata" : {},
"source" : [" in each case, the argument to 'atan' has a pole and the left-hand"]
}
,
{
"cell_type" : "markdown",
"metadata" : {},
"source" : [" and right-hand limits differ"]
}
,
{
"cell_type" : "code",
"execution_count": null,
"metadata" : {
    "collapsed" : false
},
"source" : ["limit(atan(1/sin(x)),x = 0)"],
"outputs": []
}
,
{
"cell_type" : "code",
"execution_count": null,
"metadata" : {
    "collapsed" : false
},
"source" : ["limit(atan(sqrt(1 - x^2)/x),x = 0)"],
"outputs": []
}
,
{
"cell_type" : "code",
"execution_count": null,
"metadata" : {
    "collapsed" : false
},
"source" : ["limit(atan(-sin(x)/(cos(x) + a)),x = acos(-a))"],
"outputs": []
}
,
{
"cell_type" : "code",
"execution_count": null,
"metadata" : {
    "collapsed" : false
},
"source" : ["limit(atan(sin(x)/(cos(x) + a)),x = acos(-a))"],
"outputs": []
}
,
{
"cell_type" : "markdown",
"metadata" : {},
"source" : [" we'll get these next two if sqrt(1 - a^2) is considered to be"]
}
,
{
"cell_type" : "markdown",
"metadata" : {},
"source" : [" positive by SIGNEF"]
}
,
{
"cell_type" : "code",
"execution_count": null,
"metadata" : {
    "collapsed" : false
},
"source" : ["limit(atan(1/(cos(x) + a)),x = acos(-a))"],
"outputs": []
}
,
{
"cell_type" : "code",
"execution_count": null,
"metadata" : {
    "collapsed" : false
},
"source" : ["limit(atan(1/(sin(x) + a)),x = asin(-a))"],
"outputs": []
}
,
{
"cell_type" : "code",
"execution_count": null,
"metadata" : {
    "collapsed" : false
},
"source" : ["f := exp(n) * (sin(1/n + exp(-n)) - sin(1/n))"],
"outputs": []
}
,
{
"cell_type" : "code",
"execution_count": null,
"metadata" : {
    "collapsed" : false
},
"source" : ["limit(f,n=%plusInfinity)"],
"outputs": []
}
,
{
"cell_type" : "code",
"execution_count": null,
"metadata" : {
    "collapsed" : false
},
"source" : [""],
"outputs": []
}
 ],
"metadata": {
 "kernelspec": {
  "display_name": "FriCAS",
  "language": "spad",
  "name": "ifricas"
 },
 "language_info": {
  "codemirror_mode": "spad",
  "mimetype": "text/x-spad",
  "name": "SPAD",
  "pygments_lexer": "spad",
  "version": "1.2.6"
 },
 "name": "triglim.ipynb"
},
"nbformat": 4,
"nbformat_minor": 0
}
