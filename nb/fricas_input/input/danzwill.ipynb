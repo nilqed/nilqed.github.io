{
 "cells": [
{
"cell_type" : "markdown",
"metadata" : {},
"source" : ["Copyright The Numerical Algorithms Group Limited 1994."]
}
,
{
"cell_type" : "markdown",
"metadata" : {},
"source" : [" X-External-Networks: yes"]
}
,
{
"cell_type" : "markdown",
"metadata" : {},
"source" : [" Date: Fri, 3 Apr 92 10:58:35 -0500"]
}
,
{
"cell_type" : "markdown",
"metadata" : {},
"source" : [" From: zwilling@world.std.com (Daniel Zwillinger)"]
}
,
{
"cell_type" : "markdown",
"metadata" : {},
"source" : [" To: axiom@watson.ibm.com"]
}
,
{
"cell_type" : "markdown",
"metadata" : {},
"source" : [""]
}
,
{
"cell_type" : "markdown",
"metadata" : {},
"source" : [" Enclosed is my test suite of integrals in MAPLE format."]
}
,
{
"cell_type" : "markdown",
"metadata" : {},
"source" : [" I would appreciate you running it under AXIOM and returning the"]
}
,
{
"cell_type" : "markdown",
"metadata" : {},
"source" : [" results to me via email."]
}
,
{
"cell_type" : "markdown",
"metadata" : {},
"source" : [""]
}
,
{
"cell_type" : "markdown",
"metadata" : {},
"source" : [" Thank you."]
}
,
{
"cell_type" : "markdown",
"metadata" : {},
"source" : [""]
}
,
{
"cell_type" : "markdown",
"metadata" : {},
"source" : [" ----------------------------------------------------------------------"]
}
,
{
"cell_type" : "markdown",
"metadata" : {},
"source" : [" Daniel Zwillinger            email: zwilling@world.std.com"]
}
,
{
"cell_type" : "markdown",
"metadata" : {},
"source" : [" 61 Highland Avenue           phone: 617/646-8565"]
}
,
{
"cell_type" : "markdown",
"metadata" : {},
"source" : [" Arlington, MA 02174"]
}
,
{
"cell_type" : "markdown",
"metadata" : {},
"source" : [" Home of: Handbook of Differential Equations"]
}
,
{
"cell_type" : "markdown",
"metadata" : {},
"source" : [" Home of: Handbook of Integration"]
}
,
{
"cell_type" : "markdown",
"metadata" : {},
"source" : [" ----------------------------------------------------------------------"]
}
,
{
"cell_type" : "markdown",
"metadata" : {},
"source" : [""]
}
,
{
"cell_type" : "code",
"execution_count": null,
"metadata" : {
    "collapsed" : false
},
"source" : [")clear all"],
"outputs": []
}
,
{
"cell_type" : "code",
"execution_count": null,
"metadata" : {
    "collapsed" : false
},
"source" : [")set break resume"],
"outputs": []
}
,
{
"cell_type" : "code",
"execution_count": null,
"metadata" : {
    "collapsed" : false
},
"source" : ["i1 := integrate( sin(x), x)"],
"outputs": []
}
,
{
"cell_type" : "markdown",
"metadata" : {},
"source" : ["i2 := integrate( sqrt(tan(x)), x)"]
}
,
{
"cell_type" : "code",
"execution_count": null,
"metadata" : {
    "collapsed" : false
},
"source" : ["i3 := integrate( x/(x^3-1),x)"],
"outputs": []
}
,
{
"cell_type" : "code",
"execution_count": null,
"metadata" : {
    "collapsed" : false
},
"source" : ["i4 := integrate( x/sin(x)^2, x)"],
"outputs": []
}
,
{
"cell_type" : "code",
"execution_count": null,
"metadata" : {
    "collapsed" : false
},
"source" : ["i5 := integrate( log(x)/sqrt(x+1), x)"],
"outputs": []
}
,
{
"cell_type" : "code",
"execution_count": null,
"metadata" : {
    "collapsed" : false
},
"source" : ["i6 := integrate( exp(-a*x^2), x)"],
"outputs": []
}
,
{
"cell_type" : "code",
"execution_count": null,
"metadata" : {
    "collapsed" : false
},
"source" : ["i7 := integrate( x/(log(x))^3, x)"],
"outputs": []
}
,
{
"cell_type" : "code",
"execution_count": null,
"metadata" : {
    "collapsed" : false
},
"source" : ["i8 := integrate( x/(sqrt(1+x)+sqrt(1-x)),x)"],
"outputs": []
}
,
{
"cell_type" : "code",
"execution_count": null,
"metadata" : {
    "collapsed" : false
},
"source" : ["i9 := integrate( 1/(2+cos(x)),x)"],
"outputs": []
}
,
{
"cell_type" : "code",
"execution_count": null,
"metadata" : {
    "collapsed" : false
},
"source" : ["i10:= integrate( sin(x)/x^2, x)"],
"outputs": []
}
,
{
"cell_type" : "code",
"execution_count": null,
"metadata" : {
    "collapsed" : false
},
"source" : ["d1:= integrate( 1/(2+cos(x)),x=0..4*%pi)"],
"outputs": []
}
,
{
"cell_type" : "code",
"execution_count": null,
"metadata" : {
    "collapsed" : false
},
"source" : [")set mes test off"],
"outputs": []
}
,
{
"cell_type" : "code",
"execution_count": null,
"metadata" : {
    "collapsed" : false
},
"source" : ["d2:= integrate( sin(x)/x,x=%minusInfinity..%plusInfinity)"],
"outputs": []
}
,
{
"cell_type" : "code",
"execution_count": null,
"metadata" : {
    "collapsed" : false
},
"source" : [")set mes test on"],
"outputs": []
}
,
{
"cell_type" : "code",
"execution_count": null,
"metadata" : {
    "collapsed" : false
},
"source" : ["d3:= integrate( x^2/(1+x^3),x=0..%plusInfinity)"],
"outputs": []
}
,
{
"cell_type" : "code",
"execution_count": null,
"metadata" : {
    "collapsed" : false
},
"source" : ["d4:= integrate( exp(-x)/sqrt(x),x=0..%plusInfinity)"],
"outputs": []
}
,
{
"cell_type" : "code",
"execution_count": null,
"metadata" : {
    "collapsed" : false
},
"source" : ["d5:= integrate( exp(-x^2)*log(x)^2,x=0..%plusInfinity)"],
"outputs": []
}
,
{
"cell_type" : "code",
"execution_count": null,
"metadata" : {
    "collapsed" : false
},
"source" : ["d6:= integrate( exp(-x)*log(x)^2*x^3,x=1..%plusInfinity)"],
"outputs": []
}
,
{
"cell_type" : "code",
"execution_count": null,
"metadata" : {
    "collapsed" : false
},
"source" : ["d7:= integrate( exp(-x)*x^(1/3),x=1..%plusInfinity)"],
"outputs": []
}
,
{
"cell_type" : "code",
"execution_count": null,
"metadata" : {
    "collapsed" : false
},
"source" : ["d8:= integrate( exp(-x)*x^2/(1-exp(-2*x)),x=0..%plusInfinity)"],
"outputs": []
}
,
{
"cell_type" : "code",
"execution_count": null,
"metadata" : {
    "collapsed" : false
},
"source" : [")set mes test off"],
"outputs": []
}
,
{
"cell_type" : "code",
"execution_count": null,
"metadata" : {
    "collapsed" : false
},
"source" : ["d9:= integrate( 1/x^2,x=-1..1)"],
"outputs": []
}
,
{
"cell_type" : "code",
"execution_count": null,
"metadata" : {
    "collapsed" : false
},
"source" : [")set mes test on"],
"outputs": []
}
,
{
"cell_type" : "code",
"execution_count": null,
"metadata" : {
    "collapsed" : false
},
"source" : [""],
"outputs": []
}
 ],
"metadata": {
 "kernelspec": {
  "display_name": "FriCAS",
  "language": "spad",
  "name": "ifricas"
 },
 "language_info": {
  "codemirror_mode": "spad",
  "mimetype": "text/x-spad",
  "name": "SPAD",
  "pygments_lexer": "spad",
  "version": "1.2.6"
 },
 "name": "danzwill.ipynb"
},
"nbformat": 4,
"nbformat_minor": 0
}
