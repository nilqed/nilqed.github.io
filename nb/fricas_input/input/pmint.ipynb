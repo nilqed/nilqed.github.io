{
 "cells": [
{
"cell_type" : "markdown",
"metadata" : {},
"source" : ["Version 1.1 ---  May 10, 2005  (c) M.Bronstein and INRIA 2004-2005"]
}
,
{
"cell_type" : "code",
"execution_count": null,
"metadata" : {
    "collapsed" : false
},
"source" : [")clear all"],
"outputs": []
}
,
{
"cell_type" : "code",
"execution_count": null,
"metadata" : {
    "collapsed" : false
},
"source" : [")set break resume"],
"outputs": []
}
,
{
"cell_type" : "code",
"execution_count": null,
"metadata" : {
    "collapsed" : false
},
"source" : [")clear all"],
"outputs": []
}
,
{
"cell_type" : "markdown",
"metadata" : {},
"source" : [" Airy Functions"]
}
,
{
"cell_type" : "code",
"execution_count": null,
"metadata" : {
    "collapsed" : false
},
"source" : ["f:=(x-airyAi(x)*airyAiPrime(x))/(x^2-airyAi(x)^2)"],
"outputs": []
}
,
{
"cell_type" : "code",
"execution_count": null,
"metadata" : {
    "collapsed" : false
},
"source" : ["integrate(f,x)"],
"outputs": []
}
,
{
"cell_type" : "markdown",
"metadata" : {},
"source" : [" should be:"]
}
,
{
"cell_type" : "markdown",
"metadata" : {},
"source" : ["  1                    1"]
}
,
{
"cell_type" : "markdown",
"metadata" : {},
"source" : ["  - log(x+airyAi(x)) + - log(x-airyAi(x))"]
}
,
{
"cell_type" : "markdown",
"metadata" : {},
"source" : ["  2                    2"]
}
,
{
"cell_type" : "code",
"execution_count": null,
"metadata" : {
    "collapsed" : false
},
"source" : ["f:=x^2*airyAi(x)"],
"outputs": []
}
,
{
"cell_type" : "markdown",
"metadata" : {},
"source" : [" should be:"]
}
,
{
"cell_type" : "markdown",
"metadata" : {},
"source" : ["         2"]
}
,
{
"cell_type" : "markdown",
"metadata" : {},
"source" : ["   (1)  x airyAi(x)"]
}
,
{
"cell_type" : "markdown",
"metadata" : {},
"source" : ["                                                     Type: Expression Integer"]
}
,
{
"cell_type" : "code",
"execution_count": null,
"metadata" : {
    "collapsed" : false
},
"source" : ["g:=integrate(f,x)"],
"outputs": []
}
,
{
"cell_type" : "markdown",
"metadata" : {},
"source" : [" should be:"]
}
,
{
"cell_type" : "markdown",
"metadata" : {},
"source" : ["  -airyAi(x) + airyAiPrime(x) x"]
}
,
{
"cell_type" : "code",
"execution_count": null,
"metadata" : {
    "collapsed" : false
},
"source" : [")clear all"],
"outputs": []
}
,
{
"cell_type" : "markdown",
"metadata" : {},
"source" : [" Bessel functions"]
}
,
{
"cell_type" : "code",
"execution_count": null,
"metadata" : {
    "collapsed" : false
},
"source" : ["f:=besselJ(y+1,x)/besselJ(y,x)"],
"outputs": []
}
,
{
"cell_type" : "code",
"execution_count": null,
"metadata" : {
    "collapsed" : false
},
"source" : ["g:=integrate(f,x)"],
"outputs": []
}
,
{
"cell_type" : "markdown",
"metadata" : {},
"source" : [" should be:"]
}
,
{
"cell_type" : "markdown",
"metadata" : {},
"source" : ["  y log(x) - log(besselJ(y,x))"]
}
,
{
"cell_type" : "code",
"execution_count": null,
"metadata" : {
    "collapsed" : false
},
"source" : ["f := y*besselJ(y,x)/x - besselJ(y+1,x)"],
"outputs": []
}
,
{
"cell_type" : "code",
"execution_count": null,
"metadata" : {
    "collapsed" : false
},
"source" : ["integrate(f,x)"],
"outputs": []
}
,
{
"cell_type" : "markdown",
"metadata" : {},
"source" : [" should be besselJ(y,x)"]
}
,
{
"cell_type" : "code",
"execution_count": null,
"metadata" : {
    "collapsed" : false
},
"source" : [")clear all"],
"outputs": []
}
,
{
"cell_type" : "markdown",
"metadata" : {},
"source" : [" Whittaker functions"]
}
,
{
"cell_type" : "code",
"execution_count": null,
"metadata" : {
    "collapsed" : false
},
"source" : ["f := whittakerW(u + 1, n, x)/(x*whittakerW(u, n, x))"],
"outputs": []
}
,
{
"cell_type" : "code",
"execution_count": null,
"metadata" : {
    "collapsed" : false
},
"source" : ["integrate(f,x)"],
"outputs": []
}
,
{
"cell_type" : "markdown",
"metadata" : {},
"source" : [" should be:"]
}
,
{
"cell_type" : "markdown",
"metadata" : {},
"source" : [" x/2 - u*log(x) - log(whittakerW(u,n,x)), x)"]
}
,
{
"cell_type" : "code",
"execution_count": null,
"metadata" : {
    "collapsed" : false
},
"source" : [")clear all"],
"outputs": []
}
,
{
"cell_type" : "markdown",
"metadata" : {},
"source" : [" The Lambert W function"]
}
,
{
"cell_type" : "code",
"execution_count": null,
"metadata" : {
    "collapsed" : false
},
"source" : ["integrate(sin(lambertW(x)),x)"],
"outputs": []
}
,
{
"cell_type" : "markdown",
"metadata" : {},
"source" : ["should be:"]
}
,
{
"cell_type" : "markdown",
"metadata" : {},
"source" : [" +-                                                  -+"]
}
,
{
"cell_type" : "markdown",
"metadata" : {},
"source" : [" |                                     2              |"]
}
,
{
"cell_type" : "markdown",
"metadata" : {},
"source" : [" |                    +-             -+               |"]
}
,
{
"cell_type" : "markdown",
"metadata" : {},
"source" : [" |  1                 | 1             |  2            |"]
}
,
{
"cell_type" : "markdown",
"metadata" : {},
"source" : [" |  - LambertW(x) tan | - LambertW(x) | x   +         |"]
}
,
{
"cell_type" : "markdown",
"metadata" : {},
"source" : [" |  2                 | 2             |               |"]
}
,
{
"cell_type" : "markdown",
"metadata" : {},
"source" : [" |                    +-             -+               |"]
}
,
{
"cell_type" : "markdown",
"metadata" : {},
"source" : [" |                                                    |"]
}
,
{
"cell_type" : "markdown",
"metadata" : {},
"source" : [" |                  +-             -+                 |"]
}
,
{
"cell_type" : "markdown",
"metadata" : {},
"source" : [" |                  | 1             |  2              |"]
}
,
{
"cell_type" : "markdown",
"metadata" : {},
"source" : [" |  LambertW(x) tan | - LambertW(x) | x  +            |"]
}
,
{
"cell_type" : "markdown",
"metadata" : {},
"source" : [" |                  | 2             |                 |"]
}
,
{
"cell_type" : "markdown",
"metadata" : {},
"source" : [" |                  +-             -+                 |"]
}
,
{
"cell_type" : "markdown",
"metadata" : {},
"source" : [" |                                                    |"]
}
,
{
"cell_type" : "markdown",
"metadata" : {},
"source" : [" |      +-             -+                             |"]
}
,
{
"cell_type" : "markdown",
"metadata" : {},
"source" : [" |      | 1             |  2      1              2    |"]
}
,
{
"cell_type" : "markdown",
"metadata" : {},
"source" : [" |  tan | - LambertW(x) | x  -    - LambertW(x) x     |"]
}
,
{
"cell_type" : "markdown",
"metadata" : {},
"source" : [" |      | 2             |         2                   |"]
}
,
{
"cell_type" : "markdown",
"metadata" : {},
"source" : [" |      +-             -+                             |"]
}
,
{
"cell_type" : "markdown",
"metadata" : {},
"source" : [" +-                                                  -+"]
}
,
{
"cell_type" : "markdown",
"metadata" : {},
"source" : [" ------------------------------------------------------"]
}
,
{
"cell_type" : "markdown",
"metadata" : {},
"source" : ["                  +-                         2 -+"]
}
,
{
"cell_type" : "markdown",
"metadata" : {},
"source" : ["                  |         +-             -+   |"]
}
,
{
"cell_type" : "markdown",
"metadata" : {},
"source" : ["                  |         | 1             |   |"]
}
,
{
"cell_type" : "markdown",
"metadata" : {},
"source" : ["    x LambertW(x) | 1 + tan | - LambertW(x) |   |"]
}
,
{
"cell_type" : "markdown",
"metadata" : {},
"source" : ["                  |         | 2             |   |"]
}
,
{
"cell_type" : "markdown",
"metadata" : {},
"source" : ["                  |         +-             -+   |"]
}
,
{
"cell_type" : "markdown",
"metadata" : {},
"source" : ["                  +-                           -+"]
}
,
{
"cell_type" : "code",
"execution_count": null,
"metadata" : {
    "collapsed" : false
},
"source" : ["f:=(2*lambertW(x^2)*cos(lambertW(x^2))*(a*x+lambertW(x^2))+a*x*(1+lambertW(x^2)) + 2*lambertW(x^2))/((1+lambertW(x^2))*(a*x+lambertW(x^2))*x)"],
"outputs": []
}
,
{
"cell_type" : "markdown",
"metadata" : {},
"source" : ["+-                                                       -+"]
}
,
{
"cell_type" : "markdown",
"metadata" : {},
"source" : ["|                                                         |"]
}
,
{
"cell_type" : "markdown",
"metadata" : {},
"source" : ["|             2                2                    2     |"]
}
,
{
"cell_type" : "markdown",
"metadata" : {},
"source" : ["| 2 LambertW(x ) cos(LambertW(x )) (a x + LambertW(x )) + |"]
}
,
{
"cell_type" : "markdown",
"metadata" : {},
"source" : ["|                                                         |"]
}
,
{
"cell_type" : "markdown",
"metadata" : {},
"source" : ["|                   2                 2                   |"]
}
,
{
"cell_type" : "markdown",
"metadata" : {},
"source" : ["| a x (1 + LambertW(x )) + 2 LambertW(x )                 |"]
}
,
{
"cell_type" : "markdown",
"metadata" : {},
"source" : ["|                                                         |"]
}
,
{
"cell_type" : "markdown",
"metadata" : {},
"source" : ["+-                                                       -+"]
}
,
{
"cell_type" : "markdown",
"metadata" : {},
"source" : ["-----------------------------------------------------------"]
}
,
{
"cell_type" : "markdown",
"metadata" : {},
"source" : ["                2                 2"]
}
,
{
"cell_type" : "markdown",
"metadata" : {},
"source" : [" (1 + LambertW(x ))(a x+LambertW(x )) x"]
}
,
{
"cell_type" : "markdown",
"metadata" : {},
"source" : [""]
}
,
{
"cell_type" : "code",
"execution_count": null,
"metadata" : {
    "collapsed" : false
},
"source" : ["integrate(f,x)"],
"outputs": []
}
,
{
"cell_type" : "markdown",
"metadata" : {},
"source" : [""]
}
,
{
"cell_type" : "markdown",
"metadata" : {},
"source" : ["        +-              -+"]
}
,
{
"cell_type" : "markdown",
"metadata" : {},
"source" : ["        | 1           2  |"]
}
,
{
"cell_type" : "markdown",
"metadata" : {},
"source" : ["  2 tan | - LambertW(x ) |"]
}
,
{
"cell_type" : "markdown",
"metadata" : {},
"source" : ["        | 2              |"]
}
,
{
"cell_type" : "markdown",
"metadata" : {},
"source" : ["        +-              -+                          2"]
}
,
{
"cell_type" : "markdown",
"metadata" : {},
"source" : ["  --------------------------- + log(a x + LambertW(x ))"]
}
,
{
"cell_type" : "markdown",
"metadata" : {},
"source" : ["                            2"]
}
,
{
"cell_type" : "markdown",
"metadata" : {},
"source" : ["          +-              -+"]
}
,
{
"cell_type" : "markdown",
"metadata" : {},
"source" : ["          | 1           2  |"]
}
,
{
"cell_type" : "markdown",
"metadata" : {},
"source" : ["  1 + tan | - LambertW(x ) |"]
}
,
{
"cell_type" : "markdown",
"metadata" : {},
"source" : ["          | 2              |"]
}
,
{
"cell_type" : "markdown",
"metadata" : {},
"source" : ["          +-              -+"]
}
,
{
"cell_type" : "markdown",
"metadata" : {},
"source" : [""]
}
,
{
"cell_type" : "markdown",
"metadata" : {},
"source" : [""]
}
,
{
"cell_type" : "code",
"execution_count": null,
"metadata" : {
    "collapsed" : false
},
"source" : [")clear all"],
"outputs": []
}
,
{
"cell_type" : "markdown",
"metadata" : {},
"source" : [" The Wright omega function"]
}
,
{
"cell_type" : "code",
"execution_count": null,
"metadata" : {
    "collapsed" : false
},
"source" : ["omega(z) == lambertW(exp(z))"],
"outputs": []
}
,
{
"cell_type" : "code",
"execution_count": null,
"metadata" : {
    "collapsed" : false
},
"source" : ["integrate(omega(x),x)"],
"outputs": []
}
,
{
"cell_type" : "markdown",
"metadata" : {},
"source" : [""]
}
,
{
"cell_type" : "markdown",
"metadata" : {},
"source" : ["  1            x             x"]
}
,
{
"cell_type" : "markdown",
"metadata" : {},
"source" : ["  - LambertW(%e )(LambertW(%e )+2)"]
}
,
{
"cell_type" : "markdown",
"metadata" : {},
"source" : ["  2"]
}
,
{
"cell_type" : "markdown",
"metadata" : {},
"source" : [""]
}
,
{
"cell_type" : "markdown",
"metadata" : {},
"source" : [" f:=(1+lambertW(%e^x)*(2+cos(lambertW(%e^x))*(x+LambertW(%e^x))))/((1+LambertW(%e^x))*(x+LambertW(%e^x)))"]
}
,
{
"cell_type" : "code",
"execution_count": null,
"metadata" : {
    "collapsed" : false
},
"source" : ["f := (1 + omega(x) * (2 + cos(omega(x)) * (x + omega(x)))) / (1 + omega(x)) / (x + omega(x))"],
"outputs": []
}
,
{
"cell_type" : "code",
"execution_count": null,
"metadata" : {
    "collapsed" : false
},
"source" : ["integrate(f,x)"],
"outputs": []
}
,
{
"cell_type" : "markdown",
"metadata" : {},
"source" : [""]
}
,
{
"cell_type" : "markdown",
"metadata" : {},
"source" : ["        +-               -+"]
}
,
{
"cell_type" : "markdown",
"metadata" : {},
"source" : ["        | 1            x  |"]
}
,
{
"cell_type" : "markdown",
"metadata" : {},
"source" : ["  2 tan | - LambertW(%e ) |"]
}
,
{
"cell_type" : "markdown",
"metadata" : {},
"source" : ["        | 2               |"]
}
,
{
"cell_type" : "markdown",
"metadata" : {},
"source" : ["        +-               -+                         x"]
}
,
{
"cell_type" : "markdown",
"metadata" : {},
"source" : ["  ---------------------------- + log(x + LambertW(%e ))"]
}
,
{
"cell_type" : "markdown",
"metadata" : {},
"source" : ["                             2"]
}
,
{
"cell_type" : "markdown",
"metadata" : {},
"source" : ["          +-               -+"]
}
,
{
"cell_type" : "markdown",
"metadata" : {},
"source" : ["          | 1            x  |"]
}
,
{
"cell_type" : "markdown",
"metadata" : {},
"source" : ["  1 + tan | - LambertW(%e ) |"]
}
,
{
"cell_type" : "markdown",
"metadata" : {},
"source" : ["          | 2               |"]
}
,
{
"cell_type" : "markdown",
"metadata" : {},
"source" : ["          +-               -+"]
}
,
{
"cell_type" : "markdown",
"metadata" : {},
"source" : [""]
}
,
{
"cell_type" : "code",
"execution_count": null,
"metadata" : {
    "collapsed" : false
},
"source" : [""],
"outputs": []
}
 ],
"metadata": {
 "kernelspec": {
  "display_name": "FriCAS",
  "language": "spad",
  "name": "ifricas"
 },
 "language_info": {
  "codemirror_mode": "spad",
  "mimetype": "text/x-spad",
  "name": "SPAD",
  "pygments_lexer": "spad",
  "version": "1.2.6"
 },
 "name": "pmint.ipynb"
},
"nbformat": 4,
"nbformat_minor": 0
}
