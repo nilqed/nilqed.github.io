{
 "cells": [
{
"cell_type" : "markdown",
"metadata" : {},
"source" : ["Copyright The Numerical Algorithms Group Limited 1994."]
}
,
{
"cell_type" : "markdown",
"metadata" : {},
"source" : [" Color gallery page 7"]
}
,
{
"cell_type" : "code",
"execution_count": null,
"metadata" : {
    "collapsed" : false
},
"source" : [")read conformal"],
"outputs": []
}
,
{
"cell_type" : "markdown",
"metadata" : {},
"source" : [" Conformal maps"]
}
,
{
"cell_type" : "markdown",
"metadata" : {},
"source" : [" The map z +-> z + 1/z on the complex plane"]
}
,
{
"cell_type" : "markdown",
"metadata" : {},
"source" : [" The coordinate grid for the complex plane"]
}
,
{
"cell_type" : "code",
"execution_count": null,
"metadata" : {
    "collapsed" : false
},
"source" : ["f z == z"],
"outputs": []
}
,
{
"cell_type" : "code",
"execution_count": null,
"metadata" : {
    "collapsed" : false
},
"source" : ["conformalDraw(f, -2..2, -2..2, 9, 9, \"cartesian\")"],
"outputs": []
}
,
{
"cell_type" : "code",
"execution_count": null,
"metadata" : {
    "collapsed" : false
},
"source" : ["f z == z + 1/z"],
"outputs": []
}
,
{
"cell_type" : "code",
"execution_count": null,
"metadata" : {
    "collapsed" : false
},
"source" : ["conformalDraw(f, -2..2, -2..2, 9, 9, \"cartesian\")"],
"outputs": []
}
,
{
"cell_type" : "markdown",
"metadata" : {},
"source" : [" The map z +-> -(z+1)/(z-1)"]
}
,
{
"cell_type" : "markdown",
"metadata" : {},
"source" : [" This function maps the unit disk to the right half-plane, as shown"]
}
,
{
"cell_type" : "markdown",
"metadata" : {},
"source" : [" on the Riemann sphere."]
}
,
{
"cell_type" : "markdown",
"metadata" : {},
"source" : [" The unit disk"]
}
,
{
"cell_type" : "code",
"execution_count": null,
"metadata" : {
    "collapsed" : false
},
"source" : ["f z == z"],
"outputs": []
}
,
{
"cell_type" : "code",
"execution_count": null,
"metadata" : {
    "collapsed" : false
},
"source" : ["riemannConformalDraw(f, 0.1..0.99, 0..2*%pi, 7, 11, \"polar\")"],
"outputs": []
}
,
{
"cell_type" : "markdown",
"metadata" : {},
"source" : [" The right half-plane"]
}
,
{
"cell_type" : "code",
"execution_count": null,
"metadata" : {
    "collapsed" : false
},
"source" : ["f z == -(z+1)/(z-1)"],
"outputs": []
}
,
{
"cell_type" : "code",
"execution_count": null,
"metadata" : {
    "collapsed" : false
},
"source" : ["riemannConformalDraw(f, 0.1..0.99, 0..2*%pi, 7, 11, \"polar\")"],
"outputs": []
}
,
{
"cell_type" : "markdown",
"metadata" : {},
"source" : [" Visualization of the mapping from the complex plane to the Riemann Sphere."]
}
,
{
"cell_type" : "code",
"execution_count": null,
"metadata" : {
    "collapsed" : false
},
"source" : ["riemannSphereDraw(-4..4, -4..4, 7, 7, \"cartesian\")"],
"outputs": []
}
,
{
"cell_type" : "code",
"execution_count": null,
"metadata" : {
    "collapsed" : false
},
"source" : [""],
"outputs": []
}
 ],
"metadata": {
 "kernelspec": {
  "display_name": "FriCAS",
  "language": "spad",
  "name": "ifricas"
 },
 "language_info": {
  "codemirror_mode": "spad",
  "mimetype": "text/x-spad",
  "name": "SPAD",
  "pygments_lexer": "spad",
  "version": "1.2.6"
 },
 "name": "images7.ipynb"
},
"nbformat": 4,
"nbformat_minor": 0
}
