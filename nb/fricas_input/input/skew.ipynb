{
 "cells": [
{
"cell_type" : "markdown",
"metadata" : {},
"source" : ["Copyright The Numerical Algorithms Group Limited 1994."]
}
,
{
"cell_type" : "markdown",
"metadata" : {},
"source" : [" make sure that LALG, EAB, ANTISYM are loaded"]
}
,
{
"cell_type" : "markdown",
"metadata" : {},
"source" : [""]
}
,
{
"cell_type" : "code",
"execution_count": null,
"metadata" : {
    "collapsed" : false
},
"source" : [")cl all"],
"outputs": []
}
,
{
"cell_type" : "markdown",
"metadata" : {},
"source" : [" We will look at the deRham complex of Euclidean 3-space and use"]
}
,
{
"cell_type" : "markdown",
"metadata" : {},
"source" : [" coordinates (x,y,z)."]
}
,
{
"cell_type" : "code",
"execution_count": null,
"metadata" : {
    "collapsed" : false
},
"source" : ["lv:List Symbol := [x,y,z]"],
"outputs": []
}
,
{
"cell_type" : "markdown",
"metadata" : {},
"source" : [" Next is our ring of functions.  We can have functions of any"]
}
,
{
"cell_type" : "markdown",
"metadata" : {},
"source" : [" number of variables, but since we've chosen to work with ordinary"]
}
,
{
"cell_type" : "markdown",
"metadata" : {},
"source" : [" Euclidean 3-space, an expression like f(x,t,r,y,u,z) will be treated"]
}
,
{
"cell_type" : "markdown",
"metadata" : {},
"source" : [" as a parameterized function of (x,y,z) and will be considered to be"]
}
,
{
"cell_type" : "markdown",
"metadata" : {},
"source" : [" constant in the variables t,r,u.  We choose expressions with integer"]
}
,
{
"cell_type" : "markdown",
"metadata" : {},
"source" : [" coefficients in this example."]
}
,
{
"cell_type" : "code",
"execution_count": null,
"metadata" : {
    "collapsed" : false
},
"source" : ["macro coefRing == Integer"],
"outputs": []
}
,
{
"cell_type" : "code",
"execution_count": null,
"metadata" : {
    "collapsed" : false
},
"source" : ["R := Expression coefRing"],
"outputs": []
}
,
{
"cell_type" : "markdown",
"metadata" : {},
"source" : [" The declaration for the deRham complex takes arguments a ring coefRing"]
}
,
{
"cell_type" : "markdown",
"metadata" : {},
"source" : [" and a list of variables (lv is of type List Symbol)."]
}
,
{
"cell_type" : "code",
"execution_count": null,
"metadata" : {
    "collapsed" : false
},
"source" : ["der := DERHAM(coefRing,lv)"],
"outputs": []
}
,
{
"cell_type" : "markdown",
"metadata" : {},
"source" : [" here are some functions chosen at random."]
}
,
{
"cell_type" : "code",
"execution_count": null,
"metadata" : {
    "collapsed" : false
},
"source" : ["f:R:=x^2*y*z-5*x^3*y^2*z^5"],
"outputs": []
}
,
{
"cell_type" : "code",
"execution_count": null,
"metadata" : {
    "collapsed" : false
},
"source" : ["g:R:=z^2*y*cos(z)-7*sin(x^3*y^2)*z^2"],
"outputs": []
}
,
{
"cell_type" : "code",
"execution_count": null,
"metadata" : {
    "collapsed" : false
},
"source" : ["h:R:=x*y*z-2*x^3*y*z^2"],
"outputs": []
}
,
{
"cell_type" : "markdown",
"metadata" : {},
"source" : [" The multiplicative basis elements for the exterior algebra over R are"]
}
,
{
"cell_type" : "markdown",
"metadata" : {},
"source" : [" defined here."]
}
,
{
"cell_type" : "code",
"execution_count": null,
"metadata" : {
    "collapsed" : false
},
"source" : ["dx :der := generator(1)"],
"outputs": []
}
,
{
"cell_type" : "code",
"execution_count": null,
"metadata" : {
    "collapsed" : false
},
"source" : ["dy :der := generator(2)"],
"outputs": []
}
,
{
"cell_type" : "code",
"execution_count": null,
"metadata" : {
    "collapsed" : false
},
"source" : ["dz :der := generator(3)"],
"outputs": []
}
,
{
"cell_type" : "markdown",
"metadata" : {},
"source" : [" A nice alternate for the assignments above is"]
}
,
{
"cell_type" : "code",
"execution_count": null,
"metadata" : {
    "collapsed" : false
},
"source" : ["[dx,dy,dz] := [generator(i)$der for i in 1..3]"],
"outputs": []
}
,
{
"cell_type" : "markdown",
"metadata" : {},
"source" : [" Now some 1-forms chosen at random."]
}
,
{
"cell_type" : "code",
"execution_count": null,
"metadata" : {
    "collapsed" : false
},
"source" : ["alpha:der := f*dx + g*dy + h*dz"],
"outputs": []
}
,
{
"cell_type" : "code",
"execution_count": null,
"metadata" : {
    "collapsed" : false
},
"source" : ["beta:der  := cos(tan(x*y*z)+x*y*z)*dx + x*dy"],
"outputs": []
}
,
{
"cell_type" : "markdown",
"metadata" : {},
"source" : [" we know that exteriorDifferential^2 = 0, let's see that:"]
}
,
{
"cell_type" : "code",
"execution_count": null,
"metadata" : {
    "collapsed" : false
},
"source" : ["exteriorDifferential alpha"],
"outputs": []
}
,
{
"cell_type" : "code",
"execution_count": null,
"metadata" : {
    "collapsed" : false
},
"source" : ["exteriorDifferential %"],
"outputs": []
}
,
{
"cell_type" : "markdown",
"metadata" : {},
"source" : [" exteriorDifferential is long, let's shorten that."]
}
,
{
"cell_type" : "code",
"execution_count": null,
"metadata" : {
    "collapsed" : false
},
"source" : ["macro exD == exteriorDifferential"],
"outputs": []
}
,
{
"cell_type" : "markdown",
"metadata" : {},
"source" : [" we know that exD is a (graded) derivation, let's see that:"]
}
,
{
"cell_type" : "code",
"execution_count": null,
"metadata" : {
    "collapsed" : false
},
"source" : ["gamma := alpha * beta"],
"outputs": []
}
,
{
"cell_type" : "code",
"execution_count": null,
"metadata" : {
    "collapsed" : false
},
"source" : ["delta := exD gamma"],
"outputs": []
}
,
{
"cell_type" : "markdown",
"metadata" : {},
"source" : [" need the \"-\" because alpha is a 1-form and 1 is odd."]
}
,
{
"cell_type" : "code",
"execution_count": null,
"metadata" : {
    "collapsed" : false
},
"source" : ["epsilon := exD(alpha)*beta - alpha * exD(beta)"],
"outputs": []
}
,
{
"cell_type" : "code",
"execution_count": null,
"metadata" : {
    "collapsed" : false
},
"source" : ["delta - epsilon"],
"outputs": []
}
,
{
"cell_type" : "markdown",
"metadata" : {},
"source" : [" We define some operators."]
}
,
{
"cell_type" : "code",
"execution_count": null,
"metadata" : {
    "collapsed" : false
},
"source" : ["a:BOP := operator('a)"],
"outputs": []
}
,
{
"cell_type" : "code",
"execution_count": null,
"metadata" : {
    "collapsed" : false
},
"source" : ["b:BOP := operator('b)"],
"outputs": []
}
,
{
"cell_type" : "code",
"execution_count": null,
"metadata" : {
    "collapsed" : false
},
"source" : ["c:BOP := operator('c)"],
"outputs": []
}
,
{
"cell_type" : "markdown",
"metadata" : {},
"source" : [" Now some indeterminate one and two forms."]
}
,
{
"cell_type" : "code",
"execution_count": null,
"metadata" : {
    "collapsed" : false
},
"source" : ["alpha := a(x,y,z) * dx + b(x,y,z) * dy + c(x,y,z) * dz"],
"outputs": []
}
,
{
"cell_type" : "code",
"execution_count": null,
"metadata" : {
    "collapsed" : false
},
"source" : ["beta  := a(x,y,z) * dx * dy + b(x,y,z) * dx * dz + c(x,y,z) * dy * dz"],
"outputs": []
}
,
{
"cell_type" : "markdown",
"metadata" : {},
"source" : [" the \"gradient\"."]
}
,
{
"cell_type" : "code",
"execution_count": null,
"metadata" : {
    "collapsed" : false
},
"source" : ["totalDifferential(a(x,y,z))$der"],
"outputs": []
}
,
{
"cell_type" : "markdown",
"metadata" : {},
"source" : [" the \"curl\"."]
}
,
{
"cell_type" : "code",
"execution_count": null,
"metadata" : {
    "collapsed" : false
},
"source" : ["exD alpha"],
"outputs": []
}
,
{
"cell_type" : "markdown",
"metadata" : {},
"source" : [" the \"divergence\"."]
}
,
{
"cell_type" : "code",
"execution_count": null,
"metadata" : {
    "collapsed" : false
},
"source" : ["exD beta"],
"outputs": []
}
,
{
"cell_type" : "markdown",
"metadata" : {},
"source" : [" Note that the deRham complex is an algebra with 1."]
}
,
{
"cell_type" : "code",
"execution_count": null,
"metadata" : {
    "collapsed" : false
},
"source" : ["id:der := 1"],
"outputs": []
}
,
{
"cell_type" : "markdown",
"metadata" : {},
"source" : [" Now some parameterized functions (and forms -- left as an exercise)."]
}
,
{
"cell_type" : "markdown",
"metadata" : {},
"source" : [" Note how the system keeps track of where your coordinate functions"]
}
,
{
"cell_type" : "markdown",
"metadata" : {},
"source" : [" are located in expressions.  By multiplying the expressions below by"]
}
,
{
"cell_type" : "markdown",
"metadata" : {},
"source" : [" 1 in the deRham complex, we automatically convert them to 0-forms,"]
}
,
{
"cell_type" : "markdown",
"metadata" : {},
"source" : [" i.e., functions on our space."]
}
,
{
"cell_type" : "code",
"execution_count": null,
"metadata" : {
    "collapsed" : false
},
"source" : ["g1:der := a([x,t,y,u,v,z,e]) * id"],
"outputs": []
}
,
{
"cell_type" : "code",
"execution_count": null,
"metadata" : {
    "collapsed" : false
},
"source" : ["h1:der := a([x,y,x,t,x,z,y,r,u,x]) * id"],
"outputs": []
}
,
{
"cell_type" : "code",
"execution_count": null,
"metadata" : {
    "collapsed" : false
},
"source" : ["exD g1"],
"outputs": []
}
,
{
"cell_type" : "code",
"execution_count": null,
"metadata" : {
    "collapsed" : false
},
"source" : ["exD h1"],
"outputs": []
}
,
{
"cell_type" : "markdown",
"metadata" : {},
"source" : [" Now note that we can find the coefficient of some basis term in"]
}
,
{
"cell_type" : "markdown",
"metadata" : {},
"source" : [" any form (the basis in this case consists of the 8 forms"]
}
,
{
"cell_type" : "markdown",
"metadata" : {},
"source" : [" 1,   dx, dx, dz,    dx dy, dx dz, dy dz,   dx dy dz."]
}
,
{
"cell_type" : "code",
"execution_count": null,
"metadata" : {
    "collapsed" : false
},
"source" : ["coefficient(gamma, dx*dy)"],
"outputs": []
}
,
{
"cell_type" : "code",
"execution_count": null,
"metadata" : {
    "collapsed" : false
},
"source" : ["coefficient(gamma, id)"],
"outputs": []
}
,
{
"cell_type" : "code",
"execution_count": null,
"metadata" : {
    "collapsed" : false
},
"source" : ["coefficient(g1,id)"],
"outputs": []
}
,
{
"cell_type" : "code",
"execution_count": null,
"metadata" : {
    "collapsed" : false
},
"source" : [""],
"outputs": []
}
 ],
"metadata": {
 "kernelspec": {
  "display_name": "FriCAS",
  "language": "spad",
  "name": "ifricas"
 },
 "language_info": {
  "codemirror_mode": "spad",
  "mimetype": "text/x-spad",
  "name": "SPAD",
  "pygments_lexer": "spad",
  "version": "1.2.6"
 },
 "name": "skew.ipynb"
},
"nbformat": 4,
"nbformat_minor": 0
}
