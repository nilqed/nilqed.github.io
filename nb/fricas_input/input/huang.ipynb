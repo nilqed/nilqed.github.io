{
 "cells": [
{
"cell_type" : "markdown",
"metadata" : {},
"source" : ["Copyright The Numerical Algorithms Group Limited 1996."]
}
,
{
"cell_type" : "markdown",
"metadata" : {},
"source" : [" this is here strictly for documentation purposes, nothing is executed"]
}
,
{
"cell_type" : "markdown",
"metadata" : {},
"source" : [""]
}
,
{
"cell_type" : "markdown",
"metadata" : {},
"source" : ["      Here are some problems that Maple and Mathematica cannot"]
}
,
{
"cell_type" : "markdown",
"metadata" : {},
"source" : ["solve, but SymbMath can do."]
}
,
{
"cell_type" : "markdown",
"metadata" : {},
"source" : ["      The following examples came from news on the sci.math.symbolic"]
}
,
{
"cell_type" : "markdown",
"metadata" : {},
"source" : ["newsgroup in 1991, and were run in Maple V, Mathematica 2.0, or"]
}
,
{
"cell_type" : "markdown",
"metadata" : {},
"source" : ["SymbMath 2.1."]
}
,
{
"cell_type" : "markdown",
"metadata" : {},
"source" : [""]
}
,
{
"cell_type" : "markdown",
"metadata" : {},
"source" : ["^^^^^^^^^^^^ Example 1 ^^^^^^^^^^^^^^^"]
}
,
{
"cell_type" : "markdown",
"metadata" : {},
"source" : ["      Maple:"]
}
,
{
"cell_type" : "markdown",
"metadata" : {},
"source" : ["> int(exp(-a * x^2), x=0..infinity);"]
}
,
{
"cell_type" : "markdown",
"metadata" : {},
"source" : [""]
}
,
{
"cell_type" : "markdown",
"metadata" : {},
"source" : ["                             infinity"]
}
,
{
"cell_type" : "markdown",
"metadata" : {},
"source" : ["                                /"]
}
,
{
"cell_type" : "markdown",
"metadata" : {},
"source" : ["                               |               2"]
}
,
{
"cell_type" : "markdown",
"metadata" : {},
"source" : ["                               |      exp(- a x ) dx"]
}
,
{
"cell_type" : "markdown",
"metadata" : {},
"source" : ["                               |"]
}
,
{
"cell_type" : "markdown",
"metadata" : {},
"source" : ["                              /"]
}
,
{
"cell_type" : "markdown",
"metadata" : {},
"source" : ["                              0"]
}
,
{
"cell_type" : "markdown",
"metadata" : {},
"source" : [""]
}
,
{
"cell_type" : "markdown",
"metadata" : {},
"source" : ["# unevaluated."]
}
,
{
"cell_type" : "markdown",
"metadata" : {},
"source" : ["# Declare 'a' non-negative:"]
}
,
{
"cell_type" : "markdown",
"metadata" : {},
"source" : [""]
}
,
{
"cell_type" : "markdown",
"metadata" : {},
"source" : ["> signum(a) := 1;"]
}
,
{
"cell_type" : "markdown",
"metadata" : {},
"source" : [""]
}
,
{
"cell_type" : "markdown",
"metadata" : {},
"source" : ["                                 signum(a) := 1"]
}
,
{
"cell_type" : "markdown",
"metadata" : {},
"source" : [""]
}
,
{
"cell_type" : "markdown",
"metadata" : {},
"source" : ["# The same integral is now evaluated fully:"]
}
,
{
"cell_type" : "markdown",
"metadata" : {},
"source" : [""]
}
,
{
"cell_type" : "markdown",
"metadata" : {},
"source" : ["> int(exp(-a * x^2), x=0..infinity);"]
}
,
{
"cell_type" : "markdown",
"metadata" : {},
"source" : [""]
}
,
{
"cell_type" : "markdown",
"metadata" : {},
"source" : ["                                         1/2"]
}
,
{
"cell_type" : "markdown",
"metadata" : {},
"source" : ["                                       Pi"]
}
,
{
"cell_type" : "markdown",
"metadata" : {},
"source" : ["                                   1/2 -----"]
}
,
{
"cell_type" : "markdown",
"metadata" : {},
"source" : ["                                         1/2"]
}
,
{
"cell_type" : "markdown",
"metadata" : {},
"source" : ["                                        a"]
}
,
{
"cell_type" : "markdown",
"metadata" : {},
"source" : [""]
}
,
{
"cell_type" : "markdown",
"metadata" : {},
"source" : ["      SymbMath :"]
}
,
{
"cell_type" : "markdown",
"metadata" : {},
"source" : ["      Input:"]
}
,
{
"cell_type" : "markdown",
"metadata" : {},
"source" : ["inte(exp(-a*x^2), x from 0 to inf)"]
}
,
{
"cell_type" : "markdown",
"metadata" : {},
"source" : ["assume(sqrt(a) > 0)"]
}
,
{
"cell_type" : "markdown",
"metadata" : {},
"source" : ["inte(exp(-a*x^2), x from 0 to inf)"]
}
,
{
"cell_type" : "markdown",
"metadata" : {},
"source" : ["      Output:"]
}
,
{
"cell_type" : "markdown",
"metadata" : {},
"source" : ["1/2*a^(-0.5)*sqrt(pi)*erf(inf*sgn(sqrt(a)))"]
}
,
{
"cell_type" : "markdown",
"metadata" : {},
"source" : ["assumed"]
}
,
{
"cell_type" : "markdown",
"metadata" : {},
"source" : ["1/2*a^(-0.5)*sqrt(pi)"]
}
,
{
"cell_type" : "markdown",
"metadata" : {},
"source" : [""]
}
,
{
"cell_type" : "markdown",
"metadata" : {},
"source" : ["^^^^^^^^^^^^^ Example 2 ^^^^^^^^^^^^^^^^*"]
}
,
{
"cell_type" : "markdown",
"metadata" : {},
"source" : ["      Maple:"]
}
,
{
"cell_type" : "markdown",
"metadata" : {},
"source" : ["# Despite the fact that 'n' is declared non-negative..."]
}
,
{
"cell_type" : "markdown",
"metadata" : {},
"source" : ["> signum(n) := 1;"]
}
,
{
"cell_type" : "markdown",
"metadata" : {},
"source" : ["                                 signum(n) := 1"]
}
,
{
"cell_type" : "markdown",
"metadata" : {},
"source" : [""]
}
,
{
"cell_type" : "markdown",
"metadata" : {},
"source" : ["# ...this simple proper definite integral (that any freshman calculus"]
}
,
{
"cell_type" : "markdown",
"metadata" : {},
"source" : ["# student can evaluate!) is left unevaluated:"]
}
,
{
"cell_type" : "markdown",
"metadata" : {},
"source" : ["> int(x^n, x=0..1);"]
}
,
{
"cell_type" : "markdown",
"metadata" : {},
"source" : [""]
}
,
{
"cell_type" : "markdown",
"metadata" : {},
"source" : ["                                     1"]
}
,
{
"cell_type" : "markdown",
"metadata" : {},
"source" : ["                                     /"]
}
,
{
"cell_type" : "markdown",
"metadata" : {},
"source" : ["                                    |   n"]
}
,
{
"cell_type" : "markdown",
"metadata" : {},
"source" : ["                                    |  x  dx"]
}
,
{
"cell_type" : "markdown",
"metadata" : {},
"source" : ["                                    |"]
}
,
{
"cell_type" : "markdown",
"metadata" : {},
"source" : ["                                   /"]
}
,
{
"cell_type" : "markdown",
"metadata" : {},
"source" : ["                                   0"]
}
,
{
"cell_type" : "markdown",
"metadata" : {},
"source" : [""]
}
,
{
"cell_type" : "markdown",
"metadata" : {},
"source" : [""]
}
,
{
"cell_type" : "markdown",
"metadata" : {},
"source" : ["      SymbMath :"]
}
,
{
"cell_type" : "markdown",
"metadata" : {},
"source" : ["      Input:"]
}
,
{
"cell_type" : "markdown",
"metadata" : {},
"source" : ["assume(n > -1)"]
}
,
{
"cell_type" : "markdown",
"metadata" : {},
"source" : ["inte(x^n, x from 0 to 1)"]
}
,
{
"cell_type" : "markdown",
"metadata" : {},
"source" : ["      Output:"]
}
,
{
"cell_type" : "markdown",
"metadata" : {},
"source" : ["assumed"]
}
,
{
"cell_type" : "markdown",
"metadata" : {},
"source" : ["1/(1 + n)"]
}
,
{
"cell_type" : "markdown",
"metadata" : {},
"source" : [""]
}
,
{
"cell_type" : "markdown",
"metadata" : {},
"source" : ["^^^^^^^^^^^^^ Example 3 ^^^^^^^^^^^^^^*"]
}
,
{
"cell_type" : "markdown",
"metadata" : {},
"source" : ["      Maple:"]
}
,
{
"cell_type" : "markdown",
"metadata" : {},
"source" : ["> int(x^n, x=eps..1);"]
}
,
{
"cell_type" : "markdown",
"metadata" : {},
"source" : [""]
}
,
{
"cell_type" : "markdown",
"metadata" : {},
"source" : ["                                          (n + 1)"]
}
,
{
"cell_type" : "markdown",
"metadata" : {},
"source" : ["                                 1     eps"]
}
,
{
"cell_type" : "markdown",
"metadata" : {},
"source" : ["                               ----- - ----------"]
}
,
{
"cell_type" : "markdown",
"metadata" : {},
"source" : ["                               n + 1      n + 1"]
}
,
{
"cell_type" : "markdown",
"metadata" : {},
"source" : [""]
}
,
{
"cell_type" : "markdown",
"metadata" : {},
"source" : ["# ...but the one-sided limit..."]
}
,
{
"cell_type" : "markdown",
"metadata" : {},
"source" : [""]
}
,
{
"cell_type" : "markdown",
"metadata" : {},
"source" : ["> limit(\", eps=0, right);"]
}
,
{
"cell_type" : "markdown",
"metadata" : {},
"source" : [""]
}
,
{
"cell_type" : "markdown",
"metadata" : {},
"source" : ["                                               (n + 1)"]
}
,
{
"cell_type" : "markdown",
"metadata" : {},
"source" : ["                                      1     eps"]
}
,
{
"cell_type" : "markdown",
"metadata" : {},
"source" : ["                          limit     ----- - ----------"]
}
,
{
"cell_type" : "markdown",
"metadata" : {},
"source" : ["                          eps -> 0+ n + 1      n + 1"]
}
,
{
"cell_type" : "markdown",
"metadata" : {},
"source" : [""]
}
,
{
"cell_type" : "markdown",
"metadata" : {},
"source" : ["# ...remains unevaluated..."]
}
,
{
"cell_type" : "markdown",
"metadata" : {},
"source" : [""]
}
,
{
"cell_type" : "markdown",
"metadata" : {},
"source" : ["> simplify(\");"]
}
,
{
"cell_type" : "markdown",
"metadata" : {},
"source" : [""]
}
,
{
"cell_type" : "markdown",
"metadata" : {},
"source" : ["                                               (n + 1)"]
}
,
{
"cell_type" : "markdown",
"metadata" : {},
"source" : ["                                      - 1 + eps"]
}
,
{
"cell_type" : "markdown",
"metadata" : {},
"source" : ["                          limit     - ----------------"]
}
,
{
"cell_type" : "markdown",
"metadata" : {},
"source" : ["                          eps -> 0+         n + 1"]
}
,
{
"cell_type" : "markdown",
"metadata" : {},
"source" : [""]
}
,
{
"cell_type" : "markdown",
"metadata" : {},
"source" : [""]
}
,
{
"cell_type" : "markdown",
"metadata" : {},
"source" : ["# ...no matter what we do!"]
}
,
{
"cell_type" : "markdown",
"metadata" : {},
"source" : [""]
}
,
{
"cell_type" : "markdown",
"metadata" : {},
"source" : ["> eval(\");"]
}
,
{
"cell_type" : "markdown",
"metadata" : {},
"source" : [""]
}
,
{
"cell_type" : "markdown",
"metadata" : {},
"source" : ["                                               (n + 1)"]
}
,
{
"cell_type" : "markdown",
"metadata" : {},
"source" : ["                                      - 1 + eps"]
}
,
{
"cell_type" : "markdown",
"metadata" : {},
"source" : ["                          limit     - ----------------"]
}
,
{
"cell_type" : "markdown",
"metadata" : {},
"source" : ["                          eps -> 0+         n + 1"]
}
,
{
"cell_type" : "markdown",
"metadata" : {},
"source" : [""]
}
,
{
"cell_type" : "markdown",
"metadata" : {},
"source" : ["      SymbMath:"]
}
,
{
"cell_type" : "markdown",
"metadata" : {},
"source" : ["      Input:"]
}
,
{
"cell_type" : "markdown",
"metadata" : {},
"source" : ["assume(n > -1)"]
}
,
{
"cell_type" : "markdown",
"metadata" : {},
"source" : ["inte(x^n, x from eps to 1)"]
}
,
{
"cell_type" : "markdown",
"metadata" : {},
"source" : ["subs(eps=0 to last)"]
}
,
{
"cell_type" : "markdown",
"metadata" : {},
"source" : ["      Output:"]
}
,
{
"cell_type" : "markdown",
"metadata" : {},
"source" : ["assumed"]
}
,
{
"cell_type" : "markdown",
"metadata" : {},
"source" : ["1/(1 + n) - eps^(1 + n)/(1 + n)"]
}
,
{
"cell_type" : "markdown",
"metadata" : {},
"source" : ["1/(1 + n)"]
}
,
{
"cell_type" : "markdown",
"metadata" : {},
"source" : [""]
}
,
{
"cell_type" : "markdown",
"metadata" : {},
"source" : [""]
}
,
{
"cell_type" : "markdown",
"metadata" : {},
"source" : ["^^^^^^^^^^^^^* Example 4 ^^^^^^^^^^^^^*"]
}
,
{
"cell_type" : "markdown",
"metadata" : {},
"source" : ["      Maple:"]
}
,
{
"cell_type" : "markdown",
"metadata" : {},
"source" : ["> 0^n;"]
}
,
{
"cell_type" : "markdown",
"metadata" : {},
"source" : ["            0"]
}
,
{
"cell_type" : "markdown",
"metadata" : {},
"source" : [""]
}
,
{
"cell_type" : "markdown",
"metadata" : {},
"source" : ["# Maple flags the error only when 'n' is replaced by the constant 0:"]
}
,
{
"cell_type" : "markdown",
"metadata" : {},
"source" : [""]
}
,
{
"cell_type" : "markdown",
"metadata" : {},
"source" : ["> 0^0;"]
}
,
{
"cell_type" : "markdown",
"metadata" : {},
"source" : ["Error, 0^0 is undefined"]
}
,
{
"cell_type" : "markdown",
"metadata" : {},
"source" : [""]
}
,
{
"cell_type" : "markdown",
"metadata" : {},
"source" : ["      SymbMath:"]
}
,
{
"cell_type" : "markdown",
"metadata" : {},
"source" : ["      Input:"]
}
,
{
"cell_type" : "markdown",
"metadata" : {},
"source" : ["assume(n > 0)"]
}
,
{
"cell_type" : "markdown",
"metadata" : {},
"source" : ["0^n"]
}
,
{
"cell_type" : "markdown",
"metadata" : {},
"source" : ["0^-n"]
}
,
{
"cell_type" : "markdown",
"metadata" : {},
"source" : ["0^0"]
}
,
{
"cell_type" : "markdown",
"metadata" : {},
"source" : ["      Output:"]
}
,
{
"cell_type" : "markdown",
"metadata" : {},
"source" : ["assumed"]
}
,
{
"cell_type" : "markdown",
"metadata" : {},
"source" : ["0"]
}
,
{
"cell_type" : "markdown",
"metadata" : {},
"source" : ["discont"]
}
,
{
"cell_type" : "markdown",
"metadata" : {},
"source" : ["undefined"]
}
,
{
"cell_type" : "markdown",
"metadata" : {},
"source" : [""]
}
,
{
"cell_type" : "markdown",
"metadata" : {},
"source" : ["^^^^^^^^^^^^^^ Example 5 ^^^^^^^^^^^^^^^"]
}
,
{
"cell_type" : "markdown",
"metadata" : {},
"source" : ["      Maple:"]
}
,
{
"cell_type" : "markdown",
"metadata" : {},
"source" : ["> int(x^k, x);"]
}
,
{
"cell_type" : "markdown",
"metadata" : {},
"source" : [""]
}
,
{
"cell_type" : "markdown",
"metadata" : {},
"source" : ["                                     (k + 1)"]
}
,
{
"cell_type" : "markdown",
"metadata" : {},
"source" : ["                                    x"]
}
,
{
"cell_type" : "markdown",
"metadata" : {},
"source" : ["                                    --------"]
}
,
{
"cell_type" : "markdown",
"metadata" : {},
"source" : ["                                      k + 1"]
}
,
{
"cell_type" : "markdown",
"metadata" : {},
"source" : [""]
}
,
{
"cell_type" : "markdown",
"metadata" : {},
"source" : ["      SymbMath:"]
}
,
{
"cell_type" : "markdown",
"metadata" : {},
"source" : ["      Input:"]
}
,
{
"cell_type" : "markdown",
"metadata" : {},
"source" : ["inte(x^k*d(x))"]
}
,
{
"cell_type" : "markdown",
"metadata" : {},
"source" : ["subs(k=-1 to last)"]
}
,
{
"cell_type" : "markdown",
"metadata" : {},
"source" : ["      Output:"]
}
,
{
"cell_type" : "markdown",
"metadata" : {},
"source" : ["constant + x^(1 + k)/(1 + k)"]
}
,
{
"cell_type" : "markdown",
"metadata" : {},
"source" : ["discont"]
}
,
{
"cell_type" : "markdown",
"metadata" : {},
"source" : [""]
}
,
{
"cell_type" : "markdown",
"metadata" : {},
"source" : ["^^^^^^^^^^^^^^ Example 6 ^^^^^^^^^^^^^^*"]
}
,
{
"cell_type" : "markdown",
"metadata" : {},
"source" : ["      Maple:"]
}
,
{
"cell_type" : "markdown",
"metadata" : {},
"source" : ["# The following limit is left unevaluated:"]
}
,
{
"cell_type" : "markdown",
"metadata" : {},
"source" : ["> limit(x^k/exp(x), x=infinity);"]
}
,
{
"cell_type" : "markdown",
"metadata" : {},
"source" : [""]
}
,
{
"cell_type" : "markdown",
"metadata" : {},
"source" : ["                                               k"]
}
,
{
"cell_type" : "markdown",
"metadata" : {},
"source" : ["                                              x"]
}
,
{
"cell_type" : "markdown",
"metadata" : {},
"source" : ["                              limit         ------"]
}
,
{
"cell_type" : "markdown",
"metadata" : {},
"source" : ["                              x -> infinity exp(x)"]
}
,
{
"cell_type" : "markdown",
"metadata" : {},
"source" : [""]
}
,
{
"cell_type" : "markdown",
"metadata" : {},
"source" : [""]
}
,
{
"cell_type" : "markdown",
"metadata" : {},
"source" : ["# We might ask if Maple knows this result for specific (constant) values"]
}
,
{
"cell_type" : "markdown",
"metadata" : {},
"source" : ["# of the symbolic parameter 'k'.  The answer is a QUALIFIED \"yes\"."]
}
,
{
"cell_type" : "markdown",
"metadata" : {},
"source" : ["# Maple knows the result for 'k' equal to 10^8..."]
}
,
{
"cell_type" : "markdown",
"metadata" : {},
"source" : [""]
}
,
{
"cell_type" : "markdown",
"metadata" : {},
"source" : ["> limit(x^(10^8)/exp(x), x=infinity);"]
}
,
{
"cell_type" : "markdown",
"metadata" : {},
"source" : [""]
}
,
{
"cell_type" : "markdown",
"metadata" : {},
"source" : ["                                       0"]
}
,
{
"cell_type" : "markdown",
"metadata" : {},
"source" : [""]
}
,
{
"cell_type" : "markdown",
"metadata" : {},
"source" : [""]
}
,
{
"cell_type" : "markdown",
"metadata" : {},
"source" : ["# ...and Maple knows the result for 'k' equal to 10^9..."]
}
,
{
"cell_type" : "markdown",
"metadata" : {},
"source" : [""]
}
,
{
"cell_type" : "markdown",
"metadata" : {},
"source" : ["> limit(x^(10^9)/exp(x), x=infinity);"]
}
,
{
"cell_type" : "markdown",
"metadata" : {},
"source" : [""]
}
,
{
"cell_type" : "markdown",
"metadata" : {},
"source" : ["                                       0"]
}
,
{
"cell_type" : "markdown",
"metadata" : {},
"source" : [""]
}
,
{
"cell_type" : "markdown",
"metadata" : {},
"source" : ["# ...BUT, Maple seems to FORGET the result when 'k' equals 10^10..."]
}
,
{
"cell_type" : "markdown",
"metadata" : {},
"source" : [""]
}
,
{
"cell_type" : "markdown",
"metadata" : {},
"source" : ["> limit(x^(10^10)/exp(x), x=infinity);"]
}
,
{
"cell_type" : "markdown",
"metadata" : {},
"source" : [""]
}
,
{
"cell_type" : "markdown",
"metadata" : {},
"source" : ["                                          10000000000"]
}
,
{
"cell_type" : "markdown",
"metadata" : {},
"source" : ["                                         x"]
}
,
{
"cell_type" : "markdown",
"metadata" : {},
"source" : ["                           limit         ------------"]
}
,
{
"cell_type" : "markdown",
"metadata" : {},
"source" : ["                           x -> infinity    exp(x)"]
}
,
{
"cell_type" : "markdown",
"metadata" : {},
"source" : [""]
}
,
{
"cell_type" : "markdown",
"metadata" : {},
"source" : ["      SymbMath:"]
}
,
{
"cell_type" : "markdown",
"metadata" : {},
"source" : ["      Input:"]
}
,
{
"cell_type" : "markdown",
"metadata" : {},
"source" : ["lim(x=inf, x^k/exp(x))"]
}
,
{
"cell_type" : "markdown",
"metadata" : {},
"source" : ["lim(x=inf, x^(10^10)/exp(x))"]
}
,
{
"cell_type" : "markdown",
"metadata" : {},
"source" : ["lim(x=inf, x^(10^10000)/exp(x))"]
}
,
{
"cell_type" : "markdown",
"metadata" : {},
"source" : ["      Output:"]
}
,
{
"cell_type" : "markdown",
"metadata" : {},
"source" : ["0"]
}
,
{
"cell_type" : "markdown",
"metadata" : {},
"source" : ["0"]
}
,
{
"cell_type" : "markdown",
"metadata" : {},
"source" : ["0"]
}
,
{
"cell_type" : "markdown",
"metadata" : {},
"source" : [""]
}
,
{
"cell_type" : "markdown",
"metadata" : {},
"source" : ["^^^^^^^^^^^^^^^ Example 7 ^^^^^^^^^^^^^^"]
}
,
{
"cell_type" : "markdown",
"metadata" : {},
"source" : ["      Maple:"]
}
,
{
"cell_type" : "markdown",
"metadata" : {},
"source" : ["> int(x^m * exp (-b * x), x=0..infinity);"]
}
,
{
"cell_type" : "markdown",
"metadata" : {},
"source" : [""]
}
,
{
"cell_type" : "markdown",
"metadata" : {},
"source" : ["                            infinity"]
}
,
{
"cell_type" : "markdown",
"metadata" : {},
"source" : ["                               /"]
}
,
{
"cell_type" : "markdown",
"metadata" : {},
"source" : ["                              |       m"]
}
,
{
"cell_type" : "markdown",
"metadata" : {},
"source" : ["                              |      x  exp(- b x) dx"]
}
,
{
"cell_type" : "markdown",
"metadata" : {},
"source" : ["                              |"]
}
,
{
"cell_type" : "markdown",
"metadata" : {},
"source" : ["                             /"]
}
,
{
"cell_type" : "markdown",
"metadata" : {},
"source" : ["                             0"]
}
,
{
"cell_type" : "markdown",
"metadata" : {},
"source" : [""]
}
,
{
"cell_type" : "markdown",
"metadata" : {},
"source" : [""]
}
,
{
"cell_type" : "markdown",
"metadata" : {},
"source" : ["# As expected, the integral remains unevaluated.  Now declare the signs"]
}
,
{
"cell_type" : "markdown",
"metadata" : {},
"source" : ["# of the symbolic parameters:"]
}
,
{
"cell_type" : "markdown",
"metadata" : {},
"source" : [""]
}
,
{
"cell_type" : "markdown",
"metadata" : {},
"source" : ["> signum(b) := 1;"]
}
,
{
"cell_type" : "markdown",
"metadata" : {},
"source" : [""]
}
,
{
"cell_type" : "markdown",
"metadata" : {},
"source" : ["                                 signum(b) := 1"]
}
,
{
"cell_type" : "markdown",
"metadata" : {},
"source" : [""]
}
,
{
"cell_type" : "markdown",
"metadata" : {},
"source" : ["> signum(m) := 1;"]
}
,
{
"cell_type" : "markdown",
"metadata" : {},
"source" : [""]
}
,
{
"cell_type" : "markdown",
"metadata" : {},
"source" : ["                                 signum(m) := 1"]
}
,
{
"cell_type" : "markdown",
"metadata" : {},
"source" : [""]
}
,
{
"cell_type" : "markdown",
"metadata" : {},
"source" : [""]
}
,
{
"cell_type" : "markdown",
"metadata" : {},
"source" : ["# Upon attempting to compute the integral a second time..."]
}
,
{
"cell_type" : "markdown",
"metadata" : {},
"source" : [""]
}
,
{
"cell_type" : "markdown",
"metadata" : {},
"source" : ["> int(x^m * exp (-b * x), x=0..infinity);"]
}
,
{
"cell_type" : "markdown",
"metadata" : {},
"source" : [""]
}
,
{
"cell_type" : "markdown",
"metadata" : {},
"source" : ["                            infinity"]
}
,
{
"cell_type" : "markdown",
"metadata" : {},
"source" : ["                               /"]
}
,
{
"cell_type" : "markdown",
"metadata" : {},
"source" : ["                              |       m"]
}
,
{
"cell_type" : "markdown",
"metadata" : {},
"source" : ["                              |      x  exp(- b x) dx"]
}
,
{
"cell_type" : "markdown",
"metadata" : {},
"source" : ["                              |"]
}
,
{
"cell_type" : "markdown",
"metadata" : {},
"source" : ["                             /"]
}
,
{
"cell_type" : "markdown",
"metadata" : {},
"source" : ["                             0"]
}
,
{
"cell_type" : "markdown",
"metadata" : {},
"source" : [""]
}
,
{
"cell_type" : "markdown",
"metadata" : {},
"source" : ["# ...THE INTEGRAL CONTINUES TO REMAIN UNEVALUATED, despite the fact that"]
}
,
{
"cell_type" : "markdown",
"metadata" : {},
"source" : ["# the signs of the parameters 'b' and 'm' were declared PRIOR to the second"]
}
,
{
"cell_type" : "markdown",
"metadata" : {},
"source" : ["# attempt at computation."]
}
,
{
"cell_type" : "markdown",
"metadata" : {},
"source" : [""]
}
,
{
"cell_type" : "markdown",
"metadata" : {},
"source" : ["      SymbMath:"]
}
,
{
"cell_type" : "markdown",
"metadata" : {},
"source" : ["      Input:"]
}
,
{
"cell_type" : "markdown",
"metadata" : {},
"source" : ["inte(x^n*exp(-a*x), x from 0 to inf)"]
}
,
{
"cell_type" : "markdown",
"metadata" : {},
"source" : ["      Output:"]
}
,
{
"cell_type" : "markdown",
"metadata" : {},
"source" : ["inte(x^n*exp(-a*x), x, 0, inf)"]
}
,
{
"cell_type" : "markdown",
"metadata" : {},
"source" : [""]
}
,
{
"cell_type" : "markdown",
"metadata" : {},
"source" : [""]
}
,
{
"cell_type" : "markdown",
"metadata" : {},
"source" : ["^^^^^^^^^^^^ Example 8 ^^^^^^^^^^^^^^^^*"]
}
,
{
"cell_type" : "markdown",
"metadata" : {},
"source" : ["      Mathematica:"]
}
,
{
"cell_type" : "markdown",
"metadata" : {},
"source" : ["In[1]:= Integrate[1/x,{x,-1,1}]"]
}
,
{
"cell_type" : "markdown",
"metadata" : {},
"source" : ["Out[1]= -Log[-1]"]
}
,
{
"cell_type" : "markdown",
"metadata" : {},
"source" : [""]
}
,
{
"cell_type" : "markdown",
"metadata" : {},
"source" : ["      Maple:"]
}
,
{
"cell_type" : "markdown",
"metadata" : {},
"source" : ["has the same problem."]
}
,
{
"cell_type" : "markdown",
"metadata" : {},
"source" : [""]
}
,
{
"cell_type" : "markdown",
"metadata" : {},
"source" : ["      SymbMath:"]
}
,
{
"cell_type" : "markdown",
"metadata" : {},
"source" : ["      Input:"]
}
,
{
"cell_type" : "markdown",
"metadata" : {},
"source" : ["inte(1/x, x from -1 to 1)"]
}
,
{
"cell_type" : "markdown",
"metadata" : {},
"source" : ["inte(1/x, x from -1 to 2)"]
}
,
{
"cell_type" : "markdown",
"metadata" : {},
"source" : ["      Output:"]
}
,
{
"cell_type" : "markdown",
"metadata" : {},
"source" : ["0"]
}
,
{
"cell_type" : "markdown",
"metadata" : {},
"source" : ["ln(2)"]
}
,
{
"cell_type" : "markdown",
"metadata" : {},
"source" : [""]
}
,
{
"cell_type" : "markdown",
"metadata" : {},
"source" : [""]
}
,
{
"cell_type" : "markdown",
"metadata" : {},
"source" : ["^^^^^^^^^^^^^* Example 9 ^^^^^^^^^^^^^^^*"]
}
,
{
"cell_type" : "markdown",
"metadata" : {},
"source" : ["      Maple:"]
}
,
{
"cell_type" : "markdown",
"metadata" : {},
"source" : ["has a problem for int(tan(x), x=0..pi)."]
}
,
{
"cell_type" : "markdown",
"metadata" : {},
"source" : [""]
}
,
{
"cell_type" : "markdown",
"metadata" : {},
"source" : ["      SymbMath:"]
}
,
{
"cell_type" : "markdown",
"metadata" : {},
"source" : ["      Input:"]
}
,
{
"cell_type" : "markdown",
"metadata" : {},
"source" : ["inte(tan(x), x from 0 to pi)"]
}
,
{
"cell_type" : "markdown",
"metadata" : {},
"source" : ["      Output:"]
}
,
{
"cell_type" : "markdown",
"metadata" : {},
"source" : ["0"]
}
,
{
"cell_type" : "markdown",
"metadata" : {},
"source" : [""]
}
,
{
"cell_type" : "markdown",
"metadata" : {},
"source" : ["^^^^^^^^^^^^^^ Example 10 ^^^^^^^^^^^^^^"]
}
,
{
"cell_type" : "markdown",
"metadata" : {},
"source" : ["      Mathematica:"]
}
,
{
"cell_type" : "markdown",
"metadata" : {},
"source" : ["cannot evaluate integral of sgn(x)."]
}
,
{
"cell_type" : "markdown",
"metadata" : {},
"source" : [""]
}
,
{
"cell_type" : "markdown",
"metadata" : {},
"source" : ["      Maple:"]
}
,
{
"cell_type" : "markdown",
"metadata" : {},
"source" : ["# cannot evaluate inegral of signum(x) by int(). Help with a procedure:"]
}
,
{
"cell_type" : "markdown",
"metadata" : {},
"source" : ["# Load the procedure into Maple:"]
}
,
{
"cell_type" : "markdown",
"metadata" : {},
"source" : [""]
}
,
{
"cell_type" : "markdown",
"metadata" : {},
"source" : ["> read `pvint.txt`;"]
}
,
{
"cell_type" : "markdown",
"metadata" : {},
"source" : [""]
}
,
{
"cell_type" : "markdown",
"metadata" : {},
"source" : ["pvint := proc(f,x,a,b,s)"]
}
,
{
"cell_type" : "markdown",
"metadata" : {},
"source" : ["         local i1,i2,eps;"]
}
,
{
"cell_type" : "markdown",
"metadata" : {},
"source" : ["             signum(eps) := 1;"]
}
,
{
"cell_type" : "markdown",
"metadata" : {},
"source" : ["             i1 := int(f,x = a .. s-eps);"]
}
,
{
"cell_type" : "markdown",
"metadata" : {},
"source" : ["             i2 := int(f,x = s+eps .. b);"]
}
,
{
"cell_type" : "markdown",
"metadata" : {},
"source" : ["             simplify(i1+i2);"]
}
,
{
"cell_type" : "markdown",
"metadata" : {},
"source" : ["             limit(\",eps = 0,right)"]
}
,
{
"cell_type" : "markdown",
"metadata" : {},
"source" : ["         end"]
}
,
{
"cell_type" : "markdown",
"metadata" : {},
"source" : [""]
}
,
{
"cell_type" : "markdown",
"metadata" : {},
"source" : [""]
}
,
{
"cell_type" : "markdown",
"metadata" : {},
"source" : ["> pvint(signum(x), x, -1, 1, 0);"]
}
,
{
"cell_type" : "markdown",
"metadata" : {},
"source" : [""]
}
,
{
"cell_type" : "markdown",
"metadata" : {},
"source" : ["                          - eps                   1"]
}
,
{
"cell_type" : "markdown",
"metadata" : {},
"source" : ["                            /                     /"]
}
,
{
"cell_type" : "markdown",
"metadata" : {},
"source" : ["                           |                     |"]
}
,
{
"cell_type" : "markdown",
"metadata" : {},
"source" : ["               limit       |    signum(x) dx +   |  signum(x) dx"]
}
,
{
"cell_type" : "markdown",
"metadata" : {},
"source" : ["               eps -> 0+   |                     |"]
}
,
{
"cell_type" : "markdown",
"metadata" : {},
"source" : ["                          /                     /"]
}
,
{
"cell_type" : "markdown",
"metadata" : {},
"source" : ["                          -1                   eps"]
}
,
{
"cell_type" : "markdown",
"metadata" : {},
"source" : [""]
}
,
{
"cell_type" : "markdown",
"metadata" : {},
"source" : ["# Maple refuses to evaluate this P.V. integral:"]
}
,
{
"cell_type" : "markdown",
"metadata" : {},
"source" : [""]
}
,
{
"cell_type" : "markdown",
"metadata" : {},
"source" : ["> simplify(\");"]
}
,
{
"cell_type" : "markdown",
"metadata" : {},
"source" : [""]
}
,
{
"cell_type" : "markdown",
"metadata" : {},
"source" : ["                          - eps                   1"]
}
,
{
"cell_type" : "markdown",
"metadata" : {},
"source" : ["                            /                     /"]
}
,
{
"cell_type" : "markdown",
"metadata" : {},
"source" : ["                           |                     |"]
}
,
{
"cell_type" : "markdown",
"metadata" : {},
"source" : ["               limit       |    signum(x) dx +   |  signum(x) dx"]
}
,
{
"cell_type" : "markdown",
"metadata" : {},
"source" : ["               eps -> 0+   |                     |"]
}
,
{
"cell_type" : "markdown",
"metadata" : {},
"source" : ["                          /                     /"]
}
,
{
"cell_type" : "markdown",
"metadata" : {},
"source" : ["                          -1                   eps"]
}
,
{
"cell_type" : "markdown",
"metadata" : {},
"source" : [""]
}
,
{
"cell_type" : "markdown",
"metadata" : {},
"source" : ["> eval(\");"]
}
,
{
"cell_type" : "markdown",
"metadata" : {},
"source" : [""]
}
,
{
"cell_type" : "markdown",
"metadata" : {},
"source" : ["                          - eps                   1"]
}
,
{
"cell_type" : "markdown",
"metadata" : {},
"source" : ["                            /                     /"]
}
,
{
"cell_type" : "markdown",
"metadata" : {},
"source" : ["                           |                     |"]
}
,
{
"cell_type" : "markdown",
"metadata" : {},
"source" : ["               limit       |    signum(x) dx +   |  signum(x) dx"]
}
,
{
"cell_type" : "markdown",
"metadata" : {},
"source" : ["               eps -> 0+   |                     |"]
}
,
{
"cell_type" : "markdown",
"metadata" : {},
"source" : ["                          /                     /"]
}
,
{
"cell_type" : "markdown",
"metadata" : {},
"source" : ["                          -1                   eps"]
}
,
{
"cell_type" : "markdown",
"metadata" : {},
"source" : [""]
}
,
{
"cell_type" : "markdown",
"metadata" : {},
"source" : ["      SymbMath:"]
}
,
{
"cell_type" : "markdown",
"metadata" : {},
"source" : ["      Input:"]
}
,
{
"cell_type" : "markdown",
"metadata" : {},
"source" : ["inte(sgn(x), x from -1 to 1)"]
}
,
{
"cell_type" : "markdown",
"metadata" : {},
"source" : ["inte(sgn(x), x from -1 to 2)"]
}
,
{
"cell_type" : "markdown",
"metadata" : {},
"source" : ["      Output:"]
}
,
{
"cell_type" : "markdown",
"metadata" : {},
"source" : ["0"]
}
,
{
"cell_type" : "markdown",
"metadata" : {},
"source" : ["1"]
}
,
{
"cell_type" : "markdown",
"metadata" : {},
"source" : [""]
}
,
{
"cell_type" : "markdown",
"metadata" : {},
"source" : ["^^^^^^^^^^^^* Example 11 ^^^^^^^^^^^^^^^^"]
}
,
{
"cell_type" : "markdown",
"metadata" : {},
"source" : ["Implicit diff. gives 1+y'[x](1+1/y[x])==0; y'[x]==-y[x]/(y[x]+1)."]
}
,
{
"cell_type" : "markdown",
"metadata" : {},
"source" : [""]
}
,
{
"cell_type" : "markdown",
"metadata" : {},
"source" : ["      Mathematica:"]
}
,
{
"cell_type" : "markdown",
"metadata" : {},
"source" : [" given this eq. as input to DSolve says that built-in"]
}
,
{
"cell_type" : "markdown",
"metadata" : {},
"source" : [" procedure can't solve it."]
}
,
{
"cell_type" : "markdown",
"metadata" : {},
"source" : [""]
}
,
{
"cell_type" : "markdown",
"metadata" : {},
"source" : ["       MACSYMA:"]
}
,
{
"cell_type" : "markdown",
"metadata" : {},
"source" : ["(c1) depends(y,x)$"]
}
,
{
"cell_type" : "markdown",
"metadata" : {},
"source" : [""]
}
,
{
"cell_type" : "markdown",
"metadata" : {},
"source" : ["(c2) ode2(diff(y,x) = -y/(y+1),y,x);"]
}
,
{
"cell_type" : "markdown",
"metadata" : {},
"source" : [""]
}
,
{
"cell_type" : "markdown",
"metadata" : {},
"source" : ["(d2)                   - log(y) - y = x + %c"]
}
,
{
"cell_type" : "markdown",
"metadata" : {},
"source" : [""]
}
,
{
"cell_type" : "markdown",
"metadata" : {},
"source" : ["(c3) method;"]
}
,
{
"cell_type" : "markdown",
"metadata" : {},
"source" : [""]
}
,
{
"cell_type" : "markdown",
"metadata" : {},
"source" : ["(d3)                         separable"]
}
,
{
"cell_type" : "markdown",
"metadata" : {},
"source" : [""]
}
,
{
"cell_type" : "markdown",
"metadata" : {},
"source" : [""]
}
,
{
"cell_type" : "markdown",
"metadata" : {},
"source" : ["      SymbMath:"]
}
,
{
"cell_type" : "markdown",
"metadata" : {},
"source" : ["solve the differential equation by integration inte() or by dsolve()."]
}
,
{
"cell_type" : "markdown",
"metadata" : {},
"source" : ["      Input:"]
}
,
{
"cell_type" : "markdown",
"metadata" : {},
"source" : ["d(y)/d(x)*(1+1/y) === -1"]
}
,
{
"cell_type" : "markdown",
"metadata" : {},
"source" : ["inte(last*d(x))"]
}
,
{
"cell_type" : "markdown",
"metadata" : {},
"source" : ["Expand=On"]
}
,
{
"cell_type" : "markdown",
"metadata" : {},
"source" : ["dsolve(d(y)/d(x) === -y/(y+1), y)"]
}
,
{
"cell_type" : "markdown",
"metadata" : {},
"source" : ["      Output:"]
}
,
{
"cell_type" : "markdown",
"metadata" : {},
"source" : ["(1 + 1/y)*d(y)/d(x) === -1"]
}
,
{
"cell_type" : "markdown",
"metadata" : {},
"source" : ["y + ln(y*sgn(y)) === constant - x"]
}
,
{
"cell_type" : "markdown",
"metadata" : {},
"source" : ["Expand = On"]
}
,
{
"cell_type" : "markdown",
"metadata" : {},
"source" : ["-y - ln(y*sgn(y)) === constant + x"]
}
,
{
"cell_type" : "markdown",
"metadata" : {},
"source" : [""]
}
,
{
"cell_type" : "markdown",
"metadata" : {},
"source" : [""]
}
,
{
"cell_type" : "markdown",
"metadata" : {},
"source" : ["^^^^^^^^^^^^* Example 12 ^^^^^^^^^^^^^^^^"]
}
,
{
"cell_type" : "markdown",
"metadata" : {},
"source" : ["      Mathematica:"]
}
,
{
"cell_type" : "markdown",
"metadata" : {},
"source" : ["                 y'[x] = y[x]^(1/2)"]
}
,
{
"cell_type" : "markdown",
"metadata" : {},
"source" : ["                  y[0] = 0"]
}
,
{
"cell_type" : "markdown",
"metadata" : {},
"source" : [""]
}
,
{
"cell_type" : "markdown",
"metadata" : {},
"source" : ["DSolve could not handle it. (It rarely solves anything!!), and the"]
}
,
{
"cell_type" : "markdown",
"metadata" : {},
"source" : ["RungeKutta package only gave me the solution"]
}
,
{
"cell_type" : "markdown",
"metadata" : {},
"source" : [""]
}
,
{
"cell_type" : "markdown",
"metadata" : {},
"source" : ["                    y[x]=0"]
}
,
{
"cell_type" : "markdown",
"metadata" : {},
"source" : [""]
}
,
{
"cell_type" : "markdown",
"metadata" : {},
"source" : ["Obviously, there is another solution viz."]
}
,
{
"cell_type" : "markdown",
"metadata" : {},
"source" : [""]
}
,
{
"cell_type" : "markdown",
"metadata" : {},
"source" : ["                   y[x] = (x/2)^2"]
}
,
{
"cell_type" : "markdown",
"metadata" : {},
"source" : [""]
}
,
{
"cell_type" : "markdown",
"metadata" : {},
"source" : ["      SymbMath:"]
}
,
{
"cell_type" : "markdown",
"metadata" : {},
"source" : ["      Input:"]
}
,
{
"cell_type" : "markdown",
"metadata" : {},
"source" : ["dsolve(d(y)/d(x) === sqrt(y), y)"]
}
,
{
"cell_type" : "markdown",
"metadata" : {},
"source" : ["(last/2)^2"]
}
,
{
"cell_type" : "markdown",
"metadata" : {},
"source" : ["      Output:"]
}
,
{
"cell_type" : "markdown",
"metadata" : {},
"source" : ["2*sqrt(y) === constant + x"]
}
,
{
"cell_type" : "markdown",
"metadata" : {},
"source" : ["y === 1/4*(constant + x)^2"]
}
,
{
"cell_type" : "markdown",
"metadata" : {},
"source" : [""]
}
,
{
"cell_type" : "markdown",
"metadata" : {},
"source" : ["^^^^^^^^^^^^* Example 13 ^^^^^^^^^^^^^^^^"]
}
,
{
"cell_type" : "markdown",
"metadata" : {},
"source" : ["      Maple:"]
}
,
{
"cell_type" : "markdown",
"metadata" : {},
"source" : ["> sqrt(x*x);"]
}
,
{
"cell_type" : "markdown",
"metadata" : {},
"source" : ["      x"]
}
,
{
"cell_type" : "markdown",
"metadata" : {},
"source" : [""]
}
,
{
"cell_type" : "markdown",
"metadata" : {},
"source" : ["      Mathematica:"]
}
,
{
"cell_type" : "markdown",
"metadata" : {},
"source" : [" Sqrt[a^2] evaluates to Sqrt[a^2]."]
}
,
{
"cell_type" : "markdown",
"metadata" : {},
"source" : [""]
}
,
{
"cell_type" : "markdown",
"metadata" : {},
"source" : ["      SymbMath:"]
}
,
{
"cell_type" : "markdown",
"metadata" : {},
"source" : ["      Input:"]
}
,
{
"cell_type" : "markdown",
"metadata" : {},
"source" : ["sqrt(x^2)"]
}
,
{
"cell_type" : "markdown",
"metadata" : {},
"source" : ["assume(a > 0)"]
}
,
{
"cell_type" : "markdown",
"metadata" : {},
"source" : ["sqrt(a^2)"]
}
,
{
"cell_type" : "markdown",
"metadata" : {},
"source" : ["assume(b <0 )"]
}
,
{
"cell_type" : "markdown",
"metadata" : {},
"source" : ["sqrt(b^2)"]
}
,
{
"cell_type" : "markdown",
"metadata" : {},
"source" : ["      Output:"]
}
,
{
"cell_type" : "markdown",
"metadata" : {},
"source" : ["x*sgn(x)"]
}
,
{
"cell_type" : "markdown",
"metadata" : {},
"source" : ["assumed"]
}
,
{
"cell_type" : "markdown",
"metadata" : {},
"source" : ["a"]
}
,
{
"cell_type" : "markdown",
"metadata" : {},
"source" : ["assumed"]
}
,
{
"cell_type" : "markdown",
"metadata" : {},
"source" : ["-b"]
}
,
{
"cell_type" : "markdown",
"metadata" : {},
"source" : [""]
}
,
{
"cell_type" : "markdown",
"metadata" : {},
"source" : ["^^^^^^^^^^^ Example 14 ^^^^^^^^^^^^^^^^^"]
}
,
{
"cell_type" : "markdown",
"metadata" : {},
"source" : ["      Maple and Mathematica cannot find the integrals of abs(x)."]
}
,
{
"cell_type" : "markdown",
"metadata" : {},
"source" : [""]
}
,
{
"cell_type" : "markdown",
"metadata" : {},
"source" : ["      SymbMath:"]
}
,
{
"cell_type" : "markdown",
"metadata" : {},
"source" : ["      Input:"]
}
,
{
"cell_type" : "markdown",
"metadata" : {},
"source" : ["inte(abs(x), x from -1 to 1)"]
}
,
{
"cell_type" : "markdown",
"metadata" : {},
"source" : ["inte(abs(x)^5*d(x))"]
}
,
{
"cell_type" : "markdown",
"metadata" : {},
"source" : ["      Output:"]
}
,
{
"cell_type" : "markdown",
"metadata" : {},
"source" : ["1"]
}
,
{
"cell_type" : "markdown",
"metadata" : {},
"source" : ["constant + 1/6*abs(x)^6*sgn(x)"]
}
,
{
"cell_type" : "markdown",
"metadata" : {},
"source" : [""]
}
,
{
"cell_type" : "markdown",
"metadata" : {},
"source" : ["---------------------------------------------------------------------"]
}
,
{
"cell_type" : "markdown",
"metadata" : {},
"source" : [""]
}
,
{
"cell_type" : "markdown",
"metadata" : {},
"source" : ["      The following problems are taken from Swokowski's Calculus"]
}
,
{
"cell_type" : "markdown",
"metadata" : {},
"source" : ["book.  They cause Mathematica to fail because of a singularity in"]
}
,
{
"cell_type" : "markdown",
"metadata" : {},
"source" : ["the interior of the interval of integration:"]
}
,
{
"cell_type" : "markdown",
"metadata" : {},
"source" : [""]
}
,
{
"cell_type" : "markdown",
"metadata" : {},
"source" : ["        Section 10.4 Problems 3, 12, 15, 16, 23, 29."]
}
,
{
"cell_type" : "markdown",
"metadata" : {},
"source" : [""]
}
,
{
"cell_type" : "markdown",
"metadata" : {},
"source" : ["The comments \"INTEGRAL IS DIVERGENT\" and \"Principal Value\" come from"]
}
,
{
"cell_type" : "markdown",
"metadata" : {},
"source" : ["Macsyma.  Mma gives no indication that anything is amiss."]
}
,
{
"cell_type" : "markdown",
"metadata" : {},
"source" : [""]
}
,
{
"cell_type" : "markdown",
"metadata" : {},
"source" : ["^^^^^^^^^^^^ Problem3 ^^^^^^^^^^^^^^^^*"]
}
,
{
"cell_type" : "markdown",
"metadata" : {},
"source" : ["      Mathematica:"]
}
,
{
"cell_type" : "markdown",
"metadata" : {},
"source" : ["In[4]:= Integrate[1/x^2,{x,-3,1}]"]
}
,
{
"cell_type" : "markdown",
"metadata" : {},
"source" : [""]
}
,
{
"cell_type" : "markdown",
"metadata" : {},
"source" : ["          4"]
}
,
{
"cell_type" : "markdown",
"metadata" : {},
"source" : ["Out[4]= -(-)                            (* INTEGRAL IS DIVERGENT *)"]
}
,
{
"cell_type" : "markdown",
"metadata" : {},
"source" : ["          3"]
}
,
{
"cell_type" : "markdown",
"metadata" : {},
"source" : [""]
}
,
{
"cell_type" : "markdown",
"metadata" : {},
"source" : ["      SymbMath:"]
}
,
{
"cell_type" : "markdown",
"metadata" : {},
"source" : ["      Input:"]
}
,
{
"cell_type" : "markdown",
"metadata" : {},
"source" : ["inte(1/x^2, x from -3 to 1)"]
}
,
{
"cell_type" : "markdown",
"metadata" : {},
"source" : ["      Output:"]
}
,
{
"cell_type" : "markdown",
"metadata" : {},
"source" : ["inf"]
}
,
{
"cell_type" : "markdown",
"metadata" : {},
"source" : [""]
}
,
{
"cell_type" : "markdown",
"metadata" : {},
"source" : ["^^^^^^^^^^^^^ Problem12 ^^^^^^^^^^^^^*"]
}
,
{
"cell_type" : "markdown",
"metadata" : {},
"source" : ["      Mathemtica:"]
}
,
{
"cell_type" : "markdown",
"metadata" : {},
"source" : ["In[6]:= Integrate[x^(-4/3),{x,-1,1}]"]
}
,
{
"cell_type" : "markdown",
"metadata" : {},
"source" : [""]
}
,
{
"cell_type" : "markdown",
"metadata" : {},
"source" : ["Out[6]= -6                              (* INTEGRAL IS DIVERGENT *)"]
}
,
{
"cell_type" : "markdown",
"metadata" : {},
"source" : [""]
}
,
{
"cell_type" : "markdown",
"metadata" : {},
"source" : ["      SymbMath:"]
}
,
{
"cell_type" : "markdown",
"metadata" : {},
"source" : ["      Input:"]
}
,
{
"cell_type" : "markdown",
"metadata" : {},
"source" : ["inte(x^(-4/3), x from -1 to 1)"]
}
,
{
"cell_type" : "markdown",
"metadata" : {},
"source" : ["        Output:"]
}
,
{
"cell_type" : "markdown",
"metadata" : {},
"source" : ["inf"]
}
,
{
"cell_type" : "markdown",
"metadata" : {},
"source" : [""]
}
,
{
"cell_type" : "markdown",
"metadata" : {},
"source" : ["^^^^^^^^^^^^^^ Problem15  ^^^^^^^^^^^^"]
}
,
{
"cell_type" : "markdown",
"metadata" : {},
"source" : ["      Mathematica:"]
}
,
{
"cell_type" : "markdown",
"metadata" : {},
"source" : ["In[7]:= Integrate[1/x,{x,-1,2}]"]
}
,
{
"cell_type" : "markdown",
"metadata" : {},
"source" : [""]
}
,
{
"cell_type" : "markdown",
"metadata" : {},
"source" : ["Out[7]= -Log[-1] + Log[2]"]
}
,
{
"cell_type" : "markdown",
"metadata" : {},
"source" : [""]
}
,
{
"cell_type" : "markdown",
"metadata" : {},
"source" : ["      Maple:"]
}
,
{
"cell_type" : "markdown",
"metadata" : {},
"source" : ["has the same problem."]
}
,
{
"cell_type" : "markdown",
"metadata" : {},
"source" : [""]
}
,
{
"cell_type" : "markdown",
"metadata" : {},
"source" : ["      Macsyma:"]
}
,
{
"cell_type" : "markdown",
"metadata" : {},
"source" : ["      (c7) integrate(1/x,x,-1,2);"]
}
,
{
"cell_type" : "markdown",
"metadata" : {},
"source" : ["      Principal Value"]
}
,
{
"cell_type" : "markdown",
"metadata" : {},
"source" : ["      (d7)                                log(2)"]
}
,
{
"cell_type" : "markdown",
"metadata" : {},
"source" : [""]
}
,
{
"cell_type" : "markdown",
"metadata" : {},
"source" : ["      SymbMath:"]
}
,
{
"cell_type" : "markdown",
"metadata" : {},
"source" : ["      Input:"]
}
,
{
"cell_type" : "markdown",
"metadata" : {},
"source" : ["inte(1/x, x from -1 to 2)"]
}
,
{
"cell_type" : "markdown",
"metadata" : {},
"source" : ["      Output:"]
}
,
{
"cell_type" : "markdown",
"metadata" : {},
"source" : ["ln(2)"]
}
,
{
"cell_type" : "markdown",
"metadata" : {},
"source" : [""]
}
,
{
"cell_type" : "markdown",
"metadata" : {},
"source" : [""]
}
,
{
"cell_type" : "markdown",
"metadata" : {},
"source" : ["^^^^^^^^^^^ Problem16 ^^^^^^^^^^^^^^^^^^"]
}
,
{
"cell_type" : "markdown",
"metadata" : {},
"source" : ["      Mathematica:"]
}
,
{
"cell_type" : "markdown",
"metadata" : {},
"source" : ["In[8]:= Integrate[1/(x^2-x-2),{x,0,4}]"]
}
,
{
"cell_type" : "markdown",
"metadata" : {},
"source" : [""]
}
,
{
"cell_type" : "markdown",
"metadata" : {},
"source" : ["        -Log[-2]   Log[2]   Log[5]"]
}
,
{
"cell_type" : "markdown",
"metadata" : {},
"source" : ["Out[8]= -------- + ------ - ------"]
}
,
{
"cell_type" : "markdown",
"metadata" : {},
"source" : ["           3         3        3"]
}
,
{
"cell_type" : "markdown",
"metadata" : {},
"source" : [""]
}
,
{
"cell_type" : "markdown",
"metadata" : {},
"source" : ["      Macsyma:"]
}
,
{
"cell_type" : "markdown",
"metadata" : {},
"source" : ["      (c8) integrate(1/(x^2-x-2),x,0,4);"]
}
,
{
"cell_type" : "markdown",
"metadata" : {},
"source" : ["      Principal Value"]
}
,
{
"cell_type" : "markdown",
"metadata" : {},
"source" : ["                                           log(5)"]
}
,
{
"cell_type" : "markdown",
"metadata" : {},
"source" : ["      (d8)                               - ------"]
}
,
{
"cell_type" : "markdown",
"metadata" : {},
"source" : ["                                             3"]
}
,
{
"cell_type" : "markdown",
"metadata" : {},
"source" : [""]
}
,
{
"cell_type" : "markdown",
"metadata" : {},
"source" : [""]
}
,
{
"cell_type" : "markdown",
"metadata" : {},
"source" : ["      SymbMath:"]
}
,
{
"cell_type" : "markdown",
"metadata" : {},
"source" : ["      Input:"]
}
,
{
"cell_type" : "markdown",
"metadata" : {},
"source" : ["inte(1/(x^2-x-2), x from 0 to 4)"]
}
,
{
"cell_type" : "markdown",
"metadata" : {},
"source" : ["      Output:"]
}
,
{
"cell_type" : "markdown",
"metadata" : {},
"source" : ["-1/3*ln(2) + 1/3*ln(2/5)"]
}
,
{
"cell_type" : "markdown",
"metadata" : {},
"source" : [""]
}
,
{
"cell_type" : "markdown",
"metadata" : {},
"source" : ["^^^^^^^^^^^^^^* Problem23 ^^^^^^^^^^^"]
}
,
{
"cell_type" : "markdown",
"metadata" : {},
"source" : ["      Mathematica:"]
}
,
{
"cell_type" : "markdown",
"metadata" : {},
"source" : ["In[10]:= Integrate[(1/x^2)Cos[1/x],{x,-1,2}]"]
}
,
{
"cell_type" : "markdown",
"metadata" : {},
"source" : [""]
}
,
{
"cell_type" : "markdown",
"metadata" : {},
"source" : ["                       1"]
}
,
{
"cell_type" : "markdown",
"metadata" : {},
"source" : ["Out[10]= Sin[-1] - Sin[-]              (* INTEGRAL IS DIVERGENT *)"]
}
,
{
"cell_type" : "markdown",
"metadata" : {},
"source" : ["                     2"]
}
,
{
"cell_type" : "markdown",
"metadata" : {},
"source" : [""]
}
,
{
"cell_type" : "markdown",
"metadata" : {},
"source" : ["      SymbMath:"]
}
,
{
"cell_type" : "markdown",
"metadata" : {},
"source" : ["      Input:"]
}
,
{
"cell_type" : "markdown",
"metadata" : {},
"source" : ["y=1/x^2*cos(1/x)"]
}
,
{
"cell_type" : "markdown",
"metadata" : {},
"source" : ["inte(y, x from -1 to 0-zero) + inte(y, x from 0+zero to 2)"]
}
,
{
"cell_type" : "markdown",
"metadata" : {},
"source" : ["      Output:"]
}
,
{
"cell_type" : "markdown",
"metadata" : {},
"source" : ["y = x^(-2)*cos(1/x)"]
}
,
{
"cell_type" : "markdown",
"metadata" : {},
"source" : ["sin(-1) - sin(1/2) + 2*sin(inf)"]
}
,
{
"cell_type" : "markdown",
"metadata" : {},
"source" : [""]
}
,
{
"cell_type" : "markdown",
"metadata" : {},
"source" : ["^^^^^^^^^^^^^ Problem29 ^^^^^^^^^^^^^^^^"]
}
,
{
"cell_type" : "markdown",
"metadata" : {},
"source" : ["      Mathematica:"]
}
,
{
"cell_type" : "markdown",
"metadata" : {},
"source" : ["In[12]:= Integrate[1/(x-4)^2,{x,0,Infinity}]"]
}
,
{
"cell_type" : "markdown",
"metadata" : {},
"source" : [""]
}
,
{
"cell_type" : "markdown",
"metadata" : {},
"source" : ["           1"]
}
,
{
"cell_type" : "markdown",
"metadata" : {},
"source" : ["Out[12]= -(-)                          (* INTEGRAL IS DIVERGENT *)"]
}
,
{
"cell_type" : "markdown",
"metadata" : {},
"source" : ["           4"]
}
,
{
"cell_type" : "markdown",
"metadata" : {},
"source" : [""]
}
,
{
"cell_type" : "markdown",
"metadata" : {},
"source" : ["      SymbMath:"]
}
,
{
"cell_type" : "markdown",
"metadata" : {},
"source" : ["      Input:"]
}
,
{
"cell_type" : "markdown",
"metadata" : {},
"source" : ["y=1/(x-4)^2"]
}
,
{
"cell_type" : "markdown",
"metadata" : {},
"source" : ["inte(y, x from 0 to 4-zero) + inte(y, x from 4+zero to inf)"]
}
,
{
"cell_type" : "markdown",
"metadata" : {},
"source" : ["      Output:"]
}
,
{
"cell_type" : "markdown",
"metadata" : {},
"source" : ["y = (-4 + x)^(-2)"]
}
,
{
"cell_type" : "markdown",
"metadata" : {},
"source" : ["inf"]
}
,
{
"cell_type" : "code",
"execution_count": null,
"metadata" : {
    "collapsed" : false
},
"source" : [""],
"outputs": []
}
 ],
"metadata": {
 "kernelspec": {
  "display_name": "FriCAS",
  "language": "spad",
  "name": "ifricas"
 },
 "language_info": {
  "codemirror_mode": "spad",
  "mimetype": "text/x-spad",
  "name": "SPAD",
  "pygments_lexer": "spad",
  "version": "1.2.6"
 },
 "name": "huang.ipynb"
},
"nbformat": 4,
"nbformat_minor": 0
}
