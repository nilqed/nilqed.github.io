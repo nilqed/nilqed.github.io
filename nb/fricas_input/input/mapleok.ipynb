{
 "cells": [
{
"cell_type" : "code",
"execution_count": null,
"metadata" : {
    "collapsed" : false
},
"source" : [")set mes auto off"],
"outputs": []
}
,
{
"cell_type" : "code",
"execution_count": null,
"metadata" : {
    "collapsed" : false
},
"source" : [")set break resume"],
"outputs": []
}
,
{
"cell_type" : "code",
"execution_count": null,
"metadata" : {
    "collapsed" : false
},
"source" : ["in1012a:=integrate(log(abs(z^3-1))/(1+z)^2, z= 0..%plusInfinity,\"noPole\")"],
"outputs": []
}
,
{
"cell_type" : "markdown",
"metadata" : {},
"source" : ["            +-+"]
}
,
{
"cell_type" : "markdown",
"metadata" : {},
"source" : ["        %pi\|3"]
}
,
{
"cell_type" : "markdown",
"metadata" : {},
"source" : ["   (4)  -------"]
}
,
{
"cell_type" : "markdown",
"metadata" : {},
"source" : ["           3"]
}
,
{
"cell_type" : "markdown",
"metadata" : {},
"source" : ["                    Type: Union(f1: OrderedCompletion Expression Integer,...)"]
}
,
{
"cell_type" : "code",
"execution_count": null,
"metadata" : {
    "collapsed" : false
},
"source" : ["in101a:=integrate((sqrt(z)^I)^I, z= 0..1,\"noPole\")"],
"outputs": []
}
,
{
"cell_type" : "markdown",
"metadata" : {},
"source" : ["           2"]
}
,
{
"cell_type" : "markdown",
"metadata" : {},
"source" : ["   (2)  ------"]
}
,
{
"cell_type" : "markdown",
"metadata" : {},
"source" : ["         2"]
}
,
{
"cell_type" : "markdown",
"metadata" : {},
"source" : ["        I  + 2"]
}
,
{
"cell_type" : "markdown",
"metadata" : {},
"source" : ["                    Type: Union(f1: OrderedCompletion Expression Integer,...)"]
}
,
{
"cell_type" : "code",
"execution_count": null,
"metadata" : {
    "collapsed" : false
},
"source" : ["in106a:=integrate(((I+z)^I)^I, z= 0..1,\"noPole\")"],
"outputs": []
}
,
{
"cell_type" : "markdown",
"metadata" : {},
"source" : [""]
}
,
{
"cell_type" : "markdown",
"metadata" : {},
"source" : ["                  2                  2"]
}
,
{
"cell_type" : "markdown",
"metadata" : {},
"source" : ["                 I log(I + 1)       I log(I)"]
}
,
{
"cell_type" : "markdown",
"metadata" : {},
"source" : ["        (I + 1)%e             - I %e"]
}
,
{
"cell_type" : "markdown",
"metadata" : {},
"source" : ["   (3)  ------------------------------------"]
}
,
{
"cell_type" : "markdown",
"metadata" : {},
"source" : ["                        2"]
}
,
{
"cell_type" : "markdown",
"metadata" : {},
"source" : ["                       I  + 1"]
}
,
{
"cell_type" : "markdown",
"metadata" : {},
"source" : ["                    Type: Union(f1: OrderedCompletion Expression Integer,...)"]
}
,
{
"cell_type" : "markdown",
"metadata" : {},
"source" : [""]
}
,
{
"cell_type" : "code",
"execution_count": null,
"metadata" : {
    "collapsed" : false
},
"source" : ["in108a:=integrate(sqrt((1 + cos(z))*(1 + sin(z))),z=0..%plusInfinity,\"noPole\")"],
"outputs": []
}
,
{
"cell_type" : "markdown",
"metadata" : {},
"source" : [""]
}
,
{
"cell_type" : "markdown",
"metadata" : {},
"source" : [" + infinity"]
}
,
{
"cell_type" : "markdown",
"metadata" : {},
"source" : [""]
}
,
{
"cell_type" : "code",
"execution_count": null,
"metadata" : {
    "collapsed" : false
},
"source" : ["in119a:=integrate(log(1/z+sqrt(1+1/z)), z=0..1,\"noPole\")"],
"outputs": []
}
,
{
"cell_type" : "markdown",
"metadata" : {},
"source" : ["              +-+              +-+                 +-+"]
}
,
{
"cell_type" : "markdown",
"metadata" : {},
"source" : ["       3log(2\|2  + 3) + 2log(\|2  + 1) - 3log(- 2\|2  + 3)"]
}
,
{
"cell_type" : "markdown",
"metadata" : {},
"source" : ["     +"]
}
,
{
"cell_type" : "markdown",
"metadata" : {},
"source" : ["                     +-+       +-+      +-+"]
}
,
{
"cell_type" : "markdown",
"metadata" : {},
"source" : ["        +-+    (- 32\|2  - 30)\|5  + 48\|2  + 102           +-+"]
}
,
{
"cell_type" : "markdown",
"metadata" : {},
"source" : ["       \|5 log(----------------------------------) - log(4)\|5"]
}
,
{
"cell_type" : "markdown",
"metadata" : {},
"source" : ["                              +-+"]
}
,
{
"cell_type" : "markdown",
"metadata" : {},
"source" : ["                            2\|2  + 3"]
}
,
{
"cell_type" : "markdown",
"metadata" : {},
"source" : ["  /"]
}
,
{
"cell_type" : "markdown",
"metadata" : {},
"source" : ["     4"]
}
,
{
"cell_type" : "markdown",
"metadata" : {},
"source" : ["                    Type: Union(f1: OrderedCompletion Expression Integer,...)"]
}
,
{
"cell_type" : "code",
"execution_count": null,
"metadata" : {
    "collapsed" : false
},
"source" : ["in120a:=integrate(1/(1+1/z^6), z=0..%plusInfinity)"],
"outputs": []
}
,
{
"cell_type" : "markdown",
"metadata" : {},
"source" : ["  + infinity"]
}
,
{
"cell_type" : "markdown",
"metadata" : {},
"source" : ["                    Type: Union(f1: OrderedCompletion Expression Integer,...)"]
}
,
{
"cell_type" : "markdown",
"metadata" : {},
"source" : [""]
}
,
{
"cell_type" : "code",
"execution_count": null,
"metadata" : {
    "collapsed" : false
},
"source" : ["in1029a:=integrate((I*z/(I*z+1))^(1/2), z= 0..%plusInfinity,\"noPole\")"],
"outputs": []
}
,
{
"cell_type" : "markdown",
"metadata" : {},
"source" : [""]
}
,
{
"cell_type" : "markdown",
"metadata" : {},
"source" : ["   + infinity"]
}
,
{
"cell_type" : "code",
"execution_count": null,
"metadata" : {
    "collapsed" : false
},
"source" : ["in1030a:=integrate(I*z/(I*z+1), z= 0..%plusInfinity,\"noPole\")"],
"outputs": []
}
,
{
"cell_type" : "markdown",
"metadata" : {},
"source" : [""]
}
,
{
"cell_type" : "markdown",
"metadata" : {},
"source" : ["   + infinity"]
}
,
{
"cell_type" : "code",
"execution_count": null,
"metadata" : {
    "collapsed" : false
},
"source" : ["in1066a:=integrate(acoth(z)*real(z), z= 0..1,\"noPole\")"],
"outputs": []
}
,
{
"cell_type" : "markdown",
"metadata" : {},
"source" : ["        1"]
}
,
{
"cell_type" : "markdown",
"metadata" : {},
"source" : ["   (6)  -"]
}
,
{
"cell_type" : "markdown",
"metadata" : {},
"source" : ["        2"]
}
,
{
"cell_type" : "markdown",
"metadata" : {},
"source" : ["                    Type: Union(f1: OrderedCompletion Expression Integer,...)"]
}
,
{
"cell_type" : "code",
"execution_count": null,
"metadata" : {
    "collapsed" : false
},
"source" : ["in1067a:=integrate(acoth(z)*z^(1/2), z= 0..1,\"noPole\")"],
"outputs": []
}
,
{
"cell_type" : "markdown",
"metadata" : {},
"source" : ["        - 2log(2) - %pi + 8"]
}
,
{
"cell_type" : "markdown",
"metadata" : {},
"source" : ["   (8)  -------------------"]
}
,
{
"cell_type" : "markdown",
"metadata" : {},
"source" : ["                 6"]
}
,
{
"cell_type" : "markdown",
"metadata" : {},
"source" : ["                    Type: Union(f1: OrderedCompletion Expression Integer,...)"]
}
,
{
"cell_type" : "code",
"execution_count": null,
"metadata" : {
    "collapsed" : false
},
"source" : ["in1076a:=integrate(sin(z)*(1-cos(z)/(1-sin(z)^2)^(1/2))^2, z= 0..1,\"noPole\")"],
"outputs": []
}
,
{
"cell_type" : "markdown",
"metadata" : {},
"source" : ["   - 4cos(1) + 4"]
}
,
{
"cell_type" : "markdown",
"metadata" : {},
"source" : ["                    Type: Union(f1: OrderedCompletion Expression Integer,...)"]
}
,
{
"cell_type" : "code",
"execution_count": null,
"metadata" : {
    "collapsed" : false
},
"source" : ["in1084a:=integrate(atan(sin(z))+atan(1/sin(z)), z= 0..1,\"noPole\")"],
"outputs": []
}
,
{
"cell_type" : "markdown",
"metadata" : {},
"source" : ["       %pi"]
}
,
{
"cell_type" : "markdown",
"metadata" : {},
"source" : ["     - ---"]
}
,
{
"cell_type" : "markdown",
"metadata" : {},
"source" : ["        2"]
}
,
{
"cell_type" : "markdown",
"metadata" : {},
"source" : ["                 Type: Union(f1: OrderedCompletion Expression Integer,...)"]
}
,
{
"cell_type" : "code",
"execution_count": null,
"metadata" : {
    "collapsed" : false
},
"source" : ["in1107a:=integrate(-log(z)/(-1+z^(1/2))^3, z= 0..1/2*I,\"noPole\")"],
"outputs": []
}
,
{
"cell_type" : "markdown",
"metadata" : {},
"source" : [""]
}
,
{
"cell_type" : "markdown",
"metadata" : {},
"source" : ["                                            +-+"]
}
,
{
"cell_type" : "markdown",
"metadata" : {},
"source" : ["                  +-+              +-+     \|I"]
}
,
{
"cell_type" : "markdown",
"metadata" : {},
"source" : ["       ((2I + 12)\|I  + (- 6I - 4)\|2 )log(----)"]
}
,
{
"cell_type" : "markdown",
"metadata" : {},
"source" : ["                                            +-+"]
}
,
{
"cell_type" : "markdown",
"metadata" : {},
"source" : ["                                           \|2"]
}
,
{
"cell_type" : "markdown",
"metadata" : {},
"source" : ["     +"]
}
,
{
"cell_type" : "markdown",
"metadata" : {},
"source" : ["                                             +-+           +-+"]
}
,
{
"cell_type" : "markdown",
"metadata" : {},
"source" : ["                  +-+            +-+     - 4\|I  + (I + 2)\|2"]
}
,
{
"cell_type" : "markdown",
"metadata" : {},
"source" : ["       ((- I - 6)\|I  + (3I + 2)\|2 )log(---------------------)"]
}
,
{
"cell_type" : "markdown",
"metadata" : {},
"source" : ["                                                   +-+"]
}
,
{
"cell_type" : "markdown",
"metadata" : {},
"source" : ["                                                 2\|2"]
}
,
{
"cell_type" : "markdown",
"metadata" : {},
"source" : ["     +"]
}
,
{
"cell_type" : "markdown",
"metadata" : {},
"source" : ["                2                                  2"]
}
,
{
"cell_type" : "markdown",
"metadata" : {},
"source" : ["               I             +-+           +-+    I        +-+"]
}
,
{
"cell_type" : "markdown",
"metadata" : {},
"source" : ["       (- 3log(--) + 2I + 4)\|I  + (I + 1)\|2 log(--) - 4I\|2"]
}
,
{
"cell_type" : "markdown",
"metadata" : {},
"source" : ["                4                                  4"]
}
,
{
"cell_type" : "markdown",
"metadata" : {},
"source" : ["  /"]
}
,
{
"cell_type" : "markdown",
"metadata" : {},
"source" : ["             +-+              +-+"]
}
,
{
"cell_type" : "markdown",
"metadata" : {},
"source" : ["     (I + 6)\|I  + (- 3I - 2)\|2"]
}
,
{
"cell_type" : "markdown",
"metadata" : {},
"source" : ["                    Type: Union(f1: OrderedCompletion Expression Integer,...)"]
}
,
{
"cell_type" : "code",
"execution_count": null,
"metadata" : {
    "collapsed" : false
},
"source" : ["in1108a:=integrate(log(z)/(-1+z^(1/2))^3, z= 0..1/2*I,\"noPole\")"],
"outputs": []
}
,
{
"cell_type" : "markdown",
"metadata" : {},
"source" : [""]
}
,
{
"cell_type" : "markdown",
"metadata" : {},
"source" : ["                                            +-+"]
}
,
{
"cell_type" : "markdown",
"metadata" : {},
"source" : ["                    +-+            +-+     \|I"]
}
,
{
"cell_type" : "markdown",
"metadata" : {},
"source" : ["       ((- 2I - 12)\|I  + (6I + 4)\|2 )log(----)"]
}
,
{
"cell_type" : "markdown",
"metadata" : {},
"source" : ["                                            +-+"]
}
,
{
"cell_type" : "markdown",
"metadata" : {},
"source" : ["                                           \|2"]
}
,
{
"cell_type" : "markdown",
"metadata" : {},
"source" : ["     +"]
}
,
{
"cell_type" : "markdown",
"metadata" : {},
"source" : ["                                             +-+           +-+"]
}
,
{
"cell_type" : "markdown",
"metadata" : {},
"source" : ["                +-+              +-+     - 4\|I  + (I + 2)\|2"]
}
,
{
"cell_type" : "markdown",
"metadata" : {},
"source" : ["       ((I + 6)\|I  + (- 3I - 2)\|2 )log(---------------------)"]
}
,
{
"cell_type" : "markdown",
"metadata" : {},
"source" : ["                                                   +-+"]
}
,
{
"cell_type" : "markdown",
"metadata" : {},
"source" : ["                                                 2\|2"]
}
,
{
"cell_type" : "markdown",
"metadata" : {},
"source" : ["     +"]
}
,
{
"cell_type" : "markdown",
"metadata" : {},
"source" : ["              2                                    2"]
}
,
{
"cell_type" : "markdown",
"metadata" : {},
"source" : ["             I             +-+             +-+    I        +-+"]
}
,
{
"cell_type" : "markdown",
"metadata" : {},
"source" : ["       (3log(--) - 2I - 4)\|I  + (- I - 1)\|2 log(--) + 4I\|2"]
}
,
{
"cell_type" : "markdown",
"metadata" : {},
"source" : ["              4                                    4"]
}
,
{
"cell_type" : "markdown",
"metadata" : {},
"source" : ["  /"]
}
,
{
"cell_type" : "markdown",
"metadata" : {},
"source" : ["             +-+              +-+"]
}
,
{
"cell_type" : "markdown",
"metadata" : {},
"source" : ["     (I + 6)\|I  + (- 3I - 2)\|2"]
}
,
{
"cell_type" : "markdown",
"metadata" : {},
"source" : ["                    Type: Union(f1: OrderedCompletion Expression Integer,...)"]
}
,
{
"cell_type" : "code",
"execution_count": null,
"metadata" : {
    "collapsed" : false
},
"source" : ["in1112a:=integrate((1-1/z)^(1/2), z= %pi..2*%pi,\"noPole\")"],
"outputs": []
}
,
{
"cell_type" : "markdown",
"metadata" : {},
"source" : [""]
}
,
{
"cell_type" : "markdown",
"metadata" : {},
"source" : ["               +--------+              +-------+"]
}
,
{
"cell_type" : "markdown",
"metadata" : {},
"source" : ["               |2%pi - 1               |%pi - 1"]
}
,
{
"cell_type" : "markdown",
"metadata" : {},
"source" : ["       - 2log( |--------  + 1) + 2log( |-------  + 1)"]
}
,
{
"cell_type" : "markdown",
"metadata" : {},
"source" : ["              \|  2%pi                \|  %pi"]
}
,
{
"cell_type" : "markdown",
"metadata" : {},
"source" : ["     +"]
}
,
{
"cell_type" : "markdown",
"metadata" : {},
"source" : ["                    +-------+                          +--------+"]
}
,
{
"cell_type" : "markdown",
"metadata" : {},
"source" : ["                    |%pi - 1                           |2%pi - 1"]
}
,
{
"cell_type" : "markdown",
"metadata" : {},
"source" : ["             - 2%pi |-------  + 2%pi - 1        - 4%pi |--------  + 4%pi - 1"]
}
,
{
"cell_type" : "markdown",
"metadata" : {},
"source" : ["                   \|  %pi                            \|  2%pi"]
}
,
{
"cell_type" : "markdown",
"metadata" : {},
"source" : ["       - log(---------------------------) + log(----------------------------)"]
}
,
{
"cell_type" : "markdown",
"metadata" : {},
"source" : ["                         %pi                                2%pi"]
}
,
{
"cell_type" : "markdown",
"metadata" : {},
"source" : ["     +"]
}
,
{
"cell_type" : "markdown",
"metadata" : {},
"source" : ["            +--------+        +-------+"]
}
,
{
"cell_type" : "markdown",
"metadata" : {},
"source" : ["            |2%pi - 1         |%pi - 1"]
}
,
{
"cell_type" : "markdown",
"metadata" : {},
"source" : ["       8%pi |--------  - 4%pi |-------"]
}
,
{
"cell_type" : "markdown",
"metadata" : {},
"source" : ["           \|  2%pi          \|  %pi"]
}
,
{
"cell_type" : "markdown",
"metadata" : {},
"source" : ["  /"]
}
,
{
"cell_type" : "markdown",
"metadata" : {},
"source" : ["     4"]
}
,
{
"cell_type" : "markdown",
"metadata" : {},
"source" : ["                    Type: Union(f1: OrderedCompletion Expression Integer,...)"]
}
,
{
"cell_type" : "code",
"execution_count": null,
"metadata" : {
    "collapsed" : false
},
"source" : ["in1114a:=integrate(-z-(1/2*2^(1/2)+1/2*I*2^(1/2))*z^(1/2), z= 1..%plusInfinity,\"noPole\")"],
"outputs": []
}
,
{
"cell_type" : "markdown",
"metadata" : {},
"source" : [""]
}
,
{
"cell_type" : "markdown",
"metadata" : {},
"source" : ["  - infinity"]
}
,
{
"cell_type" : "markdown",
"metadata" : {},
"source" : ["                    Type: Union(f1: OrderedCompletion Expression Integer,...)"]
}
,
{
"cell_type" : "markdown",
"metadata" : {},
"source" : ["----------------------------------------------------"]
}
,
{
"cell_type" : "code",
"execution_count": null,
"metadata" : {
    "collapsed" : false
},
"source" : ["in1118:=integrate(acot(z), z= 0..1/2*I)"],
"outputs": []
}
,
{
"cell_type" : "markdown",
"metadata" : {},
"source" : [""]
}
,
{
"cell_type" : "markdown",
"metadata" : {},
"source" : ["               2"]
}
,
{
"cell_type" : "markdown",
"metadata" : {},
"source" : ["              I  + 4             4I"]
}
,
{
"cell_type" : "markdown",
"metadata" : {},
"source" : ["         2log(------) + I atan(------)"]
}
,
{
"cell_type" : "markdown",
"metadata" : {},
"source" : ["                 4              2"]
}
,
{
"cell_type" : "markdown",
"metadata" : {},
"source" : ["                               I  - 4"]
}
,
{
"cell_type" : "markdown",
"metadata" : {},
"source" : ["         -----------------------------"]
}
,
{
"cell_type" : "markdown",
"metadata" : {},
"source" : ["                       4"]
}
,
{
"cell_type" : "markdown",
"metadata" : {},
"source" : ["                    Type: Union(f1: OrderedCompletion Expression Integer,...)"]
}
,
{
"cell_type" : "markdown",
"metadata" : {},
"source" : ["----------------------------------------------------"]
}
,
{
"cell_type" : "code",
"execution_count": null,
"metadata" : {
    "collapsed" : false
},
"source" : ["in1120a:=integrate((z^2)^(1/2), z= 1..2,\"noPole\")"],
"outputs": []
}
,
{
"cell_type" : "markdown",
"metadata" : {},
"source" : [""]
}
,
{
"cell_type" : "markdown",
"metadata" : {},
"source" : ["         3"]
}
,
{
"cell_type" : "markdown",
"metadata" : {},
"source" : ["   (29)  -"]
}
,
{
"cell_type" : "markdown",
"metadata" : {},
"source" : ["         2"]
}
,
{
"cell_type" : "markdown",
"metadata" : {},
"source" : ["                    Type: Union(f1: OrderedCompletion Expression Integer,...)"]
}
,
{
"cell_type" : "markdown",
"metadata" : {},
"source" : ["----------------------------------------------------"]
}
,
{
"cell_type" : "code",
"execution_count": null,
"metadata" : {
    "collapsed" : false
},
"source" : ["in1130a:=integrate(3^log(z), z= -I..I,\"noPole\")"],
"outputs": []
}
,
{
"cell_type" : "markdown",
"metadata" : {},
"source" : [""]
}
,
{
"cell_type" : "markdown",
"metadata" : {},
"source" : [""]
}
,
{
"cell_type" : "markdown",
"metadata" : {},
"source" : ["             log(3)log(I)       log(3)log(- I)"]
}
,
{
"cell_type" : "markdown",
"metadata" : {},
"source" : ["         I %e             + I %e"]
}
,
{
"cell_type" : "markdown",
"metadata" : {},
"source" : ["   (45)  -------------------------------------"]
}
,
{
"cell_type" : "markdown",
"metadata" : {},
"source" : ["                       log(3) + 1"]
}
,
{
"cell_type" : "markdown",
"metadata" : {},
"source" : ["                    Type: Union(f1: OrderedCompletion Expression Integer,...)"]
}
,
{
"cell_type" : "markdown",
"metadata" : {},
"source" : [""]
}
,
{
"cell_type" : "markdown",
"metadata" : {},
"source" : ["----------------------------------------------------"]
}
,
{
"cell_type" : "code",
"execution_count": null,
"metadata" : {
    "collapsed" : false
},
"source" : ["in1149:=integrate(imag(z)*z^(1/6), z= -I..I)"],
"outputs": []
}
,
{
"cell_type" : "markdown",
"metadata" : {},
"source" : [""]
}
,
{
"cell_type" : "markdown",
"metadata" : {},
"source" : ["   (49)  0"]
}
,
{
"cell_type" : "markdown",
"metadata" : {},
"source" : ["                    Type: Union(f1: OrderedCompletion Expression Integer,...)"]
}
,
{
"cell_type" : "code",
"execution_count": null,
"metadata" : {
    "collapsed" : false
},
"source" : ["in1149:=integrate(imag(z)*z^(1/6), z= -%i..%i)"],
"outputs": []
}
,
{
"cell_type" : "markdown",
"metadata" : {},
"source" : [""]
}
,
{
"cell_type" : "markdown",
"metadata" : {},
"source" : ["   (64)  0"]
}
,
{
"cell_type" : "markdown",
"metadata" : {},
"source" : ["            Type: Union(f1: OrderedCompletion Expression Complex Integer,...)"]
}
,
{
"cell_type" : "code",
"execution_count": null,
"metadata" : {
    "collapsed" : false
},
"source" : ["in1150a:=integrate(1/z^(1/2), z= -I..I,\"noPole\")"],
"outputs": []
}
,
{
"cell_type" : "markdown",
"metadata" : {},
"source" : [""]
}
,
{
"cell_type" : "markdown",
"metadata" : {},
"source" : ["           +-+     +---+"]
}
,
{
"cell_type" : "markdown",
"metadata" : {},
"source" : ["   (51)  2\|I  - 2\|- I"]
}
,
{
"cell_type" : "markdown",
"metadata" : {},
"source" : ["                    Type: Union(f1: OrderedCompletion Expression Integer,...)"]
}
,
{
"cell_type" : "code",
"execution_count": null,
"metadata" : {
    "collapsed" : false
},
"source" : ["in1150c:=integrate(1/z^(1/2), z= -%i..%i,\"noPole\")"],
"outputs": []
}
,
{
"cell_type" : "markdown",
"metadata" : {},
"source" : [""]
}
,
{
"cell_type" : "markdown",
"metadata" : {},
"source" : ["           +--+     +----+"]
}
,
{
"cell_type" : "markdown",
"metadata" : {},
"source" : ["   (66)  2\|%i  - 2\|- %i"]
}
,
{
"cell_type" : "markdown",
"metadata" : {},
"source" : ["            Type: Union(f1: OrderedCompletion Expression Complex Integer,...)"]
}
,
{
"cell_type" : "code",
"execution_count": null,
"metadata" : {
    "collapsed" : false
},
"source" : ["in1161:=integrate(hermiteH(1, z), z= -I..I)"],
"outputs": []
}
,
{
"cell_type" : "markdown",
"metadata" : {},
"source" : [""]
}
,
{
"cell_type" : "markdown",
"metadata" : {},
"source" : ["   (76)  0"]
}
,
{
"cell_type" : "markdown",
"metadata" : {},
"source" : ["                    Type: Union(f1: OrderedCompletion Expression Integer,...)"]
}
,
{
"cell_type" : "markdown",
"metadata" : {},
"source" : [""]
}
,
{
"cell_type" : "code",
"execution_count": null,
"metadata" : {
    "collapsed" : false
},
"source" : ["in1161a:=integrate(hermiteH(1, z), z= -%i..%i)"],
"outputs": []
}
,
{
"cell_type" : "markdown",
"metadata" : {},
"source" : [""]
}
,
{
"cell_type" : "markdown",
"metadata" : {},
"source" : [""]
}
,
{
"cell_type" : "markdown",
"metadata" : {},
"source" : ["   (77)  0"]
}
,
{
"cell_type" : "markdown",
"metadata" : {},
"source" : ["            Type: Union(f1: OrderedCompletion Expression Complex Integer,...)"]
}
,
{
"cell_type" : "code",
"execution_count": null,
"metadata" : {
    "collapsed" : false
},
"source" : ["in1160:=integrate(hermiteH(2, z), z= -%i..%i)"],
"outputs": []
}
,
{
"cell_type" : "markdown",
"metadata" : {},
"source" : ["     20%i"]
}
,
{
"cell_type" : "markdown",
"metadata" : {},
"source" : ["   - ----"]
}
,
{
"cell_type" : "markdown",
"metadata" : {},
"source" : ["       3"]
}
,
{
"cell_type" : "markdown",
"metadata" : {},
"source" : ["         Type: Union(f1: OrderedCompletion Expression Complex Integer,...)"]
}
,
{
"cell_type" : "code",
"execution_count": null,
"metadata" : {
    "collapsed" : false
},
"source" : ["in1162:=integrate(laguerreL(1, z), z= -I..I)"],
"outputs": []
}
,
{
"cell_type" : "markdown",
"metadata" : {},
"source" : [""]
}
,
{
"cell_type" : "markdown",
"metadata" : {},
"source" : ["   (78)  2I"]
}
,
{
"cell_type" : "markdown",
"metadata" : {},
"source" : ["                    Type: Union(f1: OrderedCompletion Expression Integer,...)"]
}
,
{
"cell_type" : "code",
"execution_count": null,
"metadata" : {
    "collapsed" : false
},
"source" : ["in1162:=integrate(laguerreL(1, z), z= -%i..%i)"],
"outputs": []
}
,
{
"cell_type" : "markdown",
"metadata" : {},
"source" : [""]
}
,
{
"cell_type" : "markdown",
"metadata" : {},
"source" : ["   (79)  2%i"]
}
,
{
"cell_type" : "markdown",
"metadata" : {},
"source" : ["            Type: Union(f1: OrderedCompletion Expression Complex Integer,...)"]
}
,
{
"cell_type" : "code",
"execution_count": null,
"metadata" : {
    "collapsed" : false
},
"source" : ["in1163:=integrate(legendreP(3, z), z= -I..I)"],
"outputs": []
}
,
{
"cell_type" : "markdown",
"metadata" : {},
"source" : [""]
}
,
{
"cell_type" : "markdown",
"metadata" : {},
"source" : ["   (80)  0"]
}
,
{
"cell_type" : "markdown",
"metadata" : {},
"source" : ["                    Type: Union(f1: OrderedCompletion Expression Integer,...)"]
}
,
{
"cell_type" : "code",
"execution_count": null,
"metadata" : {
    "collapsed" : false
},
"source" : ["in1163:=integrate(legendreP(3, z), z= -%i..%i)"],
"outputs": []
}
,
{
"cell_type" : "markdown",
"metadata" : {},
"source" : [""]
}
,
{
"cell_type" : "markdown",
"metadata" : {},
"source" : ["   (81)  0"]
}
,
{
"cell_type" : "markdown",
"metadata" : {},
"source" : ["            Type: Union(f1: OrderedCompletion Expression Complex Integer,...)"]
}
,
{
"cell_type" : "code",
"execution_count": null,
"metadata" : {
    "collapsed" : false
},
"source" : ["in1164:=integrate(legendreP(2, z), z= -I..I)"],
"outputs": []
}
,
{
"cell_type" : "markdown",
"metadata" : {},
"source" : [""]
}
,
{
"cell_type" : "markdown",
"metadata" : {},
"source" : ["          3"]
}
,
{
"cell_type" : "markdown",
"metadata" : {},
"source" : ["   (82)  I  - I"]
}
,
{
"cell_type" : "markdown",
"metadata" : {},
"source" : ["                    Type: Union(f1: OrderedCompletion Expression Integer,...)"]
}
,
{
"cell_type" : "code",
"execution_count": null,
"metadata" : {
    "collapsed" : false
},
"source" : ["in1164:=integrate(legendreP(2, z), z= -%i..%i)"],
"outputs": []
}
,
{
"cell_type" : "markdown",
"metadata" : {},
"source" : [""]
}
,
{
"cell_type" : "markdown",
"metadata" : {},
"source" : ["   (83)  - 2%i"]
}
,
{
"cell_type" : "markdown",
"metadata" : {},
"source" : ["            Type: Union(f1: OrderedCompletion Expression Complex Integer,...)"]
}
,
{
"cell_type" : "markdown",
"metadata" : {},
"source" : [""]
}
,
{
"cell_type" : "code",
"execution_count": null,
"metadata" : {
    "collapsed" : false
},
"source" : ["in1167a:=integrate((z^2)^(1/6), z= -3..-1,\"noPole\")"],
"outputs": []
}
,
{
"cell_type" : "markdown",
"metadata" : {},
"source" : [""]
}
,
{
"cell_type" : "markdown",
"metadata" : {},
"source" : ["            3+---+    3+---+"]
}
,
{
"cell_type" : "markdown",
"metadata" : {},
"source" : ["         - 3\|- 1  + 9\|- 3"]
}
,
{
"cell_type" : "markdown",
"metadata" : {},
"source" : ["   (85)  -------------------"]
}
,
{
"cell_type" : "markdown",
"metadata" : {},
"source" : ["                  4"]
}
,
{
"cell_type" : "markdown",
"metadata" : {},
"source" : ["                    Type: Union(f1: OrderedCompletion Expression Integer,...)"]
}
,
{
"cell_type" : "code",
"execution_count": null,
"metadata" : {
    "collapsed" : false
},
"source" : ["in1180:=integrate(z^(1/3)/(z^2+1), z= 0..10000000000000000000000000000000000000000000000000000000000000000000000000000000000000000000000000000000000000000000000000000000000000000000000000000000000000000000000000000000000000000000000000000000000000000000000000000000000000000000000000000000000000000000000000000000000000000000000000000000000000000000000000000000000000000000000000000000000000000000000000000000000000000000000000000000000000000000000000000000000000000000000000000000000000000000000000000000000000000000000000000000000000000000000000000000000000000000000000000000000000000000000000000000000000000000000000000000000000000000000000000000000000000000000000000000000000000000000000000000000000000000000000000000000000000000000000000000000000000000000000000000000000000000000000000000000000000000000000000000000000000000000000000000000000000000000000000000000000000000000000000000000000000000000000000000000000000000000000000000000000000000000000000000000000000000000000000000000000000000000000000000000000000000000000000000000000000000000000000000000000000000000000000000000000000000000000000000000000000000000000000000000000000000000000000000000000000000000000000000000000000000000000000000000000000000000000000000000000000000000000000000000000000000000000000000000000000000000000000000000000000000000000000000000000000000000000000000000000000000000000000000000000000000000000000000000000000000000000000000000000000000000000000000000000000000000000000000000000000000000000000000000000000000000000000000000000000000000000000000000000000000000000000000000)"],
"outputs": []
}
,
{
"cell_type" : "markdown",
"metadata" : {},
"source" : [""]
}
,
{
"cell_type" : "markdown",
"metadata" : {},
"source" : ["   potentialPole"]
}
,
{
"cell_type" : "markdown",
"metadata" : {},
"source" : [""]
}
,
{
"cell_type" : "code",
"execution_count": null,
"metadata" : {
    "collapsed" : false
},
"source" : ["in1180:=integrate(z^(1/3)/(z^2+1), z= 0..10000000000000000000000000000000000000000000000000000000000000000000000000000000000000000000000000000000000000000000000000000000000000000000000000000000000000000000000000000000000000000000000000000000000000000000000000000000000000000000000000000000000000000000000000000000000000000000000000000000000000000000000000000000000000000000000000000000000000000000000000000000000000000000000000000000000000000000000000000000000000000000000000000000000000000000000000000000000000000000000000000000000000000000000000000000000000000000000000000000000000000000000000000000000000000000000000000000000000000000000000000000000000000000000000000000000000000000000000000000000000000000000000000000000000000000000000000000000000000000000000000000000000000000000000000000000000000000000000000000000000000000000000000000000000000000000000000000000000000000000000000000000000000000000000000000000000000000000000000000000000000000000000000000000000000000000000000000000000000000000000000000000000000000000000000000000000000000000000000000000000000000000000000000000000000000000000000000000000000000000000000000000000000000000000000000000000000000000000000000000000000000000000000000000000000000000000000000000000000000000000000000000000000000000000000000000000000000000000000000000000000000000000000000000000000000000000000000000000000000000000000000000000000000000000000000000000000000000000000000000000000000000000000000000000000000000000000000000000000000000000000000000000000000000000000000000000000000000000000000000000000000000000000000000,\"noPole\")"],
"outputs": []
}
,
{
"cell_type" : "markdown",
"metadata" : {},
"source" : [""]
}
,
{
"cell_type" : "markdown",
"metadata" : {},
"source" : ["        3"]
}
,
{
"cell_type" : "markdown",
"metadata" : {},
"source" : ["      *"]
}
,
{
"cell_type" : "markdown",
"metadata" : {},
"source" : ["         log"]
}
,
{
"cell_type" : "markdown",
"metadata" : {},
"source" : ["             999999999999999999999999999999999999999999999999999999999999999_\n--              99999999999999999999999999999999999999999999999999999999999999_\n--              99999999999999999999999999999999999999999999999999999999999999_\n--              99999999999999999999999999999999999999999999999999999999999999_\n--              99999999999999999999999999999999999999999999999999999999999999_\n--              99999999999999999999999999999999999999999999999999999999999999_\n--              99999999999999999999999999999999999999999999999999999999999999_\n--              99999999999999999999999999999999999999999999999999999999999999_\n--              99999999999999999999999999999999999999999999999999999999999999_\n--              99999999999999999999999999999999999999999999999999999999999999_\n--              99999999999999999999999999999999999999999999999999999999999999_\n--              99999999999999999999999999999999999999999999999999999999999999_\n--              99999999999999999999999999999999999999999999999999999999999999_\n--              99999999999999999999999999999999999999999999999999999999999999_\n--              99999999999999999999999999999999999999999999999999999999999999_\n--              99999999999999999999999999999999999999999999999999999999999999_\n--              99999999999999999999999999999999999999999999999999999999999999_\n--              99999999999999999999999999999999999999999999999999999999999999_\n--              99999999999999999999999999999999999999999999999999999999999999_\n--              99999999999999999999999999999999999999999999999999999999999999_\n--              99999999999999999999999999999999999999999999999999999999999999_\n--              99999999999999999999999999999999999999999999999999999999999999_\n--              99999999999999999999999999999999999999999999999999999999999999_\n--              99999999999999999999999999999999999999999999999999999999999999_\n--              99999999999999999999999999999999999999999999999999999999999999_\n--              99999999999999999999999999999999999999999999999999999999999999_\n--              99999999999999999999999999999999999999999999999999999999999999_\n--              99999999999999999999999999999999999999999999999999999999999999_\n--              99999999999999999999999999999999999999999999999999999999999999_\n--              99999999999999999999999999999999999999999999999999999999999999_\n--              99999999999999999999999999999999999999999999999999999999999999_\n--              99999999999999999999999999999999999999999999999999999999999999_\n--              99999999999999999999999999999999999999999999999999999999999999_\n--              99999999999999999999999999999999999999999999999999999999999999_\n--              99999999999999999999999999999999999999999999999999999999999999_\n--              99999999999999999999999999999999999999999999999999999999999999_\n--              99999999999999999999999999999999999999999999999999999999999999_\n--              99999999999999999999999999999999999999999999999999999999999999_\n--              99999999999999999999999999999999999999999999999999999999999999_\n--              99999999999999999999999999999999999999999999999999999999999999_\n--              99999999999999999999999999999999999999999999999999999999999999_\n--              99999999999999999999999999999999999999999999999999999999999999_\n--              99999999999999999999999999999999999999999999999999999999999999_\n--              99999999999999999999999999999999999999999999999999999999999999_\n--              99999999999999999999999999999999999999999999999999999999999999_\n--              99999999999999999999999999999999999999999999999999999999999999_\n--              99999999999999999999999999999999999999999999999999999999999999_\n--              99999999999999999999999999999999999999999999999999999999999999_\n--              99999999999999999999999999999999999999999999999999999999999999_\n--              99998000000000000000000000000000000000000000000000000000000000_\n--              00000000000000000000000000000000000000000000000000000000000000_\n--              00000000000000000000000000000000000000000000000000000000000000_\n--              00000000000000000000000000000000000000000000000000000000000000_\n--              00000000000000000000000000000000000000000000000000000000000000_\n--              00000000000000000000000000000000000000000000000000000000000000_\n--              00000000000000000000000000000000000000000000000000000000000000_\n--              00000000000000000000000000000000000000000000000000000000000000_\n--              00000000000000000000000000000000000000000000000000000000000000_\n--              00000000000000000000000000000000000000000000000000000000000000_\n--              00000000000000000000000000000000000000000000000000000000000000_\n--              00000000000000000000000000000000000000000000000000000000000000_\n--              00000000000000000000000000000000000000000000000000000000000000_\n--              00000000000000000000000000000000000000000000000000000000000000_\n--              00000000000000000000000000000000000000000000000000000000000000_\n--              00000000000000000000000000000000000000000000000000000000000000_\n--              000000000000000000000000000\n"]
}
,
{
"cell_type" : "markdown",
"metadata" : {},
"source" : ["             *"]
}
,
{
"cell_type" : "markdown",
"metadata" : {},
"source" : ["                3+--+2"]
}
,
{
"cell_type" : "markdown",
"metadata" : {},
"source" : ["                \|10"]
}
,
{
"cell_type" : "markdown",
"metadata" : {},
"source" : ["            +"]
}
,
{
"cell_type" : "markdown",
"metadata" : {},
"source" : ["             300000000000000000000000000000000000000000000000000000000000000_\n--              00000000000000000000000000000000000000000000000000000000000000_\n--              00000000000000000000000000000000000000000000000000000000000000_\n--              00000000000000000000000000000000000000000000000000000000000000_\n--              00000000000000000000000000000000000000000000000000000000000000_\n--              00000000000000000000000000000000000000000000000000000000000000_\n--              00000000000000000000000000000000000000000000000000000000000000_\n--              00000000000000000000000000000000000000000000000000000000000000_\n--              00000000000000000000000000000000000000000000000000000000000000_\n--              00000000000000000000000000000000000000000000000000000000000000_\n--              00000000000000000000000000000000000000000000000000000000000000_\n--              00000000000000000000000000000000000000000000000000000000000000_\n--              00000000000000000000000000000000000000000000000000000000000000_\n--              00000000000000000000000000000000000000000000000000000000000000_\n--              00000000000000000000000000000000000000000000000000000000000000_\n--              00000000000000000000000000000000000000000000000000000000000000_\n--              00000000000000000000000000000000000000000000000000000000000000_\n--              00000000000000000000000000000000000000000000000000000000000000_\n--              00000000000000000000000000000000000000000000000000000000000000_\n--              00000000000000000000000000000000000000000000000000000000000000_\n--              00000000000000000000000000000000000000000000000000000000000000_\n--              00000000000000000000000000000000000000000000000000000000000000_\n--              00000000000000000000000000000000000000000000000000000000000000_\n--              00000000000000000000000000000000000000000000000000000000000000_\n--              00000000000000000000000000000000000000000000000000000000000000_\n--              00000000000000000000000000000000000000000000000000000000000000_\n--              00000000000000000000000000000000000000000000000000000000000000_\n--              00000000000000000000000000000000000000000000000000000000000000_\n--              00000000000000000000000000000000000000000000000000000000000000_\n--              00000000000000000000000000000000000000000000000000000000000000_\n--              00000000000000000000000000000000000000000000000000000000000000_\n--              00000000000000000000000000000000000000000000000000000000000000_\n--              000000000000000000000000000000000000000000000\n"]
}
,
{
"cell_type" : "markdown",
"metadata" : {},
"source" : ["             *"]
}
,
{
"cell_type" : "markdown",
"metadata" : {},
"source" : ["                3+--+"]
}
,
{
"cell_type" : "markdown",
"metadata" : {},
"source" : ["                \|10"]
}
,
{
"cell_type" : "markdown",
"metadata" : {},
"source" : ["            +"]
}
,
{
"cell_type" : "markdown",
"metadata" : {},
"source" : ["              -"]
}
,
{
"cell_type" : "markdown",
"metadata" : {},
"source" : ["              19999999999999999999999999999999999999999999999999999999999999_\n--               9999999999999999999999999999999999999999999999999999999999999_\n--               9999999999999999999999999999999999999999999999999999999999999_\n--               9999999999999999999999999999999999999999999999999999999999999_\n--               9999999999999999999999999999999999999999999999999999999999999_\n--               9999999999999999999999999999999999999999999999999999999999999_\n--               9999999999999999999999999999999999999999999999999999999999999_\n--               9999999999999999999999999999999999999999999999999999999999999_\n--               9999999999999999999999999999999999999999999999999999999999999_\n--               9999999999999999999999999999999999999999999999999999999999999_\n--               9999999999999999999999999999999999999999999999999999999999999_\n--               9999999999999999999999999999999999999999999999999999999999999_\n--               9999999999999999999999999999999999999999999999999999999999999_\n--               9999999999999999999999999999999999999999999999999999999999999_\n--               9999999999999999999999999999999999999999999999999999999999999_\n--               9999999999999999999999999999999999999999999999999999999999999_\n--               9999999999999999999999999999999999999999999999999999999999999_\n--               9999999999999999999999999999999999999999999999999999999999999_\n--               9999999999999999999999999999999999999999999999999999999999999_\n--               9999999999999999999999999999999999999999999999999999999999999_\n--               9999999999999999999999999999999999999999999999999999999999999_\n--               9999999999999999999999999999999999999999999999999999999999999_\n--               9999999999999999999999999999999999999999999999999999999999999_\n--               9999999999999999999999999999999999999999999999999999999999999_\n--               9999999999999999999999999999999999999999999999999999999999999_\n--               9999999999999999999999999999999999999999999999999999999999999_\n--               9999999999999999999999999999999999999999999999999999999999999_\n--               9999999999999999999999999999999999999999999999999999999999999_\n--               9999999999999999999999999999999999999999999999999999999999999_\n--               9999999999999999999999999999999999999999999999999999999999999_\n--               9999999999999999999999999999999999999999999999999999999999999_\n--               9999999999999999999999999999999999999999999999999999999999999_\n--               9999999999999999999999999999999999999999999999999999999999999_\n--               9999999999999999999999999999999999999999999999999999999999999_\n--               9999999999999999999999999999999999999999999999999999999999999_\n--               9999999999999999999999999999999999999999999999999999999999999_\n--               9999999999999999999999999999999999999999999999999999999999999_\n--               9999999999999999999999999999999999999999999999999999999999999_\n--               9999999999999999999999999999999999999999999999999999999999999_\n--               9999999999999999999999999999999999999999999999999999999999999_\n--               9999999999999999999999999999999999999999999999999999999999999_\n--               9999999999999999999999999999999999999999999999999999999999999_\n--               9999999999999999999999999999999999999999999999999999999999999_\n--               9999999999999999999999999999999999999999999999999999999999999_\n--               9999999999999999999999999999999999999999999999999999999999999_\n--               9999999999999999999999999999999999999999999999999999999999999_\n--               9999999999999999999999999999999999999999999999999999999999999_\n--               9999999999999999999999999999999999999999999999999999999999999_\n--               9999999999999999999999999999999999999999999999999999999999999_\n--               9999999999999999999999999999999999999999999999999999999\n"]
}
,
{
"cell_type" : "markdown",
"metadata" : {},
"source" : ["     +"]
}
,
{
"cell_type" : "markdown",
"metadata" : {},
"source" : ["       -"]
}
,
{
"cell_type" : "markdown",
"metadata" : {},
"source" : ["            12"]
}
,
{
"cell_type" : "markdown",
"metadata" : {},
"source" : ["         *"]
}
,
{
"cell_type" : "markdown",
"metadata" : {},
"source" : ["            log"]
}
,
{
"cell_type" : "markdown",
"metadata" : {},
"source" : ["                100000000000000000000000000000000000000000000000000000000000_\n--                 00000000000000000000000000000000000000000000000000000000000_\n--                 00000000000000000000000000000000000000000000000000000000000_\n--                 00000000000000000000000000000000000000000000000000000000000_\n--                 00000000000000000000000000000000000000000000000000000000000_\n--                 00000000000000000000000000000000000000000000000000000000000_\n--                 00000000000000000000000000000000000000000000000000000000000_\n--                 00000000000000000000000000000000000000000000000000000000000_\n--                 00000000000000000000000000000000000000000000000000000000000_\n--                 00000000000000000000000000000000000000000000000000000000000_\n--                 00000000000000000000000000000000000000000000000000000000000_\n--                 00000000000000000000000000000000000000000000000000000000000_\n--                 00000000000000000000000000000000000000000000000000000000000_\n--                 00000000000000000000000000000000000000000000000000000000000_\n--                 00000000000000000000000000000000000000000000000000000000000_\n--                 00000000000000000000000000000000000000000000000000000000000_\n--                 00000000000000000000000000000000000000000000000000000000000_\n--                 00000000000\n"]
}
,
{
"cell_type" : "markdown",
"metadata" : {},
"source" : ["                *"]
}
,
{
"cell_type" : "markdown",
"metadata" : {},
"source" : ["                   3+--+2"]
}
,
{
"cell_type" : "markdown",
"metadata" : {},
"source" : ["                   \|10"]
}
,
{
"cell_type" : "markdown",
"metadata" : {},
"source" : ["               +"]
}
,
{
"cell_type" : "markdown",
"metadata" : {},
"source" : ["                 1"]
}
,
{
"cell_type" : "markdown",
"metadata" : {},
"source" : ["     +"]
}
,
{
"cell_type" : "markdown",
"metadata" : {},
"source" : ["            +-+"]
}
,
{
"cell_type" : "markdown",
"metadata" : {},
"source" : ["         12\|3"]
}
,
{
"cell_type" : "markdown",
"metadata" : {},
"source" : ["      *"]
}
,
{
"cell_type" : "markdown",
"metadata" : {},
"source" : ["         atan"]
}
,
{
"cell_type" : "markdown",
"metadata" : {},
"source" : ["               2000000000000000000000000000000000000000000000000000000000000_\n--                000000000000000000000000000000000000000000000000000000000000_\n--                000000000000000000000000000000000000000000000000000000000000_\n--                000000000000000000000000000000000000000000000000000000000000_\n--                000000000000000000000000000000000000000000000000000000000000_\n--                000000000000000000000000000000000000000000000000000000000000_\n--                000000000000000000000000000000000000000000000000000000000000_\n--                000000000000000000000000000000000000000000000000000000000000_\n--                000000000000000000000000000000000000000000000000000000000000_\n--                000000000000000000000000000000000000000000000000000000000000_\n--                000000000000000000000000000000000000000000000000000000000000_\n--                000000000000000000000000000000000000000000000000000000000000_\n--                000000000000000000000000000000000000000000000000000000000000_\n--                000000000000000000000000000000000000000000000000000000000000_\n--                000000000000000000000000000000000000000000000000000000000000_\n--                000000000000000000000000000000000000000000000000000000000000_\n--                000000000000000000000000000000000000000000000000000000\n"]
}
,
{
"cell_type" : "markdown",
"metadata" : {},
"source" : ["               *"]
}
,
{
"cell_type" : "markdown",
"metadata" : {},
"source" : ["                  3+--+2"]
}
,
{
"cell_type" : "markdown",
"metadata" : {},
"source" : ["                  \|10"]
}
,
{
"cell_type" : "markdown",
"metadata" : {},
"source" : ["              +"]
}
,
{
"cell_type" : "markdown",
"metadata" : {},
"source" : ["                - 1"]
}
,
{
"cell_type" : "markdown",
"metadata" : {},
"source" : ["           /"]
}
,
{
"cell_type" : "markdown",
"metadata" : {},
"source" : ["               +-+"]
}
,
{
"cell_type" : "markdown",
"metadata" : {},
"source" : ["              \|3"]
}
,
{
"cell_type" : "markdown",
"metadata" : {},
"source" : ["     +"]
}
,
{
"cell_type" : "markdown",
"metadata" : {},
"source" : ["            +-+"]
}
,
{
"cell_type" : "markdown",
"metadata" : {},
"source" : ["       2%pi\|3"]
}
,
{
"cell_type" : "markdown",
"metadata" : {},
"source" : ["  /"]
}
,
{
"cell_type" : "markdown",
"metadata" : {},
"source" : ["     24"]
}
,
{
"cell_type" : "markdown",
"metadata" : {},
"source" : ["                    Type: Union(f1: OrderedCompletion Expression Integer,...)"]
}
,
{
"cell_type" : "code",
"execution_count": null,
"metadata" : {
    "collapsed" : false
},
"source" : ["in1183a:=integrate(csc(z), z= 1-I..1+I,\"noPole\")"],
"outputs": []
}
,
{
"cell_type" : "markdown",
"metadata" : {},
"source" : [""]
}
,
{
"cell_type" : "markdown",
"metadata" : {},
"source" : ["                          2                                    2"]
}
,
{
"cell_type" : "markdown",
"metadata" : {},
"source" : ["                sin(I + 1)                           sin(I - 1)"]
}
,
{
"cell_type" : "markdown",
"metadata" : {},
"source" : ["   log(-----------------------------) - log(-----------------------------)"]
}
,
{
"cell_type" : "markdown",
"metadata" : {},
"source" : ["                 2                                    2"]
}
,
{
"cell_type" : "markdown",
"metadata" : {},
"source" : ["       cos(I + 1)  + 2cos(I + 1) + 1        cos(I - 1)  + 2cos(I - 1) + 1"]
}
,
{
"cell_type" : "markdown",
"metadata" : {},
"source" : ["   -----------------------------------------------------------------------"]
}
,
{
"cell_type" : "markdown",
"metadata" : {},
"source" : ["                                      2"]
}
,
{
"cell_type" : "markdown",
"metadata" : {},
"source" : ["                    Type: Union(f1: OrderedCompletion Expression Integer,...)"]
}
,
{
"cell_type" : "markdown",
"metadata" : {},
"source" : [" quite slow to normalize"]
}
,
{
"cell_type" : "markdown",
"metadata" : {},
"source" : [" in1185a:=integrate((z+1)^(1/2)/(1+z^4), z= 0..1,\"noPole\")"]
}
,
{
"cell_type" : "markdown",
"metadata" : {},
"source" : [""]
}
,
{
"cell_type" : "markdown",
"metadata" : {},
"source" : ["       ROOT"]
}
,
{
"cell_type" : "markdown",
"metadata" : {},
"source" : ["               +-----------------------------------------+"]
}
,
{
"cell_type" : "markdown",
"metadata" : {},
"source" : ["               |         2                          2          +-+"]
}
,
{
"cell_type" : "markdown",
"metadata" : {},
"source" : ["              \|- 96%%CZ1  - 64%%CZ0 %%CZ1 - 96%%CZ0  - 1  - 4\|2 %%CZ1"]
}
,
{
"cell_type" : "markdown",
"metadata" : {},
"source" : ["            +"]
}
,
{
"cell_type" : "markdown",
"metadata" : {},
"source" : ["                  +-+"]
}
,
{
"cell_type" : "markdown",
"metadata" : {},
"source" : ["              - 4\|2 %%CZ0"]
}
,
{
"cell_type" : "markdown",
"metadata" : {},
"source" : ["         /"]
}
,
{
"cell_type" : "markdown",
"metadata" : {},
"source" : ["              +-+"]
}
,
{
"cell_type" : "markdown",
"metadata" : {},
"source" : ["            2\|2"]
}
,
{
"cell_type" : "markdown",
"metadata" : {},
"source" : ["    *"]
}
,
{
"cell_type" : "markdown",
"metadata" : {},
"source" : ["       log"]
}
,
{
"cell_type" : "markdown",
"metadata" : {},
"source" : ["                            +-+            +-+             +-+           +-+"]
}
,
{
"cell_type" : "markdown",
"metadata" : {},
"source" : ["                    ((24576\|2 %%CZ0 - 768\|2 )%%CZ1 - 768\|2 %%CZ0 - 48\|2 )"]
}
,
{
"cell_type" : "markdown",
"metadata" : {},
"source" : ["                 *"]
}
,
{
"cell_type" : "markdown",
"metadata" : {},
"source" : ["                     +-----------------------------------------+"]
}
,
{
"cell_type" : "markdown",
"metadata" : {},
"source" : ["                     |         2                          2"]
}
,
{
"cell_type" : "markdown",
"metadata" : {},
"source" : ["                    \|- 96%%CZ1  - 64%%CZ0 %%CZ1 - 96%%CZ0  - 1"]
}
,
{
"cell_type" : "markdown",
"metadata" : {},
"source" : ["                +"]
}
,
{
"cell_type" : "markdown",
"metadata" : {},
"source" : ["                                           2               2"]
}
,
{
"cell_type" : "markdown",
"metadata" : {},
"source" : ["                  (196608%%CZ0 - 6144)%%CZ1  + (196608%%CZ0  + 384)%%CZ1"]
}
,
{
"cell_type" : "markdown",
"metadata" : {},
"source" : ["                +"]
}
,
{
"cell_type" : "markdown",
"metadata" : {},
"source" : ["                             2"]
}
,
{
"cell_type" : "markdown",
"metadata" : {},
"source" : ["                  - 6144%%CZ0  + 384%%CZ0 + 48"]
}
,
{
"cell_type" : "markdown",
"metadata" : {},
"source" : ["             *"]
}
,
{
"cell_type" : "markdown",
"metadata" : {},
"source" : ["                ROOT"]
}
,
{
"cell_type" : "markdown",
"metadata" : {},
"source" : ["                        +-----------------------------------------+"]
}
,
{
"cell_type" : "markdown",
"metadata" : {},
"source" : ["                        |         2                          2"]
}
,
{
"cell_type" : "markdown",
"metadata" : {},
"source" : ["                       \|- 96%%CZ1  - 64%%CZ0 %%CZ1 - 96%%CZ0  - 1"]
}
,
{
"cell_type" : "markdown",
"metadata" : {},
"source" : ["                     +"]
}
,
{
"cell_type" : "markdown",
"metadata" : {},
"source" : ["                           +-+          +-+"]
}
,
{
"cell_type" : "markdown",
"metadata" : {},
"source" : ["                       - 4\|2 %%CZ1 - 4\|2 %%CZ0"]
}
,
{
"cell_type" : "markdown",
"metadata" : {},
"source" : ["                  /"]
}
,
{
"cell_type" : "markdown",
"metadata" : {},
"source" : ["                       +-+"]
}
,
{
"cell_type" : "markdown",
"metadata" : {},
"source" : ["                     2\|2"]
}
,
{
"cell_type" : "markdown",
"metadata" : {},
"source" : ["            +"]
}
,
{
"cell_type" : "markdown",
"metadata" : {},
"source" : ["                ((- 3072%%CZ0 + 384)%%CZ1 + 384%%CZ0 - 12)"]
}
,
{
"cell_type" : "markdown",
"metadata" : {},
"source" : ["             *"]
}
,
{
"cell_type" : "markdown",
"metadata" : {},
"source" : ["                 +-----------------------------------------+"]
}
,
{
"cell_type" : "markdown",
"metadata" : {},
"source" : ["                 |         2                          2"]
}
,
{
"cell_type" : "markdown",
"metadata" : {},
"source" : ["                \|- 96%%CZ1  - 64%%CZ0 %%CZ1 - 96%%CZ0  - 1"]
}
,
{
"cell_type" : "markdown",
"metadata" : {},
"source" : ["            +"]
}
,
{
"cell_type" : "markdown",
"metadata" : {},
"source" : ["                       +-+             +-+      2"]
}
,
{
"cell_type" : "markdown",
"metadata" : {},
"source" : ["              (- 12288\|2 %%CZ0 + 1536\|2 )%%CZ1"]
}
,
{
"cell_type" : "markdown",
"metadata" : {},
"source" : ["            +"]
}
,
{
"cell_type" : "markdown",
"metadata" : {},
"source" : ["                      +-+     2      +-+              +-+     2      +-+"]
}
,
{
"cell_type" : "markdown",
"metadata" : {},
"source" : ["             (- 12288\|2 %%CZ0  + 48\|2 )%%CZ1 + 1536\|2 %%CZ0  + 48\|2 %%CZ0"]
}
,
{
"cell_type" : "markdown",
"metadata" : {},
"source" : ["            +"]
}
,
{
"cell_type" : "markdown",
"metadata" : {},
"source" : ["                 +-+"]
}
,
{
"cell_type" : "markdown",
"metadata" : {},
"source" : ["              60\|2"]
}
,
{
"cell_type" : "markdown",
"metadata" : {},
"source" : ["         /"]
}
,
{
"cell_type" : "markdown",
"metadata" : {},
"source" : ["             +-+"]
}
,
{
"cell_type" : "markdown",
"metadata" : {},
"source" : ["            \|2"]
}
,
{
"cell_type" : "markdown",
"metadata" : {},
"source" : ["   +"]
}
,
{
"cell_type" : "markdown",
"metadata" : {},
"source" : ["     -"]
}
,
{
"cell_type" : "markdown",
"metadata" : {},
"source" : ["          ROOT"]
}
,
{
"cell_type" : "markdown",
"metadata" : {},
"source" : ["                  +-----------------------------------------+"]
}
,
{
"cell_type" : "markdown",
"metadata" : {},
"source" : ["                  |         2                          2          +-+"]
}
,
{
"cell_type" : "markdown",
"metadata" : {},
"source" : ["                 \|- 96%%CZ1  - 64%%CZ0 %%CZ1 - 96%%CZ0  - 1  - 4\|2 %%CZ1"]
}
,
{
"cell_type" : "markdown",
"metadata" : {},
"source" : ["               +"]
}
,
{
"cell_type" : "markdown",
"metadata" : {},
"source" : ["                     +-+"]
}
,
{
"cell_type" : "markdown",
"metadata" : {},
"source" : ["                 - 4\|2 %%CZ0"]
}
,
{
"cell_type" : "markdown",
"metadata" : {},
"source" : ["            /"]
}
,
{
"cell_type" : "markdown",
"metadata" : {},
"source" : ["                 +-+"]
}
,
{
"cell_type" : "markdown",
"metadata" : {},
"source" : ["               2\|2"]
}
,
{
"cell_type" : "markdown",
"metadata" : {},
"source" : ["       *"]
}
,
{
"cell_type" : "markdown",
"metadata" : {},
"source" : ["          log"]
}
,
{
"cell_type" : "markdown",
"metadata" : {},
"source" : ["                       ((24576%%CZ0 - 768)%%CZ1 - 768%%CZ0 - 48)"]
}
,
{
"cell_type" : "markdown",
"metadata" : {},
"source" : ["                    *"]
}
,
{
"cell_type" : "markdown",
"metadata" : {},
"source" : ["                        +-----------------------------------------+"]
}
,
{
"cell_type" : "markdown",
"metadata" : {},
"source" : ["                        |         2                          2"]
}
,
{
"cell_type" : "markdown",
"metadata" : {},
"source" : ["                       \|- 96%%CZ1  - 64%%CZ0 %%CZ1 - 96%%CZ0  - 1"]
}
,
{
"cell_type" : "markdown",
"metadata" : {},
"source" : ["                   +"]
}
,
{
"cell_type" : "markdown",
"metadata" : {},
"source" : ["                            +-+             +-+      2"]
}
,
{
"cell_type" : "markdown",
"metadata" : {},
"source" : ["                     (98304\|2 %%CZ0 - 3072\|2 )%%CZ1"]
}
,
{
"cell_type" : "markdown",
"metadata" : {},
"source" : ["                   +"]
}
,
{
"cell_type" : "markdown",
"metadata" : {},
"source" : ["                            +-+     2       +-+              +-+     2"]
}
,
{
"cell_type" : "markdown",
"metadata" : {},
"source" : ["                     (98304\|2 %%CZ0  + 192\|2 )%%CZ1 - 3072\|2 %%CZ0"]
}
,
{
"cell_type" : "markdown",
"metadata" : {},
"source" : ["                   +"]
}
,
{
"cell_type" : "markdown",
"metadata" : {},
"source" : ["                         +-+           +-+"]
}
,
{
"cell_type" : "markdown",
"metadata" : {},
"source" : ["                     192\|2 %%CZ0 + 24\|2"]
}
,
{
"cell_type" : "markdown",
"metadata" : {},
"source" : ["                *"]
}
,
{
"cell_type" : "markdown",
"metadata" : {},
"source" : ["                   ROOT"]
}
,
{
"cell_type" : "markdown",
"metadata" : {},
"source" : ["                           +-----------------------------------------+"]
}
,
{
"cell_type" : "markdown",
"metadata" : {},
"source" : ["                           |         2                          2"]
}
,
{
"cell_type" : "markdown",
"metadata" : {},
"source" : ["                          \|- 96%%CZ1  - 64%%CZ0 %%CZ1 - 96%%CZ0  - 1"]
}
,
{
"cell_type" : "markdown",
"metadata" : {},
"source" : ["                        +"]
}
,
{
"cell_type" : "markdown",
"metadata" : {},
"source" : ["                              +-+          +-+"]
}
,
{
"cell_type" : "markdown",
"metadata" : {},
"source" : ["                          - 4\|2 %%CZ1 - 4\|2 %%CZ0"]
}
,
{
"cell_type" : "markdown",
"metadata" : {},
"source" : ["                     /"]
}
,
{
"cell_type" : "markdown",
"metadata" : {},
"source" : ["                          +-+"]
}
,
{
"cell_type" : "markdown",
"metadata" : {},
"source" : ["                        2\|2"]
}
,
{
"cell_type" : "markdown",
"metadata" : {},
"source" : ["               +"]
}
,
{
"cell_type" : "markdown",
"metadata" : {},
"source" : ["                   ((- 3072%%CZ0 + 384)%%CZ1 + 384%%CZ0 - 12)"]
}
,
{
"cell_type" : "markdown",
"metadata" : {},
"source" : ["                *"]
}
,
{
"cell_type" : "markdown",
"metadata" : {},
"source" : ["                    +-----------------------------------------+"]
}
,
{
"cell_type" : "markdown",
"metadata" : {},
"source" : ["                    |         2                          2"]
}
,
{
"cell_type" : "markdown",
"metadata" : {},
"source" : ["                   \|- 96%%CZ1  - 64%%CZ0 %%CZ1 - 96%%CZ0  - 1"]
}
,
{
"cell_type" : "markdown",
"metadata" : {},
"source" : ["               +"]
}
,
{
"cell_type" : "markdown",
"metadata" : {},
"source" : ["                          +-+             +-+      2"]
}
,
{
"cell_type" : "markdown",
"metadata" : {},
"source" : ["                 (- 12288\|2 %%CZ0 + 1536\|2 )%%CZ1"]
}
,
{
"cell_type" : "markdown",
"metadata" : {},
"source" : ["               +"]
}
,
{
"cell_type" : "markdown",
"metadata" : {},
"source" : ["                          +-+     2      +-+              +-+     2"]
}
,
{
"cell_type" : "markdown",
"metadata" : {},
"source" : ["                 (- 12288\|2 %%CZ0  + 48\|2 )%%CZ1 + 1536\|2 %%CZ0"]
}
,
{
"cell_type" : "markdown",
"metadata" : {},
"source" : ["               +"]
}
,
{
"cell_type" : "markdown",
"metadata" : {},
"source" : ["                    +-+           +-+"]
}
,
{
"cell_type" : "markdown",
"metadata" : {},
"source" : ["                 48\|2 %%CZ0 + 42\|2"]
}
,
{
"cell_type" : "markdown",
"metadata" : {},
"source" : ["            /"]
}
,
{
"cell_type" : "markdown",
"metadata" : {},
"source" : ["                +-+"]
}
,
{
"cell_type" : "markdown",
"metadata" : {},
"source" : ["               \|2"]
}
,
{
"cell_type" : "markdown",
"metadata" : {},
"source" : ["   +"]
}
,
{
"cell_type" : "markdown",
"metadata" : {},
"source" : ["     -"]
}
,
{
"cell_type" : "markdown",
"metadata" : {},
"source" : ["          ROOT"]
}
,
{
"cell_type" : "markdown",
"metadata" : {},
"source" : ["                    +-----------------------------------------+"]
}
,
{
"cell_type" : "markdown",
"metadata" : {},
"source" : ["                    |         2                          2          +-+"]
}
,
{
"cell_type" : "markdown",
"metadata" : {},
"source" : ["                 - \|- 96%%CZ1  - 64%%CZ0 %%CZ1 - 96%%CZ0  - 1  - 4\|2 %%CZ1"]
}
,
{
"cell_type" : "markdown",
"metadata" : {},
"source" : ["               +"]
}
,
{
"cell_type" : "markdown",
"metadata" : {},
"source" : ["                     +-+"]
}
,
{
"cell_type" : "markdown",
"metadata" : {},
"source" : ["                 - 4\|2 %%CZ0"]
}
,
{
"cell_type" : "markdown",
"metadata" : {},
"source" : ["            /"]
}
,
{
"cell_type" : "markdown",
"metadata" : {},
"source" : ["                 +-+"]
}
,
{
"cell_type" : "markdown",
"metadata" : {},
"source" : ["               2\|2"]
}
,
{
"cell_type" : "markdown",
"metadata" : {},
"source" : ["       *"]
}
,
{
"cell_type" : "markdown",
"metadata" : {},
"source" : ["          log"]
}
,
{
"cell_type" : "markdown",
"metadata" : {},
"source" : ["                                  +-+            +-+             +-+"]
}
,
{
"cell_type" : "markdown",
"metadata" : {},
"source" : ["                           (24576\|2 %%CZ0 - 768\|2 )%%CZ1 - 768\|2 %%CZ0"]
}
,
{
"cell_type" : "markdown",
"metadata" : {},
"source" : ["                         +"]
}
,
{
"cell_type" : "markdown",
"metadata" : {},
"source" : ["                                +-+"]
}
,
{
"cell_type" : "markdown",
"metadata" : {},
"source" : ["                           - 48\|2"]
}
,
{
"cell_type" : "markdown",
"metadata" : {},
"source" : ["                    *"]
}
,
{
"cell_type" : "markdown",
"metadata" : {},
"source" : ["                        +-----------------------------------------+"]
}
,
{
"cell_type" : "markdown",
"metadata" : {},
"source" : ["                        |         2                          2"]
}
,
{
"cell_type" : "markdown",
"metadata" : {},
"source" : ["                       \|- 96%%CZ1  - 64%%CZ0 %%CZ1 - 96%%CZ0  - 1"]
}
,
{
"cell_type" : "markdown",
"metadata" : {},
"source" : ["                   +"]
}
,
{
"cell_type" : "markdown",
"metadata" : {},
"source" : ["                                                2"]
}
,
{
"cell_type" : "markdown",
"metadata" : {},
"source" : ["                     (- 196608%%CZ0 + 6144)%%CZ1"]
}
,
{
"cell_type" : "markdown",
"metadata" : {},
"source" : ["                   +"]
}
,
{
"cell_type" : "markdown",
"metadata" : {},
"source" : ["                                   2                        2"]
}
,
{
"cell_type" : "markdown",
"metadata" : {},
"source" : ["                     (- 196608%%CZ0  - 384)%%CZ1 + 6144%%CZ0  - 384%%CZ0 - 48"]
}
,
{
"cell_type" : "markdown",
"metadata" : {},
"source" : ["                *"]
}
,
{
"cell_type" : "markdown",
"metadata" : {},
"source" : ["                   ROOT"]
}
,
{
"cell_type" : "markdown",
"metadata" : {},
"source" : ["                             +-----------------------------------------+"]
}
,
{
"cell_type" : "markdown",
"metadata" : {},
"source" : ["                             |         2                          2"]
}
,
{
"cell_type" : "markdown",
"metadata" : {},
"source" : ["                          - \|- 96%%CZ1  - 64%%CZ0 %%CZ1 - 96%%CZ0  - 1"]
}
,
{
"cell_type" : "markdown",
"metadata" : {},
"source" : ["                        +"]
}
,
{
"cell_type" : "markdown",
"metadata" : {},
"source" : ["                              +-+          +-+"]
}
,
{
"cell_type" : "markdown",
"metadata" : {},
"source" : ["                          - 4\|2 %%CZ1 - 4\|2 %%CZ0"]
}
,
{
"cell_type" : "markdown",
"metadata" : {},
"source" : ["                     /"]
}
,
{
"cell_type" : "markdown",
"metadata" : {},
"source" : ["                          +-+"]
}
,
{
"cell_type" : "markdown",
"metadata" : {},
"source" : ["                        2\|2"]
}
,
{
"cell_type" : "markdown",
"metadata" : {},
"source" : ["               +"]
}
,
{
"cell_type" : "markdown",
"metadata" : {},
"source" : ["                   ((3072%%CZ0 - 384)%%CZ1 - 384%%CZ0 + 12)"]
}
,
{
"cell_type" : "markdown",
"metadata" : {},
"source" : ["                *"]
}
,
{
"cell_type" : "markdown",
"metadata" : {},
"source" : ["                    +-----------------------------------------+"]
}
,
{
"cell_type" : "markdown",
"metadata" : {},
"source" : ["                    |         2                          2"]
}
,
{
"cell_type" : "markdown",
"metadata" : {},
"source" : ["                   \|- 96%%CZ1  - 64%%CZ0 %%CZ1 - 96%%CZ0  - 1"]
}
,
{
"cell_type" : "markdown",
"metadata" : {},
"source" : ["               +"]
}
,
{
"cell_type" : "markdown",
"metadata" : {},
"source" : ["                          +-+             +-+      2"]
}
,
{
"cell_type" : "markdown",
"metadata" : {},
"source" : ["                 (- 12288\|2 %%CZ0 + 1536\|2 )%%CZ1"]
}
,
{
"cell_type" : "markdown",
"metadata" : {},
"source" : ["               +"]
}
,
{
"cell_type" : "markdown",
"metadata" : {},
"source" : ["                          +-+     2      +-+              +-+     2"]
}
,
{
"cell_type" : "markdown",
"metadata" : {},
"source" : ["                 (- 12288\|2 %%CZ0  + 48\|2 )%%CZ1 + 1536\|2 %%CZ0"]
}
,
{
"cell_type" : "markdown",
"metadata" : {},
"source" : ["               +"]
}
,
{
"cell_type" : "markdown",
"metadata" : {},
"source" : ["                    +-+           +-+"]
}
,
{
"cell_type" : "markdown",
"metadata" : {},
"source" : ["                 48\|2 %%CZ0 + 60\|2"]
}
,
{
"cell_type" : "markdown",
"metadata" : {},
"source" : ["            /"]
}
,
{
"cell_type" : "markdown",
"metadata" : {},
"source" : ["                +-+"]
}
,
{
"cell_type" : "markdown",
"metadata" : {},
"source" : ["               \|2"]
}
,
{
"cell_type" : "markdown",
"metadata" : {},
"source" : ["   +"]
}
,
{
"cell_type" : "markdown",
"metadata" : {},
"source" : ["       ROOT"]
}
,
{
"cell_type" : "markdown",
"metadata" : {},
"source" : ["                 +-----------------------------------------+"]
}
,
{
"cell_type" : "markdown",
"metadata" : {},
"source" : ["                 |         2                          2          +-+"]
}
,
{
"cell_type" : "markdown",
"metadata" : {},
"source" : ["              - \|- 96%%CZ1  - 64%%CZ0 %%CZ1 - 96%%CZ0  - 1  - 4\|2 %%CZ1"]
}
,
{
"cell_type" : "markdown",
"metadata" : {},
"source" : ["            +"]
}
,
{
"cell_type" : "markdown",
"metadata" : {},
"source" : ["                  +-+"]
}
,
{
"cell_type" : "markdown",
"metadata" : {},
"source" : ["              - 4\|2 %%CZ0"]
}
,
{
"cell_type" : "markdown",
"metadata" : {},
"source" : ["         /"]
}
,
{
"cell_type" : "markdown",
"metadata" : {},
"source" : ["              +-+"]
}
,
{
"cell_type" : "markdown",
"metadata" : {},
"source" : ["            2\|2"]
}
,
{
"cell_type" : "markdown",
"metadata" : {},
"source" : ["    *"]
}
,
{
"cell_type" : "markdown",
"metadata" : {},
"source" : ["       log"]
}
,
{
"cell_type" : "markdown",
"metadata" : {},
"source" : ["                    ((24576%%CZ0 - 768)%%CZ1 - 768%%CZ0 - 48)"]
}
,
{
"cell_type" : "markdown",
"metadata" : {},
"source" : ["                 *"]
}
,
{
"cell_type" : "markdown",
"metadata" : {},
"source" : ["                     +-----------------------------------------+"]
}
,
{
"cell_type" : "markdown",
"metadata" : {},
"source" : ["                     |         2                          2"]
}
,
{
"cell_type" : "markdown",
"metadata" : {},
"source" : ["                    \|- 96%%CZ1  - 64%%CZ0 %%CZ1 - 96%%CZ0  - 1"]
}
,
{
"cell_type" : "markdown",
"metadata" : {},
"source" : ["                +"]
}
,
{
"cell_type" : "markdown",
"metadata" : {},
"source" : ["                           +-+             +-+      2"]
}
,
{
"cell_type" : "markdown",
"metadata" : {},
"source" : ["                  (- 98304\|2 %%CZ0 + 3072\|2 )%%CZ1"]
}
,
{
"cell_type" : "markdown",
"metadata" : {},
"source" : ["                +"]
}
,
{
"cell_type" : "markdown",
"metadata" : {},
"source" : ["                           +-+     2       +-+              +-+     2"]
}
,
{
"cell_type" : "markdown",
"metadata" : {},
"source" : ["                  (- 98304\|2 %%CZ0  - 192\|2 )%%CZ1 + 3072\|2 %%CZ0"]
}
,
{
"cell_type" : "markdown",
"metadata" : {},
"source" : ["                +"]
}
,
{
"cell_type" : "markdown",
"metadata" : {},
"source" : ["                        +-+           +-+"]
}
,
{
"cell_type" : "markdown",
"metadata" : {},
"source" : ["                  - 192\|2 %%CZ0 - 24\|2"]
}
,
{
"cell_type" : "markdown",
"metadata" : {},
"source" : ["             *"]
}
,
{
"cell_type" : "markdown",
"metadata" : {},
"source" : ["                ROOT"]
}
,
{
"cell_type" : "markdown",
"metadata" : {},
"source" : ["                          +-----------------------------------------+"]
}
,
{
"cell_type" : "markdown",
"metadata" : {},
"source" : ["                          |         2                          2"]
}
,
{
"cell_type" : "markdown",
"metadata" : {},
"source" : ["                       - \|- 96%%CZ1  - 64%%CZ0 %%CZ1 - 96%%CZ0  - 1"]
}
,
{
"cell_type" : "markdown",
"metadata" : {},
"source" : ["                     +"]
}
,
{
"cell_type" : "markdown",
"metadata" : {},
"source" : ["                           +-+          +-+"]
}
,
{
"cell_type" : "markdown",
"metadata" : {},
"source" : ["                       - 4\|2 %%CZ1 - 4\|2 %%CZ0"]
}
,
{
"cell_type" : "markdown",
"metadata" : {},
"source" : ["                  /"]
}
,
{
"cell_type" : "markdown",
"metadata" : {},
"source" : ["                       +-+"]
}
,
{
"cell_type" : "markdown",
"metadata" : {},
"source" : ["                     2\|2"]
}
,
{
"cell_type" : "markdown",
"metadata" : {},
"source" : ["            +"]
}
,
{
"cell_type" : "markdown",
"metadata" : {},
"source" : ["                ((3072%%CZ0 - 384)%%CZ1 - 384%%CZ0 + 12)"]
}
,
{
"cell_type" : "markdown",
"metadata" : {},
"source" : ["             *"]
}
,
{
"cell_type" : "markdown",
"metadata" : {},
"source" : ["                 +-----------------------------------------+"]
}
,
{
"cell_type" : "markdown",
"metadata" : {},
"source" : ["                 |         2                          2"]
}
,
{
"cell_type" : "markdown",
"metadata" : {},
"source" : ["                \|- 96%%CZ1  - 64%%CZ0 %%CZ1 - 96%%CZ0  - 1"]
}
,
{
"cell_type" : "markdown",
"metadata" : {},
"source" : ["            +"]
}
,
{
"cell_type" : "markdown",
"metadata" : {},
"source" : ["                       +-+             +-+      2"]
}
,
{
"cell_type" : "markdown",
"metadata" : {},
"source" : ["              (- 12288\|2 %%CZ0 + 1536\|2 )%%CZ1"]
}
,
{
"cell_type" : "markdown",
"metadata" : {},
"source" : ["            +"]
}
,
{
"cell_type" : "markdown",
"metadata" : {},
"source" : ["                      +-+     2      +-+              +-+     2      +-+"]
}
,
{
"cell_type" : "markdown",
"metadata" : {},
"source" : ["             (- 12288\|2 %%CZ0  + 48\|2 )%%CZ1 + 1536\|2 %%CZ0  + 48\|2 %%CZ0"]
}
,
{
"cell_type" : "markdown",
"metadata" : {},
"source" : ["            +"]
}
,
{
"cell_type" : "markdown",
"metadata" : {},
"source" : ["                 +-+"]
}
,
{
"cell_type" : "markdown",
"metadata" : {},
"source" : ["              42\|2"]
}
,
{
"cell_type" : "markdown",
"metadata" : {},
"source" : ["         /"]
}
,
{
"cell_type" : "markdown",
"metadata" : {},
"source" : ["             +-+"]
}
,
{
"cell_type" : "markdown",
"metadata" : {},
"source" : ["            \|2"]
}
,
{
"cell_type" : "markdown",
"metadata" : {},
"source" : ["   +"]
}
,
{
"cell_type" : "markdown",
"metadata" : {},
"source" : ["     -"]
}
,
{
"cell_type" : "markdown",
"metadata" : {},
"source" : ["          ROOT"]
}
,
{
"cell_type" : "markdown",
"metadata" : {},
"source" : ["                    +-----------------------------------------+"]
}
,
{
"cell_type" : "markdown",
"metadata" : {},
"source" : ["                    |         2                          2          +-+"]
}
,
{
"cell_type" : "markdown",
"metadata" : {},
"source" : ["                 - \|- 96%%CZ1  - 64%%CZ0 %%CZ1 - 96%%CZ0  - 1  - 4\|2 %%CZ1"]
}
,
{
"cell_type" : "markdown",
"metadata" : {},
"source" : ["               +"]
}
,
{
"cell_type" : "markdown",
"metadata" : {},
"source" : ["                     +-+"]
}
,
{
"cell_type" : "markdown",
"metadata" : {},
"source" : ["                 - 4\|2 %%CZ0"]
}
,
{
"cell_type" : "markdown",
"metadata" : {},
"source" : ["            /"]
}
,
{
"cell_type" : "markdown",
"metadata" : {},
"source" : ["                 +-+"]
}
,
{
"cell_type" : "markdown",
"metadata" : {},
"source" : ["               2\|2"]
}
,
{
"cell_type" : "markdown",
"metadata" : {},
"source" : ["       *"]
}
,
{
"cell_type" : "markdown",
"metadata" : {},
"source" : ["          log"]
}
,
{
"cell_type" : "markdown",
"metadata" : {},
"source" : ["                       ((- 24576%%CZ0 + 768)%%CZ1 + 768%%CZ0 + 48)"]
}
,
{
"cell_type" : "markdown",
"metadata" : {},
"source" : ["                    *"]
}
,
{
"cell_type" : "markdown",
"metadata" : {},
"source" : ["                        +-----------------------------------------+"]
}
,
{
"cell_type" : "markdown",
"metadata" : {},
"source" : ["                        |         2                          2"]
}
,
{
"cell_type" : "markdown",
"metadata" : {},
"source" : ["                       \|- 96%%CZ1  - 64%%CZ0 %%CZ1 - 96%%CZ0  - 1"]
}
,
{
"cell_type" : "markdown",
"metadata" : {},
"source" : ["                   +"]
}
,
{
"cell_type" : "markdown",
"metadata" : {},
"source" : ["                            +-+             +-+      2"]
}
,
{
"cell_type" : "markdown",
"metadata" : {},
"source" : ["                     (98304\|2 %%CZ0 - 3072\|2 )%%CZ1"]
}
,
{
"cell_type" : "markdown",
"metadata" : {},
"source" : ["                   +"]
}
,
{
"cell_type" : "markdown",
"metadata" : {},
"source" : ["                            +-+     2       +-+              +-+     2"]
}
,
{
"cell_type" : "markdown",
"metadata" : {},
"source" : ["                     (98304\|2 %%CZ0  + 192\|2 )%%CZ1 - 3072\|2 %%CZ0"]
}
,
{
"cell_type" : "markdown",
"metadata" : {},
"source" : ["                   +"]
}
,
{
"cell_type" : "markdown",
"metadata" : {},
"source" : ["                         +-+           +-+"]
}
,
{
"cell_type" : "markdown",
"metadata" : {},
"source" : ["                     192\|2 %%CZ0 + 24\|2"]
}
,
{
"cell_type" : "markdown",
"metadata" : {},
"source" : ["                *"]
}
,
{
"cell_type" : "markdown",
"metadata" : {},
"source" : ["                   ROOT"]
}
,
{
"cell_type" : "markdown",
"metadata" : {},
"source" : ["                             +-----------------------------------------+"]
}
,
{
"cell_type" : "markdown",
"metadata" : {},
"source" : ["                             |         2                          2"]
}
,
{
"cell_type" : "markdown",
"metadata" : {},
"source" : ["                          - \|- 96%%CZ1  - 64%%CZ0 %%CZ1 - 96%%CZ0  - 1"]
}
,
{
"cell_type" : "markdown",
"metadata" : {},
"source" : ["                        +"]
}
,
{
"cell_type" : "markdown",
"metadata" : {},
"source" : ["                              +-+          +-+"]
}
,
{
"cell_type" : "markdown",
"metadata" : {},
"source" : ["                          - 4\|2 %%CZ1 - 4\|2 %%CZ0"]
}
,
{
"cell_type" : "markdown",
"metadata" : {},
"source" : ["                     /"]
}
,
{
"cell_type" : "markdown",
"metadata" : {},
"source" : ["                          +-+"]
}
,
{
"cell_type" : "markdown",
"metadata" : {},
"source" : ["                        2\|2"]
}
,
{
"cell_type" : "markdown",
"metadata" : {},
"source" : ["               +"]
}
,
{
"cell_type" : "markdown",
"metadata" : {},
"source" : ["                   ((3072%%CZ0 - 384)%%CZ1 - 384%%CZ0 + 12)"]
}
,
{
"cell_type" : "markdown",
"metadata" : {},
"source" : ["                *"]
}
,
{
"cell_type" : "markdown",
"metadata" : {},
"source" : ["                    +-----------------------------------------+"]
}
,
{
"cell_type" : "markdown",
"metadata" : {},
"source" : ["                    |         2                          2"]
}
,
{
"cell_type" : "markdown",
"metadata" : {},
"source" : ["                   \|- 96%%CZ1  - 64%%CZ0 %%CZ1 - 96%%CZ0  - 1"]
}
,
{
"cell_type" : "markdown",
"metadata" : {},
"source" : ["               +"]
}
,
{
"cell_type" : "markdown",
"metadata" : {},
"source" : ["                          +-+             +-+      2"]
}
,
{
"cell_type" : "markdown",
"metadata" : {},
"source" : ["                 (- 12288\|2 %%CZ0 + 1536\|2 )%%CZ1"]
}
,
{
"cell_type" : "markdown",
"metadata" : {},
"source" : ["               +"]
}
,
{
"cell_type" : "markdown",
"metadata" : {},
"source" : ["                          +-+     2      +-+              +-+     2"]
}
,
{
"cell_type" : "markdown",
"metadata" : {},
"source" : ["                 (- 12288\|2 %%CZ0  + 48\|2 )%%CZ1 + 1536\|2 %%CZ0"]
}
,
{
"cell_type" : "markdown",
"metadata" : {},
"source" : ["               +"]
}
,
{
"cell_type" : "markdown",
"metadata" : {},
"source" : ["                    +-+           +-+"]
}
,
{
"cell_type" : "markdown",
"metadata" : {},
"source" : ["                 48\|2 %%CZ0 + 42\|2"]
}
,
{
"cell_type" : "markdown",
"metadata" : {},
"source" : ["            /"]
}
,
{
"cell_type" : "markdown",
"metadata" : {},
"source" : ["                +-+"]
}
,
{
"cell_type" : "markdown",
"metadata" : {},
"source" : ["               \|2"]
}
,
{
"cell_type" : "markdown",
"metadata" : {},
"source" : ["   +"]
}
,
{
"cell_type" : "markdown",
"metadata" : {},
"source" : ["       ROOT"]
}
,
{
"cell_type" : "markdown",
"metadata" : {},
"source" : ["                 +-----------------------------------------+"]
}
,
{
"cell_type" : "markdown",
"metadata" : {},
"source" : ["                 |         2                          2          +-+"]
}
,
{
"cell_type" : "markdown",
"metadata" : {},
"source" : ["              - \|- 96%%CZ1  - 64%%CZ0 %%CZ1 - 96%%CZ0  - 1  - 4\|2 %%CZ1"]
}
,
{
"cell_type" : "markdown",
"metadata" : {},
"source" : ["            +"]
}
,
{
"cell_type" : "markdown",
"metadata" : {},
"source" : ["                  +-+"]
}
,
{
"cell_type" : "markdown",
"metadata" : {},
"source" : ["              - 4\|2 %%CZ0"]
}
,
{
"cell_type" : "markdown",
"metadata" : {},
"source" : ["         /"]
}
,
{
"cell_type" : "markdown",
"metadata" : {},
"source" : ["              +-+"]
}
,
{
"cell_type" : "markdown",
"metadata" : {},
"source" : ["            2\|2"]
}
,
{
"cell_type" : "markdown",
"metadata" : {},
"source" : ["    *"]
}
,
{
"cell_type" : "markdown",
"metadata" : {},
"source" : ["       log"]
}
,
{
"cell_type" : "markdown",
"metadata" : {},
"source" : ["                                 +-+            +-+             +-+"]
}
,
{
"cell_type" : "markdown",
"metadata" : {},
"source" : ["                        (- 24576\|2 %%CZ0 + 768\|2 )%%CZ1 + 768\|2 %%CZ0"]
}
,
{
"cell_type" : "markdown",
"metadata" : {},
"source" : ["                      +"]
}
,
{
"cell_type" : "markdown",
"metadata" : {},
"source" : ["                           +-+"]
}
,
{
"cell_type" : "markdown",
"metadata" : {},
"source" : ["                        48\|2"]
}
,
{
"cell_type" : "markdown",
"metadata" : {},
"source" : ["                 *"]
}
,
{
"cell_type" : "markdown",
"metadata" : {},
"source" : ["                     +-----------------------------------------+"]
}
,
{
"cell_type" : "markdown",
"metadata" : {},
"source" : ["                     |         2                          2"]
}
,
{
"cell_type" : "markdown",
"metadata" : {},
"source" : ["                    \|- 96%%CZ1  - 64%%CZ0 %%CZ1 - 96%%CZ0  - 1"]
}
,
{
"cell_type" : "markdown",
"metadata" : {},
"source" : ["                +"]
}
,
{
"cell_type" : "markdown",
"metadata" : {},
"source" : ["                                           2               2"]
}
,
{
"cell_type" : "markdown",
"metadata" : {},
"source" : ["                  (196608%%CZ0 - 6144)%%CZ1  + (196608%%CZ0  + 384)%%CZ1"]
}
,
{
"cell_type" : "markdown",
"metadata" : {},
"source" : ["                +"]
}
,
{
"cell_type" : "markdown",
"metadata" : {},
"source" : ["                             2"]
}
,
{
"cell_type" : "markdown",
"metadata" : {},
"source" : ["                  - 6144%%CZ0  + 384%%CZ0 + 48"]
}
,
{
"cell_type" : "markdown",
"metadata" : {},
"source" : ["             *"]
}
,
{
"cell_type" : "markdown",
"metadata" : {},
"source" : ["                ROOT"]
}
,
{
"cell_type" : "markdown",
"metadata" : {},
"source" : ["                          +-----------------------------------------+"]
}
,
{
"cell_type" : "markdown",
"metadata" : {},
"source" : ["                          |         2                          2"]
}
,
{
"cell_type" : "markdown",
"metadata" : {},
"source" : ["                       - \|- 96%%CZ1  - 64%%CZ0 %%CZ1 - 96%%CZ0  - 1"]
}
,
{
"cell_type" : "markdown",
"metadata" : {},
"source" : ["                     +"]
}
,
{
"cell_type" : "markdown",
"metadata" : {},
"source" : ["                           +-+          +-+"]
}
,
{
"cell_type" : "markdown",
"metadata" : {},
"source" : ["                       - 4\|2 %%CZ1 - 4\|2 %%CZ0"]
}
,
{
"cell_type" : "markdown",
"metadata" : {},
"source" : ["                  /"]
}
,
{
"cell_type" : "markdown",
"metadata" : {},
"source" : ["                       +-+"]
}
,
{
"cell_type" : "markdown",
"metadata" : {},
"source" : ["                     2\|2"]
}
,
{
"cell_type" : "markdown",
"metadata" : {},
"source" : ["            +"]
}
,
{
"cell_type" : "markdown",
"metadata" : {},
"source" : ["                ((3072%%CZ0 - 384)%%CZ1 - 384%%CZ0 + 12)"]
}
,
{
"cell_type" : "markdown",
"metadata" : {},
"source" : ["             *"]
}
,
{
"cell_type" : "markdown",
"metadata" : {},
"source" : ["                 +-----------------------------------------+"]
}
,
{
"cell_type" : "markdown",
"metadata" : {},
"source" : ["                 |         2                          2"]
}
,
{
"cell_type" : "markdown",
"metadata" : {},
"source" : ["                \|- 96%%CZ1  - 64%%CZ0 %%CZ1 - 96%%CZ0  - 1"]
}
,
{
"cell_type" : "markdown",
"metadata" : {},
"source" : ["            +"]
}
,
{
"cell_type" : "markdown",
"metadata" : {},
"source" : ["                       +-+             +-+      2"]
}
,
{
"cell_type" : "markdown",
"metadata" : {},
"source" : ["              (- 12288\|2 %%CZ0 + 1536\|2 )%%CZ1"]
}
,
{
"cell_type" : "markdown",
"metadata" : {},
"source" : ["            +"]
}
,
{
"cell_type" : "markdown",
"metadata" : {},
"source" : ["                      +-+     2      +-+              +-+     2      +-+"]
}
,
{
"cell_type" : "markdown",
"metadata" : {},
"source" : ["             (- 12288\|2 %%CZ0  + 48\|2 )%%CZ1 + 1536\|2 %%CZ0  + 48\|2 %%CZ0"]
}
,
{
"cell_type" : "markdown",
"metadata" : {},
"source" : ["            +"]
}
,
{
"cell_type" : "markdown",
"metadata" : {},
"source" : ["                 +-+"]
}
,
{
"cell_type" : "markdown",
"metadata" : {},
"source" : ["              60\|2"]
}
,
{
"cell_type" : "markdown",
"metadata" : {},
"source" : ["         /"]
}
,
{
"cell_type" : "markdown",
"metadata" : {},
"source" : ["             +-+"]
}
,
{
"cell_type" : "markdown",
"metadata" : {},
"source" : ["            \|2"]
}
,
{
"cell_type" : "markdown",
"metadata" : {},
"source" : ["   +"]
}
,
{
"cell_type" : "markdown",
"metadata" : {},
"source" : ["       ROOT"]
}
,
{
"cell_type" : "markdown",
"metadata" : {},
"source" : ["               +-----------------------------------------+"]
}
,
{
"cell_type" : "markdown",
"metadata" : {},
"source" : ["               |         2                          2          +-+"]
}
,
{
"cell_type" : "markdown",
"metadata" : {},
"source" : ["              \|- 96%%CZ1  - 64%%CZ0 %%CZ1 - 96%%CZ0  - 1  - 4\|2 %%CZ1"]
}
,
{
"cell_type" : "markdown",
"metadata" : {},
"source" : ["            +"]
}
,
{
"cell_type" : "markdown",
"metadata" : {},
"source" : ["                  +-+"]
}
,
{
"cell_type" : "markdown",
"metadata" : {},
"source" : ["              - 4\|2 %%CZ0"]
}
,
{
"cell_type" : "markdown",
"metadata" : {},
"source" : ["         /"]
}
,
{
"cell_type" : "markdown",
"metadata" : {},
"source" : ["              +-+"]
}
,
{
"cell_type" : "markdown",
"metadata" : {},
"source" : ["            2\|2"]
}
,
{
"cell_type" : "markdown",
"metadata" : {},
"source" : ["    *"]
}
,
{
"cell_type" : "markdown",
"metadata" : {},
"source" : ["       log"]
}
,
{
"cell_type" : "markdown",
"metadata" : {},
"source" : ["                    ((- 24576%%CZ0 + 768)%%CZ1 + 768%%CZ0 + 48)"]
}
,
{
"cell_type" : "markdown",
"metadata" : {},
"source" : ["                 *"]
}
,
{
"cell_type" : "markdown",
"metadata" : {},
"source" : ["                     +-----------------------------------------+"]
}
,
{
"cell_type" : "markdown",
"metadata" : {},
"source" : ["                     |         2                          2"]
}
,
{
"cell_type" : "markdown",
"metadata" : {},
"source" : ["                    \|- 96%%CZ1  - 64%%CZ0 %%CZ1 - 96%%CZ0  - 1"]
}
,
{
"cell_type" : "markdown",
"metadata" : {},
"source" : ["                +"]
}
,
{
"cell_type" : "markdown",
"metadata" : {},
"source" : ["                           +-+             +-+      2"]
}
,
{
"cell_type" : "markdown",
"metadata" : {},
"source" : ["                  (- 98304\|2 %%CZ0 + 3072\|2 )%%CZ1"]
}
,
{
"cell_type" : "markdown",
"metadata" : {},
"source" : ["                +"]
}
,
{
"cell_type" : "markdown",
"metadata" : {},
"source" : ["                           +-+     2       +-+              +-+     2"]
}
,
{
"cell_type" : "markdown",
"metadata" : {},
"source" : ["                  (- 98304\|2 %%CZ0  - 192\|2 )%%CZ1 + 3072\|2 %%CZ0"]
}
,
{
"cell_type" : "markdown",
"metadata" : {},
"source" : ["                +"]
}
,
{
"cell_type" : "markdown",
"metadata" : {},
"source" : ["                        +-+           +-+"]
}
,
{
"cell_type" : "markdown",
"metadata" : {},
"source" : ["                  - 192\|2 %%CZ0 - 24\|2"]
}
,
{
"cell_type" : "markdown",
"metadata" : {},
"source" : ["             *"]
}
,
{
"cell_type" : "markdown",
"metadata" : {},
"source" : ["                ROOT"]
}
,
{
"cell_type" : "markdown",
"metadata" : {},
"source" : ["                        +-----------------------------------------+"]
}
,
{
"cell_type" : "markdown",
"metadata" : {},
"source" : ["                        |         2                          2"]
}
,
{
"cell_type" : "markdown",
"metadata" : {},
"source" : ["                       \|- 96%%CZ1  - 64%%CZ0 %%CZ1 - 96%%CZ0  - 1"]
}
,
{
"cell_type" : "markdown",
"metadata" : {},
"source" : ["                     +"]
}
,
{
"cell_type" : "markdown",
"metadata" : {},
"source" : ["                           +-+          +-+"]
}
,
{
"cell_type" : "markdown",
"metadata" : {},
"source" : ["                       - 4\|2 %%CZ1 - 4\|2 %%CZ0"]
}
,
{
"cell_type" : "markdown",
"metadata" : {},
"source" : ["                  /"]
}
,
{
"cell_type" : "markdown",
"metadata" : {},
"source" : ["                       +-+"]
}
,
{
"cell_type" : "markdown",
"metadata" : {},
"source" : ["                     2\|2"]
}
,
{
"cell_type" : "markdown",
"metadata" : {},
"source" : ["            +"]
}
,
{
"cell_type" : "markdown",
"metadata" : {},
"source" : ["                ((- 3072%%CZ0 + 384)%%CZ1 + 384%%CZ0 - 12)"]
}
,
{
"cell_type" : "markdown",
"metadata" : {},
"source" : ["             *"]
}
,
{
"cell_type" : "markdown",
"metadata" : {},
"source" : ["                 +-----------------------------------------+"]
}
,
{
"cell_type" : "markdown",
"metadata" : {},
"source" : ["                 |         2                          2"]
}
,
{
"cell_type" : "markdown",
"metadata" : {},
"source" : ["                \|- 96%%CZ1  - 64%%CZ0 %%CZ1 - 96%%CZ0  - 1"]
}
,
{
"cell_type" : "markdown",
"metadata" : {},
"source" : ["            +"]
}
,
{
"cell_type" : "markdown",
"metadata" : {},
"source" : ["                       +-+             +-+      2"]
}
,
{
"cell_type" : "markdown",
"metadata" : {},
"source" : ["              (- 12288\|2 %%CZ0 + 1536\|2 )%%CZ1"]
}
,
{
"cell_type" : "markdown",
"metadata" : {},
"source" : ["            +"]
}
,
{
"cell_type" : "markdown",
"metadata" : {},
"source" : ["                      +-+     2      +-+              +-+     2      +-+"]
}
,
{
"cell_type" : "markdown",
"metadata" : {},
"source" : ["             (- 12288\|2 %%CZ0  + 48\|2 )%%CZ1 + 1536\|2 %%CZ0  + 48\|2 %%CZ0"]
}
,
{
"cell_type" : "markdown",
"metadata" : {},
"source" : ["            +"]
}
,
{
"cell_type" : "markdown",
"metadata" : {},
"source" : ["                 +-+"]
}
,
{
"cell_type" : "markdown",
"metadata" : {},
"source" : ["              42\|2"]
}
,
{
"cell_type" : "markdown",
"metadata" : {},
"source" : ["         /"]
}
,
{
"cell_type" : "markdown",
"metadata" : {},
"source" : ["             +-+"]
}
,
{
"cell_type" : "markdown",
"metadata" : {},
"source" : ["            \|2"]
}
,
{
"cell_type" : "markdown",
"metadata" : {},
"source" : ["   +"]
}
,
{
"cell_type" : "markdown",
"metadata" : {},
"source" : ["     -"]
}
,
{
"cell_type" : "markdown",
"metadata" : {},
"source" : ["          ROOT"]
}
,
{
"cell_type" : "markdown",
"metadata" : {},
"source" : ["                  +-----------------------------------------+"]
}
,
{
"cell_type" : "markdown",
"metadata" : {},
"source" : ["                  |         2                          2          +-+"]
}
,
{
"cell_type" : "markdown",
"metadata" : {},
"source" : ["                 \|- 96%%CZ1  - 64%%CZ0 %%CZ1 - 96%%CZ0  - 1  - 4\|2 %%CZ1"]
}
,
{
"cell_type" : "markdown",
"metadata" : {},
"source" : ["               +"]
}
,
{
"cell_type" : "markdown",
"metadata" : {},
"source" : ["                     +-+"]
}
,
{
"cell_type" : "markdown",
"metadata" : {},
"source" : ["                 - 4\|2 %%CZ0"]
}
,
{
"cell_type" : "markdown",
"metadata" : {},
"source" : ["            /"]
}
,
{
"cell_type" : "markdown",
"metadata" : {},
"source" : ["                 +-+"]
}
,
{
"cell_type" : "markdown",
"metadata" : {},
"source" : ["               2\|2"]
}
,
{
"cell_type" : "markdown",
"metadata" : {},
"source" : ["       *"]
}
,
{
"cell_type" : "markdown",
"metadata" : {},
"source" : ["          log"]
}
,
{
"cell_type" : "markdown",
"metadata" : {},
"source" : ["                                  +-+            +-+             +-+"]
}
,
{
"cell_type" : "markdown",
"metadata" : {},
"source" : ["                         (- 24576\|2 %%CZ0 + 768\|2 )%%CZ1 + 768\|2 %%CZ0"]
}
,
{
"cell_type" : "markdown",
"metadata" : {},
"source" : ["                       +"]
}
,
{
"cell_type" : "markdown",
"metadata" : {},
"source" : ["                            +-+"]
}
,
{
"cell_type" : "markdown",
"metadata" : {},
"source" : ["                         48\|2"]
}
,
{
"cell_type" : "markdown",
"metadata" : {},
"source" : ["                    *"]
}
,
{
"cell_type" : "markdown",
"metadata" : {},
"source" : ["                        +-----------------------------------------+"]
}
,
{
"cell_type" : "markdown",
"metadata" : {},
"source" : ["                        |         2                          2"]
}
,
{
"cell_type" : "markdown",
"metadata" : {},
"source" : ["                       \|- 96%%CZ1  - 64%%CZ0 %%CZ1 - 96%%CZ0  - 1"]
}
,
{
"cell_type" : "markdown",
"metadata" : {},
"source" : ["                   +"]
}
,
{
"cell_type" : "markdown",
"metadata" : {},
"source" : ["                                                2"]
}
,
{
"cell_type" : "markdown",
"metadata" : {},
"source" : ["                     (- 196608%%CZ0 + 6144)%%CZ1"]
}
,
{
"cell_type" : "markdown",
"metadata" : {},
"source" : ["                   +"]
}
,
{
"cell_type" : "markdown",
"metadata" : {},
"source" : ["                                   2                        2"]
}
,
{
"cell_type" : "markdown",
"metadata" : {},
"source" : ["                     (- 196608%%CZ0  - 384)%%CZ1 + 6144%%CZ0  - 384%%CZ0 - 48"]
}
,
{
"cell_type" : "markdown",
"metadata" : {},
"source" : ["                *"]
}
,
{
"cell_type" : "markdown",
"metadata" : {},
"source" : ["                   ROOT"]
}
,
{
"cell_type" : "markdown",
"metadata" : {},
"source" : ["                           +-----------------------------------------+"]
}
,
{
"cell_type" : "markdown",
"metadata" : {},
"source" : ["                           |         2                          2"]
}
,
{
"cell_type" : "markdown",
"metadata" : {},
"source" : ["                          \|- 96%%CZ1  - 64%%CZ0 %%CZ1 - 96%%CZ0  - 1"]
}
,
{
"cell_type" : "markdown",
"metadata" : {},
"source" : ["                        +"]
}
,
{
"cell_type" : "markdown",
"metadata" : {},
"source" : ["                              +-+          +-+"]
}
,
{
"cell_type" : "markdown",
"metadata" : {},
"source" : ["                          - 4\|2 %%CZ1 - 4\|2 %%CZ0"]
}
,
{
"cell_type" : "markdown",
"metadata" : {},
"source" : ["                     /"]
}
,
{
"cell_type" : "markdown",
"metadata" : {},
"source" : ["                          +-+"]
}
,
{
"cell_type" : "markdown",
"metadata" : {},
"source" : ["                        2\|2"]
}
,
{
"cell_type" : "markdown",
"metadata" : {},
"source" : ["               +"]
}
,
{
"cell_type" : "markdown",
"metadata" : {},
"source" : ["                   ((- 3072%%CZ0 + 384)%%CZ1 + 384%%CZ0 - 12)"]
}
,
{
"cell_type" : "markdown",
"metadata" : {},
"source" : ["                *"]
}
,
{
"cell_type" : "markdown",
"metadata" : {},
"source" : ["                    +-----------------------------------------+"]
}
,
{
"cell_type" : "markdown",
"metadata" : {},
"source" : ["                    |         2                          2"]
}
,
{
"cell_type" : "markdown",
"metadata" : {},
"source" : ["                   \|- 96%%CZ1  - 64%%CZ0 %%CZ1 - 96%%CZ0  - 1"]
}
,
{
"cell_type" : "markdown",
"metadata" : {},
"source" : ["               +"]
}
,
{
"cell_type" : "markdown",
"metadata" : {},
"source" : ["                          +-+             +-+      2"]
}
,
{
"cell_type" : "markdown",
"metadata" : {},
"source" : ["                 (- 12288\|2 %%CZ0 + 1536\|2 )%%CZ1"]
}
,
{
"cell_type" : "markdown",
"metadata" : {},
"source" : ["               +"]
}
,
{
"cell_type" : "markdown",
"metadata" : {},
"source" : ["                          +-+     2      +-+              +-+     2"]
}
,
{
"cell_type" : "markdown",
"metadata" : {},
"source" : ["                 (- 12288\|2 %%CZ0  + 48\|2 )%%CZ1 + 1536\|2 %%CZ0"]
}
,
{
"cell_type" : "markdown",
"metadata" : {},
"source" : ["               +"]
}
,
{
"cell_type" : "markdown",
"metadata" : {},
"source" : ["                    +-+           +-+"]
}
,
{
"cell_type" : "markdown",
"metadata" : {},
"source" : ["                 48\|2 %%CZ0 + 60\|2"]
}
,
{
"cell_type" : "markdown",
"metadata" : {},
"source" : ["            /"]
}
,
{
"cell_type" : "markdown",
"metadata" : {},
"source" : ["                +-+"]
}
,
{
"cell_type" : "markdown",
"metadata" : {},
"source" : ["               \|2"]
}
,
{
"cell_type" : "markdown",
"metadata" : {},
"source" : ["   +"]
}
,
{
"cell_type" : "markdown",
"metadata" : {},
"source" : ["     -"]
}
,
{
"cell_type" : "markdown",
"metadata" : {},
"source" : ["           +------+"]
}
,
{
"cell_type" : "markdown",
"metadata" : {},
"source" : ["          \|4%%CZ1"]
}
,
{
"cell_type" : "markdown",
"metadata" : {},
"source" : ["       *"]
}
,
{
"cell_type" : "markdown",
"metadata" : {},
"source" : ["          log"]
}
,
{
"cell_type" : "markdown",
"metadata" : {},
"source" : ["                          +-+             +-+      2"]
}
,
{
"cell_type" : "markdown",
"metadata" : {},
"source" : ["                   (98304\|2 %%CZ0 - 3072\|2 )%%CZ1"]
}
,
{
"cell_type" : "markdown",
"metadata" : {},
"source" : ["                 +"]
}
,
{
"cell_type" : "markdown",
"metadata" : {},
"source" : ["                          +-+     2       +-+               +-+     3"]
}
,
{
"cell_type" : "markdown",
"metadata" : {},
"source" : ["                   (98304\|2 %%CZ0  + 192\|2 )%%CZ1 + 98304\|2 %%CZ0"]
}
,
{
"cell_type" : "markdown",
"metadata" : {},
"source" : ["                 +"]
}
,
{
"cell_type" : "markdown",
"metadata" : {},
"source" : ["                       +-+           +-+"]
}
,
{
"cell_type" : "markdown",
"metadata" : {},
"source" : ["                   768\|2 %%CZ0 - 36\|2"]
}
,
{
"cell_type" : "markdown",
"metadata" : {},
"source" : ["              *"]
}
,
{
"cell_type" : "markdown",
"metadata" : {},
"source" : ["                  +------+"]
}
,
{
"cell_type" : "markdown",
"metadata" : {},
"source" : ["                 \|4%%CZ1"]
}
,
{
"cell_type" : "markdown",
"metadata" : {},
"source" : ["             +"]
}
,
{
"cell_type" : "markdown",
"metadata" : {},
"source" : ["                                       2              2"]
}
,
{
"cell_type" : "markdown",
"metadata" : {},
"source" : ["               (12288%%CZ0 - 1536)%%CZ1  + (12288%%CZ0  - 48)%%CZ1"]
}
,
{
"cell_type" : "markdown",
"metadata" : {},
"source" : ["             +"]
}
,
{
"cell_type" : "markdown",
"metadata" : {},
"source" : ["                         3"]
}
,
{
"cell_type" : "markdown",
"metadata" : {},
"source" : ["               12288%%CZ0  + 96%%CZ0 + 18"]
}
,
{
"cell_type" : "markdown",
"metadata" : {},
"source" : ["   +"]
}
,
{
"cell_type" : "markdown",
"metadata" : {},
"source" : ["        +------+"]
}
,
{
"cell_type" : "markdown",
"metadata" : {},
"source" : ["       \|4%%CZ1"]
}
,
{
"cell_type" : "markdown",
"metadata" : {},
"source" : ["    *"]
}
,
{
"cell_type" : "markdown",
"metadata" : {},
"source" : ["       log"]
}
,
{
"cell_type" : "markdown",
"metadata" : {},
"source" : ["                                        2              2"]
}
,
{
"cell_type" : "markdown",
"metadata" : {},
"source" : ["                (98304%%CZ0 - 3072)%%CZ1  + (98304%%CZ0  + 192)%%CZ1"]
}
,
{
"cell_type" : "markdown",
"metadata" : {},
"source" : ["              +"]
}
,
{
"cell_type" : "markdown",
"metadata" : {},
"source" : ["                          3"]
}
,
{
"cell_type" : "markdown",
"metadata" : {},
"source" : ["                98304%%CZ0  + 768%%CZ0 - 36"]
}
,
{
"cell_type" : "markdown",
"metadata" : {},
"source" : ["           *"]
}
,
{
"cell_type" : "markdown",
"metadata" : {},
"source" : ["               +------+"]
}
,
{
"cell_type" : "markdown",
"metadata" : {},
"source" : ["              \|4%%CZ1"]
}
,
{
"cell_type" : "markdown",
"metadata" : {},
"source" : ["          +"]
}
,
{
"cell_type" : "markdown",
"metadata" : {},
"source" : ["                                    2              2                        3"]
}
,
{
"cell_type" : "markdown",
"metadata" : {},
"source" : ["            (12288%%CZ0 - 1536)%%CZ1  + (12288%%CZ0  - 48)%%CZ1 + 12288%%CZ0"]
}
,
{
"cell_type" : "markdown",
"metadata" : {},
"source" : ["          +"]
}
,
{
"cell_type" : "markdown",
"metadata" : {},
"source" : ["            96%%CZ0 + 9"]
}
,
{
"cell_type" : "markdown",
"metadata" : {},
"source" : ["   +"]
}
,
{
"cell_type" : "markdown",
"metadata" : {},
"source" : ["     -"]
}
,
{
"cell_type" : "markdown",
"metadata" : {},
"source" : ["           +------+"]
}
,
{
"cell_type" : "markdown",
"metadata" : {},
"source" : ["          \|4%%CZ1"]
}
,
{
"cell_type" : "markdown",
"metadata" : {},
"source" : ["       *"]
}
,
{
"cell_type" : "markdown",
"metadata" : {},
"source" : ["          log"]
}
,
{
"cell_type" : "markdown",
"metadata" : {},
"source" : ["                                             2                2"]
}
,
{
"cell_type" : "markdown",
"metadata" : {},
"source" : ["                   (- 98304%%CZ0 + 3072)%%CZ1  + (- 98304%%CZ0  - 192)%%CZ1"]
}
,
{
"cell_type" : "markdown",
"metadata" : {},
"source" : ["                 +"]
}
,
{
"cell_type" : "markdown",
"metadata" : {},
"source" : ["                               3"]
}
,
{
"cell_type" : "markdown",
"metadata" : {},
"source" : ["                   - 98304%%CZ0  - 768%%CZ0 + 36"]
}
,
{
"cell_type" : "markdown",
"metadata" : {},
"source" : ["              *"]
}
,
{
"cell_type" : "markdown",
"metadata" : {},
"source" : ["                  +------+"]
}
,
{
"cell_type" : "markdown",
"metadata" : {},
"source" : ["                 \|4%%CZ1"]
}
,
{
"cell_type" : "markdown",
"metadata" : {},
"source" : ["             +"]
}
,
{
"cell_type" : "markdown",
"metadata" : {},
"source" : ["                                       2              2"]
}
,
{
"cell_type" : "markdown",
"metadata" : {},
"source" : ["               (12288%%CZ0 - 1536)%%CZ1  + (12288%%CZ0  - 48)%%CZ1"]
}
,
{
"cell_type" : "markdown",
"metadata" : {},
"source" : ["             +"]
}
,
{
"cell_type" : "markdown",
"metadata" : {},
"source" : ["                         3"]
}
,
{
"cell_type" : "markdown",
"metadata" : {},
"source" : ["               12288%%CZ0  + 96%%CZ0 + 9"]
}
,
{
"cell_type" : "markdown",
"metadata" : {},
"source" : ["   +"]
}
,
{
"cell_type" : "markdown",
"metadata" : {},
"source" : ["        +------+"]
}
,
{
"cell_type" : "markdown",
"metadata" : {},
"source" : ["       \|4%%CZ1"]
}
,
{
"cell_type" : "markdown",
"metadata" : {},
"source" : ["    *"]
}
,
{
"cell_type" : "markdown",
"metadata" : {},
"source" : ["       log"]
}
,
{
"cell_type" : "markdown",
"metadata" : {},
"source" : ["                         +-+             +-+      2"]
}
,
{
"cell_type" : "markdown",
"metadata" : {},
"source" : ["                (- 98304\|2 %%CZ0 + 3072\|2 )%%CZ1"]
}
,
{
"cell_type" : "markdown",
"metadata" : {},
"source" : ["              +"]
}
,
{
"cell_type" : "markdown",
"metadata" : {},
"source" : ["                         +-+     2       +-+               +-+     3"]
}
,
{
"cell_type" : "markdown",
"metadata" : {},
"source" : ["                (- 98304\|2 %%CZ0  - 192\|2 )%%CZ1 - 98304\|2 %%CZ0"]
}
,
{
"cell_type" : "markdown",
"metadata" : {},
"source" : ["              +"]
}
,
{
"cell_type" : "markdown",
"metadata" : {},
"source" : ["                      +-+           +-+"]
}
,
{
"cell_type" : "markdown",
"metadata" : {},
"source" : ["                - 768\|2 %%CZ0 + 36\|2"]
}
,
{
"cell_type" : "markdown",
"metadata" : {},
"source" : ["           *"]
}
,
{
"cell_type" : "markdown",
"metadata" : {},
"source" : ["               +------+"]
}
,
{
"cell_type" : "markdown",
"metadata" : {},
"source" : ["              \|4%%CZ1"]
}
,
{
"cell_type" : "markdown",
"metadata" : {},
"source" : ["          +"]
}
,
{
"cell_type" : "markdown",
"metadata" : {},
"source" : ["                                    2              2                        3"]
}
,
{
"cell_type" : "markdown",
"metadata" : {},
"source" : ["            (12288%%CZ0 - 1536)%%CZ1  + (12288%%CZ0  - 48)%%CZ1 + 12288%%CZ0"]
}
,
{
"cell_type" : "markdown",
"metadata" : {},
"source" : ["          +"]
}
,
{
"cell_type" : "markdown",
"metadata" : {},
"source" : ["            96%%CZ0 + 18"]
}
,
{
"cell_type" : "markdown",
"metadata" : {},
"source" : ["   +"]
}
,
{
"cell_type" : "markdown",
"metadata" : {},
"source" : ["        +------+"]
}
,
{
"cell_type" : "markdown",
"metadata" : {},
"source" : ["       \|4%%CZ0"]
}
,
{
"cell_type" : "markdown",
"metadata" : {},
"source" : ["    *"]
}
,
{
"cell_type" : "markdown",
"metadata" : {},
"source" : ["       log"]
}
,
{
"cell_type" : "markdown",
"metadata" : {},
"source" : ["                     +-+     3        +-+     2       +-+           +-+"]
}
,
{
"cell_type" : "markdown",
"metadata" : {},
"source" : ["              (98304\|2 %%CZ0  + 3072\|2 %%CZ0  + 576\|2 %%CZ0 - 60\|2 )"]
}
,
{
"cell_type" : "markdown",
"metadata" : {},
"source" : ["           *"]
}
,
{
"cell_type" : "markdown",
"metadata" : {},
"source" : ["               +------+"]
}
,
{
"cell_type" : "markdown",
"metadata" : {},
"source" : ["              \|4%%CZ0"]
}
,
{
"cell_type" : "markdown",
"metadata" : {},
"source" : ["          +"]
}
,
{
"cell_type" : "markdown",
"metadata" : {},
"source" : ["                        3            2"]
}
,
{
"cell_type" : "markdown",
"metadata" : {},
"source" : ["            - 12288%%CZ0  - 1536%%CZ0  - 144%%CZ0 + 30"]
}
,
{
"cell_type" : "markdown",
"metadata" : {},
"source" : ["   +"]
}
,
{
"cell_type" : "markdown",
"metadata" : {},
"source" : ["     -"]
}
,
{
"cell_type" : "markdown",
"metadata" : {},
"source" : ["           +------+"]
}
,
{
"cell_type" : "markdown",
"metadata" : {},
"source" : ["          \|4%%CZ0"]
}
,
{
"cell_type" : "markdown",
"metadata" : {},
"source" : ["       *"]
}
,
{
"cell_type" : "markdown",
"metadata" : {},
"source" : ["          log"]
}
,
{
"cell_type" : "markdown",
"metadata" : {},
"source" : ["                          3            2                  +------+"]
}
,
{
"cell_type" : "markdown",
"metadata" : {},
"source" : ["               (98304%%CZ0  + 3072%%CZ0  + 576%%CZ0 - 60)\|4%%CZ0"]
}
,
{
"cell_type" : "markdown",
"metadata" : {},
"source" : ["             +"]
}
,
{
"cell_type" : "markdown",
"metadata" : {},
"source" : ["                           3            2"]
}
,
{
"cell_type" : "markdown",
"metadata" : {},
"source" : ["               - 12288%%CZ0  - 1536%%CZ0  - 144%%CZ0 + 21"]
}
,
{
"cell_type" : "markdown",
"metadata" : {},
"source" : ["   +"]
}
,
{
"cell_type" : "markdown",
"metadata" : {},
"source" : ["        +------+"]
}
,
{
"cell_type" : "markdown",
"metadata" : {},
"source" : ["       \|4%%CZ0"]
}
,
{
"cell_type" : "markdown",
"metadata" : {},
"source" : ["    *"]
}
,
{
"cell_type" : "markdown",
"metadata" : {},
"source" : ["       log"]
}
,
{
"cell_type" : "markdown",
"metadata" : {},
"source" : ["                         3            2                  +------+"]
}
,
{
"cell_type" : "markdown",
"metadata" : {},
"source" : ["            (- 98304%%CZ0  - 3072%%CZ0  - 576%%CZ0 + 60)\|4%%CZ0"]
}
,
{
"cell_type" : "markdown",
"metadata" : {},
"source" : ["          +"]
}
,
{
"cell_type" : "markdown",
"metadata" : {},
"source" : ["                        3            2"]
}
,
{
"cell_type" : "markdown",
"metadata" : {},
"source" : ["            - 12288%%CZ0  - 1536%%CZ0  - 144%%CZ0 + 21"]
}
,
{
"cell_type" : "markdown",
"metadata" : {},
"source" : ["   +"]
}
,
{
"cell_type" : "markdown",
"metadata" : {},
"source" : ["     -"]
}
,
{
"cell_type" : "markdown",
"metadata" : {},
"source" : ["           +------+"]
}
,
{
"cell_type" : "markdown",
"metadata" : {},
"source" : ["          \|4%%CZ0"]
}
,
{
"cell_type" : "markdown",
"metadata" : {},
"source" : ["       *"]
}
,
{
"cell_type" : "markdown",
"metadata" : {},
"source" : ["          log"]
}
,
{
"cell_type" : "markdown",
"metadata" : {},
"source" : ["                          +-+     3        +-+     2       +-+           +-+"]
}
,
{
"cell_type" : "markdown",
"metadata" : {},
"source" : ["                 (- 98304\|2 %%CZ0  - 3072\|2 %%CZ0  - 576\|2 %%CZ0 + 60\|2 )"]
}
,
{
"cell_type" : "markdown",
"metadata" : {},
"source" : ["              *"]
}
,
{
"cell_type" : "markdown",
"metadata" : {},
"source" : ["                  +------+"]
}
,
{
"cell_type" : "markdown",
"metadata" : {},
"source" : ["                 \|4%%CZ0"]
}
,
{
"cell_type" : "markdown",
"metadata" : {},
"source" : ["             +"]
}
,
{
"cell_type" : "markdown",
"metadata" : {},
"source" : ["                          3            2"]
}
,
{
"cell_type" : "markdown",
"metadata" : {},
"source" : ["              - 12288%%CZ0  - 1536%%CZ0  - 144%%CZ0 + 30"]
}
,
{
"cell_type" : "markdown",
"metadata" : {},
"source" : [" /"]
}
,
{
"cell_type" : "markdown",
"metadata" : {},
"source" : ["   4"]
}
,
{
"cell_type" : "markdown",
"metadata" : {},
"source" : ["                  Type: Union(f1: OrderedCompletion Expression Integer,...)"]
}
,
{
"cell_type" : "markdown",
"metadata" : {},
"source" : [""]
}
,
{
"cell_type" : "markdown",
"metadata" : {},
"source" : [""]
}
,
{
"cell_type" : "code",
"execution_count": null,
"metadata" : {
    "collapsed" : false
},
"source" : ["in1186a:=integrate((z^2+z)^(1/2)/(1+z^2)^2, z= 0..1,\"noPole\")"],
"outputs": []
}
,
{
"cell_type" : "markdown",
"metadata" : {},
"source" : [""]
}
,
{
"cell_type" : "markdown",
"metadata" : {},
"source" : [" (105)"]
}
,
{
"cell_type" : "markdown",
"metadata" : {},
"source" : ["           +-+      4+-+    %pi"]
}
,
{
"cell_type" : "markdown",
"metadata" : {},
"source" : ["       (17\|2  - 24)\|2 cos(---)"]
}
,
{
"cell_type" : "markdown",
"metadata" : {},
"source" : ["                             8"]
}
,
{
"cell_type" : "markdown",
"metadata" : {},
"source" : ["    *"]
}
,
{
"cell_type" : "markdown",
"metadata" : {},
"source" : ["       log"]
}
,
{
"cell_type" : "markdown",
"metadata" : {},
"source" : ["                 %pi 4     +-+4+-+3    %pi 3"]
}
,
{
"cell_type" : "markdown",
"metadata" : {},
"source" : ["            2sin(---)  + 2\|2 \|2  sin(---)"]
}
,
{
"cell_type" : "markdown",
"metadata" : {},
"source" : ["                  8                     8"]
}
,
{
"cell_type" : "markdown",
"metadata" : {},
"source" : ["          +"]
}
,
{
"cell_type" : "markdown",
"metadata" : {},
"source" : ["                  %pi 2     +-+4+-+3    %pi     4+-+2     %pi 2"]
}
,
{
"cell_type" : "markdown",
"metadata" : {},
"source" : ["            (4cos(---)  - 2\|2 \|2  cos(---) + 4\|2  )sin(---)"]
}
,
{
"cell_type" : "markdown",
"metadata" : {},
"source" : ["                   8                     8                 8"]
}
,
{
"cell_type" : "markdown",
"metadata" : {},
"source" : ["          +"]
}
,
{
"cell_type" : "markdown",
"metadata" : {},
"source" : ["               +-+4+-+3    %pi 2    4+-+2    %pi      +-+4+-+     %pi"]
}
,
{
"cell_type" : "markdown",
"metadata" : {},
"source" : ["            (2\|2 \|2  cos(---)  - 4\|2  cos(---) + 2\|2 \|2 )sin(---)"]
}
,
{
"cell_type" : "markdown",
"metadata" : {},
"source" : ["                            8                 8                    8"]
}
,
{
"cell_type" : "markdown",
"metadata" : {},
"source" : ["          +"]
}
,
{
"cell_type" : "markdown",
"metadata" : {},
"source" : ["                 %pi 4     +-+4+-+3    %pi 3    4+-+2    %pi 2"]
}
,
{
"cell_type" : "markdown",
"metadata" : {},
"source" : ["            2cos(---)  - 2\|2 \|2  cos(---)  + 4\|2  cos(---)"]
}
,
{
"cell_type" : "markdown",
"metadata" : {},
"source" : ["                  8                     8                 8"]
}
,
{
"cell_type" : "markdown",
"metadata" : {},
"source" : ["          +"]
}
,
{
"cell_type" : "markdown",
"metadata" : {},
"source" : ["                +-+4+-+    %pi"]
}
,
{
"cell_type" : "markdown",
"metadata" : {},
"source" : ["            - 2\|2 \|2 cos(---) + 1"]
}
,
{
"cell_type" : "markdown",
"metadata" : {},
"source" : ["                            8"]
}
,
{
"cell_type" : "markdown",
"metadata" : {},
"source" : ["   +"]
}
,
{
"cell_type" : "markdown",
"metadata" : {},
"source" : ["             +-+      4+-+    %pi"]
}
,
{
"cell_type" : "markdown",
"metadata" : {},
"source" : ["       (- 17\|2  + 24)\|2 cos(---)"]
}
,
{
"cell_type" : "markdown",
"metadata" : {},
"source" : ["                               8"]
}
,
{
"cell_type" : "markdown",
"metadata" : {},
"source" : ["    *"]
}
,
{
"cell_type" : "markdown",
"metadata" : {},
"source" : ["       log"]
}
,
{
"cell_type" : "markdown",
"metadata" : {},
"source" : ["                 %pi 4    4+-+3    %pi 3"]
}
,
{
"cell_type" : "markdown",
"metadata" : {},
"source" : ["            2sin(---)  + 4\|2  sin(---)"]
}
,
{
"cell_type" : "markdown",
"metadata" : {},
"source" : ["                  8                 8"]
}
,
{
"cell_type" : "markdown",
"metadata" : {},
"source" : ["          +"]
}
,
{
"cell_type" : "markdown",
"metadata" : {},
"source" : ["                    %pi 2        +-+     4+-+3    %pi         +-+      4+-+2"]
}
,
{
"cell_type" : "markdown",
"metadata" : {},
"source" : ["              (4cos(---)  + (- 4\|2  + 4)\|2  cos(---) + (- 4\|2  + 12)\|2  )"]
}
,
{
"cell_type" : "markdown",
"metadata" : {},
"source" : ["                     8                             8"]
}
,
{
"cell_type" : "markdown",
"metadata" : {},
"source" : ["           *"]
}
,
{
"cell_type" : "markdown",
"metadata" : {},
"source" : ["                  %pi 2"]
}
,
{
"cell_type" : "markdown",
"metadata" : {},
"source" : ["              sin(---)"]
}
,
{
"cell_type" : "markdown",
"metadata" : {},
"source" : ["                   8"]
}
,
{
"cell_type" : "markdown",
"metadata" : {},
"source" : ["          +"]
}
,
{
"cell_type" : "markdown",
"metadata" : {},
"source" : ["                 4+-+3    %pi 2        +-+     4+-+2    %pi"]
}
,
{
"cell_type" : "markdown",
"metadata" : {},
"source" : ["                4\|2  cos(---)  + (- 8\|2  + 8)\|2  cos(---)"]
}
,
{
"cell_type" : "markdown",
"metadata" : {},
"source" : ["                           8                             8"]
}
,
{
"cell_type" : "markdown",
"metadata" : {},
"source" : ["              +"]
}
,
{
"cell_type" : "markdown",
"metadata" : {},
"source" : ["                     +-+      4+-+"]
}
,
{
"cell_type" : "markdown",
"metadata" : {},
"source" : ["                (- 8\|2  + 16)\|2"]
}
,
{
"cell_type" : "markdown",
"metadata" : {},
"source" : ["           *"]
}
,
{
"cell_type" : "markdown",
"metadata" : {},
"source" : ["                  %pi"]
}
,
{
"cell_type" : "markdown",
"metadata" : {},
"source" : ["              sin(---)"]
}
,
{
"cell_type" : "markdown",
"metadata" : {},
"source" : ["                   8"]
}
,
{
"cell_type" : "markdown",
"metadata" : {},
"source" : ["          +"]
}
,
{
"cell_type" : "markdown",
"metadata" : {},
"source" : ["                 %pi 4        +-+     4+-+3    %pi 3"]
}
,
{
"cell_type" : "markdown",
"metadata" : {},
"source" : ["            2cos(---)  + (- 4\|2  + 4)\|2  cos(---)"]
}
,
{
"cell_type" : "markdown",
"metadata" : {},
"source" : ["                  8                             8"]
}
,
{
"cell_type" : "markdown",
"metadata" : {},
"source" : ["          +"]
}
,
{
"cell_type" : "markdown",
"metadata" : {},
"source" : ["                  +-+      4+-+2    %pi 2         +-+      4+-+    %pi"]
}
,
{
"cell_type" : "markdown",
"metadata" : {},
"source" : ["            (- 12\|2  + 20)\|2  cos(---)  + (- 24\|2  + 32)\|2 cos(---)"]
}
,
{
"cell_type" : "markdown",
"metadata" : {},
"source" : ["                                     8                              8"]
}
,
{
"cell_type" : "markdown",
"metadata" : {},
"source" : ["          +"]
}
,
{
"cell_type" : "markdown",
"metadata" : {},
"source" : ["                 +-+"]
}
,
{
"cell_type" : "markdown",
"metadata" : {},
"source" : ["            - 16\|2  + 24"]
}
,
{
"cell_type" : "markdown",
"metadata" : {},
"source" : ["   +"]
}
,
{
"cell_type" : "markdown",
"metadata" : {},
"source" : ["           +-+      4+-+    %pi"]
}
,
{
"cell_type" : "markdown",
"metadata" : {},
"source" : ["       (17\|2  - 24)\|2 cos(---)"]
}
,
{
"cell_type" : "markdown",
"metadata" : {},
"source" : ["                             8"]
}
,
{
"cell_type" : "markdown",
"metadata" : {},
"source" : ["    *"]
}
,
{
"cell_type" : "markdown",
"metadata" : {},
"source" : ["       log"]
}
,
{
"cell_type" : "markdown",
"metadata" : {},
"source" : ["                 %pi 4    4+-+3    %pi 3"]
}
,
{
"cell_type" : "markdown",
"metadata" : {},
"source" : ["            2sin(---)  - 4\|2  sin(---)"]
}
,
{
"cell_type" : "markdown",
"metadata" : {},
"source" : ["                  8                 8"]
}
,
{
"cell_type" : "markdown",
"metadata" : {},
"source" : ["          +"]
}
,
{
"cell_type" : "markdown",
"metadata" : {},
"source" : ["                    %pi 2      +-+     4+-+3    %pi         +-+      4+-+2"]
}
,
{
"cell_type" : "markdown",
"metadata" : {},
"source" : ["              (4cos(---)  + (4\|2  - 4)\|2  cos(---) + (- 4\|2  + 12)\|2  )"]
}
,
{
"cell_type" : "markdown",
"metadata" : {},
"source" : ["                     8                           8"]
}
,
{
"cell_type" : "markdown",
"metadata" : {},
"source" : ["           *"]
}
,
{
"cell_type" : "markdown",
"metadata" : {},
"source" : ["                  %pi 2"]
}
,
{
"cell_type" : "markdown",
"metadata" : {},
"source" : ["              sin(---)"]
}
,
{
"cell_type" : "markdown",
"metadata" : {},
"source" : ["                   8"]
}
,
{
"cell_type" : "markdown",
"metadata" : {},
"source" : ["          +"]
}
,
{
"cell_type" : "markdown",
"metadata" : {},
"source" : ["                   4+-+3    %pi 2        +-+     4+-+2    %pi"]
}
,
{
"cell_type" : "markdown",
"metadata" : {},
"source" : ["                - 4\|2  cos(---)  + (- 8\|2  + 8)\|2  cos(---)"]
}
,
{
"cell_type" : "markdown",
"metadata" : {},
"source" : ["                             8                             8"]
}
,
{
"cell_type" : "markdown",
"metadata" : {},
"source" : ["              +"]
}
,
{
"cell_type" : "markdown",
"metadata" : {},
"source" : ["                   +-+      4+-+"]
}
,
{
"cell_type" : "markdown",
"metadata" : {},
"source" : ["                (8\|2  - 16)\|2"]
}
,
{
"cell_type" : "markdown",
"metadata" : {},
"source" : ["           *"]
}
,
{
"cell_type" : "markdown",
"metadata" : {},
"source" : ["                  %pi"]
}
,
{
"cell_type" : "markdown",
"metadata" : {},
"source" : ["              sin(---)"]
}
,
{
"cell_type" : "markdown",
"metadata" : {},
"source" : ["                   8"]
}
,
{
"cell_type" : "markdown",
"metadata" : {},
"source" : ["          +"]
}
,
{
"cell_type" : "markdown",
"metadata" : {},
"source" : ["                 %pi 4      +-+     4+-+3    %pi 3"]
}
,
{
"cell_type" : "markdown",
"metadata" : {},
"source" : ["            2cos(---)  + (4\|2  - 4)\|2  cos(---)"]
}
,
{
"cell_type" : "markdown",
"metadata" : {},
"source" : ["                  8                           8"]
}
,
{
"cell_type" : "markdown",
"metadata" : {},
"source" : ["          +"]
}
,
{
"cell_type" : "markdown",
"metadata" : {},
"source" : ["                 +-+      4+-+2    %pi 2       +-+      4+-+    %pi       +-+"]
}
,
{
"cell_type" : "markdown",
"metadata" : {},
"source" : ["           (- 12\|2  + 20)\|2  cos(---)  + (24\|2  - 32)\|2 cos(---) - 16\|2"]
}
,
{
"cell_type" : "markdown",
"metadata" : {},
"source" : ["                                     8                            8"]
}
,
{
"cell_type" : "markdown",
"metadata" : {},
"source" : ["          +"]
}
,
{
"cell_type" : "markdown",
"metadata" : {},
"source" : ["            24"]
}
,
{
"cell_type" : "markdown",
"metadata" : {},
"source" : ["   +"]
}
,
{
"cell_type" : "markdown",
"metadata" : {},
"source" : ["             +-+      4+-+    %pi"]
}
,
{
"cell_type" : "markdown",
"metadata" : {},
"source" : ["       (- 17\|2  + 24)\|2 cos(---)"]
}
,
{
"cell_type" : "markdown",
"metadata" : {},
"source" : ["                               8"]
}
,
{
"cell_type" : "markdown",
"metadata" : {},
"source" : ["    *"]
}
,
{
"cell_type" : "markdown",
"metadata" : {},
"source" : ["       log"]
}
,
{
"cell_type" : "markdown",
"metadata" : {},
"source" : ["                 %pi 4     +-+4+-+3    %pi 3"]
}
,
{
"cell_type" : "markdown",
"metadata" : {},
"source" : ["            2sin(---)  - 2\|2 \|2  sin(---)"]
}
,
{
"cell_type" : "markdown",
"metadata" : {},
"source" : ["                  8                     8"]
}
,
{
"cell_type" : "markdown",
"metadata" : {},
"source" : ["          +"]
}
,
{
"cell_type" : "markdown",
"metadata" : {},
"source" : ["                  %pi 2     +-+4+-+3    %pi     4+-+2     %pi 2"]
}
,
{
"cell_type" : "markdown",
"metadata" : {},
"source" : ["            (4cos(---)  + 2\|2 \|2  cos(---) + 4\|2  )sin(---)"]
}
,
{
"cell_type" : "markdown",
"metadata" : {},
"source" : ["                   8                     8                 8"]
}
,
{
"cell_type" : "markdown",
"metadata" : {},
"source" : ["          +"]
}
,
{
"cell_type" : "markdown",
"metadata" : {},
"source" : ["                 +-+4+-+3    %pi 2    4+-+2    %pi      +-+4+-+     %pi"]
}
,
{
"cell_type" : "markdown",
"metadata" : {},
"source" : ["            (- 2\|2 \|2  cos(---)  - 4\|2  cos(---) - 2\|2 \|2 )sin(---)"]
}
,
{
"cell_type" : "markdown",
"metadata" : {},
"source" : ["                              8                 8                    8"]
}
,
{
"cell_type" : "markdown",
"metadata" : {},
"source" : ["          +"]
}
,
{
"cell_type" : "markdown",
"metadata" : {},
"source" : ["                 %pi 4     +-+4+-+3    %pi 3    4+-+2    %pi 2"]
}
,
{
"cell_type" : "markdown",
"metadata" : {},
"source" : ["            2cos(---)  + 2\|2 \|2  cos(---)  + 4\|2  cos(---)"]
}
,
{
"cell_type" : "markdown",
"metadata" : {},
"source" : ["                  8                     8                 8"]
}
,
{
"cell_type" : "markdown",
"metadata" : {},
"source" : ["          +"]
}
,
{
"cell_type" : "markdown",
"metadata" : {},
"source" : ["              +-+4+-+    %pi"]
}
,
{
"cell_type" : "markdown",
"metadata" : {},
"source" : ["            2\|2 \|2 cos(---) + 1"]
}
,
{
"cell_type" : "markdown",
"metadata" : {},
"source" : ["                          8"]
}
,
{
"cell_type" : "markdown",
"metadata" : {},
"source" : ["   +"]
}
,
{
"cell_type" : "markdown",
"metadata" : {},
"source" : ["                                     4+-+    %pi    4+-+    %pi     +-+"]
}
,
{
"cell_type" : "markdown",
"metadata" : {},
"source" : ["                                     \|2 sin(---) - \|2 cos(---) + \|2"]
}
,
{
"cell_type" : "markdown",
"metadata" : {},
"source" : ["         +-+      4+-+    %pi                 8              8"]
}
,
{
"cell_type" : "markdown",
"metadata" : {},
"source" : ["     (68\|2  - 96)\|2 sin(---)atan(--------------------------------------)"]
}
,
{
"cell_type" : "markdown",
"metadata" : {},
"source" : ["                           8       4+-+    %pi    4+-+    %pi     +-+"]
}
,
{
"cell_type" : "markdown",
"metadata" : {},
"source" : ["                                   \|2 sin(---) + \|2 cos(---) - \|2  + 2"]
}
,
{
"cell_type" : "markdown",
"metadata" : {},
"source" : ["                                            8              8"]
}
,
{
"cell_type" : "markdown",
"metadata" : {},
"source" : ["   +"]
}
,
{
"cell_type" : "markdown",
"metadata" : {},
"source" : ["                                     4+-+    %pi    4+-+    %pi     +-+"]
}
,
{
"cell_type" : "markdown",
"metadata" : {},
"source" : ["                                     \|2 sin(---) - \|2 cos(---) + \|2"]
}
,
{
"cell_type" : "markdown",
"metadata" : {},
"source" : ["           +-+      4+-+    %pi               8              8"]
}
,
{
"cell_type" : "markdown",
"metadata" : {},
"source" : ["     (- 68\|2  + 96)\|2 sin(---)atan(----------------------------------)"]
}
,
{
"cell_type" : "markdown",
"metadata" : {},
"source" : ["                             8           4+-+    %pi    4+-+    %pi"]
}
,
{
"cell_type" : "markdown",
"metadata" : {},
"source" : ["                                         \|2 sin(---) + \|2 cos(---)"]
}
,
{
"cell_type" : "markdown",
"metadata" : {},
"source" : ["                                                  8              8"]
}
,
{
"cell_type" : "markdown",
"metadata" : {},
"source" : ["   +"]
}
,
{
"cell_type" : "markdown",
"metadata" : {},
"source" : ["                                   4+-+    %pi    4+-+    %pi     +-+"]
}
,
{
"cell_type" : "markdown",
"metadata" : {},
"source" : ["                                   \|2 sin(---) - \|2 cos(---) - \|2"]
}
,
{
"cell_type" : "markdown",
"metadata" : {},
"source" : ["         +-+      4+-+    %pi               8              8"]
}
,
{
"cell_type" : "markdown",
"metadata" : {},
"source" : ["     (68\|2  - 96)\|2 sin(---)atan(----------------------------------)"]
}
,
{
"cell_type" : "markdown",
"metadata" : {},
"source" : ["                           8           4+-+    %pi    4+-+    %pi"]
}
,
{
"cell_type" : "markdown",
"metadata" : {},
"source" : ["                                       \|2 sin(---) + \|2 cos(---)"]
}
,
{
"cell_type" : "markdown",
"metadata" : {},
"source" : ["                                                8              8"]
}
,
{
"cell_type" : "markdown",
"metadata" : {},
"source" : ["   +"]
}
,
{
"cell_type" : "markdown",
"metadata" : {},
"source" : ["                                       4+-+    %pi    4+-+    %pi     +-+"]
}
,
{
"cell_type" : "markdown",
"metadata" : {},
"source" : ["                                       \|2 sin(---) - \|2 cos(---) - \|2"]
}
,
{
"cell_type" : "markdown",
"metadata" : {},
"source" : ["           +-+      4+-+    %pi                 8              8"]
}
,
{
"cell_type" : "markdown",
"metadata" : {},
"source" : ["     (- 68\|2  + 96)\|2 sin(---)atan(--------------------------------------)"]
}
,
{
"cell_type" : "markdown",
"metadata" : {},
"source" : ["                             8       4+-+    %pi    4+-+    %pi     +-+"]
}
,
{
"cell_type" : "markdown",
"metadata" : {},
"source" : ["                                     \|2 sin(---) + \|2 cos(---) + \|2  - 2"]
}
,
{
"cell_type" : "markdown",
"metadata" : {},
"source" : ["                                              8              8"]
}
,
{
"cell_type" : "markdown",
"metadata" : {},
"source" : ["   +"]
}
,
{
"cell_type" : "markdown",
"metadata" : {},
"source" : ["           +-+"]
}
,
{
"cell_type" : "markdown",
"metadata" : {},
"source" : ["     - 136\|2  + 192"]
}
,
{
"cell_type" : "markdown",
"metadata" : {},
"source" : [" /"]
}
,
{
"cell_type" : "markdown",
"metadata" : {},
"source" : ["       +-+"]
}
,
{
"cell_type" : "markdown",
"metadata" : {},
"source" : ["   384\|2  - 544"]
}
,
{
"cell_type" : "markdown",
"metadata" : {},
"source" : ["                    Type: Union(f1: OrderedCompletion Expression Integer,...)"]
}
,
{
"cell_type" : "code",
"execution_count": null,
"metadata" : {
    "collapsed" : false
},
"source" : ["in1190a:=integrate(sin(z)^2*tan(z)^(1/2), z= 0..1,\"noPole\")"],
"outputs": []
}
,
{
"cell_type" : "markdown",
"metadata" : {},
"source" : [""]
}
,
{
"cell_type" : "markdown",
"metadata" : {},
"source" : ["                                                                 +------+"]
}
,
{
"cell_type" : "markdown",
"metadata" : {},
"source" : ["                   3                             4            2  |sin(1)"]
}
,
{
"cell_type" : "markdown",
"metadata" : {},
"source" : ["         ((96cos(1)  + 24cos(1))sin(1) - 96cos(1)  + 120cos(1) ) |------"]
}
,
{
"cell_type" : "markdown",
"metadata" : {},
"source" : ["                                                                \|cos(1)"]
}
,
{
"cell_type" : "markdown",
"metadata" : {},
"source" : ["       +"]
}
,
{
"cell_type" : "markdown",
"metadata" : {},
"source" : ["                                     4           2      +-+"]
}
,
{
"cell_type" : "markdown",
"metadata" : {},
"source" : ["         (- 48cos(1)sin(1) + 96cos(1)  - 96cos(1)  - 3)\|2"]
}
,
{
"cell_type" : "markdown",
"metadata" : {},
"source" : ["    *"]
}
,
{
"cell_type" : "markdown",
"metadata" : {},
"source" : ["       log"]
}
,
{
"cell_type" : "markdown",
"metadata" : {},
"source" : ["                         2      2              3                           2"]
}
,
{
"cell_type" : "markdown",
"metadata" : {},
"source" : ["              (- 16cos(1) sin(1)  + (- 16cos(1)  - 4cos(1))sin(1) - 4cos(1) )"]
}
,
{
"cell_type" : "markdown",
"metadata" : {},
"source" : ["           *"]
}
,
{
"cell_type" : "markdown",
"metadata" : {},
"source" : ["                   +------+"]
}
,
{
"cell_type" : "markdown",
"metadata" : {},
"source" : ["               +-+ |sin(1)"]
}
,
{
"cell_type" : "markdown",
"metadata" : {},
"source" : ["              \|2  |------"]
}
,
{
"cell_type" : "markdown",
"metadata" : {},
"source" : ["                  \|cos(1)"]
}
,
{
"cell_type" : "markdown",
"metadata" : {},
"source" : ["          +"]
}
,
{
"cell_type" : "markdown",
"metadata" : {},
"source" : ["                       3           2      2           3"]
}
,
{
"cell_type" : "markdown",
"metadata" : {},
"source" : ["          8cos(1)sin(1)  + 32cos(1) sin(1)  + (8cos(1)  + 8cos(1))sin(1) + 1"]
}
,
{
"cell_type" : "markdown",
"metadata" : {},
"source" : ["   +"]
}
,
{
"cell_type" : "markdown",
"metadata" : {},
"source" : ["                                                                 +------+"]
}
,
{
"cell_type" : "markdown",
"metadata" : {},
"source" : ["                   3                             4            2  |sin(1)"]
}
,
{
"cell_type" : "markdown",
"metadata" : {},
"source" : ["         ((96cos(1)  + 24cos(1))sin(1) - 96cos(1)  + 120cos(1) ) |------"]
}
,
{
"cell_type" : "markdown",
"metadata" : {},
"source" : ["                                                                \|cos(1)"]
}
,
{
"cell_type" : "markdown",
"metadata" : {},
"source" : ["       +"]
}
,
{
"cell_type" : "markdown",
"metadata" : {},
"source" : ["                                     4           2      +-+"]
}
,
{
"cell_type" : "markdown",
"metadata" : {},
"source" : ["         (- 48cos(1)sin(1) + 96cos(1)  - 96cos(1)  - 3)\|2"]
}
,
{
"cell_type" : "markdown",
"metadata" : {},
"source" : ["    *"]
}
,
{
"cell_type" : "markdown",
"metadata" : {},
"source" : ["       log"]
}
,
{
"cell_type" : "markdown",
"metadata" : {},
"source" : ["                            2      2              3"]
}
,
{
"cell_type" : "markdown",
"metadata" : {},
"source" : ["                  - 64cos(1) sin(1)  + (- 64cos(1)  - 16cos(1))sin(1)"]
}
,
{
"cell_type" : "markdown",
"metadata" : {},
"source" : ["                +"]
}
,
{
"cell_type" : "markdown",
"metadata" : {},
"source" : ["                            2"]
}
,
{
"cell_type" : "markdown",
"metadata" : {},
"source" : ["                  - 16cos(1)"]
}
,
{
"cell_type" : "markdown",
"metadata" : {},
"source" : ["           *"]
}
,
{
"cell_type" : "markdown",
"metadata" : {},
"source" : ["                   +------+"]
}
,
{
"cell_type" : "markdown",
"metadata" : {},
"source" : ["               +-+ |sin(1)"]
}
,
{
"cell_type" : "markdown",
"metadata" : {},
"source" : ["              \|2  |------"]
}
,
{
"cell_type" : "markdown",
"metadata" : {},
"source" : ["                  \|cos(1)"]
}
,
{
"cell_type" : "markdown",
"metadata" : {},
"source" : ["          +"]
}
,
{
"cell_type" : "markdown",
"metadata" : {},
"source" : ["                         3            2      2            3"]
}
,
{
"cell_type" : "markdown",
"metadata" : {},
"source" : ["           32cos(1)sin(1)  + 128cos(1) sin(1)  + (32cos(1)  + 32cos(1))sin(1)"]
}
,
{
"cell_type" : "markdown",
"metadata" : {},
"source" : ["          +"]
}
,
{
"cell_type" : "markdown",
"metadata" : {},
"source" : ["            4"]
}
,
{
"cell_type" : "markdown",
"metadata" : {},
"source" : ["   +"]
}
,
{
"cell_type" : "markdown",
"metadata" : {},
"source" : ["                                                                   +------+"]
}
,
{
"cell_type" : "markdown",
"metadata" : {},
"source" : ["                    3                              4            2  |sin(1)"]
}
,
{
"cell_type" : "markdown",
"metadata" : {},
"source" : ["         ((384cos(1)  + 96cos(1))sin(1) - 384cos(1)  + 480cos(1) ) |------"]
}
,
{
"cell_type" : "markdown",
"metadata" : {},
"source" : ["                                                                  \|cos(1)"]
}
,
{
"cell_type" : "markdown",
"metadata" : {},
"source" : ["       +"]
}
,
{
"cell_type" : "markdown",
"metadata" : {},
"source" : ["                                       4            2       +-+"]
}
,
{
"cell_type" : "markdown",
"metadata" : {},
"source" : ["         (- 192cos(1)sin(1) + 384cos(1)  - 384cos(1)  - 12)\|2"]
}
,
{
"cell_type" : "markdown",
"metadata" : {},
"source" : ["    *"]
}
,
{
"cell_type" : "markdown",
"metadata" : {},
"source" : ["                          +------+"]
}
,
{
"cell_type" : "markdown",
"metadata" : {},
"source" : ["                          |sin(1)                            2      +-+"]
}
,
{
"cell_type" : "markdown",
"metadata" : {},
"source" : ["            2cos(1)sin(1) |------  + (- cos(1)sin(1) + cos(1)  - 1)\|2"]
}
,
{
"cell_type" : "markdown",
"metadata" : {},
"source" : ["                         \|cos(1)"]
}
,
{
"cell_type" : "markdown",
"metadata" : {},
"source" : ["       atan(-----------------------------------------------------------)"]
}
,
{
"cell_type" : "markdown",
"metadata" : {},
"source" : ["                          +------+"]
}
,
{
"cell_type" : "markdown",
"metadata" : {},
"source" : ["                        2 |sin(1)                            2  +-+"]
}
,
{
"cell_type" : "markdown",
"metadata" : {},
"source" : ["                 2cos(1)  |------  + (- cos(1)sin(1) - cos(1) )\|2"]
}
,
{
"cell_type" : "markdown",
"metadata" : {},
"source" : ["                         \|cos(1)"]
}
,
{
"cell_type" : "markdown",
"metadata" : {},
"source" : ["   +"]
}
,
{
"cell_type" : "markdown",
"metadata" : {},
"source" : ["                                                                     +------+"]
}
,
{
"cell_type" : "markdown",
"metadata" : {},
"source" : ["                      3                              4            2  |sin(1)"]
}
,
{
"cell_type" : "markdown",
"metadata" : {},
"source" : ["         ((- 384cos(1)  - 96cos(1))sin(1) + 384cos(1)  - 480cos(1) ) |------"]
}
,
{
"cell_type" : "markdown",
"metadata" : {},
"source" : ["                                                                    \|cos(1)"]
}
,
{
"cell_type" : "markdown",
"metadata" : {},
"source" : ["       +"]
}
,
{
"cell_type" : "markdown",
"metadata" : {},
"source" : ["                                     4            2       +-+"]
}
,
{
"cell_type" : "markdown",
"metadata" : {},
"source" : ["         (192cos(1)sin(1) - 384cos(1)  + 384cos(1)  + 12)\|2"]
}
,
{
"cell_type" : "markdown",
"metadata" : {},
"source" : ["    *"]
}
,
{
"cell_type" : "markdown",
"metadata" : {},
"source" : ["                          +------+"]
}
,
{
"cell_type" : "markdown",
"metadata" : {},
"source" : ["                          |sin(1)                              2      +-+"]
}
,
{
"cell_type" : "markdown",
"metadata" : {},
"source" : ["            4cos(1)sin(1) |------  + (- 2cos(1)sin(1) + 2cos(1)  - 1)\|2"]
}
,
{
"cell_type" : "markdown",
"metadata" : {},
"source" : ["                         \|cos(1)"]
}
,
{
"cell_type" : "markdown",
"metadata" : {},
"source" : ["       atan(-------------------------------------------------------------)"]
}
,
{
"cell_type" : "markdown",
"metadata" : {},
"source" : ["                        +------+"]
}
,
{
"cell_type" : "markdown",
"metadata" : {},
"source" : ["                      2 |sin(1)                              2      +-+"]
}
,
{
"cell_type" : "markdown",
"metadata" : {},
"source" : ["               4cos(1)  |------  + (- 2cos(1)sin(1) - 2cos(1)  + 1)\|2"]
}
,
{
"cell_type" : "markdown",
"metadata" : {},
"source" : ["                       \|cos(1)"]
}
,
{
"cell_type" : "markdown",
"metadata" : {},
"source" : ["   +"]
}
,
{
"cell_type" : "markdown",
"metadata" : {},
"source" : ["                                                                     +------+"]
}
,
{
"cell_type" : "markdown",
"metadata" : {},
"source" : ["                      3                              4            2  |sin(1)"]
}
,
{
"cell_type" : "markdown",
"metadata" : {},
"source" : ["         ((- 384cos(1)  - 96cos(1))sin(1) + 384cos(1)  - 480cos(1) ) |------"]
}
,
{
"cell_type" : "markdown",
"metadata" : {},
"source" : ["                                                                    \|cos(1)"]
}
,
{
"cell_type" : "markdown",
"metadata" : {},
"source" : ["       +"]
}
,
{
"cell_type" : "markdown",
"metadata" : {},
"source" : ["                                     4            2       +-+"]
}
,
{
"cell_type" : "markdown",
"metadata" : {},
"source" : ["         (192cos(1)sin(1) - 384cos(1)  + 384cos(1)  + 12)\|2"]
}
,
{
"cell_type" : "markdown",
"metadata" : {},
"source" : ["    *"]
}
,
{
"cell_type" : "markdown",
"metadata" : {},
"source" : ["                          +------+"]
}
,
{
"cell_type" : "markdown",
"metadata" : {},
"source" : ["                          |sin(1)                            2  +-+"]
}
,
{
"cell_type" : "markdown",
"metadata" : {},
"source" : ["            2cos(1)sin(1) |------  + (- cos(1)sin(1) + cos(1) )\|2"]
}
,
{
"cell_type" : "markdown",
"metadata" : {},
"source" : ["                         \|cos(1)"]
}
,
{
"cell_type" : "markdown",
"metadata" : {},
"source" : ["       atan(-------------------------------------------------------)"]
}
,
{
"cell_type" : "markdown",
"metadata" : {},
"source" : ["                      +------+"]
}
,
{
"cell_type" : "markdown",
"metadata" : {},
"source" : ["                    2 |sin(1)                            2      +-+"]
}
,
{
"cell_type" : "markdown",
"metadata" : {},
"source" : ["             2cos(1)  |------  + (- cos(1)sin(1) - cos(1)  + 1)\|2"]
}
,
{
"cell_type" : "markdown",
"metadata" : {},
"source" : ["                     \|cos(1)"]
}
,
{
"cell_type" : "markdown",
"metadata" : {},
"source" : ["   +"]
}
,
{
"cell_type" : "markdown",
"metadata" : {},
"source" : ["                        3                               5"]
}
,
{
"cell_type" : "markdown",
"metadata" : {},
"source" : ["             (- 96cos(1)  - 24cos(1))log(4) - 1024cos(1)"]
}
,
{
"cell_type" : "markdown",
"metadata" : {},
"source" : ["           +"]
}
,
{
"cell_type" : "markdown",
"metadata" : {},
"source" : ["                                 3"]
}
,
{
"cell_type" : "markdown",
"metadata" : {},
"source" : ["             (96%pi + 1024)cos(1)  + (24%pi + 32)cos(1)"]
}
,
{
"cell_type" : "markdown",
"metadata" : {},
"source" : ["        *"]
}
,
{
"cell_type" : "markdown",
"metadata" : {},
"source" : ["           sin(1)"]
}
,
{
"cell_type" : "markdown",
"metadata" : {},
"source" : ["       +"]
}
,
{
"cell_type" : "markdown",
"metadata" : {},
"source" : ["                  4            2                               4"]
}
,
{
"cell_type" : "markdown",
"metadata" : {},
"source" : ["         (96cos(1)  - 120cos(1) )log(4) + (- 96%pi - 512)cos(1)"]
}
,
{
"cell_type" : "markdown",
"metadata" : {},
"source" : ["       +"]
}
,
{
"cell_type" : "markdown",
"metadata" : {},
"source" : ["                             2"]
}
,
{
"cell_type" : "markdown",
"metadata" : {},
"source" : ["         (120%pi + 512)cos(1)"]
}
,
{
"cell_type" : "markdown",
"metadata" : {},
"source" : ["    *"]
}
,
{
"cell_type" : "markdown",
"metadata" : {},
"source" : ["        +------+"]
}
,
{
"cell_type" : "markdown",
"metadata" : {},
"source" : ["        |sin(1)"]
}
,
{
"cell_type" : "markdown",
"metadata" : {},
"source" : ["        |------"]
}
,
{
"cell_type" : "markdown",
"metadata" : {},
"source" : ["       \|cos(1)"]
}
,
{
"cell_type" : "markdown",
"metadata" : {},
"source" : ["   +"]
}
,
{
"cell_type" : "markdown",
"metadata" : {},
"source" : ["                                      5            3"]
}
,
{
"cell_type" : "markdown",
"metadata" : {},
"source" : ["           (48cos(1)log(4) + 512cos(1)  - 384cos(1)  + (- 48%pi - 128)cos(1))"]
}
,
{
"cell_type" : "markdown",
"metadata" : {},
"source" : ["        *"]
}
,
{
"cell_type" : "markdown",
"metadata" : {},
"source" : ["           sin(1)"]
}
,
{
"cell_type" : "markdown",
"metadata" : {},
"source" : ["       +"]
}
,
{
"cell_type" : "markdown",
"metadata" : {},
"source" : ["                    4           2                       6"]
}
,
{
"cell_type" : "markdown",
"metadata" : {},
"source" : ["         (- 96cos(1)  + 96cos(1)  + 3)log(4) - 512cos(1)"]
}
,
{
"cell_type" : "markdown",
"metadata" : {},
"source" : ["       +"]
}
,
{
"cell_type" : "markdown",
"metadata" : {},
"source" : ["                             4                        2"]
}
,
{
"cell_type" : "markdown",
"metadata" : {},
"source" : ["         (96%pi + 1152)cos(1)  + (- 96%pi - 640)cos(1)  - 3%pi"]
}
,
{
"cell_type" : "markdown",
"metadata" : {},
"source" : ["    *"]
}
,
{
"cell_type" : "markdown",
"metadata" : {},
"source" : ["        +-+"]
}
,
{
"cell_type" : "markdown",
"metadata" : {},
"source" : ["       \|2"]
}
,
{
"cell_type" : "markdown",
"metadata" : {},
"source" : [" /"]
}
,
{
"cell_type" : "markdown",
"metadata" : {},
"source" : ["                   3                                4             2  +-+"]
}
,
{
"cell_type" : "markdown",
"metadata" : {},
"source" : ["       ((1024cos(1)  + 256cos(1))sin(1) - 1024cos(1)  + 1280cos(1) )\|2"]
}
,
{
"cell_type" : "markdown",
"metadata" : {},
"source" : ["    *"]
}
,
{
"cell_type" : "markdown",
"metadata" : {},
"source" : ["        +------+"]
}
,
{
"cell_type" : "markdown",
"metadata" : {},
"source" : ["        |sin(1)"]
}
,
{
"cell_type" : "markdown",
"metadata" : {},
"source" : ["        |------"]
}
,
{
"cell_type" : "markdown",
"metadata" : {},
"source" : ["       \|cos(1)"]
}
,
{
"cell_type" : "markdown",
"metadata" : {},
"source" : ["   +"]
}
,
{
"cell_type" : "markdown",
"metadata" : {},
"source" : ["                                    4             2"]
}
,
{
"cell_type" : "markdown",
"metadata" : {},
"source" : ["     - 1024cos(1)sin(1) + 2048cos(1)  - 2048cos(1)  - 64"]
}
,
{
"cell_type" : "markdown",
"metadata" : {},
"source" : ["                  Type: Union(f1: OrderedCompletion Expression Integer,...)"]
}
,
{
"cell_type" : "code",
"execution_count": null,
"metadata" : {
    "collapsed" : false
},
"source" : ["in1191a:=integrate(sin(z)^2/tan(z)^(1/2), z= 0..1,\"noPole\")"],
"outputs": []
}
,
{
"cell_type" : "markdown",
"metadata" : {},
"source" : [""]
}
,
{
"cell_type" : "markdown",
"metadata" : {},
"source" : ["                                                                 +------+"]
}
,
{
"cell_type" : "markdown",
"metadata" : {},
"source" : ["                     3                            4           2  |sin(1)"]
}
,
{
"cell_type" : "markdown",
"metadata" : {},
"source" : ["         ((- 32cos(1)  - 8cos(1))sin(1) + 32cos(1)  - 40cos(1) ) |------"]
}
,
{
"cell_type" : "markdown",
"metadata" : {},
"source" : ["                                                                \|cos(1)"]
}
,
{
"cell_type" : "markdown",
"metadata" : {},
"source" : ["       +"]
}
,
{
"cell_type" : "markdown",
"metadata" : {},
"source" : ["                                   4           2      +-+"]
}
,
{
"cell_type" : "markdown",
"metadata" : {},
"source" : ["         (16cos(1)sin(1) - 32cos(1)  + 32cos(1)  + 1)\|2"]
}
,
{
"cell_type" : "markdown",
"metadata" : {},
"source" : ["    *"]
}
,
{
"cell_type" : "markdown",
"metadata" : {},
"source" : ["       log"]
}
,
{
"cell_type" : "markdown",
"metadata" : {},
"source" : ["                         2      2              3                           2"]
}
,
{
"cell_type" : "markdown",
"metadata" : {},
"source" : ["              (- 16cos(1) sin(1)  + (- 16cos(1)  - 4cos(1))sin(1) - 4cos(1) )"]
}
,
{
"cell_type" : "markdown",
"metadata" : {},
"source" : ["           *"]
}
,
{
"cell_type" : "markdown",
"metadata" : {},
"source" : ["                   +------+"]
}
,
{
"cell_type" : "markdown",
"metadata" : {},
"source" : ["               +-+ |sin(1)"]
}
,
{
"cell_type" : "markdown",
"metadata" : {},
"source" : ["              \|2  |------"]
}
,
{
"cell_type" : "markdown",
"metadata" : {},
"source" : ["                  \|cos(1)"]
}
,
{
"cell_type" : "markdown",
"metadata" : {},
"source" : ["          +"]
}
,
{
"cell_type" : "markdown",
"metadata" : {},
"source" : ["                       3           2      2           3"]
}
,
{
"cell_type" : "markdown",
"metadata" : {},
"source" : ["          8cos(1)sin(1)  + 32cos(1) sin(1)  + (8cos(1)  + 8cos(1))sin(1) + 1"]
}
,
{
"cell_type" : "markdown",
"metadata" : {},
"source" : ["   +"]
}
,
{
"cell_type" : "markdown",
"metadata" : {},
"source" : ["                                                                 +------+"]
}
,
{
"cell_type" : "markdown",
"metadata" : {},
"source" : ["                     3                            4           2  |sin(1)"]
}
,
{
"cell_type" : "markdown",
"metadata" : {},
"source" : ["         ((- 32cos(1)  - 8cos(1))sin(1) + 32cos(1)  - 40cos(1) ) |------"]
}
,
{
"cell_type" : "markdown",
"metadata" : {},
"source" : ["                                                                \|cos(1)"]
}
,
{
"cell_type" : "markdown",
"metadata" : {},
"source" : ["       +"]
}
,
{
"cell_type" : "markdown",
"metadata" : {},
"source" : ["                                   4           2      +-+"]
}
,
{
"cell_type" : "markdown",
"metadata" : {},
"source" : ["         (16cos(1)sin(1) - 32cos(1)  + 32cos(1)  + 1)\|2"]
}
,
{
"cell_type" : "markdown",
"metadata" : {},
"source" : ["    *"]
}
,
{
"cell_type" : "markdown",
"metadata" : {},
"source" : ["       log"]
}
,
{
"cell_type" : "markdown",
"metadata" : {},
"source" : ["                            2      2              3"]
}
,
{
"cell_type" : "markdown",
"metadata" : {},
"source" : ["                  - 64cos(1) sin(1)  + (- 64cos(1)  - 16cos(1))sin(1)"]
}
,
{
"cell_type" : "markdown",
"metadata" : {},
"source" : ["                +"]
}
,
{
"cell_type" : "markdown",
"metadata" : {},
"source" : ["                            2"]
}
,
{
"cell_type" : "markdown",
"metadata" : {},
"source" : ["                  - 16cos(1)"]
}
,
{
"cell_type" : "markdown",
"metadata" : {},
"source" : ["           *"]
}
,
{
"cell_type" : "markdown",
"metadata" : {},
"source" : ["                   +------+"]
}
,
{
"cell_type" : "markdown",
"metadata" : {},
"source" : ["               +-+ |sin(1)"]
}
,
{
"cell_type" : "markdown",
"metadata" : {},
"source" : ["              \|2  |------"]
}
,
{
"cell_type" : "markdown",
"metadata" : {},
"source" : ["                  \|cos(1)"]
}
,
{
"cell_type" : "markdown",
"metadata" : {},
"source" : ["          +"]
}
,
{
"cell_type" : "markdown",
"metadata" : {},
"source" : ["                         3            2      2            3"]
}
,
{
"cell_type" : "markdown",
"metadata" : {},
"source" : ["           32cos(1)sin(1)  + 128cos(1) sin(1)  + (32cos(1)  + 32cos(1))sin(1)"]
}
,
{
"cell_type" : "markdown",
"metadata" : {},
"source" : ["          +"]
}
,
{
"cell_type" : "markdown",
"metadata" : {},
"source" : ["            4"]
}
,
{
"cell_type" : "markdown",
"metadata" : {},
"source" : ["   +"]
}
,
{
"cell_type" : "markdown",
"metadata" : {},
"source" : ["                                                                   +------+"]
}
,
{
"cell_type" : "markdown",
"metadata" : {},
"source" : ["                    3                              4            2  |sin(1)"]
}
,
{
"cell_type" : "markdown",
"metadata" : {},
"source" : ["         ((128cos(1)  + 32cos(1))sin(1) - 128cos(1)  + 160cos(1) ) |------"]
}
,
{
"cell_type" : "markdown",
"metadata" : {},
"source" : ["                                                                  \|cos(1)"]
}
,
{
"cell_type" : "markdown",
"metadata" : {},
"source" : ["       +"]
}
,
{
"cell_type" : "markdown",
"metadata" : {},
"source" : ["                                      4            2      +-+"]
}
,
{
"cell_type" : "markdown",
"metadata" : {},
"source" : ["         (- 64cos(1)sin(1) + 128cos(1)  - 128cos(1)  - 4)\|2"]
}
,
{
"cell_type" : "markdown",
"metadata" : {},
"source" : ["    *"]
}
,
{
"cell_type" : "markdown",
"metadata" : {},
"source" : ["                          +------+"]
}
,
{
"cell_type" : "markdown",
"metadata" : {},
"source" : ["                          |sin(1)                            2      +-+"]
}
,
{
"cell_type" : "markdown",
"metadata" : {},
"source" : ["            2cos(1)sin(1) |------  + (- cos(1)sin(1) + cos(1)  - 1)\|2"]
}
,
{
"cell_type" : "markdown",
"metadata" : {},
"source" : ["                         \|cos(1)"]
}
,
{
"cell_type" : "markdown",
"metadata" : {},
"source" : ["       atan(-----------------------------------------------------------)"]
}
,
{
"cell_type" : "markdown",
"metadata" : {},
"source" : ["                          +------+"]
}
,
{
"cell_type" : "markdown",
"metadata" : {},
"source" : ["                        2 |sin(1)                            2  +-+"]
}
,
{
"cell_type" : "markdown",
"metadata" : {},
"source" : ["                 2cos(1)  |------  + (- cos(1)sin(1) - cos(1) )\|2"]
}
,
{
"cell_type" : "markdown",
"metadata" : {},
"source" : ["                         \|cos(1)"]
}
,
{
"cell_type" : "markdown",
"metadata" : {},
"source" : ["   +"]
}
,
{
"cell_type" : "markdown",
"metadata" : {},
"source" : ["                                                                     +------+"]
}
,
{
"cell_type" : "markdown",
"metadata" : {},
"source" : ["                      3                              4            2  |sin(1)"]
}
,
{
"cell_type" : "markdown",
"metadata" : {},
"source" : ["         ((- 128cos(1)  - 32cos(1))sin(1) + 128cos(1)  - 160cos(1) ) |------"]
}
,
{
"cell_type" : "markdown",
"metadata" : {},
"source" : ["                                                                    \|cos(1)"]
}
,
{
"cell_type" : "markdown",
"metadata" : {},
"source" : ["       +"]
}
,
{
"cell_type" : "markdown",
"metadata" : {},
"source" : ["                                    4            2      +-+"]
}
,
{
"cell_type" : "markdown",
"metadata" : {},
"source" : ["         (64cos(1)sin(1) - 128cos(1)  + 128cos(1)  + 4)\|2"]
}
,
{
"cell_type" : "markdown",
"metadata" : {},
"source" : ["    *"]
}
,
{
"cell_type" : "markdown",
"metadata" : {},
"source" : ["                          +------+"]
}
,
{
"cell_type" : "markdown",
"metadata" : {},
"source" : ["                          |sin(1)                              2      +-+"]
}
,
{
"cell_type" : "markdown",
"metadata" : {},
"source" : ["            4cos(1)sin(1) |------  + (- 2cos(1)sin(1) + 2cos(1)  - 1)\|2"]
}
,
{
"cell_type" : "markdown",
"metadata" : {},
"source" : ["                         \|cos(1)"]
}
,
{
"cell_type" : "markdown",
"metadata" : {},
"source" : ["       atan(-------------------------------------------------------------)"]
}
,
{
"cell_type" : "markdown",
"metadata" : {},
"source" : ["                        +------+"]
}
,
{
"cell_type" : "markdown",
"metadata" : {},
"source" : ["                      2 |sin(1)                              2      +-+"]
}
,
{
"cell_type" : "markdown",
"metadata" : {},
"source" : ["               4cos(1)  |------  + (- 2cos(1)sin(1) - 2cos(1)  + 1)\|2"]
}
,
{
"cell_type" : "markdown",
"metadata" : {},
"source" : ["                       \|cos(1)"]
}
,
{
"cell_type" : "markdown",
"metadata" : {},
"source" : ["   +"]
}
,
{
"cell_type" : "markdown",
"metadata" : {},
"source" : ["                                                                     +------+"]
}
,
{
"cell_type" : "markdown",
"metadata" : {},
"source" : ["                      3                              4            2  |sin(1)"]
}
,
{
"cell_type" : "markdown",
"metadata" : {},
"source" : ["         ((- 128cos(1)  - 32cos(1))sin(1) + 128cos(1)  - 160cos(1) ) |------"]
}
,
{
"cell_type" : "markdown",
"metadata" : {},
"source" : ["                                                                    \|cos(1)"]
}
,
{
"cell_type" : "markdown",
"metadata" : {},
"source" : ["       +"]
}
,
{
"cell_type" : "markdown",
"metadata" : {},
"source" : ["                                    4            2      +-+"]
}
,
{
"cell_type" : "markdown",
"metadata" : {},
"source" : ["         (64cos(1)sin(1) - 128cos(1)  + 128cos(1)  + 4)\|2"]
}
,
{
"cell_type" : "markdown",
"metadata" : {},
"source" : ["    *"]
}
,
{
"cell_type" : "markdown",
"metadata" : {},
"source" : ["                          +------+"]
}
,
{
"cell_type" : "markdown",
"metadata" : {},
"source" : ["                          |sin(1)                            2  +-+"]
}
,
{
"cell_type" : "markdown",
"metadata" : {},
"source" : ["            2cos(1)sin(1) |------  + (- cos(1)sin(1) + cos(1) )\|2"]
}
,
{
"cell_type" : "markdown",
"metadata" : {},
"source" : ["                         \|cos(1)"]
}
,
{
"cell_type" : "markdown",
"metadata" : {},
"source" : ["       atan(-------------------------------------------------------)"]
}
,
{
"cell_type" : "markdown",
"metadata" : {},
"source" : ["                      +------+"]
}
,
{
"cell_type" : "markdown",
"metadata" : {},
"source" : ["                    2 |sin(1)                            2      +-+"]
}
,
{
"cell_type" : "markdown",
"metadata" : {},
"source" : ["             2cos(1)  |------  + (- cos(1)sin(1) - cos(1)  + 1)\|2"]
}
,
{
"cell_type" : "markdown",
"metadata" : {},
"source" : ["                     \|cos(1)"]
}
,
{
"cell_type" : "markdown",
"metadata" : {},
"source" : ["   +"]
}
,
{
"cell_type" : "markdown",
"metadata" : {},
"source" : ["                     3                                       3"]
}
,
{
"cell_type" : "markdown",
"metadata" : {},
"source" : ["           ((32cos(1)  + 8cos(1))log(4) + (32%pi + 512)cos(1)  + 8%pi cos(1))"]
}
,
{
"cell_type" : "markdown",
"metadata" : {},
"source" : ["        *"]
}
,
{
"cell_type" : "markdown",
"metadata" : {},
"source" : ["           sin(1)"]
}
,
{
"cell_type" : "markdown",
"metadata" : {},
"source" : ["       +"]
}
,
{
"cell_type" : "markdown",
"metadata" : {},
"source" : ["                    4           2                    6"]
}
,
{
"cell_type" : "markdown",
"metadata" : {},
"source" : ["         (- 32cos(1)  + 40cos(1) )log(4) - 1024cos(1)"]
}
,
{
"cell_type" : "markdown",
"metadata" : {},
"source" : ["       +"]
}
,
{
"cell_type" : "markdown",
"metadata" : {},
"source" : ["                               4                     2"]
}
,
{
"cell_type" : "markdown",
"metadata" : {},
"source" : ["         (- 32%pi + 1024)cos(1)  + (40%pi + 32)cos(1)"]
}
,
{
"cell_type" : "markdown",
"metadata" : {},
"source" : ["    *"]
}
,
{
"cell_type" : "markdown",
"metadata" : {},
"source" : ["        +------+"]
}
,
{
"cell_type" : "markdown",
"metadata" : {},
"source" : ["        |sin(1)"]
}
,
{
"cell_type" : "markdown",
"metadata" : {},
"source" : ["        |------"]
}
,
{
"cell_type" : "markdown",
"metadata" : {},
"source" : ["       \|cos(1)"]
}
,
{
"cell_type" : "markdown",
"metadata" : {},
"source" : ["   +"]
}
,
{
"cell_type" : "markdown",
"metadata" : {},
"source" : ["                                      5            3"]
}
,
{
"cell_type" : "markdown",
"metadata" : {},
"source" : ["         (- 16cos(1)log(4) + 512cos(1)  - 640cos(1)  - 16%pi cos(1))sin(1)"]
}
,
{
"cell_type" : "markdown",
"metadata" : {},
"source" : ["       +"]
}
,
{
"cell_type" : "markdown",
"metadata" : {},
"source" : ["                 4           2                       6                      4"]
}
,
{
"cell_type" : "markdown",
"metadata" : {},
"source" : ["        (32cos(1)  - 32cos(1)  - 1)log(4) + 512cos(1)  + (32%pi - 384)cos(1)"]
}
,
{
"cell_type" : "markdown",
"metadata" : {},
"source" : ["       +"]
}
,
{
"cell_type" : "markdown",
"metadata" : {},
"source" : ["                              2"]
}
,
{
"cell_type" : "markdown",
"metadata" : {},
"source" : ["         (- 32%pi - 128)cos(1)  - %pi"]
}
,
{
"cell_type" : "markdown",
"metadata" : {},
"source" : ["    *"]
}
,
{
"cell_type" : "markdown",
"metadata" : {},
"source" : ["        +-+"]
}
,
{
"cell_type" : "markdown",
"metadata" : {},
"source" : ["       \|2"]
}
,
{
"cell_type" : "markdown",
"metadata" : {},
"source" : [" /"]
}
,
{
"cell_type" : "markdown",
"metadata" : {},
"source" : ["                   3                                4             2  +-+"]
}
,
{
"cell_type" : "markdown",
"metadata" : {},
"source" : ["       ((1024cos(1)  + 256cos(1))sin(1) - 1024cos(1)  + 1280cos(1) )\|2"]
}
,
{
"cell_type" : "markdown",
"metadata" : {},
"source" : ["    *"]
}
,
{
"cell_type" : "markdown",
"metadata" : {},
"source" : ["        +------+"]
}
,
{
"cell_type" : "markdown",
"metadata" : {},
"source" : ["        |sin(1)"]
}
,
{
"cell_type" : "markdown",
"metadata" : {},
"source" : ["        |------"]
}
,
{
"cell_type" : "markdown",
"metadata" : {},
"source" : ["       \|cos(1)"]
}
,
{
"cell_type" : "markdown",
"metadata" : {},
"source" : ["   +"]
}
,
{
"cell_type" : "markdown",
"metadata" : {},
"source" : ["                                    4             2"]
}
,
{
"cell_type" : "markdown",
"metadata" : {},
"source" : ["     - 1024cos(1)sin(1) + 2048cos(1)  - 2048cos(1)  - 64"]
}
,
{
"cell_type" : "markdown",
"metadata" : {},
"source" : ["                  Type: Union(f1: OrderedCompletion Expression Integer,...)"]
}
,
{
"cell_type" : "markdown",
"metadata" : {},
"source" : [""]
}
,
{
"cell_type" : "code",
"execution_count": null,
"metadata" : {
    "collapsed" : false
},
"source" : ["in1193a:=integrate(-sin(z)^2*cot(z-1), z= 0..1,\"noPole\")"],
"outputs": []
}
,
{
"cell_type" : "markdown",
"metadata" : {},
"source" : [""]
}
,
{
"cell_type" : "markdown",
"metadata" : {},
"source" : ["     + infinity"]
}
,
{
"cell_type" : "markdown",
"metadata" : {},
"source" : ["                    Type: Union(f1: OrderedCompletion Expression Integer,...)"]
}
,
{
"cell_type" : "markdown",
"metadata" : {},
"source" : ["----------------------------------------------------"]
}
,
{
"cell_type" : "code",
"execution_count": null,
"metadata" : {
    "collapsed" : false
},
"source" : ["in1207:=integrate(sin(z)*cos(z)*tan(z)^(1/2), z= 0..1)"],
"outputs": []
}
,
{
"cell_type" : "markdown",
"metadata" : {},
"source" : [""]
}
,
{
"cell_type" : "markdown",
"metadata" : {},
"source" : ["   potentialPole"]
}
,
{
"cell_type" : "markdown",
"metadata" : {},
"source" : [""]
}
,
{
"cell_type" : "code",
"execution_count": null,
"metadata" : {
    "collapsed" : false
},
"source" : ["in1207a:=integrate(sin(z)*cos(z)*tan(z)^(1/2), z= 0..1,\"noPole\")"],
"outputs": []
}
,
{
"cell_type" : "markdown",
"metadata" : {},
"source" : [""]
}
,
{
"cell_type" : "markdown",
"metadata" : {},
"source" : ["                                                                 +------+"]
}
,
{
"cell_type" : "markdown",
"metadata" : {},
"source" : ["                     3                            4           2  |sin(1)"]
}
,
{
"cell_type" : "markdown",
"metadata" : {},
"source" : ["         ((- 32cos(1)  - 8cos(1))sin(1) + 32cos(1)  - 40cos(1) ) |------"]
}
,
{
"cell_type" : "markdown",
"metadata" : {},
"source" : ["                                                                \|cos(1)"]
}
,
{
"cell_type" : "markdown",
"metadata" : {},
"source" : ["       +"]
}
,
{
"cell_type" : "markdown",
"metadata" : {},
"source" : ["                                   4           2      +-+"]
}
,
{
"cell_type" : "markdown",
"metadata" : {},
"source" : ["         (16cos(1)sin(1) - 32cos(1)  + 32cos(1)  + 1)\|2"]
}
,
{
"cell_type" : "markdown",
"metadata" : {},
"source" : ["    *"]
}
,
{
"cell_type" : "markdown",
"metadata" : {},
"source" : ["       log"]
}
,
{
"cell_type" : "markdown",
"metadata" : {},
"source" : ["                         2      2              3                           2"]
}
,
{
"cell_type" : "markdown",
"metadata" : {},
"source" : ["              (- 16cos(1) sin(1)  + (- 16cos(1)  - 4cos(1))sin(1) - 4cos(1) )"]
}
,
{
"cell_type" : "markdown",
"metadata" : {},
"source" : ["           *"]
}
,
{
"cell_type" : "markdown",
"metadata" : {},
"source" : ["                   +------+"]
}
,
{
"cell_type" : "markdown",
"metadata" : {},
"source" : ["               +-+ |sin(1)"]
}
,
{
"cell_type" : "markdown",
"metadata" : {},
"source" : ["              \|2  |------"]
}
,
{
"cell_type" : "markdown",
"metadata" : {},
"source" : ["                  \|cos(1)"]
}
,
{
"cell_type" : "markdown",
"metadata" : {},
"source" : ["          +"]
}
,
{
"cell_type" : "markdown",
"metadata" : {},
"source" : ["                       3           2      2           3"]
}
,
{
"cell_type" : "markdown",
"metadata" : {},
"source" : ["          8cos(1)sin(1)  + 32cos(1) sin(1)  + (8cos(1)  + 8cos(1))sin(1) + 1"]
}
,
{
"cell_type" : "markdown",
"metadata" : {},
"source" : ["   +"]
}
,
{
"cell_type" : "markdown",
"metadata" : {},
"source" : ["                                                                 +------+"]
}
,
{
"cell_type" : "markdown",
"metadata" : {},
"source" : ["                     3                            4           2  |sin(1)"]
}
,
{
"cell_type" : "markdown",
"metadata" : {},
"source" : ["         ((- 32cos(1)  - 8cos(1))sin(1) + 32cos(1)  - 40cos(1) ) |------"]
}
,
{
"cell_type" : "markdown",
"metadata" : {},
"source" : ["                                                                \|cos(1)"]
}
,
{
"cell_type" : "markdown",
"metadata" : {},
"source" : ["       +"]
}
,
{
"cell_type" : "markdown",
"metadata" : {},
"source" : ["                                   4           2      +-+"]
}
,
{
"cell_type" : "markdown",
"metadata" : {},
"source" : ["         (16cos(1)sin(1) - 32cos(1)  + 32cos(1)  + 1)\|2"]
}
,
{
"cell_type" : "markdown",
"metadata" : {},
"source" : ["    *"]
}
,
{
"cell_type" : "markdown",
"metadata" : {},
"source" : ["       log"]
}
,
{
"cell_type" : "markdown",
"metadata" : {},
"source" : ["                            2      2              3"]
}
,
{
"cell_type" : "markdown",
"metadata" : {},
"source" : ["                  - 64cos(1) sin(1)  + (- 64cos(1)  - 16cos(1))sin(1)"]
}
,
{
"cell_type" : "markdown",
"metadata" : {},
"source" : ["                +"]
}
,
{
"cell_type" : "markdown",
"metadata" : {},
"source" : ["                            2"]
}
,
{
"cell_type" : "markdown",
"metadata" : {},
"source" : ["                  - 16cos(1)"]
}
,
{
"cell_type" : "markdown",
"metadata" : {},
"source" : ["           *"]
}
,
{
"cell_type" : "markdown",
"metadata" : {},
"source" : ["                   +------+"]
}
,
{
"cell_type" : "markdown",
"metadata" : {},
"source" : ["               +-+ |sin(1)"]
}
,
{
"cell_type" : "markdown",
"metadata" : {},
"source" : ["              \|2  |------"]
}
,
{
"cell_type" : "markdown",
"metadata" : {},
"source" : ["                  \|cos(1)"]
}
,
{
"cell_type" : "markdown",
"metadata" : {},
"source" : ["          +"]
}
,
{
"cell_type" : "markdown",
"metadata" : {},
"source" : ["                         3            2      2            3"]
}
,
{
"cell_type" : "markdown",
"metadata" : {},
"source" : ["           32cos(1)sin(1)  + 128cos(1) sin(1)  + (32cos(1)  + 32cos(1))sin(1)"]
}
,
{
"cell_type" : "markdown",
"metadata" : {},
"source" : ["          +"]
}
,
{
"cell_type" : "markdown",
"metadata" : {},
"source" : ["            4"]
}
,
{
"cell_type" : "markdown",
"metadata" : {},
"source" : ["   +"]
}
,
{
"cell_type" : "markdown",
"metadata" : {},
"source" : ["                                                                   +------+"]
}
,
{
"cell_type" : "markdown",
"metadata" : {},
"source" : ["                    3                              4            2  |sin(1)"]
}
,
{
"cell_type" : "markdown",
"metadata" : {},
"source" : ["         ((128cos(1)  + 32cos(1))sin(1) - 128cos(1)  + 160cos(1) ) |------"]
}
,
{
"cell_type" : "markdown",
"metadata" : {},
"source" : ["                                                                  \|cos(1)"]
}
,
{
"cell_type" : "markdown",
"metadata" : {},
"source" : ["       +"]
}
,
{
"cell_type" : "markdown",
"metadata" : {},
"source" : ["                                      4            2      +-+"]
}
,
{
"cell_type" : "markdown",
"metadata" : {},
"source" : ["         (- 64cos(1)sin(1) + 128cos(1)  - 128cos(1)  - 4)\|2"]
}
,
{
"cell_type" : "markdown",
"metadata" : {},
"source" : ["    *"]
}
,
{
"cell_type" : "markdown",
"metadata" : {},
"source" : ["                          +------+"]
}
,
{
"cell_type" : "markdown",
"metadata" : {},
"source" : ["                          |sin(1)                            2      +-+"]
}
,
{
"cell_type" : "markdown",
"metadata" : {},
"source" : ["            2cos(1)sin(1) |------  + (- cos(1)sin(1) + cos(1)  - 1)\|2"]
}
,
{
"cell_type" : "markdown",
"metadata" : {},
"source" : ["                         \|cos(1)"]
}
,
{
"cell_type" : "markdown",
"metadata" : {},
"source" : ["       atan(-----------------------------------------------------------)"]
}
,
{
"cell_type" : "markdown",
"metadata" : {},
"source" : ["                          +------+"]
}
,
{
"cell_type" : "markdown",
"metadata" : {},
"source" : ["                        2 |sin(1)                            2  +-+"]
}
,
{
"cell_type" : "markdown",
"metadata" : {},
"source" : ["                 2cos(1)  |------  + (- cos(1)sin(1) - cos(1) )\|2"]
}
,
{
"cell_type" : "markdown",
"metadata" : {},
"source" : ["                         \|cos(1)"]
}
,
{
"cell_type" : "markdown",
"metadata" : {},
"source" : ["   +"]
}
,
{
"cell_type" : "markdown",
"metadata" : {},
"source" : ["                                                                     +------+"]
}
,
{
"cell_type" : "markdown",
"metadata" : {},
"source" : ["                      3                              4            2  |sin(1)"]
}
,
{
"cell_type" : "markdown",
"metadata" : {},
"source" : ["         ((- 128cos(1)  - 32cos(1))sin(1) + 128cos(1)  - 160cos(1) ) |------"]
}
,
{
"cell_type" : "markdown",
"metadata" : {},
"source" : ["                                                                    \|cos(1)"]
}
,
{
"cell_type" : "markdown",
"metadata" : {},
"source" : ["       +"]
}
,
{
"cell_type" : "markdown",
"metadata" : {},
"source" : ["                                    4            2      +-+"]
}
,
{
"cell_type" : "markdown",
"metadata" : {},
"source" : ["         (64cos(1)sin(1) - 128cos(1)  + 128cos(1)  + 4)\|2"]
}
,
{
"cell_type" : "markdown",
"metadata" : {},
"source" : ["    *"]
}
,
{
"cell_type" : "markdown",
"metadata" : {},
"source" : ["                          +------+"]
}
,
{
"cell_type" : "markdown",
"metadata" : {},
"source" : ["                          |sin(1)                              2      +-+"]
}
,
{
"cell_type" : "markdown",
"metadata" : {},
"source" : ["            4cos(1)sin(1) |------  + (- 2cos(1)sin(1) + 2cos(1)  - 1)\|2"]
}
,
{
"cell_type" : "markdown",
"metadata" : {},
"source" : ["                         \|cos(1)"]
}
,
{
"cell_type" : "markdown",
"metadata" : {},
"source" : ["       atan(-------------------------------------------------------------)"]
}
,
{
"cell_type" : "markdown",
"metadata" : {},
"source" : ["                        +------+"]
}
,
{
"cell_type" : "markdown",
"metadata" : {},
"source" : ["                      2 |sin(1)                              2      +-+"]
}
,
{
"cell_type" : "markdown",
"metadata" : {},
"source" : ["               4cos(1)  |------  + (- 2cos(1)sin(1) - 2cos(1)  + 1)\|2"]
}
,
{
"cell_type" : "markdown",
"metadata" : {},
"source" : ["                       \|cos(1)"]
}
,
{
"cell_type" : "markdown",
"metadata" : {},
"source" : ["   +"]
}
,
{
"cell_type" : "markdown",
"metadata" : {},
"source" : ["                                                                     +------+"]
}
,
{
"cell_type" : "markdown",
"metadata" : {},
"source" : ["                      3                              4            2  |sin(1)"]
}
,
{
"cell_type" : "markdown",
"metadata" : {},
"source" : ["         ((- 128cos(1)  - 32cos(1))sin(1) + 128cos(1)  - 160cos(1) ) |------"]
}
,
{
"cell_type" : "markdown",
"metadata" : {},
"source" : ["                                                                    \|cos(1)"]
}
,
{
"cell_type" : "markdown",
"metadata" : {},
"source" : ["       +"]
}
,
{
"cell_type" : "markdown",
"metadata" : {},
"source" : ["                                    4            2      +-+"]
}
,
{
"cell_type" : "markdown",
"metadata" : {},
"source" : ["         (64cos(1)sin(1) - 128cos(1)  + 128cos(1)  + 4)\|2"]
}
,
{
"cell_type" : "markdown",
"metadata" : {},
"source" : ["    *"]
}
,
{
"cell_type" : "markdown",
"metadata" : {},
"source" : ["                          +------+"]
}
,
{
"cell_type" : "markdown",
"metadata" : {},
"source" : ["                          |sin(1)                            2  +-+"]
}
,
{
"cell_type" : "markdown",
"metadata" : {},
"source" : ["            2cos(1)sin(1) |------  + (- cos(1)sin(1) + cos(1) )\|2"]
}
,
{
"cell_type" : "markdown",
"metadata" : {},
"source" : ["                         \|cos(1)"]
}
,
{
"cell_type" : "markdown",
"metadata" : {},
"source" : ["       atan(-------------------------------------------------------)"]
}
,
{
"cell_type" : "markdown",
"metadata" : {},
"source" : ["                      +------+"]
}
,
{
"cell_type" : "markdown",
"metadata" : {},
"source" : ["                    2 |sin(1)                            2      +-+"]
}
,
{
"cell_type" : "markdown",
"metadata" : {},
"source" : ["             2cos(1)  |------  + (- cos(1)sin(1) - cos(1)  + 1)\|2"]
}
,
{
"cell_type" : "markdown",
"metadata" : {},
"source" : ["                     \|cos(1)"]
}
,
{
"cell_type" : "markdown",
"metadata" : {},
"source" : ["   +"]
}
,
{
"cell_type" : "markdown",
"metadata" : {},
"source" : ["                     3                                       3"]
}
,
{
"cell_type" : "markdown",
"metadata" : {},
"source" : ["           ((32cos(1)  + 8cos(1))log(4) + (32%pi + 512)cos(1)  + 8%pi cos(1))"]
}
,
{
"cell_type" : "markdown",
"metadata" : {},
"source" : ["        *"]
}
,
{
"cell_type" : "markdown",
"metadata" : {},
"source" : ["           sin(1)"]
}
,
{
"cell_type" : "markdown",
"metadata" : {},
"source" : ["       +"]
}
,
{
"cell_type" : "markdown",
"metadata" : {},
"source" : ["                    4           2                    6"]
}
,
{
"cell_type" : "markdown",
"metadata" : {},
"source" : ["         (- 32cos(1)  + 40cos(1) )log(4) - 1024cos(1)"]
}
,
{
"cell_type" : "markdown",
"metadata" : {},
"source" : ["       +"]
}
,
{
"cell_type" : "markdown",
"metadata" : {},
"source" : ["                               4                     2"]
}
,
{
"cell_type" : "markdown",
"metadata" : {},
"source" : ["         (- 32%pi + 1024)cos(1)  + (40%pi + 32)cos(1)"]
}
,
{
"cell_type" : "markdown",
"metadata" : {},
"source" : ["    *"]
}
,
{
"cell_type" : "markdown",
"metadata" : {},
"source" : ["        +------+"]
}
,
{
"cell_type" : "markdown",
"metadata" : {},
"source" : ["        |sin(1)"]
}
,
{
"cell_type" : "markdown",
"metadata" : {},
"source" : ["        |------"]
}
,
{
"cell_type" : "markdown",
"metadata" : {},
"source" : ["       \|cos(1)"]
}
,
{
"cell_type" : "markdown",
"metadata" : {},
"source" : ["   +"]
}
,
{
"cell_type" : "markdown",
"metadata" : {},
"source" : ["                                      5            3"]
}
,
{
"cell_type" : "markdown",
"metadata" : {},
"source" : ["         (- 16cos(1)log(4) + 512cos(1)  - 640cos(1)  - 16%pi cos(1))sin(1)"]
}
,
{
"cell_type" : "markdown",
"metadata" : {},
"source" : ["       +"]
}
,
{
"cell_type" : "markdown",
"metadata" : {},
"source" : ["                 4           2                       6                      4"]
}
,
{
"cell_type" : "markdown",
"metadata" : {},
"source" : ["        (32cos(1)  - 32cos(1)  - 1)log(4) + 512cos(1)  + (32%pi - 384)cos(1)"]
}
,
{
"cell_type" : "markdown",
"metadata" : {},
"source" : ["       +"]
}
,
{
"cell_type" : "markdown",
"metadata" : {},
"source" : ["                              2"]
}
,
{
"cell_type" : "markdown",
"metadata" : {},
"source" : ["         (- 32%pi - 128)cos(1)  - %pi"]
}
,
{
"cell_type" : "markdown",
"metadata" : {},
"source" : ["    *"]
}
,
{
"cell_type" : "markdown",
"metadata" : {},
"source" : ["        +-+"]
}
,
{
"cell_type" : "markdown",
"metadata" : {},
"source" : ["       \|2"]
}
,
{
"cell_type" : "markdown",
"metadata" : {},
"source" : [" /"]
}
,
{
"cell_type" : "markdown",
"metadata" : {},
"source" : ["                   3                                4             2  +-+"]
}
,
{
"cell_type" : "markdown",
"metadata" : {},
"source" : ["       ((1024cos(1)  + 256cos(1))sin(1) - 1024cos(1)  + 1280cos(1) )\|2"]
}
,
{
"cell_type" : "markdown",
"metadata" : {},
"source" : ["    *"]
}
,
{
"cell_type" : "markdown",
"metadata" : {},
"source" : ["        +------+"]
}
,
{
"cell_type" : "markdown",
"metadata" : {},
"source" : ["        |sin(1)"]
}
,
{
"cell_type" : "markdown",
"metadata" : {},
"source" : ["        |------"]
}
,
{
"cell_type" : "markdown",
"metadata" : {},
"source" : ["       \|cos(1)"]
}
,
{
"cell_type" : "markdown",
"metadata" : {},
"source" : ["   +"]
}
,
{
"cell_type" : "markdown",
"metadata" : {},
"source" : ["                                    4             2"]
}
,
{
"cell_type" : "markdown",
"metadata" : {},
"source" : ["     - 1024cos(1)sin(1) + 2048cos(1)  - 2048cos(1)  - 64"]
}
,
{
"cell_type" : "markdown",
"metadata" : {},
"source" : ["                  Type: Union(f1: OrderedCompletion Expression Integer,...)"]
}
,
{
"cell_type" : "code",
"execution_count": null,
"metadata" : {
    "collapsed" : false
},
"source" : ["in1210a:=integrate(-sin(z)*cos(z)*cot(z-1), z= 0..1,\"noPole\")"],
"outputs": []
}
,
{
"cell_type" : "markdown",
"metadata" : {},
"source" : [""]
}
,
{
"cell_type" : "markdown",
"metadata" : {},
"source" : ["     + infinity"]
}
,
{
"cell_type" : "markdown",
"metadata" : {},
"source" : ["                    Type: Union(f1: OrderedCompletion Expression Integer,...)"]
}
,
{
"cell_type" : "code",
"execution_count": null,
"metadata" : {
    "collapsed" : false
},
"source" : ["in1214a:=integrate(-sin(z)*tan(z)*csc(z-1), z= 0..1,\"noPole\")"],
"outputs": []
}
,
{
"cell_type" : "markdown",
"metadata" : {},
"source" : [""]
}
,
{
"cell_type" : "markdown",
"metadata" : {},
"source" : ["              1 2    1 2"]
}
,
{
"cell_type" : "markdown",
"metadata" : {},
"source" : ["         4cos(-) sin(-)"]
}
,
{
"cell_type" : "markdown",
"metadata" : {},
"source" : ["              2      2"]
}
,
{
"cell_type" : "markdown",
"metadata" : {},
"source" : ["      *"]
}
,
{
"cell_type" : "markdown",
"metadata" : {},
"source" : ["         log"]
}
,
{
"cell_type" : "markdown",
"metadata" : {},
"source" : ["                     1 4        1 2    1 2       1 4       2"]
}
,
{
"cell_type" : "markdown",
"metadata" : {},
"source" : ["                (sin(-)  - 2cos(-) sin(-)  + cos(-) )sin(1)"]
}
,
{
"cell_type" : "markdown",
"metadata" : {},
"source" : ["                     2          2      2         2"]
}
,
{
"cell_type" : "markdown",
"metadata" : {},
"source" : ["              +"]
}
,
{
"cell_type" : "markdown",
"metadata" : {},
"source" : ["                      1           1 3        1 3          1"]
}
,
{
"cell_type" : "markdown",
"metadata" : {},
"source" : ["                (4cos(-)cos(1)sin(-)  - 4cos(-) cos(1)sin(-))sin(1)"]
}
,
{
"cell_type" : "markdown",
"metadata" : {},
"source" : ["                      2           2          2            2"]
}
,
{
"cell_type" : "markdown",
"metadata" : {},
"source" : ["              +"]
}
,
{
"cell_type" : "markdown",
"metadata" : {},
"source" : ["                     1 2      2    1 2"]
}
,
{
"cell_type" : "markdown",
"metadata" : {},
"source" : ["                4cos(-) cos(1) sin(-)"]
}
,
{
"cell_type" : "markdown",
"metadata" : {},
"source" : ["                     2             2"]
}
,
{
"cell_type" : "markdown",
"metadata" : {},
"source" : ["           /"]
}
,
{
"cell_type" : "markdown",
"metadata" : {},
"source" : ["                  1 4      2        1 4             1 4"]
}
,
{
"cell_type" : "markdown",
"metadata" : {},
"source" : ["              cos(-) cos(1)  + 2cos(-) cos(1) + cos(-)"]
}
,
{
"cell_type" : "markdown",
"metadata" : {},
"source" : ["                  2                 2               2"]
}
,
{
"cell_type" : "markdown",
"metadata" : {},
"source" : ["     +"]
}
,
{
"cell_type" : "markdown",
"metadata" : {},
"source" : ["                                1 2"]
}
,
{
"cell_type" : "markdown",
"metadata" : {},
"source" : ["                            sin(-)"]
}
,
{
"cell_type" : "markdown",
"metadata" : {},
"source" : ["              1 2    1 2        2"]
}
,
{
"cell_type" : "markdown",
"metadata" : {},
"source" : ["       - 4cos(-) sin(-) log(-------)"]
}
,
{
"cell_type" : "markdown",
"metadata" : {},
"source" : ["              2      2          1 2"]
}
,
{
"cell_type" : "markdown",
"metadata" : {},
"source" : ["                            cos(-)"]
}
,
{
"cell_type" : "markdown",
"metadata" : {},
"source" : ["                                2"]
}
,
{
"cell_type" : "markdown",
"metadata" : {},
"source" : ["     +"]
}
,
{
"cell_type" : "markdown",
"metadata" : {},
"source" : ["                                                                2"]
}
,
{
"cell_type" : "markdown",
"metadata" : {},
"source" : ["              1 4        1 2    1 2       1 4            4cos(1)"]
}
,
{
"cell_type" : "markdown",
"metadata" : {},
"source" : ["       (- sin(-)  - 2cos(-) sin(-)  - cos(-) )log(---------------------)"]
}
,
{
"cell_type" : "markdown",
"metadata" : {},
"source" : ["              2          2      2         2             2"]
}
,
{
"cell_type" : "markdown",
"metadata" : {},
"source" : ["                                                  cos(1)  + 2cos(1) + 1"]
}
,
{
"cell_type" : "markdown",
"metadata" : {},
"source" : ["     +"]
}
,
{
"cell_type" : "markdown",
"metadata" : {},
"source" : ["            1 4        1 2    1 2       1 4               4"]
}
,
{
"cell_type" : "markdown",
"metadata" : {},
"source" : ["       (sin(-)  - 2cos(-) sin(-)  + cos(-) )log(---------------------)"]
}
,
{
"cell_type" : "markdown",
"metadata" : {},
"source" : ["            2          2      2         2             2"]
}
,
{
"cell_type" : "markdown",
"metadata" : {},
"source" : ["                                                cos(1)  + 2cos(1) + 1"]
}
,
{
"cell_type" : "markdown",
"metadata" : {},
"source" : ["     +"]
}
,
{
"cell_type" : "markdown",
"metadata" : {},
"source" : ["              1     1 3        1 3    1"]
}
,
{
"cell_type" : "markdown",
"metadata" : {},
"source" : ["       - 4cos(-)sin(-)  + 4cos(-) sin(-)"]
}
,
{
"cell_type" : "markdown",
"metadata" : {},
"source" : ["              2     2          2      2"]
}
,
{
"cell_type" : "markdown",
"metadata" : {},
"source" : ["  /"]
}
,
{
"cell_type" : "markdown",
"metadata" : {},
"source" : ["          1 4        1 4"]
}
,
{
"cell_type" : "markdown",
"metadata" : {},
"source" : ["     2sin(-)  - 2cos(-)"]
}
,
{
"cell_type" : "markdown",
"metadata" : {},
"source" : ["          2          2"]
}
,
{
"cell_type" : "markdown",
"metadata" : {},
"source" : ["                    Type: Union(f1: OrderedCompletion Expression Integer,...)"]
}
,
{
"cell_type" : "code",
"execution_count": null,
"metadata" : {
    "collapsed" : false
},
"source" : ["in1217a:=integrate(sin(z)*sec(z)*tan(z)^(1/2), z= 0..1,\"noPole\")"],
"outputs": []
}
,
{
"cell_type" : "markdown",
"metadata" : {},
"source" : [""]
}
,
{
"cell_type" : "markdown",
"metadata" : {},
"source" : ["                +------+"]
}
,
{
"cell_type" : "markdown",
"metadata" : {},
"source" : ["                |sin(1)                        +-+"]
}
,
{
"cell_type" : "markdown",
"metadata" : {},
"source" : ["       (2cos(1) |------  + (- sin(1) - cos(1))\|2 )"]
}
,
{
"cell_type" : "markdown",
"metadata" : {},
"source" : ["               \|cos(1)"]
}
,
{
"cell_type" : "markdown",
"metadata" : {},
"source" : ["    *"]
}
,
{
"cell_type" : "markdown",
"metadata" : {},
"source" : ["       log"]
}
,
{
"cell_type" : "markdown",
"metadata" : {},
"source" : ["                         2      2              3                           2"]
}
,
{
"cell_type" : "markdown",
"metadata" : {},
"source" : ["              (- 16cos(1) sin(1)  + (- 16cos(1)  - 4cos(1))sin(1) - 4cos(1) )"]
}
,
{
"cell_type" : "markdown",
"metadata" : {},
"source" : ["           *"]
}
,
{
"cell_type" : "markdown",
"metadata" : {},
"source" : ["                   +------+"]
}
,
{
"cell_type" : "markdown",
"metadata" : {},
"source" : ["               +-+ |sin(1)"]
}
,
{
"cell_type" : "markdown",
"metadata" : {},
"source" : ["              \|2  |------"]
}
,
{
"cell_type" : "markdown",
"metadata" : {},
"source" : ["                  \|cos(1)"]
}
,
{
"cell_type" : "markdown",
"metadata" : {},
"source" : ["          +"]
}
,
{
"cell_type" : "markdown",
"metadata" : {},
"source" : ["                       3           2      2           3"]
}
,
{
"cell_type" : "markdown",
"metadata" : {},
"source" : ["          8cos(1)sin(1)  + 32cos(1) sin(1)  + (8cos(1)  + 8cos(1))sin(1) + 1"]
}
,
{
"cell_type" : "markdown",
"metadata" : {},
"source" : ["   +"]
}
,
{
"cell_type" : "markdown",
"metadata" : {},
"source" : ["                +------+"]
}
,
{
"cell_type" : "markdown",
"metadata" : {},
"source" : ["                |sin(1)                        +-+"]
}
,
{
"cell_type" : "markdown",
"metadata" : {},
"source" : ["       (2cos(1) |------  + (- sin(1) - cos(1))\|2 )"]
}
,
{
"cell_type" : "markdown",
"metadata" : {},
"source" : ["               \|cos(1)"]
}
,
{
"cell_type" : "markdown",
"metadata" : {},
"source" : ["    *"]
}
,
{
"cell_type" : "markdown",
"metadata" : {},
"source" : ["       log"]
}
,
{
"cell_type" : "markdown",
"metadata" : {},
"source" : ["                            2      2              3"]
}
,
{
"cell_type" : "markdown",
"metadata" : {},
"source" : ["                  - 64cos(1) sin(1)  + (- 64cos(1)  - 16cos(1))sin(1)"]
}
,
{
"cell_type" : "markdown",
"metadata" : {},
"source" : ["                +"]
}
,
{
"cell_type" : "markdown",
"metadata" : {},
"source" : ["                            2"]
}
,
{
"cell_type" : "markdown",
"metadata" : {},
"source" : ["                  - 16cos(1)"]
}
,
{
"cell_type" : "markdown",
"metadata" : {},
"source" : ["           *"]
}
,
{
"cell_type" : "markdown",
"metadata" : {},
"source" : ["                   +------+"]
}
,
{
"cell_type" : "markdown",
"metadata" : {},
"source" : ["               +-+ |sin(1)"]
}
,
{
"cell_type" : "markdown",
"metadata" : {},
"source" : ["              \|2  |------"]
}
,
{
"cell_type" : "markdown",
"metadata" : {},
"source" : ["                  \|cos(1)"]
}
,
{
"cell_type" : "markdown",
"metadata" : {},
"source" : ["          +"]
}
,
{
"cell_type" : "markdown",
"metadata" : {},
"source" : ["                         3            2      2            3"]
}
,
{
"cell_type" : "markdown",
"metadata" : {},
"source" : ["           32cos(1)sin(1)  + 128cos(1) sin(1)  + (32cos(1)  + 32cos(1))sin(1)"]
}
,
{
"cell_type" : "markdown",
"metadata" : {},
"source" : ["          +"]
}
,
{
"cell_type" : "markdown",
"metadata" : {},
"source" : ["            4"]
}
,
{
"cell_type" : "markdown",
"metadata" : {},
"source" : ["   +"]
}
,
{
"cell_type" : "markdown",
"metadata" : {},
"source" : ["                  +------+"]
}
,
{
"cell_type" : "markdown",
"metadata" : {},
"source" : ["                  |sin(1)                        +-+"]
}
,
{
"cell_type" : "markdown",
"metadata" : {},
"source" : ["       (- 8cos(1) |------  + (4sin(1) + 4cos(1))\|2 )"]
}
,
{
"cell_type" : "markdown",
"metadata" : {},
"source" : ["                 \|cos(1)"]
}
,
{
"cell_type" : "markdown",
"metadata" : {},
"source" : ["    *"]
}
,
{
"cell_type" : "markdown",
"metadata" : {},
"source" : ["                          +------+"]
}
,
{
"cell_type" : "markdown",
"metadata" : {},
"source" : ["                          |sin(1)                            2      +-+"]
}
,
{
"cell_type" : "markdown",
"metadata" : {},
"source" : ["            2cos(1)sin(1) |------  + (- cos(1)sin(1) + cos(1)  - 1)\|2"]
}
,
{
"cell_type" : "markdown",
"metadata" : {},
"source" : ["                         \|cos(1)"]
}
,
{
"cell_type" : "markdown",
"metadata" : {},
"source" : ["       atan(-----------------------------------------------------------)"]
}
,
{
"cell_type" : "markdown",
"metadata" : {},
"source" : ["                          +------+"]
}
,
{
"cell_type" : "markdown",
"metadata" : {},
"source" : ["                        2 |sin(1)                            2  +-+"]
}
,
{
"cell_type" : "markdown",
"metadata" : {},
"source" : ["                 2cos(1)  |------  + (- cos(1)sin(1) - cos(1) )\|2"]
}
,
{
"cell_type" : "markdown",
"metadata" : {},
"source" : ["                         \|cos(1)"]
}
,
{
"cell_type" : "markdown",
"metadata" : {},
"source" : ["   +"]
}
,
{
"cell_type" : "markdown",
"metadata" : {},
"source" : ["                +------+"]
}
,
{
"cell_type" : "markdown",
"metadata" : {},
"source" : ["                |sin(1)                          +-+"]
}
,
{
"cell_type" : "markdown",
"metadata" : {},
"source" : ["       (8cos(1) |------  + (- 4sin(1) - 4cos(1))\|2 )"]
}
,
{
"cell_type" : "markdown",
"metadata" : {},
"source" : ["               \|cos(1)"]
}
,
{
"cell_type" : "markdown",
"metadata" : {},
"source" : ["    *"]
}
,
{
"cell_type" : "markdown",
"metadata" : {},
"source" : ["                          +------+"]
}
,
{
"cell_type" : "markdown",
"metadata" : {},
"source" : ["                          |sin(1)                              2      +-+"]
}
,
{
"cell_type" : "markdown",
"metadata" : {},
"source" : ["            4cos(1)sin(1) |------  + (- 2cos(1)sin(1) + 2cos(1)  - 1)\|2"]
}
,
{
"cell_type" : "markdown",
"metadata" : {},
"source" : ["                         \|cos(1)"]
}
,
{
"cell_type" : "markdown",
"metadata" : {},
"source" : ["       atan(-------------------------------------------------------------)"]
}
,
{
"cell_type" : "markdown",
"metadata" : {},
"source" : ["                        +------+"]
}
,
{
"cell_type" : "markdown",
"metadata" : {},
"source" : ["                      2 |sin(1)                              2      +-+"]
}
,
{
"cell_type" : "markdown",
"metadata" : {},
"source" : ["               4cos(1)  |------  + (- 2cos(1)sin(1) - 2cos(1)  + 1)\|2"]
}
,
{
"cell_type" : "markdown",
"metadata" : {},
"source" : ["                       \|cos(1)"]
}
,
{
"cell_type" : "markdown",
"metadata" : {},
"source" : ["   +"]
}
,
{
"cell_type" : "markdown",
"metadata" : {},
"source" : ["                +------+"]
}
,
{
"cell_type" : "markdown",
"metadata" : {},
"source" : ["                |sin(1)                          +-+"]
}
,
{
"cell_type" : "markdown",
"metadata" : {},
"source" : ["       (8cos(1) |------  + (- 4sin(1) - 4cos(1))\|2 )"]
}
,
{
"cell_type" : "markdown",
"metadata" : {},
"source" : ["               \|cos(1)"]
}
,
{
"cell_type" : "markdown",
"metadata" : {},
"source" : ["    *"]
}
,
{
"cell_type" : "markdown",
"metadata" : {},
"source" : ["                          +------+"]
}
,
{
"cell_type" : "markdown",
"metadata" : {},
"source" : ["                          |sin(1)                            2  +-+"]
}
,
{
"cell_type" : "markdown",
"metadata" : {},
"source" : ["            2cos(1)sin(1) |------  + (- cos(1)sin(1) + cos(1) )\|2"]
}
,
{
"cell_type" : "markdown",
"metadata" : {},
"source" : ["                         \|cos(1)"]
}
,
{
"cell_type" : "markdown",
"metadata" : {},
"source" : ["       atan(-------------------------------------------------------)"]
}
,
{
"cell_type" : "markdown",
"metadata" : {},
"source" : ["                      +------+"]
}
,
{
"cell_type" : "markdown",
"metadata" : {},
"source" : ["                    2 |sin(1)                            2      +-+"]
}
,
{
"cell_type" : "markdown",
"metadata" : {},
"source" : ["             2cos(1)  |------  + (- cos(1)sin(1) - cos(1)  + 1)\|2"]
}
,
{
"cell_type" : "markdown",
"metadata" : {},
"source" : ["                     \|cos(1)"]
}
,
{
"cell_type" : "markdown",
"metadata" : {},
"source" : ["   +"]
}
,
{
"cell_type" : "markdown",
"metadata" : {},
"source" : ["                                                        +------+"]
}
,
{
"cell_type" : "markdown",
"metadata" : {},
"source" : ["                                                        |sin(1)"]
}
,
{
"cell_type" : "markdown",
"metadata" : {},
"source" : ["     (- 32sin(1) - 2cos(1)log(4) + (- 2%pi - 32)cos(1)) |------"]
}
,
{
"cell_type" : "markdown",
"metadata" : {},
"source" : ["                                                       \|cos(1)"]
}
,
{
"cell_type" : "markdown",
"metadata" : {},
"source" : ["   +"]
}
,
{
"cell_type" : "markdown",
"metadata" : {},
"source" : ["                                                             +-+"]
}
,
{
"cell_type" : "markdown",
"metadata" : {},
"source" : ["     ((log(4) + %pi + 32)sin(1) + cos(1)log(4) + %pi cos(1))\|2"]
}
,
{
"cell_type" : "markdown",
"metadata" : {},
"source" : [" /"]
}
,
{
"cell_type" : "markdown",
"metadata" : {},
"source" : ["                +------+"]
}
,
{
"cell_type" : "markdown",
"metadata" : {},
"source" : ["            +-+ |sin(1)"]
}
,
{
"cell_type" : "markdown",
"metadata" : {},
"source" : ["   16cos(1)\|2  |------  - 16sin(1) - 16cos(1)"]
}
,
{
"cell_type" : "markdown",
"metadata" : {},
"source" : ["               \|cos(1)"]
}
,
{
"cell_type" : "markdown",
"metadata" : {},
"source" : ["                    Type: Union(f1: OrderedCompletion Expression Integer,...)"]
}
,
{
"cell_type" : "code",
"execution_count": null,
"metadata" : {
    "collapsed" : false
},
"source" : ["in1218a:=integrate(sin(z)*sec(z)/tan(z)^(1/2), z= 0..1,\"noPole\")"],
"outputs": []
}
,
{
"cell_type" : "markdown",
"metadata" : {},
"source" : [""]
}
,
{
"cell_type" : "markdown",
"metadata" : {},
"source" : ["         +-+"]
}
,
{
"cell_type" : "markdown",
"metadata" : {},
"source" : ["       2\|2"]
}
,
{
"cell_type" : "markdown",
"metadata" : {},
"source" : ["    *"]
}
,
{
"cell_type" : "markdown",
"metadata" : {},
"source" : ["       log"]
}
,
{
"cell_type" : "markdown",
"metadata" : {},
"source" : ["                         2      2              3                           2"]
}
,
{
"cell_type" : "markdown",
"metadata" : {},
"source" : ["              (- 16cos(1) sin(1)  + (- 16cos(1)  - 4cos(1))sin(1) - 4cos(1) )"]
}
,
{
"cell_type" : "markdown",
"metadata" : {},
"source" : ["           *"]
}
,
{
"cell_type" : "markdown",
"metadata" : {},
"source" : ["                   +------+"]
}
,
{
"cell_type" : "markdown",
"metadata" : {},
"source" : ["               +-+ |sin(1)"]
}
,
{
"cell_type" : "markdown",
"metadata" : {},
"source" : ["              \|2  |------"]
}
,
{
"cell_type" : "markdown",
"metadata" : {},
"source" : ["                  \|cos(1)"]
}
,
{
"cell_type" : "markdown",
"metadata" : {},
"source" : ["          +"]
}
,
{
"cell_type" : "markdown",
"metadata" : {},
"source" : ["                       3           2      2           3"]
}
,
{
"cell_type" : "markdown",
"metadata" : {},
"source" : ["          8cos(1)sin(1)  + 32cos(1) sin(1)  + (8cos(1)  + 8cos(1))sin(1) + 1"]
}
,
{
"cell_type" : "markdown",
"metadata" : {},
"source" : ["   +"]
}
,
{
"cell_type" : "markdown",
"metadata" : {},
"source" : ["                             +------+"]
}
,
{
"cell_type" : "markdown",
"metadata" : {},
"source" : ["                             |sin(1)                            2      +-+"]
}
,
{
"cell_type" : "markdown",
"metadata" : {},
"source" : ["               2cos(1)sin(1) |------  + (- cos(1)sin(1) + cos(1)  - 1)\|2"]
}
,
{
"cell_type" : "markdown",
"metadata" : {},
"source" : ["       +-+                  \|cos(1)"]
}
,
{
"cell_type" : "markdown",
"metadata" : {},
"source" : ["     4\|2 atan(-----------------------------------------------------------)"]
}
,
{
"cell_type" : "markdown",
"metadata" : {},
"source" : ["                             +------+"]
}
,
{
"cell_type" : "markdown",
"metadata" : {},
"source" : ["                           2 |sin(1)                            2  +-+"]
}
,
{
"cell_type" : "markdown",
"metadata" : {},
"source" : ["                    2cos(1)  |------  + (- cos(1)sin(1) - cos(1) )\|2"]
}
,
{
"cell_type" : "markdown",
"metadata" : {},
"source" : ["                            \|cos(1)"]
}
,
{
"cell_type" : "markdown",
"metadata" : {},
"source" : ["   +"]
}
,
{
"cell_type" : "markdown",
"metadata" : {},
"source" : ["     -"]
}
,
{
"cell_type" : "markdown",
"metadata" : {},
"source" : ["            +-+"]
}
,
{
"cell_type" : "markdown",
"metadata" : {},
"source" : ["          4\|2"]
}
,
{
"cell_type" : "markdown",
"metadata" : {},
"source" : ["       *"]
}
,
{
"cell_type" : "markdown",
"metadata" : {},
"source" : ["                             +------+"]
}
,
{
"cell_type" : "markdown",
"metadata" : {},
"source" : ["                             |sin(1)                              2      +-+"]
}
,
{
"cell_type" : "markdown",
"metadata" : {},
"source" : ["               4cos(1)sin(1) |------  + (- 2cos(1)sin(1) + 2cos(1)  - 1)\|2"]
}
,
{
"cell_type" : "markdown",
"metadata" : {},
"source" : ["                            \|cos(1)"]
}
,
{
"cell_type" : "markdown",
"metadata" : {},
"source" : ["          atan(-------------------------------------------------------------)"]
}
,
{
"cell_type" : "markdown",
"metadata" : {},
"source" : ["                           +------+"]
}
,
{
"cell_type" : "markdown",
"metadata" : {},
"source" : ["                         2 |sin(1)                              2      +-+"]
}
,
{
"cell_type" : "markdown",
"metadata" : {},
"source" : ["                  4cos(1)  |------  + (- 2cos(1)sin(1) - 2cos(1)  + 1)\|2"]
}
,
{
"cell_type" : "markdown",
"metadata" : {},
"source" : ["                          \|cos(1)"]
}
,
{
"cell_type" : "markdown",
"metadata" : {},
"source" : ["   +"]
}
,
{
"cell_type" : "markdown",
"metadata" : {},
"source" : ["                               +------+"]
}
,
{
"cell_type" : "markdown",
"metadata" : {},
"source" : ["                               |sin(1)                            2  +-+"]
}
,
{
"cell_type" : "markdown",
"metadata" : {},
"source" : ["                 2cos(1)sin(1) |------  + (- cos(1)sin(1) + cos(1) )\|2"]
}
,
{
"cell_type" : "markdown",
"metadata" : {},
"source" : ["         +-+                  \|cos(1)"]
}
,
{
"cell_type" : "markdown",
"metadata" : {},
"source" : ["     - 4\|2 atan(-------------------------------------------------------)"]
}
,
{
"cell_type" : "markdown",
"metadata" : {},
"source" : ["                           +------+"]
}
,
{
"cell_type" : "markdown",
"metadata" : {},
"source" : ["                         2 |sin(1)                            2      +-+"]
}
,
{
"cell_type" : "markdown",
"metadata" : {},
"source" : ["                  2cos(1)  |------  + (- cos(1)sin(1) - cos(1)  + 1)\|2"]
}
,
{
"cell_type" : "markdown",
"metadata" : {},
"source" : ["                          \|cos(1)"]
}
,
{
"cell_type" : "markdown",
"metadata" : {},
"source" : ["   +"]
}
,
{
"cell_type" : "markdown",
"metadata" : {},
"source" : ["         +-+"]
}
,
{
"cell_type" : "markdown",
"metadata" : {},
"source" : ["     %pi\|2"]
}
,
{
"cell_type" : "markdown",
"metadata" : {},
"source" : [" /"]
}
,
{
"cell_type" : "markdown",
"metadata" : {},
"source" : ["   16"]
}
,
{
"cell_type" : "markdown",
"metadata" : {},
"source" : ["                    Type: Union(f1: OrderedCompletion Expression Integer,...)"]
}
,
{
"cell_type" : "code",
"execution_count": null,
"metadata" : {
    "collapsed" : false
},
"source" : ["in1a:=integrate(log(abs(z^2-1))/(1+z)^2, z= 0..%plusInfinity,\"noPole\")"],
"outputs": []
}
,
{
"cell_type" : "markdown",
"metadata" : {},
"source" : [""]
}
,
{
"cell_type" : "markdown",
"metadata" : {},
"source" : ["    1"]
}
,
{
"cell_type" : "markdown",
"metadata" : {},
"source" : ["                    Type: Union(f1: OrderedCompletion Expression Integer,...)"]
}
,
{
"cell_type" : "code",
"execution_count": null,
"metadata" : {
    "collapsed" : false
},
"source" : ["in13:=integrate(cos(z)^2*sin(z)^n, z)"],
"outputs": []
}
,
{
"cell_type" : "markdown",
"metadata" : {},
"source" : [""]
}
,
{
"cell_type" : "markdown",
"metadata" : {},
"source" : ["             z"]
}
,
{
"cell_type" : "markdown",
"metadata" : {},
"source" : ["           ++         2       n"]
}
,
{
"cell_type" : "markdown",
"metadata" : {},
"source" : ["           |   cos(%H) sin(%H) d%H"]
}
,
{
"cell_type" : "markdown",
"metadata" : {},
"source" : ["          ++"]
}
,
{
"cell_type" : "markdown",
"metadata" : {},
"source" : ["                                          Type: Union(Expression Integer,...)"]
}
,
{
"cell_type" : "code",
"execution_count": null,
"metadata" : {
    "collapsed" : false
},
"source" : ["in15ab:=integrate(log(sqrt(z)+z^5), z=0..a,\"noPole\")"],
"outputs": []
}
,
{
"cell_type" : "markdown",
"metadata" : {},
"source" : [""]
}
,
{
"cell_type" : "markdown",
"metadata" : {},
"source" : ["            %pi"]
}
,
{
"cell_type" : "markdown",
"metadata" : {},
"source" : ["       6cos(---)"]
}
,
{
"cell_type" : "markdown",
"metadata" : {},
"source" : ["             9"]
}
,
{
"cell_type" : "markdown",
"metadata" : {},
"source" : ["    *"]
}
,
{
"cell_type" : "markdown",
"metadata" : {},
"source" : ["       log"]
}
,
{
"cell_type" : "markdown",
"metadata" : {},
"source" : ["                     %pi 6     +-+    %pi     %pi 5        %pi 2    %pi 4"]
}
,
{
"cell_type" : "markdown",
"metadata" : {},
"source" : ["                2sin(---)  + 4\|3 cos(---)sin(---)  + 2cos(---) sin(---)"]
}
,
{
"cell_type" : "markdown",
"metadata" : {},
"source" : ["                      9                9       9            9        9"]
}
,
{
"cell_type" : "markdown",
"metadata" : {},
"source" : ["              +"]
}
,
{
"cell_type" : "markdown",
"metadata" : {},
"source" : ["                  +-+    %pi 3    %pi 3           %pi 4          %pi 2"]
}
,
{
"cell_type" : "markdown",
"metadata" : {},
"source" : ["                8\|3 cos(---) sin(---)  + (- 2cos(---)  + 2a)sin(---)"]
}
,
{
"cell_type" : "markdown",
"metadata" : {},
"source" : ["                          9        9               9              9"]
}
,
{
"cell_type" : "markdown",
"metadata" : {},
"source" : ["              +"]
}
,
{
"cell_type" : "markdown",
"metadata" : {},
"source" : ["                   +-+    %pi 5      +-+    %pi      %pi         %pi 6"]
}
,
{
"cell_type" : "markdown",
"metadata" : {},
"source" : ["                (4\|3 cos(---)  + 4a\|3 cos(---))sin(---) - 2cos(---)"]
}
,
{
"cell_type" : "markdown",
"metadata" : {},
"source" : ["                           9                 9        9           9"]
}
,
{
"cell_type" : "markdown",
"metadata" : {},
"source" : ["              +"]
}
,
{
"cell_type" : "markdown",
"metadata" : {},
"source" : ["                         %pi 2"]
}
,
{
"cell_type" : "markdown",
"metadata" : {},
"source" : ["                - 2a cos(---)"]
}
,
{
"cell_type" : "markdown",
"metadata" : {},
"source" : ["                          9"]
}
,
{
"cell_type" : "markdown",
"metadata" : {},
"source" : ["           *"]
}
,
{
"cell_type" : "markdown",
"metadata" : {},
"source" : ["               +-+"]
}
,
{
"cell_type" : "markdown",
"metadata" : {},
"source" : ["              \|a"]
}
,
{
"cell_type" : "markdown",
"metadata" : {},
"source" : ["          +"]
}
,
{
"cell_type" : "markdown",
"metadata" : {},
"source" : ["                %pi 8        %pi 2    %pi 6         %pi 4          %pi 4"]
}
,
{
"cell_type" : "markdown",
"metadata" : {},
"source" : ["            sin(---)  + 4cos(---) sin(---)  + (6cos(---)  + 3a)sin(---)"]
}
,
{
"cell_type" : "markdown",
"metadata" : {},
"source" : ["                 9            9        9             9              9"]
}
,
{
"cell_type" : "markdown",
"metadata" : {},
"source" : ["          +"]
}
,
{
"cell_type" : "markdown",
"metadata" : {},
"source" : ["               +-+    %pi     %pi 3         %pi 6           %pi 2     %pi 2"]
}
,
{
"cell_type" : "markdown",
"metadata" : {},
"source" : ["            4a\|3 cos(---)sin(---)  + (4cos(---)  + 14a cos(---) )sin(---)"]
}
,
{
"cell_type" : "markdown",
"metadata" : {},
"source" : ["                       9       9             9               9         9"]
}
,
{
"cell_type" : "markdown",
"metadata" : {},
"source" : ["          +"]
}
,
{
"cell_type" : "markdown",
"metadata" : {},
"source" : ["                 +-+    %pi 3    %pi        %pi 8          %pi 4    2"]
}
,
{
"cell_type" : "markdown",
"metadata" : {},
"source" : ["            - 4a\|3 cos(---) sin(---) + cos(---)  + 3a cos(---)  + a"]
}
,
{
"cell_type" : "markdown",
"metadata" : {},
"source" : ["                         9        9          9              9"]
}
,
{
"cell_type" : "markdown",
"metadata" : {},
"source" : ["   +"]
}
,
{
"cell_type" : "markdown",
"metadata" : {},
"source" : ["            +-+    %pi         %pi"]
}
,
{
"cell_type" : "markdown",
"metadata" : {},
"source" : ["       (- 3\|3 sin(---) - 3cos(---))"]
}
,
{
"cell_type" : "markdown",
"metadata" : {},
"source" : ["                    9           9"]
}
,
{
"cell_type" : "markdown",
"metadata" : {},
"source" : ["    *"]
}
,
{
"cell_type" : "markdown",
"metadata" : {},
"source" : ["       log"]
}
,
{
"cell_type" : "markdown",
"metadata" : {},
"source" : ["                     %pi 6     +-+    %pi     %pi 5        %pi 2    %pi 4"]
}
,
{
"cell_type" : "markdown",
"metadata" : {},
"source" : ["                2sin(---)  - 4\|3 cos(---)sin(---)  + 2cos(---) sin(---)"]
}
,
{
"cell_type" : "markdown",
"metadata" : {},
"source" : ["                      9                9       9            9        9"]
}
,
{
"cell_type" : "markdown",
"metadata" : {},
"source" : ["              +"]
}
,
{
"cell_type" : "markdown",
"metadata" : {},
"source" : ["                    +-+    %pi 3    %pi 3           %pi 4          %pi 2"]
}
,
{
"cell_type" : "markdown",
"metadata" : {},
"source" : ["                - 8\|3 cos(---) sin(---)  + (- 2cos(---)  + 2a)sin(---)"]
}
,
{
"cell_type" : "markdown",
"metadata" : {},
"source" : ["                            9        9               9              9"]
}
,
{
"cell_type" : "markdown",
"metadata" : {},
"source" : ["              +"]
}
,
{
"cell_type" : "markdown",
"metadata" : {},
"source" : ["                     +-+    %pi 5      +-+    %pi      %pi         %pi 6"]
}
,
{
"cell_type" : "markdown",
"metadata" : {},
"source" : ["                (- 4\|3 cos(---)  - 4a\|3 cos(---))sin(---) - 2cos(---)"]
}
,
{
"cell_type" : "markdown",
"metadata" : {},
"source" : ["                             9                 9        9           9"]
}
,
{
"cell_type" : "markdown",
"metadata" : {},
"source" : ["              +"]
}
,
{
"cell_type" : "markdown",
"metadata" : {},
"source" : ["                         %pi 2"]
}
,
{
"cell_type" : "markdown",
"metadata" : {},
"source" : ["                - 2a cos(---)"]
}
,
{
"cell_type" : "markdown",
"metadata" : {},
"source" : ["                          9"]
}
,
{
"cell_type" : "markdown",
"metadata" : {},
"source" : ["           *"]
}
,
{
"cell_type" : "markdown",
"metadata" : {},
"source" : ["               +-+"]
}
,
{
"cell_type" : "markdown",
"metadata" : {},
"source" : ["              \|a"]
}
,
{
"cell_type" : "markdown",
"metadata" : {},
"source" : ["          +"]
}
,
{
"cell_type" : "markdown",
"metadata" : {},
"source" : ["                %pi 8        %pi 2    %pi 6         %pi 4          %pi 4"]
}
,
{
"cell_type" : "markdown",
"metadata" : {},
"source" : ["            sin(---)  + 4cos(---) sin(---)  + (6cos(---)  + 3a)sin(---)"]
}
,
{
"cell_type" : "markdown",
"metadata" : {},
"source" : ["                 9            9        9             9              9"]
}
,
{
"cell_type" : "markdown",
"metadata" : {},
"source" : ["          +"]
}
,
{
"cell_type" : "markdown",
"metadata" : {},
"source" : ["                 +-+    %pi     %pi 3         %pi 6           %pi 2     %pi 2"]
}
,
{
"cell_type" : "markdown",
"metadata" : {},
"source" : ["            - 4a\|3 cos(---)sin(---)  + (4cos(---)  + 14a cos(---) )sin(---)"]
}
,
{
"cell_type" : "markdown",
"metadata" : {},
"source" : ["                         9       9             9               9         9"]
}
,
{
"cell_type" : "markdown",
"metadata" : {},
"source" : ["          +"]
}
,
{
"cell_type" : "markdown",
"metadata" : {},
"source" : ["               +-+    %pi 3    %pi        %pi 8          %pi 4    2"]
}
,
{
"cell_type" : "markdown",
"metadata" : {},
"source" : ["            4a\|3 cos(---) sin(---) + cos(---)  + 3a cos(---)  + a"]
}
,
{
"cell_type" : "markdown",
"metadata" : {},
"source" : ["                       9        9          9              9"]
}
,
{
"cell_type" : "markdown",
"metadata" : {},
"source" : ["   +"]
}
,
{
"cell_type" : "markdown",
"metadata" : {},
"source" : ["              5 +-+    10               +-+"]
}
,
{
"cell_type" : "markdown",
"metadata" : {},
"source" : ["     6a log(2a \|a  + a   + a) - 12log(\|a  + 1)"]
}
,
{
"cell_type" : "markdown",
"metadata" : {},
"source" : ["   +"]
}
,
{
"cell_type" : "markdown",
"metadata" : {},
"source" : ["                     +-+    2"]
}
,
{
"cell_type" : "markdown",
"metadata" : {},
"source" : ["     3log((- 2a - 2)\|a  + a  + 3a + 1)"]
}
,
{
"cell_type" : "markdown",
"metadata" : {},
"source" : ["   +"]
}
,
{
"cell_type" : "markdown",
"metadata" : {},
"source" : ["          +-+    %pi         %pi"]
}
,
{
"cell_type" : "markdown",
"metadata" : {},
"source" : ["       (3\|3 sin(---) - 3cos(---))"]
}
,
{
"cell_type" : "markdown",
"metadata" : {},
"source" : ["                  9           9"]
}
,
{
"cell_type" : "markdown",
"metadata" : {},
"source" : ["    *"]
}
,
{
"cell_type" : "markdown",
"metadata" : {},
"source" : ["       log"]
}
,
{
"cell_type" : "markdown",
"metadata" : {},
"source" : ["                       %pi 6        %pi 2    %pi 4"]
}
,
{
"cell_type" : "markdown",
"metadata" : {},
"source" : ["                - 4sin(---)  - 4cos(---) sin(---)"]
}
,
{
"cell_type" : "markdown",
"metadata" : {},
"source" : ["                        9            9        9"]
}
,
{
"cell_type" : "markdown",
"metadata" : {},
"source" : ["              +"]
}
,
{
"cell_type" : "markdown",
"metadata" : {},
"source" : ["                      %pi 4          %pi 2        %pi 6          %pi 2"]
}
,
{
"cell_type" : "markdown",
"metadata" : {},
"source" : ["                (4cos(---)  - 4a)sin(---)  + 4cos(---)  + 4a cos(---)"]
}
,
{
"cell_type" : "markdown",
"metadata" : {},
"source" : ["                       9              9            9              9"]
}
,
{
"cell_type" : "markdown",
"metadata" : {},
"source" : ["           *"]
}
,
{
"cell_type" : "markdown",
"metadata" : {},
"source" : ["               +-+"]
}
,
{
"cell_type" : "markdown",
"metadata" : {},
"source" : ["              \|a"]
}
,
{
"cell_type" : "markdown",
"metadata" : {},
"source" : ["          +"]
}
,
{
"cell_type" : "markdown",
"metadata" : {},
"source" : ["                %pi 8        %pi 2    %pi 6         %pi 4          %pi 4"]
}
,
{
"cell_type" : "markdown",
"metadata" : {},
"source" : ["            sin(---)  + 4cos(---) sin(---)  + (6cos(---)  + 6a)sin(---)"]
}
,
{
"cell_type" : "markdown",
"metadata" : {},
"source" : ["                 9            9        9             9              9"]
}
,
{
"cell_type" : "markdown",
"metadata" : {},
"source" : ["          +"]
}
,
{
"cell_type" : "markdown",
"metadata" : {},
"source" : ["               %pi 6          %pi 2     %pi 2       %pi 8          %pi 4    2"]
}
,
{
"cell_type" : "markdown",
"metadata" : {},
"source" : ["         (4cos(---)  - 4a cos(---) )sin(---)  + cos(---)  + 6a cos(---)  + a"]
}
,
{
"cell_type" : "markdown",
"metadata" : {},
"source" : ["                9              9         9           9              9"]
}
,
{
"cell_type" : "markdown",
"metadata" : {},
"source" : ["   +"]
}
,
{
"cell_type" : "markdown",
"metadata" : {},
"source" : ["              %pi       +-+    %pi"]
}
,
{
"cell_type" : "markdown",
"metadata" : {},
"source" : ["       (12sin(---) - 12\|3 cos(---))"]
}
,
{
"cell_type" : "markdown",
"metadata" : {},
"source" : ["               9                9"]
}
,
{
"cell_type" : "markdown",
"metadata" : {},
"source" : ["    *"]
}
,
{
"cell_type" : "markdown",
"metadata" : {},
"source" : ["             +-+    %pi 2        %pi     %pi     +-+    %pi 2"]
}
,
{
"cell_type" : "markdown",
"metadata" : {},
"source" : ["            \|3 sin(---)  + 2cos(---)sin(---) - \|3 cos(---)"]
}
,
{
"cell_type" : "markdown",
"metadata" : {},
"source" : ["                     9            9       9              9"]
}
,
{
"cell_type" : "markdown",
"metadata" : {},
"source" : ["       atan(-------------------------------------------------)"]
}
,
{
"cell_type" : "markdown",
"metadata" : {},
"source" : ["                  %pi 2     +-+    %pi     %pi        %pi 2"]
}
,
{
"cell_type" : "markdown",
"metadata" : {},
"source" : ["              sin(---)  - 2\|3 cos(---)sin(---) - cos(---)"]
}
,
{
"cell_type" : "markdown",
"metadata" : {},
"source" : ["                   9                9       9          9"]
}
,
{
"cell_type" : "markdown",
"metadata" : {},
"source" : ["   +"]
}
,
{
"cell_type" : "markdown",
"metadata" : {},
"source" : ["                 +-+ +-+    +-+"]
}
,
{
"cell_type" : "markdown",
"metadata" : {},
"source" : ["       +-+     2\|3 \|a  - \|3"]
}
,
{
"cell_type" : "markdown",
"metadata" : {},
"source" : ["     6\|3 atan(----------------)"]
}
,
{
"cell_type" : "markdown",
"metadata" : {},
"source" : ["                  +-+"]
}
,
{
"cell_type" : "markdown",
"metadata" : {},
"source" : ["                2\|a  - 2a + 1"]
}
,
{
"cell_type" : "markdown",
"metadata" : {},
"source" : ["   +"]
}
,
{
"cell_type" : "markdown",
"metadata" : {},
"source" : ["                     +-+    %pi 2        %pi     %pi     +-+    %pi 2"]
}
,
{
"cell_type" : "markdown",
"metadata" : {},
"source" : ["                    \|3 sin(---)  - 2cos(---)sin(---) - \|3 cos(---)"]
}
,
{
"cell_type" : "markdown",
"metadata" : {},
"source" : ["           %pi               9            9       9              9"]
}
,
{
"cell_type" : "markdown",
"metadata" : {},
"source" : ["     24sin(---)atan(-------------------------------------------------)"]
}
,
{
"cell_type" : "markdown",
"metadata" : {},
"source" : ["            9             %pi 2     +-+    %pi     %pi        %pi 2"]
}
,
{
"cell_type" : "markdown",
"metadata" : {},
"source" : ["                      sin(---)  + 2\|3 cos(---)sin(---) - cos(---)"]
}
,
{
"cell_type" : "markdown",
"metadata" : {},
"source" : ["                           9                9       9          9"]
}
,
{
"cell_type" : "markdown",
"metadata" : {},
"source" : ["   +"]
}
,
{
"cell_type" : "markdown",
"metadata" : {},
"source" : ["                                              %pi     %pi"]
}
,
{
"cell_type" : "markdown",
"metadata" : {},
"source" : ["                                         2cos(---)sin(---)"]
}
,
{
"cell_type" : "markdown",
"metadata" : {},
"source" : ["            %pi       +-+    %pi               9       9"]
}
,
{
"cell_type" : "markdown",
"metadata" : {},
"source" : ["     (12sin(---) + 12\|3 cos(---))atan(---------------------)"]
}
,
{
"cell_type" : "markdown",
"metadata" : {},
"source" : ["             9                9            %pi 2       %pi 2"]
}
,
{
"cell_type" : "markdown",
"metadata" : {},
"source" : ["                                       sin(---)  - cos(---)"]
}
,
{
"cell_type" : "markdown",
"metadata" : {},
"source" : ["                                            9           9"]
}
,
{
"cell_type" : "markdown",
"metadata" : {},
"source" : ["   +"]
}
,
{
"cell_type" : "markdown",
"metadata" : {},
"source" : ["                %pi       +-+    %pi"]
}
,
{
"cell_type" : "markdown",
"metadata" : {},
"source" : ["       (- 12sin(---) + 12\|3 cos(---))"]
}
,
{
"cell_type" : "markdown",
"metadata" : {},
"source" : ["                 9                9"]
}
,
{
"cell_type" : "markdown",
"metadata" : {},
"source" : ["    *"]
}
,
{
"cell_type" : "markdown",
"metadata" : {},
"source" : ["               +-+    %pi 2        %pi     %pi     +-+    %pi 2"]
}
,
{
"cell_type" : "markdown",
"metadata" : {},
"source" : ["              \|3 sin(---)  + 2cos(---)sin(---) - \|3 cos(---)"]
}
,
{
"cell_type" : "markdown",
"metadata" : {},
"source" : ["                       9            9       9              9"]
}
,
{
"cell_type" : "markdown",
"metadata" : {},
"source" : ["       atan(-----------------------------------------------------)"]
}
,
{
"cell_type" : "markdown",
"metadata" : {},
"source" : ["              +-+       %pi 2     +-+    %pi     %pi        %pi 2"]
}
,
{
"cell_type" : "markdown",
"metadata" : {},
"source" : ["            2\|a  + sin(---)  - 2\|3 cos(---)sin(---) - cos(---)"]
}
,
{
"cell_type" : "markdown",
"metadata" : {},
"source" : ["                         9                9       9          9"]
}
,
{
"cell_type" : "markdown",
"metadata" : {},
"source" : ["   +"]
}
,
{
"cell_type" : "markdown",
"metadata" : {},
"source" : ["                         +-+    %pi 2        %pi     %pi     +-+    %pi 2"]
}
,
{
"cell_type" : "markdown",
"metadata" : {},
"source" : ["                        \|3 sin(---)  - 2cos(---)sin(---) - \|3 cos(---)"]
}
,
{
"cell_type" : "markdown",
"metadata" : {},
"source" : ["             %pi                 9            9       9              9"]
}
,
{
"cell_type" : "markdown",
"metadata" : {},
"source" : ["     - 24sin(---)atan(-----------------------------------------------------)"]
}
,
{
"cell_type" : "markdown",
"metadata" : {},
"source" : ["              9         +-+       %pi 2     +-+    %pi     %pi        %pi 2"]
}
,
{
"cell_type" : "markdown",
"metadata" : {},
"source" : ["                      2\|a  + sin(---)  + 2\|3 cos(---)sin(---) - cos(---)"]
}
,
{
"cell_type" : "markdown",
"metadata" : {},
"source" : ["                                   9                9       9          9"]
}
,
{
"cell_type" : "markdown",
"metadata" : {},
"source" : ["   +"]
}
,
{
"cell_type" : "markdown",
"metadata" : {},
"source" : ["                                                  %pi     %pi"]
}
,
{
"cell_type" : "markdown",
"metadata" : {},
"source" : ["                                             2cos(---)sin(---)"]
}
,
{
"cell_type" : "markdown",
"metadata" : {},
"source" : ["            %pi       +-+    %pi                   9       9"]
}
,
{
"cell_type" : "markdown",
"metadata" : {},
"source" : ["     (12sin(---) + 12\|3 cos(---))atan(----------------------------)"]
}
,
{
"cell_type" : "markdown",
"metadata" : {},
"source" : ["             9                9         +-+       %pi 2       %pi 2"]
}
,
{
"cell_type" : "markdown",
"metadata" : {},
"source" : ["                                       \|a  - sin(---)  + cos(---)"]
}
,
{
"cell_type" : "markdown",
"metadata" : {},
"source" : ["                                                   9           9"]
}
,
{
"cell_type" : "markdown",
"metadata" : {},
"source" : ["   +"]
}
,
{
"cell_type" : "markdown",
"metadata" : {},
"source" : ["          +-+"]
}
,
{
"cell_type" : "markdown",
"metadata" : {},
"source" : ["     2%pi\|3  - 60a"]
}
,
{
"cell_type" : "markdown",
"metadata" : {},
"source" : [" /"]
}
,
{
"cell_type" : "markdown",
"metadata" : {},
"source" : ["   12"]
}
,
{
"cell_type" : "markdown",
"metadata" : {},
"source" : ["                  Type: Union(f1: OrderedCompletion Expression Integer,...)"]
}
,
{
"cell_type" : "code",
"execution_count": null,
"metadata" : {
    "collapsed" : false
},
"source" : ["in20a:=integrate(log(sin(z)^2+cos(z)^2), z= 0..1,\"noPole\")"],
"outputs": []
}
,
{
"cell_type" : "markdown",
"metadata" : {},
"source" : [""]
}
,
{
"cell_type" : "markdown",
"metadata" : {},
"source" : ["    0"]
}
,
{
"cell_type" : "markdown",
"metadata" : {},
"source" : ["                    Type: Union(f1: OrderedCompletion Expression Integer,...)"]
}
,
{
"cell_type" : "code",
"execution_count": null,
"metadata" : {
    "collapsed" : false
},
"source" : ["in126a:=integrate(atan(1/cot(z)), z= 0..2*%pi,\"noPole\")"],
"outputs": []
}
,
{
"cell_type" : "markdown",
"metadata" : {},
"source" : [""]
}
,
{
"cell_type" : "markdown",
"metadata" : {},
"source" : ["             2"]
}
,
{
"cell_type" : "markdown",
"metadata" : {},
"source" : ["         2%pi"]
}
,
{
"cell_type" : "markdown",
"metadata" : {},
"source" : ["                    Type: Union(f1: OrderedCompletion Expression Integer,...)"]
}
,
{
"cell_type" : "code",
"execution_count": null,
"metadata" : {
    "collapsed" : false
},
"source" : ["in128a:=integrate(atan(sqrt(1-cos(z)^2)/(1+cos(z))), z= 0..1,\"noPole\")"],
"outputs": []
}
,
{
"cell_type" : "markdown",
"metadata" : {},
"source" : [""]
}
,
{
"cell_type" : "markdown",
"metadata" : {},
"source" : [""]
}
,
{
"cell_type" : "markdown",
"metadata" : {},
"source" : ["         1"]
}
,
{
"cell_type" : "markdown",
"metadata" : {},
"source" : ["         -"]
}
,
{
"cell_type" : "markdown",
"metadata" : {},
"source" : ["         4"]
}
,
{
"cell_type" : "markdown",
"metadata" : {},
"source" : ["                    Type: Union(f1: OrderedCompletion Expression Integer,...)"]
}
,
{
"cell_type" : "code",
"execution_count": null,
"metadata" : {
    "collapsed" : false
},
"source" : ["in134:=integrate(log(exp(z)), z= -I..I)"],
"outputs": []
}
,
{
"cell_type" : "markdown",
"metadata" : {},
"source" : [""]
}
,
{
"cell_type" : "markdown",
"metadata" : {},
"source" : ["         0"]
}
,
{
"cell_type" : "markdown",
"metadata" : {},
"source" : ["                    Type: Union(f1: OrderedCompletion Expression Integer,...)"]
}
,
{
"cell_type" : "markdown",
"metadata" : {},
"source" : [""]
}
,
{
"cell_type" : "code",
"execution_count": null,
"metadata" : {
    "collapsed" : false
},
"source" : ["in134a:=integrate(log(exp(z)), z= -%i..%i)"],
"outputs": []
}
,
{
"cell_type" : "markdown",
"metadata" : {},
"source" : [""]
}
,
{
"cell_type" : "markdown",
"metadata" : {},
"source" : ["         0"]
}
,
{
"cell_type" : "markdown",
"metadata" : {},
"source" : ["            Type: Union(f1: OrderedCompletion Expression Complex Integer,...)"]
}
,
{
"cell_type" : "markdown",
"metadata" : {},
"source" : [""]
}
,
{
"cell_type" : "code",
"execution_count": null,
"metadata" : {
    "collapsed" : false
},
"source" : ["in1221a:=integrate(sin(z)*csc(z)*acoth(1/z), z= 0..1,\"noPole\")"],
"outputs": []
}
,
{
"cell_type" : "markdown",
"metadata" : {},
"source" : [""]
}
,
{
"cell_type" : "markdown",
"metadata" : {},
"source" : ["         log(4)"]
}
,
{
"cell_type" : "markdown",
"metadata" : {},
"source" : ["         ------"]
}
,
{
"cell_type" : "markdown",
"metadata" : {},
"source" : ["            2"]
}
,
{
"cell_type" : "markdown",
"metadata" : {},
"source" : ["                    Type: Union(f1: OrderedCompletion Expression Integer,...)"]
}
,
{
"cell_type" : "code",
"execution_count": null,
"metadata" : {
    "collapsed" : false
},
"source" : ["in1228a:=integrate(sin(z)*csc(z)*tan(z)^(1/2), z= 0..1,\"noPole\")"],
"outputs": []
}
,
{
"cell_type" : "markdown",
"metadata" : {},
"source" : [""]
}
,
{
"cell_type" : "markdown",
"metadata" : {},
"source" : ["         +-+"]
}
,
{
"cell_type" : "markdown",
"metadata" : {},
"source" : ["       2\|2"]
}
,
{
"cell_type" : "markdown",
"metadata" : {},
"source" : ["    *"]
}
,
{
"cell_type" : "markdown",
"metadata" : {},
"source" : ["       log"]
}
,
{
"cell_type" : "markdown",
"metadata" : {},
"source" : ["                         2      2              3                           2"]
}
,
{
"cell_type" : "markdown",
"metadata" : {},
"source" : ["              (- 16cos(1) sin(1)  + (- 16cos(1)  - 4cos(1))sin(1) - 4cos(1) )"]
}
,
{
"cell_type" : "markdown",
"metadata" : {},
"source" : ["           *"]
}
,
{
"cell_type" : "markdown",
"metadata" : {},
"source" : ["                   +------+"]
}
,
{
"cell_type" : "markdown",
"metadata" : {},
"source" : ["               +-+ |sin(1)"]
}
,
{
"cell_type" : "markdown",
"metadata" : {},
"source" : ["              \|2  |------"]
}
,
{
"cell_type" : "markdown",
"metadata" : {},
"source" : ["                  \|cos(1)"]
}
,
{
"cell_type" : "markdown",
"metadata" : {},
"source" : ["          +"]
}
,
{
"cell_type" : "markdown",
"metadata" : {},
"source" : ["                       3           2      2           3"]
}
,
{
"cell_type" : "markdown",
"metadata" : {},
"source" : ["          8cos(1)sin(1)  + 32cos(1) sin(1)  + (8cos(1)  + 8cos(1))sin(1) + 1"]
}
,
{
"cell_type" : "markdown",
"metadata" : {},
"source" : ["   +"]
}
,
{
"cell_type" : "markdown",
"metadata" : {},
"source" : ["                             +------+"]
}
,
{
"cell_type" : "markdown",
"metadata" : {},
"source" : ["                             |sin(1)                            2      +-+"]
}
,
{
"cell_type" : "markdown",
"metadata" : {},
"source" : ["               2cos(1)sin(1) |------  + (- cos(1)sin(1) + cos(1)  - 1)\|2"]
}
,
{
"cell_type" : "markdown",
"metadata" : {},
"source" : ["       +-+                  \|cos(1)"]
}
,
{
"cell_type" : "markdown",
"metadata" : {},
"source" : ["     4\|2 atan(-----------------------------------------------------------)"]
}
,
{
"cell_type" : "markdown",
"metadata" : {},
"source" : ["                             +------+"]
}
,
{
"cell_type" : "markdown",
"metadata" : {},
"source" : ["                           2 |sin(1)                            2  +-+"]
}
,
{
"cell_type" : "markdown",
"metadata" : {},
"source" : ["                    2cos(1)  |------  + (- cos(1)sin(1) - cos(1) )\|2"]
}
,
{
"cell_type" : "markdown",
"metadata" : {},
"source" : ["                            \|cos(1)"]
}
,
{
"cell_type" : "markdown",
"metadata" : {},
"source" : ["   +"]
}
,
{
"cell_type" : "markdown",
"metadata" : {},
"source" : ["     -"]
}
,
{
"cell_type" : "markdown",
"metadata" : {},
"source" : ["            +-+"]
}
,
{
"cell_type" : "markdown",
"metadata" : {},
"source" : ["          4\|2"]
}
,
{
"cell_type" : "markdown",
"metadata" : {},
"source" : ["       *"]
}
,
{
"cell_type" : "markdown",
"metadata" : {},
"source" : ["                             +------+"]
}
,
{
"cell_type" : "markdown",
"metadata" : {},
"source" : ["                             |sin(1)                              2      +-+"]
}
,
{
"cell_type" : "markdown",
"metadata" : {},
"source" : ["               4cos(1)sin(1) |------  + (- 2cos(1)sin(1) + 2cos(1)  - 1)\|2"]
}
,
{
"cell_type" : "markdown",
"metadata" : {},
"source" : ["                            \|cos(1)"]
}
,
{
"cell_type" : "markdown",
"metadata" : {},
"source" : ["          atan(-------------------------------------------------------------)"]
}
,
{
"cell_type" : "markdown",
"metadata" : {},
"source" : ["                           +------+"]
}
,
{
"cell_type" : "markdown",
"metadata" : {},
"source" : ["                         2 |sin(1)                              2      +-+"]
}
,
{
"cell_type" : "markdown",
"metadata" : {},
"source" : ["                  4cos(1)  |------  + (- 2cos(1)sin(1) - 2cos(1)  + 1)\|2"]
}
,
{
"cell_type" : "markdown",
"metadata" : {},
"source" : ["                          \|cos(1)"]
}
,
{
"cell_type" : "markdown",
"metadata" : {},
"source" : ["   +"]
}
,
{
"cell_type" : "markdown",
"metadata" : {},
"source" : ["                               +------+"]
}
,
{
"cell_type" : "markdown",
"metadata" : {},
"source" : ["                               |sin(1)                            2  +-+"]
}
,
{
"cell_type" : "markdown",
"metadata" : {},
"source" : ["                 2cos(1)sin(1) |------  + (- cos(1)sin(1) + cos(1) )\|2"]
}
,
{
"cell_type" : "markdown",
"metadata" : {},
"source" : ["         +-+                  \|cos(1)"]
}
,
{
"cell_type" : "markdown",
"metadata" : {},
"source" : ["     - 4\|2 atan(-------------------------------------------------------)"]
}
,
{
"cell_type" : "markdown",
"metadata" : {},
"source" : ["                           +------+"]
}
,
{
"cell_type" : "markdown",
"metadata" : {},
"source" : ["                         2 |sin(1)                            2      +-+"]
}
,
{
"cell_type" : "markdown",
"metadata" : {},
"source" : ["                  2cos(1)  |------  + (- cos(1)sin(1) - cos(1)  + 1)\|2"]
}
,
{
"cell_type" : "markdown",
"metadata" : {},
"source" : ["                          \|cos(1)"]
}
,
{
"cell_type" : "markdown",
"metadata" : {},
"source" : ["   +"]
}
,
{
"cell_type" : "markdown",
"metadata" : {},
"source" : ["         +-+"]
}
,
{
"cell_type" : "markdown",
"metadata" : {},
"source" : ["     %pi\|2"]
}
,
{
"cell_type" : "markdown",
"metadata" : {},
"source" : [" /"]
}
,
{
"cell_type" : "markdown",
"metadata" : {},
"source" : ["   16"]
}
,
{
"cell_type" : "markdown",
"metadata" : {},
"source" : ["                  Type: Union(f1: OrderedCompletion Expression Integer,...)"]
}
,
{
"cell_type" : "markdown",
"metadata" : {},
"source" : [""]
}
,
{
"cell_type" : "code",
"execution_count": null,
"metadata" : {
    "collapsed" : false
},
"source" : ["in1241a:=integrate(sin(z)*csc(z)*acoth(1/z), z= 0..1,\"noPole\")"],
"outputs": []
}
,
{
"cell_type" : "markdown",
"metadata" : {},
"source" : [""]
}
,
{
"cell_type" : "markdown",
"metadata" : {},
"source" : ["        log(4)"]
}
,
{
"cell_type" : "markdown",
"metadata" : {},
"source" : ["        ------"]
}
,
{
"cell_type" : "markdown",
"metadata" : {},
"source" : ["           2"]
}
,
{
"cell_type" : "markdown",
"metadata" : {},
"source" : ["                    Type: Union(f1: OrderedCompletion Expression Integer,...)"]
}
,
{
"cell_type" : "code",
"execution_count": null,
"metadata" : {
    "collapsed" : false
},
"source" : ["in1261a:=integrate(1/(sin(z)+cos(2*z)), z= -1..1,\"noPole\")"],
"outputs": []
}
,
{
"cell_type" : "markdown",
"metadata" : {},
"source" : [""]
}
,
{
"cell_type" : "markdown",
"metadata" : {},
"source" : ["                2         2"]
}
,
{
"cell_type" : "markdown",
"metadata" : {},
"source" : ["       (- sin(1)  + cos(1)  + 2cos(1) + 1)"]
}
,
{
"cell_type" : "markdown",
"metadata" : {},
"source" : ["    *"]
}
,
{
"cell_type" : "markdown",
"metadata" : {},
"source" : ["       log"]
}
,
{
"cell_type" : "markdown",
"metadata" : {},
"source" : ["                            2                                   2"]
}
,
{
"cell_type" : "markdown",
"metadata" : {},
"source" : ["                  - 12sin(1)  + (42cos(1) + 48)sin(1) - 36cos(1)  - 84cos(1)"]
}
,
{
"cell_type" : "markdown",
"metadata" : {},
"source" : ["                +"]
}
,
{
"cell_type" : "markdown",
"metadata" : {},
"source" : ["                  - 48"]
}
,
{
"cell_type" : "markdown",
"metadata" : {},
"source" : ["             *"]
}
,
{
"cell_type" : "markdown",
"metadata" : {},
"source" : ["                 +-+"]
}
,
{
"cell_type" : "markdown",
"metadata" : {},
"source" : ["                \|3"]
}
,
{
"cell_type" : "markdown",
"metadata" : {},
"source" : ["            +"]
}
,
{
"cell_type" : "markdown",
"metadata" : {},
"source" : ["                    2                                     2"]
}
,
{
"cell_type" : "markdown",
"metadata" : {},
"source" : ["            21sin(1)  + (- 72cos(1) - 84)sin(1) + 63cos(1)  + 144cos(1) + 84"]
}
,
{
"cell_type" : "markdown",
"metadata" : {},
"source" : ["         /"]
}
,
{
"cell_type" : "markdown",
"metadata" : {},
"source" : ["                   2"]
}
,
{
"cell_type" : "markdown",
"metadata" : {},
"source" : ["            4sin(1)  - 4sin(1) + 1"]
}
,
{
"cell_type" : "markdown",
"metadata" : {},
"source" : ["   +"]
}
,
{
"cell_type" : "markdown",
"metadata" : {},
"source" : ["              2         2"]
}
,
{
"cell_type" : "markdown",
"metadata" : {},
"source" : ["       (sin(1)  - cos(1)  - 2cos(1) - 1)"]
}
,
{
"cell_type" : "markdown",
"metadata" : {},
"source" : ["    *"]
}
,
{
"cell_type" : "markdown",
"metadata" : {},
"source" : ["       log"]
}
,
{
"cell_type" : "markdown",
"metadata" : {},
"source" : ["                            2                                     2"]
}
,
{
"cell_type" : "markdown",
"metadata" : {},
"source" : ["                  - 12sin(1)  + (- 42cos(1) - 48)sin(1) - 36cos(1)  - 84cos(1)"]
}
,
{
"cell_type" : "markdown",
"metadata" : {},
"source" : ["                +"]
}
,
{
"cell_type" : "markdown",
"metadata" : {},
"source" : ["                  - 48"]
}
,
{
"cell_type" : "markdown",
"metadata" : {},
"source" : ["             *"]
}
,
{
"cell_type" : "markdown",
"metadata" : {},
"source" : ["                 +-+"]
}
,
{
"cell_type" : "markdown",
"metadata" : {},
"source" : ["                \|3"]
}
,
{
"cell_type" : "markdown",
"metadata" : {},
"source" : ["            +"]
}
,
{
"cell_type" : "markdown",
"metadata" : {},
"source" : ["                      2                                   2"]
}
,
{
"cell_type" : "markdown",
"metadata" : {},
"source" : ["              21sin(1)  + (72cos(1) + 84)sin(1) + 63cos(1)  + 144cos(1) + 84"]
}
,
{
"cell_type" : "markdown",
"metadata" : {},
"source" : ["         /"]
}
,
{
"cell_type" : "markdown",
"metadata" : {},
"source" : ["                   2"]
}
,
{
"cell_type" : "markdown",
"metadata" : {},
"source" : ["            4sin(1)  + 4sin(1) + 1"]
}
,
{
"cell_type" : "markdown",
"metadata" : {},
"source" : ["   +"]
}
,
{
"cell_type" : "markdown",
"metadata" : {},
"source" : ["                           +-+"]
}
,
{
"cell_type" : "markdown",
"metadata" : {},
"source" : ["     (- 4cos(1) - 4)sin(1)\|3"]
}
,
{
"cell_type" : "markdown",
"metadata" : {},
"source" : [" /"]
}
,
{
"cell_type" : "markdown",
"metadata" : {},
"source" : ["           2          2                +-+"]
}
,
{
"cell_type" : "markdown",
"metadata" : {},
"source" : ["   (3sin(1)  - 3cos(1)  - 6cos(1) - 3)\|3"]
}
,
{
"cell_type" : "markdown",
"metadata" : {},
"source" : ["                  Type: Union(f1: OrderedCompletion Expression Integer,...)"]
}
,
{
"cell_type" : "code",
"execution_count": null,
"metadata" : {
    "collapsed" : false
},
"source" : ["in1273a:=integrate((1/(z-I))^(1/2), z= 0..%plusInfinity,\"noPole\")"],
"outputs": []
}
,
{
"cell_type" : "markdown",
"metadata" : {},
"source" : [""]
}
,
{
"cell_type" : "markdown",
"metadata" : {},
"source" : ["   + infinity"]
}
,
{
"cell_type" : "markdown",
"metadata" : {},
"source" : ["                    Type: Union(f1: OrderedCompletion Expression Integer,...)"]
}
,
{
"cell_type" : "code",
"execution_count": null,
"metadata" : {
    "collapsed" : false
},
"source" : ["in1274a:=integrate(1/(1/(z-I))^(1/2), z= 0..%plusInfinity,\"noPole\")"],
"outputs": []
}
,
{
"cell_type" : "markdown",
"metadata" : {},
"source" : [""]
}
,
{
"cell_type" : "markdown",
"metadata" : {},
"source" : ["   + infinity"]
}
,
{
"cell_type" : "markdown",
"metadata" : {},
"source" : ["                    Type: Union(f1: OrderedCompletion Expression Integer,...)"]
}
,
{
"cell_type" : "code",
"execution_count": null,
"metadata" : {
    "collapsed" : false
},
"source" : ["in1278a:=integrate((1+1/(I*z)^(1/2))^(1/2), z= 0..%plusInfinity,\"noPole\")"],
"outputs": []
}
,
{
"cell_type" : "markdown",
"metadata" : {},
"source" : [""]
}
,
{
"cell_type" : "markdown",
"metadata" : {},
"source" : ["   + infinity"]
}
,
{
"cell_type" : "markdown",
"metadata" : {},
"source" : ["                    Type: Union(f1: OrderedCompletion Expression Integer,...)"]
}
,
{
"cell_type" : "code",
"execution_count": null,
"metadata" : {
    "collapsed" : false
},
"source" : ["in1284a:=integrate(log(1+2^(1/2)/z^(1/4)-1/z^(1/2)), z= 0..%plusInfinity,\"noPole\")"],
"outputs": []
}
,
{
"cell_type" : "markdown",
"metadata" : {},
"source" : [""]
}
,
{
"cell_type" : "markdown",
"metadata" : {},
"source" : ["   + infinity"]
}
,
{
"cell_type" : "markdown",
"metadata" : {},
"source" : ["                    Type: Union(f1: OrderedCompletion Expression Integer,...)"]
}
,
{
"cell_type" : "code",
"execution_count": null,
"metadata" : {
    "collapsed" : false
},
"source" : ["in1314a:=integrate(log(1-z)*atanh(z^(1/2)), z= 0..1,\"noPole\")"],
"outputs": []
}
,
{
"cell_type" : "markdown",
"metadata" : {},
"source" : ["         log(16) - 6"]
}
,
{
"cell_type" : "markdown",
"metadata" : {},
"source" : ["         -----------"]
}
,
{
"cell_type" : "markdown",
"metadata" : {},
"source" : ["              2"]
}
,
{
"cell_type" : "markdown",
"metadata" : {},
"source" : ["                    Type: Union(f1: OrderedCompletion Expression Integer,...)"]
}
,
{
"cell_type" : "code",
"execution_count": null,
"metadata" : {
    "collapsed" : false
},
"source" : ["in1359a:=integrate((I*z)^(1/2)*(-I*z)^(1/2), z= %minusInfinity..%plusInfinity,\"noPole\")"],
"outputs": []
}
,
{
"cell_type" : "markdown",
"metadata" : {},
"source" : [""]
}
,
{
"cell_type" : "markdown",
"metadata" : {},
"source" : ["   + infinity"]
}
,
{
"cell_type" : "markdown",
"metadata" : {},
"source" : ["                    Type: Union(f1: OrderedCompletion Expression Integer,...)"]
}
,
{
"cell_type" : "code",
"execution_count": null,
"metadata" : {
    "collapsed" : false
},
"source" : ["in1376a:=integrate(z*acoth(z^(1/2)), z= 0..1,\"noPole\")"],
"outputs": []
}
,
{
"cell_type" : "markdown",
"metadata" : {},
"source" : [""]
}
,
{
"cell_type" : "markdown",
"metadata" : {},
"source" : ["         2"]
}
,
{
"cell_type" : "markdown",
"metadata" : {},
"source" : ["         -"]
}
,
{
"cell_type" : "markdown",
"metadata" : {},
"source" : ["         3"]
}
,
{
"cell_type" : "markdown",
"metadata" : {},
"source" : ["                    Type: Union(f1: OrderedCompletion Expression Integer,...)"]
}
,
{
"cell_type" : "code",
"execution_count": null,
"metadata" : {
    "collapsed" : false
},
"source" : ["in1377a:=integrate(z*acoth(1-z), z= 0..1,\"noPole\")"],
"outputs": []
}
,
{
"cell_type" : "markdown",
"metadata" : {},
"source" : [""]
}
,
{
"cell_type" : "markdown",
"metadata" : {},
"source" : ["         log(4) - 1"]
}
,
{
"cell_type" : "markdown",
"metadata" : {},
"source" : ["         ----------"]
}
,
{
"cell_type" : "markdown",
"metadata" : {},
"source" : ["              2"]
}
,
{
"cell_type" : "markdown",
"metadata" : {},
"source" : ["                    Type: Union(f1: OrderedCompletion Expression Integer,...)"]
}
,
{
"cell_type" : "code",
"execution_count": null,
"metadata" : {
    "collapsed" : false
},
"source" : ["in1378a:=integrate(z*acoth(1-(1-z)^(1/2)), z= 0..1,\"noPole\")"],
"outputs": []
}
,
{
"cell_type" : "markdown",
"metadata" : {},
"source" : [""]
}
,
{
"cell_type" : "markdown",
"metadata" : {},
"source" : ["         - 3log(4) + 5"]
}
,
{
"cell_type" : "markdown",
"metadata" : {},
"source" : ["         -------------"]
}
,
{
"cell_type" : "markdown",
"metadata" : {},
"source" : ["               3"]
}
,
{
"cell_type" : "markdown",
"metadata" : {},
"source" : ["                    Type: Union(f1: OrderedCompletion Expression Integer,...)"]
}
,
{
"cell_type" : "code",
"execution_count": null,
"metadata" : {
    "collapsed" : false
},
"source" : ["in1392a:=integrate(acoth(z^(1/2)), z= 0..1,\"noPole\")"],
"outputs": []
}
,
{
"cell_type" : "markdown",
"metadata" : {},
"source" : [""]
}
,
{
"cell_type" : "markdown",
"metadata" : {},
"source" : ["          1"]
}
,
{
"cell_type" : "markdown",
"metadata" : {},
"source" : ["                    Type: Union(f1: OrderedCompletion Expression Integer,...)"]
}
,
{
"cell_type" : "code",
"execution_count": null,
"metadata" : {
    "collapsed" : false
},
"source" : ["in1397a:=integrate(1/(-1+z^(1/2))^(1/2), z= 1..2,\"noPole\")"],
"outputs": []
}
,
{
"cell_type" : "markdown",
"metadata" : {},
"source" : [""]
}
,
{
"cell_type" : "markdown",
"metadata" : {},
"source" : ["                      +--------+"]
}
,
{
"cell_type" : "markdown",
"metadata" : {},
"source" : ["             +-+      | +-+"]
}
,
{
"cell_type" : "markdown",
"metadata" : {},
"source" : ["          (4\|2  + 8)\|\|2  - 1"]
}
,
{
"cell_type" : "markdown",
"metadata" : {},
"source" : ["          ----------------------"]
}
,
{
"cell_type" : "markdown",
"metadata" : {},
"source" : ["                     3"]
}
,
{
"cell_type" : "markdown",
"metadata" : {},
"source" : ["                    Type: Union(f1: OrderedCompletion Expression Integer,...)"]
}
,
{
"cell_type" : "code",
"execution_count": null,
"metadata" : {
    "collapsed" : false
},
"source" : ["in1398a:=integrate(acoth(1/z), z= 1..2,\"noPole\")"],
"outputs": []
}
,
{
"cell_type" : "markdown",
"metadata" : {},
"source" : [""]
}
,
{
"cell_type" : "markdown",
"metadata" : {},
"source" : ["          3log(9) - 2log(4)"]
}
,
{
"cell_type" : "markdown",
"metadata" : {},
"source" : ["          -----------------"]
}
,
{
"cell_type" : "markdown",
"metadata" : {},
"source" : ["                  4"]
}
,
{
"cell_type" : "markdown",
"metadata" : {},
"source" : ["                    Type: Union(f1: OrderedCompletion Expression Integer,...)"]
}
,
{
"cell_type" : "code",
"execution_count": null,
"metadata" : {
    "collapsed" : false
},
"source" : ["in1399a:=integrate(acoth(1/z^(1/2)), z= 1..2,\"noPole\")"],
"outputs": []
}
,
{
"cell_type" : "markdown",
"metadata" : {},
"source" : [""]
}
,
{
"cell_type" : "markdown",
"metadata" : {},
"source" : ["                  +-+"]
}
,
{
"cell_type" : "markdown",
"metadata" : {},
"source" : ["              - 2\|2  - 3      +-+"]
}
,
{
"cell_type" : "markdown",
"metadata" : {},
"source" : ["          log(-----------) + 4\|2  - 4"]
}
,
{
"cell_type" : "markdown",
"metadata" : {},
"source" : ["                 +-+"]
}
,
{
"cell_type" : "markdown",
"metadata" : {},
"source" : ["               2\|2  - 3"]
}
,
{
"cell_type" : "markdown",
"metadata" : {},
"source" : ["          ----------------------------"]
}
,
{
"cell_type" : "markdown",
"metadata" : {},
"source" : ["                        4"]
}
,
{
"cell_type" : "markdown",
"metadata" : {},
"source" : ["                    Type: Union(f1: OrderedCompletion Expression Integer,...)"]
}
,
{
"cell_type" : "code",
"execution_count": null,
"metadata" : {
    "collapsed" : false
},
"source" : ["in143a:=integrate(sqrt(1+z)/(1+z^2), z= 0..1,\"noPole\")"],
"outputs": []
}
,
{
"cell_type" : "markdown",
"metadata" : {},
"source" : [""]
}
,
{
"cell_type" : "markdown",
"metadata" : {},
"source" : ["         4+-+    %pi"]
}
,
{
"cell_type" : "markdown",
"metadata" : {},
"source" : ["         \|2 cos(---)"]
}
,
{
"cell_type" : "markdown",
"metadata" : {},
"source" : ["                  8"]
}
,
{
"cell_type" : "markdown",
"metadata" : {},
"source" : ["      *"]
}
,
{
"cell_type" : "markdown",
"metadata" : {},
"source" : ["         log"]
}
,
{
"cell_type" : "markdown",
"metadata" : {},
"source" : ["                %pi 4     +-+4+-+3    %pi 3         %pi 2     4+-+2     %pi 2"]
}
,
{
"cell_type" : "markdown",
"metadata" : {},
"source" : ["           2sin(---)  + 4\|2 \|2  sin(---)  + (4cos(---)  + 12\|2  )sin(---)"]
}
,
{
"cell_type" : "markdown",
"metadata" : {},
"source" : ["                 8                     8             8                   8"]
}
,
{
"cell_type" : "markdown",
"metadata" : {},
"source" : ["         +"]
}
,
{
"cell_type" : "markdown",
"metadata" : {},
"source" : ["              +-+4+-+3    %pi 2     +-+4+-+     %pi         %pi 4"]
}
,
{
"cell_type" : "markdown",
"metadata" : {},
"source" : ["           (4\|2 \|2  cos(---)  + 8\|2 \|2 )sin(---) + 2cos(---)"]
}
,
{
"cell_type" : "markdown",
"metadata" : {},
"source" : ["                           8                     8           8"]
}
,
{
"cell_type" : "markdown",
"metadata" : {},
"source" : ["         +"]
}
,
{
"cell_type" : "markdown",
"metadata" : {},
"source" : ["            4+-+2    %pi 2"]
}
,
{
"cell_type" : "markdown",
"metadata" : {},
"source" : ["           4\|2  cos(---)  + 4"]
}
,
{
"cell_type" : "markdown",
"metadata" : {},
"source" : ["                      8"]
}
,
{
"cell_type" : "markdown",
"metadata" : {},
"source" : ["     +"]
}
,
{
"cell_type" : "markdown",
"metadata" : {},
"source" : ["       -"]
}
,
{
"cell_type" : "markdown",
"metadata" : {},
"source" : ["            4+-+    %pi"]
}
,
{
"cell_type" : "markdown",
"metadata" : {},
"source" : ["            \|2 cos(---)"]
}
,
{
"cell_type" : "markdown",
"metadata" : {},
"source" : ["                     8"]
}
,
{
"cell_type" : "markdown",
"metadata" : {},
"source" : ["         *"]
}
,
{
"cell_type" : "markdown",
"metadata" : {},
"source" : ["            log"]
}
,
{
"cell_type" : "markdown",
"metadata" : {},
"source" : ["                     %pi 4    4+-+3    %pi 3         %pi 2    4+-+2     %pi 2"]
}
,
{
"cell_type" : "markdown",
"metadata" : {},
"source" : ["                2sin(---)  + 4\|2  sin(---)  + (4cos(---)  + 6\|2  )sin(---)"]
}
,
{
"cell_type" : "markdown",
"metadata" : {},
"source" : ["                      8                 8             8                  8"]
}
,
{
"cell_type" : "markdown",
"metadata" : {},
"source" : ["              +"]
}
,
{
"cell_type" : "markdown",
"metadata" : {},
"source" : ["                  4+-+3    %pi 2    4+-+     %pi         %pi 4"]
}
,
{
"cell_type" : "markdown",
"metadata" : {},
"source" : ["                (4\|2  cos(---)  + 4\|2 )sin(---) + 2cos(---)"]
}
,
{
"cell_type" : "markdown",
"metadata" : {},
"source" : ["                            8                 8           8"]
}
,
{
"cell_type" : "markdown",
"metadata" : {},
"source" : ["              +"]
}
,
{
"cell_type" : "markdown",
"metadata" : {},
"source" : ["                 4+-+2    %pi 2"]
}
,
{
"cell_type" : "markdown",
"metadata" : {},
"source" : ["                2\|2  cos(---)  + 1"]
}
,
{
"cell_type" : "markdown",
"metadata" : {},
"source" : ["                           8"]
}
,
{
"cell_type" : "markdown",
"metadata" : {},
"source" : ["   +"]
}
,
{
"cell_type" : "markdown",
"metadata" : {},
"source" : ["       4+-+    %pi"]
}
,
{
"cell_type" : "markdown",
"metadata" : {},
"source" : ["       \|2 cos(---)"]
}
,
{
"cell_type" : "markdown",
"metadata" : {},
"source" : ["                8"]
}
,
{
"cell_type" : "markdown",
"metadata" : {},
"source" : ["    *"]
}
,
{
"cell_type" : "markdown",
"metadata" : {},
"source" : ["       log"]
}
,
{
"cell_type" : "markdown",
"metadata" : {},
"source" : ["                %pi 4    4+-+3    %pi 3         %pi 2    4+-+2     %pi 2"]
}
,
{
"cell_type" : "markdown",
"metadata" : {},
"source" : ["           2sin(---)  - 4\|2  sin(---)  + (4cos(---)  + 6\|2  )sin(---)"]
}
,
{
"cell_type" : "markdown",
"metadata" : {},
"source" : ["                 8                 8             8                  8"]
}
,
{
"cell_type" : "markdown",
"metadata" : {},
"source" : ["         +"]
}
,
{
"cell_type" : "markdown",
"metadata" : {},
"source" : ["               4+-+3    %pi 2    4+-+     %pi         %pi 4    4+-+2    %pi 2"]
}
,
{
"cell_type" : "markdown",
"metadata" : {},
"source" : ["           (- 4\|2  cos(---)  - 4\|2 )sin(---) + 2cos(---)  + 2\|2  cos(---)"]
}
,
{
"cell_type" : "markdown",
"metadata" : {},
"source" : ["                         8                 8           8                 8"]
}
,
{
"cell_type" : "markdown",
"metadata" : {},
"source" : ["         +"]
}
,
{
"cell_type" : "markdown",
"metadata" : {},
"source" : ["            1"]
}
,
{
"cell_type" : "markdown",
"metadata" : {},
"source" : ["   +"]
}
,
{
"cell_type" : "markdown",
"metadata" : {},
"source" : ["       -"]
}
,
{
"cell_type" : "markdown",
"metadata" : {},
"source" : ["            4+-+    %pi"]
}
,
{
"cell_type" : "markdown",
"metadata" : {},
"source" : ["            \|2 cos(---)"]
}
,
{
"cell_type" : "markdown",
"metadata" : {},
"source" : ["                     8"]
}
,
{
"cell_type" : "markdown",
"metadata" : {},
"source" : ["         *"]
}
,
{
"cell_type" : "markdown",
"metadata" : {},
"source" : ["            log"]
}
,
{
"cell_type" : "markdown",
"metadata" : {},
"source" : ["                      %pi 4     +-+4+-+3    %pi 3"]
}
,
{
"cell_type" : "markdown",
"metadata" : {},
"source" : ["                 2sin(---)  - 4\|2 \|2  sin(---)"]
}
,
{
"cell_type" : "markdown",
"metadata" : {},
"source" : ["                       8                     8"]
}
,
{
"cell_type" : "markdown",
"metadata" : {},
"source" : ["               +"]
}
,
{
"cell_type" : "markdown",
"metadata" : {},
"source" : ["                       %pi 2     4+-+2     %pi 2"]
}
,
{
"cell_type" : "markdown",
"metadata" : {},
"source" : ["                 (4cos(---)  + 12\|2  )sin(---)"]
}
,
{
"cell_type" : "markdown",
"metadata" : {},
"source" : ["                        8                   8"]
}
,
{
"cell_type" : "markdown",
"metadata" : {},
"source" : ["               +"]
}
,
{
"cell_type" : "markdown",
"metadata" : {},
"source" : ["                      +-+4+-+3    %pi 2     +-+4+-+     %pi         %pi 4"]
}
,
{
"cell_type" : "markdown",
"metadata" : {},
"source" : ["                 (- 4\|2 \|2  cos(---)  - 8\|2 \|2 )sin(---) + 2cos(---)"]
}
,
{
"cell_type" : "markdown",
"metadata" : {},
"source" : ["                                   8                     8           8"]
}
,
{
"cell_type" : "markdown",
"metadata" : {},
"source" : ["               +"]
}
,
{
"cell_type" : "markdown",
"metadata" : {},
"source" : ["                  4+-+2    %pi 2"]
}
,
{
"cell_type" : "markdown",
"metadata" : {},
"source" : ["                 4\|2  cos(---)  + 4"]
}
,
{
"cell_type" : "markdown",
"metadata" : {},
"source" : ["                            8"]
}
,
{
"cell_type" : "markdown",
"metadata" : {},
"source" : ["    +"]
}
,
{
"cell_type" : "markdown",
"metadata" : {},
"source" : ["                               4+-+    %pi"]
}
,
{
"cell_type" : "markdown",
"metadata" : {},
"source" : ["                               \|2 cos(---)"]
}
,
{
"cell_type" : "markdown",
"metadata" : {},
"source" : ["          4+-+    %pi                   8"]
}
,
{
"cell_type" : "markdown",
"metadata" : {},
"source" : ["       - 4\|2 sin(---)atan(-------------------)"]
}
,
{
"cell_type" : "markdown",
"metadata" : {},
"source" : ["                   8       4+-+    %pi     +-+"]
}
,
{
"cell_type" : "markdown",
"metadata" : {},
"source" : ["                           \|2 sin(---) - \|2"]
}
,
{
"cell_type" : "markdown",
"metadata" : {},
"source" : ["                                    8"]
}
,
{
"cell_type" : "markdown",
"metadata" : {},
"source" : ["    +"]
}
,
{
"cell_type" : "markdown",
"metadata" : {},
"source" : ["                        4+-+    %pi                           4+-+    %pi"]
}
,
{
"cell_type" : "markdown",
"metadata" : {},
"source" : ["                        \|2 cos(---)                          \|2 cos(---)"]
}
,
{
"cell_type" : "markdown",
"metadata" : {},
"source" : ["     4+-+    %pi                 8         4+-+    %pi                 8"]
}
,
{
"cell_type" : "markdown",
"metadata" : {},
"source" : ["    4\|2 sin(---)atan(----------------) - 4\|2 sin(---)atan(----------------)"]
}
,
{
"cell_type" : "markdown",
"metadata" : {},
"source" : ["              8       4+-+    %pi                   8       4+-+    %pi"]
}
,
{
"cell_type" : "markdown",
"metadata" : {},
"source" : ["                      \|2 sin(---) - 1                      \|2 sin(---) + 1"]
}
,
{
"cell_type" : "markdown",
"metadata" : {},
"source" : ["                               8                                     8"]
}
,
{
"cell_type" : "markdown",
"metadata" : {},
"source" : ["    +"]
}
,
{
"cell_type" : "markdown",
"metadata" : {},
"source" : ["                             4+-+    %pi"]
}
,
{
"cell_type" : "markdown",
"metadata" : {},
"source" : ["                             \|2 cos(---)"]
}
,
{
"cell_type" : "markdown",
"metadata" : {},
"source" : ["        4+-+    %pi                   8"]
}
,
{
"cell_type" : "markdown",
"metadata" : {},
"source" : ["       4\|2 sin(---)atan(-------------------)"]
}
,
{
"cell_type" : "markdown",
"metadata" : {},
"source" : ["                 8       4+-+    %pi     +-+"]
}
,
{
"cell_type" : "markdown",
"metadata" : {},
"source" : ["                         \|2 sin(---) + \|2"]
}
,
{
"cell_type" : "markdown",
"metadata" : {},
"source" : ["                                  8"]
}
,
{
"cell_type" : "markdown",
"metadata" : {},
"source" : ["  /"]
}
,
{
"cell_type" : "markdown",
"metadata" : {},
"source" : ["     4"]
}
,
{
"cell_type" : "markdown",
"metadata" : {},
"source" : ["                    Type: Union(f1: OrderedCompletion Expression Integer,...)"]
}
,
{
"cell_type" : "code",
"execution_count": null,
"metadata" : {
    "collapsed" : false
},
"source" : ["in144:=integrate(1, z= I*infinity..%plusInfinity)"],
"outputs": []
}
,
{
"cell_type" : "markdown",
"metadata" : {},
"source" : [""]
}
,
{
"cell_type" : "markdown",
"metadata" : {},
"source" : ["   + infinity"]
}
,
{
"cell_type" : "markdown",
"metadata" : {},
"source" : ["                    Type: Union(f1: OrderedCompletion Expression Integer,...)"]
}
,
{
"cell_type" : "code",
"execution_count": null,
"metadata" : {
    "collapsed" : false
},
"source" : ["in146a:=integrate(csc(z), z= 1-I..1+I,\"noPole\")"],
"outputs": []
}
,
{
"cell_type" : "markdown",
"metadata" : {},
"source" : [""]
}
,
{
"cell_type" : "markdown",
"metadata" : {},
"source" : ["                          2                                    2"]
}
,
{
"cell_type" : "markdown",
"metadata" : {},
"source" : ["                sin(I + 1)                           sin(I - 1)"]
}
,
{
"cell_type" : "markdown",
"metadata" : {},
"source" : ["   log(-----------------------------) - log(-----------------------------)"]
}
,
{
"cell_type" : "markdown",
"metadata" : {},
"source" : ["                 2                                    2"]
}
,
{
"cell_type" : "markdown",
"metadata" : {},
"source" : ["       cos(I + 1)  + 2cos(I + 1) + 1        cos(I - 1)  + 2cos(I - 1) + 1"]
}
,
{
"cell_type" : "markdown",
"metadata" : {},
"source" : ["   -----------------------------------------------------------------------"]
}
,
{
"cell_type" : "markdown",
"metadata" : {},
"source" : ["                                      2"]
}
,
{
"cell_type" : "markdown",
"metadata" : {},
"source" : ["                    Type: Union(f1: OrderedCompletion Expression Integer,...)"]
}
,
{
"cell_type" : "code",
"execution_count": null,
"metadata" : {
    "collapsed" : false
},
"source" : ["in156a:=integrate(z^(2/3), z= 1..10,\"noPole\")"],
"outputs": []
}
,
{
"cell_type" : "markdown",
"metadata" : {},
"source" : [""]
}
,
{
"cell_type" : "markdown",
"metadata" : {},
"source" : ["           3+--+2"]
}
,
{
"cell_type" : "markdown",
"metadata" : {},
"source" : ["         30\|10   - 3"]
}
,
{
"cell_type" : "markdown",
"metadata" : {},
"source" : ["         ------------"]
}
,
{
"cell_type" : "markdown",
"metadata" : {},
"source" : ["               5"]
}
,
{
"cell_type" : "markdown",
"metadata" : {},
"source" : ["                    Type: Union(f1: OrderedCompletion Expression Integer,...)"]
}
,
{
"cell_type" : "code",
"execution_count": null,
"metadata" : {
    "collapsed" : false
},
"source" : ["in159a:=integrate(log(z)/z^2, z= -I..-1,\"noPole\")"],
"outputs": []
}
,
{
"cell_type" : "markdown",
"metadata" : {},
"source" : [""]
}
,
{
"cell_type" : "markdown",
"metadata" : {},
"source" : ["                2"]
}
,
{
"cell_type" : "markdown",
"metadata" : {},
"source" : ["         - log(I ) + 2I - 2"]
}
,
{
"cell_type" : "markdown",
"metadata" : {},
"source" : ["         ------------------"]
}
,
{
"cell_type" : "markdown",
"metadata" : {},
"source" : ["                 2I"]
}
,
{
"cell_type" : "markdown",
"metadata" : {},
"source" : ["                    Type: Union(f1: OrderedCompletion Expression Integer,...)"]
}
,
{
"cell_type" : "code",
"execution_count": null,
"metadata" : {
    "collapsed" : false
},
"source" : ["in160:=integrate((-z^2-z)^sin(z), z)"],
"outputs": []
}
,
{
"cell_type" : "markdown",
"metadata" : {},
"source" : [""]
}
,
{
"cell_type" : "markdown",
"metadata" : {},
"source" : ["            z"]
}
,
{
"cell_type" : "markdown",
"metadata" : {},
"source" : ["          ++       2      sin(%R)"]
}
,
{
"cell_type" : "markdown",
"metadata" : {},
"source" : ["          |   (- %R  - %R)       d%R"]
}
,
{
"cell_type" : "markdown",
"metadata" : {},
"source" : ["         ++"]
}
,
{
"cell_type" : "markdown",
"metadata" : {},
"source" : ["                                          Type: Union(Expression Integer,...)"]
}
,
{
"cell_type" : "code",
"execution_count": null,
"metadata" : {
    "collapsed" : false
},
"source" : ["in1425a:=integrate(-(z^2+I*z+3)/(z^2+I*z+2), z= 0..%plusInfinity,\"noPole\")"],
"outputs": []
}
,
{
"cell_type" : "markdown",
"metadata" : {},
"source" : [""]
}
,
{
"cell_type" : "markdown",
"metadata" : {},
"source" : ["     [- infinity,- infinity]"]
}
,
{
"cell_type" : "markdown",
"metadata" : {},
"source" : ["               Type: Union(f2: List OrderedCompletion Expression Integer,...)"]
}
,
{
"cell_type" : "code",
"execution_count": null,
"metadata" : {
    "collapsed" : false
},
"source" : ["in1426a:=integrate(-I/(1+I*z^3)*z^3, z= 0..%plusInfinity,\"noPole\")"],
"outputs": []
}
,
{
"cell_type" : "markdown",
"metadata" : {},
"source" : [""]
}
,
{
"cell_type" : "markdown",
"metadata" : {},
"source" : ["  - infinity"]
}
,
{
"cell_type" : "markdown",
"metadata" : {},
"source" : ["                    Type: Union(f1: OrderedCompletion Expression Integer,...)"]
}
,
{
"cell_type" : "code",
"execution_count": null,
"metadata" : {
    "collapsed" : false
},
"source" : ["in1428a:=integrate(-I/(1+I*z)*z, z= 0..%plusInfinity,\"noPole\")"],
"outputs": []
}
,
{
"cell_type" : "markdown",
"metadata" : {},
"source" : [""]
}
,
{
"cell_type" : "markdown",
"metadata" : {},
"source" : ["  - infinity"]
}
,
{
"cell_type" : "markdown",
"metadata" : {},
"source" : ["                    Type: Union(f1: OrderedCompletion Expression Integer,...)"]
}
,
{
"cell_type" : "code",
"execution_count": null,
"metadata" : {
    "collapsed" : false
},
"source" : ["in1432:=integrate(-(z+I)*(-1+1/(z+I)), z= 0..%plusInfinity)"],
"outputs": []
}
,
{
"cell_type" : "markdown",
"metadata" : {},
"source" : [""]
}
,
{
"cell_type" : "markdown",
"metadata" : {},
"source" : ["   + infinity"]
}
,
{
"cell_type" : "markdown",
"metadata" : {},
"source" : ["                    Type: Union(f1: OrderedCompletion Expression Integer,...)"]
}
,
{
"cell_type" : "code",
"execution_count": null,
"metadata" : {
    "collapsed" : false
},
"source" : ["in1433a:=integrate(-1/((I*z)^(1/2)-1)*(-2+(I*z)^(1/2)), z= 0..%plusInfinity,\"noPole\")"],
"outputs": []
}
,
{
"cell_type" : "markdown",
"metadata" : {},
"source" : [""]
}
,
{
"cell_type" : "markdown",
"metadata" : {},
"source" : ["  - infinity"]
}
,
{
"cell_type" : "markdown",
"metadata" : {},
"source" : ["                    Type: Union(f1: OrderedCompletion Expression Integer,...)"]
}
,
{
"cell_type" : "code",
"execution_count": null,
"metadata" : {
    "collapsed" : false
},
"source" : ["in1434a:=integrate(-(1+(I*z)^(1/2))/(I*z)^(1/2), z= 0..%plusInfinity,\"noPole\")"],
"outputs": []
}
,
{
"cell_type" : "markdown",
"metadata" : {},
"source" : [""]
}
,
{
"cell_type" : "markdown",
"metadata" : {},
"source" : ["  - infinity"]
}
,
{
"cell_type" : "markdown",
"metadata" : {},
"source" : ["                    Type: Union(f1: OrderedCompletion Expression Integer,...)"]
}
,
{
"cell_type" : "code",
"execution_count": null,
"metadata" : {
    "collapsed" : false
},
"source" : ["in1435a:=integrate(-1/(1+(I*z)^(1/2))*(I*z)^(1/2), z= 0..%plusInfinity,\"noPole\")"],
"outputs": []
}
,
{
"cell_type" : "markdown",
"metadata" : {},
"source" : [""]
}
,
{
"cell_type" : "markdown",
"metadata" : {},
"source" : ["  - infinity"]
}
,
{
"cell_type" : "markdown",
"metadata" : {},
"source" : ["                    Type: Union(f1: OrderedCompletion Expression Integer,...)"]
}
,
{
"cell_type" : "code",
"execution_count": null,
"metadata" : {
    "collapsed" : false
},
"source" : ["in1436a:=integrate(-((I*z)^(1/2)-1)/(-2+(I*z)^(1/2)), z= 0..%plusInfinity,\"noPole\")"],
"outputs": []
}
,
{
"cell_type" : "markdown",
"metadata" : {},
"source" : [""]
}
,
{
"cell_type" : "markdown",
"metadata" : {},
"source" : ["  - infinity"]
}
,
{
"cell_type" : "markdown",
"metadata" : {},
"source" : ["                    Type: Union(f1: OrderedCompletion Expression Integer,...)"]
}
,
{
"cell_type" : "code",
"execution_count": null,
"metadata" : {
    "collapsed" : false
},
"source" : ["in1440a:=integrate((1-(I*z)^(1/2))/(I*z)^(1/2), z= 0..%plusInfinity,\"noPole\")"],
"outputs": []
}
,
{
"cell_type" : "markdown",
"metadata" : {},
"source" : [""]
}
,
{
"cell_type" : "markdown",
"metadata" : {},
"source" : ["  - infinity"]
}
,
{
"cell_type" : "markdown",
"metadata" : {},
"source" : ["                    Type: Union(f1: OrderedCompletion Expression Integer,...)"]
}
,
{
"cell_type" : "code",
"execution_count": null,
"metadata" : {
    "collapsed" : false
},
"source" : ["in1460:=integrate(z^2+I*z+3, z= 0..%plusInfinity)"],
"outputs": []
}
,
{
"cell_type" : "markdown",
"metadata" : {},
"source" : [""]
}
,
{
"cell_type" : "markdown",
"metadata" : {},
"source" : ["   + infinity"]
}
,
{
"cell_type" : "markdown",
"metadata" : {},
"source" : ["                    Type: Union(f1: OrderedCompletion Expression Integer,...)"]
}
,
{
"cell_type" : "code",
"execution_count": null,
"metadata" : {
    "collapsed" : false
},
"source" : ["in1463a:=integrate(1-(I*z)^(1/2)/(1-I*z), z= 0..%plusInfinity,\"noPole\")"],
"outputs": []
}
,
{
"cell_type" : "markdown",
"metadata" : {},
"source" : [""]
}
,
{
"cell_type" : "markdown",
"metadata" : {},
"source" : ["   + infinity"]
}
,
{
"cell_type" : "markdown",
"metadata" : {},
"source" : ["                    Type: Union(f1: OrderedCompletion Expression Integer,...)"]
}
,
{
"cell_type" : "code",
"execution_count": null,
"metadata" : {
    "collapsed" : false
},
"source" : ["in1464a:=integrate(1+1/(I*z)^(1/2), z= 0..%plusInfinity,\"noPole\")"],
"outputs": []
}
,
{
"cell_type" : "markdown",
"metadata" : {},
"source" : [""]
}
,
{
"cell_type" : "markdown",
"metadata" : {},
"source" : ["   + infinity"]
}
,
{
"cell_type" : "markdown",
"metadata" : {},
"source" : ["                    Type: Union(f1: OrderedCompletion Expression Integer,...)"]
}
,
{
"cell_type" : "code",
"execution_count": null,
"metadata" : {
    "collapsed" : false
},
"source" : ["in2045:=integrate(atan(1/tan(z)), z= 0..2*%pi)"],
"outputs": []
}
,
{
"cell_type" : "markdown",
"metadata" : {},
"source" : [""]
}
,
{
"cell_type" : "markdown",
"metadata" : {},
"source" : ["        2"]
}
,
{
"cell_type" : "markdown",
"metadata" : {},
"source" : ["  - 3%pi"]
}
,
{
"cell_type" : "markdown",
"metadata" : {},
"source" : ["                  Type: Union(f1: OrderedCompletion Expression Integer,...)"]
}
,
{
"cell_type" : "code",
"execution_count": null,
"metadata" : {
    "collapsed" : false
},
"source" : ["in1502a:=integrate(log(z)^2*log(-z), z= 0..%plusInfinity)"],
"outputs": []
}
,
{
"cell_type" : "markdown",
"metadata" : {},
"source" : [""]
}
,
{
"cell_type" : "markdown",
"metadata" : {},
"source" : ["   + infinity"]
}
,
{
"cell_type" : "markdown",
"metadata" : {},
"source" : ["                    Type: Union(f1: OrderedCompletion Expression Integer,...)"]
}
,
{
"cell_type" : "code",
"execution_count": null,
"metadata" : {
    "collapsed" : false
},
"source" : ["in1512a:=integrate(log(z)*(1/(z-I))^(1/2), z= 1..%plusInfinity,\"noPole\")"],
"outputs": []
}
,
{
"cell_type" : "markdown",
"metadata" : {},
"source" : [""]
}
,
{
"cell_type" : "markdown",
"metadata" : {},
"source" : ["  [ + infinity, + infinity]"]
}
,
{
"cell_type" : "markdown",
"metadata" : {},
"source" : ["               Type: Union(f2: List OrderedCompletion Expression Integer,...)"]
}
,
{
"cell_type" : "code",
"execution_count": null,
"metadata" : {
    "collapsed" : false
},
"source" : ["in1513a:=integrate(log(z)*(1/(z+I))^(1/2), z= 1..%plusInfinity,\"noPole\")"],
"outputs": []
}
,
{
"cell_type" : "markdown",
"metadata" : {},
"source" : [""]
}
,
{
"cell_type" : "markdown",
"metadata" : {},
"source" : ["  [ + infinity, + infinity]"]
}
,
{
"cell_type" : "markdown",
"metadata" : {},
"source" : ["               Type: Union(f2: List OrderedCompletion Expression Integer,...)"]
}
,
{
"cell_type" : "code",
"execution_count": null,
"metadata" : {
    "collapsed" : false
},
"source" : ["in1514a:=integrate(log(z)/(I/(z-I))^(1/2), z= 1..%plusInfinity,\"noPole\")"],
"outputs": []
}
,
{
"cell_type" : "markdown",
"metadata" : {},
"source" : [""]
}
,
{
"cell_type" : "markdown",
"metadata" : {},
"source" : ["   + infinity"]
}
,
{
"cell_type" : "markdown",
"metadata" : {},
"source" : ["                    Type: Union(f1: OrderedCompletion Expression Integer,...)"]
}
,
{
"cell_type" : "code",
"execution_count": null,
"metadata" : {
    "collapsed" : false
},
"source" : ["in1563a:=integrate(log(1-z^3)*(I*z)^(1/2), z= 0..1,\"noPole\")"],
"outputs": []
}
,
{
"cell_type" : "markdown",
"metadata" : {},
"source" : [""]
}
,
{
"cell_type" : "markdown",
"metadata" : {},
"source" : ["                   2"]
}
,
{
"cell_type" : "markdown",
"metadata" : {},
"source" : ["                16I          2                +-+"]
}
,
{
"cell_type" : "markdown",
"metadata" : {},
"source" : ["           (log(----) - log(I ) + log(9) - 4)\|I"]
}
,
{
"cell_type" : "markdown",
"metadata" : {},
"source" : ["                  9"]
}
,
{
"cell_type" : "markdown",
"metadata" : {},
"source" : ["          [--------------------------------------,- infinity]"]
}
,
{
"cell_type" : "markdown",
"metadata" : {},
"source" : ["                              3"]
}
,
{
"cell_type" : "markdown",
"metadata" : {},
"source" : ["               Type: Union(f2: List OrderedCompletion Expression Integer,...)"]
}
,
{
"cell_type" : "code",
"execution_count": null,
"metadata" : {
    "collapsed" : false
},
"source" : ["in161:=integrate((-z^2)^(1/3), z)"],
"outputs": []
}
,
{
"cell_type" : "markdown",
"metadata" : {},
"source" : ["            +----+"]
}
,
{
"cell_type" : "markdown",
"metadata" : {},
"source" : ["           3|   2"]
}
,
{
"cell_type" : "markdown",
"metadata" : {},
"source" : ["         3z\|- z"]
}
,
{
"cell_type" : "markdown",
"metadata" : {},
"source" : ["   (81)  ---------"]
}
,
{
"cell_type" : "markdown",
"metadata" : {},
"source" : ["             5"]
}
,
{
"cell_type" : "markdown",
"metadata" : {},
"source" : ["                                          Type: Union(Expression Integer,...)"]
}
,
{
"cell_type" : "code",
"execution_count": null,
"metadata" : {
    "collapsed" : false
},
"source" : ["in163:=integrate(log(z)*abs(exp(z)/z), z)"],
"outputs": []
}
,
{
"cell_type" : "markdown",
"metadata" : {},
"source" : [""]
}
,
{
"cell_type" : "markdown",
"metadata" : {},
"source" : ["            z              %K"]
}
,
{
"cell_type" : "markdown",
"metadata" : {},
"source" : ["          ++             %e"]
}
,
{
"cell_type" : "markdown",
"metadata" : {},
"source" : ["          |   log(%K)abs(----)d%K"]
}
,
{
"cell_type" : "markdown",
"metadata" : {},
"source" : ["         ++               %K"]
}
,
{
"cell_type" : "markdown",
"metadata" : {},
"source" : ["                                          Type: Union(Expression Integer,...)"]
}
,
{
"cell_type" : "code",
"execution_count": null,
"metadata" : {
    "collapsed" : false
},
"source" : ["in166:=integrate((1+z)^z, z)"],
"outputs": []
}
,
{
"cell_type" : "markdown",
"metadata" : {},
"source" : [""]
}
,
{
"cell_type" : "markdown",
"metadata" : {},
"source" : ["            z"]
}
,
{
"cell_type" : "markdown",
"metadata" : {},
"source" : ["          ++          %K"]
}
,
{
"cell_type" : "markdown",
"metadata" : {},
"source" : ["          |   (%K + 1)  d%K"]
}
,
{
"cell_type" : "markdown",
"metadata" : {},
"source" : ["         ++"]
}
,
{
"cell_type" : "markdown",
"metadata" : {},
"source" : ["                                          Type: Union(Expression Integer,...)"]
}
,
{
"cell_type" : "code",
"execution_count": null,
"metadata" : {
    "collapsed" : false
},
"source" : ["in179:=integrate(1/(1+(3*z+1)^2), z)"],
"outputs": []
}
,
{
"cell_type" : "markdown",
"metadata" : {},
"source" : [""]
}
,
{
"cell_type" : "markdown",
"metadata" : {},
"source" : ["          atan(3z + 1)"]
}
,
{
"cell_type" : "markdown",
"metadata" : {},
"source" : ["          ------------"]
}
,
{
"cell_type" : "markdown",
"metadata" : {},
"source" : ["                3"]
}
,
{
"cell_type" : "markdown",
"metadata" : {},
"source" : ["                                          Type: Union(Expression Integer,...)"]
}
,
{
"cell_type" : "code",
"execution_count": null,
"metadata" : {
    "collapsed" : false
},
"source" : ["in1636a:=integrate(-z/(z-1)/(1/(z-I))^(1/2), z= 0..1,\"noPole\")"],
"outputs": []
}
,
{
"cell_type" : "markdown",
"metadata" : {},
"source" : [""]
}
,
{
"cell_type" : "markdown",
"metadata" : {},
"source" : ["   [ + infinity,"]
}
,
{
"cell_type" : "markdown",
"metadata" : {},
"source" : [""]
}
,
{
"cell_type" : "markdown",
"metadata" : {},
"source" : ["                         +-------+                    +---+"]
}
,
{
"cell_type" : "markdown",
"metadata" : {},
"source" : ["           +-----+      \|- I + 1       +-----+      \|- I"]
}
,
{
"cell_type" : "markdown",
"metadata" : {},
"source" : ["         6\|I - 1 log(- ----------) - 6\|I - 1 atan(--------)"]
}
,
{
"cell_type" : "markdown",
"metadata" : {},
"source" : ["                           +-----+                   +-----+"]
}
,
{
"cell_type" : "markdown",
"metadata" : {},
"source" : ["                         2\|I - 1                   \|I - 1"]
}
,
{
"cell_type" : "markdown",
"metadata" : {},
"source" : ["       +"]
}
,
{
"cell_type" : "markdown",
"metadata" : {},
"source" : ["                  +-------+              +---+"]
}
,
{
"cell_type" : "markdown",
"metadata" : {},
"source" : ["         (2I - 8)\|- I + 1  + (- 2I + 6)\|- I"]
}
,
{
"cell_type" : "markdown",
"metadata" : {},
"source" : ["    /"]
}
,
{
"cell_type" : "markdown",
"metadata" : {},
"source" : ["       3"]
}
,
{
"cell_type" : "markdown",
"metadata" : {},
"source" : ["     ]"]
}
,
{
"cell_type" : "markdown",
"metadata" : {},
"source" : ["               Type: Union(f2: List OrderedCompletion Expression Integer,...)"]
}
,
{
"cell_type" : "markdown",
"metadata" : {},
"source" : [""]
}
,
{
"cell_type" : "code",
"execution_count": null,
"metadata" : {
    "collapsed" : false
},
"source" : ["in1638a:=integrate(-z/(z-1)/(1-I*z)^(1/2), z= 0..1,\"noPole\")"],
"outputs": []
}
,
{
"cell_type" : "markdown",
"metadata" : {},
"source" : [""]
}
,
{
"cell_type" : "markdown",
"metadata" : {},
"source" : ["   [ + infinity,"]
}
,
{
"cell_type" : "markdown",
"metadata" : {},
"source" : [""]
}
,
{
"cell_type" : "markdown",
"metadata" : {},
"source" : ["                     +-------+ +-----+             +-----+"]
}
,
{
"cell_type" : "markdown",
"metadata" : {},
"source" : ["                    \|- I + 1 \|I - 1             \|I - 1"]
}
,
{
"cell_type" : "markdown",
"metadata" : {},
"source" : ["         - 2I log(- ------------------) + 2I atan(--------)"]
}
,
{
"cell_type" : "markdown",
"metadata" : {},
"source" : ["                          2I - 2                    I - 1"]
}
,
{
"cell_type" : "markdown",
"metadata" : {},
"source" : ["       +"]
}
,
{
"cell_type" : "markdown",
"metadata" : {},
"source" : ["            +-------+      +-----+"]
}
,
{
"cell_type" : "markdown",
"metadata" : {},
"source" : ["         (2\|- I + 1  - 2)\|I - 1"]
}
,
{
"cell_type" : "markdown",
"metadata" : {},
"source" : ["    /"]
}
,
{
"cell_type" : "markdown",
"metadata" : {},
"source" : ["         +-----+"]
}
,
{
"cell_type" : "markdown",
"metadata" : {},
"source" : ["       I\|I - 1"]
}
,
{
"cell_type" : "markdown",
"metadata" : {},
"source" : ["     ]"]
}
,
{
"cell_type" : "markdown",
"metadata" : {},
"source" : ["               Type: Union(f2: List OrderedCompletion Expression Integer,...)"]
}
,
{
"cell_type" : "code",
"execution_count": null,
"metadata" : {
    "collapsed" : false
},
"source" : ["in1639a:=integrate(-z/(z-1)/(1-I*z^2)^(1/2), z= 0..1,\"noPole\")"],
"outputs": []
}
,
{
"cell_type" : "markdown",
"metadata" : {},
"source" : [""]
}
,
{
"cell_type" : "markdown",
"metadata" : {},
"source" : ["  [ + infinity,"]
}
,
{
"cell_type" : "markdown",
"metadata" : {},
"source" : [""]
}
,
{
"cell_type" : "markdown",
"metadata" : {},
"source" : ["           +-----+"]
}
,
{
"cell_type" : "markdown",
"metadata" : {},
"source" : ["          \|I - 1"]
}
,
{
"cell_type" : "markdown",
"metadata" : {},
"source" : ["       *"]
}
,
{
"cell_type" : "markdown",
"metadata" : {},
"source" : ["          log"]
}
,
{
"cell_type" : "markdown",
"metadata" : {},
"source" : ["                     2       +---+     2       +-------+        2       +---+"]
}
,
{
"cell_type" : "markdown",
"metadata" : {},
"source" : ["                 ((2I  - 4I)\|- I  + 4I  - 2I)\|- I + 1  + (- 4I  + 4I)\|- I"]
}
,
{
"cell_type" : "markdown",
"metadata" : {},
"source" : ["               +"]
}
,
{
"cell_type" : "markdown",
"metadata" : {},
"source" : ["                   3     2"]
}
,
{
"cell_type" : "markdown",
"metadata" : {},
"source" : ["                 2I  - 5I  + 2I"]
}
,
{
"cell_type" : "markdown",
"metadata" : {},
"source" : ["            /"]
}
,
{
"cell_type" : "markdown",
"metadata" : {},
"source" : ["                 +-------+"]
}
,
{
"cell_type" : "markdown",
"metadata" : {},
"source" : ["               2\|- I + 1  + I - 2"]
}
,
{
"cell_type" : "markdown",
"metadata" : {},
"source" : ["      +"]
}
,
{
"cell_type" : "markdown",
"metadata" : {},
"source" : ["                       +-------+          +-----+                 +-----+"]
}
,
{
"cell_type" : "markdown",
"metadata" : {},
"source" : ["          +---+    (- \|- I + 1  - I + 1)\|I - 1       +---+     \|I - 1"]
}
,
{
"cell_type" : "markdown",
"metadata" : {},
"source" : ["        4\|- I log(------------------------------) + 4\|- I atan(--------)"]
}
,
{
"cell_type" : "markdown",
"metadata" : {},
"source" : ["                              +-------+                            I - 1"]
}
,
{
"cell_type" : "markdown",
"metadata" : {},
"source" : ["                     (2I - 2)\|- I + 1  - 2I + 2"]
}
,
{
"cell_type" : "markdown",
"metadata" : {},
"source" : ["      +"]
}
,
{
"cell_type" : "markdown",
"metadata" : {},
"source" : ["                   +-----+"]
}
,
{
"cell_type" : "markdown",
"metadata" : {},
"source" : ["        - log(- I)\|I - 1"]
}
,
{
"cell_type" : "markdown",
"metadata" : {},
"source" : ["   /"]
}
,
{
"cell_type" : "markdown",
"metadata" : {},
"source" : ["        +---+ +-----+"]
}
,
{
"cell_type" : "markdown",
"metadata" : {},
"source" : ["      2\|- I \|I - 1"]
}
,
{
"cell_type" : "markdown",
"metadata" : {},
"source" : ["    ,"]
}
,
{
"cell_type" : "markdown",
"metadata" : {},
"source" : ["    + infinity,"]
}
,
{
"cell_type" : "markdown",
"metadata" : {},
"source" : [""]
}
,
{
"cell_type" : "markdown",
"metadata" : {},
"source" : ["                      +-------+          +-----+"]
}
,
{
"cell_type" : "markdown",
"metadata" : {},
"source" : ["          +-+    (- \|- I + 1  - I + 1)\|I - 1"]
}
,
{
"cell_type" : "markdown",
"metadata" : {},
"source" : ["        2\|I log(------------------------------)"]
}
,
{
"cell_type" : "markdown",
"metadata" : {},
"source" : ["                            +-------+"]
}
,
{
"cell_type" : "markdown",
"metadata" : {},
"source" : ["                   (2I - 2)\|- I + 1  - 2I + 2"]
}
,
{
"cell_type" : "markdown",
"metadata" : {},
"source" : ["      +"]
}
,
{
"cell_type" : "markdown",
"metadata" : {},
"source" : ["                        +-------+      +-+               +-----+"]
}
,
{
"cell_type" : "markdown",
"metadata" : {},
"source" : ["          +-----+     (\|- I + 1  - 1)\|I       +-+     \|I - 1"]
}
,
{
"cell_type" : "markdown",
"metadata" : {},
"source" : ["        2\|I - 1 atan(--------------------) + 2\|I atan(--------)"]
}
,
{
"cell_type" : "markdown",
"metadata" : {},
"source" : ["                                I                         I - 1"]
}
,
{
"cell_type" : "markdown",
"metadata" : {},
"source" : ["   /"]
}
,
{
"cell_type" : "markdown",
"metadata" : {},
"source" : ["       +-----+ +-+"]
}
,
{
"cell_type" : "markdown",
"metadata" : {},
"source" : ["      \|I - 1 \|I"]
}
,
{
"cell_type" : "markdown",
"metadata" : {},
"source" : ["    ]"]
}
,
{
"cell_type" : "markdown",
"metadata" : {},
"source" : ["              Type: Union(f2: List OrderedCompletion Expression Integer,...)"]
}
,
{
"cell_type" : "code",
"execution_count": null,
"metadata" : {
    "collapsed" : false
},
"source" : ["in1712a:=integrate(-log(-z)*(-I*z)^(1/2), z= 0..1,\"noPole\")"],
"outputs": []
}
,
{
"cell_type" : "markdown",
"metadata" : {},
"source" : [""]
}
,
{
"cell_type" : "markdown",
"metadata" : {},
"source" : ["           +---+"]
}
,
{
"cell_type" : "markdown",
"metadata" : {},
"source" : ["         4\|- I"]
}
,
{
"cell_type" : "markdown",
"metadata" : {},
"source" : ["         -------"]
}
,
{
"cell_type" : "markdown",
"metadata" : {},
"source" : ["            9"]
}
,
{
"cell_type" : "markdown",
"metadata" : {},
"source" : ["                    Type: Union(f1: OrderedCompletion Expression Integer,...)"]
}
,
{
"cell_type" : "code",
"execution_count": null,
"metadata" : {
    "collapsed" : false
},
"source" : ["in1720a:=integrate(-z^2/(z^2-1)*(1/(z-I))^(1/2), z= 0..1,\"noPole\")"],
"outputs": []
}
,
{
"cell_type" : "markdown",
"metadata" : {},
"source" : [""]
}
,
{
"cell_type" : "markdown",
"metadata" : {},
"source" : [" [ + infinity,"]
}
,
{
"cell_type" : "markdown",
"metadata" : {},
"source" : [""]
}
,
{
"cell_type" : "markdown",
"metadata" : {},
"source" : ["          +-----+         2            +-------+ +---+     3      2"]
}
,
{
"cell_type" : "markdown",
"metadata" : {},
"source" : ["       - \|I - 1 log((- 8I  - 12I - 4)\|- I - 1 \|- I  - 8I  - 16I  - 9I - 1)"]
}
,
{
"cell_type" : "markdown",
"metadata" : {},
"source" : ["     +"]
}
,
{
"cell_type" : "markdown",
"metadata" : {},
"source" : ["        +-----+         2       +-------+ +-------+     3     2"]
}
,
{
"cell_type" : "markdown",
"metadata" : {},
"source" : ["       \|I - 1 log((- 2I  - 2I)\|- I - 1 \|- I + 1  - 2I  - 2I  + I + 1)"]
}
,
{
"cell_type" : "markdown",
"metadata" : {},
"source" : ["     +"]
}
,
{
"cell_type" : "markdown",
"metadata" : {},
"source" : ["                           +-------+ +-----+"]
}
,
{
"cell_type" : "markdown",
"metadata" : {},
"source" : ["           +-------+      \|- I + 1 \|I - 1"]
}
,
{
"cell_type" : "markdown",
"metadata" : {},
"source" : ["       - 4\|- I - 1 log(- ------------------)"]
}
,
{
"cell_type" : "markdown",
"metadata" : {},
"source" : ["                                2I - 2"]
}
,
{
"cell_type" : "markdown",
"metadata" : {},
"source" : ["     +"]
}
,
{
"cell_type" : "markdown",
"metadata" : {},
"source" : ["                        +---+ +-----+"]
}
,
{
"cell_type" : "markdown",
"metadata" : {},
"source" : ["         +-------+     \|- I \|I - 1"]
}
,
{
"cell_type" : "markdown",
"metadata" : {},
"source" : ["       4\|- I - 1 atan(--------------)"]
}
,
{
"cell_type" : "markdown",
"metadata" : {},
"source" : ["                            I - 1"]
}
,
{
"cell_type" : "markdown",
"metadata" : {},
"source" : ["     +"]
}
,
{
"cell_type" : "markdown",
"metadata" : {},
"source" : ["            +-------+ +-------+     +-------+ +---+  +-----+"]
}
,
{
"cell_type" : "markdown",
"metadata" : {},
"source" : ["       (- 8\|- I - 1 \|- I + 1  + 8\|- I - 1 \|- I )\|I - 1"]
}
,
{
"cell_type" : "markdown",
"metadata" : {},
"source" : ["  /"]
}
,
{
"cell_type" : "markdown",
"metadata" : {},
"source" : ["       +-------+ +-----+"]
}
,
{
"cell_type" : "markdown",
"metadata" : {},
"source" : ["     4\|- I - 1 \|I - 1"]
}
,
{
"cell_type" : "markdown",
"metadata" : {},
"source" : ["   ,"]
}
,
{
"cell_type" : "markdown",
"metadata" : {},
"source" : ["   + infinity,"]
}
,
{
"cell_type" : "markdown",
"metadata" : {},
"source" : [""]
}
,
{
"cell_type" : "markdown",
"metadata" : {},
"source" : ["                        +-------+ +-----+                  +-------+ +-----+"]
}
,
{
"cell_type" : "markdown",
"metadata" : {},
"source" : ["          +-----+      \|- I + 1 \|I - 1      +-----+     \|- I + 1 \|I + 1"]
}
,
{
"cell_type" : "markdown",
"metadata" : {},
"source" : ["       - \|I + 1 log(- ------------------) + \|I - 1 atan(------------------)"]
}
,
{
"cell_type" : "markdown",
"metadata" : {},
"source" : ["                             2I - 2                              I + 1"]
}
,
{
"cell_type" : "markdown",
"metadata" : {},
"source" : ["     +"]
}
,
{
"cell_type" : "markdown",
"metadata" : {},
"source" : ["                       +---+ +-----+                  +---+ +-----+"]
}
,
{
"cell_type" : "markdown",
"metadata" : {},
"source" : ["          +-----+     \|- I \|I + 1      +-----+     \|- I \|I - 1"]
}
,
{
"cell_type" : "markdown",
"metadata" : {},
"source" : ["       - \|I - 1 atan(--------------) + \|I + 1 atan(--------------)"]
}
,
{
"cell_type" : "markdown",
"metadata" : {},
"source" : ["                           I + 1                          I - 1"]
}
,
{
"cell_type" : "markdown",
"metadata" : {},
"source" : ["     +"]
}
,
{
"cell_type" : "markdown",
"metadata" : {},
"source" : ["            +-------+     +---+  +-----+ +-----+"]
}
,
{
"cell_type" : "markdown",
"metadata" : {},
"source" : ["       (- 2\|- I + 1  + 2\|- I )\|I - 1 \|I + 1"]
}
,
{
"cell_type" : "markdown",
"metadata" : {},
"source" : ["  /"]
}
,
{
"cell_type" : "markdown",
"metadata" : {},
"source" : ["      +-----+ +-----+"]
}
,
{
"cell_type" : "markdown",
"metadata" : {},
"source" : ["     \|I - 1 \|I + 1"]
}
,
{
"cell_type" : "markdown",
"metadata" : {},
"source" : ["   ]"]
}
,
{
"cell_type" : "markdown",
"metadata" : {},
"source" : ["             Type: Union(f2: List OrderedCompletion Expression Integer,...)"]
}
,
{
"cell_type" : "code",
"execution_count": null,
"metadata" : {
    "collapsed" : false
},
"source" : ["in1721a:=integrate(-z^2/(z^2-1)/(1/(z-I))^(1/2), z= 0..1,\"noPole\")"],
"outputs": []
}
,
{
"cell_type" : "markdown",
"metadata" : {},
"source" : [""]
}
,
{
"cell_type" : "markdown",
"metadata" : {},
"source" : ["   [ + infinity,  + infinity,"]
}
,
{
"cell_type" : "markdown",
"metadata" : {},
"source" : [""]
}
,
{
"cell_type" : "markdown",
"metadata" : {},
"source" : ["           +-------+       +-------+ +-------+     2"]
}
,
{
"cell_type" : "markdown",
"metadata" : {},
"source" : ["         3\|- I - 1 log(2I\|- I - 1 \|- I + 1  + 2I  - 1)"]
}
,
{
"cell_type" : "markdown",
"metadata" : {},
"source" : ["       +"]
}
,
{
"cell_type" : "markdown",
"metadata" : {},
"source" : ["             +-------+             +-------+ +---+     2"]
}
,
{
"cell_type" : "markdown",
"metadata" : {},
"source" : ["         - 3\|- I - 1 log((8I + 4)\|- I - 1 \|- I  + 8I  + 8I + 1)"]
}
,
{
"cell_type" : "markdown",
"metadata" : {},
"source" : ["       +"]
}
,
{
"cell_type" : "markdown",
"metadata" : {},
"source" : ["                          +-------+                     +---+"]
}
,
{
"cell_type" : "markdown",
"metadata" : {},
"source" : ["            +-----+      \|- I + 1        +-----+      \|- I"]
}
,
{
"cell_type" : "markdown",
"metadata" : {},
"source" : ["         12\|I - 1 log(- ----------) - 12\|I - 1 atan(--------)"]
}
,
{
"cell_type" : "markdown",
"metadata" : {},
"source" : ["                            +-----+                    +-----+"]
}
,
{
"cell_type" : "markdown",
"metadata" : {},
"source" : ["                          2\|I - 1                    \|I - 1"]
}
,
{
"cell_type" : "markdown",
"metadata" : {},
"source" : ["       +"]
}
,
{
"cell_type" : "markdown",
"metadata" : {},
"source" : ["                  +-------+      +---+"]
}
,
{
"cell_type" : "markdown",
"metadata" : {},
"source" : ["         (8I - 8)\|- I + 1  - 8I\|- I"]
}
,
{
"cell_type" : "markdown",
"metadata" : {},
"source" : ["    /"]
}
,
{
"cell_type" : "markdown",
"metadata" : {},
"source" : ["       12"]
}
,
{
"cell_type" : "markdown",
"metadata" : {},
"source" : ["     ,"]
}
,
{
"cell_type" : "markdown",
"metadata" : {},
"source" : [""]
}
,
{
"cell_type" : "markdown",
"metadata" : {},
"source" : ["                         +-------+                    +---+"]
}
,
{
"cell_type" : "markdown",
"metadata" : {},
"source" : ["           +-----+      \|- I + 1       +-----+      \|- I"]
}
,
{
"cell_type" : "markdown",
"metadata" : {},
"source" : ["         3\|I - 1 log(- ----------) - 3\|I - 1 atan(--------)"]
}
,
{
"cell_type" : "markdown",
"metadata" : {},
"source" : ["                           +-----+                   +-----+"]
}
,
{
"cell_type" : "markdown",
"metadata" : {},
"source" : ["                         2\|I - 1                   \|I - 1"]
}
,
{
"cell_type" : "markdown",
"metadata" : {},
"source" : ["       +"]
}
,
{
"cell_type" : "markdown",
"metadata" : {},
"source" : ["                          +-------+                    +---+"]
}
,
{
"cell_type" : "markdown",
"metadata" : {},
"source" : ["             +-----+     \|- I + 1       +-----+      \|- I"]
}
,
{
"cell_type" : "markdown",
"metadata" : {},
"source" : ["         - 3\|I + 1 atan(----------) + 3\|I + 1 atan(--------)"]
}
,
{
"cell_type" : "markdown",
"metadata" : {},
"source" : ["                           +-----+                    +-----+"]
}
,
{
"cell_type" : "markdown",
"metadata" : {},
"source" : ["                          \|I + 1                    \|I + 1"]
}
,
{
"cell_type" : "markdown",
"metadata" : {},
"source" : ["       +"]
}
,
{
"cell_type" : "markdown",
"metadata" : {},
"source" : ["                  +-------+      +---+"]
}
,
{
"cell_type" : "markdown",
"metadata" : {},
"source" : ["         (2I - 2)\|- I + 1  - 2I\|- I"]
}
,
{
"cell_type" : "markdown",
"metadata" : {},
"source" : ["    /"]
}
,
{
"cell_type" : "markdown",
"metadata" : {},
"source" : ["       3"]
}
,
{
"cell_type" : "markdown",
"metadata" : {},
"source" : ["     ]"]
}
,
{
"cell_type" : "markdown",
"metadata" : {},
"source" : ["               Type: Union(f2: List OrderedCompletion Expression Integer,...)"]
}
,
{
"cell_type" : "code",
"execution_count": null,
"metadata" : {
    "collapsed" : false
},
"source" : ["in1723a:=integrate(-z^2/(z^2-1)*(1+I/z)^(1/2), z= 0..1,\"noPole\")"],
"outputs": []
}
,
{
"cell_type" : "markdown",
"metadata" : {},
"source" : [""]
}
,
{
"cell_type" : "markdown",
"metadata" : {},
"source" : [" [ + infinity,  + infinity,"]
}
,
{
"cell_type" : "markdown",
"metadata" : {},
"source" : [""]
}
,
{
"cell_type" : "markdown",
"metadata" : {},
"source" : ["                                                                   +-----+"]
}
,
{
"cell_type" : "markdown",
"metadata" : {},
"source" : ["                 +-----+                +-+      +-------+        \|I + 1"]
}
,
{
"cell_type" : "markdown",
"metadata" : {},
"source" : ["       - 2I log(\|I + 1  + 1) + 2I log(\|I ) + 4\|- I - 1 log(- -----------)"]
}
,
{
"cell_type" : "markdown",
"metadata" : {},
"source" : ["                                                                  +-------+"]
}
,
{
"cell_type" : "markdown",
"metadata" : {},
"source" : ["                                                                2\|- I - 1"]
}
,
{
"cell_type" : "markdown",
"metadata" : {},
"source" : ["     +"]
}
,
{
"cell_type" : "markdown",
"metadata" : {},
"source" : ["                 +-----+"]
}
,
{
"cell_type" : "markdown",
"metadata" : {},
"source" : ["       I log(- 2\|I + 1  + I + 2)"]
}
,
{
"cell_type" : "markdown",
"metadata" : {},
"source" : ["     +"]
}
,
{
"cell_type" : "markdown",
"metadata" : {},
"source" : ["        +-------+        +-------+ +-----+    2          +-----+"]
}
,
{
"cell_type" : "markdown",
"metadata" : {},
"source" : ["       \|- I + 1 log(- 2\|- I + 1 \|I + 1  - I  + 2) - 4\|I + 1"]
}
,
{
"cell_type" : "markdown",
"metadata" : {},
"source" : ["     +"]
}
,
{
"cell_type" : "markdown",
"metadata" : {},
"source" : ["              2  +-------+        +-------+"]
}
,
{
"cell_type" : "markdown",
"metadata" : {},
"source" : ["       - log(I )\|- I + 1  - 2%pi\|- I - 1  - I log(I)"]
}
,
{
"cell_type" : "markdown",
"metadata" : {},
"source" : ["  /"]
}
,
{
"cell_type" : "markdown",
"metadata" : {},
"source" : ["     4"]
}
,
{
"cell_type" : "markdown",
"metadata" : {},
"source" : ["   ,"]
}
,
{
"cell_type" : "markdown",
"metadata" : {},
"source" : [""]
}
,
{
"cell_type" : "markdown",
"metadata" : {},
"source" : ["                                                                   +-----+"]
}
,
{
"cell_type" : "markdown",
"metadata" : {},
"source" : ["                 +-----+                +-+      +-------+        \|I + 1"]
}
,
{
"cell_type" : "markdown",
"metadata" : {},
"source" : ["       - 2I log(\|I + 1  + 1) + 2I log(\|I ) + 4\|- I - 1 log(- -----------)"]
}
,
{
"cell_type" : "markdown",
"metadata" : {},
"source" : ["                                                                  +-------+"]
}
,
{
"cell_type" : "markdown",
"metadata" : {},
"source" : ["                                                                2\|- I - 1"]
}
,
{
"cell_type" : "markdown",
"metadata" : {},
"source" : ["     +"]
}
,
{
"cell_type" : "markdown",
"metadata" : {},
"source" : ["                                                   +-----+"]
}
,
{
"cell_type" : "markdown",
"metadata" : {},
"source" : ["                 +-----+              +-----+     \|I - 1       +-----+"]
}
,
{
"cell_type" : "markdown",
"metadata" : {},
"source" : ["       I log(- 2\|I + 1  + I + 2) + 4\|I - 1 atan(--------) - 4\|I + 1"]
}
,
{
"cell_type" : "markdown",
"metadata" : {},
"source" : ["                                                   +-----+"]
}
,
{
"cell_type" : "markdown",
"metadata" : {},
"source" : ["                                                  \|I + 1"]
}
,
{
"cell_type" : "markdown",
"metadata" : {},
"source" : ["     +"]
}
,
{
"cell_type" : "markdown",
"metadata" : {},
"source" : ["              +-------+"]
}
,
{
"cell_type" : "markdown",
"metadata" : {},
"source" : ["       - 2%pi\|- I - 1  - I log(I)"]
}
,
{
"cell_type" : "markdown",
"metadata" : {},
"source" : ["  /"]
}
,
{
"cell_type" : "markdown",
"metadata" : {},
"source" : ["     4"]
}
,
{
"cell_type" : "markdown",
"metadata" : {},
"source" : ["   ]"]
}
,
{
"cell_type" : "markdown",
"metadata" : {},
"source" : ["             Type: Union(f2: List OrderedCompletion Expression Integer,...)"]
}
,
{
"cell_type" : "code",
"execution_count": null,
"metadata" : {
    "collapsed" : false
},
"source" : ["in1724a:=integrate(-z^2/(z^2-1)*(1-(I*z)^(1/2))^(1/2), z= 0..1,\"noPole\")"],
"outputs": []
}
,
{
"cell_type" : "markdown",
"metadata" : {},
"source" : [""]
}
,
{
"cell_type" : "markdown",
"metadata" : {},
"source" : ["                           +----------+"]
}
,
{
"cell_type" : "markdown",
"metadata" : {},
"source" : ["            +-+            |   +-+"]
}
,
{
"cell_type" : "markdown",
"metadata" : {},
"source" : ["         (4\|I  - 12I + 8)\|- \|I  + 1  - 8"]
}
,
{
"cell_type" : "markdown",
"metadata" : {},
"source" : ["         ----------------------------------"]
}
,
{
"cell_type" : "markdown",
"metadata" : {},
"source" : ["                         15I"]
}
,
{
"cell_type" : "markdown",
"metadata" : {},
"source" : ["                    Type: Union(f1: OrderedCompletion Expression Integer,...)"]
}
,
{
"cell_type" : "code",
"execution_count": null,
"metadata" : {
    "collapsed" : false
},
"source" : ["in1731:=integrate(-log(1-z^2)*atanh(z), z= 0..1)"],
"outputs": []
}
,
{
"cell_type" : "markdown",
"metadata" : {},
"source" : [""]
}
,
{
"cell_type" : "markdown",
"metadata" : {},
"source" : ["                 2"]
}
,
{
"cell_type" : "markdown",
"metadata" : {},
"source" : ["         - log(4)  + 4log(4)"]
}
,
{
"cell_type" : "markdown",
"metadata" : {},
"source" : ["         -------------------"]
}
,
{
"cell_type" : "markdown",
"metadata" : {},
"source" : ["                  4"]
}
,
{
"cell_type" : "markdown",
"metadata" : {},
"source" : ["                    Type: Union(f1: OrderedCompletion Expression Integer,...)"]
}
,
{
"cell_type" : "code",
"execution_count": null,
"metadata" : {
    "collapsed" : false
},
"source" : ["in1793a:=integrate((1-z^(1/2))^(1/2)*acoth(z^(1/2)), z= 0..1,\"noPole\")"],
"outputs": []
}
,
{
"cell_type" : "markdown",
"metadata" : {},
"source" : [""]
}
,
{
"cell_type" : "markdown",
"metadata" : {},
"source" : ["             +-+       +-+"]
}
,
{
"cell_type" : "markdown",
"metadata" : {},
"source" : ["         - 2\|2 log(12\|2  + 17) + 16"]
}
,
{
"cell_type" : "markdown",
"metadata" : {},
"source" : ["         ----------------------------"]
}
,
{
"cell_type" : "markdown",
"metadata" : {},
"source" : ["                      15"]
}
,
{
"cell_type" : "markdown",
"metadata" : {},
"source" : ["                    Type: Union(f1: OrderedCompletion Expression Integer,...)"]
}
,
{
"cell_type" : "code",
"execution_count": null,
"metadata" : {
    "collapsed" : false
},
"source" : ["in1794a:=integrate((1-z^(1/2))^(1/2)*acoth(1-z^(1/2)), z= 0..1,\"noPole\")"],
"outputs": []
}
,
{
"cell_type" : "markdown",
"metadata" : {},
"source" : [""]
}
,
{
"cell_type" : "markdown",
"metadata" : {},
"source" : ["         - 4log(2) - 8%pi + 32"]
}
,
{
"cell_type" : "markdown",
"metadata" : {},
"source" : ["         ---------------------"]
}
,
{
"cell_type" : "markdown",
"metadata" : {},
"source" : ["                   15"]
}
,
{
"cell_type" : "markdown",
"metadata" : {},
"source" : ["                    Type: Union(f1: OrderedCompletion Expression Integer,...)"]
}
,
{
"cell_type" : "code",
"execution_count": null,
"metadata" : {
    "collapsed" : false
},
"source" : ["in1796a:=integrate((1+(1-z)^(1/2))^(1/2), z= 0..1,\"noPole\")"],
"outputs": []
}
,
{
"cell_type" : "markdown",
"metadata" : {},
"source" : [""]
}
,
{
"cell_type" : "markdown",
"metadata" : {},
"source" : ["           +-+"]
}
,
{
"cell_type" : "markdown",
"metadata" : {},
"source" : ["         8\|2  + 8"]
}
,
{
"cell_type" : "markdown",
"metadata" : {},
"source" : ["         ---------"]
}
,
{
"cell_type" : "markdown",
"metadata" : {},
"source" : ["             15"]
}
,
{
"cell_type" : "markdown",
"metadata" : {},
"source" : ["                    Type: Union(f1: OrderedCompletion Expression Integer,...)"]
}
,
{
"cell_type" : "code",
"execution_count": null,
"metadata" : {
    "collapsed" : false
},
"source" : ["in183:=integrate(1/z, z= I..2*I)"],
"outputs": []
}
,
{
"cell_type" : "markdown",
"metadata" : {},
"source" : [""]
}
,
{
"cell_type" : "markdown",
"metadata" : {},
"source" : ["               2         2"]
}
,
{
"cell_type" : "markdown",
"metadata" : {},
"source" : ["         log(4I ) - log(I )"]
}
,
{
"cell_type" : "markdown",
"metadata" : {},
"source" : ["         ------------------"]
}
,
{
"cell_type" : "markdown",
"metadata" : {},
"source" : ["                  2"]
}
,
{
"cell_type" : "markdown",
"metadata" : {},
"source" : ["                    Type: Union(f1: OrderedCompletion Expression Integer,...)"]
}
,
{
"cell_type" : "code",
"execution_count": null,
"metadata" : {
    "collapsed" : false
},
"source" : ["in184:=integrate(exp(I*z), z= I..2*I)"],
"outputs": []
}
,
{
"cell_type" : "markdown",
"metadata" : {},
"source" : [""]
}
,
{
"cell_type" : "markdown",
"metadata" : {},
"source" : ["             2      2"]
}
,
{
"cell_type" : "markdown",
"metadata" : {},
"source" : ["           2I      I"]
}
,
{
"cell_type" : "markdown",
"metadata" : {},
"source" : ["         %e    - %e"]
}
,
{
"cell_type" : "markdown",
"metadata" : {},
"source" : ["   (29)  ------------"]
}
,
{
"cell_type" : "markdown",
"metadata" : {},
"source" : ["               I"]
}
,
{
"cell_type" : "markdown",
"metadata" : {},
"source" : ["                    Type: Union(f1: OrderedCompletion Expression Integer,...)"]
}
,
{
"cell_type" : "code",
"execution_count": null,
"metadata" : {
    "collapsed" : false
},
"source" : ["in184a:=integrate(exp(%i*z), z= %i..2*%i)"],
"outputs": []
}
,
{
"cell_type" : "markdown",
"metadata" : {},
"source" : [""]
}
,
{
"cell_type" : "markdown",
"metadata" : {},
"source" : ["              2"]
}
,
{
"cell_type" : "markdown",
"metadata" : {},
"source" : ["         %i %e  - %i %e"]
}
,
{
"cell_type" : "markdown",
"metadata" : {},
"source" : ["   (30)  --------------"]
}
,
{
"cell_type" : "markdown",
"metadata" : {},
"source" : ["                  2"]
}
,
{
"cell_type" : "markdown",
"metadata" : {},
"source" : ["             %e %e"]
}
,
{
"cell_type" : "markdown",
"metadata" : {},
"source" : ["            Type: Union(f1: OrderedCompletion Expression Complex Integer,...)"]
}
,
{
"cell_type" : "code",
"execution_count": null,
"metadata" : {
    "collapsed" : false
},
"source" : ["in187a:=integrate(2^log(z), z= -I..I,\"noPole\")"],
"outputs": []
}
,
{
"cell_type" : "markdown",
"metadata" : {},
"source" : [""]
}
,
{
"cell_type" : "markdown",
"metadata" : {},
"source" : ["             log(2)log(I)       log(2)log(- I)"]
}
,
{
"cell_type" : "markdown",
"metadata" : {},
"source" : ["         I %e             + I %e"]
}
,
{
"cell_type" : "markdown",
"metadata" : {},
"source" : ["         -------------------------------------"]
}
,
{
"cell_type" : "markdown",
"metadata" : {},
"source" : ["                       log(2) + 1"]
}
,
{
"cell_type" : "markdown",
"metadata" : {},
"source" : ["                    Type: Union(f1: OrderedCompletion Expression Integer,...)"]
}
,
{
"cell_type" : "code",
"execution_count": null,
"metadata" : {
    "collapsed" : false
},
"source" : ["in187a:=integrate(2^log(z), z= -%i..%i,\"noPole\")"],
"outputs": []
}
,
{
"cell_type" : "markdown",
"metadata" : {},
"source" : [""]
}
,
{
"cell_type" : "markdown",
"metadata" : {},
"source" : ["              log(%i)log(2)        log(- %i)log(2)"]
}
,
{
"cell_type" : "markdown",
"metadata" : {},
"source" : ["         %i %e              + %i %e"]
}
,
{
"cell_type" : "markdown",
"metadata" : {},
"source" : ["         -----------------------------------------"]
}
,
{
"cell_type" : "markdown",
"metadata" : {},
"source" : ["                         log(2) + 1"]
}
,
{
"cell_type" : "markdown",
"metadata" : {},
"source" : ["            Type: Union(f1: OrderedCompletion Expression Complex Integer,...)"]
}
,
{
"cell_type" : "code",
"execution_count": null,
"metadata" : {
    "collapsed" : false
},
"source" : ["in194a:=integrate(sqrt(z^2), z= 1..2,\"noPole\")"],
"outputs": []
}
,
{
"cell_type" : "markdown",
"metadata" : {},
"source" : [""]
}
,
{
"cell_type" : "markdown",
"metadata" : {},
"source" : ["         3"]
}
,
{
"cell_type" : "markdown",
"metadata" : {},
"source" : ["   (43)  -"]
}
,
{
"cell_type" : "markdown",
"metadata" : {},
"source" : ["         2"]
}
,
{
"cell_type" : "markdown",
"metadata" : {},
"source" : ["                    Type: Union(f1: OrderedCompletion Expression Integer,...)"]
}
,
{
"cell_type" : "code",
"execution_count": null,
"metadata" : {
    "collapsed" : false
},
"source" : ["in1854a:=integrate(1/(z-1)/(1/(z-I))^(1/2), z= 0..1,\"noPole\")"],
"outputs": []
}
,
{
"cell_type" : "markdown",
"metadata" : {},
"source" : [""]
}
,
{
"cell_type" : "markdown",
"metadata" : {},
"source" : ["   [- infinity,"]
}
,
{
"cell_type" : "markdown",
"metadata" : {},
"source" : [""]
}
,
{
"cell_type" : "markdown",
"metadata" : {},
"source" : ["                         +-------+                    +---+"]
}
,
{
"cell_type" : "markdown",
"metadata" : {},
"source" : ["           +-----+      \|- I + 1       +-----+      \|- I        +-------+"]
}
,
{
"cell_type" : "markdown",
"metadata" : {},
"source" : ["       - 2\|I - 1 log(- ----------) + 2\|I - 1 atan(--------) + 2\|- I + 1"]
}
,
{
"cell_type" : "markdown",
"metadata" : {},
"source" : ["                           +-----+                   +-----+"]
}
,
{
"cell_type" : "markdown",
"metadata" : {},
"source" : ["                         2\|I - 1                   \|I - 1"]
}
,
{
"cell_type" : "markdown",
"metadata" : {},
"source" : ["     +"]
}
,
{
"cell_type" : "markdown",
"metadata" : {},
"source" : ["           +---+"]
}
,
{
"cell_type" : "markdown",
"metadata" : {},
"source" : ["       - 2\|- I"]
}
,
{
"cell_type" : "markdown",
"metadata" : {},
"source" : ["     ]"]
}
,
{
"cell_type" : "markdown",
"metadata" : {},
"source" : ["               Type: Union(f2: List OrderedCompletion Expression Integer,...)"]
}
,
{
"cell_type" : "code",
"execution_count": null,
"metadata" : {
    "collapsed" : false
},
"source" : ["in1856a:=integrate(1/(z-1)/(1-I*z)^(1/2), z= 0..1,\"noPole\")"],
"outputs": []
}
,
{
"cell_type" : "markdown",
"metadata" : {},
"source" : [""]
}
,
{
"cell_type" : "markdown",
"metadata" : {},
"source" : ["                            +-------+ +-----+           +-----+"]
}
,
{
"cell_type" : "markdown",
"metadata" : {},
"source" : ["                           \|- I + 1 \|I - 1           \|I - 1"]
}
,
{
"cell_type" : "markdown",
"metadata" : {},
"source" : ["                    2log(- ------------------) - 2atan(--------)"]
}
,
{
"cell_type" : "markdown",
"metadata" : {},
"source" : ["                                 2I - 2                  I - 1"]
}
,
{
"cell_type" : "markdown",
"metadata" : {},
"source" : ["        [- infinity,--------------------------------------------]"]
}
,
{
"cell_type" : "markdown",
"metadata" : {},
"source" : ["                                       +-----+"]
}
,
{
"cell_type" : "markdown",
"metadata" : {},
"source" : ["                                      \|I - 1"]
}
,
{
"cell_type" : "markdown",
"metadata" : {},
"source" : ["               Type: Union(f2: List OrderedCompletion Expression Integer,...)"]
}
,
{
"cell_type" : "code",
"execution_count": null,
"metadata" : {
    "collapsed" : false
},
"source" : ["in1859a:=integrate(1/(z^2-1)*(1+1/z^3)^(1/2), z= 0..1,\"noPole\")"],
"outputs": []
}
,
{
"cell_type" : "markdown",
"metadata" : {},
"source" : [""]
}
,
{
"cell_type" : "markdown",
"metadata" : {},
"source" : ["             +-------------------+"]
}
,
{
"cell_type" : "markdown",
"metadata" : {},
"source" : ["             |        2"]
}
,
{
"cell_type" : "markdown",
"metadata" : {},
"source" : ["         (- \|- 3%%EM0  - 2 + 6%i  - %%EM0)"]
}
,
{
"cell_type" : "markdown",
"metadata" : {},
"source" : ["      *"]
}
,
{
"cell_type" : "markdown",
"metadata" : {},
"source" : ["         log"]
}
,
{
"cell_type" : "markdown",
"metadata" : {},
"source" : ["                                +--+                                 +--+"]
}
,
{
"cell_type" : "markdown",
"metadata" : {},
"source" : ["                    ((8 + 72%i)\|%i  + 10 + 8%i)%%EM0 + (- 2 - 18%i)\|%i  + 2"]
}
,
{
"cell_type" : "markdown",
"metadata" : {},
"source" : ["                  +"]
}
,
{
"cell_type" : "markdown",
"metadata" : {},
"source" : ["                    18%i"]
}
,
{
"cell_type" : "markdown",
"metadata" : {},
"source" : ["             *"]
}
,
{
"cell_type" : "markdown",
"metadata" : {},
"source" : ["                 +-------------------+"]
}
,
{
"cell_type" : "markdown",
"metadata" : {},
"source" : ["                 |        2"]
}
,
{
"cell_type" : "markdown",
"metadata" : {},
"source" : ["                \|- 3%%EM0  - 2 + 6%i"]
}
,
{
"cell_type" : "markdown",
"metadata" : {},
"source" : ["            +"]
}
,
{
"cell_type" : "markdown",
"metadata" : {},
"source" : ["                            +--+                 2"]
}
,
{
"cell_type" : "markdown",
"metadata" : {},
"source" : ["              ((- 8 - 72%i)\|%i  - 10 - 8%i)%%EM0"]
}
,
{
"cell_type" : "markdown",
"metadata" : {},
"source" : ["            +"]
}
,
{
"cell_type" : "markdown",
"metadata" : {},
"source" : ["                            +--+                                  +--+"]
}
,
{
"cell_type" : "markdown",
"metadata" : {},
"source" : ["              ((- 2 - 18%i)\|%i  + 2 + 18%i)%%EM0 + (- 128 - 4%i)\|%i  - 68"]
}
,
{
"cell_type" : "markdown",
"metadata" : {},
"source" : ["            +"]
}
,
{
"cell_type" : "markdown",
"metadata" : {},
"source" : ["              - 120%i"]
}
,
{
"cell_type" : "markdown",
"metadata" : {},
"source" : ["     +"]
}
,
{
"cell_type" : "markdown",
"metadata" : {},
"source" : ["           +-------------------+"]
}
,
{
"cell_type" : "markdown",
"metadata" : {},
"source" : ["           |        2"]
}
,
{
"cell_type" : "markdown",
"metadata" : {},
"source" : ["         (\|- 3%%EM0  - 2 + 6%i  + %%EM0)"]
}
,
{
"cell_type" : "markdown",
"metadata" : {},
"source" : ["      *"]
}
,
{
"cell_type" : "markdown",
"metadata" : {},
"source" : ["         log"]
}
,
{
"cell_type" : "markdown",
"metadata" : {},
"source" : ["                                           +-------------------+"]
}
,
{
"cell_type" : "markdown",
"metadata" : {},
"source" : ["                                           |        2"]
}
,
{
"cell_type" : "markdown",
"metadata" : {},
"source" : ["              ((10 + 8%i)%%EM0 + 2 + 18%i)\|- 3%%EM0  - 2 + 6%i"]
}
,
{
"cell_type" : "markdown",
"metadata" : {},
"source" : ["            +"]
}
,
{
"cell_type" : "markdown",
"metadata" : {},
"source" : ["                               2"]
}
,
{
"cell_type" : "markdown",
"metadata" : {},
"source" : ["              (- 10 - 8%i)%%EM0  + (2 + 18%i)%%EM0 - 50 - 40%i"]
}
,
{
"cell_type" : "markdown",
"metadata" : {},
"source" : ["     +"]
}
,
{
"cell_type" : "markdown",
"metadata" : {},
"source" : ["             +-------------------+"]
}
,
{
"cell_type" : "markdown",
"metadata" : {},
"source" : ["             |        2"]
}
,
{
"cell_type" : "markdown",
"metadata" : {},
"source" : ["         (- \|- 3%%EM0  - 2 + 6%i  + %%EM0)"]
}
,
{
"cell_type" : "markdown",
"metadata" : {},
"source" : ["      *"]
}
,
{
"cell_type" : "markdown",
"metadata" : {},
"source" : ["         log"]
}
,
{
"cell_type" : "markdown",
"metadata" : {},
"source" : ["                                             +-------------------+"]
}
,
{
"cell_type" : "markdown",
"metadata" : {},
"source" : ["                                             |        2"]
}
,
{
"cell_type" : "markdown",
"metadata" : {},
"source" : ["              ((- 10 - 8%i)%%EM0 - 2 - 18%i)\|- 3%%EM0  - 2 + 6%i"]
}
,
{
"cell_type" : "markdown",
"metadata" : {},
"source" : ["            +"]
}
,
{
"cell_type" : "markdown",
"metadata" : {},
"source" : ["                               2"]
}
,
{
"cell_type" : "markdown",
"metadata" : {},
"source" : ["              (- 10 - 8%i)%%EM0  + (2 + 18%i)%%EM0 - 50 - 40%i"]
}
,
{
"cell_type" : "markdown",
"metadata" : {},
"source" : ["     +"]
}
,
{
"cell_type" : "markdown",
"metadata" : {},
"source" : ["           +-------------------+"]
}
,
{
"cell_type" : "markdown",
"metadata" : {},
"source" : ["           |        2"]
}
,
{
"cell_type" : "markdown",
"metadata" : {},
"source" : ["         (\|- 3%%EM0  - 2 + 6%i  - %%EM0)"]
}
,
{
"cell_type" : "markdown",
"metadata" : {},
"source" : ["      *"]
}
,
{
"cell_type" : "markdown",
"metadata" : {},
"source" : ["         log"]
}
,
{
"cell_type" : "markdown",
"metadata" : {},
"source" : ["                                  +--+                               +--+"]
}
,
{
"cell_type" : "markdown",
"metadata" : {},
"source" : ["                    ((- 8 - 72%i)\|%i  - 10 - 8%i)%%EM0 + (2 + 18%i)\|%i  - 2"]
}
,
{
"cell_type" : "markdown",
"metadata" : {},
"source" : ["                  +"]
}
,
{
"cell_type" : "markdown",
"metadata" : {},
"source" : ["                    - 18%i"]
}
,
{
"cell_type" : "markdown",
"metadata" : {},
"source" : ["             *"]
}
,
{
"cell_type" : "markdown",
"metadata" : {},
"source" : ["                 +-------------------+"]
}
,
{
"cell_type" : "markdown",
"metadata" : {},
"source" : ["                 |        2"]
}
,
{
"cell_type" : "markdown",
"metadata" : {},
"source" : ["                \|- 3%%EM0  - 2 + 6%i"]
}
,
{
"cell_type" : "markdown",
"metadata" : {},
"source" : ["            +"]
}
,
{
"cell_type" : "markdown",
"metadata" : {},
"source" : ["                            +--+                 2"]
}
,
{
"cell_type" : "markdown",
"metadata" : {},
"source" : ["              ((- 8 - 72%i)\|%i  - 10 - 8%i)%%EM0"]
}
,
{
"cell_type" : "markdown",
"metadata" : {},
"source" : ["            +"]
}
,
{
"cell_type" : "markdown",
"metadata" : {},
"source" : ["                            +--+                                  +--+"]
}
,
{
"cell_type" : "markdown",
"metadata" : {},
"source" : ["              ((- 2 - 18%i)\|%i  + 2 + 18%i)%%EM0 + (- 128 - 4%i)\|%i  - 68"]
}
,
{
"cell_type" : "markdown",
"metadata" : {},
"source" : ["            +"]
}
,
{
"cell_type" : "markdown",
"metadata" : {},
"source" : ["              - 120%i"]
}
,
{
"cell_type" : "markdown",
"metadata" : {},
"source" : ["     +"]
}
,
{
"cell_type" : "markdown",
"metadata" : {},
"source" : ["         2%%EM0"]
}
,
{
"cell_type" : "markdown",
"metadata" : {},
"source" : ["      *"]
}
,
{
"cell_type" : "markdown",
"metadata" : {},
"source" : ["         log"]
}
,
{
"cell_type" : "markdown",
"metadata" : {},
"source" : ["                          +--+                 2"]
}
,
{
"cell_type" : "markdown",
"metadata" : {},
"source" : ["              ((72 - 8%i)\|%i  + 8 - 10%i)%%EM0"]
}
,
{
"cell_type" : "markdown",
"metadata" : {},
"source" : ["            +"]
}
,
{
"cell_type" : "markdown",
"metadata" : {},
"source" : ["                         +--+                                +--+"]
}
,
{
"cell_type" : "markdown",
"metadata" : {},
"source" : ["             ((18 - 2%i)\|%i  - 18 + 2%i)%%EM0 + (22 - 48%i)\|%i  - 71 + 17%i"]
}
,
{
"cell_type" : "markdown",
"metadata" : {},
"source" : ["     +"]
}
,
{
"cell_type" : "markdown",
"metadata" : {},
"source" : ["                                   2"]
}
,
{
"cell_type" : "markdown",
"metadata" : {},
"source" : ["       - 2%%EM0 log((8 - 10%i)%%EM0  + (- 18 + 2%i)%%EM0 - 31 + 8%i)"]
}
,
{
"cell_type" : "markdown",
"metadata" : {},
"source" : ["  /"]
}
,
{
"cell_type" : "markdown",
"metadata" : {},
"source" : ["     4"]
}
,
{
"cell_type" : "markdown",
"metadata" : {},
"source" : ["            Type: Union(f1: OrderedCompletion Expression Complex Integer,...)"]
}
,
{
"cell_type" : "code",
"execution_count": null,
"metadata" : {
    "collapsed" : false
},
"source" : ["in1863a:=integrate(1/(z^2-1)*(1/(z-I))^(1/2), z= 0..1,\"noPole\")"],
"outputs": []
}
,
{
"cell_type" : "markdown",
"metadata" : {},
"source" : [" [- infinity,"]
}
,
{
"cell_type" : "markdown",
"metadata" : {},
"source" : [""]
}
,
{
"cell_type" : "markdown",
"metadata" : {},
"source" : ["        +-----+       2       +-------+ +-------+     3     2"]
}
,
{
"cell_type" : "markdown",
"metadata" : {},
"source" : ["       \|I - 1 log((2I  + 2I)\|- I - 1 \|- I + 1  - 2I  - 2I  + I + 1)"]
}
,
{
"cell_type" : "markdown",
"metadata" : {},
"source" : ["     +"]
}
,
{
"cell_type" : "markdown",
"metadata" : {},
"source" : ["          +-----+       2            +-------+ +---+     3      2"]
}
,
{
"cell_type" : "markdown",
"metadata" : {},
"source" : ["       - \|I - 1 log((8I  + 12I + 4)\|- I - 1 \|- I  - 8I  - 16I  - 9I - 1)"]
}
,
{
"cell_type" : "markdown",
"metadata" : {},
"source" : ["     +"]
}
,
{
"cell_type" : "markdown",
"metadata" : {},
"source" : ["                         +-------+ +-----+                     +---+ +-----+"]
}
,
{
"cell_type" : "markdown",
"metadata" : {},
"source" : ["         +-------+      \|- I + 1 \|I - 1       +-------+     \|- I \|I - 1"]
}
,
{
"cell_type" : "markdown",
"metadata" : {},
"source" : ["       4\|- I - 1 log(- ------------------) - 4\|- I - 1 atan(--------------)"]
}
,
{
"cell_type" : "markdown",
"metadata" : {},
"source" : ["                              2I - 2                               I - 1"]
}
,
{
"cell_type" : "markdown",
"metadata" : {},
"source" : ["  /"]
}
,
{
"cell_type" : "markdown",
"metadata" : {},
"source" : ["       +-------+ +-----+"]
}
,
{
"cell_type" : "markdown",
"metadata" : {},
"source" : ["     4\|- I - 1 \|I - 1"]
}
,
{
"cell_type" : "markdown",
"metadata" : {},
"source" : ["   ,"]
}
,
{
"cell_type" : "markdown",
"metadata" : {},
"source" : ["  - infinity,"]
}
,
{
"cell_type" : "markdown",
"metadata" : {},
"source" : [""]
}
,
{
"cell_type" : "markdown",
"metadata" : {},
"source" : ["                      +-------+ +-----+                  +-------+ +-----+"]
}
,
{
"cell_type" : "markdown",
"metadata" : {},
"source" : ["        +-----+      \|- I + 1 \|I - 1      +-----+     \|- I + 1 \|I + 1"]
}
,
{
"cell_type" : "markdown",
"metadata" : {},
"source" : ["       \|I + 1 log(- ------------------) - \|I - 1 atan(------------------)"]
}
,
{
"cell_type" : "markdown",
"metadata" : {},
"source" : ["                           2I - 2                              I + 1"]
}
,
{
"cell_type" : "markdown",
"metadata" : {},
"source" : ["     +"]
}
,
{
"cell_type" : "markdown",
"metadata" : {},
"source" : ["                     +---+ +-----+                  +---+ +-----+"]
}
,
{
"cell_type" : "markdown",
"metadata" : {},
"source" : ["        +-----+     \|- I \|I + 1      +-----+     \|- I \|I - 1"]
}
,
{
"cell_type" : "markdown",
"metadata" : {},
"source" : ["       \|I - 1 atan(--------------) - \|I + 1 atan(--------------)"]
}
,
{
"cell_type" : "markdown",
"metadata" : {},
"source" : ["                         I + 1                          I - 1"]
}
,
{
"cell_type" : "markdown",
"metadata" : {},
"source" : ["  /"]
}
,
{
"cell_type" : "markdown",
"metadata" : {},
"source" : ["      +-----+ +-----+"]
}
,
{
"cell_type" : "markdown",
"metadata" : {},
"source" : ["     \|I - 1 \|I + 1"]
}
,
{
"cell_type" : "markdown",
"metadata" : {},
"source" : ["   ]"]
}
,
{
"cell_type" : "markdown",
"metadata" : {},
"source" : ["             Type: Union(f2: List OrderedCompletion Expression Integer,...)"]
}
,
{
"cell_type" : "code",
"execution_count": null,
"metadata" : {
    "collapsed" : false
},
"source" : ["in1864a:=integrate(1/(z^2-1)*((1+z)/(z-1))^(1/3), z= 0..1,\"noPole\")"],
"outputs": []
}
,
{
"cell_type" : "markdown",
"metadata" : {},
"source" : ["   + infinity"]
}
,
{
"cell_type" : "markdown",
"metadata" : {},
"source" : ["                    Type: Union(f1: OrderedCompletion Expression Integer,...)"]
}
,
{
"cell_type" : "code",
"execution_count": null,
"metadata" : {
    "collapsed" : false
},
"source" : ["in1866a:=integrate(1/(z^2-1)*(1-I/z)^(1/2), z= 0..1,\"noPole\")"],
"outputs": []
}
,
{
"cell_type" : "markdown",
"metadata" : {},
"source" : [" [- infinity,"]
}
,
{
"cell_type" : "markdown",
"metadata" : {},
"source" : [""]
}
,
{
"cell_type" : "markdown",
"metadata" : {},
"source" : ["                                                                    +-----+"]
}
,
{
"cell_type" : "markdown",
"metadata" : {},
"source" : ["       +-----+      +-------+ +-----+    2          +-----+        \|I - 1"]
}
,
{
"cell_type" : "markdown",
"metadata" : {},
"source" : ["      \|I + 1 log(2\|- I + 1 \|I + 1  - I  + 2) + 4\|I - 1 log(- -----------)"]
}
,
{
"cell_type" : "markdown",
"metadata" : {},
"source" : ["                                                                   +-------+"]
}
,
{
"cell_type" : "markdown",
"metadata" : {},
"source" : ["                                                                 2\|- I + 1"]
}
,
{
"cell_type" : "markdown",
"metadata" : {},
"source" : ["     +"]
}
,
{
"cell_type" : "markdown",
"metadata" : {},
"source" : ["              2  +-----+"]
}
,
{
"cell_type" : "markdown",
"metadata" : {},
"source" : ["       - log(I )\|I + 1"]
}
,
{
"cell_type" : "markdown",
"metadata" : {},
"source" : ["  /"]
}
,
{
"cell_type" : "markdown",
"metadata" : {},
"source" : ["     4"]
}
,
{
"cell_type" : "markdown",
"metadata" : {},
"source" : ["   ,"]
}
,
{
"cell_type" : "markdown",
"metadata" : {},
"source" : ["  - infinity,"]
}
,
{
"cell_type" : "markdown",
"metadata" : {},
"source" : ["                    +-----+                      +-------+"]
}
,
{
"cell_type" : "markdown",
"metadata" : {},
"source" : ["    +-----+        \|I - 1        +-------+     \|- I + 1         +-------+"]
}
,
{
"cell_type" : "markdown",
"metadata" : {},
"source" : ["  2\|I - 1 log(- -----------) + 2\|- I - 1 atan(----------) - %pi\|- I - 1"]
}
,
{
"cell_type" : "markdown",
"metadata" : {},
"source" : ["                   +-------+                     +-------+"]
}
,
{
"cell_type" : "markdown",
"metadata" : {},
"source" : ["                 2\|- I + 1                     \|- I - 1"]
}
,
{
"cell_type" : "markdown",
"metadata" : {},
"source" : ["  -------------------------------------------------------------------------]"]
}
,
{
"cell_type" : "markdown",
"metadata" : {},
"source" : ["                                      2"]
}
,
{
"cell_type" : "markdown",
"metadata" : {},
"source" : ["               Type: Union(f2: List OrderedCompletion Expression Integer,...)"]
}
,
{
"cell_type" : "code",
"execution_count": null,
"metadata" : {
    "collapsed" : false
},
"source" : ["in1867a:=integrate(1/(z^2-1)*(1-(I*z)^(1/2))^(1/2), z= 0..1,\"noPole\")"],
"outputs": []
}
,
{
"cell_type" : "markdown",
"metadata" : {},
"source" : ["    0"]
}
,
{
"cell_type" : "markdown",
"metadata" : {},
"source" : ["                    Type: Union(f1: OrderedCompletion Expression Integer,...)"]
}
,
{
"cell_type" : "code",
"execution_count": null,
"metadata" : {
    "collapsed" : false
},
"source" : ["in1869a:=integrate(1/(z^2-1)*(1-1/(I*z)^(1/2))^(1/2), z= 0..1,\"noPole\")"],
"outputs": []
}
,
{
"cell_type" : "markdown",
"metadata" : {},
"source" : ["    0"]
}
,
{
"cell_type" : "markdown",
"metadata" : {},
"source" : ["                    Type: Union(f1: OrderedCompletion Expression Integer,...)"]
}
,
{
"cell_type" : "code",
"execution_count": null,
"metadata" : {
    "collapsed" : false
},
"source" : ["in1870a:=integrate(1/(z^2-1)/(1+(I*z)^(1/2))^(1/2), z= 0..1,\"noPole\")"],
"outputs": []
}
,
{
"cell_type" : "markdown",
"metadata" : {},
"source" : ["    0"]
}
,
{
"cell_type" : "markdown",
"metadata" : {},
"source" : ["                    Type: Union(f1: OrderedCompletion Expression Integer,...)"]
}
,
{
"cell_type" : "code",
"execution_count": null,
"metadata" : {
    "collapsed" : false
},
"source" : ["in1872a:=integrate(1/(z^2-1)/(I/(z+I))^(1/2), z= 0..1,\"noPole\")"],
"outputs": []
}
,
{
"cell_type" : "markdown",
"metadata" : {},
"source" : [""]
}
,
{
"cell_type" : "markdown",
"metadata" : {},
"source" : ["   [ + infinity,  + infinity,"]
}
,
{
"cell_type" : "markdown",
"metadata" : {},
"source" : [""]
}
,
{
"cell_type" : "markdown",
"metadata" : {},
"source" : ["          +-----+               +-----+ +-----+"]
}
,
{
"cell_type" : "markdown",
"metadata" : {},
"source" : ["          |I - 1        2       |I - 1  |  I        2"]
}
,
{
"cell_type" : "markdown",
"metadata" : {},
"source" : ["          |----- log((2I  + 2I) |-----  |-----  + 2I  - 1)"]
}
,
{
"cell_type" : "markdown",
"metadata" : {},
"source" : ["         \|  I                 \|  I   \|I + 1"]
}
,
{
"cell_type" : "markdown",
"metadata" : {},
"source" : ["       +"]
}
,
{
"cell_type" : "markdown",
"metadata" : {},
"source" : ["            +-----+               +-----+"]
}
,
{
"cell_type" : "markdown",
"metadata" : {},
"source" : ["            |I - 1        2       |I - 1      2"]
}
,
{
"cell_type" : "markdown",
"metadata" : {},
"source" : ["         -  |----- log((8I  - 4I) |-----  + 8I  - 8I + 1)"]
}
,
{
"cell_type" : "markdown",
"metadata" : {},
"source" : ["           \|  I                 \|  I"]
}
,
{
"cell_type" : "markdown",
"metadata" : {},
"source" : ["       +"]
}
,
{
"cell_type" : "markdown",
"metadata" : {},
"source" : ["                                     +-----+"]
}
,
{
"cell_type" : "markdown",
"metadata" : {},
"source" : ["                                     |  I"]
}
,
{
"cell_type" : "markdown",
"metadata" : {},
"source" : ["              +-------+    (- I - 1) |-----       +-------+"]
}
,
{
"cell_type" : "markdown",
"metadata" : {},
"source" : ["              |- I - 1              \|I + 1       |- I - 1         I + 1"]
}
,
{
"cell_type" : "markdown",
"metadata" : {},
"source" : ["         - 4  |------- log(----------------- + 4  |------- atan(-----------)"]
}
,
{
"cell_type" : "markdown",
"metadata" : {},
"source" : ["             \|   I              +-------+       \|   I           +-------+"]
}
,
{
"cell_type" : "markdown",
"metadata" : {},
"source" : ["                                 |- I - 1                         |- I - 1"]
}
,
{
"cell_type" : "markdown",
"metadata" : {},
"source" : ["                              2I |-------                       I |-------"]
}
,
{
"cell_type" : "markdown",
"metadata" : {},
"source" : ["                                \|   I                           \|   I"]
}
,
{
"cell_type" : "markdown",
"metadata" : {},
"source" : ["    /"]
}
,
{
"cell_type" : "markdown",
"metadata" : {},
"source" : ["       4"]
}
,
{
"cell_type" : "markdown",
"metadata" : {},
"source" : ["     ,"]
}
,
{
"cell_type" : "markdown",
"metadata" : {},
"source" : [""]
}
,
{
"cell_type" : "markdown",
"metadata" : {},
"source" : ["                                 +-----+                           +-----+"]
}
,
{
"cell_type" : "markdown",
"metadata" : {},
"source" : ["                                 |  I                              |  I"]
}
,
{
"cell_type" : "markdown",
"metadata" : {},
"source" : ["          +-------+    (- I - 1) |-----      +-------+     (I - 1) |-----"]
}
,
{
"cell_type" : "markdown",
"metadata" : {},
"source" : ["          |- I - 1              \|I + 1      |- I + 1             \|I + 1"]
}
,
{
"cell_type" : "markdown",
"metadata" : {},
"source" : ["       -  |------- log(-----------------) +  |------- atan(---------------)"]
}
,
{
"cell_type" : "markdown",
"metadata" : {},
"source" : ["         \|   I              +-------+      \|   I             +-------+"]
}
,
{
"cell_type" : "markdown",
"metadata" : {},
"source" : ["                             |- I - 1                          |- I + 1"]
}
,
{
"cell_type" : "markdown",
"metadata" : {},
"source" : ["                          2I |-------                        I |-------"]
}
,
{
"cell_type" : "markdown",
"metadata" : {},
"source" : ["                            \|   I                            \|   I"]
}
,
{
"cell_type" : "markdown",
"metadata" : {},
"source" : ["     +"]
}
,
{
"cell_type" : "markdown",
"metadata" : {},
"source" : ["        +-------+                     +-------+"]
}
,
{
"cell_type" : "markdown",
"metadata" : {},
"source" : ["        |- I - 1         I + 1        |- I + 1         I - 1"]
}
,
{
"cell_type" : "markdown",
"metadata" : {},
"source" : ["        |------- atan(-----------) -  |------- atan(-----------)"]
}
,
{
"cell_type" : "markdown",
"metadata" : {},
"source" : ["       \|   I           +-------+    \|   I           +-------+"]
}
,
{
"cell_type" : "markdown",
"metadata" : {},
"source" : ["                        |- I - 1                      |- I + 1"]
}
,
{
"cell_type" : "markdown",
"metadata" : {},
"source" : ["                      I |-------                    I |-------"]
}
,
{
"cell_type" : "markdown",
"metadata" : {},
"source" : ["                       \|   I                        \|   I"]
}
,
{
"cell_type" : "markdown",
"metadata" : {},
"source" : ["     ]"]
}
,
{
"cell_type" : "markdown",
"metadata" : {},
"source" : ["               Type: Union(f2: List OrderedCompletion Expression Integer,...)"]
}
,
{
"cell_type" : "code",
"execution_count": null,
"metadata" : {
    "collapsed" : false
},
"source" : ["in1933a:=integrate(atan(z)/z/(z*(1+z))^(1/2), z= 0..1,\"noPole\")"],
"outputs": []
}
,
{
"cell_type" : "markdown",
"metadata" : {},
"source" : [""]
}
,
{
"cell_type" : "markdown",
"metadata" : {},
"source" : ["         +-+     4+-+    %pi"]
}
,
{
"cell_type" : "markdown",
"metadata" : {},
"source" : ["       (\|2  - 1)\|2 cos(---)"]
}
,
{
"cell_type" : "markdown",
"metadata" : {},
"source" : ["                          8"]
}
,
{
"cell_type" : "markdown",
"metadata" : {},
"source" : ["    *"]
}
,
{
"cell_type" : "markdown",
"metadata" : {},
"source" : ["            4+-+2    %pi 2     4+-+3    4+-+     %pi     4+-+2"]
}
,
{
"cell_type" : "markdown",
"metadata" : {},
"source" : ["       log(4\|2  sin(---)  + (4\|2   + 4\|2 )sin(---) + 2\|2   + 3)"]
}
,
{
"cell_type" : "markdown",
"metadata" : {},
"source" : ["                      8                           8"]
}
,
{
"cell_type" : "markdown",
"metadata" : {},
"source" : ["   +"]
}
,
{
"cell_type" : "markdown",
"metadata" : {},
"source" : ["           +-+     4+-+    %pi"]
}
,
{
"cell_type" : "markdown",
"metadata" : {},
"source" : ["       (- \|2  + 1)\|2 cos(---)"]
}
,
{
"cell_type" : "markdown",
"metadata" : {},
"source" : ["                            8"]
}
,
{
"cell_type" : "markdown",
"metadata" : {},
"source" : ["    *"]
}
,
{
"cell_type" : "markdown",
"metadata" : {},
"source" : ["            4+-+2    %pi 2       4+-+3    4+-+     %pi     4+-+2"]
}
,
{
"cell_type" : "markdown",
"metadata" : {},
"source" : ["       log(4\|2  sin(---)  + (- 4\|2   - 4\|2 )sin(---) + 2\|2   + 3)"]
}
,
{
"cell_type" : "markdown",
"metadata" : {},
"source" : ["                      8                             8"]
}
,
{
"cell_type" : "markdown",
"metadata" : {},
"source" : ["   +"]
}
,
{
"cell_type" : "markdown",
"metadata" : {},
"source" : ["           +-+     4+-+    %pi"]
}
,
{
"cell_type" : "markdown",
"metadata" : {},
"source" : ["       (- \|2  + 1)\|2 cos(---)"]
}
,
{
"cell_type" : "markdown",
"metadata" : {},
"source" : ["                            8"]
}
,
{
"cell_type" : "markdown",
"metadata" : {},
"source" : ["    *"]
}
,
{
"cell_type" : "markdown",
"metadata" : {},
"source" : ["       log"]
}
,
{
"cell_type" : "markdown",
"metadata" : {},
"source" : ["             4+-+2    %pi 2"]
}
,
{
"cell_type" : "markdown",
"metadata" : {},
"source" : ["            4\|2  sin(---)"]
}
,
{
"cell_type" : "markdown",
"metadata" : {},
"source" : ["                       8"]
}
,
{
"cell_type" : "markdown",
"metadata" : {},
"source" : ["          +"]
}
,
{
"cell_type" : "markdown",
"metadata" : {},
"source" : ["                 +-+     4+-+2    %pi     4+-+3        +-+      4+-+     %pi"]
}
,
{
"cell_type" : "markdown",
"metadata" : {},
"source" : ["           ((- 8\|2  + 8)\|2  cos(---) + 4\|2   + (- 8\|2  + 16)\|2 )sin(---)"]
}
,
{
"cell_type" : "markdown",
"metadata" : {},
"source" : ["                                   8                                      8"]
}
,
{
"cell_type" : "markdown",
"metadata" : {},
"source" : ["          +"]
}
,
{
"cell_type" : "markdown",
"metadata" : {},
"source" : ["                 +-+      4+-+2    %pi 2"]
}
,
{
"cell_type" : "markdown",
"metadata" : {},
"source" : ["            (- 8\|2  + 12)\|2  cos(---)"]
}
,
{
"cell_type" : "markdown",
"metadata" : {},
"source" : ["                                    8"]
}
,
{
"cell_type" : "markdown",
"metadata" : {},
"source" : ["          +"]
}
,
{
"cell_type" : "markdown",
"metadata" : {},
"source" : ["                  +-+     4+-+3         +-+      4+-+     %pi"]
}
,
{
"cell_type" : "markdown",
"metadata" : {},
"source" : ["            ((- 4\|2  + 4)\|2   + (- 24\|2  + 32)\|2 )cos(---)"]
}
,
{
"cell_type" : "markdown",
"metadata" : {},
"source" : ["                                                           8"]
}
,
{
"cell_type" : "markdown",
"metadata" : {},
"source" : ["          +"]
}
,
{
"cell_type" : "markdown",
"metadata" : {},
"source" : ["                 +-+     4+-+2      +-+"]
}
,
{
"cell_type" : "markdown",
"metadata" : {},
"source" : ["            (- 4\|2  + 8)\|2   - 16\|2  + 26"]
}
,
{
"cell_type" : "markdown",
"metadata" : {},
"source" : ["   +"]
}
,
{
"cell_type" : "markdown",
"metadata" : {},
"source" : ["         +-+     4+-+    %pi"]
}
,
{
"cell_type" : "markdown",
"metadata" : {},
"source" : ["       (\|2  - 1)\|2 cos(---)"]
}
,
{
"cell_type" : "markdown",
"metadata" : {},
"source" : ["                          8"]
}
,
{
"cell_type" : "markdown",
"metadata" : {},
"source" : ["    *"]
}
,
{
"cell_type" : "markdown",
"metadata" : {},
"source" : ["       log"]
}
,
{
"cell_type" : "markdown",
"metadata" : {},
"source" : ["             4+-+2    %pi 2"]
}
,
{
"cell_type" : "markdown",
"metadata" : {},
"source" : ["            4\|2  sin(---)"]
}
,
{
"cell_type" : "markdown",
"metadata" : {},
"source" : ["                       8"]
}
,
{
"cell_type" : "markdown",
"metadata" : {},
"source" : ["          +"]
}
,
{
"cell_type" : "markdown",
"metadata" : {},
"source" : ["                  +-+     4+-+2    %pi     4+-+3      +-+      4+-+     %pi"]
}
,
{
"cell_type" : "markdown",
"metadata" : {},
"source" : ["            ((- 8\|2  + 8)\|2  cos(---) - 4\|2   + (8\|2  - 16)\|2 )sin(---)"]
}
,
{
"cell_type" : "markdown",
"metadata" : {},
"source" : ["                                    8                                    8"]
}
,
{
"cell_type" : "markdown",
"metadata" : {},
"source" : ["          +"]
}
,
{
"cell_type" : "markdown",
"metadata" : {},
"source" : ["                 +-+      4+-+2    %pi 2"]
}
,
{
"cell_type" : "markdown",
"metadata" : {},
"source" : ["            (- 8\|2  + 12)\|2  cos(---)"]
}
,
{
"cell_type" : "markdown",
"metadata" : {},
"source" : ["                                    8"]
}
,
{
"cell_type" : "markdown",
"metadata" : {},
"source" : ["          +"]
}
,
{
"cell_type" : "markdown",
"metadata" : {},
"source" : ["                +-+     4+-+3       +-+      4+-+     %pi"]
}
,
{
"cell_type" : "markdown",
"metadata" : {},
"source" : ["            ((4\|2  - 4)\|2   + (24\|2  - 32)\|2 )cos(---)"]
}
,
{
"cell_type" : "markdown",
"metadata" : {},
"source" : ["                                                       8"]
}
,
{
"cell_type" : "markdown",
"metadata" : {},
"source" : ["          +"]
}
,
{
"cell_type" : "markdown",
"metadata" : {},
"source" : ["                 +-+     4+-+2      +-+"]
}
,
{
"cell_type" : "markdown",
"metadata" : {},
"source" : ["            (- 4\|2  + 8)\|2   - 16\|2  + 26"]
}
,
{
"cell_type" : "markdown",
"metadata" : {},
"source" : ["   +"]
}
,
{
"cell_type" : "markdown",
"metadata" : {},
"source" : ["                                     4+-+    %pi"]
}
,
{
"cell_type" : "markdown",
"metadata" : {},
"source" : ["                                     \|2 sin(---) + 1"]
}
,
{
"cell_type" : "markdown",
"metadata" : {},
"source" : ["        +-+     4+-+    %pi                   8"]
}
,
{
"cell_type" : "markdown",
"metadata" : {},
"source" : ["     (4\|2  - 4)\|2 sin(---)atan(-----------------------)"]
}
,
{
"cell_type" : "markdown",
"metadata" : {},
"source" : ["                         8       4+-+    %pi     +-+"]
}
,
{
"cell_type" : "markdown",
"metadata" : {},
"source" : ["                                 \|2 cos(---) - \|2  + 1"]
}
,
{
"cell_type" : "markdown",
"metadata" : {},
"source" : ["                                          8"]
}
,
{
"cell_type" : "markdown",
"metadata" : {},
"source" : ["   +"]
}
,
{
"cell_type" : "markdown",
"metadata" : {},
"source" : ["                                   4+-+    %pi"]
}
,
{
"cell_type" : "markdown",
"metadata" : {},
"source" : ["                                   \|2 sin(---) + 1"]
}
,
{
"cell_type" : "markdown",
"metadata" : {},
"source" : ["          +-+     4+-+    %pi               8"]
}
,
{
"cell_type" : "markdown",
"metadata" : {},
"source" : ["     (- 4\|2  + 4)\|2 sin(---)atan(----------------)"]
}
,
{
"cell_type" : "markdown",
"metadata" : {},
"source" : ["                           8         4+-+    %pi"]
}
,
{
"cell_type" : "markdown",
"metadata" : {},
"source" : ["                                     \|2 cos(---)"]
}
,
{
"cell_type" : "markdown",
"metadata" : {},
"source" : ["                                              8"]
}
,
{
"cell_type" : "markdown",
"metadata" : {},
"source" : ["   +"]
}
,
{
"cell_type" : "markdown",
"metadata" : {},
"source" : ["                                 4+-+    %pi"]
}
,
{
"cell_type" : "markdown",
"metadata" : {},
"source" : ["                                 \|2 sin(---) - 1"]
}
,
{
"cell_type" : "markdown",
"metadata" : {},
"source" : ["        +-+     4+-+    %pi               8"]
}
,
{
"cell_type" : "markdown",
"metadata" : {},
"source" : ["     (4\|2  - 4)\|2 sin(---)atan(----------------)"]
}
,
{
"cell_type" : "markdown",
"metadata" : {},
"source" : ["                         8         4+-+    %pi"]
}
,
{
"cell_type" : "markdown",
"metadata" : {},
"source" : ["                                   \|2 cos(---)"]
}
,
{
"cell_type" : "markdown",
"metadata" : {},
"source" : ["                                            8"]
}
,
{
"cell_type" : "markdown",
"metadata" : {},
"source" : ["   +"]
}
,
{
"cell_type" : "markdown",
"metadata" : {},
"source" : ["                                       4+-+    %pi"]
}
,
{
"cell_type" : "markdown",
"metadata" : {},
"source" : ["                                       \|2 sin(---) - 1"]
}
,
{
"cell_type" : "markdown",
"metadata" : {},
"source" : ["          +-+     4+-+    %pi                   8                 +-+"]
}
,
{
"cell_type" : "markdown",
"metadata" : {},
"source" : ["     (- 4\|2  + 4)\|2 sin(---)atan(-----------------------) + %pi\|2  - 2%pi"]
}
,
{
"cell_type" : "markdown",
"metadata" : {},
"source" : ["                           8       4+-+    %pi     +-+"]
}
,
{
"cell_type" : "markdown",
"metadata" : {},
"source" : ["                                   \|2 cos(---) + \|2  - 1"]
}
,
{
"cell_type" : "markdown",
"metadata" : {},
"source" : ["                                            8"]
}
,
{
"cell_type" : "markdown",
"metadata" : {},
"source" : [" /"]
}
,
{
"cell_type" : "markdown",
"metadata" : {},
"source" : ["     +-+"]
}
,
{
"cell_type" : "markdown",
"metadata" : {},
"source" : ["   2\|2  - 2"]
}
,
{
"cell_type" : "markdown",
"metadata" : {},
"source" : ["                    Type: Union(f1: OrderedCompletion Expression Integer,...)"]
}
,
{
"cell_type" : "code",
"execution_count": null,
"metadata" : {
    "collapsed" : false
},
"source" : ["in1945a:=integrate(acoth((1-z)/(1+z)), z= 0..1,\"noPole\")"],
"outputs": []
}
,
{
"cell_type" : "markdown",
"metadata" : {},
"source" : [""]
}
,
{
"cell_type" : "markdown",
"metadata" : {},
"source" : ["         1"]
}
,
{
"cell_type" : "markdown",
"metadata" : {},
"source" : ["         -"]
}
,
{
"cell_type" : "markdown",
"metadata" : {},
"source" : ["         2"]
}
,
{
"cell_type" : "markdown",
"metadata" : {},
"source" : ["                   Type: Union(f1: OrderedCompletion Expression Integer,...)"]
}
,
{
"cell_type" : "code",
"execution_count": null,
"metadata" : {
    "collapsed" : false
},
"source" : ["in1946a:=integrate(acoth((1-z)/(1+z))*z, z= 0..1,\"noPole\")"],
"outputs": []
}
,
{
"cell_type" : "markdown",
"metadata" : {},
"source" : [""]
}
,
{
"cell_type" : "markdown",
"metadata" : {},
"source" : ["         1"]
}
,
{
"cell_type" : "markdown",
"metadata" : {},
"source" : ["         -"]
}
,
{
"cell_type" : "markdown",
"metadata" : {},
"source" : ["         8"]
}
,
{
"cell_type" : "markdown",
"metadata" : {},
"source" : ["                    Type: Union(f1: OrderedCompletion Expression Integer,...)"]
}
,
{
"cell_type" : "code",
"execution_count": null,
"metadata" : {
    "collapsed" : false
},
"source" : ["in1947a:=integrate(acoth((1-z)/(1+z))*z^(1/2), z= 0..1,\"noPole\")"],
"outputs": []
}
,
{
"cell_type" : "markdown",
"metadata" : {},
"source" : [""]
}
,
{
"cell_type" : "markdown",
"metadata" : {},
"source" : ["         2"]
}
,
{
"cell_type" : "markdown",
"metadata" : {},
"source" : ["         -"]
}
,
{
"cell_type" : "markdown",
"metadata" : {},
"source" : ["         9"]
}
,
{
"cell_type" : "markdown",
"metadata" : {},
"source" : ["                    Type: Union(f1: OrderedCompletion Expression Integer,...)"]
}
,
{
"cell_type" : "code",
"execution_count": null,
"metadata" : {
    "collapsed" : false
},
"source" : ["in1950a:=integrate(acoth((1-z)/(1+z))/(1-z)^(1/2), z= 0..1,\"noPole\")"],
"outputs": []
}
,
{
"cell_type" : "markdown",
"metadata" : {},
"source" : [""]
}
,
{
"cell_type" : "markdown",
"metadata" : {},
"source" : ["         - log(4) - 2log(2) + 4"]
}
,
{
"cell_type" : "markdown",
"metadata" : {},
"source" : ["         ----------------------"]
}
,
{
"cell_type" : "markdown",
"metadata" : {},
"source" : ["                    2"]
}
,
{
"cell_type" : "markdown",
"metadata" : {},
"source" : ["                    Type: Union(f1: OrderedCompletion Expression Integer,...)"]
}
,
{
"cell_type" : "code",
"execution_count": null,
"metadata" : {
    "collapsed" : false
},
"source" : ["in1952a:=integrate(acoth((1-z)/(1+z))*(I*z)^(1/2), z= 0..1,\"noPole\")"],
"outputs": []
}
,
{
"cell_type" : "markdown",
"metadata" : {},
"source" : [""]
}
,
{
"cell_type" : "markdown",
"metadata" : {},
"source" : ["           +-+"]
}
,
{
"cell_type" : "markdown",
"metadata" : {},
"source" : ["         2\|I"]
}
,
{
"cell_type" : "markdown",
"metadata" : {},
"source" : ["         -----"]
}
,
{
"cell_type" : "markdown",
"metadata" : {},
"source" : ["           9"]
}
,
{
"cell_type" : "markdown",
"metadata" : {},
"source" : ["                    Type: Union(f1: OrderedCompletion Expression Integer,...)"]
}
,
{
"cell_type" : "code",
"execution_count": null,
"metadata" : {
    "collapsed" : false
},
"source" : ["in1954a:=integrate(acoth((1-z)/(1+z))/(I*z)^(1/2), z= 0..1,\"noPole\")"],
"outputs": []
}
,
{
"cell_type" : "markdown",
"metadata" : {},
"source" : [""]
}
,
{
"cell_type" : "markdown",
"metadata" : {},
"source" : ["           +-+"]
}
,
{
"cell_type" : "markdown",
"metadata" : {},
"source" : ["         2\|I"]
}
,
{
"cell_type" : "markdown",
"metadata" : {},
"source" : ["         -----"]
}
,
{
"cell_type" : "markdown",
"metadata" : {},
"source" : ["           I"]
}
,
{
"cell_type" : "markdown",
"metadata" : {},
"source" : ["                    Type: Union(f1: OrderedCompletion Expression Integer,...)"]
}
,
{
"cell_type" : "code",
"execution_count": null,
"metadata" : {
    "collapsed" : false
},
"source" : ["in202a:=integrate(acsc(z), z= 0..1/2,\"noPole\")"],
"outputs": []
}
,
{
"cell_type" : "markdown",
"metadata" : {},
"source" : [""]
}
,
{
"cell_type" : "markdown",
"metadata" : {},
"source" : ["                      +-+ +-+"]
}
,
{
"cell_type" : "markdown",
"metadata" : {},
"source" : ["            +-+     2\|2 \|3             +-+"]
}
,
{
"cell_type" : "markdown",
"metadata" : {},
"source" : ["        - 6\|2 atan(---------) - 3atan(4\|3 ) + 2%pi"]
}
,
{
"cell_type" : "markdown",
"metadata" : {},
"source" : ["                        5"]
}
,
{
"cell_type" : "markdown",
"metadata" : {},
"source" : ["        --------------------------------------------"]
}
,
{
"cell_type" : "markdown",
"metadata" : {},
"source" : ["                             12"]
}
,
{
"cell_type" : "markdown",
"metadata" : {},
"source" : ["                    Type: Union(f1: OrderedCompletion Expression Integer,...)"]
}
,
{
"cell_type" : "code",
"execution_count": null,
"metadata" : {
    "collapsed" : false
},
"source" : ["in206a:=integrate(sqrt(1-1/z), z= %pi..2*%pi,\"noPole\")"],
"outputs": []
}
,
{
"cell_type" : "markdown",
"metadata" : {},
"source" : [""]
}
,
{
"cell_type" : "markdown",
"metadata" : {},
"source" : ["               +--------+              +-------+"]
}
,
{
"cell_type" : "markdown",
"metadata" : {},
"source" : ["               |2%pi - 1               |%pi - 1"]
}
,
{
"cell_type" : "markdown",
"metadata" : {},
"source" : ["       - 2log( |--------  + 1) + 2log( |-------  + 1)"]
}
,
{
"cell_type" : "markdown",
"metadata" : {},
"source" : ["              \|  2%pi                \|  %pi"]
}
,
{
"cell_type" : "markdown",
"metadata" : {},
"source" : ["     +"]
}
,
{
"cell_type" : "markdown",
"metadata" : {},
"source" : ["                    +-------+                          +--------+"]
}
,
{
"cell_type" : "markdown",
"metadata" : {},
"source" : ["                    |%pi - 1                           |2%pi - 1"]
}
,
{
"cell_type" : "markdown",
"metadata" : {},
"source" : ["             - 2%pi |-------  + 2%pi - 1        - 4%pi |--------  + 4%pi - 1"]
}
,
{
"cell_type" : "markdown",
"metadata" : {},
"source" : ["                   \|  %pi                            \|  2%pi"]
}
,
{
"cell_type" : "markdown",
"metadata" : {},
"source" : ["       - log(---------------------------) + log(----------------------------)"]
}
,
{
"cell_type" : "markdown",
"metadata" : {},
"source" : ["                         %pi                                2%pi"]
}
,
{
"cell_type" : "markdown",
"metadata" : {},
"source" : ["     +"]
}
,
{
"cell_type" : "markdown",
"metadata" : {},
"source" : ["            +--------+        +-------+"]
}
,
{
"cell_type" : "markdown",
"metadata" : {},
"source" : ["            |2%pi - 1         |%pi - 1"]
}
,
{
"cell_type" : "markdown",
"metadata" : {},
"source" : ["       8%pi |--------  - 4%pi |-------"]
}
,
{
"cell_type" : "markdown",
"metadata" : {},
"source" : ["           \|  2%pi          \|  %pi"]
}
,
{
"cell_type" : "markdown",
"metadata" : {},
"source" : ["  /"]
}
,
{
"cell_type" : "markdown",
"metadata" : {},
"source" : ["     4"]
}
,
{
"cell_type" : "markdown",
"metadata" : {},
"source" : ["                    Type: Union(f1: OrderedCompletion Expression Integer,...)"]
}
,
{
"cell_type" : "code",
"execution_count": null,
"metadata" : {
    "collapsed" : false
},
"source" : ["in211:=integrate(acos(sin(2*z))*cos(z), z= 0..4*%pi/3)"],
"outputs": []
}
,
{
"cell_type" : "markdown",
"metadata" : {},
"source" : [""]
}
,
{
"cell_type" : "markdown",
"metadata" : {},
"source" : ["                +-+"]
}
,
{
"cell_type" : "markdown",
"metadata" : {},
"source" : ["          13%pi\|3  + 36"]
}
,
{
"cell_type" : "markdown",
"metadata" : {},
"source" : ["          --------------"]
}
,
{
"cell_type" : "markdown",
"metadata" : {},
"source" : ["                12"]
}
,
{
"cell_type" : "markdown",
"metadata" : {},
"source" : ["                    Type: Union(f1: OrderedCompletion Expression Integer,...)"]
}
,
{
"cell_type" : "code",
"execution_count": null,
"metadata" : {
    "collapsed" : false
},
"source" : ["in213a:=integrate(log(abs(1+1/(-z)^(1/3))), z= 0..1,\"noPole\")"],
"outputs": []
}
,
{
"cell_type" : "markdown",
"metadata" : {},
"source" : [""]
}
,
{
"cell_type" : "markdown",
"metadata" : {},
"source" : ["                                  3+---+2    3+---+"]
}
,
{
"cell_type" : "markdown",
"metadata" : {},
"source" : ["      3+---+2   3+---+            \|- 1   + 2\|- 1  + 1    3+---+2    3+---+"]
}
,
{
"cell_type" : "markdown",
"metadata" : {},
"source" : [" - log(\|- 1  + 2\|- 1  + 1) + log(---------------------) - \|- 1   + 2\|- 1"]
}
,
{
"cell_type" : "markdown",
"metadata" : {},
"source" : ["                                           3+---+2"]
}
,
{
"cell_type" : "markdown",
"metadata" : {},
"source" : ["                                           \|- 1"]
}
,
{
"cell_type" : "markdown",
"metadata" : {},
"source" : [" ----------------------------------------------------------------------------"]
}
,
{
"cell_type" : "markdown",
"metadata" : {},
"source" : ["                                       2"]
}
,
{
"cell_type" : "markdown",
"metadata" : {},
"source" : ["                Type: Union(f1: OrderedCompletion Expression Integer,...)"]
}
,
{
"cell_type" : "code",
"execution_count": null,
"metadata" : {
    "collapsed" : false
},
"source" : ["in216a:=integrate(1/(1/z-1)^(1/3), z= 0..1,\"noPole\")"],
"outputs": []
}
,
{
"cell_type" : "markdown",
"metadata" : {},
"source" : [""]
}
,
{
"cell_type" : "markdown",
"metadata" : {},
"source" : ["           2%pi"]
}
,
{
"cell_type" : "markdown",
"metadata" : {},
"source" : ["          -----"]
}
,
{
"cell_type" : "markdown",
"metadata" : {},
"source" : ["            +-+"]
}
,
{
"cell_type" : "markdown",
"metadata" : {},
"source" : ["          3\|3"]
}
,
{
"cell_type" : "markdown",
"metadata" : {},
"source" : ["                    Type: Union(f1: OrderedCompletion Expression Integer,...)"]
}
,
{
"cell_type" : "code",
"execution_count": null,
"metadata" : {
    "collapsed" : false
},
"source" : ["in2023a:=integrate((1-z)/(-1+z^(1/2)), z= 1..2,\"noPole\")"],
"outputs": []
}
,
{
"cell_type" : "markdown",
"metadata" : {},
"source" : [""]
}
,
{
"cell_type" : "markdown",
"metadata" : {},
"source" : ["             +-+"]
}
,
{
"cell_type" : "markdown",
"metadata" : {},
"source" : ["         - 4\|2  - 1"]
}
,
{
"cell_type" : "markdown",
"metadata" : {},
"source" : ["   (33)  -----------"]
}
,
{
"cell_type" : "markdown",
"metadata" : {},
"source" : ["              3"]
}
,
{
"cell_type" : "markdown",
"metadata" : {},
"source" : ["                    Type: Union(f1: OrderedCompletion Expression Integer,...)"]
}
,
{
"cell_type" : "code",
"execution_count": null,
"metadata" : {
    "collapsed" : false
},
"source" : ["in2024a:=integrate(log(1-1/z)+csc(z-1), z= 0..1,\"noPole\")"],
"outputs": []
}
,
{
"cell_type" : "markdown",
"metadata" : {},
"source" : [""]
}
,
{
"cell_type" : "markdown",
"metadata" : {},
"source" : ["   (32)  - infinity"]
}
,
{
"cell_type" : "markdown",
"metadata" : {},
"source" : ["                    Type: Union(f1: OrderedCompletion Expression Integer,...)"]
}
,
{
"cell_type" : "code",
"execution_count": null,
"metadata" : {
    "collapsed" : false
},
"source" : ["in2032a:=integrate(acoth(z)/z^(1/2), z= 0..1,\"noPole\")"],
"outputs": []
}
,
{
"cell_type" : "markdown",
"metadata" : {},
"source" : [""]
}
,
{
"cell_type" : "markdown",
"metadata" : {},
"source" : ["         - 2log(2) + %pi"]
}
,
{
"cell_type" : "markdown",
"metadata" : {},
"source" : ["   (30)  ---------------"]
}
,
{
"cell_type" : "markdown",
"metadata" : {},
"source" : ["                2"]
}
,
{
"cell_type" : "markdown",
"metadata" : {},
"source" : ["                    Type: Union(f1: OrderedCompletion Expression Integer,...)"]
}
,
{
"cell_type" : "code",
"execution_count": null,
"metadata" : {
    "collapsed" : false
},
"source" : ["in2040a:=integrate(log(1-1/z^4)+cot(z), z= -1..1,\"noPole\")"],
"outputs": []
}
,
{
"cell_type" : "markdown",
"metadata" : {},
"source" : [""]
}
,
{
"cell_type" : "markdown",
"metadata" : {},
"source" : ["   (24)  log(16) + log(4) + %pi"]
}
,
{
"cell_type" : "markdown",
"metadata" : {},
"source" : ["                    Type: Union(f1: OrderedCompletion Expression Integer,...)"]
}
,
{
"cell_type" : "code",
"execution_count": null,
"metadata" : {
    "collapsed" : false
},
"source" : ["in2050a:=integrate(-csc(z-1)-1/z^(1/3), z= -1..1,\"noPole\")"],
"outputs": []
}
,
{
"cell_type" : "markdown",
"metadata" : {},
"source" : [""]
}
,
{
"cell_type" : "markdown",
"metadata" : {},
"source" : ["   + infinity"]
}
,
{
"cell_type" : "markdown",
"metadata" : {},
"source" : ["                    Type: Union(f1: OrderedCompletion Expression Integer,...)"]
}
,
{
"cell_type" : "code",
"execution_count": null,
"metadata" : {
    "collapsed" : false
},
"source" : ["in2051a:=integrate((z^2+I*z-1)^(1/2)*z, z= -1..1,\"noPole\")"],
"outputs": []
}
,
{
"cell_type" : "markdown",
"metadata" : {},
"source" : [""]
}
,
{
"cell_type" : "markdown",
"metadata" : {},
"source" : ["                 7        5        3          +---+      8       7       6"]
}
,
{
"cell_type" : "markdown",
"metadata" : {},
"source" : ["            (108I  - 1776I  - 7104I  + 6912I)\|- I  - 18I  + 228I  + 936I"]
}
,
{
"cell_type" : "markdown",
"metadata" : {},
"source" : ["          +"]
}
,
{
"cell_type" : "markdown",
"metadata" : {},
"source" : ["                   5        4        3        2"]
}
,
{
"cell_type" : "markdown",
"metadata" : {},
"source" : ["            - 1104I  + 2208I  - 7488I  - 7296I  + 2304I"]
}
,
{
"cell_type" : "markdown",
"metadata" : {},
"source" : ["       *"]
}
,
{
"cell_type" : "markdown",
"metadata" : {},
"source" : ["           +-+"]
}
,
{
"cell_type" : "markdown",
"metadata" : {},
"source" : ["          \|I"]
}
,
{
"cell_type" : "markdown",
"metadata" : {},
"source" : ["      +"]
}
,
{
"cell_type" : "markdown",
"metadata" : {},
"source" : ["                   8       7       6        5        4        3        2"]
}
,
{
"cell_type" : "markdown",
"metadata" : {},
"source" : ["              - 18I  - 228I  + 936I  + 1104I  + 2208I  + 7488I  - 7296I"]
}
,
{
"cell_type" : "markdown",
"metadata" : {},
"source" : ["            +"]
}
,
{
"cell_type" : "markdown",
"metadata" : {},
"source" : ["              - 2304I"]
}
,
{
"cell_type" : "markdown",
"metadata" : {},
"source" : ["       *"]
}
,
{
"cell_type" : "markdown",
"metadata" : {},
"source" : ["           +---+"]
}
,
{
"cell_type" : "markdown",
"metadata" : {},
"source" : ["          \|- I"]
}
,
{
"cell_type" : "markdown",
"metadata" : {},
"source" : ["      +"]
}
,
{
"cell_type" : "markdown",
"metadata" : {},
"source" : ["          9       7         3"]
}
,
{
"cell_type" : "markdown",
"metadata" : {},
"source" : ["        3I  - 744I  + 11904I  - 768I"]
}
,
{
"cell_type" : "markdown",
"metadata" : {},
"source" : ["   *"]
}
,
{
"cell_type" : "markdown",
"metadata" : {},
"source" : ["                     +---+    2"]
}
,
{
"cell_type" : "markdown",
"metadata" : {},
"source" : ["      log((- 4I + 8)\|- I  + I  - 8I + 4)"]
}
,
{
"cell_type" : "markdown",
"metadata" : {},
"source" : ["  +"]
}
,
{
"cell_type" : "markdown",
"metadata" : {},
"source" : ["                   7        5        3          +---+      8       7       6"]
}
,
{
"cell_type" : "markdown",
"metadata" : {},
"source" : ["            (- 108I  + 1776I  + 7104I  - 6912I)\|- I  + 18I  - 228I  - 936I"]
}
,
{
"cell_type" : "markdown",
"metadata" : {},
"source" : ["          +"]
}
,
{
"cell_type" : "markdown",
"metadata" : {},
"source" : ["                 5        4        3        2"]
}
,
{
"cell_type" : "markdown",
"metadata" : {},
"source" : ["            1104I  - 2208I  + 7488I  + 7296I  - 2304I"]
}
,
{
"cell_type" : "markdown",
"metadata" : {},
"source" : ["       *"]
}
,
{
"cell_type" : "markdown",
"metadata" : {},
"source" : ["           +-+"]
}
,
{
"cell_type" : "markdown",
"metadata" : {},
"source" : ["          \|I"]
}
,
{
"cell_type" : "markdown",
"metadata" : {},
"source" : ["      +"]
}
,
{
"cell_type" : "markdown",
"metadata" : {},
"source" : ["              8       7       6        5        4        3        2"]
}
,
{
"cell_type" : "markdown",
"metadata" : {},
"source" : ["          (18I  + 228I  - 936I  - 1104I  - 2208I  - 7488I  + 7296I  + 2304I)"]
}
,
{
"cell_type" : "markdown",
"metadata" : {},
"source" : ["       *"]
}
,
{
"cell_type" : "markdown",
"metadata" : {},
"source" : ["           +---+"]
}
,
{
"cell_type" : "markdown",
"metadata" : {},
"source" : ["          \|- I"]
}
,
{
"cell_type" : "markdown",
"metadata" : {},
"source" : ["      +"]
}
,
{
"cell_type" : "markdown",
"metadata" : {},
"source" : ["            9       7         3"]
}
,
{
"cell_type" : "markdown",
"metadata" : {},
"source" : ["        - 3I  + 744I  - 11904I  + 768I"]
}
,
{
"cell_type" : "markdown",
"metadata" : {},
"source" : ["   *"]
}
,
{
"cell_type" : "markdown",
"metadata" : {},
"source" : ["                     +-+    2"]
}
,
{
"cell_type" : "markdown",
"metadata" : {},
"source" : ["      log((- 4I - 8)\|I  + I  + 8I + 4)"]
}
,
{
"cell_type" : "markdown",
"metadata" : {},
"source" : ["  +"]
}
,
{
"cell_type" : "markdown",
"metadata" : {},
"source" : ["              6         4        2  +---+      8       7        6        5"]
}
,
{
"cell_type" : "markdown",
"metadata" : {},
"source" : ["        (1728I  - 10752I  - 5120I )\|- I  - 12I  - 424I  + 2736I  + 6816I"]
}
,
{
"cell_type" : "markdown",
"metadata" : {},
"source" : ["      +"]
}
,
{
"cell_type" : "markdown",
"metadata" : {},
"source" : ["               4        3        2"]
}
,
{
"cell_type" : "markdown",
"metadata" : {},
"source" : ["        - 6208I  + 1152I  - 3840I  - 512I"]
}
,
{
"cell_type" : "markdown",
"metadata" : {},
"source" : ["   *"]
}
,
{
"cell_type" : "markdown",
"metadata" : {},
"source" : ["       +-+"]
}
,
{
"cell_type" : "markdown",
"metadata" : {},
"source" : ["      \|I"]
}
,
{
"cell_type" : "markdown",
"metadata" : {},
"source" : ["  +"]
}
,
{
"cell_type" : "markdown",
"metadata" : {},
"source" : ["        8       7        6        5        4        3        2         +---+"]
}
,
{
"cell_type" : "markdown",
"metadata" : {},
"source" : ["    (12I  - 424I  - 2736I  + 6816I  + 6208I  + 1152I  + 3840I  - 512I)\|- I"]
}
,
{
"cell_type" : "markdown",
"metadata" : {},
"source" : ["  +"]
}
,
{
"cell_type" : "markdown",
"metadata" : {},
"source" : ["        8        6        4        2"]
}
,
{
"cell_type" : "markdown",
"metadata" : {},
"source" : ["    144I  - 6848I  + 3840I  + 3072I"]
}
,
{
"cell_type" : "markdown",
"metadata" : {},
"source" : [" /"]
}
,
{
"cell_type" : "markdown",
"metadata" : {},
"source" : ["              4         2          +---+       5        4         3         2"]
}
,
{
"cell_type" : "markdown",
"metadata" : {},
"source" : ["        (3456I  - 70656I  + 55296)\|- I  - 576I  + 7296I  + 32256I  - 64512I"]
}
,
{
"cell_type" : "markdown",
"metadata" : {},
"source" : ["      +"]
}
,
{
"cell_type" : "markdown",
"metadata" : {},
"source" : ["        - 58368I + 18432"]
}
,
{
"cell_type" : "markdown",
"metadata" : {},
"source" : ["   *"]
}
,
{
"cell_type" : "markdown",
"metadata" : {},
"source" : ["       +-+"]
}
,
{
"cell_type" : "markdown",
"metadata" : {},
"source" : ["      \|I"]
}
,
{
"cell_type" : "markdown",
"metadata" : {},
"source" : ["  +"]
}
,
{
"cell_type" : "markdown",
"metadata" : {},
"source" : ["           5        4         3         2                   +---+      6"]
}
,
{
"cell_type" : "markdown",
"metadata" : {},
"source" : ["    (- 576I  - 7296I  + 32256I  + 64512I  - 58368I - 18432)\|- I  + 96I"]
}
,
{
"cell_type" : "markdown",
"metadata" : {},
"source" : ["  +"]
}
,
{
"cell_type" : "markdown",
"metadata" : {},
"source" : ["            4         2"]
}
,
{
"cell_type" : "markdown",
"metadata" : {},
"source" : ["    - 24192I  + 96768I  - 6144"]
}
,
{
"cell_type" : "markdown",
"metadata" : {},
"source" : ["                    Type: Union(f1: OrderedCompletion Expression Integer,...)"]
}
,
{
"cell_type" : "code",
"execution_count": null,
"metadata" : {
    "collapsed" : false
},
"source" : ["in2053a:=integrate(atan(2*z-1), z= 0..infinity,\"noPole\")"],
"outputs": []
}
,
{
"cell_type" : "markdown",
"metadata" : {},
"source" : [""]
}
,
{
"cell_type" : "markdown",
"metadata" : {},
"source" : ["                      4            3            2"]
}
,
{
"cell_type" : "markdown",
"metadata" : {},
"source" : ["       - log(4infinity  - 8infinity  + 8infinity  - 4infinity + 1)"]
}
,
{
"cell_type" : "markdown",
"metadata" : {},
"source" : ["     +"]
}
,
{
"cell_type" : "markdown",
"metadata" : {},
"source" : ["                                  2infinity - 1"]
}
,
{
"cell_type" : "markdown",
"metadata" : {},
"source" : ["       (- 4infinity + 2)atan(----------------------) - %pi"]
}
,
{
"cell_type" : "markdown",
"metadata" : {},
"source" : ["                                      2"]
}
,
{
"cell_type" : "markdown",
"metadata" : {},
"source" : ["                             2infinity  - 2infinity"]
}
,
{
"cell_type" : "markdown",
"metadata" : {},
"source" : ["  /"]
}
,
{
"cell_type" : "markdown",
"metadata" : {},
"source" : ["     8"]
}
,
{
"cell_type" : "markdown",
"metadata" : {},
"source" : ["                    Type: Union(f1: OrderedCompletion Expression Integer,...)"]
}
,
{
"cell_type" : "code",
"execution_count": null,
"metadata" : {
    "collapsed" : false
},
"source" : ["in2054:=integrate(atan(1/z^(1/2))+1, z= -1..1)"],
"outputs": []
}
,
{
"cell_type" : "markdown",
"metadata" : {},
"source" : [""]
}
,
{
"cell_type" : "markdown",
"metadata" : {},
"source" : ["                      4            3            2"]
}
,
{
"cell_type" : "markdown",
"metadata" : {},
"source" : ["       - log(4infinity  - 8infinity  + 8infinity  - 4infinity + 1)"]
}
,
{
"cell_type" : "markdown",
"metadata" : {},
"source" : ["     +"]
}
,
{
"cell_type" : "markdown",
"metadata" : {},
"source" : ["                                  2infinity - 1"]
}
,
{
"cell_type" : "markdown",
"metadata" : {},
"source" : ["       (- 4infinity + 2)atan(----------------------) - %pi"]
}
,
{
"cell_type" : "markdown",
"metadata" : {},
"source" : ["                                      2"]
}
,
{
"cell_type" : "markdown",
"metadata" : {},
"source" : ["                             2infinity  - 2infinity"]
}
,
{
"cell_type" : "markdown",
"metadata" : {},
"source" : ["  /"]
}
,
{
"cell_type" : "markdown",
"metadata" : {},
"source" : ["     8"]
}
,
{
"cell_type" : "markdown",
"metadata" : {},
"source" : ["                    Type: Union(f1: OrderedCompletion Expression Integer,...)"]
}
,
{
"cell_type" : "code",
"execution_count": null,
"metadata" : {
    "collapsed" : false
},
"source" : ["in2056a:=integrate(z^(1/2)-acoth(1-z), z= 0..1,\"noPole\")"],
"outputs": []
}
,
{
"cell_type" : "markdown",
"metadata" : {},
"source" : [""]
}
,
{
"cell_type" : "markdown",
"metadata" : {},
"source" : ["         - 3log(4) + 4"]
}
,
{
"cell_type" : "markdown",
"metadata" : {},
"source" : ["         -------------"]
}
,
{
"cell_type" : "markdown",
"metadata" : {},
"source" : ["               6"]
}
,
{
"cell_type" : "markdown",
"metadata" : {},
"source" : ["                    Type: Union(f1: OrderedCompletion Expression Integer,...)"]
}
,
{
"cell_type" : "code",
"execution_count": null,
"metadata" : {
    "collapsed" : false
},
"source" : ["in2058a:=integrate((z^2+I*z-3)^(1/2)+z, z= -1..1,\"noPole\")"],
"outputs": []
}
,
{
"cell_type" : "markdown",
"metadata" : {},
"source" : [""]
}
,
{
"cell_type" : "markdown",
"metadata" : {},
"source" : ["                  4       2        +-------+     5      4      3       2"]
}
,
{
"cell_type" : "markdown",
"metadata" : {},
"source" : ["            (- 16I  - 128I  + 768)\|- I - 2  + 4I  - 24I  - 32I  - 320I"]
}
,
{
"cell_type" : "markdown",
"metadata" : {},
"source" : ["          +"]
}
,
{
"cell_type" : "markdown",
"metadata" : {},
"source" : ["            - 960I - 384"]
}
,
{
"cell_type" : "markdown",
"metadata" : {},
"source" : ["       *"]
}
,
{
"cell_type" : "markdown",
"metadata" : {},
"source" : ["           +-----+"]
}
,
{
"cell_type" : "markdown",
"metadata" : {},
"source" : ["          \|I - 2"]
}
,
{
"cell_type" : "markdown",
"metadata" : {},
"source" : ["      +"]
}
,
{
"cell_type" : "markdown",
"metadata" : {},
"source" : ["           5      4      3       2               +-------+    6      4"]
}
,
{
"cell_type" : "markdown",
"metadata" : {},
"source" : ["        (4I  + 24I  - 32I  + 320I  - 960I + 384)\|- I - 2  - I  + 60I"]
}
,
{
"cell_type" : "markdown",
"metadata" : {},
"source" : ["      +"]
}
,
{
"cell_type" : "markdown",
"metadata" : {},
"source" : ["            2"]
}
,
{
"cell_type" : "markdown",
"metadata" : {},
"source" : ["        848I  - 192"]
}
,
{
"cell_type" : "markdown",
"metadata" : {},
"source" : ["   *"]
}
,
{
"cell_type" : "markdown",
"metadata" : {},
"source" : ["                     +-------+    2"]
}
,
{
"cell_type" : "markdown",
"metadata" : {},
"source" : ["      log((- 4I + 8)\|- I - 2  + I  - 8I - 4)"]
}
,
{
"cell_type" : "markdown",
"metadata" : {},
"source" : ["  +"]
}
,
{
"cell_type" : "markdown",
"metadata" : {},
"source" : ["                4       2        +-------+     5      4      3       2"]
}
,
{
"cell_type" : "markdown",
"metadata" : {},
"source" : ["            (16I  + 128I  - 768)\|- I - 2  - 4I  + 24I  + 32I  + 320I  + 960I"]
}
,
{
"cell_type" : "markdown",
"metadata" : {},
"source" : ["          +"]
}
,
{
"cell_type" : "markdown",
"metadata" : {},
"source" : ["            384"]
}
,
{
"cell_type" : "markdown",
"metadata" : {},
"source" : ["       *"]
}
,
{
"cell_type" : "markdown",
"metadata" : {},
"source" : ["           +-----+"]
}
,
{
"cell_type" : "markdown",
"metadata" : {},
"source" : ["          \|I - 2"]
}
,
{
"cell_type" : "markdown",
"metadata" : {},
"source" : ["      +"]
}
,
{
"cell_type" : "markdown",
"metadata" : {},
"source" : ["             5      4      3       2               +-------+    6      4"]
}
,
{
"cell_type" : "markdown",
"metadata" : {},
"source" : ["        (- 4I  - 24I  + 32I  - 320I  + 960I - 384)\|- I - 2  + I  - 60I"]
}
,
{
"cell_type" : "markdown",
"metadata" : {},
"source" : ["      +"]
}
,
{
"cell_type" : "markdown",
"metadata" : {},
"source" : ["              2"]
}
,
{
"cell_type" : "markdown",
"metadata" : {},
"source" : ["        - 848I  + 192"]
}
,
{
"cell_type" : "markdown",
"metadata" : {},
"source" : ["   *"]
}
,
{
"cell_type" : "markdown",
"metadata" : {},
"source" : ["                     +-----+    2"]
}
,
{
"cell_type" : "markdown",
"metadata" : {},
"source" : ["      log((- 4I - 8)\|I - 2  + I  + 8I - 4)"]
}
,
{
"cell_type" : "markdown",
"metadata" : {},
"source" : ["  +"]
}
,
{
"cell_type" : "markdown",
"metadata" : {},
"source" : ["                 3          +-------+     5      4       3        2"]
}
,
{
"cell_type" : "markdown",
"metadata" : {},
"source" : ["          (- 256I  + 1024I)\|- I - 2  + 4I  + 72I  - 288I  - 1088I  + 64I"]
}
,
{
"cell_type" : "markdown",
"metadata" : {},
"source" : ["        +"]
}
,
{
"cell_type" : "markdown",
"metadata" : {},
"source" : ["          1152"]
}
,
{
"cell_type" : "markdown",
"metadata" : {},
"source" : ["   *"]
}
,
{
"cell_type" : "markdown",
"metadata" : {},
"source" : ["       +-----+"]
}
,
{
"cell_type" : "markdown",
"metadata" : {},
"source" : ["      \|I - 2"]
}
,
{
"cell_type" : "markdown",
"metadata" : {},
"source" : ["  +"]
}
,
{
"cell_type" : "markdown",
"metadata" : {},
"source" : ["         5      4       3        2               +-------+      5       3"]
}
,
{
"cell_type" : "markdown",
"metadata" : {},
"source" : ["    (- 4I  + 72I  + 288I  - 1088I  - 64I + 1152)\|- I - 2  - 32I  + 768I"]
}
,
{
"cell_type" : "markdown",
"metadata" : {},
"source" : ["  +"]
}
,
{
"cell_type" : "markdown",
"metadata" : {},
"source" : ["    - 2560I"]
}
,
{
"cell_type" : "markdown",
"metadata" : {},
"source" : [" /"]
}
,
{
"cell_type" : "markdown",
"metadata" : {},
"source" : ["          2         +-------+      3       2                +-----+"]
}
,
{
"cell_type" : "markdown",
"metadata" : {},
"source" : ["    ((256I  - 1024)\|- I - 2  - 64I  + 384I  + 1280I + 512)\|I - 2"]
}
,
{
"cell_type" : "markdown",
"metadata" : {},
"source" : ["  +"]
}
,
{
"cell_type" : "markdown",
"metadata" : {},
"source" : ["          3       2                +-------+      4        2"]
}
,
{
"cell_type" : "markdown",
"metadata" : {},
"source" : ["    (- 64I  - 384I  + 1280I - 512)\|- I - 2  + 16I  - 1152I  + 256"]
}
,
{
"cell_type" : "markdown",
"metadata" : {},
"source" : ["                 Type: Union(f1: OrderedCompletion Expression Integer,...)"]
}
,
{
"cell_type" : "code",
"execution_count": null,
"metadata" : {
    "collapsed" : false
},
"source" : ["in2068a:=integrate(1/(I*z)^(1/2)-csch(z), z= 0..1,\"noPole\")"],
"outputs": []
}
,
{
"cell_type" : "markdown",
"metadata" : {},
"source" : [""]
}
,
{
"cell_type" : "markdown",
"metadata" : {},
"source" : ["  - infinity"]
}
,
{
"cell_type" : "markdown",
"metadata" : {},
"source" : ["                    Type: Union(f1: OrderedCompletion Expression Integer,...)"]
}
,
{
"cell_type" : "code",
"execution_count": null,
"metadata" : {
    "collapsed" : false
},
"source" : ["in2071a:=integrate(1/(3+z)^3*acoth(z), z= -1..1,\"noPole\")"],
"outputs": []
}
,
{
"cell_type" : "markdown",
"metadata" : {},
"source" : [""]
}
,
{
"cell_type" : "markdown",
"metadata" : {},
"source" : ["         - 3log(16) + 3log(4) - 2"]
}
,
{
"cell_type" : "markdown",
"metadata" : {},
"source" : ["         ------------------------"]
}
,
{
"cell_type" : "markdown",
"metadata" : {},
"source" : ["                    128"]
}
,
{
"cell_type" : "markdown",
"metadata" : {},
"source" : ["                    Type: Union(f1: OrderedCompletion Expression Integer,...)"]
}
,
{
"cell_type" : "code",
"execution_count": null,
"metadata" : {
    "collapsed" : false
},
"source" : ["in2090a:=integrate(exp(z^(1/3))*(3+z)^9, z= -1..1,\"noPole\")"],
"outputs": []
}
,
{
"cell_type" : "markdown",
"metadata" : {},
"source" : [""]
}
,
{
"cell_type" : "markdown",
"metadata" : {},
"source" : ["                                         3+---+2"]
}
,
{
"cell_type" : "markdown",
"metadata" : {},
"source" : ["         13467752003249079711273325865856\|- 1"]
}
,
{
"cell_type" : "markdown",
"metadata" : {},
"source" : ["       +"]
}
,
{
"cell_type" : "markdown",
"metadata" : {},
"source" : ["                                           3+---+"]
}
,
{
"cell_type" : "markdown",
"metadata" : {},
"source" : ["         - 27601768453337700619258203429120\|- 1"]
}
,
{
"cell_type" : "markdown",
"metadata" : {},
"source" : ["       +"]
}
,
{
"cell_type" : "markdown",
"metadata" : {},
"source" : ["         30944953633416008247597858726912"]
}
,
{
"cell_type" : "markdown",
"metadata" : {},
"source" : ["    *"]
}
,
{
"cell_type" : "markdown",
"metadata" : {},
"source" : ["         3+---+"]
}
,
{
"cell_type" : "markdown",
"metadata" : {},
"source" : ["         \|- 1"]
}
,
{
"cell_type" : "markdown",
"metadata" : {},
"source" : ["       %e"]
}
,
{
"cell_type" : "markdown",
"metadata" : {},
"source" : ["   +"]
}
,
{
"cell_type" : "markdown",
"metadata" : {},
"source" : ["     - 9746099248106233432776547720320%e"]
}
,
{
"cell_type" : "markdown",
"metadata" : {},
"source" : ["                    Type: Union(f1: OrderedCompletion Expression Integer,...)"]
}
,
{
"cell_type" : "code",
"execution_count": null,
"metadata" : {
    "collapsed" : false
},
"source" : ["in2094a:=integrate(asinh(z)-acoth(z), z= -1..1,\"noPole\")"],
"outputs": []
}
,
{
"cell_type" : "markdown",
"metadata" : {},
"source" : [""]
}
,
{
"cell_type" : "markdown",
"metadata" : {},
"source" : ["               +-+                +-+"]
}
,
{
"cell_type" : "markdown",
"metadata" : {},
"source" : ["         log(2\|2  + 3) + log(- 2\|2  + 3)"]
}
,
{
"cell_type" : "markdown",
"metadata" : {},
"source" : ["         ---------------------------------"]
}
,
{
"cell_type" : "markdown",
"metadata" : {},
"source" : ["                         2"]
}
,
{
"cell_type" : "markdown",
"metadata" : {},
"source" : ["                    Type: Union(f1: OrderedCompletion Expression Integer,...)"]
}
,
{
"cell_type" : "code",
"execution_count": null,
"metadata" : {
    "collapsed" : false
},
"source" : ["in2096a:=integrate(log(z)^2, z= %minusInfinity..%plusInfinity)"],
"outputs": []
}
,
{
"cell_type" : "markdown",
"metadata" : {},
"source" : [""]
}
,
{
"cell_type" : "markdown",
"metadata" : {},
"source" : ["   + infinity"]
}
,
{
"cell_type" : "markdown",
"metadata" : {},
"source" : ["                    Type: Union(f1: OrderedCompletion Expression Integer,...)"]
}
,
{
"cell_type" : "code",
"execution_count": null,
"metadata" : {
    "collapsed" : false
},
"source" : ["in2098a:=integrate(1/z^(1/3)-z^2/(z-1)^2, z= -1..1,\"noPole\")"],
"outputs": []
}
,
{
"cell_type" : "markdown",
"metadata" : {},
"source" : [""]
}
,
{
"cell_type" : "markdown",
"metadata" : {},
"source" : ["  - infinity"]
}
,
{
"cell_type" : "markdown",
"metadata" : {},
"source" : ["                    Type: Union(f1: OrderedCompletion Expression Integer,...)"]
}
,
{
"cell_type" : "code",
"execution_count": null,
"metadata" : {
    "collapsed" : false
},
"source" : ["in2105a:=integrate(-1/(z^2-I*z+2)^(1/2)/z, z= 0..1,\"noPole\")"],
"outputs": []
}
,
{
"cell_type" : "markdown",
"metadata" : {},
"source" : [""]
}
,
{
"cell_type" : "markdown",
"metadata" : {},
"source" : ["  - infinity"]
}
,
{
"cell_type" : "markdown",
"metadata" : {},
"source" : ["                    Type: Union(f1: OrderedCompletion Expression Integer,...)"]
}
,
{
"cell_type" : "code",
"execution_count": null,
"metadata" : {
    "collapsed" : false
},
"source" : ["in2106a:=integrate(acos(z)+acoth(1-z), z= 0..1,\"noPole\")"],
"outputs": []
}
,
{
"cell_type" : "markdown",
"metadata" : {},
"source" : [""]
}
,
{
"cell_type" : "markdown",
"metadata" : {},
"source" : ["        log(4) + 2"]
}
,
{
"cell_type" : "markdown",
"metadata" : {},
"source" : ["        ----------"]
}
,
{
"cell_type" : "markdown",
"metadata" : {},
"source" : ["             2"]
}
,
{
"cell_type" : "markdown",
"metadata" : {},
"source" : ["                    Type: Union(f1: OrderedCompletion Expression Integer,...)"]
}
,
{
"cell_type" : "code",
"execution_count": null,
"metadata" : {
    "collapsed" : false
},
"source" : ["in2108a:=integrate((1-I/(1+I/z)^2)^(1/2), z= -1..1,\"noPole\")"],
"outputs": []
}
,
{
"cell_type" : "markdown",
"metadata" : {},
"source" : [""]
}
,
{
"cell_type" : "markdown",
"metadata" : {},
"source" : ["["]
}
,
{
"cell_type" : "markdown",
"metadata" : {},
"source" : ["              +-----------+            +----------+"]
}
,
{
"cell_type" : "markdown",
"metadata" : {},
"source" : ["            2 | 2              3    2  | 2"]
}
,
{
"cell_type" : "markdown",
"metadata" : {},
"source" : ["          (I \|I  - 3I + 1  - I  + I )\|I  + I + 1"]
}
,
{
"cell_type" : "markdown",
"metadata" : {},
"source" : ["        +"]
}
,
{
"cell_type" : "markdown",
"metadata" : {},
"source" : ["                      +-----------+"]
}
,
{
"cell_type" : "markdown",
"metadata" : {},
"source" : ["              3    2  | 2              4    2"]
}
,
{
"cell_type" : "markdown",
"metadata" : {},
"source" : ["          (- I  - I )\|I  - 3I + 1  + I  - I"]
}
,
{
"cell_type" : "markdown",
"metadata" : {},
"source" : ["     *"]
}
,
{
"cell_type" : "markdown",
"metadata" : {},
"source" : ["        log"]
}
,
{
"cell_type" : "markdown",
"metadata" : {},
"source" : ["                     3     2           +-------+     4     3     2"]
}
,
{
"cell_type" : "markdown",
"metadata" : {},
"source" : ["                 ((4I  - 4I  + 2I - 2)\|- I + 1  - 2I  + 4I  - 6I  + 4I)"]
}
,
{
"cell_type" : "markdown",
"metadata" : {},
"source" : ["              *"]
}
,
{
"cell_type" : "markdown",
"metadata" : {},
"source" : ["                  +----------+"]
}
,
{
"cell_type" : "markdown",
"metadata" : {},
"source" : ["                  | 2"]
}
,
{
"cell_type" : "markdown",
"metadata" : {},
"source" : ["                 \|I  + I + 1"]
}
,
{
"cell_type" : "markdown",
"metadata" : {},
"source" : ["             +"]
}
,
{
"cell_type" : "markdown",
"metadata" : {},
"source" : ["                    4     3     2       +-------+     5     4     3     2"]
}
,
{
"cell_type" : "markdown",
"metadata" : {},
"source" : ["               (- 4I  + 2I  - 2I  + 4I)\|- I + 1  + 2I  - 3I  + 5I  - 4I"]
}
,
{
"cell_type" : "markdown",
"metadata" : {},
"source" : ["             +"]
}
,
{
"cell_type" : "markdown",
"metadata" : {},
"source" : ["               2I - 2"]
}
,
{
"cell_type" : "markdown",
"metadata" : {},
"source" : ["          /"]
}
,
{
"cell_type" : "markdown",
"metadata" : {},
"source" : ["                      +----------+"]
}
,
{
"cell_type" : "markdown",
"metadata" : {},
"source" : ["                      | 2              2"]
}
,
{
"cell_type" : "markdown",
"metadata" : {},
"source" : ["             (2I + 2)\|I  + I + 1  - 2I  - 3I - 2"]
}
,
{
"cell_type" : "markdown",
"metadata" : {},
"source" : ["    +"]
}
,
{
"cell_type" : "markdown",
"metadata" : {},
"source" : ["                                 +-----------+"]
}
,
{
"cell_type" : "markdown",
"metadata" : {},
"source" : ["                 +---+ +-------+ | 2               2      +---+ +-------+"]
}
,
{
"cell_type" : "markdown",
"metadata" : {},
"source" : ["            (- I\|- I \|- I + 1 \|I  - 3I + 1  + (I  - I)\|- I \|- I + 1 )"]
}
,
{
"cell_type" : "markdown",
"metadata" : {},
"source" : ["         *"]
}
,
{
"cell_type" : "markdown",
"metadata" : {},
"source" : ["             +----------+"]
}
,
{
"cell_type" : "markdown",
"metadata" : {},
"source" : ["             | 2"]
}
,
{
"cell_type" : "markdown",
"metadata" : {},
"source" : ["            \|I  + I + 1"]
}
,
{
"cell_type" : "markdown",
"metadata" : {},
"source" : ["        +"]
}
,
{
"cell_type" : "markdown",
"metadata" : {},
"source" : ["                                 +-----------+"]
}
,
{
"cell_type" : "markdown",
"metadata" : {},
"source" : ["          2      +---+ +-------+ | 2                 3      +---+ +-------+"]
}
,
{
"cell_type" : "markdown",
"metadata" : {},
"source" : ["        (I  + I)\|- I \|- I + 1 \|I  - 3I + 1  + (- I  + I)\|- I \|- I + 1"]
}
,
{
"cell_type" : "markdown",
"metadata" : {},
"source" : ["     *"]
}
,
{
"cell_type" : "markdown",
"metadata" : {},
"source" : ["        log"]
}
,
{
"cell_type" : "markdown",
"metadata" : {},
"source" : ["                                                              +-----------+"]
}
,
{
"cell_type" : "markdown",
"metadata" : {},
"source" : ["                   2            +---+     3      2            | 2"]
}
,
{
"cell_type" : "markdown",
"metadata" : {},
"source" : ["               ((4I  - 10I + 4)\|- I  + 2I  - 10I  + 10I - 2)\|I  - 3I + 1"]
}
,
{
"cell_type" : "markdown",
"metadata" : {},
"source" : ["             +"]
}
,
{
"cell_type" : "markdown",
"metadata" : {},
"source" : ["                    3      2            +---+     4      3      2"]
}
,
{
"cell_type" : "markdown",
"metadata" : {},
"source" : ["               (- 4I  + 16I  - 16I + 4)\|- I  - 2I  + 13I  - 24I  + 13I - 2"]
}
,
{
"cell_type" : "markdown",
"metadata" : {},
"source" : ["          /"]
}
,
{
"cell_type" : "markdown",
"metadata" : {},
"source" : ["                                  +-----------+"]
}
,
{
"cell_type" : "markdown",
"metadata" : {},
"source" : ["                3     2           | 2               4     3      2"]
}
,
{
"cell_type" : "markdown",
"metadata" : {},
"source" : ["             (2I  - 6I  + 6I - 2)\|I  - 3I + 1  - 2I  + 9I  - 14I  + 9I - 2"]
}
,
{
"cell_type" : "markdown",
"metadata" : {},
"source" : ["    +"]
}
,
{
"cell_type" : "markdown",
"metadata" : {},
"source" : ["                               +-----------+"]
}
,
{
"cell_type" : "markdown",
"metadata" : {},
"source" : ["               +---+ +-------+ | 2                 2      +---+ +-------+"]
}
,
{
"cell_type" : "markdown",
"metadata" : {},
"source" : ["            (I\|- I \|- I + 1 \|I  - 3I + 1  + (- I  + I)\|- I \|- I + 1 )"]
}
,
{
"cell_type" : "markdown",
"metadata" : {},
"source" : ["         *"]
}
,
{
"cell_type" : "markdown",
"metadata" : {},
"source" : ["             +----------+"]
}
,
{
"cell_type" : "markdown",
"metadata" : {},
"source" : ["             | 2"]
}
,
{
"cell_type" : "markdown",
"metadata" : {},
"source" : ["            \|I  + I + 1"]
}
,
{
"cell_type" : "markdown",
"metadata" : {},
"source" : ["        +"]
}
,
{
"cell_type" : "markdown",
"metadata" : {},
"source" : ["                                   +-----------+"]
}
,
{
"cell_type" : "markdown",
"metadata" : {},
"source" : ["            2      +---+ +-------+ | 2               3      +---+ +-------+"]
}
,
{
"cell_type" : "markdown",
"metadata" : {},
"source" : ["        (- I  - I)\|- I \|- I + 1 \|I  - 3I + 1  + (I  - I)\|- I \|- I + 1"]
}
,
{
"cell_type" : "markdown",
"metadata" : {},
"source" : ["     *"]
}
,
{
"cell_type" : "markdown",
"metadata" : {},
"source" : ["        log"]
}
,
{
"cell_type" : "markdown",
"metadata" : {},
"source" : ["                                                             +----------+"]
}
,
{
"cell_type" : "markdown",
"metadata" : {},
"source" : ["                     2           +---+     3     2           | 2"]
}
,
{
"cell_type" : "markdown",
"metadata" : {},
"source" : ["               ((- 4I  - 6I - 4)\|- I  + 2I  + 2I  + 2I + 2)\|I  + I + 1"]
}
,
{
"cell_type" : "markdown",
"metadata" : {},
"source" : ["             +"]
}
,
{
"cell_type" : "markdown",
"metadata" : {},
"source" : ["                  3     2           +---+     4     3     2"]
}
,
{
"cell_type" : "markdown",
"metadata" : {},
"source" : ["               (4I  + 8I  + 8I + 4)\|- I  - 2I  - 3I  - 4I  - 3I - 2"]
}
,
{
"cell_type" : "markdown",
"metadata" : {},
"source" : ["          /"]
}
,
{
"cell_type" : "markdown",
"metadata" : {},
"source" : ["                                  +----------+"]
}
,
{
"cell_type" : "markdown",
"metadata" : {},
"source" : ["                3     2           | 2              4     3      2"]
}
,
{
"cell_type" : "markdown",
"metadata" : {},
"source" : ["             (2I  + 6I  + 6I + 2)\|I  + I + 1  - 2I  - 7I  - 10I  - 7I - 2"]
}
,
{
"cell_type" : "markdown",
"metadata" : {},
"source" : ["    +"]
}
,
{
"cell_type" : "markdown",
"metadata" : {},
"source" : ["                +-----------+            +----------+"]
}
,
{
"cell_type" : "markdown",
"metadata" : {},
"source" : ["              2 | 2              3    2  | 2"]
}
,
{
"cell_type" : "markdown",
"metadata" : {},
"source" : ["          (- I \|I  - 3I + 1  + I  - I )\|I  + I + 1"]
}
,
{
"cell_type" : "markdown",
"metadata" : {},
"source" : ["        +"]
}
,
{
"cell_type" : "markdown",
"metadata" : {},
"source" : ["                    +-----------+"]
}
,
{
"cell_type" : "markdown",
"metadata" : {},
"source" : ["            3    2  | 2              4    2"]
}
,
{
"cell_type" : "markdown",
"metadata" : {},
"source" : ["          (I  + I )\|I  - 3I + 1  - I  + I"]
}
,
{
"cell_type" : "markdown",
"metadata" : {},
"source" : ["     *"]
}
,
{
"cell_type" : "markdown",
"metadata" : {},
"source" : ["        log"]
}
,
{
"cell_type" : "markdown",
"metadata" : {},
"source" : ["                       3     2           +-------+     4     3      2"]
}
,
{
"cell_type" : "markdown",
"metadata" : {},
"source" : ["                 ((- 4I  + 8I  - 6I + 2)\|- I + 1  - 2I  + 8I  - 10I  + 4I)"]
}
,
{
"cell_type" : "markdown",
"metadata" : {},
"source" : ["              *"]
}
,
{
"cell_type" : "markdown",
"metadata" : {},
"source" : ["                  +-----------+"]
}
,
{
"cell_type" : "markdown",
"metadata" : {},
"source" : ["                  | 2"]
}
,
{
"cell_type" : "markdown",
"metadata" : {},
"source" : ["                 \|I  - 3I + 1"]
}
,
{
"cell_type" : "markdown",
"metadata" : {},
"source" : ["             +"]
}
,
{
"cell_type" : "markdown",
"metadata" : {},
"source" : ["                  4      3      2       +-------+     5      4      3      2"]
}
,
{
"cell_type" : "markdown",
"metadata" : {},
"source" : ["               (4I  - 14I  + 14I  - 4I)\|- I + 1  + 2I  - 11I  + 21I  - 20I"]
}
,
{
"cell_type" : "markdown",
"metadata" : {},
"source" : ["             +"]
}
,
{
"cell_type" : "markdown",
"metadata" : {},
"source" : ["               10I - 2"]
}
,
{
"cell_type" : "markdown",
"metadata" : {},
"source" : ["          /"]
}
,
{
"cell_type" : "markdown",
"metadata" : {},
"source" : ["                      +-----------+"]
}
,
{
"cell_type" : "markdown",
"metadata" : {},
"source" : ["                      | 2               2"]
}
,
{
"cell_type" : "markdown",
"metadata" : {},
"source" : ["             (2I - 2)\|I  - 3I + 1  - 2I  + 5I - 2"]
}
,
{
"cell_type" : "markdown",
"metadata" : {},
"source" : ["    +"]
}
,
{
"cell_type" : "markdown",
"metadata" : {},
"source" : ["                     +-----------+                       +----------+"]
}
,
{
"cell_type" : "markdown",
"metadata" : {},
"source" : ["           +-------+ | 2                      +-------+  | 2"]
}
,
{
"cell_type" : "markdown",
"metadata" : {},
"source" : ["      (- 4\|- I + 1 \|I  - 3I + 1  + (6I - 4)\|- I + 1 )\|I  + I + 1"]
}
,
{
"cell_type" : "markdown",
"metadata" : {},
"source" : ["    +"]
}
,
{
"cell_type" : "markdown",
"metadata" : {},
"source" : ["                         +-----------+"]
}
,
{
"cell_type" : "markdown",
"metadata" : {},
"source" : ["               +-------+ | 2                  2           +-------+"]
}
,
{
"cell_type" : "markdown",
"metadata" : {},
"source" : ["      (2I + 4)\|- I + 1 \|I  - 3I + 1  + (- 4I  - 4I + 4)\|- I + 1"]
}
,
{
"cell_type" : "markdown",
"metadata" : {},
"source" : [" /"]
}
,
{
"cell_type" : "markdown",
"metadata" : {},
"source" : ["                   +-----------+                         +----------+"]
}
,
{
"cell_type" : "markdown",
"metadata" : {},
"source" : ["         +-------+ | 2                        +-------+  | 2"]
}
,
{
"cell_type" : "markdown",
"metadata" : {},
"source" : ["      (2\|- I + 1 \|I  - 3I + 1  + (- 2I + 2)\|- I + 1 )\|I  + I + 1"]
}
,
{
"cell_type" : "markdown",
"metadata" : {},
"source" : ["    +"]
}
,
{
"cell_type" : "markdown",
"metadata" : {},
"source" : ["                           +-----------+"]
}
,
{
"cell_type" : "markdown",
"metadata" : {},
"source" : ["                 +-------+ | 2                2      +-------+"]
}
,
{
"cell_type" : "markdown",
"metadata" : {},
"source" : ["      (- 2I - 2)\|- I + 1 \|I  - 3I + 1  + (2I  - 2)\|- I + 1"]
}
,
{
"cell_type" : "markdown",
"metadata" : {},
"source" : ["  ,"]
}
,
{
"cell_type" : "markdown",
"metadata" : {},
"source" : [""]
}
,
{
"cell_type" : "markdown",
"metadata" : {},
"source" : ["                               +-----------+"]
}
,
{
"cell_type" : "markdown",
"metadata" : {},
"source" : ["                 +---+ +-----+ | 2               2      +---+ +-----+"]
}
,
{
"cell_type" : "markdown",
"metadata" : {},
"source" : ["            (- I\|- I \|I - 1 \|I  - 3I + 1  + (I  - I)\|- I \|I - 1 )"]
}
,
{
"cell_type" : "markdown",
"metadata" : {},
"source" : ["         *"]
}
,
{
"cell_type" : "markdown",
"metadata" : {},
"source" : ["             +----------+"]
}
,
{
"cell_type" : "markdown",
"metadata" : {},
"source" : ["             | 2"]
}
,
{
"cell_type" : "markdown",
"metadata" : {},
"source" : ["            \|I  + I + 1"]
}
,
{
"cell_type" : "markdown",
"metadata" : {},
"source" : ["        +"]
}
,
{
"cell_type" : "markdown",
"metadata" : {},
"source" : ["                                 +-----------+"]
}
,
{
"cell_type" : "markdown",
"metadata" : {},
"source" : ["            2      +---+ +-----+ | 2                 3      +---+ +-----+"]
}
,
{
"cell_type" : "markdown",
"metadata" : {},
"source" : ["          (I  + I)\|- I \|I - 1 \|I  - 3I + 1  + (- I  + I)\|- I \|I - 1"]
}
,
{
"cell_type" : "markdown",
"metadata" : {},
"source" : ["     *"]
}
,
{
"cell_type" : "markdown",
"metadata" : {},
"source" : ["        log"]
}
,
{
"cell_type" : "markdown",
"metadata" : {},
"source" : ["                                                              +-----------+"]
}
,
{
"cell_type" : "markdown",
"metadata" : {},
"source" : ["                   2            +---+     3      2            | 2"]
}
,
{
"cell_type" : "markdown",
"metadata" : {},
"source" : ["               ((4I  - 10I + 4)\|- I  + 2I  - 10I  + 10I - 2)\|I  - 3I + 1"]
}
,
{
"cell_type" : "markdown",
"metadata" : {},
"source" : ["             +"]
}
,
{
"cell_type" : "markdown",
"metadata" : {},
"source" : ["                    3      2            +---+     4      3      2"]
}
,
{
"cell_type" : "markdown",
"metadata" : {},
"source" : ["               (- 4I  + 16I  - 16I + 4)\|- I  - 2I  + 13I  - 24I  + 13I - 2"]
}
,
{
"cell_type" : "markdown",
"metadata" : {},
"source" : ["          /"]
}
,
{
"cell_type" : "markdown",
"metadata" : {},
"source" : ["                                  +-----------+"]
}
,
{
"cell_type" : "markdown",
"metadata" : {},
"source" : ["                3     2           | 2               4     3      2"]
}
,
{
"cell_type" : "markdown",
"metadata" : {},
"source" : ["             (2I  - 6I  + 6I - 2)\|I  - 3I + 1  - 2I  + 9I  - 14I  + 9I - 2"]
}
,
{
"cell_type" : "markdown",
"metadata" : {},
"source" : ["    +"]
}
,
{
"cell_type" : "markdown",
"metadata" : {},
"source" : ["                             +-----------+"]
}
,
{
"cell_type" : "markdown",
"metadata" : {},
"source" : ["               +---+ +-----+ | 2                 2      +---+ +-----+"]
}
,
{
"cell_type" : "markdown",
"metadata" : {},
"source" : ["            (I\|- I \|I - 1 \|I  - 3I + 1  + (- I  + I)\|- I \|I - 1 )"]
}
,
{
"cell_type" : "markdown",
"metadata" : {},
"source" : ["         *"]
}
,
{
"cell_type" : "markdown",
"metadata" : {},
"source" : ["             +----------+"]
}
,
{
"cell_type" : "markdown",
"metadata" : {},
"source" : ["             | 2"]
}
,
{
"cell_type" : "markdown",
"metadata" : {},
"source" : ["            \|I  + I + 1"]
}
,
{
"cell_type" : "markdown",
"metadata" : {},
"source" : ["        +"]
}
,
{
"cell_type" : "markdown",
"metadata" : {},
"source" : ["                                   +-----------+"]
}
,
{
"cell_type" : "markdown",
"metadata" : {},
"source" : ["              2      +---+ +-----+ | 2               3      +---+ +-----+"]
}
,
{
"cell_type" : "markdown",
"metadata" : {},
"source" : ["          (- I  - I)\|- I \|I - 1 \|I  - 3I + 1  + (I  - I)\|- I \|I - 1"]
}
,
{
"cell_type" : "markdown",
"metadata" : {},
"source" : ["     *"]
}
,
{
"cell_type" : "markdown",
"metadata" : {},
"source" : ["        log"]
}
,
{
"cell_type" : "markdown",
"metadata" : {},
"source" : ["                                                             +----------+"]
}
,
{
"cell_type" : "markdown",
"metadata" : {},
"source" : ["                     2           +---+     3     2           | 2"]
}
,
{
"cell_type" : "markdown",
"metadata" : {},
"source" : ["               ((- 4I  - 6I - 4)\|- I  + 2I  + 2I  + 2I + 2)\|I  + I + 1"]
}
,
{
"cell_type" : "markdown",
"metadata" : {},
"source" : ["             +"]
}
,
{
"cell_type" : "markdown",
"metadata" : {},
"source" : ["                  3     2           +---+     4     3     2"]
}
,
{
"cell_type" : "markdown",
"metadata" : {},
"source" : ["               (4I  + 8I  + 8I + 4)\|- I  - 2I  - 3I  - 4I  - 3I - 2"]
}
,
{
"cell_type" : "markdown",
"metadata" : {},
"source" : ["          /"]
}
,
{
"cell_type" : "markdown",
"metadata" : {},
"source" : ["                                  +----------+"]
}
,
{
"cell_type" : "markdown",
"metadata" : {},
"source" : ["                3     2           | 2              4     3      2"]
}
,
{
"cell_type" : "markdown",
"metadata" : {},
"source" : ["             (2I  + 6I  + 6I + 2)\|I  + I + 1  - 2I  - 7I  - 10I  - 7I - 2"]
}
,
{
"cell_type" : "markdown",
"metadata" : {},
"source" : ["    +"]
}
,
{
"cell_type" : "markdown",
"metadata" : {},
"source" : ["                 +-----------+              +----------+"]
}
,
{
"cell_type" : "markdown",
"metadata" : {},
"source" : ["               2 | 2               3     2  | 2"]
}
,
{
"cell_type" : "markdown",
"metadata" : {},
"source" : ["          (- 4I \|I  - 3I + 1  + 4I  - 4I )\|I  + I + 1"]
}
,
{
"cell_type" : "markdown",
"metadata" : {},
"source" : ["        +"]
}
,
{
"cell_type" : "markdown",
"metadata" : {},
"source" : ["                      +-----------+"]
}
,
{
"cell_type" : "markdown",
"metadata" : {},
"source" : ["             3     2  | 2               4     2"]
}
,
{
"cell_type" : "markdown",
"metadata" : {},
"source" : ["          (4I  + 4I )\|I  - 3I + 1  - 4I  + 4I"]
}
,
{
"cell_type" : "markdown",
"metadata" : {},
"source" : ["     *"]
}
,
{
"cell_type" : "markdown",
"metadata" : {},
"source" : ["                      +----------+"]
}
,
{
"cell_type" : "markdown",
"metadata" : {},
"source" : ["              +-----+ | 2              +-----+"]
}
,
{
"cell_type" : "markdown",
"metadata" : {},
"source" : ["             \|I - 1 \|I  + I + 1  - I\|I - 1"]
}
,
{
"cell_type" : "markdown",
"metadata" : {},
"source" : ["        atan(---------------------------------)"]
}
,
{
"cell_type" : "markdown",
"metadata" : {},
"source" : ["                           I - 1"]
}
,
{
"cell_type" : "markdown",
"metadata" : {},
"source" : ["    +"]
}
,
{
"cell_type" : "markdown",
"metadata" : {},
"source" : ["                 +-----------+              +----------+"]
}
,
{
"cell_type" : "markdown",
"metadata" : {},
"source" : ["               2 | 2               3     2  | 2"]
}
,
{
"cell_type" : "markdown",
"metadata" : {},
"source" : ["          (- 4I \|I  - 3I + 1  + 4I  - 4I )\|I  + I + 1"]
}
,
{
"cell_type" : "markdown",
"metadata" : {},
"source" : ["        +"]
}
,
{
"cell_type" : "markdown",
"metadata" : {},
"source" : ["                      +-----------+"]
}
,
{
"cell_type" : "markdown",
"metadata" : {},
"source" : ["             3     2  | 2               4     2"]
}
,
{
"cell_type" : "markdown",
"metadata" : {},
"source" : ["          (4I  + 4I )\|I  - 3I + 1  - 4I  + 4I"]
}
,
{
"cell_type" : "markdown",
"metadata" : {},
"source" : ["     *"]
}
,
{
"cell_type" : "markdown",
"metadata" : {},
"source" : ["                      +-----------+"]
}
,
{
"cell_type" : "markdown",
"metadata" : {},
"source" : ["              +-----+ | 2               +-----+"]
}
,
{
"cell_type" : "markdown",
"metadata" : {},
"source" : ["             \|I - 1 \|I  - 3I + 1  - I\|I - 1"]
}
,
{
"cell_type" : "markdown",
"metadata" : {},
"source" : ["        atan(----------------------------------)"]
}
,
{
"cell_type" : "markdown",
"metadata" : {},
"source" : ["                            I - 1"]
}
,
{
"cell_type" : "markdown",
"metadata" : {},
"source" : ["    +"]
}
,
{
"cell_type" : "markdown",
"metadata" : {},
"source" : ["                   +-----------+                     +----------+"]
}
,
{
"cell_type" : "markdown",
"metadata" : {},
"source" : ["           +-----+ | 2                      +-----+  | 2"]
}
,
{
"cell_type" : "markdown",
"metadata" : {},
"source" : ["      (- 4\|I - 1 \|I  - 3I + 1  + (6I - 4)\|I - 1 )\|I  + I + 1"]
}
,
{
"cell_type" : "markdown",
"metadata" : {},
"source" : ["    +"]
}
,
{
"cell_type" : "markdown",
"metadata" : {},
"source" : ["                       +-----------+"]
}
,
{
"cell_type" : "markdown",
"metadata" : {},
"source" : ["               +-----+ | 2                  2           +-----+"]
}
,
{
"cell_type" : "markdown",
"metadata" : {},
"source" : ["      (2I + 4)\|I - 1 \|I  - 3I + 1  + (- 4I  - 4I + 4)\|I - 1"]
}
,
{
"cell_type" : "markdown",
"metadata" : {},
"source" : [" /"]
}
,
{
"cell_type" : "markdown",
"metadata" : {},
"source" : ["                 +-----------+                       +----------+"]
}
,
{
"cell_type" : "markdown",
"metadata" : {},
"source" : ["         +-----+ | 2                        +-----+  | 2"]
}
,
{
"cell_type" : "markdown",
"metadata" : {},
"source" : ["      (2\|I - 1 \|I  - 3I + 1  + (- 2I + 2)\|I - 1 )\|I  + I + 1"]
}
,
{
"cell_type" : "markdown",
"metadata" : {},
"source" : ["    +"]
}
,
{
"cell_type" : "markdown",
"metadata" : {},
"source" : ["                         +-----------+"]
}
,
{
"cell_type" : "markdown",
"metadata" : {},
"source" : ["                 +-----+ | 2                2      +-----+"]
}
,
{
"cell_type" : "markdown",
"metadata" : {},
"source" : ["      (- 2I - 2)\|I - 1 \|I  - 3I + 1  + (2I  - 2)\|I - 1"]
}
,
{
"cell_type" : "markdown",
"metadata" : {},
"source" : ["  ,"]
}
,
{
"cell_type" : "markdown",
"metadata" : {},
"source" : [""]
}
,
{
"cell_type" : "markdown",
"metadata" : {},
"source" : ["              +-----------+            +----------+"]
}
,
{
"cell_type" : "markdown",
"metadata" : {},
"source" : ["            2 | 2              3    2  | 2"]
}
,
{
"cell_type" : "markdown",
"metadata" : {},
"source" : ["          (I \|I  - 3I + 1  - I  + I )\|I  + I + 1"]
}
,
{
"cell_type" : "markdown",
"metadata" : {},
"source" : ["        +"]
}
,
{
"cell_type" : "markdown",
"metadata" : {},
"source" : ["                      +-----------+"]
}
,
{
"cell_type" : "markdown",
"metadata" : {},
"source" : ["              3    2  | 2              4    2"]
}
,
{
"cell_type" : "markdown",
"metadata" : {},
"source" : ["          (- I  - I )\|I  - 3I + 1  + I  - I"]
}
,
{
"cell_type" : "markdown",
"metadata" : {},
"source" : ["     *"]
}
,
{
"cell_type" : "markdown",
"metadata" : {},
"source" : ["        log"]
}
,
{
"cell_type" : "markdown",
"metadata" : {},
"source" : ["                     3     2           +-------+     4     3     2"]
}
,
{
"cell_type" : "markdown",
"metadata" : {},
"source" : ["                 ((4I  - 4I  + 2I - 2)\|- I + 1  - 2I  + 4I  - 6I  + 4I)"]
}
,
{
"cell_type" : "markdown",
"metadata" : {},
"source" : ["              *"]
}
,
{
"cell_type" : "markdown",
"metadata" : {},
"source" : ["                  +----------+"]
}
,
{
"cell_type" : "markdown",
"metadata" : {},
"source" : ["                  | 2"]
}
,
{
"cell_type" : "markdown",
"metadata" : {},
"source" : ["                 \|I  + I + 1"]
}
,
{
"cell_type" : "markdown",
"metadata" : {},
"source" : ["             +"]
}
,
{
"cell_type" : "markdown",
"metadata" : {},
"source" : ["                    4     3     2       +-------+     5     4     3     2"]
}
,
{
"cell_type" : "markdown",
"metadata" : {},
"source" : ["               (- 4I  + 2I  - 2I  + 4I)\|- I + 1  + 2I  - 3I  + 5I  - 4I"]
}
,
{
"cell_type" : "markdown",
"metadata" : {},
"source" : ["             +"]
}
,
{
"cell_type" : "markdown",
"metadata" : {},
"source" : ["               2I - 2"]
}
,
{
"cell_type" : "markdown",
"metadata" : {},
"source" : ["          /"]
}
,
{
"cell_type" : "markdown",
"metadata" : {},
"source" : ["                      +----------+"]
}
,
{
"cell_type" : "markdown",
"metadata" : {},
"source" : ["                      | 2              2"]
}
,
{
"cell_type" : "markdown",
"metadata" : {},
"source" : ["             (2I + 2)\|I  + I + 1  - 2I  - 3I - 2"]
}
,
{
"cell_type" : "markdown",
"metadata" : {},
"source" : ["    +"]
}
,
{
"cell_type" : "markdown",
"metadata" : {},
"source" : ["                +-----------+            +----------+"]
}
,
{
"cell_type" : "markdown",
"metadata" : {},
"source" : ["              2 | 2              3    2  | 2"]
}
,
{
"cell_type" : "markdown",
"metadata" : {},
"source" : ["          (- I \|I  - 3I + 1  + I  - I )\|I  + I + 1"]
}
,
{
"cell_type" : "markdown",
"metadata" : {},
"source" : ["        +"]
}
,
{
"cell_type" : "markdown",
"metadata" : {},
"source" : ["                    +-----------+"]
}
,
{
"cell_type" : "markdown",
"metadata" : {},
"source" : ["            3    2  | 2              4    2"]
}
,
{
"cell_type" : "markdown",
"metadata" : {},
"source" : ["          (I  + I )\|I  - 3I + 1  - I  + I"]
}
,
{
"cell_type" : "markdown",
"metadata" : {},
"source" : ["     *"]
}
,
{
"cell_type" : "markdown",
"metadata" : {},
"source" : ["        log"]
}
,
{
"cell_type" : "markdown",
"metadata" : {},
"source" : ["                       3     2           +-------+     4     3      2"]
}
,
{
"cell_type" : "markdown",
"metadata" : {},
"source" : ["                 ((- 4I  + 8I  - 6I + 2)\|- I + 1  - 2I  + 8I  - 10I  + 4I)"]
}
,
{
"cell_type" : "markdown",
"metadata" : {},
"source" : ["              *"]
}
,
{
"cell_type" : "markdown",
"metadata" : {},
"source" : ["                  +-----------+"]
}
,
{
"cell_type" : "markdown",
"metadata" : {},
"source" : ["                  | 2"]
}
,
{
"cell_type" : "markdown",
"metadata" : {},
"source" : ["                 \|I  - 3I + 1"]
}
,
{
"cell_type" : "markdown",
"metadata" : {},
"source" : ["             +"]
}
,
{
"cell_type" : "markdown",
"metadata" : {},
"source" : ["                  4      3      2       +-------+     5      4      3      2"]
}
,
{
"cell_type" : "markdown",
"metadata" : {},
"source" : ["               (4I  - 14I  + 14I  - 4I)\|- I + 1  + 2I  - 11I  + 21I  - 20I"]
}
,
{
"cell_type" : "markdown",
"metadata" : {},
"source" : ["             +"]
}
,
{
"cell_type" : "markdown",
"metadata" : {},
"source" : ["               10I - 2"]
}
,
{
"cell_type" : "markdown",
"metadata" : {},
"source" : ["          /"]
}
,
{
"cell_type" : "markdown",
"metadata" : {},
"source" : ["                      +-----------+"]
}
,
{
"cell_type" : "markdown",
"metadata" : {},
"source" : ["                      | 2               2"]
}
,
{
"cell_type" : "markdown",
"metadata" : {},
"source" : ["             (2I - 2)\|I  - 3I + 1  - 2I  + 5I - 2"]
}
,
{
"cell_type" : "markdown",
"metadata" : {},
"source" : ["    +"]
}
,
{
"cell_type" : "markdown",
"metadata" : {},
"source" : ["                                +-----------+"]
}
,
{
"cell_type" : "markdown",
"metadata" : {},
"source" : ["                  +-------+ +-+ | 2                2       +-------+ +-+"]
}
,
{
"cell_type" : "markdown",
"metadata" : {},
"source" : ["            (- 4I\|- I + 1 \|I \|I  - 3I + 1  + (4I  - 4I)\|- I + 1 \|I )"]
}
,
{
"cell_type" : "markdown",
"metadata" : {},
"source" : ["         *"]
}
,
{
"cell_type" : "markdown",
"metadata" : {},
"source" : ["             +----------+"]
}
,
{
"cell_type" : "markdown",
"metadata" : {},
"source" : ["             | 2"]
}
,
{
"cell_type" : "markdown",
"metadata" : {},
"source" : ["            \|I  + I + 1"]
}
,
{
"cell_type" : "markdown",
"metadata" : {},
"source" : ["        +"]
}
,
{
"cell_type" : "markdown",
"metadata" : {},
"source" : ["                                 +-----------+"]
}
,
{
"cell_type" : "markdown",
"metadata" : {},
"source" : ["           2       +-------+ +-+ | 2                  3       +-------+ +-+"]
}
,
{
"cell_type" : "markdown",
"metadata" : {},
"source" : ["        (4I  + 4I)\|- I + 1 \|I \|I  - 3I + 1  + (- 4I  + 4I)\|- I + 1 \|I"]
}
,
{
"cell_type" : "markdown",
"metadata" : {},
"source" : ["     *"]
}
,
{
"cell_type" : "markdown",
"metadata" : {},
"source" : ["                       +-+"]
}
,
{
"cell_type" : "markdown",
"metadata" : {},
"source" : ["                      \|I"]
}
,
{
"cell_type" : "markdown",
"metadata" : {},
"source" : ["        atan(----------------------)"]
}
,
{
"cell_type" : "markdown",
"metadata" : {},
"source" : ["              +-----------+"]
}
,
{
"cell_type" : "markdown",
"metadata" : {},
"source" : ["              | 2"]
}
,
{
"cell_type" : "markdown",
"metadata" : {},
"source" : ["             \|I  - 3I + 1  - I + 1"]
}
,
{
"cell_type" : "markdown",
"metadata" : {},
"source" : ["    +"]
}
,
{
"cell_type" : "markdown",
"metadata" : {},
"source" : ["                                +-----------+"]
}
,
{
"cell_type" : "markdown",
"metadata" : {},
"source" : ["                  +-------+ +-+ | 2                2       +-------+ +-+"]
}
,
{
"cell_type" : "markdown",
"metadata" : {},
"source" : ["            (- 4I\|- I + 1 \|I \|I  - 3I + 1  + (4I  - 4I)\|- I + 1 \|I )"]
}
,
{
"cell_type" : "markdown",
"metadata" : {},
"source" : ["         *"]
}
,
{
"cell_type" : "markdown",
"metadata" : {},
"source" : ["             +----------+"]
}
,
{
"cell_type" : "markdown",
"metadata" : {},
"source" : ["             | 2"]
}
,
{
"cell_type" : "markdown",
"metadata" : {},
"source" : ["            \|I  + I + 1"]
}
,
{
"cell_type" : "markdown",
"metadata" : {},
"source" : ["        +"]
}
,
{
"cell_type" : "markdown",
"metadata" : {},
"source" : ["                                 +-----------+"]
}
,
{
"cell_type" : "markdown",
"metadata" : {},
"source" : ["           2       +-------+ +-+ | 2                  3       +-------+ +-+"]
}
,
{
"cell_type" : "markdown",
"metadata" : {},
"source" : ["        (4I  + 4I)\|- I + 1 \|I \|I  - 3I + 1  + (- 4I  + 4I)\|- I + 1 \|I"]
}
,
{
"cell_type" : "markdown",
"metadata" : {},
"source" : ["     *"]
}
,
{
"cell_type" : "markdown",
"metadata" : {},
"source" : ["                       +-+"]
}
,
{
"cell_type" : "markdown",
"metadata" : {},
"source" : ["                      \|I"]
}
,
{
"cell_type" : "markdown",
"metadata" : {},
"source" : ["        atan(---------------------)"]
}
,
{
"cell_type" : "markdown",
"metadata" : {},
"source" : ["              +----------+"]
}
,
{
"cell_type" : "markdown",
"metadata" : {},
"source" : ["              | 2"]
}
,
{
"cell_type" : "markdown",
"metadata" : {},
"source" : ["             \|I  + I + 1  - I - 1"]
}
,
{
"cell_type" : "markdown",
"metadata" : {},
"source" : ["    +"]
}
,
{
"cell_type" : "markdown",
"metadata" : {},
"source" : ["                     +-----------+                       +----------+"]
}
,
{
"cell_type" : "markdown",
"metadata" : {},
"source" : ["           +-------+ | 2                      +-------+  | 2"]
}
,
{
"cell_type" : "markdown",
"metadata" : {},
"source" : ["      (- 4\|- I + 1 \|I  - 3I + 1  + (6I - 4)\|- I + 1 )\|I  + I + 1"]
}
,
{
"cell_type" : "markdown",
"metadata" : {},
"source" : ["    +"]
}
,
{
"cell_type" : "markdown",
"metadata" : {},
"source" : ["                         +-----------+"]
}
,
{
"cell_type" : "markdown",
"metadata" : {},
"source" : ["               +-------+ | 2                  2           +-------+"]
}
,
{
"cell_type" : "markdown",
"metadata" : {},
"source" : ["      (2I + 4)\|- I + 1 \|I  - 3I + 1  + (- 4I  - 4I + 4)\|- I + 1"]
}
,
{
"cell_type" : "markdown",
"metadata" : {},
"source" : [" /"]
}
,
{
"cell_type" : "markdown",
"metadata" : {},
"source" : ["                   +-----------+                         +----------+"]
}
,
{
"cell_type" : "markdown",
"metadata" : {},
"source" : ["         +-------+ | 2                        +-------+  | 2"]
}
,
{
"cell_type" : "markdown",
"metadata" : {},
"source" : ["      (2\|- I + 1 \|I  - 3I + 1  + (- 2I + 2)\|- I + 1 )\|I  + I + 1"]
}
,
{
"cell_type" : "markdown",
"metadata" : {},
"source" : ["    +"]
}
,
{
"cell_type" : "markdown",
"metadata" : {},
"source" : ["                           +-----------+"]
}
,
{
"cell_type" : "markdown",
"metadata" : {},
"source" : ["                 +-------+ | 2                2      +-------+"]
}
,
{
"cell_type" : "markdown",
"metadata" : {},
"source" : ["      (- 2I - 2)\|- I + 1 \|I  - 3I + 1  + (2I  - 2)\|- I + 1"]
}
,
{
"cell_type" : "markdown",
"metadata" : {},
"source" : ["  ,"]
}
,
{
"cell_type" : "markdown",
"metadata" : {},
"source" : [""]
}
,
{
"cell_type" : "markdown",
"metadata" : {},
"source" : ["                 +-----------+              +----------+"]
}
,
{
"cell_type" : "markdown",
"metadata" : {},
"source" : ["               2 | 2               3     2  | 2"]
}
,
{
"cell_type" : "markdown",
"metadata" : {},
"source" : ["          (- 2I \|I  - 3I + 1  + 2I  - 2I )\|I  + I + 1"]
}
,
{
"cell_type" : "markdown",
"metadata" : {},
"source" : ["        +"]
}
,
{
"cell_type" : "markdown",
"metadata" : {},
"source" : ["                      +-----------+"]
}
,
{
"cell_type" : "markdown",
"metadata" : {},
"source" : ["             3     2  | 2               4     2"]
}
,
{
"cell_type" : "markdown",
"metadata" : {},
"source" : ["          (2I  + 2I )\|I  - 3I + 1  - 2I  + 2I"]
}
,
{
"cell_type" : "markdown",
"metadata" : {},
"source" : ["     *"]
}
,
{
"cell_type" : "markdown",
"metadata" : {},
"source" : ["                      +----------+"]
}
,
{
"cell_type" : "markdown",
"metadata" : {},
"source" : ["              +-----+ | 2              +-----+"]
}
,
{
"cell_type" : "markdown",
"metadata" : {},
"source" : ["             \|I - 1 \|I  + I + 1  - I\|I - 1"]
}
,
{
"cell_type" : "markdown",
"metadata" : {},
"source" : ["        atan(---------------------------------)"]
}
,
{
"cell_type" : "markdown",
"metadata" : {},
"source" : ["                           I - 1"]
}
,
{
"cell_type" : "markdown",
"metadata" : {},
"source" : ["    +"]
}
,
{
"cell_type" : "markdown",
"metadata" : {},
"source" : ["                 +-----------+              +----------+"]
}
,
{
"cell_type" : "markdown",
"metadata" : {},
"source" : ["               2 | 2               3     2  | 2"]
}
,
{
"cell_type" : "markdown",
"metadata" : {},
"source" : ["          (- 2I \|I  - 3I + 1  + 2I  - 2I )\|I  + I + 1"]
}
,
{
"cell_type" : "markdown",
"metadata" : {},
"source" : ["        +"]
}
,
{
"cell_type" : "markdown",
"metadata" : {},
"source" : ["                      +-----------+"]
}
,
{
"cell_type" : "markdown",
"metadata" : {},
"source" : ["             3     2  | 2               4     2"]
}
,
{
"cell_type" : "markdown",
"metadata" : {},
"source" : ["          (2I  + 2I )\|I  - 3I + 1  - 2I  + 2I"]
}
,
{
"cell_type" : "markdown",
"metadata" : {},
"source" : ["     *"]
}
,
{
"cell_type" : "markdown",
"metadata" : {},
"source" : ["                      +-----------+"]
}
,
{
"cell_type" : "markdown",
"metadata" : {},
"source" : ["              +-----+ | 2               +-----+"]
}
,
{
"cell_type" : "markdown",
"metadata" : {},
"source" : ["             \|I - 1 \|I  - 3I + 1  - I\|I - 1"]
}
,
{
"cell_type" : "markdown",
"metadata" : {},
"source" : ["        atan(----------------------------------)"]
}
,
{
"cell_type" : "markdown",
"metadata" : {},
"source" : ["                            I - 1"]
}
,
{
"cell_type" : "markdown",
"metadata" : {},
"source" : ["    +"]
}
,
{
"cell_type" : "markdown",
"metadata" : {},
"source" : ["                              +-----------+"]
}
,
{
"cell_type" : "markdown",
"metadata" : {},
"source" : ["                  +-----+ +-+ | 2                2       +-----+ +-+"]
}
,
{
"cell_type" : "markdown",
"metadata" : {},
"source" : ["            (- 2I\|I - 1 \|I \|I  - 3I + 1  + (2I  - 2I)\|I - 1 \|I )"]
}
,
{
"cell_type" : "markdown",
"metadata" : {},
"source" : ["         *"]
}
,
{
"cell_type" : "markdown",
"metadata" : {},
"source" : ["             +----------+"]
}
,
{
"cell_type" : "markdown",
"metadata" : {},
"source" : ["             | 2"]
}
,
{
"cell_type" : "markdown",
"metadata" : {},
"source" : ["            \|I  + I + 1"]
}
,
{
"cell_type" : "markdown",
"metadata" : {},
"source" : ["        +"]
}
,
{
"cell_type" : "markdown",
"metadata" : {},
"source" : ["                                 +-----------+"]
}
,
{
"cell_type" : "markdown",
"metadata" : {},
"source" : ["             2       +-----+ +-+ | 2                  3       +-----+ +-+"]
}
,
{
"cell_type" : "markdown",
"metadata" : {},
"source" : ["          (2I  + 2I)\|I - 1 \|I \|I  - 3I + 1  + (- 2I  + 2I)\|I - 1 \|I"]
}
,
{
"cell_type" : "markdown",
"metadata" : {},
"source" : ["     *"]
}
,
{
"cell_type" : "markdown",
"metadata" : {},
"source" : ["                       +-+"]
}
,
{
"cell_type" : "markdown",
"metadata" : {},
"source" : ["                      \|I"]
}
,
{
"cell_type" : "markdown",
"metadata" : {},
"source" : ["        atan(----------------------)"]
}
,
{
"cell_type" : "markdown",
"metadata" : {},
"source" : ["              +-----------+"]
}
,
{
"cell_type" : "markdown",
"metadata" : {},
"source" : ["              | 2"]
}
,
{
"cell_type" : "markdown",
"metadata" : {},
"source" : ["             \|I  - 3I + 1  - I + 1"]
}
,
{
"cell_type" : "markdown",
"metadata" : {},
"source" : ["    +"]
}
,
{
"cell_type" : "markdown",
"metadata" : {},
"source" : ["                              +-----------+"]
}
,
{
"cell_type" : "markdown",
"metadata" : {},
"source" : ["                  +-----+ +-+ | 2                2       +-----+ +-+"]
}
,
{
"cell_type" : "markdown",
"metadata" : {},
"source" : ["            (- 2I\|I - 1 \|I \|I  - 3I + 1  + (2I  - 2I)\|I - 1 \|I )"]
}
,
{
"cell_type" : "markdown",
"metadata" : {},
"source" : ["         *"]
}
,
{
"cell_type" : "markdown",
"metadata" : {},
"source" : ["             +----------+"]
}
,
{
"cell_type" : "markdown",
"metadata" : {},
"source" : ["             | 2"]
}
,
{
"cell_type" : "markdown",
"metadata" : {},
"source" : ["            \|I  + I + 1"]
}
,
{
"cell_type" : "markdown",
"metadata" : {},
"source" : ["        +"]
}
,
{
"cell_type" : "markdown",
"metadata" : {},
"source" : ["                                 +-----------+"]
}
,
{
"cell_type" : "markdown",
"metadata" : {},
"source" : ["             2       +-----+ +-+ | 2                  3       +-----+ +-+"]
}
,
{
"cell_type" : "markdown",
"metadata" : {},
"source" : ["          (2I  + 2I)\|I - 1 \|I \|I  - 3I + 1  + (- 2I  + 2I)\|I - 1 \|I"]
}
,
{
"cell_type" : "markdown",
"metadata" : {},
"source" : ["     *"]
}
,
{
"cell_type" : "markdown",
"metadata" : {},
"source" : ["                       +-+"]
}
,
{
"cell_type" : "markdown",
"metadata" : {},
"source" : ["                      \|I"]
}
,
{
"cell_type" : "markdown",
"metadata" : {},
"source" : ["        atan(---------------------)"]
}
,
{
"cell_type" : "markdown",
"metadata" : {},
"source" : ["              +----------+"]
}
,
{
"cell_type" : "markdown",
"metadata" : {},
"source" : ["              | 2"]
}
,
{
"cell_type" : "markdown",
"metadata" : {},
"source" : ["             \|I  + I + 1  - I - 1"]
}
,
{
"cell_type" : "markdown",
"metadata" : {},
"source" : ["    +"]
}
,
{
"cell_type" : "markdown",
"metadata" : {},
"source" : ["                   +-----------+                     +----------+"]
}
,
{
"cell_type" : "markdown",
"metadata" : {},
"source" : ["           +-----+ | 2                      +-----+  | 2"]
}
,
{
"cell_type" : "markdown",
"metadata" : {},
"source" : ["      (- 2\|I - 1 \|I  - 3I + 1  + (3I - 2)\|I - 1 )\|I  + I + 1"]
}
,
{
"cell_type" : "markdown",
"metadata" : {},
"source" : ["    +"]
}
,
{
"cell_type" : "markdown",
"metadata" : {},
"source" : ["                      +-----------+"]
}
,
{
"cell_type" : "markdown",
"metadata" : {},
"source" : ["              +-----+ | 2                  2           +-----+"]
}
,
{
"cell_type" : "markdown",
"metadata" : {},
"source" : ["      (I + 2)\|I - 1 \|I  - 3I + 1  + (- 2I  - 2I + 2)\|I - 1"]
}
,
{
"cell_type" : "markdown",
"metadata" : {},
"source" : [" /"]
}
,
{
"cell_type" : "markdown",
"metadata" : {},
"source" : ["                +-----------+                      +----------+"]
}
,
{
"cell_type" : "markdown",
"metadata" : {},
"source" : ["        +-----+ | 2                       +-----+  | 2"]
}
,
{
"cell_type" : "markdown",
"metadata" : {},
"source" : ["      (\|I - 1 \|I  - 3I + 1  + (- I + 1)\|I - 1 )\|I  + I + 1"]
}
,
{
"cell_type" : "markdown",
"metadata" : {},
"source" : ["    +"]
}
,
{
"cell_type" : "markdown",
"metadata" : {},
"source" : ["                        +-----------+"]
}
,
{
"cell_type" : "markdown",
"metadata" : {},
"source" : ["                +-----+ | 2               2      +-----+"]
}
,
{
"cell_type" : "markdown",
"metadata" : {},
"source" : ["      (- I - 1)\|I - 1 \|I  - 3I + 1  + (I  - 1)\|I - 1"]
}
,
{
"cell_type" : "markdown",
"metadata" : {},
"source" : ["  ]"]
}
,
{
"cell_type" : "markdown",
"metadata" : {},
"source" : ["            Type: Union(f2: List OrderedCompletion Expression Integer,...)"]
}
,
{
"cell_type" : "code",
"execution_count": null,
"metadata" : {
    "collapsed" : false
},
"source" : ["in2109a:=integrate((1+I*z)^(1/2)+cot(z-1), z= 0..1,\"noPole\")"],
"outputs": []
}
,
{
"cell_type" : "markdown",
"metadata" : {},
"source" : [""]
}
,
{
"cell_type" : "markdown",
"metadata" : {},
"source" : ["  - infinity"]
}
,
{
"cell_type" : "markdown",
"metadata" : {},
"source" : ["                    Type: Union(f1: OrderedCompletion Expression Integer,...)"]
}
,
{
"cell_type" : "code",
"execution_count": null,
"metadata" : {
    "collapsed" : false
},
"source" : ["in2112a:=integrate(-cot(z-1)+log(1-1/z^4), z= -1..1,\"noPole\")"],
"outputs": []
}
,
{
"cell_type" : "markdown",
"metadata" : {},
"source" : [""]
}
,
{
"cell_type" : "markdown",
"metadata" : {},
"source" : ["   + infinity"]
}
,
{
"cell_type" : "markdown",
"metadata" : {},
"source" : ["                    Type: Union(f1: OrderedCompletion Expression Integer,...)"]
}
,
{
"cell_type" : "code",
"execution_count": null,
"metadata" : {
    "collapsed" : false
},
"source" : ["in2115a:=integrate(-z/(z-1)+log(1-z^(1/3)), z= -1..1,\"noPole\")"],
"outputs": []
}
,
{
"cell_type" : "markdown",
"metadata" : {},
"source" : [""]
}
,
{
"cell_type" : "markdown",
"metadata" : {},
"source" : ["   + infinity"]
}
,
{
"cell_type" : "markdown",
"metadata" : {},
"source" : ["                    Type: Union(f1: OrderedCompletion Expression Integer,...)"]
}
,
{
"cell_type" : "code",
"execution_count": null,
"metadata" : {
    "collapsed" : false
},
"source" : ["in2120a:=integrate(-z+1/(z^2+I*z-3)^(1/2), z= -1..1,\"noPole\")"],
"outputs": []
}
,
{
"cell_type" : "markdown",
"metadata" : {},
"source" : [""]
}
,
{
"cell_type" : "markdown",
"metadata" : {},
"source" : ["                      +-------+    2"]
}
,
{
"cell_type" : "markdown",
"metadata" : {},
"source" : ["       log((- 4I + 8)\|- I - 2  + I  - 8I - 4)"]
}
,
{
"cell_type" : "markdown",
"metadata" : {},
"source" : ["     +"]
}
,
{
"cell_type" : "markdown",
"metadata" : {},
"source" : ["                        +-----+    2"]
}
,
{
"cell_type" : "markdown",
"metadata" : {},
"source" : ["       - log((- 4I - 8)\|I - 2  + I  + 8I - 4)"]
}
,
{
"cell_type" : "markdown",
"metadata" : {},
"source" : ["  /"]
}
,
{
"cell_type" : "markdown",
"metadata" : {},
"source" : ["     2"]
}
,
{
"cell_type" : "markdown",
"metadata" : {},
"source" : ["                    Type: Union(f1: OrderedCompletion Expression Integer,...)"]
}
,
{
"cell_type" : "code",
"execution_count": null,
"metadata" : {
    "collapsed" : false
},
"source" : ["in2124a:=integrate(-1/z-1/(I/(z+I))^(1/2), z= -1..0,\"noPole\")"],
"outputs": []
}
,
{
"cell_type" : "markdown",
"metadata" : {},
"source" : [""]
}
,
{
"cell_type" : "markdown",
"metadata" : {},
"source" : ["   + infinity"]
}
,
{
"cell_type" : "markdown",
"metadata" : {},
"source" : ["                    Type: Union(f1: OrderedCompletion Expression Integer,...)"]
}
,
{
"cell_type" : "code",
"execution_count": null,
"metadata" : {
    "collapsed" : false
},
"source" : ["in25:=integrate(cos(z), z= I..a)"],
"outputs": []
}
,
{
"cell_type" : "markdown",
"metadata" : {},
"source" : [""]
}
,
{
"cell_type" : "markdown",
"metadata" : {},
"source" : ["  sin(a) - sin(I)"]
}
,
{
"cell_type" : "markdown",
"metadata" : {},
"source" : ["                    Type: Union(f1: OrderedCompletion Expression Integer,...)"]
}
,
{
"cell_type" : "code",
"execution_count": null,
"metadata" : {
    "collapsed" : false
},
"source" : ["in25a:=integrate(cos(z), z= %i..a)"],
"outputs": []
}
,
{
"cell_type" : "markdown",
"metadata" : {},
"source" : [""]
}
,
{
"cell_type" : "markdown",
"metadata" : {},
"source" : ["  sin(a) - sin(%i)"]
}
,
{
"cell_type" : "markdown",
"metadata" : {},
"source" : ["            Type: Union(f1: OrderedCompletion Expression Complex Integer,...)"]
}
,
{
"cell_type" : "code",
"execution_count": null,
"metadata" : {
    "collapsed" : false
},
"source" : ["in25b:=integrate(exp(I*z), z= I..I*infinity)"],
"outputs": []
}
,
{
"cell_type" : "markdown",
"metadata" : {},
"source" : [""]
}
,
{
"cell_type" : "markdown",
"metadata" : {},
"source" : ["            2              2"]
}
,
{
"cell_type" : "markdown",
"metadata" : {},
"source" : ["           I infinity     I"]
}
,
{
"cell_type" : "markdown",
"metadata" : {},
"source" : ["         %e           - %e"]
}
,
{
"cell_type" : "markdown",
"metadata" : {},
"source" : ["         -------------------"]
}
,
{
"cell_type" : "markdown",
"metadata" : {},
"source" : ["                  I"]
}
,
{
"cell_type" : "markdown",
"metadata" : {},
"source" : ["                    Type: Union(f1: OrderedCompletion Expression Integer,...)"]
}
,
{
"cell_type" : "code",
"execution_count": null,
"metadata" : {
    "collapsed" : false
},
"source" : ["in25c:=integrate(exp(%i*z), z= %i..I*infinity)"],
"outputs": []
}
,
{
"cell_type" : "markdown",
"metadata" : {},
"source" : [""]
}
,
{
"cell_type" : "markdown",
"metadata" : {},
"source" : ["                   %i I infinity"]
}
,
{
"cell_type" : "markdown",
"metadata" : {},
"source" : ["         - %i %e %e              + %i"]
}
,
{
"cell_type" : "markdown",
"metadata" : {},
"source" : ["         ----------------------------"]
}
,
{
"cell_type" : "markdown",
"metadata" : {},
"source" : ["                      %e"]
}
,
{
"cell_type" : "markdown",
"metadata" : {},
"source" : ["            Type: Union(f1: OrderedCompletion Expression Complex Integer,...)"]
}
,
{
"cell_type" : "code",
"execution_count": null,
"metadata" : {
    "collapsed" : false
},
"source" : ["in28a:=integrate(1/z, z=1..z,\"noPole\")"],
"outputs": []
}
,
{
"cell_type" : "markdown",
"metadata" : {},
"source" : [""]
}
,
{
"cell_type" : "markdown",
"metadata" : {},
"source" : ["              2"]
}
,
{
"cell_type" : "markdown",
"metadata" : {},
"source" : ["         log(z )"]
}
,
{
"cell_type" : "markdown",
"metadata" : {},
"source" : ["         -------"]
}
,
{
"cell_type" : "markdown",
"metadata" : {},
"source" : ["            2"]
}
,
{
"cell_type" : "markdown",
"metadata" : {},
"source" : ["                    Type: Union(f1: OrderedCompletion Expression Integer,...)"]
}
,
{
"cell_type" : "code",
"execution_count": null,
"metadata" : {
    "collapsed" : false
},
"source" : ["in30:=integrate(sin(3*asin(1/(1+z^2))), z= 0..%plusInfinity)"],
"outputs": []
}
,
{
"cell_type" : "markdown",
"metadata" : {},
"source" : [""]
}
,
{
"cell_type" : "markdown",
"metadata" : {},
"source" : ["         3%pi"]
}
,
{
"cell_type" : "markdown",
"metadata" : {},
"source" : ["         ----"]
}
,
{
"cell_type" : "markdown",
"metadata" : {},
"source" : ["           4"]
}
,
{
"cell_type" : "markdown",
"metadata" : {},
"source" : ["                    Type: Union(f1: OrderedCompletion Expression Integer,...)"]
}
,
{
"cell_type" : "code",
"execution_count": null,
"metadata" : {
    "collapsed" : false
},
"source" : ["in32:=integrate(exp(-z), z= 0..%plusInfinity)"],
"outputs": []
}
,
{
"cell_type" : "markdown",
"metadata" : {},
"source" : [""]
}
,
{
"cell_type" : "markdown",
"metadata" : {},
"source" : ["  1"]
}
,
{
"cell_type" : "markdown",
"metadata" : {},
"source" : ["                    Type: Union(f1: OrderedCompletion Expression Integer,...)"]
}
,
{
"cell_type" : "code",
"execution_count": null,
"metadata" : {
    "collapsed" : false
},
"source" : ["in34a:=integrate(1/(sin(z)-1/2), z= 0..1,\"noPole\")"],
"outputs": []
}
,
{
"cell_type" : "markdown",
"metadata" : {},
"source" : [""]
}
,
{
"cell_type" : "markdown",
"metadata" : {},
"source" : ["     log"]
}
,
{
"cell_type" : "markdown",
"metadata" : {},
"source" : ["                            2                                   2"]
}
,
{
"cell_type" : "markdown",
"metadata" : {},
"source" : ["                  - 12sin(1)  + (42cos(1) + 48)sin(1) - 36cos(1)  - 84cos(1)"]
}
,
{
"cell_type" : "markdown",
"metadata" : {},
"source" : ["                +"]
}
,
{
"cell_type" : "markdown",
"metadata" : {},
"source" : ["                  - 48"]
}
,
{
"cell_type" : "markdown",
"metadata" : {},
"source" : ["           *"]
}
,
{
"cell_type" : "markdown",
"metadata" : {},
"source" : ["               +-+"]
}
,
{
"cell_type" : "markdown",
"metadata" : {},
"source" : ["              \|3"]
}
,
{
"cell_type" : "markdown",
"metadata" : {},
"source" : ["          +"]
}
,
{
"cell_type" : "markdown",
"metadata" : {},
"source" : ["                    2                                     2"]
}
,
{
"cell_type" : "markdown",
"metadata" : {},
"source" : ["            21sin(1)  + (- 72cos(1) - 84)sin(1) + 63cos(1)  + 144cos(1) + 84"]
}
,
{
"cell_type" : "markdown",
"metadata" : {},
"source" : ["       /"]
}
,
{
"cell_type" : "markdown",
"metadata" : {},
"source" : ["                 2"]
}
,
{
"cell_type" : "markdown",
"metadata" : {},
"source" : ["          4sin(1)  - 4sin(1) + 1"]
}
,
{
"cell_type" : "markdown",
"metadata" : {},
"source" : ["   +"]
}
,
{
"cell_type" : "markdown",
"metadata" : {},
"source" : ["                 +-+"]
}
,
{
"cell_type" : "markdown",
"metadata" : {},
"source" : ["     - log(- 168\|3  + 291)"]
}
,
{
"cell_type" : "markdown",
"metadata" : {},
"source" : [" /"]
}
,
{
"cell_type" : "markdown",
"metadata" : {},
"source" : ["    +-+"]
}
,
{
"cell_type" : "markdown",
"metadata" : {},
"source" : ["   \|3"]
}
,
{
"cell_type" : "markdown",
"metadata" : {},
"source" : ["                  Type: Union(f1: OrderedCompletion Expression Integer,...)"]
}
,
{
"cell_type" : "code",
"execution_count": null,
"metadata" : {
    "collapsed" : false
},
"source" : ["in37:=integrate(atan(tan(1/z)), z= 0..1)"],
"outputs": []
}
,
{
"cell_type" : "markdown",
"metadata" : {},
"source" : [""]
}
,
{
"cell_type" : "markdown",
"metadata" : {},
"source" : ["   + infinity"]
}
,
{
"cell_type" : "markdown",
"metadata" : {},
"source" : ["                    Type: Union(f1: OrderedCompletion Expression Integer,...)"]
}
,
{
"cell_type" : "code",
"execution_count": null,
"metadata" : {
    "collapsed" : false
},
"source" : ["in40:=integrate(atan(tan(z)), z= 0..%plusInfinity)"],
"outputs": []
}
,
{
"cell_type" : "markdown",
"metadata" : {},
"source" : [""]
}
,
{
"cell_type" : "markdown",
"metadata" : {},
"source" : ["   + infinity"]
}
,
{
"cell_type" : "markdown",
"metadata" : {},
"source" : ["                    Type: Union(f1: OrderedCompletion Expression Integer,...)"]
}
,
{
"cell_type" : "code",
"execution_count": null,
"metadata" : {
    "collapsed" : false
},
"source" : ["in2157a:=integrate(acoth(z)-1/(1+z^(1/2)), z= 0..1,\"noPole\")"],
"outputs": []
}
,
{
"cell_type" : "markdown",
"metadata" : {},
"source" : [""]
}
,
{
"cell_type" : "markdown",
"metadata" : {},
"source" : ["         log(4) + 10log(2) - 8"]
}
,
{
"cell_type" : "markdown",
"metadata" : {},
"source" : ["         ---------------------"]
}
,
{
"cell_type" : "markdown",
"metadata" : {},
"source" : ["                   4"]
}
,
{
"cell_type" : "markdown",
"metadata" : {},
"source" : ["                    Type: Union(f1: OrderedCompletion Expression Integer,...)"]
}
,
{
"cell_type" : "code",
"execution_count": null,
"metadata" : {
    "collapsed" : false
},
"source" : ["in2158a:=integrate(2*acoth(1-(1-z)^(1/2)), z= 0..1,\"noPole\")"],
"outputs": []
}
,
{
"cell_type" : "markdown",
"metadata" : {},
"source" : [""]
}
,
{
"cell_type" : "markdown",
"metadata" : {},
"source" : ["    2log(4) - 2"]
}
,
{
"cell_type" : "markdown",
"metadata" : {},
"source" : ["                    Type: Union(f1: OrderedCompletion Expression Integer,...)"]
}
,
{
"cell_type" : "code",
"execution_count": null,
"metadata" : {
    "collapsed" : false
},
"source" : ["in2168a:=integrate(-csch(z-1)-(1+I*z)^(1/2), z= 0..1,\"noPole\")"],
"outputs": []
}
,
{
"cell_type" : "markdown",
"metadata" : {},
"source" : [""]
}
,
{
"cell_type" : "markdown",
"metadata" : {},
"source" : ["   + infinity"]
}
,
{
"cell_type" : "markdown",
"metadata" : {},
"source" : ["                    Type: Union(f1: OrderedCompletion Expression Integer,...)"]
}
,
{
"cell_type" : "code",
"execution_count": null,
"metadata" : {
    "collapsed" : false
},
"source" : ["in2179a:=integrate((z^3-I*(1-z^4)^(1/2))^4, z= -1..1,\"noPole\")"],
"outputs": []
}
,
{
"cell_type" : "markdown",
"metadata" : {},
"source" : [""]
}
,
{
"cell_type" : "markdown",
"metadata" : {},
"source" : ["                4         2"]
}
,
{
"cell_type" : "markdown",
"metadata" : {},
"source" : ["          64064I  + 28080I  + 6930"]
}
,
{
"cell_type" : "markdown",
"metadata" : {},
"source" : ["   (104)  ------------------------"]
}
,
{
"cell_type" : "markdown",
"metadata" : {},
"source" : ["                    45045"]
}
,
{
"cell_type" : "markdown",
"metadata" : {},
"source" : ["                    Type: Union(f1: OrderedCompletion Expression Integer,...)"]
}
,
{
"cell_type" : "markdown",
"metadata" : {},
"source" : [""]
}
,
{
"cell_type" : "code",
"execution_count": null,
"metadata" : {
    "collapsed" : false
},
"source" : ["in2185a:=integrate(csch(z)+(z^2-I*z+1)^(1/2), z= 0..1,\"noPole\")"],
"outputs": []
}
,
{
"cell_type" : "markdown",
"metadata" : {},
"source" : [""]
}
,
{
"cell_type" : "markdown",
"metadata" : {},
"source" : ["   + infinity"]
}
,
{
"cell_type" : "markdown",
"metadata" : {},
"source" : ["                    Type: Union(f1: OrderedCompletion Expression Integer,...)"]
}
,
{
"cell_type" : "code",
"execution_count": null,
"metadata" : {
    "collapsed" : false
},
"source" : ["in2195a:=integrate(1-acoth(1-(1-z)^(1/2)), z= -1..1,\"noPole\")"],
"outputs": []
}
,
{
"cell_type" : "markdown",
"metadata" : {},
"source" : [""]
}
,
{
"cell_type" : "markdown",
"metadata" : {},
"source" : ["         +-+            +-+                 +-+          +-+"]
}
,
{
"cell_type" : "markdown",
"metadata" : {},
"source" : ["   2log(\|2 ) - log(- 2\|2  + 3) + 3log(- 4\|2  + 6) + 4\|2  - 4log(4) + 8"]
}
,
{
"cell_type" : "markdown",
"metadata" : {},
"source" : ["   -----------------------------------------------------------------------"]
}
,
{
"cell_type" : "markdown",
"metadata" : {},
"source" : ["                                      4"]
}
,
{
"cell_type" : "markdown",
"metadata" : {},
"source" : ["                    Type: Union(f1: OrderedCompletion Expression Integer,...)"]
}
,
{
"cell_type" : "code",
"execution_count": null,
"metadata" : {
    "collapsed" : false
},
"source" : ["in2201a:=integrate(acoth(z)+%pi-asec(z-1), z= 0..1,\"noPole\")"],
"outputs": []
}
,
{
"cell_type" : "markdown",
"metadata" : {},
"source" : [""]
}
,
{
"cell_type" : "markdown",
"metadata" : {},
"source" : ["              +-+"]
}
,
{
"cell_type" : "markdown",
"metadata" : {},
"source" : ["        - %pi\|2  + log(4) + 2%pi"]
}
,
{
"cell_type" : "markdown",
"metadata" : {},
"source" : ["        -------------------------"]
}
,
{
"cell_type" : "markdown",
"metadata" : {},
"source" : ["                    2"]
}
,
{
"cell_type" : "markdown",
"metadata" : {},
"source" : ["                    Type: Union(f1: OrderedCompletion Expression Integer,...)"]
}
,
{
"cell_type" : "code",
"execution_count": null,
"metadata" : {
    "collapsed" : false
},
"source" : ["in221:=integrate(log(z+sqrt(z^2-1)), z)"],
"outputs": []
}
,
{
"cell_type" : "markdown",
"metadata" : {},
"source" : [""]
}
,
{
"cell_type" : "markdown",
"metadata" : {},
"source" : ["           +------+           +------+          +------+"]
}
,
{
"cell_type" : "markdown",
"metadata" : {},
"source" : ["           | 2         2      | 2               | 2         2"]
}
,
{
"cell_type" : "markdown",
"metadata" : {},
"source" : ["        (z\|z  - 1  - z )log(\|z  - 1  + z) + z\|z  - 1  - z  + 1"]
}
,
{
"cell_type" : "markdown",
"metadata" : {},
"source" : ["        ---------------------------------------------------------"]
}
,
{
"cell_type" : "markdown",
"metadata" : {},
"source" : ["                               +------+"]
}
,
{
"cell_type" : "markdown",
"metadata" : {},
"source" : ["                               | 2"]
}
,
{
"cell_type" : "markdown",
"metadata" : {},
"source" : ["                              \|z  - 1  - z"]
}
,
{
"cell_type" : "markdown",
"metadata" : {},
"source" : ["                                          Type: Union(Expression Integer,...)"]
}
,
{
"cell_type" : "code",
"execution_count": null,
"metadata" : {
    "collapsed" : false
},
"source" : ["in227a:=integrate(atan(sin(z))+atan(1/(sin(z))), z= 0..1,\"noPole\")"],
"outputs": []
}
,
{
"cell_type" : "markdown",
"metadata" : {},
"source" : [""]
}
,
{
"cell_type" : "markdown",
"metadata" : {},
"source" : ["           %pi"]
}
,
{
"cell_type" : "markdown",
"metadata" : {},
"source" : ["         - ---"]
}
,
{
"cell_type" : "markdown",
"metadata" : {},
"source" : ["            2"]
}
,
{
"cell_type" : "markdown",
"metadata" : {},
"source" : ["                    Type: Union(f1: OrderedCompletion Expression Integer,...)"]
}
,
{
"cell_type" : "code",
"execution_count": null,
"metadata" : {
    "collapsed" : false
},
"source" : ["in237a:=integrate(sin(z)*(1-cos(z)/sqrt(1-sin(z)^2))^2, z= 0..1,\"noPole\")"],
"outputs": []
}
,
{
"cell_type" : "markdown",
"metadata" : {},
"source" : [""]
}
,
{
"cell_type" : "markdown",
"metadata" : {},
"source" : ["         - 4cos(1) + 4"]
}
,
{
"cell_type" : "markdown",
"metadata" : {},
"source" : ["                    Type: Union(f1: OrderedCompletion Expression Integer,...)"]
}
,
{
"cell_type" : "code",
"execution_count": null,
"metadata" : {
    "collapsed" : false
},
"source" : ["in2221:=integrate((z-I)*(-1+1/(z-I)), z= 0..%plusInfinity)"],
"outputs": []
}
,
{
"cell_type" : "markdown",
"metadata" : {},
"source" : [""]
}
,
{
"cell_type" : "markdown",
"metadata" : {},
"source" : ["  - infinity"]
}
,
{
"cell_type" : "markdown",
"metadata" : {},
"source" : ["                    Type: Union(f1: OrderedCompletion Expression Integer,...)"]
}
,
{
"cell_type" : "code",
"execution_count": null,
"metadata" : {
    "collapsed" : false
},
"source" : ["in2243a:=integrate(-1/sinh(z-1)+1/(I*z)^(1/2), z= 0..1,\"noPole\")"],
"outputs": []
}
,
{
"cell_type" : "markdown",
"metadata" : {},
"source" : [""]
}
,
{
"cell_type" : "markdown",
"metadata" : {},
"source" : ["   + infinity"]
}
,
{
"cell_type" : "markdown",
"metadata" : {},
"source" : ["                    Type: Union(f1: OrderedCompletion Expression Integer,...)"]
}
,
{
"cell_type" : "code",
"execution_count": null,
"metadata" : {
    "collapsed" : false
},
"source" : ["in2247a:=integrate(1/(z^2-I*z+2)^(1/2)+csc(z), z= 0..1,\"noPole\")"],
"outputs": []
}
,
{
"cell_type" : "markdown",
"metadata" : {},
"source" : [""]
}
,
{
"cell_type" : "markdown",
"metadata" : {},
"source" : ["   + infinity"]
}
,
{
"cell_type" : "markdown",
"metadata" : {},
"source" : ["                    Type: Union(f1: OrderedCompletion Expression Integer,...)"]
}
,
{
"cell_type" : "code",
"execution_count": null,
"metadata" : {
    "collapsed" : false
},
"source" : ["in2254a:=integrate(cosh(z^(1/2))-acoth(1-z), z= 0..1,\"noPole\")"],
"outputs": []
}
,
{
"cell_type" : "markdown",
"metadata" : {},
"source" : [""]
}
,
{
"cell_type" : "markdown",
"metadata" : {},
"source" : ["         - %e log(4) + 4%e - 4"]
}
,
{
"cell_type" : "markdown",
"metadata" : {},
"source" : ["         ---------------------"]
}
,
{
"cell_type" : "markdown",
"metadata" : {},
"source" : ["                  2%e"]
}
,
{
"cell_type" : "markdown",
"metadata" : {},
"source" : ["                    Type: Union(f1: OrderedCompletion Expression Integer,...)"]
}
,
{
"cell_type" : "code",
"execution_count": null,
"metadata" : {
    "collapsed" : false
},
"source" : ["in2270a:=integrate(log(z)*log(1/z)*(I*z)^(1/3), z= -1..1,\"noPole\")"],
"outputs": []
}
,
{
"cell_type" : "markdown",
"metadata" : {},
"source" : [""]
}
,
{
"cell_type" : "markdown",
"metadata" : {},
"source" : ["              3+-+     3+---+"]
}
,
{
"cell_type" : "markdown",
"metadata" : {},
"source" : ["          - 27\|I  - 27\|- I"]
}
,
{
"cell_type" : "markdown",
"metadata" : {},
"source" : ["          -------------------"]
}
,
{
"cell_type" : "markdown",
"metadata" : {},
"source" : ["                   32"]
}
,
{
"cell_type" : "markdown",
"metadata" : {},
"source" : ["                    Type: Union(f1: OrderedCompletion Expression Integer,...)"]
}
,
{
"cell_type" : "code",
"execution_count": null,
"metadata" : {
    "collapsed" : false
},
"source" : ["in2274a:=integrate(acoth(1-z)-acosh(1/z), z= -1..1,\"noPole\")"],
"outputs": []
}
,
{
"cell_type" : "markdown",
"metadata" : {},
"source" : [""]
}
,
{
"cell_type" : "markdown",
"metadata" : {},
"source" : ["          3log(9) - 4%pi"]
}
,
{
"cell_type" : "markdown",
"metadata" : {},
"source" : ["          --------------"]
}
,
{
"cell_type" : "markdown",
"metadata" : {},
"source" : ["                 4"]
}
,
{
"cell_type" : "markdown",
"metadata" : {},
"source" : ["                    Type: Union(f1: OrderedCompletion Expression Integer,...)"]
}
,
{
"cell_type" : "code",
"execution_count": null,
"metadata" : {
    "collapsed" : false
},
"source" : ["in2275a:=integrate((z^2+I*z-3)^(1/2)*(3+z^2), z= -1..1,\"noPole\")"],
"outputs": []
}
,
{
"cell_type" : "markdown",
"metadata" : {},
"source" : [""]
}
,
{
"cell_type" : "markdown",
"metadata" : {},
"source" : ["                         10         8           6           4            2"]
}
,
{
"cell_type" : "markdown",
"metadata" : {},
"source" : ["                   - 960I   + 49920I  + 1320960I  + 3563520I  - 40550400I"]
}
,
{
"cell_type" : "markdown",
"metadata" : {},
"source" : ["                 +"]
}
,
{
"cell_type" : "markdown",
"metadata" : {},
"source" : ["                   8847360"]
}
,
{
"cell_type" : "markdown",
"metadata" : {},
"source" : ["              *"]
}
,
{
"cell_type" : "markdown",
"metadata" : {},
"source" : ["                  +-------+"]
}
,
{
"cell_type" : "markdown",
"metadata" : {},
"source" : ["                 \|- I - 2"]
}
,
{
"cell_type" : "markdown",
"metadata" : {},
"source" : ["             +"]
}
,
{
"cell_type" : "markdown",
"metadata" : {},
"source" : ["                   11        10         9         8          7           6"]
}
,
{
"cell_type" : "markdown",
"metadata" : {},
"source" : ["               120I   - 2640I   - 23520I  + 10560I  - 318720I  + 1359360I"]
}
,
{
"cell_type" : "markdown",
"metadata" : {},
"source" : ["             +"]
}
,
{
"cell_type" : "markdown",
"metadata" : {},
"source" : ["                       5           4            3           2"]
}
,
{
"cell_type" : "markdown",
"metadata" : {},
"source" : ["               3056640I  + 9922560I  + 36034560I  - 2396160I  - 40919040I"]
}
,
{
"cell_type" : "markdown",
"metadata" : {},
"source" : ["             +"]
}
,
{
"cell_type" : "markdown",
"metadata" : {},
"source" : ["               15482880"]
}
,
{
"cell_type" : "markdown",
"metadata" : {},
"source" : ["          *"]
}
,
{
"cell_type" : "markdown",
"metadata" : {},
"source" : ["              +-----+"]
}
,
{
"cell_type" : "markdown",
"metadata" : {},
"source" : ["             \|I - 2"]
}
,
{
"cell_type" : "markdown",
"metadata" : {},
"source" : ["         +"]
}
,
{
"cell_type" : "markdown",
"metadata" : {},
"source" : ["                   11        10         9         8          7           6"]
}
,
{
"cell_type" : "markdown",
"metadata" : {},
"source" : ["               120I   + 2640I   - 23520I  - 10560I  - 318720I  - 1359360I"]
}
,
{
"cell_type" : "markdown",
"metadata" : {},
"source" : ["             +"]
}
,
{
"cell_type" : "markdown",
"metadata" : {},
"source" : ["                       5           4            3           2"]
}
,
{
"cell_type" : "markdown",
"metadata" : {},
"source" : ["               3056640I  - 9922560I  + 36034560I  + 2396160I  - 40919040I"]
}
,
{
"cell_type" : "markdown",
"metadata" : {},
"source" : ["             +"]
}
,
{
"cell_type" : "markdown",
"metadata" : {},
"source" : ["               - 15482880"]
}
,
{
"cell_type" : "markdown",
"metadata" : {},
"source" : ["          *"]
}
,
{
"cell_type" : "markdown",
"metadata" : {},
"source" : ["              +-------+"]
}
,
{
"cell_type" : "markdown",
"metadata" : {},
"source" : ["             \|- I - 2"]
}
,
{
"cell_type" : "markdown",
"metadata" : {},
"source" : ["         +"]
}
,
{
"cell_type" : "markdown",
"metadata" : {},
"source" : ["                12         10         8           6            4            2"]
}
,
{
"cell_type" : "markdown",
"metadata" : {},
"source" : ["           - 15I   + 12360I   + 67440I  - 3283200I  - 21131520I  + 73451520I"]
}
,
{
"cell_type" : "markdown",
"metadata" : {},
"source" : ["         +"]
}
,
{
"cell_type" : "markdown",
"metadata" : {},
"source" : ["           - 27095040"]
}
,
{
"cell_type" : "markdown",
"metadata" : {},
"source" : ["      *"]
}
,
{
"cell_type" : "markdown",
"metadata" : {},
"source" : ["                        +-------+    2"]
}
,
{
"cell_type" : "markdown",
"metadata" : {},
"source" : ["         log((- 4I + 8)\|- I - 2  + I  - 8I - 4)"]
}
,
{
"cell_type" : "markdown",
"metadata" : {},
"source" : ["     +"]
}
,
{
"cell_type" : "markdown",
"metadata" : {},
"source" : ["                         10         8           6           4            2"]
}
,
{
"cell_type" : "markdown",
"metadata" : {},
"source" : ["                     960I   - 49920I  - 1320960I  - 3563520I  + 40550400I"]
}
,
{
"cell_type" : "markdown",
"metadata" : {},
"source" : ["                   +"]
}
,
{
"cell_type" : "markdown",
"metadata" : {},
"source" : ["                     - 8847360"]
}
,
{
"cell_type" : "markdown",
"metadata" : {},
"source" : ["              *"]
}
,
{
"cell_type" : "markdown",
"metadata" : {},
"source" : ["                  +-------+"]
}
,
{
"cell_type" : "markdown",
"metadata" : {},
"source" : ["                 \|- I - 2"]
}
,
{
"cell_type" : "markdown",
"metadata" : {},
"source" : ["             +"]
}
,
{
"cell_type" : "markdown",
"metadata" : {},
"source" : ["                     11        10         9         8          7           6"]
}
,
{
"cell_type" : "markdown",
"metadata" : {},
"source" : ["               - 120I   + 2640I   + 23520I  - 10560I  + 318720I  - 1359360I"]
}
,
{
"cell_type" : "markdown",
"metadata" : {},
"source" : ["             +"]
}
,
{
"cell_type" : "markdown",
"metadata" : {},
"source" : ["                         5           4            3           2"]
}
,
{
"cell_type" : "markdown",
"metadata" : {},
"source" : ["               - 3056640I  - 9922560I  - 36034560I  + 2396160I  + 40919040I"]
}
,
{
"cell_type" : "markdown",
"metadata" : {},
"source" : ["             +"]
}
,
{
"cell_type" : "markdown",
"metadata" : {},
"source" : ["               - 15482880"]
}
,
{
"cell_type" : "markdown",
"metadata" : {},
"source" : ["          *"]
}
,
{
"cell_type" : "markdown",
"metadata" : {},
"source" : ["              +-----+"]
}
,
{
"cell_type" : "markdown",
"metadata" : {},
"source" : ["             \|I - 2"]
}
,
{
"cell_type" : "markdown",
"metadata" : {},
"source" : ["         +"]
}
,
{
"cell_type" : "markdown",
"metadata" : {},
"source" : ["                     11        10         9         8          7           6"]
}
,
{
"cell_type" : "markdown",
"metadata" : {},
"source" : ["               - 120I   - 2640I   + 23520I  + 10560I  + 318720I  + 1359360I"]
}
,
{
"cell_type" : "markdown",
"metadata" : {},
"source" : ["             +"]
}
,
{
"cell_type" : "markdown",
"metadata" : {},
"source" : ["                         5           4            3           2"]
}
,
{
"cell_type" : "markdown",
"metadata" : {},
"source" : ["               - 3056640I  + 9922560I  - 36034560I  - 2396160I  + 40919040I"]
}
,
{
"cell_type" : "markdown",
"metadata" : {},
"source" : ["             +"]
}
,
{
"cell_type" : "markdown",
"metadata" : {},
"source" : ["               15482880"]
}
,
{
"cell_type" : "markdown",
"metadata" : {},
"source" : ["          *"]
}
,
{
"cell_type" : "markdown",
"metadata" : {},
"source" : ["              +-------+"]
}
,
{
"cell_type" : "markdown",
"metadata" : {},
"source" : ["             \|- I - 2"]
}
,
{
"cell_type" : "markdown",
"metadata" : {},
"source" : ["         +"]
}
,
{
"cell_type" : "markdown",
"metadata" : {},
"source" : ["              12         10         8           6            4            2"]
}
,
{
"cell_type" : "markdown",
"metadata" : {},
"source" : ["           15I   - 12360I   - 67440I  + 3283200I  + 21131520I  - 73451520I"]
}
,
{
"cell_type" : "markdown",
"metadata" : {},
"source" : ["         +"]
}
,
{
"cell_type" : "markdown",
"metadata" : {},
"source" : ["           27095040"]
}
,
{
"cell_type" : "markdown",
"metadata" : {},
"source" : ["      *"]
}
,
{
"cell_type" : "markdown",
"metadata" : {},
"source" : ["                        +-----+    2"]
}
,
{
"cell_type" : "markdown",
"metadata" : {},
"source" : ["         log((- 4I - 8)\|I - 2  + I  + 8I - 4)"]
}
,
{
"cell_type" : "markdown",
"metadata" : {},
"source" : ["     +"]
}
,
{
"cell_type" : "markdown",
"metadata" : {},
"source" : ["                   9            5            3              +-------+      11"]
}
,
{
"cell_type" : "markdown",
"metadata" : {},
"source" : ["          (- 20480I  + 17170432I  - 48234496I  + 57671680I)\|- I - 2  + 60I"]
}
,
{
"cell_type" : "markdown",
"metadata" : {},
"source" : ["         +"]
}
,
{
"cell_type" : "markdown",
"metadata" : {},
"source" : ["                10         9          8          7           6            5"]
}
,
{
"cell_type" : "markdown",
"metadata" : {},
"source" : ["           3800I   - 39408I  - 172896I  - 790144I  - 6873344I  + 13455872I"]
}
,
{
"cell_type" : "markdown",
"metadata" : {},
"source" : ["         +"]
}
,
{
"cell_type" : "markdown",
"metadata" : {},
"source" : ["                    4            3            2"]
}
,
{
"cell_type" : "markdown",
"metadata" : {},
"source" : ["           53588992I  - 16978944I  - 85084160I  + 9687040I + 21897216"]
}
,
{
"cell_type" : "markdown",
"metadata" : {},
"source" : ["      *"]
}
,
{
"cell_type" : "markdown",
"metadata" : {},
"source" : ["          +-----+"]
}
,
{
"cell_type" : "markdown",
"metadata" : {},
"source" : ["         \|I - 2"]
}
,
{
"cell_type" : "markdown",
"metadata" : {},
"source" : ["     +"]
}
,
{
"cell_type" : "markdown",
"metadata" : {},
"source" : ["                11        10         9          8          7           6"]
}
,
{
"cell_type" : "markdown",
"metadata" : {},
"source" : ["           - 60I   + 3800I   + 39408I  - 172896I  + 790144I  - 6873344I"]
}
,
{
"cell_type" : "markdown",
"metadata" : {},
"source" : ["         +"]
}
,
{
"cell_type" : "markdown",
"metadata" : {},
"source" : ["                      5            4            3            2"]
}
,
{
"cell_type" : "markdown",
"metadata" : {},
"source" : ["           - 13455872I  + 53588992I  + 16978944I  - 85084160I  - 9687040I"]
}
,
{
"cell_type" : "markdown",
"metadata" : {},
"source" : ["         +"]
}
,
{
"cell_type" : "markdown",
"metadata" : {},
"source" : ["           21897216"]
}
,
{
"cell_type" : "markdown",
"metadata" : {},
"source" : ["      *"]
}
,
{
"cell_type" : "markdown",
"metadata" : {},
"source" : ["          +-------+"]
}
,
{
"cell_type" : "markdown",
"metadata" : {},
"source" : ["         \|- I - 2"]
}
,
{
"cell_type" : "markdown",
"metadata" : {},
"source" : ["     +"]
}
,
{
"cell_type" : "markdown",
"metadata" : {},
"source" : ["             11          9           7            5             3"]
}
,
{
"cell_type" : "markdown",
"metadata" : {},
"source" : ["       - 960I   + 133888I  + 3352576I  - 44081152I  + 129318912I  - 59834368I"]
}
,
{
"cell_type" : "markdown",
"metadata" : {},
"source" : ["  /"]
}
,
{
"cell_type" : "markdown",
"metadata" : {},
"source" : ["                  6           4            2            +-------+        7"]
}
,
{
"cell_type" : "markdown",
"metadata" : {},
"source" : ["           (49152I  - 3735552I  + 14942208I  - 3145728)\|- I - 2  - 6144I"]
}
,
{
"cell_type" : "markdown",
"metadata" : {},
"source" : ["       +"]
}
,
{
"cell_type" : "markdown",
"metadata" : {},
"source" : ["               6           5           4            3           2"]
}
,
{
"cell_type" : "markdown",
"metadata" : {},
"source" : ["        135168I  + 1351680I  - 3784704I  - 15237120I  + 1769472I  + 14548992I"]
}
,
{
"cell_type" : "markdown",
"metadata" : {},
"source" : ["       +"]
}
,
{
"cell_type" : "markdown",
"metadata" : {},
"source" : ["           - 5505024"]
}
,
{
"cell_type" : "markdown",
"metadata" : {},
"source" : ["      *"]
}
,
{
"cell_type" : "markdown",
"metadata" : {},
"source" : ["          +-----+"]
}
,
{
"cell_type" : "markdown",
"metadata" : {},
"source" : ["         \|I - 2"]
}
,
{
"cell_type" : "markdown",
"metadata" : {},
"source" : ["     +"]
}
,
{
"cell_type" : "markdown",
"metadata" : {},
"source" : ["                7          6           5           4            3           2"]
}
,
{
"cell_type" : "markdown",
"metadata" : {},
"source" : ["         - 6144I  - 135168I  + 1351680I  + 3784704I  - 15237120I  - 1769472I"]
}
,
{
"cell_type" : "markdown",
"metadata" : {},
"source" : ["       +"]
}
,
{
"cell_type" : "markdown",
"metadata" : {},
"source" : ["           14548992I + 5505024"]
}
,
{
"cell_type" : "markdown",
"metadata" : {},
"source" : ["      *"]
}
,
{
"cell_type" : "markdown",
"metadata" : {},
"source" : ["          +-------+"]
}
,
{
"cell_type" : "markdown",
"metadata" : {},
"source" : ["         \|- I - 2"]
}
,
{
"cell_type" : "markdown",
"metadata" : {},
"source" : ["     +"]
}
,
{
"cell_type" : "markdown",
"metadata" : {},
"source" : ["           8          6            4            2"]
}
,
{
"cell_type" : "markdown",
"metadata" : {},
"source" : ["       768I  - 651264I  + 12066816I  - 27721728I  + 9633792"]
}
,
{
"cell_type" : "markdown",
"metadata" : {},
"source" : ["                    Type: Union(f1: OrderedCompletion Expression Integer,...)"]
}
,
{
"cell_type" : "code",
"execution_count": null,
"metadata" : {
    "collapsed" : false
},
"source" : ["in2276a:=integrate((1-tanh(log(1+z^(1/3))))^5, z= -1..1,\"noPole\")"],
"outputs": []
}
,
{
"cell_type" : "markdown",
"metadata" : {},
"source" : [""]
}
,
{
"cell_type" : "markdown",
"metadata" : {},
"source" : ["                3+---+2          3+---+                3+---+"]
}
,
{
"cell_type" : "markdown",
"metadata" : {},
"source" : ["       (- 918750\|- 1   + 1200000\|- 1  + 2100000)atan(\|- 1  + 1)"]
}
,
{
"cell_type" : "markdown",
"metadata" : {},
"source" : ["     +"]
}
,
{
"cell_type" : "markdown",
"metadata" : {},
"source" : ["                               3+---+2                              3+---+"]
}
,
{
"cell_type" : "markdown",
"metadata" : {},
"source" : ["       (918750atan(2) - 466984)\|- 1   + (- 1200000atan(2) - 364526)\|- 1"]
}
,
{
"cell_type" : "markdown",
"metadata" : {},
"source" : ["     +"]
}
,
{
"cell_type" : "markdown",
"metadata" : {},
"source" : ["       - 2100000atan(2) + 96142"]
}
,
{
"cell_type" : "markdown",
"metadata" : {},
"source" : ["  /"]
}
,
{
"cell_type" : "markdown",
"metadata" : {},
"source" : ["          3+---+2        3+---+"]
}
,
{
"cell_type" : "markdown",
"metadata" : {},
"source" : ["     30625\|- 1   - 40000\|- 1  - 70000"]
}
,
{
"cell_type" : "markdown",
"metadata" : {},
"source" : ["                    Type: Union(f1: OrderedCompletion Expression Integer,...)"]
}
,
{
"cell_type" : "code",
"execution_count": null,
"metadata" : {
    "collapsed" : false
},
"source" : ["in2278a:=integrate(acoth(1-z)+log(abs(z-1)/z), z= 0..1,\"noPole\")"],
"outputs": []
}
,
{
"cell_type" : "markdown",
"metadata" : {},
"source" : [""]
}
,
{
"cell_type" : "markdown",
"metadata" : {},
"source" : ["          log(4)"]
}
,
{
"cell_type" : "markdown",
"metadata" : {},
"source" : ["   (120)  ------"]
}
,
{
"cell_type" : "markdown",
"metadata" : {},
"source" : ["             2"]
}
,
{
"cell_type" : "markdown",
"metadata" : {},
"source" : ["                    Type: Union(f1: OrderedCompletion Expression Integer,...)"]
}
,
{
"cell_type" : "code",
"execution_count": null,
"metadata" : {
    "collapsed" : false
},
"source" : ["in2279a:=integrate(acoth(1/(z^2-z+1)^(1/2)), z= -1..1,\"noPole\")"],
"outputs": []
}
,
{
"cell_type" : "markdown",
"metadata" : {},
"source" : [""]
}
,
{
"cell_type" : "markdown",
"metadata" : {},
"source" : ["                                                                     +-+"]
}
,
{
"cell_type" : "markdown",
"metadata" : {},
"source" : ["               +-+               +-+               +-+            - \|3  - 2"]
}
,
{
"cell_type" : "markdown",
"metadata" : {},
"source" : ["       2log(12\|3  + 21) + log(6\|3  + 12) - log(2\|3  + 4) + log(----------)"]
}
,
{
"cell_type" : "markdown",
"metadata" : {},
"source" : ["                                                                    +-+"]
}
,
{
"cell_type" : "markdown",
"metadata" : {},
"source" : ["                                                                   \|3  - 2"]
}
,
{
"cell_type" : "markdown",
"metadata" : {},
"source" : ["     +"]
}
,
{
"cell_type" : "markdown",
"metadata" : {},
"source" : ["       log(16) - 2log(4)"]
}
,
{
"cell_type" : "markdown",
"metadata" : {},
"source" : ["  /"]
}
,
{
"cell_type" : "markdown",
"metadata" : {},
"source" : ["     4"]
}
,
{
"cell_type" : "markdown",
"metadata" : {},
"source" : ["                    Type: Union(f1: OrderedCompletion Expression Integer,...)"]
}
,
{
"cell_type" : "code",
"execution_count": null,
"metadata" : {
    "collapsed" : false
},
"source" : ["in2307a:=integrate(tan(z)-1/(z^2+I*z-3)^(1/2), z= -1..1,\"noPole\")"],
"outputs": []
}
,
{
"cell_type" : "markdown",
"metadata" : {},
"source" : [""]
}
,
{
"cell_type" : "markdown",
"metadata" : {},
"source" : ["                        +-------+    2"]
}
,
{
"cell_type" : "markdown",
"metadata" : {},
"source" : ["       - log((- 4I + 8)\|- I - 2  + I  - 8I - 4)"]
}
,
{
"cell_type" : "markdown",
"metadata" : {},
"source" : ["     +"]
}
,
{
"cell_type" : "markdown",
"metadata" : {},
"source" : ["                      +-----+    2"]
}
,
{
"cell_type" : "markdown",
"metadata" : {},
"source" : ["       log((- 4I - 8)\|I - 2  + I  + 8I - 4)"]
}
,
{
"cell_type" : "markdown",
"metadata" : {},
"source" : ["  /"]
}
,
{
"cell_type" : "markdown",
"metadata" : {},
"source" : ["     2"]
}
,
{
"cell_type" : "markdown",
"metadata" : {},
"source" : ["                    Type: Union(f1: OrderedCompletion Expression Integer,...)"]
}
,
{
"cell_type" : "code",
"execution_count": null,
"metadata" : {
    "collapsed" : false
},
"source" : ["in2311a:=integrate(-1/sinh(z-1)+1/(I*z)^(1/2), z= 0..%pi,\"noPole\")"],
"outputs": []
}
,
{
"cell_type" : "markdown",
"metadata" : {},
"source" : [""]
}
,
{
"cell_type" : "markdown",
"metadata" : {},
"source" : ["              %pi - 1 2      %pi - 1"]
}
,
{
"cell_type" : "markdown",
"metadata" : {},
"source" : ["     I log((%e       )  + 2%e        + 1)"]
}
,
{
"cell_type" : "markdown",
"metadata" : {},
"source" : ["   +"]
}
,
{
"cell_type" : "markdown",
"metadata" : {},
"source" : ["                                                                  2"]
}
,
{
"cell_type" : "markdown",
"metadata" : {},
"source" : ["               %pi - 1 2      %pi - 1          +-----+         %e  + 2%e + 1"]
}
,
{
"cell_type" : "markdown",
"metadata" : {},
"source" : ["    - I log((%e       )  - 2%e        + 1) + 4\|I %pi  - I log(-------------)"]
}
,
{
"cell_type" : "markdown",
"metadata" : {},
"source" : ["                                                                      2"]
}
,
{
"cell_type" : "markdown",
"metadata" : {},
"source" : ["                                                                     %e"]
}
,
{
"cell_type" : "markdown",
"metadata" : {},
"source" : ["   +"]
}
,
{
"cell_type" : "markdown",
"metadata" : {},
"source" : ["             2"]
}
,
{
"cell_type" : "markdown",
"metadata" : {},
"source" : ["           %e  - 2%e + 1"]
}
,
{
"cell_type" : "markdown",
"metadata" : {},
"source" : ["     I log(-------------)"]
}
,
{
"cell_type" : "markdown",
"metadata" : {},
"source" : ["                  2"]
}
,
{
"cell_type" : "markdown",
"metadata" : {},
"source" : ["                %e"]
}
,
{
"cell_type" : "markdown",
"metadata" : {},
"source" : [" /"]
}
,
{
"cell_type" : "markdown",
"metadata" : {},
"source" : ["   2I"]
}
,
{
"cell_type" : "markdown",
"metadata" : {},
"source" : ["                  Type: Union(f1: OrderedCompletion Expression Integer,...)"]
}
,
{
"cell_type" : "markdown",
"metadata" : {},
"source" : ["----------------------------------------------------"]
}
,
{
"cell_type" : "code",
"execution_count": null,
"metadata" : {
    "collapsed" : false
},
"source" : ["in2312:=integrate(sin(z)-1/(z^2+I*z-1)^(1/2), z= -1..1)"],
"outputs": []
}
,
{
"cell_type" : "markdown",
"metadata" : {},
"source" : [""]
}
,
{
"cell_type" : "markdown",
"metadata" : {},
"source" : ["   potentialPole"]
}
,
{
"cell_type" : "markdown",
"metadata" : {},
"source" : [""]
}
,
{
"cell_type" : "code",
"execution_count": null,
"metadata" : {
    "collapsed" : false
},
"source" : ["in2312a:=integrate(sin(z)-1/(z^2+I*z-1)^(1/2), z= -1..1,\"noPole\")"],
"outputs": []
}
,
{
"cell_type" : "markdown",
"metadata" : {},
"source" : [""]
}
,
{
"cell_type" : "markdown",
"metadata" : {},
"source" : ["                    +---+    2                            +-+    2"]
}
,
{
"cell_type" : "markdown",
"metadata" : {},
"source" : ["   - log((- 4I + 8)\|- I  + I  - 8I + 4) + log((- 4I - 8)\|I  + I  + 8I + 4)"]
}
,
{
"cell_type" : "markdown",
"metadata" : {},
"source" : ["   -------------------------------------------------------------------------"]
}
,
{
"cell_type" : "markdown",
"metadata" : {},
"source" : ["                                       2"]
}
,
{
"cell_type" : "markdown",
"metadata" : {},
"source" : ["                    Type: Union(f1: OrderedCompletion Expression Integer,...)"]
}
,
{
"cell_type" : "code",
"execution_count": null,
"metadata" : {
    "collapsed" : false
},
"source" : ["in2324a:=integrate(cosh(z^(1/2)-1)+acoth(1-z), z= 0..1,\"noPole\")"],
"outputs": []
}
,
{
"cell_type" : "markdown",
"metadata" : {},
"source" : [""]
}
,
{
"cell_type" : "markdown",
"metadata" : {},
"source" : ["                         2"]
}
,
{
"cell_type" : "markdown",
"metadata" : {},
"source" : ["          %e log(4) + 2%e  - 4%e + 2"]
}
,
{
"cell_type" : "markdown",
"metadata" : {},
"source" : ["          --------------------------"]
}
,
{
"cell_type" : "markdown",
"metadata" : {},
"source" : ["                      2%e"]
}
,
{
"cell_type" : "markdown",
"metadata" : {},
"source" : ["                    Type: Union(f1: OrderedCompletion Expression Integer,...)"]
}
,
{
"cell_type" : "code",
"execution_count": null,
"metadata" : {
    "collapsed" : false
},
"source" : ["in2330a:=integrate(exp(-z)+1/(z^2+I*z-1)^(1/2), z= -1..1,\"noPole\")"],
"outputs": []
}
,
{
"cell_type" : "markdown",
"metadata" : {},
"source" : [""]
}
,
{
"cell_type" : "markdown",
"metadata" : {},
"source" : ["                         +---+    2"]
}
,
{
"cell_type" : "markdown",
"metadata" : {},
"source" : ["       %e log((- 4I + 8)\|- I  + I  - 8I + 4)"]
}
,
{
"cell_type" : "markdown",
"metadata" : {},
"source" : ["     +"]
}
,
{
"cell_type" : "markdown",
"metadata" : {},
"source" : ["                           +-+    2                2"]
}
,
{
"cell_type" : "markdown",
"metadata" : {},
"source" : ["       - %e log((- 4I - 8)\|I  + I  + 8I + 4) + 2%e  - 2"]
}
,
{
"cell_type" : "markdown",
"metadata" : {},
"source" : ["  /"]
}
,
{
"cell_type" : "markdown",
"metadata" : {},
"source" : ["     2%e"]
}
,
{
"cell_type" : "markdown",
"metadata" : {},
"source" : ["                    Type: Union(f1: OrderedCompletion Expression Integer,...)"]
}
,
{
"cell_type" : "code",
"execution_count": null,
"metadata" : {
    "collapsed" : false
},
"source" : ["in2332a:=integrate(acoth(z^(1/2))*(1-z^(1/2)), z= 0..1,\"noPole\")"],
"outputs": []
}
,
{
"cell_type" : "markdown",
"metadata" : {},
"source" : [""]
}
,
{
"cell_type" : "markdown",
"metadata" : {},
"source" : ["          log(16) - log(4) - 10log(2) + 8"]
}
,
{
"cell_type" : "markdown",
"metadata" : {},
"source" : ["          -------------------------------"]
}
,
{
"cell_type" : "markdown",
"metadata" : {},
"source" : ["                         12"]
}
,
{
"cell_type" : "markdown",
"metadata" : {},
"source" : ["                    Type: Union(f1: OrderedCompletion Expression Integer,...)"]
}
,
{
"cell_type" : "code",
"execution_count": null,
"metadata" : {
    "collapsed" : false
},
"source" : ["in2333a:=integrate(acoth(z)+1/(z^2+z+2)^(1/2), z= 0..1,\"noPole\")"],
"outputs": []
}
,
{
"cell_type" : "markdown",
"metadata" : {},
"source" : [""]
}
,
{
"cell_type" : "markdown",
"metadata" : {},
"source" : ["                  +-+"]
}
,
{
"cell_type" : "markdown",
"metadata" : {},
"source" : ["          log(- 4\|2  + 9) + log(4)"]
}
,
{
"cell_type" : "markdown",
"metadata" : {},
"source" : ["          -------------------------"]
}
,
{
"cell_type" : "markdown",
"metadata" : {},
"source" : ["                      2"]
}
,
{
"cell_type" : "markdown",
"metadata" : {},
"source" : ["                    Type: Union(f1: OrderedCompletion Expression Integer,...)"]
}
,
{
"cell_type" : "code",
"execution_count": null,
"metadata" : {
    "collapsed" : false
},
"source" : ["in2340a:=integrate(exp(I*(I*z)^(1/2))+cot(z-1), z= -1..1,\"noPole\")"],
"outputs": []
}
,
{
"cell_type" : "markdown",
"metadata" : {},
"source" : [""]
}
,
{
"cell_type" : "markdown",
"metadata" : {},
"source" : ["  - infinity"]
}
,
{
"cell_type" : "markdown",
"metadata" : {},
"source" : ["                    Type: Union(f1: OrderedCompletion Expression Integer,...)"]
}
,
{
"cell_type" : "code",
"execution_count": null,
"metadata" : {
    "collapsed" : false
},
"source" : ["in2360a:=integrate(1/(1-I*z^2)^(1/2)-csch(z-1), z= -1..1,\"noPole\")"],
"outputs": []
}
,
{
"cell_type" : "markdown",
"metadata" : {},
"source" : [""]
}
,
{
"cell_type" : "markdown",
"metadata" : {},
"source" : ["  [ + infinity, + infinity]"]
}
,
{
"cell_type" : "markdown",
"metadata" : {},
"source" : ["               Type: Union(f2: List OrderedCompletion Expression Integer,...)"]
}
,
{
"cell_type" : "code",
"execution_count": null,
"metadata" : {
    "collapsed" : false
},
"source" : ["in2367a:=integrate(log(1-z^2)-1/(I/(z-I))^(1/2), z= -1..1,\"noPole\")"],
"outputs": []
}
,
{
"cell_type" : "markdown",
"metadata" : {},
"source" : [""]
}
,
{
"cell_type" : "markdown",
"metadata" : {},
"source" : ["                         4                   4                   1"]
}
,
{
"cell_type" : "markdown",
"metadata" : {},
"source" : ["               3log(-----------) + 3log(-----------) - 3log(-----------)"]
}
,
{
"cell_type" : "markdown",
"metadata" : {},
"source" : ["                     2                   2                   2"]
}
,
{
"cell_type" : "markdown",
"metadata" : {},
"source" : ["                    I  - 2I + 1         I  + 2I + 1         I  - 2I + 1"]
}
,
{
"cell_type" : "markdown",
"metadata" : {},
"source" : ["             +"]
}
,
{
"cell_type" : "markdown",
"metadata" : {},
"source" : ["                           1"]
}
,
{
"cell_type" : "markdown",
"metadata" : {},
"source" : ["               - 3log(-----------) + 6log(4) - 24"]
}
,
{
"cell_type" : "markdown",
"metadata" : {},
"source" : ["                       2"]
}
,
{
"cell_type" : "markdown",
"metadata" : {},
"source" : ["                      I  + 2I + 1"]
}
,
{
"cell_type" : "markdown",
"metadata" : {},
"source" : ["          *"]
}
,
{
"cell_type" : "markdown",
"metadata" : {},
"source" : ["              +-------+"]
}
,
{
"cell_type" : "markdown",
"metadata" : {},
"source" : ["              |    I"]
}
,
{
"cell_type" : "markdown",
"metadata" : {},
"source" : ["              |- -----"]
}
,
{
"cell_type" : "markdown",
"metadata" : {},
"source" : ["             \|  I - 1"]
}
,
{
"cell_type" : "markdown",
"metadata" : {},
"source" : ["         +"]
}
,
{
"cell_type" : "markdown",
"metadata" : {},
"source" : ["           4I - 4"]
}
,
{
"cell_type" : "markdown",
"metadata" : {},
"source" : ["      *"]
}
,
{
"cell_type" : "markdown",
"metadata" : {},
"source" : ["          +-------+"]
}
,
{
"cell_type" : "markdown",
"metadata" : {},
"source" : ["          |    I"]
}
,
{
"cell_type" : "markdown",
"metadata" : {},
"source" : ["          |- -----"]
}
,
{
"cell_type" : "markdown",
"metadata" : {},
"source" : ["         \|  I + 1"]
}
,
{
"cell_type" : "markdown",
"metadata" : {},
"source" : ["     +"]
}
,
{
"cell_type" : "markdown",
"metadata" : {},
"source" : ["                  +-------+"]
}
,
{
"cell_type" : "markdown",
"metadata" : {},
"source" : ["                  |    I"]
}
,
{
"cell_type" : "markdown",
"metadata" : {},
"source" : ["       (- 4I - 4) |- -----"]
}
,
{
"cell_type" : "markdown",
"metadata" : {},
"source" : ["                 \|  I - 1"]
}
,
{
"cell_type" : "markdown",
"metadata" : {},
"source" : ["  /"]
}
,
{
"cell_type" : "markdown",
"metadata" : {},
"source" : ["        +-------+ +-------+"]
}
,
{
"cell_type" : "markdown",
"metadata" : {},
"source" : ["        |    I    |    I"]
}
,
{
"cell_type" : "markdown",
"metadata" : {},
"source" : ["     6  |- -----  |- -----"]
}
,
{
"cell_type" : "markdown",
"metadata" : {},
"source" : ["       \|  I - 1 \|  I + 1"]
}
,
{
"cell_type" : "markdown",
"metadata" : {},
"source" : ["                    Type: Union(f1: OrderedCompletion Expression Integer,...)"]
}
,
{
"cell_type" : "code",
"execution_count": null,
"metadata" : {
    "collapsed" : false
},
"source" : ["in2375a:=integrate(acoth(1-z^(1/2))+1/z^(1/3), z= 0..1,\"noPole\")"],
"outputs": []
}
,
{
"cell_type" : "markdown",
"metadata" : {},
"source" : [""]
}
,
{
"cell_type" : "markdown",
"metadata" : {},
"source" : ["          2log(4) + 1"]
}
,
{
"cell_type" : "markdown",
"metadata" : {},
"source" : ["          -----------"]
}
,
{
"cell_type" : "markdown",
"metadata" : {},
"source" : ["               2"]
}
,
{
"cell_type" : "markdown",
"metadata" : {},
"source" : ["                    Type: Union(f1: OrderedCompletion Expression Integer,...)"]
}
,
{
"cell_type" : "code",
"execution_count": null,
"metadata" : {
    "collapsed" : false
},
"source" : ["in2376a:=integrate(log(1-z^(1/3)-z^(2/3)), z= 0..infinity,\"noPole\")"],
"outputs": []
}
,
{
"cell_type" : "markdown",
"metadata" : {},
"source" : [""]
}
,
{
"cell_type" : "markdown",
"metadata" : {},
"source" : ["           +-+"]
}
,
{
"cell_type" : "markdown",
"metadata" : {},
"source" : ["         3\|5"]
}
,
{
"cell_type" : "markdown",
"metadata" : {},
"source" : ["      *"]
}
,
{
"cell_type" : "markdown",
"metadata" : {},
"source" : ["         log"]
}
,
{
"cell_type" : "markdown",
"metadata" : {},
"source" : ["                      +-+      3+--------+2"]
}
,
{
"cell_type" : "markdown",
"metadata" : {},
"source" : ["                (- 12\|5  - 36)\|infinity"]
}
,
{
"cell_type" : "markdown",
"metadata" : {},
"source" : ["              +"]
}
,
{
"cell_type" : "markdown",
"metadata" : {},
"source" : ["                     +-+                  3+--------+                     +-+"]
}
,
{
"cell_type" : "markdown",
"metadata" : {},
"source" : ["               (- 16\|5  - 4infinity - 32)\|infinity  + (- 8infinity - 6)\|5"]
}
,
{
"cell_type" : "markdown",
"metadata" : {},
"source" : ["             +"]
}
,
{
"cell_type" : "markdown",
"metadata" : {},
"source" : ["                - 8infinity - 14"]
}
,
{
"cell_type" : "markdown",
"metadata" : {},
"source" : ["           /"]
}
,
{
"cell_type" : "markdown",
"metadata" : {},
"source" : ["              3+--------+2                   3+--------+"]
}
,
{
"cell_type" : "markdown",
"metadata" : {},
"source" : ["              \|infinity   + (- infinity + 2)\|infinity  - 2infinity - 1"]
}
,
{
"cell_type" : "markdown",
"metadata" : {},
"source" : ["     +"]
}
,
{
"cell_type" : "markdown",
"metadata" : {},
"source" : ["         (3infinity + 6)"]
}
,
{
"cell_type" : "markdown",
"metadata" : {},
"source" : ["      *"]
}
,
{
"cell_type" : "markdown",
"metadata" : {},
"source" : ["               3+--------+2                 3+--------+"]
}
,
{
"cell_type" : "markdown",
"metadata" : {},
"source" : ["         log(- \|infinity   + (infinity - 2)\|infinity  + 2infinity + 1)"]
}
,
{
"cell_type" : "markdown",
"metadata" : {},
"source" : ["     +"]
}
,
{
"cell_type" : "markdown",
"metadata" : {},
"source" : ["        3+--------+2     3+--------+     +-+      +-+"]
}
,
{
"cell_type" : "markdown",
"metadata" : {},
"source" : ["       3\|infinity   - 18\|infinity  - 3\|5 log(6\|5  + 14) - 4infinity"]
}
,
{
"cell_type" : "markdown",
"metadata" : {},
"source" : ["  /"]
}
,
{
"cell_type" : "markdown",
"metadata" : {},
"source" : ["     6"]
}
,
{
"cell_type" : "markdown",
"metadata" : {},
"source" : ["                    Type: Union(f1: OrderedCompletion Expression Integer,...)"]
}
,
{
"cell_type" : "code",
"execution_count": null,
"metadata" : {
    "collapsed" : false
},
"source" : ["in2378a:=integrate((z^2+I*z-3)^(1/2)-tanh(z-1), z= -1..1,\"noPole\")"],
"outputs": []
}
,
{
"cell_type" : "markdown",
"metadata" : {},
"source" : [""]
}
,
{
"cell_type" : "markdown",
"metadata" : {},
"source" : ["                     4       2        +-------+     5      4      3       2"]
}
,
{
"cell_type" : "markdown",
"metadata" : {},
"source" : ["               (- 16I  - 128I  + 768)\|- I - 2  + 4I  - 24I  - 32I  - 320I"]
}
,
{
"cell_type" : "markdown",
"metadata" : {},
"source" : ["             +"]
}
,
{
"cell_type" : "markdown",
"metadata" : {},
"source" : ["               - 960I - 384"]
}
,
{
"cell_type" : "markdown",
"metadata" : {},
"source" : ["          *"]
}
,
{
"cell_type" : "markdown",
"metadata" : {},
"source" : ["              +-----+"]
}
,
{
"cell_type" : "markdown",
"metadata" : {},
"source" : ["             \|I - 2"]
}
,
{
"cell_type" : "markdown",
"metadata" : {},
"source" : ["         +"]
}
,
{
"cell_type" : "markdown",
"metadata" : {},
"source" : ["              5      4      3       2               +-------+    6      4"]
}
,
{
"cell_type" : "markdown",
"metadata" : {},
"source" : ["           (4I  + 24I  - 32I  + 320I  - 960I + 384)\|- I - 2  - I  + 60I"]
}
,
{
"cell_type" : "markdown",
"metadata" : {},
"source" : ["         +"]
}
,
{
"cell_type" : "markdown",
"metadata" : {},
"source" : ["               2"]
}
,
{
"cell_type" : "markdown",
"metadata" : {},
"source" : ["           848I  - 192"]
}
,
{
"cell_type" : "markdown",
"metadata" : {},
"source" : ["      *"]
}
,
{
"cell_type" : "markdown",
"metadata" : {},
"source" : ["                        +-------+    2"]
}
,
{
"cell_type" : "markdown",
"metadata" : {},
"source" : ["         log((- 4I + 8)\|- I - 2  + I  - 8I - 4)"]
}
,
{
"cell_type" : "markdown",
"metadata" : {},
"source" : ["     +"]
}
,
{
"cell_type" : "markdown",
"metadata" : {},
"source" : ["                4       2        +-------+     5      4      3       2"]
}
,
{
"cell_type" : "markdown",
"metadata" : {},
"source" : ["            (16I  + 128I  - 768)\|- I - 2  - 4I  + 24I  + 32I  + 320I  + 960I"]
}
,
{
"cell_type" : "markdown",
"metadata" : {},
"source" : ["           +"]
}
,
{
"cell_type" : "markdown",
"metadata" : {},
"source" : ["               384"]
}
,
{
"cell_type" : "markdown",
"metadata" : {},
"source" : ["          *"]
}
,
{
"cell_type" : "markdown",
"metadata" : {},
"source" : ["              +-----+"]
}
,
{
"cell_type" : "markdown",
"metadata" : {},
"source" : ["             \|I - 2"]
}
,
{
"cell_type" : "markdown",
"metadata" : {},
"source" : ["         +"]
}
,
{
"cell_type" : "markdown",
"metadata" : {},
"source" : ["                5      4      3       2               +-------+    6      4"]
}
,
{
"cell_type" : "markdown",
"metadata" : {},
"source" : ["           (- 4I  - 24I  + 32I  - 320I  + 960I - 384)\|- I - 2  + I  - 60I"]
}
,
{
"cell_type" : "markdown",
"metadata" : {},
"source" : ["         +"]
}
,
{
"cell_type" : "markdown",
"metadata" : {},
"source" : ["                 2"]
}
,
{
"cell_type" : "markdown",
"metadata" : {},
"source" : ["           - 848I  + 192"]
}
,
{
"cell_type" : "markdown",
"metadata" : {},
"source" : ["      *"]
}
,
{
"cell_type" : "markdown",
"metadata" : {},
"source" : ["                        +-----+    2"]
}
,
{
"cell_type" : "markdown",
"metadata" : {},
"source" : ["         log((- 4I - 8)\|I - 2  + I  + 8I - 4)"]
}
,
{
"cell_type" : "markdown",
"metadata" : {},
"source" : ["     +"]
}
,
{
"cell_type" : "markdown",
"metadata" : {},
"source" : ["                                   2 4       2 2"]
}
,
{
"cell_type" : "markdown",
"metadata" : {},
"source" : ["                    2           (%e )  + 2(%e )  + 1           2"]
}
,
{
"cell_type" : "markdown",
"metadata" : {},
"source" : ["               (128I  - 512)log(--------------------) + (- 128I  + 512)log(4)"]
}
,
{
"cell_type" : "markdown",
"metadata" : {},
"source" : ["                                          2 4"]
}
,
{
"cell_type" : "markdown",
"metadata" : {},
"source" : ["                                       (%e )"]
}
,
{
"cell_type" : "markdown",
"metadata" : {},
"source" : ["             +"]
}
,
{
"cell_type" : "markdown",
"metadata" : {},
"source" : ["                     3       2"]
}
,
{
"cell_type" : "markdown",
"metadata" : {},
"source" : ["               - 256I  + 512I  + 1024I - 2048"]
}
,
{
"cell_type" : "markdown",
"metadata" : {},
"source" : ["          *"]
}
,
{
"cell_type" : "markdown",
"metadata" : {},
"source" : ["              +-------+"]
}
,
{
"cell_type" : "markdown",
"metadata" : {},
"source" : ["             \|- I - 2"]
}
,
{
"cell_type" : "markdown",
"metadata" : {},
"source" : ["         +"]
}
,
{
"cell_type" : "markdown",
"metadata" : {},
"source" : ["                                               2 4       2 2"]
}
,
{
"cell_type" : "markdown",
"metadata" : {},
"source" : ["                 3       2                  (%e )  + 2(%e )  + 1"]
}
,
{
"cell_type" : "markdown",
"metadata" : {},
"source" : ["           (- 32I  + 192I  + 640I + 256)log(--------------------)"]
}
,
{
"cell_type" : "markdown",
"metadata" : {},
"source" : ["                                                      2 4"]
}
,
{
"cell_type" : "markdown",
"metadata" : {},
"source" : ["                                                   (%e )"]
}
,
{
"cell_type" : "markdown",
"metadata" : {},
"source" : ["         +"]
}
,
{
"cell_type" : "markdown",
"metadata" : {},
"source" : ["               3       2                         5      4       3       2"]
}
,
{
"cell_type" : "markdown",
"metadata" : {},
"source" : ["           (32I  - 192I  - 640I - 256)log(4) + 4I  + 72I  - 416I  - 320I"]
}
,
{
"cell_type" : "markdown",
"metadata" : {},
"source" : ["         +"]
}
,
{
"cell_type" : "markdown",
"metadata" : {},
"source" : ["           2624I + 2176"]
}
,
{
"cell_type" : "markdown",
"metadata" : {},
"source" : ["      *"]
}
,
{
"cell_type" : "markdown",
"metadata" : {},
"source" : ["          +-----+"]
}
,
{
"cell_type" : "markdown",
"metadata" : {},
"source" : ["         \|I - 2"]
}
,
{
"cell_type" : "markdown",
"metadata" : {},
"source" : ["     +"]
}
,
{
"cell_type" : "markdown",
"metadata" : {},
"source" : ["                                               2 4       2 2"]
}
,
{
"cell_type" : "markdown",
"metadata" : {},
"source" : ["                 3       2                  (%e )  + 2(%e )  + 1"]
}
,
{
"cell_type" : "markdown",
"metadata" : {},
"source" : ["           (- 32I  - 192I  + 640I - 256)log(--------------------)"]
}
,
{
"cell_type" : "markdown",
"metadata" : {},
"source" : ["                                                      2 4"]
}
,
{
"cell_type" : "markdown",
"metadata" : {},
"source" : ["                                                   (%e )"]
}
,
{
"cell_type" : "markdown",
"metadata" : {},
"source" : ["         +"]
}
,
{
"cell_type" : "markdown",
"metadata" : {},
"source" : ["               3       2                         5      4       3        2"]
}
,
{
"cell_type" : "markdown",
"metadata" : {},
"source" : ["           (32I  + 192I  - 640I + 256)log(4) - 4I  + 72I  + 160I  - 1856I"]
}
,
{
"cell_type" : "markdown",
"metadata" : {},
"source" : ["         +"]
}
,
{
"cell_type" : "markdown",
"metadata" : {},
"source" : ["           2496I + 128"]
}
,
{
"cell_type" : "markdown",
"metadata" : {},
"source" : ["      *"]
}
,
{
"cell_type" : "markdown",
"metadata" : {},
"source" : ["          +-------+"]
}
,
{
"cell_type" : "markdown",
"metadata" : {},
"source" : ["         \|- I - 2"]
}
,
{
"cell_type" : "markdown",
"metadata" : {},
"source" : ["     +"]
}
,
{
"cell_type" : "markdown",
"metadata" : {},
"source" : ["                                 2 4       2 2"]
}
,
{
"cell_type" : "markdown",
"metadata" : {},
"source" : ["          4       2           (%e )  + 2(%e )  + 1"]
}
,
{
"cell_type" : "markdown",
"metadata" : {},
"source" : ["       (8I  - 576I  + 128)log(--------------------)"]
}
,
{
"cell_type" : "markdown",
"metadata" : {},
"source" : ["                                        2 4"]
}
,
{
"cell_type" : "markdown",
"metadata" : {},
"source" : ["                                     (%e )"]
}
,
{
"cell_type" : "markdown",
"metadata" : {},
"source" : ["     +"]
}
,
{
"cell_type" : "markdown",
"metadata" : {},
"source" : ["          4       2                   5      4       3        2"]
}
,
{
"cell_type" : "markdown",
"metadata" : {},
"source" : ["     (- 8I  + 576I  - 128)log(4) - 32I  + 32I  + 768I  - 2304I  - 2560I + 512"]
}
,
{
"cell_type" : "markdown",
"metadata" : {},
"source" : ["  /"]
}
,
{
"cell_type" : "markdown",
"metadata" : {},
"source" : ["             2         +-------+      3       2                +-----+"]
}
,
{
"cell_type" : "markdown",
"metadata" : {},
"source" : ["       ((256I  - 1024)\|- I - 2  - 64I  + 384I  + 1280I + 512)\|I - 2"]
}
,
{
"cell_type" : "markdown",
"metadata" : {},
"source" : ["     +"]
}
,
{
"cell_type" : "markdown",
"metadata" : {},
"source" : ["             3       2                +-------+      4        2"]
}
,
{
"cell_type" : "markdown",
"metadata" : {},
"source" : ["       (- 64I  - 384I  + 1280I - 512)\|- I - 2  + 16I  - 1152I  + 256"]
}
,
{
"cell_type" : "markdown",
"metadata" : {},
"source" : ["                    Type: Union(f1: OrderedCompletion Expression Integer,...)"]
}
,
{
"cell_type" : "code",
"execution_count": null,
"metadata" : {
    "collapsed" : false
},
"source" : ["in2386a:=integrate(acoth(1-z)-(z^2-z+2)^(1/2), z= 0..1,\"noPole\")"],
"outputs": []
}
,
{
"cell_type" : "markdown",
"metadata" : {},
"source" : [""]
}
,
{
"cell_type" : "markdown",
"metadata" : {},
"source" : ["                   +-+                 +-+          +-+"]
}
,
{
"cell_type" : "markdown",
"metadata" : {},
"source" : ["          - 7log(4\|2  + 9) + 7log(- 4\|2  + 9) - 8\|2  + 8log(4)"]
}
,
{
"cell_type" : "markdown",
"metadata" : {},
"source" : ["          -------------------------------------------------------"]
}
,
{
"cell_type" : "markdown",
"metadata" : {},
"source" : ["                                     16"]
}
,
{
"cell_type" : "markdown",
"metadata" : {},
"source" : ["                    Type: Union(f1: OrderedCompletion Expression Integer,...)"]
}
,
{
"cell_type" : "code",
"execution_count": null,
"metadata" : {
    "collapsed" : false
},
"source" : ["in2390a:=integrate((z^2-I*z-2)^(1/2)+1/sec(z-1), z= -1..1,\"noPole\")"],
"outputs": []
}
,
{
"cell_type" : "markdown",
"metadata" : {},
"source" : [""]
}
,
{
"cell_type" : "markdown",
"metadata" : {},
"source" : ["                     8        6         4          2  +-------+     9       8"]
}
,
{
"cell_type" : "markdown",
"metadata" : {},
"source" : ["               (- 64I  + 3840I  + 18432I  - 131072I )\|- I - 1  - 8I  + 176I"]
}
,
{
"cell_type" : "markdown",
"metadata" : {},
"source" : ["           +"]
}
,
{
"cell_type" : "markdown",
"metadata" : {},
"source" : ["                  7        6        5         4          3         2"]
}
,
{
"cell_type" : "markdown",
"metadata" : {},
"source" : ["             1472I  - 3456I  - 1536I  - 33792I  - 102400I  + 40960I  + 65536I"]
}
,
{
"cell_type" : "markdown",
"metadata" : {},
"source" : ["          *"]
}
,
{
"cell_type" : "markdown",
"metadata" : {},
"source" : ["              +-----+"]
}
,
{
"cell_type" : "markdown",
"metadata" : {},
"source" : ["             \|I - 1"]
}
,
{
"cell_type" : "markdown",
"metadata" : {},
"source" : ["         +"]
}
,
{
"cell_type" : "markdown",
"metadata" : {},
"source" : ["                   9       8        7        6        5         4          3"]
}
,
{
"cell_type" : "markdown",
"metadata" : {},
"source" : ["               - 8I  - 176I  + 1472I  + 3456I  - 1536I  + 33792I  - 102400I"]
}
,
{
"cell_type" : "markdown",
"metadata" : {},
"source" : ["             +"]
}
,
{
"cell_type" : "markdown",
"metadata" : {},
"source" : ["                       2"]
}
,
{
"cell_type" : "markdown",
"metadata" : {},
"source" : ["               - 40960I  + 65536I"]
}
,
{
"cell_type" : "markdown",
"metadata" : {},
"source" : ["          *"]
}
,
{
"cell_type" : "markdown",
"metadata" : {},
"source" : ["              +-------+"]
}
,
{
"cell_type" : "markdown",
"metadata" : {},
"source" : ["             \|- I - 1"]
}
,
{
"cell_type" : "markdown",
"metadata" : {},
"source" : ["         +"]
}
,
{
"cell_type" : "markdown",
"metadata" : {},
"source" : ["              10       8        6         4          2"]
}
,
{
"cell_type" : "markdown",
"metadata" : {},
"source" : ["           - I   + 792I  - 6016I  - 84992I  + 110592I  - 32768"]
}
,
{
"cell_type" : "markdown",
"metadata" : {},
"source" : ["      *"]
}
,
{
"cell_type" : "markdown",
"metadata" : {},
"source" : ["                      +-----+    2"]
}
,
{
"cell_type" : "markdown",
"metadata" : {},
"source" : ["         log((4I + 8)\|I - 1  + I  + 8I)"]
}
,
{
"cell_type" : "markdown",
"metadata" : {},
"source" : ["     +"]
}
,
{
"cell_type" : "markdown",
"metadata" : {},
"source" : ["                   8        6         4          2  +-------+     9       8"]
}
,
{
"cell_type" : "markdown",
"metadata" : {},
"source" : ["               (64I  - 3840I  - 18432I  + 131072I )\|- I - 1  + 8I  - 176I"]
}
,
{
"cell_type" : "markdown",
"metadata" : {},
"source" : ["           +"]
}
,
{
"cell_type" : "markdown",
"metadata" : {},
"source" : ["                  7        6        5         4          3         2"]
}
,
{
"cell_type" : "markdown",
"metadata" : {},
"source" : ["           - 1472I  + 3456I  + 1536I  + 33792I  + 102400I  - 40960I  - 65536I"]
}
,
{
"cell_type" : "markdown",
"metadata" : {},
"source" : ["          *"]
}
,
{
"cell_type" : "markdown",
"metadata" : {},
"source" : ["              +-----+"]
}
,
{
"cell_type" : "markdown",
"metadata" : {},
"source" : ["             \|I - 1"]
}
,
{
"cell_type" : "markdown",
"metadata" : {},
"source" : ["         +"]
}
,
{
"cell_type" : "markdown",
"metadata" : {},
"source" : ["                 9       8        7        6        5         4          3"]
}
,
{
"cell_type" : "markdown",
"metadata" : {},
"source" : ["               8I  + 176I  - 1472I  - 3456I  + 1536I  - 33792I  + 102400I"]
}
,
{
"cell_type" : "markdown",
"metadata" : {},
"source" : ["             +"]
}
,
{
"cell_type" : "markdown",
"metadata" : {},
"source" : ["                     2"]
}
,
{
"cell_type" : "markdown",
"metadata" : {},
"source" : ["               40960I  - 65536I"]
}
,
{
"cell_type" : "markdown",
"metadata" : {},
"source" : ["          *"]
}
,
{
"cell_type" : "markdown",
"metadata" : {},
"source" : ["              +-------+"]
}
,
{
"cell_type" : "markdown",
"metadata" : {},
"source" : ["             \|- I - 1"]
}
,
{
"cell_type" : "markdown",
"metadata" : {},
"source" : ["         +"]
}
,
{
"cell_type" : "markdown",
"metadata" : {},
"source" : ["            10       8        6         4          2"]
}
,
{
"cell_type" : "markdown",
"metadata" : {},
"source" : ["           I   - 792I  + 6016I  + 84992I  - 110592I  + 32768"]
}
,
{
"cell_type" : "markdown",
"metadata" : {},
"source" : ["      *"]
}
,
{
"cell_type" : "markdown",
"metadata" : {},
"source" : ["                      +-------+    2"]
}
,
{
"cell_type" : "markdown",
"metadata" : {},
"source" : ["         log((4I - 8)\|- I - 1  + I  - 8I)"]
}
,
{
"cell_type" : "markdown",
"metadata" : {},
"source" : ["     +"]
}
,
{
"cell_type" : "markdown",
"metadata" : {},
"source" : ["                  6         4          2               7         5          3"]
}
,
{
"cell_type" : "markdown",
"metadata" : {},
"source" : ["            (1024I  - 69632I  + 262144I )sin(2) + 1536I  - 63488I  + 262144I"]
}
,
{
"cell_type" : "markdown",
"metadata" : {},
"source" : ["           +"]
}
,
{
"cell_type" : "markdown",
"metadata" : {},
"source" : ["               - 131072I"]
}
,
{
"cell_type" : "markdown",
"metadata" : {},
"source" : ["          *"]
}
,
{
"cell_type" : "markdown",
"metadata" : {},
"source" : ["              +-------+"]
}
,
{
"cell_type" : "markdown",
"metadata" : {},
"source" : ["             \|- I - 1"]
}
,
{
"cell_type" : "markdown",
"metadata" : {},
"source" : ["         +"]
}
,
{
"cell_type" : "markdown",
"metadata" : {},
"source" : ["                  7        6         5         4          3         2"]
}
,
{
"cell_type" : "markdown",
"metadata" : {},
"source" : ["          (128I  - 2816I  - 24576I  + 77824I  + 221184I  - 81920I  - 131072I)"]
}
,
{
"cell_type" : "markdown",
"metadata" : {},
"source" : ["         *"]
}
,
{
"cell_type" : "markdown",
"metadata" : {},
"source" : ["            sin(2)"]
}
,
{
"cell_type" : "markdown",
"metadata" : {},
"source" : ["        +"]
}
,
{
"cell_type" : "markdown",
"metadata" : {},
"source" : ["             9       8        7         6         5          4          3"]
}
,
{
"cell_type" : "markdown",
"metadata" : {},
"source" : ["           4I  + 264I  - 3456I  - 24320I  + 67072I  + 199680I  - 122880I"]
}
,
{
"cell_type" : "markdown",
"metadata" : {},
"source" : ["         +"]
}
,
{
"cell_type" : "markdown",
"metadata" : {},
"source" : ["                    2"]
}
,
{
"cell_type" : "markdown",
"metadata" : {},
"source" : ["           - 245760I  + 16384I + 32768"]
}
,
{
"cell_type" : "markdown",
"metadata" : {},
"source" : ["      *"]
}
,
{
"cell_type" : "markdown",
"metadata" : {},
"source" : ["          +-----+"]
}
,
{
"cell_type" : "markdown",
"metadata" : {},
"source" : ["         \|I - 1"]
}
,
{
"cell_type" : "markdown",
"metadata" : {},
"source" : ["     +"]
}
,
{
"cell_type" : "markdown",
"metadata" : {},
"source" : ["               7        6         5         4          3         2"]
}
,
{
"cell_type" : "markdown",
"metadata" : {},
"source" : ["          (128I  + 2816I  - 24576I  - 77824I  + 221184I  + 81920I  - 131072I)"]
}
,
{
"cell_type" : "markdown",
"metadata" : {},
"source" : ["         *"]
}
,
{
"cell_type" : "markdown",
"metadata" : {},
"source" : ["            sin(2)"]
}
,
{
"cell_type" : "markdown",
"metadata" : {},
"source" : ["        +"]
}
,
{
"cell_type" : "markdown",
"metadata" : {},
"source" : ["               9       8        7         6         5          4          3"]
}
,
{
"cell_type" : "markdown",
"metadata" : {},
"source" : ["           - 4I  + 264I  + 3456I  - 24320I  - 67072I  + 199680I  + 122880I"]
}
,
{
"cell_type" : "markdown",
"metadata" : {},
"source" : ["         +"]
}
,
{
"cell_type" : "markdown",
"metadata" : {},
"source" : ["                    2"]
}
,
{
"cell_type" : "markdown",
"metadata" : {},
"source" : ["           - 245760I  - 16384I + 32768"]
}
,
{
"cell_type" : "markdown",
"metadata" : {},
"source" : ["      *"]
}
,
{
"cell_type" : "markdown",
"metadata" : {},
"source" : ["          +-------+"]
}
,
{
"cell_type" : "markdown",
"metadata" : {},
"source" : ["         \|- I - 1"]
}
,
{
"cell_type" : "markdown",
"metadata" : {},
"source" : ["     +"]
}
,
{
"cell_type" : "markdown",
"metadata" : {},
"source" : ["           8         6          4          2                     9         7"]
}
,
{
"cell_type" : "markdown",
"metadata" : {},
"source" : ["       (16I  - 12800I  + 198656I  - 229376I  + 65536)sin(2) + 64I  - 13824I"]
}
,
{
"cell_type" : "markdown",
"metadata" : {},
"source" : ["     +"]
}
,
{
"cell_type" : "markdown",
"metadata" : {},
"source" : ["              5          3"]
}
,
{
"cell_type" : "markdown",
"metadata" : {},
"source" : ["       174080I  - 327680I  + 131072I"]
}
,
{
"cell_type" : "markdown",
"metadata" : {},
"source" : ["  /"]
}
,
{
"cell_type" : "markdown",
"metadata" : {},
"source" : ["                 6         4          2  +-------+       7        6         5"]
}
,
{
"cell_type" : "markdown",
"metadata" : {},
"source" : ["           (1024I  - 69632I  + 262144I )\|- I - 1  + 128I  - 2816I  - 24576I"]
}
,
{
"cell_type" : "markdown",
"metadata" : {},
"source" : ["         +"]
}
,
{
"cell_type" : "markdown",
"metadata" : {},
"source" : ["                 4          3         2"]
}
,
{
"cell_type" : "markdown",
"metadata" : {},
"source" : ["           77824I  + 221184I  - 81920I  - 131072I"]
}
,
{
"cell_type" : "markdown",
"metadata" : {},
"source" : ["      *"]
}
,
{
"cell_type" : "markdown",
"metadata" : {},
"source" : ["          +-----+"]
}
,
{
"cell_type" : "markdown",
"metadata" : {},
"source" : ["         \|I - 1"]
}
,
{
"cell_type" : "markdown",
"metadata" : {},
"source" : ["     +"]
}
,
{
"cell_type" : "markdown",
"metadata" : {},
"source" : ["              7        6         5         4          3         2"]
}
,
{
"cell_type" : "markdown",
"metadata" : {},
"source" : ["         (128I  + 2816I  - 24576I  - 77824I  + 221184I  + 81920I  - 131072I)"]
}
,
{
"cell_type" : "markdown",
"metadata" : {},
"source" : ["      *"]
}
,
{
"cell_type" : "markdown",
"metadata" : {},
"source" : ["          +-------+"]
}
,
{
"cell_type" : "markdown",
"metadata" : {},
"source" : ["         \|- I - 1"]
}
,
{
"cell_type" : "markdown",
"metadata" : {},
"source" : ["     +"]
}
,
{
"cell_type" : "markdown",
"metadata" : {},
"source" : ["          8         6          4          2"]
}
,
{
"cell_type" : "markdown",
"metadata" : {},
"source" : ["       16I  - 12800I  + 198656I  - 229376I  + 65536"]
}
,
{
"cell_type" : "markdown",
"metadata" : {},
"source" : ["                    Type: Union(f1: OrderedCompletion Expression Integer,...)"]
}
,
{
"cell_type" : "code",
"execution_count": null,
"metadata" : {
    "collapsed" : false
},
"source" : ["in2392a:=integrate(1/sec(z-1)+acoth(1-z^(1/2)), z= 0..1,\"noPole\")"],
"outputs": []
}
,
{
"cell_type" : "markdown",
"metadata" : {},
"source" : [""]
}
,
{
"cell_type" : "markdown",
"metadata" : {},
"source" : ["     sin(1) + log(4) - 1"]
}
,
{
"cell_type" : "markdown",
"metadata" : {},
"source" : ["                    Type: Union(f1: OrderedCompletion Expression Integer,...)"]
}
,
{
"cell_type" : "code",
"execution_count": null,
"metadata" : {
    "collapsed" : false
},
"source" : ["in2404a:=integrate(1/(1+I*z^2)^(1/2)+acoth(z), z= -1..1,\"noPole\")"],
"outputs": []
}
,
{
"cell_type" : "markdown",
"metadata" : {},
"source" : [""]
}
,
{
"cell_type" : "markdown",
"metadata" : {},
"source" : [" ["]
}
,
{
"cell_type" : "markdown",
"metadata" : {},
"source" : ["       -"]
}
,
{
"cell_type" : "markdown",
"metadata" : {},
"source" : ["          log"]
}
,
{
"cell_type" : "markdown",
"metadata" : {},
"source" : ["                     2       +-+     2       +-----+        2       +-+     3"]
}
,
{
"cell_type" : "markdown",
"metadata" : {},
"source" : ["                 ((2I  + 4I)\|I  + 4I  + 2I)\|I + 1  + (- 4I  - 4I)\|I  - 2I"]
}
,
{
"cell_type" : "markdown",
"metadata" : {},
"source" : ["               +"]
}
,
{
"cell_type" : "markdown",
"metadata" : {},
"source" : ["                     2"]
}
,
{
"cell_type" : "markdown",
"metadata" : {},
"source" : ["                 - 5I  - 2I"]
}
,
{
"cell_type" : "markdown",
"metadata" : {},
"source" : ["            /"]
}
,
{
"cell_type" : "markdown",
"metadata" : {},
"source" : ["                 +-----+"]
}
,
{
"cell_type" : "markdown",
"metadata" : {},
"source" : ["               2\|I + 1  - I - 2"]
}
,
{
"cell_type" : "markdown",
"metadata" : {},
"source" : ["     +"]
}
,
{
"cell_type" : "markdown",
"metadata" : {},
"source" : ["       log"]
}
,
{
"cell_type" : "markdown",
"metadata" : {},
"source" : ["                    2       +-+     2       +-----+      2       +-+     3"]
}
,
{
"cell_type" : "markdown",
"metadata" : {},
"source" : ["              ((- 2I  - 4I)\|I  + 4I  + 2I)\|I + 1  + (4I  + 4I)\|I  - 2I"]
}
,
{
"cell_type" : "markdown",
"metadata" : {},
"source" : ["            +"]
}
,
{
"cell_type" : "markdown",
"metadata" : {},
"source" : ["                  2"]
}
,
{
"cell_type" : "markdown",
"metadata" : {},
"source" : ["              - 5I  - 2I"]
}
,
{
"cell_type" : "markdown",
"metadata" : {},
"source" : ["         /"]
}
,
{
"cell_type" : "markdown",
"metadata" : {},
"source" : ["              +-----+"]
}
,
{
"cell_type" : "markdown",
"metadata" : {},
"source" : ["            2\|I + 1  - I - 2"]
}
,
{
"cell_type" : "markdown",
"metadata" : {},
"source" : ["  /"]
}
,
{
"cell_type" : "markdown",
"metadata" : {},
"source" : ["       +-+"]
}
,
{
"cell_type" : "markdown",
"metadata" : {},
"source" : ["     2\|I"]
}
,
{
"cell_type" : "markdown",
"metadata" : {},
"source" : ["   ,"]
}
,
{
"cell_type" : "markdown",
"metadata" : {},
"source" : ["         +---+ +-----+    +---+"]
}
,
{
"cell_type" : "markdown",
"metadata" : {},
"source" : ["        \|- I \|I + 1  - \|- I"]
}
,
{
"cell_type" : "markdown",
"metadata" : {},
"source" : ["  4atan(-----------------------)"]
}
,
{
"cell_type" : "markdown",
"metadata" : {},
"source" : ["                   I"]
}
,
{
"cell_type" : "markdown",
"metadata" : {},
"source" : ["  ------------------------------]"]
}
,
{
"cell_type" : "markdown",
"metadata" : {},
"source" : ["               +---+"]
}
,
{
"cell_type" : "markdown",
"metadata" : {},
"source" : ["              \|- I"]
}
,
{
"cell_type" : "markdown",
"metadata" : {},
"source" : ["             Type: Union(f2: List OrderedCompletion Expression Integer,...)"]
}
,
{
"cell_type" : "code",
"execution_count": null,
"metadata" : {
    "collapsed" : false
},
"source" : ["in2409a:=integrate(tan(z)+1/(I/(z+I))^(1/2), z= 0..1/2*%pi,\"noPole\")"],
"outputs": []
}
,
{
"cell_type" : "markdown",
"metadata" : {},
"source" : [""]
}
,
{
"cell_type" : "markdown",
"metadata" : {},
"source" : ["   + infinity"]
}
,
{
"cell_type" : "markdown",
"metadata" : {},
"source" : ["                    Type: Union(f1: OrderedCompletion Expression Integer,...)"]
}
,
{
"cell_type" : "code",
"execution_count": null,
"metadata" : {
    "collapsed" : false
},
"source" : ["in248a:=integrate(log(z^I)^2, z= 0..1,\"noPole\")"],
"outputs": []
}
,
{
"cell_type" : "markdown",
"metadata" : {},
"source" : [""]
}
,
{
"cell_type" : "markdown",
"metadata" : {},
"source" : ["            2"]
}
,
{
"cell_type" : "markdown",
"metadata" : {},
"source" : ["          2I"]
}
,
{
"cell_type" : "markdown",
"metadata" : {},
"source" : ["                    Type: Union(f1: OrderedCompletion Expression Integer,...)"]
}
,
{
"cell_type" : "markdown",
"metadata" : {},
"source" : [""]
}
,
{
"cell_type" : "code",
"execution_count": null,
"metadata" : {
    "collapsed" : false
},
"source" : ["in248b:=integrate(log(z^%i)^2, z= 0..1,\"noPole\")"],
"outputs": []
}
,
{
"cell_type" : "markdown",
"metadata" : {},
"source" : [""]
}
,
{
"cell_type" : "markdown",
"metadata" : {},
"source" : ["         - 2"]
}
,
{
"cell_type" : "markdown",
"metadata" : {},
"source" : ["            Type: Union(f1: OrderedCompletion Expression Complex Integer,...)"]
}
,
{
"cell_type" : "code",
"execution_count": null,
"metadata" : {
    "collapsed" : false
},
"source" : ["in249a:=integrate((sin(z)/(cos(z)-1))^(1/3), z= 0..%pi,\"noPole\")"],
"outputs": []
}
,
{
"cell_type" : "markdown",
"metadata" : {},
"source" : [""]
}
,
{
"cell_type" : "markdown",
"metadata" : {},
"source" : ["                 3+-+           3+-+         +-+"]
}
,
{
"cell_type" : "markdown",
"metadata" : {},
"source" : ["          3log(32\|2 ) - 12log(2\|2 ) - 4%pi\|3"]
}
,
{
"cell_type" : "markdown",
"metadata" : {},
"source" : ["          --------------------------------------"]
}
,
{
"cell_type" : "markdown",
"metadata" : {},
"source" : ["                            24"]
}
,
{
"cell_type" : "markdown",
"metadata" : {},
"source" : ["                    Type: Union(f1: OrderedCompletion Expression Integer,...)"]
}
,
{
"cell_type" : "code",
"execution_count": null,
"metadata" : {
    "collapsed" : false
},
"source" : ["in251a:=integrate((-1)^z*exp(-z)*sin(z), z= 0..%plusInfinity,\"noPole\")"],
"outputs": []
}
,
{
"cell_type" : "markdown",
"metadata" : {},
"source" : [""]
}
,
{
"cell_type" : "markdown",
"metadata" : {},
"source" : ["               2"]
}
,
{
"cell_type" : "markdown",
"metadata" : {},
"source" : ["          - %pi  + 2"]
}
,
{
"cell_type" : "markdown",
"metadata" : {},
"source" : ["          ----------"]
}
,
{
"cell_type" : "markdown",
"metadata" : {},
"source" : ["              4"]
}
,
{
"cell_type" : "markdown",
"metadata" : {},
"source" : ["           %pi  + 4"]
}
,
{
"cell_type" : "markdown",
"metadata" : {},
"source" : ["                    Type: Union(f1: OrderedCompletion Expression Integer,...)"]
}
,
{
"cell_type" : "code",
"execution_count": null,
"metadata" : {
    "collapsed" : false
},
"source" : ["in2434a:=integrate(acoth(z^(1/2))+log(abs(z-1)), z= 0..1,\"noPole\")"],
"outputs": []
}
,
{
"cell_type" : "markdown",
"metadata" : {},
"source" : [""]
}
,
{
"cell_type" : "markdown",
"metadata" : {},
"source" : ["         log(16) + log(4) - 6log(2)"]
}
,
{
"cell_type" : "markdown",
"metadata" : {},
"source" : ["         --------------------------"]
}
,
{
"cell_type" : "markdown",
"metadata" : {},
"source" : ["                      4"]
}
,
{
"cell_type" : "markdown",
"metadata" : {},
"source" : ["                    Type: Union(f1: OrderedCompletion Expression Integer,...)"]
}
,
{
"cell_type" : "code",
"execution_count": null,
"metadata" : {
    "collapsed" : false
},
"source" : ["in2443a:=integrate(sech(z)+log(abs(1-1/z^(1/3))), z= -1..1,\"noPole\")"],
"outputs": []
}
,
{
"cell_type" : "markdown",
"metadata" : {},
"source" : [""]
}
,
{
"cell_type" : "markdown",
"metadata" : {},
"source" : ["                                        3+---+2    3+---+"]
}
,
{
"cell_type" : "markdown",
"metadata" : {},
"source" : ["           3+---+2    3+---+            \|- 1   - 2\|- 1  + 1"]
}
,
{
"cell_type" : "markdown",
"metadata" : {},
"source" : ["       log(\|- 1   - 2\|- 1  + 1) + log(---------------------) + 4atan(%e)"]
}
,
{
"cell_type" : "markdown",
"metadata" : {},
"source" : ["                                               3+---+2"]
}
,
{
"cell_type" : "markdown",
"metadata" : {},
"source" : ["                                               \|- 1"]
}
,
{
"cell_type" : "markdown",
"metadata" : {},
"source" : ["     +"]
}
,
{
"cell_type" : "markdown",
"metadata" : {},
"source" : ["                1    3+---+2    3+---+"]
}
,
{
"cell_type" : "markdown",
"metadata" : {},
"source" : ["       - 4atan(--) + \|- 1   + 2\|- 1  - 3"]
}
,
{
"cell_type" : "markdown",
"metadata" : {},
"source" : ["               %e"]
}
,
{
"cell_type" : "markdown",
"metadata" : {},
"source" : ["  /"]
}
,
{
"cell_type" : "markdown",
"metadata" : {},
"source" : ["     2"]
}
,
{
"cell_type" : "markdown",
"metadata" : {},
"source" : ["                    Type: Union(f1: OrderedCompletion Expression Integer,...)"]
}
,
{
"cell_type" : "code",
"execution_count": null,
"metadata" : {
    "collapsed" : false
},
"source" : ["in2462a:=integrate(log((1+(1-z)^(1/2))/z)+csch(z), z= -1..0,\"noPole\")"],
"outputs": []
}
,
{
"cell_type" : "markdown",
"metadata" : {},
"source" : [""]
}
,
{
"cell_type" : "markdown",
"metadata" : {},
"source" : ["  - infinity"]
}
,
{
"cell_type" : "markdown",
"metadata" : {},
"source" : ["                    Type: Union(f1: OrderedCompletion Expression Integer,...)"]
}
,
{
"cell_type" : "code",
"execution_count": null,
"metadata" : {
    "collapsed" : false
},
"source" : ["in2469a:=integrate(1/(2+z)^2+1/(z^2-I*z-2)^(1/2), z= -1..1,\"noPole\")"],
"outputs": []
}
,
{
"cell_type" : "markdown",
"metadata" : {},
"source" : [""]
}
,
{
"cell_type" : "markdown",
"metadata" : {},
"source" : ["                 +-----+    2                       +-------+    2"]
}
,
{
"cell_type" : "markdown",
"metadata" : {},
"source" : ["   3log((4I + 8)\|I - 1  + I  + 8I) - 3log((4I - 8)\|- I - 1  + I  - 8I) + 4"]
}
,
{
"cell_type" : "markdown",
"metadata" : {},
"source" : ["   -------------------------------------------------------------------------"]
}
,
{
"cell_type" : "markdown",
"metadata" : {},
"source" : ["                                       6"]
}
,
{
"cell_type" : "markdown",
"metadata" : {},
"source" : ["                    Type: Union(f1: OrderedCompletion Expression Integer,...)"]
}
,
{
"cell_type" : "code",
"execution_count": null,
"metadata" : {
    "collapsed" : false
},
"source" : ["in2484a:=integrate(log(1-z^2)+sinh(z^(1/2)), z= 0..%plusInfinity,\"noPole\")"],
"outputs": []
}
,
{
"cell_type" : "markdown",
"metadata" : {},
"source" : [""]
}
,
{
"cell_type" : "markdown",
"metadata" : {},
"source" : ["   + infinity"]
}
,
{
"cell_type" : "markdown",
"metadata" : {},
"source" : ["                    Type: Union(f1: OrderedCompletion Expression Integer,...)"]
}
,
{
"cell_type" : "code",
"execution_count": null,
"metadata" : {
    "collapsed" : false
},
"source" : ["in2485a:=integrate(log(1-z^(1/2))-acoth(z^(1/2)), z= 0..1,\"noPole\")"],
"outputs": []
}
,
{
"cell_type" : "markdown",
"metadata" : {},
"source" : [""]
}
,
{
"cell_type" : "markdown",
"metadata" : {},
"source" : ["         - log(16) + log(4) + 2log(2) - 10"]
}
,
{
"cell_type" : "markdown",
"metadata" : {},
"source" : ["         ---------------------------------"]
}
,
{
"cell_type" : "markdown",
"metadata" : {},
"source" : ["                         4"]
}
,
{
"cell_type" : "markdown",
"metadata" : {},
"source" : ["                    Type: Union(f1: OrderedCompletion Expression Integer,...)"]
}
,
{
"cell_type" : "code",
"execution_count": null,
"metadata" : {
    "collapsed" : false
},
"source" : ["in2521a:=integrate(acoth(z^(1/2))+cos(z^(1/2)-1), z= 0..1,\"noPole\")"],
"outputs": []
}
,
{
"cell_type" : "markdown",
"metadata" : {},
"source" : [""]
}
,
{
"cell_type" : "markdown",
"metadata" : {},
"source" : ["     - 2cos(1) + 3"]
}
,
{
"cell_type" : "markdown",
"metadata" : {},
"source" : ["                    Type: Union(f1: OrderedCompletion Expression Integer,...)"]
}
,
{
"cell_type" : "code",
"execution_count": null,
"metadata" : {
    "collapsed" : false
},
"source" : ["in2524a:=integrate(log(abs(1+1/z^(1/3)))+log(1+1/z), z= -1..0,\"noPole\")"],
"outputs": []
}
,
{
"cell_type" : "markdown",
"metadata" : {},
"source" : [""]
}
,
{
"cell_type" : "markdown",
"metadata" : {},
"source" : ["  - infinity"]
}
,
{
"cell_type" : "markdown",
"metadata" : {},
"source" : ["                    Type: Union(f1: OrderedCompletion Expression Integer,...)"]
}
,
{
"cell_type" : "code",
"execution_count": null,
"metadata" : {
    "collapsed" : false
},
"source" : ["in2527a:=integrate(1/(1+I*z^(1/3))+cosh(z), z= %minusInfinity..0,\"noPole\")"],
"outputs": []
}
,
{
"cell_type" : "markdown",
"metadata" : {},
"source" : [""]
}
,
{
"cell_type" : "markdown",
"metadata" : {},
"source" : ["   + infinity"]
}
,
{
"cell_type" : "markdown",
"metadata" : {},
"source" : ["                    Type: Union(f1: OrderedCompletion Expression Integer,...)"]
}
,
{
"cell_type" : "code",
"execution_count": null,
"metadata" : {
    "collapsed" : false
},
"source" : ["in2533a:=integrate(log(abs(1-1/z^(1/3)))-log(1-1/z), z= -1..0,\"noPole\")"],
"outputs": []
}
,
{
"cell_type" : "markdown",
"metadata" : {},
"source" : ["                                          3+---+2    3+---+"]
}
,
{
"cell_type" : "markdown",
"metadata" : {},
"source" : ["              3+---+2   3+---+            \|- 1   - 2\|- 1  + 1    3+---+2"]
}
,
{
"cell_type" : "markdown",
"metadata" : {},
"source" : ["       - log(3\|- 1   + \|- 1  - 1) + log(---------------------) + \|- 1"]
}
,
{
"cell_type" : "markdown",
"metadata" : {},
"source" : ["                                                 3+---+2"]
}
,
{
"cell_type" : "markdown",
"metadata" : {},
"source" : ["                                                 \|- 1"]
}
,
{
"cell_type" : "markdown",
"metadata" : {},
"source" : ["     +"]
}
,
{
"cell_type" : "markdown",
"metadata" : {},
"source" : ["        3+---+"]
}
,
{
"cell_type" : "markdown",
"metadata" : {},
"source" : ["       2\|- 1  - log(4)"]
}
,
{
"cell_type" : "markdown",
"metadata" : {},
"source" : ["  /"]
}
,
{
"cell_type" : "markdown",
"metadata" : {},
"source" : ["     2"]
}
,
{
"cell_type" : "markdown",
"metadata" : {},
"source" : ["                    Type: Union(f1: OrderedCompletion Expression Integer,...)"]
}
,
{
"cell_type" : "code",
"execution_count": null,
"metadata" : {
    "collapsed" : false
},
"source" : ["in2566a:=integrate(log(1+(1-z)^(1/2))+acoth(1-z), z= -1..1,\"noPole\")"],
"outputs": []
}
,
{
"cell_type" : "markdown",
"metadata" : {},
"source" : [""]
}
,
{
"cell_type" : "markdown",
"metadata" : {},
"source" : ["               +-+          +-+"]
}
,
{
"cell_type" : "markdown",
"metadata" : {},
"source" : ["         4log(\|2  + 1) + 4\|2  + 3log(9) - 4"]
}
,
{
"cell_type" : "markdown",
"metadata" : {},
"source" : ["         ------------------------------------"]
}
,
{
"cell_type" : "markdown",
"metadata" : {},
"source" : ["                           4"]
}
,
{
"cell_type" : "markdown",
"metadata" : {},
"source" : ["                    Type: Union(f1: OrderedCompletion Expression Integer,...)"]
}
,
{
"cell_type" : "code",
"execution_count": null,
"metadata" : {
    "collapsed" : false
},
"source" : ["in2567a:=integrate(1/(I*z)^(1/3)*log(abs(z-1)), z= 0..1/2*%pi,\"noPole\")"],
"outputs": []
}
,
{
"cell_type" : "markdown",
"metadata" : {},
"source" : [""]
}
,
{
"cell_type" : "markdown",
"metadata" : {},
"source" : ["                      3+---+3+-----+2     3+-+3+---+2 3+-----+   2 3+-+2"]
}
,
{
"cell_type" : "markdown",
"metadata" : {},
"source" : ["          3+-+2    - I\|- I \|I %pi   - 2I\|2 \|- I   \|I %pi + I  \|2"]
}
,
{
"cell_type" : "markdown",
"metadata" : {},
"source" : ["       6I \|2  log(----------------------------------------------------)"]
}
,
{
"cell_type" : "markdown",
"metadata" : {},
"source" : ["                                           3+-+2"]
}
,
{
"cell_type" : "markdown",
"metadata" : {},
"source" : ["                                           \|2"]
}
,
{
"cell_type" : "markdown",
"metadata" : {},
"source" : ["     +"]
}
,
{
"cell_type" : "markdown",
"metadata" : {},
"source" : ["       -"]
}
,
{
"cell_type" : "markdown",
"metadata" : {},
"source" : ["               3+-+2"]
}
,
{
"cell_type" : "markdown",
"metadata" : {},
"source" : ["            3I \|2"]
}
,
{
"cell_type" : "markdown",
"metadata" : {},
"source" : ["         *"]
}
,
{
"cell_type" : "markdown",
"metadata" : {},
"source" : ["            log"]
}
,
{
"cell_type" : "markdown",
"metadata" : {},
"source" : ["                       3+---+3+-----+2               3+-+3+---+2 3+-----+"]
}
,
{
"cell_type" : "markdown",
"metadata" : {},
"source" : ["                   - 6I\|- I \|I %pi   + (I %pi + 4I)\|2 \|- I   \|I %pi"]
}
,
{
"cell_type" : "markdown",
"metadata" : {},
"source" : ["                 +"]
}
,
{
"cell_type" : "markdown",
"metadata" : {},
"source" : ["                      2        2 3+-+2"]
}
,
{
"cell_type" : "markdown",
"metadata" : {},
"source" : ["                   (2I %pi + 2I )\|2"]
}
,
{
"cell_type" : "markdown",
"metadata" : {},
"source" : ["              /"]
}
,
{
"cell_type" : "markdown",
"metadata" : {},
"source" : ["                  3+-+2"]
}
,
{
"cell_type" : "markdown",
"metadata" : {},
"source" : ["                 2\|2"]
}
,
{
"cell_type" : "markdown",
"metadata" : {},
"source" : ["     +"]
}
,
{
"cell_type" : "markdown",
"metadata" : {},
"source" : ["                          3+---+2 3+-----+   3+-+"]
}
,
{
"cell_type" : "markdown",
"metadata" : {},
"source" : ["           3+-+2 +-+     2\|- I   \|I %pi + I\|2"]
}
,
{
"cell_type" : "markdown",
"metadata" : {},
"source" : ["       12I \|2  \|3 atan(------------------------)"]
}
,
{
"cell_type" : "markdown",
"metadata" : {},
"source" : ["                                  3+-+ +-+"]
}
,
{
"cell_type" : "markdown",
"metadata" : {},
"source" : ["                                 I\|2 \|3"]
}
,
{
"cell_type" : "markdown",
"metadata" : {},
"source" : ["     +"]
}
,
{
"cell_type" : "markdown",
"metadata" : {},
"source" : ["                2"]
}
,
{
"cell_type" : "markdown",
"metadata" : {},
"source" : ["             %pi  - 4%pi + 4       3+---+3+-----+2      3+-+2     2"]
}
,
{
"cell_type" : "markdown",
"metadata" : {},
"source" : ["       (6log(---------------) - 18)\|- I \|I %pi   - 3I \|2  log(I )"]
}
,
{
"cell_type" : "markdown",
"metadata" : {},
"source" : ["                    4"]
}
,
{
"cell_type" : "markdown",
"metadata" : {},
"source" : ["     +"]
}
,
{
"cell_type" : "markdown",
"metadata" : {},
"source" : ["                3+-+2 +-+"]
}
,
{
"cell_type" : "markdown",
"metadata" : {},
"source" : ["       - 2I %pi \|2  \|3"]
}
,
{
"cell_type" : "markdown",
"metadata" : {},
"source" : ["  /"]
}
,
{
"cell_type" : "markdown",
"metadata" : {},
"source" : ["        3+-+2 3+---+"]
}
,
{
"cell_type" : "markdown",
"metadata" : {},
"source" : ["     8I \|2   \|- I"]
}
,
{
"cell_type" : "markdown",
"metadata" : {},
"source" : ["                    Type: Union(f1: OrderedCompletion Expression Integer,...)"]
}
,
{
"cell_type" : "code",
"execution_count": null,
"metadata" : {
    "collapsed" : false
},
"source" : ["in2586a:=integrate(acoth(z^(1/2))+atan(z^(1/2)), z= 0..1,\"noPole\")"],
"outputs": []
}
,
{
"cell_type" : "markdown",
"metadata" : {},
"source" : [""]
}
,
{
"cell_type" : "markdown",
"metadata" : {},
"source" : ["         log(16) - log(4) - 2log(2) + 2%pi"]
}
,
{
"cell_type" : "markdown",
"metadata" : {},
"source" : ["         ---------------------------------"]
}
,
{
"cell_type" : "markdown",
"metadata" : {},
"source" : ["                         4"]
}
,
{
"cell_type" : "markdown",
"metadata" : {},
"source" : ["                    Type: Union(f1: OrderedCompletion Expression Integer,...)"]
}
,
{
"cell_type" : "code",
"execution_count": null,
"metadata" : {
    "collapsed" : false
},
"source" : ["in2591a:=integrate(log(z)/(1-z^(1/2))^3-log(z)*log(-z), z= 0..1,\"noPole\")"],
"outputs": []
}
,
{
"cell_type" : "markdown",
"metadata" : {},
"source" : [""]
}
,
{
"cell_type" : "markdown",
"metadata" : {},
"source" : ["  - infinity"]
}
,
{
"cell_type" : "markdown",
"metadata" : {},
"source" : ["                    Type: Union(f1: OrderedCompletion Expression Integer,...)"]
}
,
{
"cell_type" : "code",
"execution_count": null,
"metadata" : {
    "collapsed" : false
},
"source" : ["in2597a:=integrate((1+I/z)^(1/2)-log(1-1/z^2), z= 0..%plusInfinity,\"noPole\")"],
"outputs": []
}
,
{
"cell_type" : "markdown",
"metadata" : {},
"source" : [""]
}
,
{
"cell_type" : "markdown",
"metadata" : {},
"source" : ["   + infinity"]
}
,
{
"cell_type" : "markdown",
"metadata" : {},
"source" : ["                    Type: Union(f1: OrderedCompletion Expression Integer,...)"]
}
,
{
"cell_type" : "code",
"execution_count": null,
"metadata" : {
    "collapsed" : false
},
"source" : ["in2598a:=integrate(exp(-z^(1/2))+acoth(1-z^(1/2)), z= 0..1,\"noPole\")"],
"outputs": []
}
,
{
"cell_type" : "markdown",
"metadata" : {},
"source" : [""]
}
,
{
"cell_type" : "markdown",
"metadata" : {},
"source" : ["          %e log(4) + %e - 4"]
}
,
{
"cell_type" : "markdown",
"metadata" : {},
"source" : ["   (105)  ------------------"]
}
,
{
"cell_type" : "markdown",
"metadata" : {},
"source" : ["                  %e"]
}
,
{
"cell_type" : "markdown",
"metadata" : {},
"source" : ["                    Type: Union(f1: OrderedCompletion Expression Integer,...)"]
}
,
{
"cell_type" : "code",
"execution_count": null,
"metadata" : {
    "collapsed" : false
},
"source" : ["in2604a:=integrate(acoth(1-z^(1/2))+log(1+z^(1/3)), z= 1..2,\"noPole\")"],
"outputs": []
}
,
{
"cell_type" : "markdown",
"metadata" : {},
"source" : [""]
}
,
{
"cell_type" : "markdown",
"metadata" : {},
"source" : ["             6+-+2                6+-+3                6+-+3         6+-+4"]
}
,
{
"cell_type" : "markdown",
"metadata" : {},
"source" : ["       18log(\|2   + 1) + 3log(- 2\|2   + 3) - 6log(- 4\|2   + 6) + 3\|2"]
}
,
{
"cell_type" : "markdown",
"metadata" : {},
"source" : ["     +"]
}
,
{
"cell_type" : "markdown",
"metadata" : {},
"source" : ["          6+-+3    6+-+2"]
}
,
{
"cell_type" : "markdown",
"metadata" : {},
"source" : ["       - 6\|2   - 6\|2   - 12log(2) + 7"]
}
,
{
"cell_type" : "markdown",
"metadata" : {},
"source" : ["  /"]
}
,
{
"cell_type" : "markdown",
"metadata" : {},
"source" : ["     6"]
}
,
{
"cell_type" : "markdown",
"metadata" : {},
"source" : ["                    Type: Union(f1: OrderedCompletion Expression Integer,...)"]
}
,
{
"cell_type" : "code",
"execution_count": null,
"metadata" : {
    "collapsed" : false
},
"source" : ["in271a:=integrate(1/sqrt((z^2-1)*(z^2-1)), z= 2..%plusInfinity,\"noPole\")"],
"outputs": []
}
,
{
"cell_type" : "markdown",
"metadata" : {},
"source" : [""]
}
,
{
"cell_type" : "markdown",
"metadata" : {},
"source" : ["        log(9)"]
}
,
{
"cell_type" : "markdown",
"metadata" : {},
"source" : ["   (5)  ------"]
}
,
{
"cell_type" : "markdown",
"metadata" : {},
"source" : ["           4"]
}
,
{
"cell_type" : "markdown",
"metadata" : {},
"source" : ["                    Type: Union(f1: OrderedCompletion Expression Integer,...)"]
}
,
{
"cell_type" : "code",
"execution_count": null,
"metadata" : {
    "collapsed" : false
},
"source" : ["in275c:=integrate(sqrt(z), z= -I..I,\"noPole\")"],
"outputs": []
}
,
{
"cell_type" : "markdown",
"metadata" : {},
"source" : [""]
}
,
{
"cell_type" : "markdown",
"metadata" : {},
"source" : ["            +-+      +---+"]
}
,
{
"cell_type" : "markdown",
"metadata" : {},
"source" : ["         2I\|I  + 2I\|- I"]
}
,
{
"cell_type" : "markdown",
"metadata" : {},
"source" : ["   (11)  -----------------"]
}
,
{
"cell_type" : "markdown",
"metadata" : {},
"source" : ["                 3"]
}
,
{
"cell_type" : "markdown",
"metadata" : {},
"source" : ["                    Type: Union(f1: OrderedCompletion Expression Integer,...)"]
}
,
{
"cell_type" : "code",
"execution_count": null,
"metadata" : {
    "collapsed" : false
},
"source" : ["in275a:=integrate(1/(1+z), z= -I..I,\"noPole\")"],
"outputs": []
}
,
{
"cell_type" : "markdown",
"metadata" : {},
"source" : [""]
}
,
{
"cell_type" : "markdown",
"metadata" : {},
"source" : ["              2                  2"]
}
,
{
"cell_type" : "markdown",
"metadata" : {},
"source" : ["         log(I  + 2I + 1) - log(I  - 2I + 1)"]
}
,
{
"cell_type" : "markdown",
"metadata" : {},
"source" : ["   (13)  -----------------------------------"]
}
,
{
"cell_type" : "markdown",
"metadata" : {},
"source" : ["                          2"]
}
,
{
"cell_type" : "markdown",
"metadata" : {},
"source" : ["                    Type: Union(f1: OrderedCompletion Expression Integer,...)"]
}
,
{
"cell_type" : "code",
"execution_count": null,
"metadata" : {
    "collapsed" : false
},
"source" : ["in275b:=integrate(1/(1+z), z= -%i..%i,\"noPole\")"],
"outputs": []
}
,
{
"cell_type" : "markdown",
"metadata" : {},
"source" : [""]
}
,
{
"cell_type" : "markdown",
"metadata" : {},
"source" : ["         log(2%i) - log(- 2%i)"]
}
,
{
"cell_type" : "markdown",
"metadata" : {},
"source" : ["   (21)  ---------------------"]
}
,
{
"cell_type" : "markdown",
"metadata" : {},
"source" : ["                   2"]
}
,
{
"cell_type" : "markdown",
"metadata" : {},
"source" : ["            Type: Union(f1: OrderedCompletion Expression Complex Integer,...)"]
}
,
{
"cell_type" : "code",
"execution_count": null,
"metadata" : {
    "collapsed" : false
},
"source" : ["in276a:=integrate(log(1-z^(1/3)-z^(2/3)), z= 0..sqrt(5)-2,\"noPole\")"],
"outputs": []
}
,
{
"cell_type" : "markdown",
"metadata" : {},
"source" : [""]
}
,
{
"cell_type" : "markdown",
"metadata" : {},
"source" : ["           +-+"]
}
,
{
"cell_type" : "markdown",
"metadata" : {},
"source" : ["         3\|5"]
}
,
{
"cell_type" : "markdown",
"metadata" : {},
"source" : ["      *"]
}
,
{
"cell_type" : "markdown",
"metadata" : {},
"source" : ["         log"]
}
,
{
"cell_type" : "markdown",
"metadata" : {},
"source" : ["                                +--------+2                   +--------+"]
}
,
{
"cell_type" : "markdown",
"metadata" : {},
"source" : ["                   +-+      3| +-+               +-+      3| +-+          +-+"]
}
,
{
"cell_type" : "markdown",
"metadata" : {},
"source" : ["             (- 12\|5  - 36)\|\|5  - 2   + (- 20\|5  - 24)\|\|5  - 2  + 2\|5"]
}
,
{
"cell_type" : "markdown",
"metadata" : {},
"source" : ["           +"]
}
,
{
"cell_type" : "markdown",
"metadata" : {},
"source" : ["                - 38"]
}
,
{
"cell_type" : "markdown",
"metadata" : {},
"source" : ["         /"]
}
,
{
"cell_type" : "markdown",
"metadata" : {},
"source" : ["               +--------+2                +--------+"]
}
,
{
"cell_type" : "markdown",
"metadata" : {},
"source" : ["              3| +-+             +-+     3| +-+          +-+"]
}
,
{
"cell_type" : "markdown",
"metadata" : {},
"source" : ["              \|\|5  - 2   + (- \|5  + 4)\|\|5  - 2  - 2\|5  + 3"]
}
,
{
"cell_type" : "markdown",
"metadata" : {},
"source" : ["     +"]
}
,
{
"cell_type" : "markdown",
"metadata" : {},
"source" : ["                   +--------+2              +--------+"]
}
,
{
"cell_type" : "markdown",
"metadata" : {},
"source" : ["         +-+      3| +-+           +-+     3| +-+          +-+"]
}
,
{
"cell_type" : "markdown",
"metadata" : {},
"source" : ["       3\|5 log(- \|\|5  - 2   + (\|5  - 4)\|\|5  - 2  + 2\|5  - 3)"]
}
,
{
"cell_type" : "markdown",
"metadata" : {},
"source" : ["     +"]
}
,
{
"cell_type" : "markdown",
"metadata" : {},
"source" : ["         +--------+2      +--------+"]
}
,
{
"cell_type" : "markdown",
"metadata" : {},
"source" : ["        3| +-+           3| +-+          +-+      +-+           +-+"]
}
,
{
"cell_type" : "markdown",
"metadata" : {},
"source" : ["       3\|\|5  - 2   - 18\|\|5  - 2  - 3\|5 log(6\|5  + 14) - 4\|5  + 8"]
}
,
{
"cell_type" : "markdown",
"metadata" : {},
"source" : ["  /"]
}
,
{
"cell_type" : "markdown",
"metadata" : {},
"source" : ["     6"]
}
,
{
"cell_type" : "markdown",
"metadata" : {},
"source" : ["                    Type: Union(f1: OrderedCompletion Expression Integer,...)"]
}
,
{
"cell_type" : "code",
"execution_count": null,
"metadata" : {
    "collapsed" : false
},
"source" : ["in2634a:=integrate(1/(z^2+I*z-1)^(1/2)+log(abs(z-1)), z= -1..1,\"noPole\")"],
"outputs": []
}
,
{
"cell_type" : "markdown",
"metadata" : {},
"source" : [""]
}
,
{
"cell_type" : "markdown",
"metadata" : {},
"source" : ["                     +---+    2                            +-+    2"]
}
,
{
"cell_type" : "markdown",
"metadata" : {},
"source" : ["      log((- 4I + 8)\|- I  + I  - 8I + 4) - log((- 4I - 8)\|I  + I  + 8I + 4)"]
}
,
{
"cell_type" : "markdown",
"metadata" : {},
"source" : ["    +"]
}
,
{
"cell_type" : "markdown",
"metadata" : {},
"source" : ["      2log(4) - 4"]
}
,
{
"cell_type" : "markdown",
"metadata" : {},
"source" : [" /"]
}
,
{
"cell_type" : "markdown",
"metadata" : {},
"source" : ["    2"]
}
,
{
"cell_type" : "markdown",
"metadata" : {},
"source" : ["                   Type: Union(f1: OrderedCompletion Expression Integer,...)"]
}
,
{
"cell_type" : "code",
"execution_count": null,
"metadata" : {
    "collapsed" : false
},
"source" : ["in2656a:=integrate(acoth(1-(1-z)^(1/2))-log(1-1/z), z= -1..1,\"noPole\")"],
"outputs": []
}
,
{
"cell_type" : "markdown",
"metadata" : {},
"source" : [""]
}
,
{
"cell_type" : "markdown",
"metadata" : {},
"source" : ["            +-+            +-+                 +-+          +-+"]
}
,
{
"cell_type" : "markdown",
"metadata" : {},
"source" : ["   - 10log(\|2 ) + log(- 2\|2  + 3) - 3log(- 4\|2  + 6) - 4\|2  + 2log(4)"]
}
,
{
"cell_type" : "markdown",
"metadata" : {},
"source" : ["   ----------------------------------------------------------------------"]
}
,
{
"cell_type" : "markdown",
"metadata" : {},
"source" : ["                                      4"]
}
,
{
"cell_type" : "markdown",
"metadata" : {},
"source" : ["                    Type: Union(f1: OrderedCompletion Expression Integer,...)"]
}
,
{
"cell_type" : "code",
"execution_count": null,
"metadata" : {
    "collapsed" : false
},
"source" : ["in2676a:=integrate(acoth(1-(1-z)^(1/2))-log(1-1/z), z= -1..1,\"noPole\")"],
"outputs": []
}
,
{
"cell_type" : "markdown",
"metadata" : {},
"source" : [""]
}
,
{
"cell_type" : "markdown",
"metadata" : {},
"source" : ["            +-+            +-+                 +-+          +-+"]
}
,
{
"cell_type" : "markdown",
"metadata" : {},
"source" : ["   - 10log(\|2 ) + log(- 2\|2  + 3) - 3log(- 4\|2  + 6) - 4\|2  + 2log(4)"]
}
,
{
"cell_type" : "markdown",
"metadata" : {},
"source" : ["   ----------------------------------------------------------------------"]
}
,
{
"cell_type" : "markdown",
"metadata" : {},
"source" : ["                                      4"]
}
,
{
"cell_type" : "markdown",
"metadata" : {},
"source" : ["                    Type: Union(f1: OrderedCompletion Expression Integer,...)"]
}
,
{
"cell_type" : "code",
"execution_count": null,
"metadata" : {
    "collapsed" : false
},
"source" : ["in2664aa:=integrate(atanh(1/z)+(1+z^2)^(1/2), z= 0..%plusInfinity,\"noPole\")"],
"outputs": []
}
,
{
"cell_type" : "markdown",
"metadata" : {},
"source" : [""]
}
,
{
"cell_type" : "markdown",
"metadata" : {},
"source" : ["   + infinity"]
}
,
{
"cell_type" : "markdown",
"metadata" : {},
"source" : ["                    Type: Union(f1: OrderedCompletion Expression Integer,...)"]
}
,
{
"cell_type" : "code",
"execution_count": null,
"metadata" : {
    "collapsed" : false
},
"source" : ["in2681a:=integrate((z^2-I*z-3)^(1/2)+%pi-acot(z-1), z= -1..1,\"noPole\")"],
"outputs": []
}
,
{
"cell_type" : "markdown",
"metadata" : {},
"source" : [""]
}
,
{
"cell_type" : "markdown",
"metadata" : {},
"source" : ["                   4       2        +-------+     5      4      3       2"]
}
,
{
"cell_type" : "markdown",
"metadata" : {},
"source" : ["             (- 16I  - 128I  + 768)\|- I - 2  - 4I  + 24I  + 32I  + 320I"]
}
,
{
"cell_type" : "markdown",
"metadata" : {},
"source" : ["           +"]
}
,
{
"cell_type" : "markdown",
"metadata" : {},
"source" : ["             960I + 384"]
}
,
{
"cell_type" : "markdown",
"metadata" : {},
"source" : ["        *"]
}
,
{
"cell_type" : "markdown",
"metadata" : {},
"source" : ["            +-----+"]
}
,
{
"cell_type" : "markdown",
"metadata" : {},
"source" : ["           \|I - 2"]
}
,
{
"cell_type" : "markdown",
"metadata" : {},
"source" : ["       +"]
}
,
{
"cell_type" : "markdown",
"metadata" : {},
"source" : ["              5      4      3       2               +-------+    6      4"]
}
,
{
"cell_type" : "markdown",
"metadata" : {},
"source" : ["         (- 4I  - 24I  + 32I  - 320I  + 960I - 384)\|- I - 2  - I  + 60I"]
}
,
{
"cell_type" : "markdown",
"metadata" : {},
"source" : ["       +"]
}
,
{
"cell_type" : "markdown",
"metadata" : {},
"source" : ["             2"]
}
,
{
"cell_type" : "markdown",
"metadata" : {},
"source" : ["         848I  - 192"]
}
,
{
"cell_type" : "markdown",
"metadata" : {},
"source" : ["    *"]
}
,
{
"cell_type" : "markdown",
"metadata" : {},
"source" : ["                    +-----+    2"]
}
,
{
"cell_type" : "markdown",
"metadata" : {},
"source" : ["       log((4I + 8)\|I - 2  + I  + 8I - 4)"]
}
,
{
"cell_type" : "markdown",
"metadata" : {},
"source" : ["   +"]
}
,
{
"cell_type" : "markdown",
"metadata" : {},
"source" : ["                4       2        +-------+     5      4      3       2"]
}
,
{
"cell_type" : "markdown",
"metadata" : {},
"source" : ["            (16I  + 128I  - 768)\|- I - 2  + 4I  - 24I  - 32I  - 320I  - 960I"]
}
,
{
"cell_type" : "markdown",
"metadata" : {},
"source" : ["           +"]
}
,
{
"cell_type" : "markdown",
"metadata" : {},
"source" : ["             - 384"]
}
,
{
"cell_type" : "markdown",
"metadata" : {},
"source" : ["        *"]
}
,
{
"cell_type" : "markdown",
"metadata" : {},
"source" : ["            +-----+"]
}
,
{
"cell_type" : "markdown",
"metadata" : {},
"source" : ["           \|I - 2"]
}
,
{
"cell_type" : "markdown",
"metadata" : {},
"source" : ["       +"]
}
,
{
"cell_type" : "markdown",
"metadata" : {},
"source" : ["            5      4      3       2               +-------+    6      4"]
}
,
{
"cell_type" : "markdown",
"metadata" : {},
"source" : ["         (4I  + 24I  - 32I  + 320I  - 960I + 384)\|- I - 2  + I  - 60I"]
}
,
{
"cell_type" : "markdown",
"metadata" : {},
"source" : ["       +"]
}
,
{
"cell_type" : "markdown",
"metadata" : {},
"source" : ["               2"]
}
,
{
"cell_type" : "markdown",
"metadata" : {},
"source" : ["         - 848I  + 192"]
}
,
{
"cell_type" : "markdown",
"metadata" : {},
"source" : ["    *"]
}
,
{
"cell_type" : "markdown",
"metadata" : {},
"source" : ["                    +-------+    2"]
}
,
{
"cell_type" : "markdown",
"metadata" : {},
"source" : ["       log((4I - 8)\|- I - 2  + I  - 8I - 4)"]
}
,
{
"cell_type" : "markdown",
"metadata" : {},
"source" : ["   +"]
}
,
{
"cell_type" : "markdown",
"metadata" : {},
"source" : ["                 2                      2             4         2"]
}
,
{
"cell_type" : "markdown",
"metadata" : {},
"source" : ["             (64I  - 256)log(25) + (256I  - 1024)atan(-) + (512I  - 2048)%pi"]
}
,
{
"cell_type" : "markdown",
"metadata" : {},
"source" : ["                                                      3"]
}
,
{
"cell_type" : "markdown",
"metadata" : {},
"source" : ["           +"]
}
,
{
"cell_type" : "markdown",
"metadata" : {},
"source" : ["                 3"]
}
,
{
"cell_type" : "markdown",
"metadata" : {},
"source" : ["             256I  - 1024I"]
}
,
{
"cell_type" : "markdown",
"metadata" : {},
"source" : ["        *"]
}
,
{
"cell_type" : "markdown",
"metadata" : {},
"source" : ["            +-------+"]
}
,
{
"cell_type" : "markdown",
"metadata" : {},
"source" : ["           \|- I - 2"]
}
,
{
"cell_type" : "markdown",
"metadata" : {},
"source" : ["       +"]
}
,
{
"cell_type" : "markdown",
"metadata" : {},
"source" : ["             3      2"]
}
,
{
"cell_type" : "markdown",
"metadata" : {},
"source" : ["         (16I  - 96I  - 320I - 128)log(25)"]
}
,
{
"cell_type" : "markdown",
"metadata" : {},
"source" : ["       +"]
}
,
{
"cell_type" : "markdown",
"metadata" : {},
"source" : ["             3       2                    4"]
}
,
{
"cell_type" : "markdown",
"metadata" : {},
"source" : ["         (64I  - 384I  - 1280I - 512)atan(-)"]
}
,
{
"cell_type" : "markdown",
"metadata" : {},
"source" : ["                                          3"]
}
,
{
"cell_type" : "markdown",
"metadata" : {},
"source" : ["       +"]
}
,
{
"cell_type" : "markdown",
"metadata" : {},
"source" : ["             3       2                        5      4       3        2"]
}
,
{
"cell_type" : "markdown",
"metadata" : {},
"source" : ["        (128I  - 768I  - 2560I - 1024)%pi + 4I  + 72I  - 288I  - 1088I  + 64I"]
}
,
{
"cell_type" : "markdown",
"metadata" : {},
"source" : ["       +"]
}
,
{
"cell_type" : "markdown",
"metadata" : {},
"source" : ["         1152"]
}
,
{
"cell_type" : "markdown",
"metadata" : {},
"source" : ["    *"]
}
,
{
"cell_type" : "markdown",
"metadata" : {},
"source" : ["        +-----+"]
}
,
{
"cell_type" : "markdown",
"metadata" : {},
"source" : ["       \|I - 2"]
}
,
{
"cell_type" : "markdown",
"metadata" : {},
"source" : ["   +"]
}
,
{
"cell_type" : "markdown",
"metadata" : {},
"source" : ["             3      2"]
}
,
{
"cell_type" : "markdown",
"metadata" : {},
"source" : ["         (16I  + 96I  - 320I + 128)log(25)"]
}
,
{
"cell_type" : "markdown",
"metadata" : {},
"source" : ["       +"]
}
,
{
"cell_type" : "markdown",
"metadata" : {},
"source" : ["             3       2                    4"]
}
,
{
"cell_type" : "markdown",
"metadata" : {},
"source" : ["         (64I  + 384I  - 1280I + 512)atan(-)"]
}
,
{
"cell_type" : "markdown",
"metadata" : {},
"source" : ["                                          3"]
}
,
{
"cell_type" : "markdown",
"metadata" : {},
"source" : ["       +"]
}
,
{
"cell_type" : "markdown",
"metadata" : {},
"source" : ["             3       2                        5      4       3        2"]
}
,
{
"cell_type" : "markdown",
"metadata" : {},
"source" : ["        (128I  + 768I  - 2560I + 1024)%pi - 4I  + 72I  + 288I  - 1088I  - 64I"]
}
,
{
"cell_type" : "markdown",
"metadata" : {},
"source" : ["       +"]
}
,
{
"cell_type" : "markdown",
"metadata" : {},
"source" : ["         1152"]
}
,
{
"cell_type" : "markdown",
"metadata" : {},
"source" : ["    *"]
}
,
{
"cell_type" : "markdown",
"metadata" : {},
"source" : ["        +-------+"]
}
,
{
"cell_type" : "markdown",
"metadata" : {},
"source" : ["       \|- I - 2"]
}
,
{
"cell_type" : "markdown",
"metadata" : {},
"source" : ["   +"]
}
,
{
"cell_type" : "markdown",
"metadata" : {},
"source" : ["        4       2                    4        2            4"]
}
,
{
"cell_type" : "markdown",
"metadata" : {},
"source" : ["     (4I  - 288I  + 64)log(25) + (16I  - 1152I  + 256)atan(-)"]
}
,
{
"cell_type" : "markdown",
"metadata" : {},
"source" : ["                                                           3"]
}
,
{
"cell_type" : "markdown",
"metadata" : {},
"source" : ["   +"]
}
,
{
"cell_type" : "markdown",
"metadata" : {},
"source" : ["         4        2                5       3"]
}
,
{
"cell_type" : "markdown",
"metadata" : {},
"source" : ["     (32I  - 2304I  + 512)%pi + 32I  - 768I  + 2560I"]
}
,
{
"cell_type" : "markdown",
"metadata" : {},
"source" : [" /"]
}
,
{
"cell_type" : "markdown",
"metadata" : {},
"source" : ["           2         +-------+      3       2                +-----+"]
}
,
{
"cell_type" : "markdown",
"metadata" : {},
"source" : ["     ((256I  - 1024)\|- I - 2  + 64I  - 384I  - 1280I - 512)\|I - 2"]
}
,
{
"cell_type" : "markdown",
"metadata" : {},
"source" : ["   +"]
}
,
{
"cell_type" : "markdown",
"metadata" : {},
"source" : ["         3       2                +-------+      4        2"]
}
,
{
"cell_type" : "markdown",
"metadata" : {},
"source" : ["     (64I  + 384I  - 1280I + 512)\|- I - 2  + 16I  - 1152I  + 256"]
}
,
{
"cell_type" : "markdown",
"metadata" : {},
"source" : ["                  Type: Union(f1: OrderedCompletion Expression Integer,...)"]
}
,
{
"cell_type" : "code",
"execution_count": null,
"metadata" : {
    "collapsed" : false
},
"source" : ["in2691a:=integrate(1/(z^2+I*z-1)^(1/2)+(1-I*z)^(1/2), z= -1..1,\"noPole\")"],
"outputs": []
}
,
{
"cell_type" : "markdown",
"metadata" : {},
"source" : [""]
}
,
{
"cell_type" : "markdown",
"metadata" : {},
"source" : ["                         +---+    2"]
}
,
{
"cell_type" : "markdown",
"metadata" : {},
"source" : ["       3I log((- 4I + 8)\|- I  + I  - 8I + 4)"]
}
,
{
"cell_type" : "markdown",
"metadata" : {},
"source" : ["     +"]
}
,
{
"cell_type" : "markdown",
"metadata" : {},
"source" : ["                           +-+    2                      +-----+"]
}
,
{
"cell_type" : "markdown",
"metadata" : {},
"source" : ["       - 3I log((- 4I - 8)\|I  + I  + 8I + 4) + (4I + 4)\|I + 1"]
}
,
{
"cell_type" : "markdown",
"metadata" : {},
"source" : ["     +"]
}
,
{
"cell_type" : "markdown",
"metadata" : {},
"source" : ["                +-------+"]
}
,
{
"cell_type" : "markdown",
"metadata" : {},
"source" : ["       (4I - 4)\|- I + 1"]
}
,
{
"cell_type" : "markdown",
"metadata" : {},
"source" : ["  /"]
}
,
{
"cell_type" : "markdown",
"metadata" : {},
"source" : ["     6I"]
}
,
{
"cell_type" : "markdown",
"metadata" : {},
"source" : ["                    Type: Union(f1: OrderedCompletion Expression Integer,...)"]
}
,
{
"cell_type" : "code",
"execution_count": null,
"metadata" : {
    "collapsed" : false
},
"source" : ["in2720a:=integrate(acoth(1-(1-z)^(1/2))+atan(z-1), z= 0..1,\"noPole\")"],
"outputs": []
}
,
{
"cell_type" : "markdown",
"metadata" : {},
"source" : [""]
}
,
{
"cell_type" : "markdown",
"metadata" : {},
"source" : ["          5log(4) - %pi - 4"]
}
,
{
"cell_type" : "markdown",
"metadata" : {},
"source" : ["          -----------------"]
}
,
{
"cell_type" : "markdown",
"metadata" : {},
"source" : ["                  4"]
}
,
{
"cell_type" : "markdown",
"metadata" : {},
"source" : ["                    Type: Union(f1: OrderedCompletion Expression Integer,...)"]
}
,
{
"cell_type" : "code",
"execution_count": null,
"metadata" : {
    "collapsed" : false
},
"source" : ["in2724a:=integrate(log(1-1/z^3)-(1+1/z^2)^(1/2), z= 0..%plusInfinity,\"noPole\")"],
"outputs": []
}
,
{
"cell_type" : "markdown",
"metadata" : {},
"source" : [""]
}
,
{
"cell_type" : "markdown",
"metadata" : {},
"source" : ["  - infinity"]
}
,
{
"cell_type" : "markdown",
"metadata" : {},
"source" : ["                    Type: Union(f1: OrderedCompletion Expression Integer,...)"]
}
,
{
"cell_type" : "code",
"execution_count": null,
"metadata" : {
    "collapsed" : false
},
"source" : ["in2732:=integrate(atan(1/3*3^(1/2)*(2*z-1)), z= 0..%plusInfinity)"],
"outputs": []
}
,
{
"cell_type" : "markdown",
"metadata" : {},
"source" : [""]
}
,
{
"cell_type" : "markdown",
"metadata" : {},
"source" : ["  - infinity"]
}
,
{
"cell_type" : "markdown",
"metadata" : {},
"source" : ["                    Type: Union(f1: OrderedCompletion Expression Integer,...)"]
}
,
{
"cell_type" : "code",
"execution_count": null,
"metadata" : {
    "collapsed" : false
},
"source" : ["in2783a:=integrate(1/z^(1/3)+atanh(1/z^(1/2)), z= 0..%plusInfinity,\"noPole\")"],
"outputs": []
}
,
{
"cell_type" : "markdown",
"metadata" : {},
"source" : [""]
}
,
{
"cell_type" : "markdown",
"metadata" : {},
"source" : ["   + infinity"]
}
,
{
"cell_type" : "markdown",
"metadata" : {},
"source" : ["                    Type: Union(f1: OrderedCompletion Expression Integer,...)"]
}
,
{
"cell_type" : "code",
"execution_count": null,
"metadata" : {
    "collapsed" : false
},
"source" : ["in2815a:=integrate((I*z)^(1/2)-(1+1/(I*z)^(1/2))^(1/2), z= -1..1,\"noPole\")"],
"outputs": []
}
,
{
"cell_type" : "markdown",
"metadata" : {},
"source" : [""]
}
,
{
"cell_type" : "markdown",
"metadata" : {},
"source" : ["               +----------+              +--------+"]
}
,
{
"cell_type" : "markdown",
"metadata" : {},
"source" : ["               | +---+                   | +-+"]
}
,
{
"cell_type" : "markdown",
"metadata" : {},
"source" : ["               |\|- I  + 1               |\|I  + 1"]
}
,
{
"cell_type" : "markdown",
"metadata" : {},
"source" : ["       - 6log( |----------  + 1) + 6log( |--------  + 1)"]
}
,
{
"cell_type" : "markdown",
"metadata" : {},
"source" : ["               |   +---+                 |   +-+"]
}
,
{
"cell_type" : "markdown",
"metadata" : {},
"source" : ["              \|  \|- I                 \|  \|I"]
}
,
{
"cell_type" : "markdown",
"metadata" : {},
"source" : ["     +"]
}
,
{
"cell_type" : "markdown",
"metadata" : {},
"source" : ["                      +--------+"]
}
,
{
"cell_type" : "markdown",
"metadata" : {},
"source" : ["                      | +-+"]
}
,
{
"cell_type" : "markdown",
"metadata" : {},
"source" : ["                  +-+ |\|I  + 1      +-+"]
}
,
{
"cell_type" : "markdown",
"metadata" : {},
"source" : ["              - 2\|I  |--------  + 2\|I  + 1"]
}
,
{
"cell_type" : "markdown",
"metadata" : {},
"source" : ["                      |   +-+"]
}
,
{
"cell_type" : "markdown",
"metadata" : {},
"source" : ["                     \|  \|I"]
}
,
{
"cell_type" : "markdown",
"metadata" : {},
"source" : ["       - 3log(------------------------------)"]
}
,
{
"cell_type" : "markdown",
"metadata" : {},
"source" : ["                            +-+"]
}
,
{
"cell_type" : "markdown",
"metadata" : {},
"source" : ["                           \|I"]
}
,
{
"cell_type" : "markdown",
"metadata" : {},
"source" : ["     +"]
}
,
{
"cell_type" : "markdown",
"metadata" : {},
"source" : ["                      +----------+"]
}
,
{
"cell_type" : "markdown",
"metadata" : {},
"source" : ["                      | +---+"]
}
,
{
"cell_type" : "markdown",
"metadata" : {},
"source" : ["                +---+ |\|- I  + 1      +---+"]
}
,
{
"cell_type" : "markdown",
"metadata" : {},
"source" : ["            - 2\|- I  |----------  + 2\|- I  + 1"]
}
,
{
"cell_type" : "markdown",
"metadata" : {},
"source" : ["                      |   +---+"]
}
,
{
"cell_type" : "markdown",
"metadata" : {},
"source" : ["                     \|  \|- I"]
}
,
{
"cell_type" : "markdown",
"metadata" : {},
"source" : ["       3log(------------------------------------)"]
}
,
{
"cell_type" : "markdown",
"metadata" : {},
"source" : ["                            +---+"]
}
,
{
"cell_type" : "markdown",
"metadata" : {},
"source" : ["                           \|- I"]
}
,
{
"cell_type" : "markdown",
"metadata" : {},
"source" : ["     +"]
}
,
{
"cell_type" : "markdown",
"metadata" : {},
"source" : ["                        +----------+                    +--------+"]
}
,
{
"cell_type" : "markdown",
"metadata" : {},
"source" : ["                        | +---+                         | +-+"]
}
,
{
"cell_type" : "markdown",
"metadata" : {},
"source" : ["           +---+        |\|- I  + 1          +-+        |\|I  + 1        +-+"]
}
,
{
"cell_type" : "markdown",
"metadata" : {},
"source" : ["       (12\|- I  - 24I) |----------  + (- 12\|I  - 24I) |--------  + 16I\|I"]
}
,
{
"cell_type" : "markdown",
"metadata" : {},
"source" : ["                        |   +---+                       |   +-+"]
}
,
{
"cell_type" : "markdown",
"metadata" : {},
"source" : ["                       \|  \|- I                       \|  \|I"]
}
,
{
"cell_type" : "markdown",
"metadata" : {},
"source" : ["     +"]
}
,
{
"cell_type" : "markdown",
"metadata" : {},
"source" : ["           +---+"]
}
,
{
"cell_type" : "markdown",
"metadata" : {},
"source" : ["       16I\|- I"]
}
,
{
"cell_type" : "markdown",
"metadata" : {},
"source" : ["  /"]
}
,
{
"cell_type" : "markdown",
"metadata" : {},
"source" : ["     24I"]
}
,
{
"cell_type" : "markdown",
"metadata" : {},
"source" : ["                    Type: Union(f1: OrderedCompletion Expression Integer,...)"]
}
,
{
"cell_type" : "code",
"execution_count": null,
"metadata" : {
    "collapsed" : false
},
"source" : ["in285:=integrate(sqrt(1+sqrt(z-1)), z)"],
"outputs": []
}
,
{
"cell_type" : "markdown",
"metadata" : {},
"source" : [""]
}
,
{
"cell_type" : "markdown",
"metadata" : {},
"source" : ["                                +------------+"]
}
,
{
"cell_type" : "markdown",
"metadata" : {},
"source" : ["            +-----+             | +-----+"]
}
,
{
"cell_type" : "markdown",
"metadata" : {},
"source" : ["         (4\|z - 1  + 12z - 20)\|\|z - 1  + 1"]
}
,
{
"cell_type" : "markdown",
"metadata" : {},
"source" : ["         -------------------------------------"]
}
,
{
"cell_type" : "markdown",
"metadata" : {},
"source" : ["                           15"]
}
,
{
"cell_type" : "markdown",
"metadata" : {},
"source" : ["                                          Type: Union(Expression Integer,...)"]
}
,
{
"cell_type" : "code",
"execution_count": null,
"metadata" : {
    "collapsed" : false
},
"source" : ["in295a:=integrate(z*sqrt(1+sqrt(z^2-1)), z)"],
"outputs": []
}
,
{
"cell_type" : "markdown",
"metadata" : {},
"source" : [""]
}
,
{
"cell_type" : "markdown",
"metadata" : {},
"source" : ["                                 +-------------+"]
}
,
{
"cell_type" : "markdown",
"metadata" : {},
"source" : ["            +------+             | +------+"]
}
,
{
"cell_type" : "markdown",
"metadata" : {},
"source" : ["            | 2          2       | | 2"]
}
,
{
"cell_type" : "markdown",
"metadata" : {},
"source" : ["         (2\|z  - 1  + 6z  - 10)\|\|z  - 1  + 1"]
}
,
{
"cell_type" : "markdown",
"metadata" : {},
"source" : ["         ---------------------------------------"]
}
,
{
"cell_type" : "markdown",
"metadata" : {},
"source" : ["                            15"]
}
,
{
"cell_type" : "markdown",
"metadata" : {},
"source" : ["                                          Type: Union(Expression Integer,...)"]
}
,
{
"cell_type" : "code",
"execution_count": null,
"metadata" : {
    "collapsed" : false
},
"source" : ["in295ba:=integrate(z*sqrt(1+sqrt(z^2-1)), z= 1..sqrt(2),\"noPole\")"],
"outputs": []
}
,
{
"cell_type" : "markdown",
"metadata" : {},
"source" : [""]
}
,
{
"cell_type" : "markdown",
"metadata" : {},
"source" : ["           +-+"]
}
,
{
"cell_type" : "markdown",
"metadata" : {},
"source" : ["         4\|2  + 4"]
}
,
{
"cell_type" : "markdown",
"metadata" : {},
"source" : ["         ---------"]
}
,
{
"cell_type" : "markdown",
"metadata" : {},
"source" : ["             15"]
}
,
{
"cell_type" : "markdown",
"metadata" : {},
"source" : ["                    Type: Union(f1: OrderedCompletion Expression Integer,...)"]
}
,
{
"cell_type" : "code",
"execution_count": null,
"metadata" : {
    "collapsed" : false
},
"source" : ["integrate(1/sqrt(20+x^2+y^2), x = -5..5,\"noPole\")"],
"outputs": []
}
,
{
"cell_type" : "markdown",
"metadata" : {},
"source" : [""]
}
,
{
"cell_type" : "markdown",
"metadata" : {},
"source" : ["                +-------+                       +-------+"]
}
,
{
"cell_type" : "markdown",
"metadata" : {},
"source" : ["                | 2          2                  | 2          2"]
}
,
{
"cell_type" : "markdown",
"metadata" : {},
"source" : ["         log(10\|y  + 45  + y  + 70) - log(- 10\|y  + 45  + y  + 70)"]
}
,
{
"cell_type" : "markdown",
"metadata" : {},
"source" : ["         -----------------------------------------------------------"]
}
,
{
"cell_type" : "markdown",
"metadata" : {},
"source" : ["                                      2"]
}
,
{
"cell_type" : "markdown",
"metadata" : {},
"source" : ["                    Type: Union(f1: OrderedCompletion Expression Integer,...)"]
}
,
{
"cell_type" : "markdown",
"metadata" : {},
"source" : [""]
}
,
{
"cell_type" : "code",
"execution_count": null,
"metadata" : {
    "collapsed" : false
},
"source" : ["in291:=integrate(cos(2*atan(z-sqrt(2)))-sin(2*atan(z-sqrt(2))), z = 0..%plusInfinity)"],
"outputs": []
}
,
{
"cell_type" : "markdown",
"metadata" : {},
"source" : [""]
}
,
{
"cell_type" : "markdown",
"metadata" : {},
"source" : ["  - infinity"]
}
,
{
"cell_type" : "markdown",
"metadata" : {},
"source" : ["                    Type: Union(f1: OrderedCompletion Expression Integer,...)"]
}
,
{
"cell_type" : "code",
"execution_count": null,
"metadata" : {
    "collapsed" : false
},
"source" : ["in2924a:=integrate(1/(I*z)^(1/2)+(1+1/(I*z)^(1/2))^(1/2), z= -1..1,\"noPole\")"],
"outputs": []
}
,
{
"cell_type" : "markdown",
"metadata" : {},
"source" : [""]
}
,
{
"cell_type" : "markdown",
"metadata" : {},
"source" : ["                       +----------+                        +--------+"]
}
,
{
"cell_type" : "markdown",
"metadata" : {},
"source" : ["                       | +---+                             | +-+"]
}
,
{
"cell_type" : "markdown",
"metadata" : {},
"source" : ["         +---+ +-+     |\|- I  + 1           +---+ +-+     |\|I  + 1"]
}
,
{
"cell_type" : "markdown",
"metadata" : {},
"source" : ["       2\|- I \|I log( |----------  + 1) - 2\|- I \|I log( |--------  + 1)"]
}
,
{
"cell_type" : "markdown",
"metadata" : {},
"source" : ["                       |   +---+                           |   +-+"]
}
,
{
"cell_type" : "markdown",
"metadata" : {},
"source" : ["                      \|  \|- I                           \|  \|I"]
}
,
{
"cell_type" : "markdown",
"metadata" : {},
"source" : ["     +"]
}
,
{
"cell_type" : "markdown",
"metadata" : {},
"source" : ["                             +--------+"]
}
,
{
"cell_type" : "markdown",
"metadata" : {},
"source" : ["                             | +-+"]
}
,
{
"cell_type" : "markdown",
"metadata" : {},
"source" : ["                         +-+ |\|I  + 1      +-+"]
}
,
{
"cell_type" : "markdown",
"metadata" : {},
"source" : ["                     - 2\|I  |--------  + 2\|I  + 1"]
}
,
{
"cell_type" : "markdown",
"metadata" : {},
"source" : ["                             |   +-+"]
}
,
{
"cell_type" : "markdown",
"metadata" : {},
"source" : ["        +---+ +-+           \|  \|I"]
}
,
{
"cell_type" : "markdown",
"metadata" : {},
"source" : ["       \|- I \|I log(------------------------------)"]
}
,
{
"cell_type" : "markdown",
"metadata" : {},
"source" : ["                                   +-+"]
}
,
{
"cell_type" : "markdown",
"metadata" : {},
"source" : ["                                  \|I"]
}
,
{
"cell_type" : "markdown",
"metadata" : {},
"source" : ["     +"]
}
,
{
"cell_type" : "markdown",
"metadata" : {},
"source" : ["                                 +----------+"]
}
,
{
"cell_type" : "markdown",
"metadata" : {},
"source" : ["                                 | +---+"]
}
,
{
"cell_type" : "markdown",
"metadata" : {},
"source" : ["                           +---+ |\|- I  + 1      +---+"]
}
,
{
"cell_type" : "markdown",
"metadata" : {},
"source" : ["                       - 2\|- I  |----------  + 2\|- I  + 1"]
}
,
{
"cell_type" : "markdown",
"metadata" : {},
"source" : ["                                 |   +---+"]
}
,
{
"cell_type" : "markdown",
"metadata" : {},
"source" : ["          +---+ +-+             \|  \|- I"]
}
,
{
"cell_type" : "markdown",
"metadata" : {},
"source" : ["       - \|- I \|I log(------------------------------------)"]
}
,
{
"cell_type" : "markdown",
"metadata" : {},
"source" : ["                                       +---+"]
}
,
{
"cell_type" : "markdown",
"metadata" : {},
"source" : ["                                      \|- I"]
}
,
{
"cell_type" : "markdown",
"metadata" : {},
"source" : ["     +"]
}
,
{
"cell_type" : "markdown",
"metadata" : {},
"source" : ["                          +----------+                             +--------+"]
}
,
{
"cell_type" : "markdown",
"metadata" : {},
"source" : ["                          | +---+                                  | +-+"]
}
,
{
"cell_type" : "markdown",
"metadata" : {},
"source" : ["          +---+       +-+ |\|- I  + 1        +---+ +-+      +---+  |\|I  + 1"]
}
,
{
"cell_type" : "markdown",
"metadata" : {},
"source" : ["      (8I\|- I  + 4I)\|I  |----------  + (8I\|- I \|I  + 4I\|- I ) |--------"]
}
,
{
"cell_type" : "markdown",
"metadata" : {},
"source" : ["                          |   +---+                                |   +-+"]
}
,
{
"cell_type" : "markdown",
"metadata" : {},
"source" : ["                         \|  \|- I                                \|  \|I"]
}
,
{
"cell_type" : "markdown",
"metadata" : {},
"source" : ["     +"]
}
,
{
"cell_type" : "markdown",
"metadata" : {},
"source" : ["           +-+       +---+"]
}
,
{
"cell_type" : "markdown",
"metadata" : {},
"source" : ["       16I\|I  + 16I\|- I"]
}
,
{
"cell_type" : "markdown",
"metadata" : {},
"source" : ["  /"]
}
,
{
"cell_type" : "markdown",
"metadata" : {},
"source" : ["        +---+ +-+"]
}
,
{
"cell_type" : "markdown",
"metadata" : {},
"source" : ["     8I\|- I \|I"]
}
,
{
"cell_type" : "markdown",
"metadata" : {},
"source" : ["                    Type: Union(f1: OrderedCompletion Expression Integer,...)"]
}
,
{
"cell_type" : "code",
"execution_count": null,
"metadata" : {
    "collapsed" : false
},
"source" : ["in2963a:=integrate(cosh(-1+(1-z)^(1/2))+(z^2+I*z-3)^(1/2), z= -1..1,\"noPole\")"],
"outputs": []
}
,
{
"cell_type" : "markdown",
"metadata" : {},
"source" : [""]
}
,
{
"cell_type" : "markdown",
"metadata" : {},
"source" : ["                                           +-+"]
}
,
{
"cell_type" : "markdown",
"metadata" : {},
"source" : ["                     4       2            \|2  - 1 +-------+"]
}
,
{
"cell_type" : "markdown",
"metadata" : {},
"source" : ["               (- 16I  - 128I  + 768)%e %e        \|- I - 2"]
}
,
{
"cell_type" : "markdown",
"metadata" : {},
"source" : ["             +"]
}
,
{
"cell_type" : "markdown",
"metadata" : {},
"source" : ["                                                             +-+"]
}
,
{
"cell_type" : "markdown",
"metadata" : {},
"source" : ["                  5      4      3       2                   \|2  - 1"]
}
,
{
"cell_type" : "markdown",
"metadata" : {},
"source" : ["               (4I  - 24I  - 32I  - 320I  - 960I - 384)%e %e"]
}
,
{
"cell_type" : "markdown",
"metadata" : {},
"source" : ["          *"]
}
,
{
"cell_type" : "markdown",
"metadata" : {},
"source" : ["              +-----+"]
}
,
{
"cell_type" : "markdown",
"metadata" : {},
"source" : ["             \|I - 2"]
}
,
{
"cell_type" : "markdown",
"metadata" : {},
"source" : ["         +"]
}
,
{
"cell_type" : "markdown",
"metadata" : {},
"source" : ["                                                         +-+"]
}
,
{
"cell_type" : "markdown",
"metadata" : {},
"source" : ["              5      4      3       2                   \|2  - 1 +-------+"]
}
,
{
"cell_type" : "markdown",
"metadata" : {},
"source" : ["           (4I  + 24I  - 32I  + 320I  - 960I + 384)%e %e        \|- I - 2"]
}
,
{
"cell_type" : "markdown",
"metadata" : {},
"source" : ["         +"]
}
,
{
"cell_type" : "markdown",
"metadata" : {},
"source" : ["                                            +-+"]
}
,
{
"cell_type" : "markdown",
"metadata" : {},
"source" : ["               6      4       2            \|2  - 1"]
}
,
{
"cell_type" : "markdown",
"metadata" : {},
"source" : ["           (- I  + 60I  + 848I  - 192)%e %e"]
}
,
{
"cell_type" : "markdown",
"metadata" : {},
"source" : ["      *"]
}
,
{
"cell_type" : "markdown",
"metadata" : {},
"source" : ["                        +-------+    2"]
}
,
{
"cell_type" : "markdown",
"metadata" : {},
"source" : ["         log((- 4I + 8)\|- I - 2  + I  - 8I - 4)"]
}
,
{
"cell_type" : "markdown",
"metadata" : {},
"source" : ["     +"]
}
,
{
"cell_type" : "markdown",
"metadata" : {},
"source" : ["                                         +-+"]
}
,
{
"cell_type" : "markdown",
"metadata" : {},
"source" : ["                   4       2            \|2  - 1 +-------+"]
}
,
{
"cell_type" : "markdown",
"metadata" : {},
"source" : ["               (16I  + 128I  - 768)%e %e        \|- I - 2"]
}
,
{
"cell_type" : "markdown",
"metadata" : {},
"source" : ["             +"]
}
,
{
"cell_type" : "markdown",
"metadata" : {},
"source" : ["                                                               +-+"]
}
,
{
"cell_type" : "markdown",
"metadata" : {},
"source" : ["                    5      4      3       2                   \|2  - 1"]
}
,
{
"cell_type" : "markdown",
"metadata" : {},
"source" : ["               (- 4I  + 24I  + 32I  + 320I  + 960I + 384)%e %e"]
}
,
{
"cell_type" : "markdown",
"metadata" : {},
"source" : ["          *"]
}
,
{
"cell_type" : "markdown",
"metadata" : {},
"source" : ["              +-----+"]
}
,
{
"cell_type" : "markdown",
"metadata" : {},
"source" : ["             \|I - 2"]
}
,
{
"cell_type" : "markdown",
"metadata" : {},
"source" : ["         +"]
}
,
{
"cell_type" : "markdown",
"metadata" : {},
"source" : ["                                                           +-+"]
}
,
{
"cell_type" : "markdown",
"metadata" : {},
"source" : ["                5      4      3       2                   \|2  - 1 +-------+"]
}
,
{
"cell_type" : "markdown",
"metadata" : {},
"source" : ["           (- 4I  - 24I  + 32I  - 320I  + 960I - 384)%e %e        \|- I - 2"]
}
,
{
"cell_type" : "markdown",
"metadata" : {},
"source" : ["         +"]
}
,
{
"cell_type" : "markdown",
"metadata" : {},
"source" : ["                                          +-+"]
}
,
{
"cell_type" : "markdown",
"metadata" : {},
"source" : ["             6      4       2            \|2  - 1"]
}
,
{
"cell_type" : "markdown",
"metadata" : {},
"source" : ["           (I  - 60I  - 848I  + 192)%e %e"]
}
,
{
"cell_type" : "markdown",
"metadata" : {},
"source" : ["      *"]
}
,
{
"cell_type" : "markdown",
"metadata" : {},
"source" : ["                        +-----+    2"]
}
,
{
"cell_type" : "markdown",
"metadata" : {},
"source" : ["         log((- 4I - 8)\|I - 2  + I  + 8I - 4)"]
}
,
{
"cell_type" : "markdown",
"metadata" : {},
"source" : ["     +"]
}
,
{
"cell_type" : "markdown",
"metadata" : {},
"source" : ["                                                              +-+     2"]
}
,
{
"cell_type" : "markdown",
"metadata" : {},
"source" : ["                     2           +-+          2              \|2  - 1"]
}
,
{
"cell_type" : "markdown",
"metadata" : {},
"source" : ["               ((256I  - 1024)%e\|2  + (- 256I  + 1024)%e)(%e        )"]
}
,
{
"cell_type" : "markdown",
"metadata" : {},
"source" : ["             +"]
}
,
{
"cell_type" : "markdown",
"metadata" : {},
"source" : ["                       2          2          3                  2"]
}
,
{
"cell_type" : "markdown",
"metadata" : {},
"source" : ["                 ((256I  - 1024)%e  + (- 256I  + 1024I)%e + 256I  - 1024)"]
}
,
{
"cell_type" : "markdown",
"metadata" : {},
"source" : ["              *"]
}
,
{
"cell_type" : "markdown",
"metadata" : {},
"source" : ["                    +-+"]
}
,
{
"cell_type" : "markdown",
"metadata" : {},
"source" : ["                   \|2  - 1"]
}
,
{
"cell_type" : "markdown",
"metadata" : {},
"source" : ["                 %e"]
}
,
{
"cell_type" : "markdown",
"metadata" : {},
"source" : ["             +"]
}
,
{
"cell_type" : "markdown",
"metadata" : {},
"source" : ["                      2           +-+          2"]
}
,
{
"cell_type" : "markdown",
"metadata" : {},
"source" : ["               (- 256I  + 1024)%e\|2  + (- 256I  + 1024)%e"]
}
,
{
"cell_type" : "markdown",
"metadata" : {},
"source" : ["          *"]
}
,
{
"cell_type" : "markdown",
"metadata" : {},
"source" : ["              +-------+"]
}
,
{
"cell_type" : "markdown",
"metadata" : {},
"source" : ["             \|- I - 2"]
}
,
{
"cell_type" : "markdown",
"metadata" : {},
"source" : ["         +"]
}
,
{
"cell_type" : "markdown",
"metadata" : {},
"source" : ["                     3       2                  +-+"]
}
,
{
"cell_type" : "markdown",
"metadata" : {},
"source" : ["               (- 64I  + 384I  + 1280I + 512)%e\|2"]
}
,
{
"cell_type" : "markdown",
"metadata" : {},
"source" : ["             +"]
}
,
{
"cell_type" : "markdown",
"metadata" : {},
"source" : ["                   3       2"]
}
,
{
"cell_type" : "markdown",
"metadata" : {},
"source" : ["               (64I  - 384I  - 1280I - 512)%e"]
}
,
{
"cell_type" : "markdown",
"metadata" : {},
"source" : ["          *"]
}
,
{
"cell_type" : "markdown",
"metadata" : {},
"source" : ["                 +-+     2"]
}
,
{
"cell_type" : "markdown",
"metadata" : {},
"source" : ["                \|2  - 1"]
}
,
{
"cell_type" : "markdown",
"metadata" : {},
"source" : ["             (%e        )"]
}
,
{
"cell_type" : "markdown",
"metadata" : {},
"source" : ["         +"]
}
,
{
"cell_type" : "markdown",
"metadata" : {},
"source" : ["                     3       2                 2"]
}
,
{
"cell_type" : "markdown",
"metadata" : {},
"source" : ["               (- 64I  + 384I  + 1280I + 512)%e"]
}
,
{
"cell_type" : "markdown",
"metadata" : {},
"source" : ["             +"]
}
,
{
"cell_type" : "markdown",
"metadata" : {},
"source" : ["                  5      4       3        2                      3       2"]
}
,
{
"cell_type" : "markdown",
"metadata" : {},
"source" : ["               (4I  + 72I  - 288I  - 1088I  + 64I + 1152)%e - 64I  + 384I"]
}
,
{
"cell_type" : "markdown",
"metadata" : {},
"source" : ["             +"]
}
,
{
"cell_type" : "markdown",
"metadata" : {},
"source" : ["               1280I + 512"]
}
,
{
"cell_type" : "markdown",
"metadata" : {},
"source" : ["          *"]
}
,
{
"cell_type" : "markdown",
"metadata" : {},
"source" : ["                +-+"]
}
,
{
"cell_type" : "markdown",
"metadata" : {},
"source" : ["               \|2  - 1"]
}
,
{
"cell_type" : "markdown",
"metadata" : {},
"source" : ["             %e"]
}
,
{
"cell_type" : "markdown",
"metadata" : {},
"source" : ["         +"]
}
,
{
"cell_type" : "markdown",
"metadata" : {},
"source" : ["              3       2                  +-+       3       2"]
}
,
{
"cell_type" : "markdown",
"metadata" : {},
"source" : ["          (64I  - 384I  - 1280I - 512)%e\|2  + (64I  - 384I  - 1280I - 512)%e"]
}
,
{
"cell_type" : "markdown",
"metadata" : {},
"source" : ["      *"]
}
,
{
"cell_type" : "markdown",
"metadata" : {},
"source" : ["          +-----+"]
}
,
{
"cell_type" : "markdown",
"metadata" : {},
"source" : ["         \|I - 2"]
}
,
{
"cell_type" : "markdown",
"metadata" : {},
"source" : ["     +"]
}
,
{
"cell_type" : "markdown",
"metadata" : {},
"source" : ["                     3       2                  +-+"]
}
,
{
"cell_type" : "markdown",
"metadata" : {},
"source" : ["               (- 64I  - 384I  + 1280I - 512)%e\|2"]
}
,
{
"cell_type" : "markdown",
"metadata" : {},
"source" : ["             +"]
}
,
{
"cell_type" : "markdown",
"metadata" : {},
"source" : ["                   3       2"]
}
,
{
"cell_type" : "markdown",
"metadata" : {},
"source" : ["               (64I  + 384I  - 1280I + 512)%e"]
}
,
{
"cell_type" : "markdown",
"metadata" : {},
"source" : ["          *"]
}
,
{
"cell_type" : "markdown",
"metadata" : {},
"source" : ["                 +-+     2"]
}
,
{
"cell_type" : "markdown",
"metadata" : {},
"source" : ["                \|2  - 1"]
}
,
{
"cell_type" : "markdown",
"metadata" : {},
"source" : ["             (%e        )"]
}
,
{
"cell_type" : "markdown",
"metadata" : {},
"source" : ["         +"]
}
,
{
"cell_type" : "markdown",
"metadata" : {},
"source" : ["                     3       2                 2"]
}
,
{
"cell_type" : "markdown",
"metadata" : {},
"source" : ["               (- 64I  - 384I  + 1280I - 512)%e"]
}
,
{
"cell_type" : "markdown",
"metadata" : {},
"source" : ["             +"]
}
,
{
"cell_type" : "markdown",
"metadata" : {},
"source" : ["                    5      4       3        2                      3       2"]
}
,
{
"cell_type" : "markdown",
"metadata" : {},
"source" : ["               (- 4I  + 72I  + 288I  - 1088I  - 64I + 1152)%e - 64I  - 384I"]
}
,
{
"cell_type" : "markdown",
"metadata" : {},
"source" : ["             +"]
}
,
{
"cell_type" : "markdown",
"metadata" : {},
"source" : ["               1280I - 512"]
}
,
{
"cell_type" : "markdown",
"metadata" : {},
"source" : ["          *"]
}
,
{
"cell_type" : "markdown",
"metadata" : {},
"source" : ["                +-+"]
}
,
{
"cell_type" : "markdown",
"metadata" : {},
"source" : ["               \|2  - 1"]
}
,
{
"cell_type" : "markdown",
"metadata" : {},
"source" : ["             %e"]
}
,
{
"cell_type" : "markdown",
"metadata" : {},
"source" : ["         +"]
}
,
{
"cell_type" : "markdown",
"metadata" : {},
"source" : ["              3       2                  +-+       3       2"]
}
,
{
"cell_type" : "markdown",
"metadata" : {},
"source" : ["          (64I  + 384I  - 1280I + 512)%e\|2  + (64I  + 384I  - 1280I + 512)%e"]
}
,
{
"cell_type" : "markdown",
"metadata" : {},
"source" : ["      *"]
}
,
{
"cell_type" : "markdown",
"metadata" : {},
"source" : ["          +-------+"]
}
,
{
"cell_type" : "markdown",
"metadata" : {},
"source" : ["         \|- I - 2"]
}
,
{
"cell_type" : "markdown",
"metadata" : {},
"source" : ["     +"]
}
,
{
"cell_type" : "markdown",
"metadata" : {},
"source" : ["                                                                    +-+     2"]
}
,
{
"cell_type" : "markdown",
"metadata" : {},
"source" : ["            4        2          +-+         4        2             \|2  - 1"]
}
,
{
"cell_type" : "markdown",
"metadata" : {},
"source" : ["       ((16I  - 1152I  + 256)%e\|2  + (- 16I  + 1152I  - 256)%e)(%e        )"]
}
,
{
"cell_type" : "markdown",
"metadata" : {},
"source" : ["     +"]
}
,
{
"cell_type" : "markdown",
"metadata" : {},
"source" : ["            4        2         2         5       3                 4        2"]
}
,
{
"cell_type" : "markdown",
"metadata" : {},
"source" : ["        (16I  - 1152I  + 256)%e  + (- 32I  + 768I  - 2560I)%e + 16I  - 1152I"]
}
,
{
"cell_type" : "markdown",
"metadata" : {},
"source" : ["         +"]
}
,
{
"cell_type" : "markdown",
"metadata" : {},
"source" : ["           256"]
}
,
{
"cell_type" : "markdown",
"metadata" : {},
"source" : ["      *"]
}
,
{
"cell_type" : "markdown",
"metadata" : {},
"source" : ["            +-+"]
}
,
{
"cell_type" : "markdown",
"metadata" : {},
"source" : ["           \|2  - 1"]
}
,
{
"cell_type" : "markdown",
"metadata" : {},
"source" : ["         %e"]
}
,
{
"cell_type" : "markdown",
"metadata" : {},
"source" : ["     +"]
}
,
{
"cell_type" : "markdown",
"metadata" : {},
"source" : ["             4        2          +-+         4        2"]
}
,
{
"cell_type" : "markdown",
"metadata" : {},
"source" : ["       (- 16I  + 1152I  - 256)%e\|2  + (- 16I  + 1152I  - 256)%e"]
}
,
{
"cell_type" : "markdown",
"metadata" : {},
"source" : ["  /"]
}
,
{
"cell_type" : "markdown",
"metadata" : {},
"source" : ["                               +-+"]
}
,
{
"cell_type" : "markdown",
"metadata" : {},
"source" : ["                2             \|2  - 1 +-------+"]
}
,
{
"cell_type" : "markdown",
"metadata" : {},
"source" : ["           (256I  - 1024)%e %e        \|- I - 2"]
}
,
{
"cell_type" : "markdown",
"metadata" : {},
"source" : ["         +"]
}
,
{
"cell_type" : "markdown",
"metadata" : {},
"source" : ["                                               +-+"]
}
,
{
"cell_type" : "markdown",
"metadata" : {},
"source" : ["                 3       2                    \|2  - 1"]
}
,
{
"cell_type" : "markdown",
"metadata" : {},
"source" : ["           (- 64I  + 384I  + 1280I + 512)%e %e"]
}
,
{
"cell_type" : "markdown",
"metadata" : {},
"source" : ["      *"]
}
,
{
"cell_type" : "markdown",
"metadata" : {},
"source" : ["          +-----+"]
}
,
{
"cell_type" : "markdown",
"metadata" : {},
"source" : ["         \|I - 2"]
}
,
{
"cell_type" : "markdown",
"metadata" : {},
"source" : ["     +"]
}
,
{
"cell_type" : "markdown",
"metadata" : {},
"source" : ["                                           +-+"]
}
,
{
"cell_type" : "markdown",
"metadata" : {},
"source" : ["             3       2                    \|2  - 1 +-------+"]
}
,
{
"cell_type" : "markdown",
"metadata" : {},
"source" : ["       (- 64I  - 384I  + 1280I - 512)%e %e        \|- I - 2"]
}
,
{
"cell_type" : "markdown",
"metadata" : {},
"source" : ["     +"]
}
,
{
"cell_type" : "markdown",
"metadata" : {},
"source" : ["                                  +-+"]
}
,
{
"cell_type" : "markdown",
"metadata" : {},
"source" : ["           4        2            \|2  - 1"]
}
,
{
"cell_type" : "markdown",
"metadata" : {},
"source" : ["       (16I  - 1152I  + 256)%e %e"]
}
,
{
"cell_type" : "markdown",
"metadata" : {},
"source" : ["                    Type: Union(f1: OrderedCompletion Expression Integer,...)"]
}
,
{
"cell_type" : "code",
"execution_count": null,
"metadata" : {
    "collapsed" : false
},
"source" : ["in2992a:=integrate(acoth(1-z^(1/2))+log(1+z^(1/3)), z= 1..%plusInfinity,\"noPole\")"],
"outputs": []
}
,
{
"cell_type" : "markdown",
"metadata" : {},
"source" : [""]
}
,
{
"cell_type" : "markdown",
"metadata" : {},
"source" : ["   + infinity"]
}
,
{
"cell_type" : "markdown",
"metadata" : {},
"source" : ["                    Type: Union(f1: OrderedCompletion Expression Integer,...)"]
}
,
{
"cell_type" : "code",
"execution_count": null,
"metadata" : {
    "collapsed" : false
},
"source" : ["in2997a:=integrate(log(1+1/z^3)-log(abs(1+z)), z= %minusInfinity..%plusInfinity,\"noPole\")"],
"outputs": []
}
,
{
"cell_type" : "markdown",
"metadata" : {},
"source" : [""]
}
,
{
"cell_type" : "markdown",
"metadata" : {},
"source" : ["  - infinity"]
}
,
{
"cell_type" : "markdown",
"metadata" : {},
"source" : ["                    Type: Union(f1: OrderedCompletion Expression Integer,...)"]
}
,
{
"cell_type" : "code",
"execution_count": null,
"metadata" : {
    "collapsed" : false
},
"source" : ["in3001a:=integrate(((I*z)^(1/2)-1)/(-2+(I*z)^(1/2)), z= 0..%plusInfinity,\"noPole\")"],
"outputs": []
}
,
{
"cell_type" : "markdown",
"metadata" : {},
"source" : [""]
}
,
{
"cell_type" : "markdown",
"metadata" : {},
"source" : ["   + infinity"]
}
,
{
"cell_type" : "markdown",
"metadata" : {},
"source" : ["                    Type: Union(f1: OrderedCompletion Expression Integer,...)"]
}
,
{
"cell_type" : "code",
"execution_count": null,
"metadata" : {
    "collapsed" : false
},
"source" : ["in3008a:=integrate(exp(-z^(1/3))+atanh(1/z^(1/2)), z= 0..%plusInfinity,\"noPole\")"],
"outputs": []
}
,
{
"cell_type" : "markdown",
"metadata" : {},
"source" : [""]
}
,
{
"cell_type" : "markdown",
"metadata" : {},
"source" : ["   + infinity"]
}
,
{
"cell_type" : "markdown",
"metadata" : {},
"source" : ["                    Type: Union(f1: OrderedCompletion Expression Integer,...)"]
}
,
{
"cell_type" : "code",
"execution_count": null,
"metadata" : {
    "collapsed" : false
},
"source" : ["in303a:=integrate(1/(1+cosh(n*z)^2), z= 0..1,\"noPole\")"],
"outputs": []
}
,
{
"cell_type" : "markdown",
"metadata" : {},
"source" : [""]
}
,
{
"cell_type" : "markdown",
"metadata" : {},
"source" : ["       log"]
}
,
{
"cell_type" : "markdown",
"metadata" : {},
"source" : ["                     +-+           - n 8          +-+          - n 6"]
}
,
{
"cell_type" : "markdown",
"metadata" : {},
"source" : ["              (- 816\|2  + 1154)(%e   )  + (- 560\|2  + 792)(%e   )"]
}
,
{
"cell_type" : "markdown",
"metadata" : {},
"source" : ["            +"]
}
,
{
"cell_type" : "markdown",
"metadata" : {},
"source" : ["                     +-+          - n 4         +-+         - n 2"]
}
,
{
"cell_type" : "markdown",
"metadata" : {},
"source" : ["              (- 144\|2  + 204)(%e   )  + (- 16\|2  + 24)(%e   )  + 2"]
}
,
{
"cell_type" : "markdown",
"metadata" : {},
"source" : ["         /"]
}
,
{
"cell_type" : "markdown",
"metadata" : {},
"source" : ["               - n 8        - n 6        - n 4        - n 2"]
}
,
{
"cell_type" : "markdown",
"metadata" : {},
"source" : ["            (%e   )  + 12(%e   )  + 38(%e   )  + 12(%e   )  + 1"]
}
,
{
"cell_type" : "markdown",
"metadata" : {},
"source" : ["     +"]
}
,
{
"cell_type" : "markdown",
"metadata" : {},
"source" : ["                  +-+"]
}
,
{
"cell_type" : "markdown",
"metadata" : {},
"source" : ["       - log(- 24\|2  + 34)"]
}
,
{
"cell_type" : "markdown",
"metadata" : {},
"source" : ["  /"]
}
,
{
"cell_type" : "markdown",
"metadata" : {},
"source" : ["        +-+"]
}
,
{
"cell_type" : "markdown",
"metadata" : {},
"source" : ["     4n\|2"]
}
,
{
"cell_type" : "markdown",
"metadata" : {},
"source" : ["                    Type: Union(f1: OrderedCompletion Expression Integer,...)"]
}
,
{
"cell_type" : "code",
"execution_count": null,
"metadata" : {
    "collapsed" : false
},
"source" : ["in314a:=integrate(1/(sin(z)-1/2), z= 0..1,\"noPole\")"],
"outputs": []
}
,
{
"cell_type" : "markdown",
"metadata" : {},
"source" : [""]
}
,
{
"cell_type" : "markdown",
"metadata" : {},
"source" : ["       log"]
}
,
{
"cell_type" : "markdown",
"metadata" : {},
"source" : ["                              2                                   2"]
}
,
{
"cell_type" : "markdown",
"metadata" : {},
"source" : ["                   - 12sin(1)  + (42cos(1) + 48)sin(1) - 36cos(1)  - 84cos(1)"]
}
,
{
"cell_type" : "markdown",
"metadata" : {},
"source" : ["                  +"]
}
,
{
"cell_type" : "markdown",
"metadata" : {},
"source" : ["                    - 48"]
}
,
{
"cell_type" : "markdown",
"metadata" : {},
"source" : ["             *"]
}
,
{
"cell_type" : "markdown",
"metadata" : {},
"source" : ["                 +-+"]
}
,
{
"cell_type" : "markdown",
"metadata" : {},
"source" : ["                \|3"]
}
,
{
"cell_type" : "markdown",
"metadata" : {},
"source" : ["            +"]
}
,
{
"cell_type" : "markdown",
"metadata" : {},
"source" : ["                     2                                     2"]
}
,
{
"cell_type" : "markdown",
"metadata" : {},
"source" : ["             21sin(1)  + (- 72cos(1) - 84)sin(1) + 63cos(1)  + 144cos(1) + 84"]
}
,
{
"cell_type" : "markdown",
"metadata" : {},
"source" : ["         /"]
}
,
{
"cell_type" : "markdown",
"metadata" : {},
"source" : ["                   2"]
}
,
{
"cell_type" : "markdown",
"metadata" : {},
"source" : ["            4sin(1)  - 4sin(1) + 1"]
}
,
{
"cell_type" : "markdown",
"metadata" : {},
"source" : ["     +"]
}
,
{
"cell_type" : "markdown",
"metadata" : {},
"source" : ["                   +-+"]
}
,
{
"cell_type" : "markdown",
"metadata" : {},
"source" : ["       - log(- 168\|3  + 291)"]
}
,
{
"cell_type" : "markdown",
"metadata" : {},
"source" : ["  /"]
}
,
{
"cell_type" : "markdown",
"metadata" : {},
"source" : ["      +-+"]
}
,
{
"cell_type" : "markdown",
"metadata" : {},
"source" : ["     \|3"]
}
,
{
"cell_type" : "markdown",
"metadata" : {},
"source" : ["                    Type: Union(f1: OrderedCompletion Expression Integer,...)"]
}
,
{
"cell_type" : "code",
"execution_count": null,
"metadata" : {
    "collapsed" : false
},
"source" : ["in317:=integrate((cos(z)^a)^(1/a), z= 0..%pi)"],
"outputs": []
}
,
{
"cell_type" : "markdown",
"metadata" : {},
"source" : [""]
}
,
{
"cell_type" : "markdown",
"metadata" : {},
"source" : ["  0"]
}
,
{
"cell_type" : "markdown",
"metadata" : {},
"source" : ["                    Type: Union(f1: OrderedCompletion Expression Integer,...)"]
}
,
{
"cell_type" : "code",
"execution_count": null,
"metadata" : {
    "collapsed" : false
},
"source" : ["in319a:=integrate(exp(-z)*atan(sin(z)/(1+cos(z))), z=0..%plusInfinity,\"noPole\")"],
"outputs": []
}
,
{
"cell_type" : "markdown",
"metadata" : {},
"source" : [""]
}
,
{
"cell_type" : "markdown",
"metadata" : {},
"source" : ["         1"]
}
,
{
"cell_type" : "markdown",
"metadata" : {},
"source" : ["         -"]
}
,
{
"cell_type" : "markdown",
"metadata" : {},
"source" : ["         2"]
}
,
{
"cell_type" : "markdown",
"metadata" : {},
"source" : ["                    Type: Union(f1: OrderedCompletion Expression Integer,...)"]
}
,
{
"cell_type" : "code",
"execution_count": null,
"metadata" : {
    "collapsed" : false
},
"source" : [""],
"outputs": []
}
 ],
"metadata": {
 "kernelspec": {
  "display_name": "FriCAS",
  "language": "spad",
  "name": "ifricas"
 },
 "language_info": {
  "codemirror_mode": "spad",
  "mimetype": "text/x-spad",
  "name": "SPAD",
  "pygments_lexer": "spad",
  "version": "1.2.6"
 },
 "name": "mapleok.ipynb"
},
"nbformat": 4,
"nbformat_minor": 0
}
